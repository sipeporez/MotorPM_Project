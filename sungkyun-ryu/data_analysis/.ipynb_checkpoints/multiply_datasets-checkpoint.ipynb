{
 "cells": [
  {
   "cell_type": "code",
   "execution_count": 1,
   "id": "cbdcd9f7-0446-4228-9a9b-4845143a5cf3",
   "metadata": {},
   "outputs": [],
   "source": [
    "import pdm_functions as fns\n",
    "import torch \n",
    "import pandas as pd \n",
    "import numpy as np \n",
    "import matplotlib.pyplot as plt"
   ]
  },
  {
   "cell_type": "code",
   "execution_count": 2,
   "id": "6fddf0cd-605d-4fd3-8fe0-17f1b6040e82",
   "metadata": {},
   "outputs": [],
   "source": [
    "df_normal = fns.csv_to_tensor_stack('dataset/5528_spec_normal.csv')\n",
    "df_error = fns.csv_to_tensor_stack('dataset/5528_spec_error.csv')"
   ]
  },
  {
   "cell_type": "code",
   "execution_count": 3,
   "id": "5a641486-5345-449a-8076-b7fe6a44f00a",
   "metadata": {},
   "outputs": [],
   "source": [
    "# num_rows = df_error.shape[0]\n",
    "# grouped_tensor_error = df_error.view(num_rows, 12, 6144)"
   ]
  },
  {
   "cell_type": "code",
   "execution_count": 4,
   "id": "9539b443-43bc-4617-9e33-c3d43815168d",
   "metadata": {},
   "outputs": [],
   "source": [
    "# grouped_tensor_error.shape"
   ]
  },
  {
   "cell_type": "code",
   "execution_count": 5,
   "id": "1eaea9f1-5079-4538-888b-8d22f20767ff",
   "metadata": {},
   "outputs": [],
   "source": [
    "# def get_random_permutation(num_groups):\n",
    "#     seed = torch.randint(0, 10000, (1,)).item()  # Generate a random seed\n",
    "#     torch.manual_seed(seed)  # Set the random seed\n",
    "#     return torch.randperm(num_groups)\n",
    "\n",
    "# # Example usage\n",
    "# for _ in range(5):  # Generate 5 different permutations\n",
    "#     permuted_indices = get_random_permutation(12)\n",
    "#     print(permuted_indices)"
   ]
  },
  {
   "cell_type": "code",
   "execution_count": 6,
   "id": "3f9a6c6e-d99e-4d83-bb25-0b9659e7b230",
   "metadata": {},
   "outputs": [],
   "source": [
    "# permuted_tensors_list_error = []\n",
    "\n",
    "# for _ in range(20): \n",
    "#     permuted_indices = fns.get_random_permutation(12)\n",
    "#     permuted_tensor = grouped_tensor_error[:, permuted_indices, :]\n",
    "    \n",
    "#     permuted_tensors_list_error.append(permuted_tensor)    "
   ]
  },
  {
   "cell_type": "code",
   "execution_count": 7,
   "id": "b1127ccf-17bb-47b3-b8b2-f5ca3772e178",
   "metadata": {},
   "outputs": [],
   "source": [
    "# permuted_tensors_list_error[0].shape"
   ]
  },
  {
   "cell_type": "code",
   "execution_count": 8,
   "id": "5d70f26f-9a0a-44bb-bde9-f1c23a383dd3",
   "metadata": {},
   "outputs": [],
   "source": [
    "# stacked_tensor_error = torch.cat(permuted_tensors_list_error, dim=0)\n",
    "# stacked_tensor_error.shape"
   ]
  },
  {
   "cell_type": "code",
   "execution_count": 9,
   "id": "f8cc540a-3c60-4c82-9885-a5bd0426f12e",
   "metadata": {},
   "outputs": [],
   "source": [
    "# final_tensor_error = stacked_tensor_error.view(-1, 73728)\n",
    "# final_tensor_error.shape"
   ]
  },
  {
   "cell_type": "code",
   "execution_count": 10,
   "id": "3ff5fb7a-e357-4008-8dbe-0dc7dee5db40",
   "metadata": {},
   "outputs": [],
   "source": [
    "# def multi_datasets(df, multi_dim=2): \n",
    "#     permuted_tensors_list = []\n",
    "#     num_rows = df.shape[0]\n",
    "#     grouped_tensor = df.view(num_rows, 12, 6144)\n",
    "\n",
    "#     for _ in range(20): \n",
    "#         permuted_indices = fns.get_random_permutation(12)\n",
    "#         permuted_tensor = grouped_tensor[:, permuted_indices, :]\n",
    "        \n",
    "#         permuted_tensors_list_.append(permuted_tensor)\n",
    "\n",
    "#     stacked_tensor = torch.cat(permuted_tensors_list, dim=0)\n",
    "#     final_tensor = stacked_tensor.view(-1, 73728)\n",
    "\n",
    "#     return final_tensor\n",
    "    "
   ]
  },
  {
   "cell_type": "code",
   "execution_count": 11,
   "id": "28222aa9-7f05-47e4-9575-a269fa9ddabb",
   "metadata": {},
   "outputs": [
    {
     "ename": "NameError",
     "evalue": "name 'fns' is not defined",
     "output_type": "error",
     "traceback": [
      "\u001b[1;31m---------------------------------------------------------------------------\u001b[0m",
      "\u001b[1;31mNameError\u001b[0m                                 Traceback (most recent call last)",
      "Cell \u001b[1;32mIn[11], line 1\u001b[0m\n\u001b[1;32m----> 1\u001b[0m bogus_error \u001b[38;5;241m=\u001b[39m \u001b[43mfns\u001b[49m\u001b[38;5;241;43m.\u001b[39;49m\u001b[43mmulti_datasets\u001b[49m\u001b[43m(\u001b[49m\u001b[43mdf_error\u001b[49m\u001b[43m,\u001b[49m\u001b[43m \u001b[49m\u001b[43mmulti_dim\u001b[49m\u001b[38;5;241;43m=\u001b[39;49m\u001b[43m \u001b[49m\u001b[38;5;241;43m4\u001b[39;49m\u001b[43m)\u001b[49m\n",
      "File \u001b[1;32mC:\\SK\\ai_proj\\data_analysis\\pdm_functions.py:195\u001b[0m, in \u001b[0;36mmulti_datasets\u001b[1;34m(df, multi_dim)\u001b[0m\n\u001b[0;32m    192\u001b[0m grouped_tensor \u001b[38;5;241m=\u001b[39m df\u001b[38;5;241m.\u001b[39mview(num_rows, \u001b[38;5;241m12\u001b[39m, \u001b[38;5;241m6144\u001b[39m)\n\u001b[0;32m    194\u001b[0m \u001b[38;5;28;01mfor\u001b[39;00m _ \u001b[38;5;129;01min\u001b[39;00m \u001b[38;5;28mrange\u001b[39m(\u001b[38;5;241m20\u001b[39m): \n\u001b[1;32m--> 195\u001b[0m     permuted_indices \u001b[38;5;241m=\u001b[39m \u001b[43mfns\u001b[49m\u001b[38;5;241m.\u001b[39mget_random_permutation(\u001b[38;5;241m12\u001b[39m)\n\u001b[0;32m    196\u001b[0m     permuted_tensor \u001b[38;5;241m=\u001b[39m grouped_tensor[:, permuted_indices, :]\n\u001b[0;32m    198\u001b[0m     permuted_tensors_list_\u001b[38;5;241m.\u001b[39mappend(permuted_tensor)\n",
      "\u001b[1;31mNameError\u001b[0m: name 'fns' is not defined"
     ]
    }
   ],
   "source": [
    "bogus_error = fns.multi_datasets(df_error, multi_dim= 4)"
   ]
  },
  {
   "cell_type": "code",
   "execution_count": null,
   "id": "50132c3f-9c96-43ef-bd30-e60b2543029d",
   "metadata": {},
   "outputs": [],
   "source": []
  },
  {
   "cell_type": "code",
   "execution_count": null,
   "id": "4cbfdaf5-58f8-4a27-b832-ce0608e6e16b",
   "metadata": {},
   "outputs": [],
   "source": []
  }
 ],
 "metadata": {
  "kernelspec": {
   "display_name": "Python 3 (ipykernel)",
   "language": "python",
   "name": "python3"
  },
  "language_info": {
   "codemirror_mode": {
    "name": "ipython",
    "version": 3
   },
   "file_extension": ".py",
   "mimetype": "text/x-python",
   "name": "python",
   "nbconvert_exporter": "python",
   "pygments_lexer": "ipython3",
   "version": "3.12.4"
  }
 },
 "nbformat": 4,
 "nbformat_minor": 5
}
