{
 "cells": [
  {
   "cell_type": "code",
   "execution_count": 1,
   "id": "c92f4af4-19c2-4652-a7ee-0586d8c17d82",
   "metadata": {},
   "outputs": [],
   "source": [
    "import pandas as pd \n",
    "import numpy as np \n",
    "import matplotlib.pyplot as plt \n",
    "import seaborn \n",
    "import process_fns as pfns\n",
    "import pdm_functions as fns\n",
    "import torch\n"
   ]
  },
  {
   "cell_type": "code",
   "execution_count": 2,
   "id": "aaa321bc-6e9a-49f6-a07d-c8a21d92ac2b",
   "metadata": {},
   "outputs": [],
   "source": [
    "data = pfns.to_stack('dataset/5528_droped_data.csv', 'cls') "
   ]
  },
  {
   "cell_type": "code",
   "execution_count": 3,
   "id": "8aac582f-7bd8-4ac0-bda7-3757345355bb",
   "metadata": {},
   "outputs": [],
   "source": [
    "X_train, y_train = data[0][0], data[0][1]\n",
    "X_test, y_test = data[1][0], data[1][1]\n",
    "X_dev, y_dev = data[2][0], data[2][1]"
   ]
  },
  {
   "cell_type": "code",
   "execution_count": 4,
   "id": "b1602312-af03-4809-9332-b8478047b26e",
   "metadata": {},
   "outputs": [
    {
     "data": {
      "text/plain": [
       "(torch.Size([1452, 3, 2048]), torch.Size([1452]))"
      ]
     },
     "execution_count": 4,
     "metadata": {},
     "output_type": "execute_result"
    }
   ],
   "source": [
    "X_train.shape, y_train.shape"
   ]
  },
  {
   "cell_type": "code",
   "execution_count": 5,
   "id": "fdcd3614-b766-47c9-a02b-a8c0c378ac66",
   "metadata": {},
   "outputs": [
    {
     "data": {
      "text/plain": [
       "tensor([1, 1, 1,  ..., 0, 0, 0])"
      ]
     },
     "execution_count": 5,
     "metadata": {},
     "output_type": "execute_result"
    }
   ],
   "source": [
    "y_train"
   ]
  },
  {
   "cell_type": "code",
   "execution_count": 6,
   "id": "398921ed-7b7a-4bd6-ab97-b2cfeec0bbe4",
   "metadata": {},
   "outputs": [],
   "source": [
    "y_train = y_train.reshape(121,12)"
   ]
  },
  {
   "cell_type": "code",
   "execution_count": 7,
   "id": "ec7e18b2-ef8d-48a6-a460-f9328d2890a7",
   "metadata": {},
   "outputs": [
    {
     "data": {
      "text/plain": [
       "torch.Size([121, 12])"
      ]
     },
     "execution_count": 7,
     "metadata": {},
     "output_type": "execute_result"
    }
   ],
   "source": [
    "y_train.shape"
   ]
  },
  {
   "cell_type": "code",
   "execution_count": 8,
   "id": "e14fa637-64da-40d7-b30e-a389f2c421a1",
   "metadata": {},
   "outputs": [
    {
     "data": {
      "text/plain": [
       "tensor([[1, 1, 1,  ..., 1, 1, 1],\n",
       "        [1, 1, 1,  ..., 1, 1, 1],\n",
       "        [1, 1, 1,  ..., 1, 1, 1],\n",
       "        ...,\n",
       "        [0, 0, 0,  ..., 0, 0, 0],\n",
       "        [0, 0, 0,  ..., 0, 0, 0],\n",
       "        [0, 0, 0,  ..., 0, 0, 0]])"
      ]
     },
     "execution_count": 8,
     "metadata": {},
     "output_type": "execute_result"
    }
   ],
   "source": [
    "y_train"
   ]
  },
  {
   "cell_type": "code",
   "execution_count": 9,
   "id": "210c2da3-2694-4a03-880a-582348cad89d",
   "metadata": {},
   "outputs": [],
   "source": [
    "y_train = torch.tensor([y_train[i][0].item() for i in range(y_train.shape[0])])"
   ]
  },
  {
   "cell_type": "code",
   "execution_count": 10,
   "id": "48873732-e694-4dd0-9560-f6555b1b308d",
   "metadata": {},
   "outputs": [
    {
     "data": {
      "text/plain": [
       "torch.Size([121])"
      ]
     },
     "execution_count": 10,
     "metadata": {},
     "output_type": "execute_result"
    }
   ],
   "source": [
    "y_train.shape"
   ]
  },
  {
   "cell_type": "code",
   "execution_count": 11,
   "id": "a0135267-fc1a-43e1-a4f3-4c564a86af59",
   "metadata": {},
   "outputs": [],
   "source": [
    "X_train_grouped = X_train.reshape(121, 1, 36, 2048)"
   ]
  },
  {
   "cell_type": "code",
   "execution_count": 12,
   "id": "a1cc5a63-7a92-44b7-897a-116043639898",
   "metadata": {},
   "outputs": [
    {
     "data": {
      "text/plain": [
       "torch.Size([121, 1, 36, 2048])"
      ]
     },
     "execution_count": 12,
     "metadata": {},
     "output_type": "execute_result"
    }
   ],
   "source": [
    "X_train_grouped.shape"
   ]
  },
  {
   "cell_type": "code",
   "execution_count": 13,
   "id": "3000ec35-f22b-4404-bf42-79f0db5b2d39",
   "metadata": {},
   "outputs": [
    {
     "name": "stdout",
     "output_type": "stream",
     "text": [
      "tensor([ 9,  1,  2,  6, 11,  0,  4,  5,  7, 10,  8,  3])\n"
     ]
    }
   ],
   "source": [
    "# X_train_grouped.shape[0]\n",
    "\n",
    "num_dates = X_train_grouped.shape[0]\n",
    "num_rows = X_train_grouped[0][0].shape[0]\n",
    "num_groups = 12\n",
    "num_features = X_train_grouped[0][0][0].shape[0]\n",
    "\n",
    "\n",
    "grouped_tensor = X_train_grouped.view(num_dates, 1 ,num_groups, int(num_rows/num_groups), -1)\n",
    "\n",
    "# grouped_tensor.shape\n",
    "\n",
    "permuted_indices = fns.get_random_permutation(12)\n",
    "permuted_tensor = grouped_tensor[:, :, permuted_indices, :, :]\n",
    "\n",
    "print(permuted_indices)\n",
    "\n"
   ]
  },
  {
   "cell_type": "code",
   "execution_count": 14,
   "id": "a9b07f6d-3d62-4526-b7dd-3859a7b4782c",
   "metadata": {},
   "outputs": [
    {
     "data": {
      "text/plain": [
       "tensor([[2.4994e-04, 4.5668e-04, 6.2867e-04,  ..., 4.0409e-04, 1.5007e-04,\n",
       "         1.5202e-04],\n",
       "        [1.8990e-04, 1.7246e-04, 1.9197e-04,  ..., 4.3522e-04, 3.7189e-04,\n",
       "         1.0465e-04],\n",
       "        [7.9423e-05, 2.4039e-04, 3.9576e-04,  ..., 1.5194e-04, 8.5624e-05,\n",
       "         2.2916e-04]])"
      ]
     },
     "execution_count": 14,
     "metadata": {},
     "output_type": "execute_result"
    }
   ],
   "source": [
    "# permuted_tensor.shape\n",
    "\n",
    "# grouped_tensor.shape\n",
    "\n",
    "grouped_tensor[2][0][7]\n",
    "\n",
    "# permuted_tensor.shape[1]"
   ]
  },
  {
   "cell_type": "code",
   "execution_count": 15,
   "id": "6990c511-0a00-4f79-98f8-f35c442013da",
   "metadata": {},
   "outputs": [
    {
     "data": {
      "text/plain": [
       "tensor([[0.0003, 0.0004, 0.0003,  ..., 0.0003, 0.0003, 0.0002],\n",
       "        [0.0001, 0.0002, 0.0002,  ..., 0.0001, 0.0003, 0.0003],\n",
       "        [0.0003, 0.0005, 0.0004,  ..., 0.0003, 0.0003, 0.0003]])"
      ]
     },
     "execution_count": 15,
     "metadata": {},
     "output_type": "execute_result"
    }
   ],
   "source": [
    "permuted_tensor[2][0][0]"
   ]
  },
  {
   "cell_type": "code",
   "execution_count": 16,
   "id": "a3463d0e-aa19-41a7-9da6-55628995cc30",
   "metadata": {},
   "outputs": [],
   "source": [
    "# def multi_datasets_stacks(df, multi_dim, num_groups): \n",
    "#     permuted_tensors_list = []\n",
    "#     num_dates = df.shape[0]\n",
    "#     num_rows = df[0][0].shape[0]\n",
    "#     num_features = df[0][0][0].shape[0]\n",
    "#     grouped_tensor = df.view(num_dates, 1 ,num_groups, int(num_rows/num_groups), -1)\n",
    "\n",
    "#     for _ in range(multi_dim): \n",
    "#         permuted_indices = fns.get_random_permutation(12)\n",
    "#         permuted_tensor = grouped_tensor[:, :, permuted_indices, :, :]\n",
    "        \n",
    "#         permuted_tensors_list.append(permuted_tensor)\n",
    "\n",
    "#     stacked_tensor = torch.cat(permuted_tensors_list, dim=0)\n",
    "#     final_tensor = stacked_tensor.view(-1, 1, num_rows, num_features)\n",
    "\n",
    "#     return final_tensor"
   ]
  },
  {
   "cell_type": "code",
   "execution_count": 17,
   "id": "f8c4d47f-1541-457e-afca-bf81e5a0fcf6",
   "metadata": {},
   "outputs": [],
   "source": [
    "# a = multi_datasets(X_train_grouped, 4, 12)"
   ]
  },
  {
   "cell_type": "code",
   "execution_count": 18,
   "id": "5059c641-41d4-4363-b58e-b857673a0e64",
   "metadata": {},
   "outputs": [],
   "source": [
    "# a.shape"
   ]
  },
  {
   "cell_type": "code",
   "execution_count": 19,
   "id": "25ddff99-a78f-4f57-9a4b-14551625673c",
   "metadata": {},
   "outputs": [],
   "source": [
    "# permuted_indices = fns.get_random_permutation(12)\n",
    "# permuted_indices"
   ]
  },
  {
   "cell_type": "markdown",
   "id": "79496c78-8c23-45af-b771-70aad117f81b",
   "metadata": {},
   "source": [
    "## Multiplying Stacked Data"
   ]
  },
  {
   "cell_type": "code",
   "execution_count": 20,
   "id": "80fb8b00-ce5b-404f-adf4-0eba93115c84",
   "metadata": {},
   "outputs": [],
   "source": [
    "X_train_aug = fns.multi_datasets_stacks(X_train_grouped, multi_dim=500, num_groups=12)"
   ]
  },
  {
   "cell_type": "code",
   "execution_count": 22,
   "id": "e4097a3f-623f-4872-b5b9-1a8b39feda42",
   "metadata": {},
   "outputs": [],
   "source": [
    "y_train_aug = y_train.repeat(500)"
   ]
  },
  {
   "cell_type": "code",
   "execution_count": 23,
   "id": "1d039384-ff75-4d48-838d-e4856e95e104",
   "metadata": {},
   "outputs": [
    {
     "data": {
      "text/plain": [
       "(torch.Size([60500, 1, 36, 2048]), torch.Size([60500]))"
      ]
     },
     "execution_count": 23,
     "metadata": {},
     "output_type": "execute_result"
    }
   ],
   "source": [
    "X_train_aug.shape, y_train_aug.shape"
   ]
  },
  {
   "cell_type": "code",
   "execution_count": 25,
   "id": "8e1c2507-ae59-4c4d-b72e-b0ee3b9c6353",
   "metadata": {},
   "outputs": [],
   "source": [
    "import pickle"
   ]
  },
  {
   "cell_type": "code",
   "execution_count": 29,
   "id": "71ecee52-9596-4d3d-89f0-3200949959a1",
   "metadata": {},
   "outputs": [],
   "source": [
    "# file_path = 'dataset/train_datasets/train_data_stacked.pkl'\n",
    "# with open (file_path, 'wb') as f:\n",
    "    # pickle.dump({'X_train_stacked': X_train_aug, 'y_train_stacked': y_train_aug}, f)\n",
    "\n",
    "file_path = 'dataset/train_datasets/train_data_stacked.pkl'\n",
    "\n",
    "torch.save({'X_train_stacked': X_train_aug, 'y_train_stacked': y_train_aug}, file_path)"
   ]
  },
  {
   "cell_type": "code",
   "execution_count": null,
   "id": "a2d6d359-884e-4ca4-82c9-f580aa347fef",
   "metadata": {},
   "outputs": [],
   "source": []
  }
 ],
 "metadata": {
  "kernelspec": {
   "display_name": "Python 3 (ipykernel)",
   "language": "python",
   "name": "python3"
  },
  "language_info": {
   "codemirror_mode": {
    "name": "ipython",
    "version": 3
   },
   "file_extension": ".py",
   "mimetype": "text/x-python",
   "name": "python",
   "nbconvert_exporter": "python",
   "pygments_lexer": "ipython3",
   "version": "3.12.4"
  }
 },
 "nbformat": 4,
 "nbformat_minor": 5
}
