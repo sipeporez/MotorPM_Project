{
 "cells": [
  {
   "cell_type": "code",
   "execution_count": 12,
   "id": "002798bc-da34-40c5-998d-dc737ef47b95",
   "metadata": {},
   "outputs": [],
   "source": [
    "import pandas as pd\n",
    "import numpy as np \n",
    "import matplotlib.pyplot as plt\n",
    "import seaborn as sns\n",
    "import torch\n",
    "import torch.nn as nn\n",
    "import os\n",
    "from itertools import chain\n",
    "\n",
    "import torch.optim as optim\n",
    "from torch.utils.data import DataLoader, TensorDataset\n",
    "# import transform_fns as trans\n",
    "import pdm_functions as fns\n",
    "import process_fns as pfns\n",
    "from sklearn.metrics import precision_score, recall_score, f1_score, confusion_matrix\n",
    "from scipy.stats import gaussian_kde\n",
    "\n",
    "import pickle\n",
    "\n"
   ]
  },
  {
   "cell_type": "code",
   "execution_count": 13,
   "id": "bae789f6-40e0-4416-afc4-cab991c7a243",
   "metadata": {},
   "outputs": [],
   "source": [
    "# data_stacked = torch.load('dataset/train_datasets/train_data_stacked.pt', weights_only=True)"
   ]
  },
  {
   "cell_type": "code",
   "execution_count": 18,
   "id": "a96295ca-b446-40ef-95f8-7e752c089ee5",
   "metadata": {},
   "outputs": [],
   "source": [
    "dev_stacked = torch.load('dataset/train_datasets/dev_data_stacked.pt', weights_only=True)\n",
    "test_stacked = torch.load('dataset/train_datasets/test_data_stacked.pt', weights_only=True)\n",
    "data_stacked_for_model_structure = torch.load('dataset/train_datasets/train_set_for_model_structure.pt', weights_only=True)"
   ]
  },
  {
   "cell_type": "code",
   "execution_count": null,
   "id": "31865d54-9e80-4007-ba22-6d136bffaa4f",
   "metadata": {},
   "outputs": [],
   "source": []
  },
  {
   "cell_type": "code",
   "execution_count": null,
   "id": "13dfaa94-55ae-4d76-8051-1ca489985701",
   "metadata": {},
   "outputs": [],
   "source": []
  },
  {
   "cell_type": "code",
   "execution_count": 19,
   "id": "9a2ae204-d131-49d2-95df-01f43a727c89",
   "metadata": {},
   "outputs": [],
   "source": [
    "# dev_stacked"
   ]
  },
  {
   "cell_type": "code",
   "execution_count": 20,
   "id": "c22fc987-38f2-4609-bf0d-8d501dcaa6aa",
   "metadata": {},
   "outputs": [],
   "source": [
    "# data = pfns.to_stack('dataset/5528_droped_data.csv', 'cls') "
   ]
  },
  {
   "cell_type": "code",
   "execution_count": 21,
   "id": "125cdf02-daad-43b5-a683-fb4305e89e75",
   "metadata": {},
   "outputs": [],
   "source": [
    "# X_train_model_run, y_train_model_run = data[0][0], data[0][1]\n",
    "# X_test, y_test = data[1][0], data[1][1]\n",
    "# X_dev, y_dev = data[2][0], data[2][1]\n",
    "# X_train.shape, y_train.shape"
   ]
  },
  {
   "cell_type": "code",
   "execution_count": 22,
   "id": "06add111-5b8f-4e4c-8e36-9dcfbb40bb3f",
   "metadata": {},
   "outputs": [],
   "source": [
    "# X_train = data_stacked['X_train_stacked']\n",
    "# y_train = data_stacked['y_train_stacked']\n",
    "# X_train.shape, y_train.shape"
   ]
  },
  {
   "cell_type": "code",
   "execution_count": 23,
   "id": "86bd8b4e-d564-4bfd-bf99-acb0fd7ac9de",
   "metadata": {},
   "outputs": [
    {
     "data": {
      "text/plain": [
       "(torch.Size([5275, 1, 36, 2048]), torch.Size([5275]))"
      ]
     },
     "execution_count": 23,
     "metadata": {},
     "output_type": "execute_result"
    }
   ],
   "source": [
    "X_train_for_model = data_stacked_for_model_structure['X_train_for_model_structure']\n",
    "y_train_for_model = data_stacked_for_model_structure['y_train_for_model_structure']\n",
    "X_train_for_model.shape, y_train_for_model.shape"
   ]
  },
  {
   "cell_type": "code",
   "execution_count": 24,
   "id": "d10ab53c-46e8-4580-85da-7e289ef62bd0",
   "metadata": {},
   "outputs": [
    {
     "data": {
      "text/plain": [
       "(torch.Size([37, 1, 36, 2048]), torch.Size([37]))"
      ]
     },
     "execution_count": 24,
     "metadata": {},
     "output_type": "execute_result"
    }
   ],
   "source": [
    "X_dev = dev_stacked['X_dev_stacked']\n",
    "y_dev = dev_stacked['y_dev_stacked']\n",
    "X_dev.shape, y_dev.shape"
   ]
  },
  {
   "cell_type": "code",
   "execution_count": 25,
   "id": "fe405d57-307a-448e-97d1-05841f694532",
   "metadata": {},
   "outputs": [
    {
     "data": {
      "text/plain": [
       "(torch.Size([37, 1, 36, 2048]), torch.Size([37]))"
      ]
     },
     "execution_count": 25,
     "metadata": {},
     "output_type": "execute_result"
    }
   ],
   "source": [
    "X_test = test_stacked['X_test_stacked']\n",
    "y_test = test_stacked['y_test_stacked']\n",
    "X_test.shape, y_test.shape"
   ]
  },
  {
   "cell_type": "code",
   "execution_count": 26,
   "id": "7b7d5b22-3f20-4813-80e0-50bda1d229e1",
   "metadata": {},
   "outputs": [],
   "source": [
    "# X_train = X_train.reshape(121, 1, 36, 2048)"
   ]
  },
  {
   "cell_type": "code",
   "execution_count": 27,
   "id": "df33e401-f0bf-49bf-84ce-c82e3711510e",
   "metadata": {},
   "outputs": [],
   "source": [
    "# X_train.shape"
   ]
  },
  {
   "cell_type": "code",
   "execution_count": 28,
   "id": "ad454d66-6ff3-49f1-a2aa-ec28e433796c",
   "metadata": {},
   "outputs": [],
   "source": [
    "# X_train_stacked = X_train"
   ]
  },
  {
   "cell_type": "code",
   "execution_count": 29,
   "id": "b7813ed8-2615-4e1d-b4f5-5e7e969cf292",
   "metadata": {},
   "outputs": [],
   "source": [
    "# y_train_stacked = y_train"
   ]
  },
  {
   "cell_type": "code",
   "execution_count": 30,
   "id": "e2793429-5a40-4808-b265-bc0e216ebd2f",
   "metadata": {},
   "outputs": [],
   "source": [
    "# X_train_stacked = data_stacked['X_train_stacked']"
   ]
  },
  {
   "cell_type": "code",
   "execution_count": 31,
   "id": "00433270-e396-4db8-8c3f-473b98a8e005",
   "metadata": {},
   "outputs": [],
   "source": [
    "# y_train_stacked = data_stacked['y_train_stacked']"
   ]
  },
  {
   "cell_type": "code",
   "execution_count": 32,
   "id": "68ad2e45-0ffe-48c4-bbe0-5cb3564c4e5f",
   "metadata": {},
   "outputs": [],
   "source": [
    "# X_train_stacked.shape, y_train_stacked.shape"
   ]
  },
  {
   "cell_type": "code",
   "execution_count": 33,
   "id": "a72ba081-e861-4b10-b842-2edb84059640",
   "metadata": {
    "scrolled": true
   },
   "outputs": [],
   "source": [
    "file_path='dataset/train_datasets/5520_spectrum_x_weights.pkl'\n",
    "with open(file_path, 'rb') as f: \n",
    "    data = pickle.load(f)\n",
    "wf_x = torch.tensor(data)\n",
    "    \n",
    "file_path='dataset/train_datasets/5520_spectrum_y_weights.pkl'\n",
    "with open(file_path, 'rb') as f: \n",
    "    data = pickle.load(f)\n",
    "wf_y = torch.tensor(data)\n",
    "    \n",
    "file_path='dataset/train_datasets/5520_spectrum_z_weights.pkl'\n",
    "with open(file_path, 'rb') as f: \n",
    "    data = pickle.load(f)\n",
    "wf_z = torch.tensor(data)\n",
    "\n",
    "\n"
   ]
  },
  {
   "cell_type": "code",
   "execution_count": 19,
   "id": "d73d99d6-9ec8-4e42-85f3-b1763c5e6161",
   "metadata": {},
   "outputs": [
    {
     "data": {
      "text/plain": [
       "torch.Size([3, 2048])"
      ]
     },
     "execution_count": 19,
     "metadata": {},
     "output_type": "execute_result"
    }
   ],
   "source": [
    "wf = torch.stack((wf_x, wf_y, wf_z), dim= 0)\n",
    "wf.shape"
   ]
  },
  {
   "cell_type": "code",
   "execution_count": 20,
   "id": "7b10a502-0604-4c64-aba4-c2f29f35eb55",
   "metadata": {},
   "outputs": [
    {
     "data": {
      "text/plain": [
       "torch.Size([36, 2048])"
      ]
     },
     "execution_count": 20,
     "metadata": {},
     "output_type": "execute_result"
    }
   ],
   "source": [
    "wf = wf.repeat(12,1)\n",
    "wf.shape"
   ]
  },
  {
   "cell_type": "code",
   "execution_count": 21,
   "id": "5aef2c58-b963-4396-a444-6c2bb7178def",
   "metadata": {},
   "outputs": [
    {
     "data": {
      "text/plain": [
       "torch.Size([1, 1, 36, 2048])"
      ]
     },
     "execution_count": 21,
     "metadata": {},
     "output_type": "execute_result"
    }
   ],
   "source": [
    "wf = wf.reshape(1, 1, 36, 2048)\n",
    "wf.shape"
   ]
  },
  {
   "cell_type": "code",
   "execution_count": 22,
   "id": "c5d6295a-1523-444c-bae6-de17d03a5453",
   "metadata": {},
   "outputs": [],
   "source": [
    "wf = wf * 700000"
   ]
  },
  {
   "cell_type": "code",
   "execution_count": 23,
   "id": "f58184ac-2ab9-46ce-bd9b-ddc22b832b6f",
   "metadata": {},
   "outputs": [],
   "source": [
    "# sns.lineplot(X_train[0][0][15])"
   ]
  },
  {
   "cell_type": "code",
   "execution_count": 24,
   "id": "810cb5da-0225-427d-b7e1-b4c1abcf8b18",
   "metadata": {},
   "outputs": [],
   "source": [
    "# X_train = X_train * wf\n",
    "X_train_for_model = X_train_for_model * wf\n",
    "# X_train = X_train * 10"
   ]
  },
  {
   "cell_type": "code",
   "execution_count": 25,
   "id": "f2c2ecb2-423c-4eb0-8293-e1586a9d8e0a",
   "metadata": {},
   "outputs": [],
   "source": [
    "# X_train_model_run = X_train_model_run.reshape(121, 1, 36, 2048)"
   ]
  },
  {
   "cell_type": "code",
   "execution_count": 26,
   "id": "dc2640c2-6fc6-48ae-895c-8cedb6001cad",
   "metadata": {},
   "outputs": [],
   "source": [
    "# X_train_model_run = X_train_model_run * wf * 1000000"
   ]
  },
  {
   "cell_type": "code",
   "execution_count": 27,
   "id": "963db8eb-52e2-4156-8237-02e0db8ab043",
   "metadata": {},
   "outputs": [
    {
     "data": {
      "text/plain": [
       "(2775, 2500)"
      ]
     },
     "execution_count": 27,
     "metadata": {},
     "output_type": "execute_result"
    }
   ],
   "source": [
    "# len(y_train[y_train == 1]), len(y_train[y_train != 1]), \n",
    "len(y_train_for_model[y_train_for_model == 1]), len(y_train_for_model[y_train_for_model != 1])"
   ]
  },
  {
   "cell_type": "code",
   "execution_count": 28,
   "id": "9c327f95-8351-4a0e-9917-ccb4e6982c0e",
   "metadata": {},
   "outputs": [
    {
     "data": {
      "text/plain": [
       "<Axes: >"
      ]
     },
     "execution_count": 28,
     "metadata": {},
     "output_type": "execute_result"
    },
    {
     "data": {
      "image/png": "[encoded data removed]",
      "text/plain": [
       "<Figure size 640x480 with 1 Axes>"
      ]
     },
     "metadata": {},
     "output_type": "display_data"
    }
   ],
   "source": [
    "sns.lineplot(X_train_for_model[0][0][15]) "
   ]
  },
  {
   "cell_type": "code",
   "execution_count": 29,
   "id": "c553ff8a-663d-4f3e-92d1-66d753c71f8f",
   "metadata": {},
   "outputs": [],
   "source": [
    "X_dev = X_dev * wf "
   ]
  },
  {
   "cell_type": "code",
   "execution_count": 30,
   "id": "b7d4e37b-7790-4f16-a724-075ed6255221",
   "metadata": {},
   "outputs": [
    {
     "data": {
      "text/plain": [
       "<Axes: >"
      ]
     },
     "execution_count": 30,
     "metadata": {},
     "output_type": "execute_result"
    },
    {
     "data": {
      "image/png": "[encoded data removed]",
      "text/plain": [
       "<Figure size 640x480 with 1 Axes>"
      ]
     },
     "metadata": {},
     "output_type": "display_data"
    }
   ],
   "source": [
    "sns.lineplot(X_dev[0][0][2]) "
   ]
  },
  {
   "cell_type": "code",
   "execution_count": 31,
   "id": "b7aec6db-01a1-4264-835d-7fe047fc6e49",
   "metadata": {},
   "outputs": [
    {
     "data": {
      "text/plain": [
       "(torch.Size([5275, 1, 36, 2048]), torch.Size([5275]))"
      ]
     },
     "execution_count": 31,
     "metadata": {},
     "output_type": "execute_result"
    }
   ],
   "source": [
    "# X_train.shape, y_train.shape, \n",
    "X_train_for_model.shape, y_train_for_model.shape"
   ]
  },
  {
   "cell_type": "code",
   "execution_count": 32,
   "id": "ef0a1872-bb5a-4d68-98a5-c5d57e3c2301",
   "metadata": {},
   "outputs": [],
   "source": [
    "# y_train_model_run = y_train_model_run.reshape(121,12)\n",
    "# y_train_model_run = torch.tensor([y_train_model_run[i][0].item() for i in range(y_train_model_run.shape[0])])"
   ]
  },
  {
   "cell_type": "code",
   "execution_count": 33,
   "id": "91c0d77c-1b19-44ef-a1a5-bdbc36a53213",
   "metadata": {},
   "outputs": [],
   "source": [
    "# y_train = y_train.reshape(60500, 1)\n",
    "# y_train.shape"
   ]
  },
  {
   "cell_type": "code",
   "execution_count": 34,
   "id": "27402308-981f-4814-9876-fda781d2ab90",
   "metadata": {},
   "outputs": [],
   "source": [
    "# y_train_stacked = y_train_stacked.reshape(121, 12)\n"
   ]
  },
  {
   "cell_type": "code",
   "execution_count": 35,
   "id": "2129fa63-e8eb-4c64-a39b-023bb44afcb3",
   "metadata": {},
   "outputs": [],
   "source": [
    "# y_train_stacked = torch.tensor([y_train_stacked[i][0].item() for i in range(y_train_stacked.shape[0])])"
   ]
  },
  {
   "cell_type": "code",
   "execution_count": 36,
   "id": "312b52a4-e0a6-4699-a7fd-d8d6f3d6c1b8",
   "metadata": {},
   "outputs": [],
   "source": [
    "# y_train_stacked.shape"
   ]
  },
  {
   "cell_type": "code",
   "execution_count": 37,
   "id": "580cc0ae-d814-4df8-99ba-e1a933b3f65e",
   "metadata": {},
   "outputs": [],
   "source": [
    "# X_train_stacked.shape"
   ]
  },
  {
   "cell_type": "code",
   "execution_count": 38,
   "id": "8ba9e536-7d67-4c08-b30e-077a6c477c02",
   "metadata": {},
   "outputs": [],
   "source": [
    "# y_train_stacked, y_train_stacked.shape"
   ]
  },
  {
   "cell_type": "code",
   "execution_count": 39,
   "id": "80b50d9b-5f46-42cf-8dbb-b5a6f3db5053",
   "metadata": {},
   "outputs": [],
   "source": [
    "train_dataset_for_model = TensorDataset(X_train_for_model, y_train_for_model)"
   ]
  },
  {
   "cell_type": "code",
   "execution_count": 40,
   "id": "aa9d5eee-fc88-4b24-bd13-95708185995e",
   "metadata": {},
   "outputs": [],
   "source": [
    "# train_dataset = TensorDataset(X_train, y_train)"
   ]
  },
  {
   "cell_type": "code",
   "execution_count": 41,
   "id": "defe4876-42bb-424e-9beb-82e2fc7b163e",
   "metadata": {},
   "outputs": [],
   "source": [
    "# model_train_dataset = TensorDataset(X_train_model_run, y_train_model_run)"
   ]
  },
  {
   "cell_type": "code",
   "execution_count": 42,
   "id": "3da8f56e-f95d-47b0-b655-8c13fb3736e1",
   "metadata": {},
   "outputs": [],
   "source": [
    "dataloader_for_model = DataLoader(train_dataset_for_model, batch_size = 128 , shuffle=True)"
   ]
  },
  {
   "cell_type": "code",
   "execution_count": 43,
   "id": "fcb8897b-d268-40e5-9527-1883bdc20033",
   "metadata": {},
   "outputs": [],
   "source": [
    "# dataloader = DataLoader(train_dataset, batch_size = 128 , shuffle=True)"
   ]
  },
  {
   "cell_type": "code",
   "execution_count": 44,
   "id": "6968518b-9436-4482-a5fb-23b58f74f801",
   "metadata": {},
   "outputs": [],
   "source": [
    "# dataloader_model_run = DataLoader(model_train_dataset, shuffle=True)"
   ]
  },
  {
   "cell_type": "code",
   "execution_count": 45,
   "id": "6b8c83af-be4a-4b85-95f1-a1d979240951",
   "metadata": {},
   "outputs": [
    {
     "name": "stderr",
     "output_type": "stream",
     "text": [
      "100%|████████████████████████████████████████████████████████████████████████████████████████████| 2/2 [00:00<?, ?it/s]\n"
     ]
    }
   ],
   "source": [
    "X_dev= fns.multi_datasets_stacks(X_dev, multi_dim=2, num_groups=12)\n",
    "y_dev= y_dev.repeat(2)"
   ]
  },
  {
   "cell_type": "code",
   "execution_count": 108,
   "id": "1900ff7f-20b2-4ab5-b839-d376aaab6667",
   "metadata": {},
   "outputs": [
    {
     "data": {
      "text/plain": [
       "(torch.Size([74, 1, 36, 2048]), torch.Size([74]))"
      ]
     },
     "execution_count": 108,
     "metadata": {},
     "output_type": "execute_result"
    }
   ],
   "source": [
    "X_dev.shape, y_dev.shape"
   ]
  },
  {
   "cell_type": "code",
   "execution_count": 47,
   "id": "247ec5ac-b4b4-4166-b79e-ef50f004cb06",
   "metadata": {},
   "outputs": [],
   "source": [
    "dev_dataset = TensorDataset(X_dev, y_dev)"
   ]
  },
  {
   "cell_type": "code",
   "execution_count": 109,
   "id": "9a988b11-5b02-4447-ab70-f459bed7bdb8",
   "metadata": {},
   "outputs": [],
   "source": [
    "dataloader_dev = DataLoader(dev_dataset ,shuffle=True)"
   ]
  },
  {
   "cell_type": "markdown",
   "id": "8259f3b2-bfe1-4c21-b701-b74ff920c9bf",
   "metadata": {},
   "source": [
    "<span style ='color:red'> ===================================================================================================================================================================</span>"
   ]
  },
  {
   "cell_type": "markdown",
   "id": "c709933a-7500-406f-a224-f7a65159fa17",
   "metadata": {},
   "source": [
    "<span style ='color:red'> ===================================================================================================================================================================</span>"
   ]
  },
  {
   "cell_type": "markdown",
   "id": "cfcc490a-05f8-41cc-99ab-f2de9b7b9df7",
   "metadata": {},
   "source": [
    "<span style ='color:red'> ===================================================================================================================================================================</span>"
   ]
  },
  {
   "cell_type": "code",
   "execution_count": 49,
   "id": "3c79045c-a05b-44ee-b83b-e7ecc6b53f3e",
   "metadata": {},
   "outputs": [
    {
     "ename": "SyntaxError",
     "evalue": "invalid syntax (1744448917.py, line 1)",
     "output_type": "error",
     "traceback": [
      "\u001b[1;36m  Cell \u001b[1;32mIn[49], line 1\u001b[1;36m\u001b[0m\n\u001b[1;33m    STOP!!!!!\u001b[0m\n\u001b[1;37m        ^\u001b[0m\n\u001b[1;31mSyntaxError\u001b[0m\u001b[1;31m:\u001b[0m invalid syntax\n"
     ]
    }
   ],
   "source": [
    "STOP!!!!!"
   ]
  },
  {
   "cell_type": "markdown",
   "id": "537cdf40-a739-4ebc-89cd-8f1a910f1492",
   "metadata": {},
   "source": [
    "## Model Structure"
   ]
  },
  {
   "cell_type": "code",
   "execution_count": null,
   "id": "1db53166-dd04-4eea-a5d6-90f68f9ed419",
   "metadata": {},
   "outputs": [],
   "source": [
    "sns.lineplot(X_train_for_model[0][0][15])"
   ]
  },
  {
   "cell_type": "code",
   "execution_count": null,
   "id": "d9cac72b-30b0-4bd9-aad5-1eef08b6fe61",
   "metadata": {},
   "outputs": [],
   "source": [
    "model_1= torch.load('stacked_model_v0.0.1.pth')"
   ]
  },
  {
   "cell_type": "code",
   "execution_count": 113,
   "id": "d2b88b85-acc3-48e1-93f4-2a2dd949dc07",
   "metadata": {},
   "outputs": [],
   "source": [
    "learning_rate = 0.001\n",
    "num_epochs = 10\n",
    "\n",
    "model = nn.Sequential(\n",
    "    nn.Conv2d(1, 16, kernel_size=(36,4), stride=(36,4),  padding=0),\n",
    "    nn.ReLU(),\n",
    "    \n",
    "    # nn.Conv2d(16, 32, kernel_size=3, padding=1),\n",
    "    # nn.ReLU(),\n",
    "    \n",
    "    # nn.Conv2d(32, 64, kernel_size=3, padding=1),\n",
    "    # nn.ReLU(),\n",
    "    \n",
    "    nn.Flatten(),\n",
    "    nn.Linear(512, 256),  # Adjusted input size for Linear layer\n",
    "    nn.ReLU(),\n",
    "    nn.Linear(256, 2)  # Final output layer\n",
    ")\n",
    "\n",
    "criterion = nn.CrossEntropyLoss() \n",
    "optimizer = optim.Adam(model.parameters(), lr=learning_rate)"
   ]
  },
  {
   "cell_type": "markdown",
   "id": "41cfaed4-4bb9-4c68-8ed6-a9d21a28fc7f",
   "metadata": {},
   "source": [
    "## Model Training"
   ]
  },
  {
   "cell_type": "code",
   "execution_count": 114,
   "id": "57c2df3b-ff9c-4ba1-86d4-3b4b2d4d7684",
   "metadata": {},
   "outputs": [],
   "source": [
    "from tqdm import tqdm"
   ]
  },
  {
   "cell_type": "code",
   "execution_count": 115,
   "id": "59eb1a99-dd4d-4aa5-b3ed-06ef1f32843b",
   "metadata": {},
   "outputs": [
    {
     "name": "stdout",
     "output_type": "stream",
     "text": [
      "cuda\n",
      "torch.Size([1, 36, 2048])\n",
      "torch.Size([16, 1]) torch.Size([1])\n"
     ]
    },
    {
     "ename": "ValueError",
     "evalue": "Expected input batch_size (16) to match target batch_size (1).",
     "output_type": "error",
     "traceback": [
      "\u001b[1;31m---------------------------------------------------------------------------\u001b[0m",
      "\u001b[1;31mValueError\u001b[0m                                Traceback (most recent call last)",
      "Cell \u001b[1;32mIn[115], line 23\u001b[0m\n\u001b[0;32m     21\u001b[0m outputs \u001b[38;5;241m=\u001b[39m model(x_batch)\n\u001b[0;32m     22\u001b[0m \u001b[38;5;28mprint\u001b[39m(outputs\u001b[38;5;241m.\u001b[39mshape, labels\u001b[38;5;241m.\u001b[39mshape)\n\u001b[1;32m---> 23\u001b[0m loss \u001b[38;5;241m=\u001b[39m \u001b[43mcriterion\u001b[49m\u001b[43m(\u001b[49m\u001b[43moutputs\u001b[49m\u001b[43m,\u001b[49m\u001b[43m \u001b[49m\u001b[43mlabels\u001b[49m\u001b[43m)\u001b[49m\n\u001b[0;32m     25\u001b[0m loss\u001b[38;5;241m.\u001b[39mbackward()\n\u001b[0;32m     26\u001b[0m optimizer\u001b[38;5;241m.\u001b[39mstep()\n",
      "File \u001b[1;32m~\\anaconda3\\envs\\kdtproj\\Lib\\site-packages\\torch\\nn\\modules\\module.py:1553\u001b[0m, in \u001b[0;36mModule._wrapped_call_impl\u001b[1;34m(self, *args, **kwargs)\u001b[0m\n\u001b[0;32m   1551\u001b[0m     \u001b[38;5;28;01mreturn\u001b[39;00m \u001b[38;5;28mself\u001b[39m\u001b[38;5;241m.\u001b[39m_compiled_call_impl(\u001b[38;5;241m*\u001b[39margs, \u001b[38;5;241m*\u001b[39m\u001b[38;5;241m*\u001b[39mkwargs)  \u001b[38;5;66;03m# type: ignore[misc]\u001b[39;00m\n\u001b[0;32m   1552\u001b[0m \u001b[38;5;28;01melse\u001b[39;00m:\n\u001b[1;32m-> 1553\u001b[0m     \u001b[38;5;28;01mreturn\u001b[39;00m \u001b[38;5;28;43mself\u001b[39;49m\u001b[38;5;241;43m.\u001b[39;49m\u001b[43m_call_impl\u001b[49m\u001b[43m(\u001b[49m\u001b[38;5;241;43m*\u001b[39;49m\u001b[43margs\u001b[49m\u001b[43m,\u001b[49m\u001b[43m \u001b[49m\u001b[38;5;241;43m*\u001b[39;49m\u001b[38;5;241;43m*\u001b[39;49m\u001b[43mkwargs\u001b[49m\u001b[43m)\u001b[49m\n",
      "File \u001b[1;32m~\\anaconda3\\envs\\kdtproj\\Lib\\site-packages\\torch\\nn\\modules\\module.py:1562\u001b[0m, in \u001b[0;36mModule._call_impl\u001b[1;34m(self, *args, **kwargs)\u001b[0m\n\u001b[0;32m   1557\u001b[0m \u001b[38;5;66;03m# If we don't have any hooks, we want to skip the rest of the logic in\u001b[39;00m\n\u001b[0;32m   1558\u001b[0m \u001b[38;5;66;03m# this function, and just call forward.\u001b[39;00m\n\u001b[0;32m   1559\u001b[0m \u001b[38;5;28;01mif\u001b[39;00m \u001b[38;5;129;01mnot\u001b[39;00m (\u001b[38;5;28mself\u001b[39m\u001b[38;5;241m.\u001b[39m_backward_hooks \u001b[38;5;129;01mor\u001b[39;00m \u001b[38;5;28mself\u001b[39m\u001b[38;5;241m.\u001b[39m_backward_pre_hooks \u001b[38;5;129;01mor\u001b[39;00m \u001b[38;5;28mself\u001b[39m\u001b[38;5;241m.\u001b[39m_forward_hooks \u001b[38;5;129;01mor\u001b[39;00m \u001b[38;5;28mself\u001b[39m\u001b[38;5;241m.\u001b[39m_forward_pre_hooks\n\u001b[0;32m   1560\u001b[0m         \u001b[38;5;129;01mor\u001b[39;00m _global_backward_pre_hooks \u001b[38;5;129;01mor\u001b[39;00m _global_backward_hooks\n\u001b[0;32m   1561\u001b[0m         \u001b[38;5;129;01mor\u001b[39;00m _global_forward_hooks \u001b[38;5;129;01mor\u001b[39;00m _global_forward_pre_hooks):\n\u001b[1;32m-> 1562\u001b[0m     \u001b[38;5;28;01mreturn\u001b[39;00m \u001b[43mforward_call\u001b[49m\u001b[43m(\u001b[49m\u001b[38;5;241;43m*\u001b[39;49m\u001b[43margs\u001b[49m\u001b[43m,\u001b[49m\u001b[43m \u001b[49m\u001b[38;5;241;43m*\u001b[39;49m\u001b[38;5;241;43m*\u001b[39;49m\u001b[43mkwargs\u001b[49m\u001b[43m)\u001b[49m\n\u001b[0;32m   1564\u001b[0m \u001b[38;5;28;01mtry\u001b[39;00m:\n\u001b[0;32m   1565\u001b[0m     result \u001b[38;5;241m=\u001b[39m \u001b[38;5;28;01mNone\u001b[39;00m\n",
      "File \u001b[1;32m~\\anaconda3\\envs\\kdtproj\\Lib\\site-packages\\torch\\nn\\modules\\loss.py:1188\u001b[0m, in \u001b[0;36mCrossEntropyLoss.forward\u001b[1;34m(self, input, target)\u001b[0m\n\u001b[0;32m   1187\u001b[0m \u001b[38;5;28;01mdef\u001b[39;00m \u001b[38;5;21mforward\u001b[39m(\u001b[38;5;28mself\u001b[39m, \u001b[38;5;28minput\u001b[39m: Tensor, target: Tensor) \u001b[38;5;241m-\u001b[39m\u001b[38;5;241m>\u001b[39m Tensor:\n\u001b[1;32m-> 1188\u001b[0m     \u001b[38;5;28;01mreturn\u001b[39;00m \u001b[43mF\u001b[49m\u001b[38;5;241;43m.\u001b[39;49m\u001b[43mcross_entropy\u001b[49m\u001b[43m(\u001b[49m\u001b[38;5;28;43minput\u001b[39;49m\u001b[43m,\u001b[49m\u001b[43m \u001b[49m\u001b[43mtarget\u001b[49m\u001b[43m,\u001b[49m\u001b[43m \u001b[49m\u001b[43mweight\u001b[49m\u001b[38;5;241;43m=\u001b[39;49m\u001b[38;5;28;43mself\u001b[39;49m\u001b[38;5;241;43m.\u001b[39;49m\u001b[43mweight\u001b[49m\u001b[43m,\u001b[49m\n\u001b[0;32m   1189\u001b[0m \u001b[43m                           \u001b[49m\u001b[43mignore_index\u001b[49m\u001b[38;5;241;43m=\u001b[39;49m\u001b[38;5;28;43mself\u001b[39;49m\u001b[38;5;241;43m.\u001b[39;49m\u001b[43mignore_index\u001b[49m\u001b[43m,\u001b[49m\u001b[43m \u001b[49m\u001b[43mreduction\u001b[49m\u001b[38;5;241;43m=\u001b[39;49m\u001b[38;5;28;43mself\u001b[39;49m\u001b[38;5;241;43m.\u001b[39;49m\u001b[43mreduction\u001b[49m\u001b[43m,\u001b[49m\n\u001b[0;32m   1190\u001b[0m \u001b[43m                           \u001b[49m\u001b[43mlabel_smoothing\u001b[49m\u001b[38;5;241;43m=\u001b[39;49m\u001b[38;5;28;43mself\u001b[39;49m\u001b[38;5;241;43m.\u001b[39;49m\u001b[43mlabel_smoothing\u001b[49m\u001b[43m)\u001b[49m\n",
      "File \u001b[1;32m~\\anaconda3\\envs\\kdtproj\\Lib\\site-packages\\torch\\nn\\functional.py:3104\u001b[0m, in \u001b[0;36mcross_entropy\u001b[1;34m(input, target, weight, size_average, ignore_index, reduce, reduction, label_smoothing)\u001b[0m\n\u001b[0;32m   3102\u001b[0m \u001b[38;5;28;01mif\u001b[39;00m size_average \u001b[38;5;129;01mis\u001b[39;00m \u001b[38;5;129;01mnot\u001b[39;00m \u001b[38;5;28;01mNone\u001b[39;00m \u001b[38;5;129;01mor\u001b[39;00m reduce \u001b[38;5;129;01mis\u001b[39;00m \u001b[38;5;129;01mnot\u001b[39;00m \u001b[38;5;28;01mNone\u001b[39;00m:\n\u001b[0;32m   3103\u001b[0m     reduction \u001b[38;5;241m=\u001b[39m _Reduction\u001b[38;5;241m.\u001b[39mlegacy_get_string(size_average, reduce)\n\u001b[1;32m-> 3104\u001b[0m \u001b[38;5;28;01mreturn\u001b[39;00m \u001b[43mtorch\u001b[49m\u001b[38;5;241;43m.\u001b[39;49m\u001b[43m_C\u001b[49m\u001b[38;5;241;43m.\u001b[39;49m\u001b[43m_nn\u001b[49m\u001b[38;5;241;43m.\u001b[39;49m\u001b[43mcross_entropy_loss\u001b[49m\u001b[43m(\u001b[49m\u001b[38;5;28;43minput\u001b[39;49m\u001b[43m,\u001b[49m\u001b[43m \u001b[49m\u001b[43mtarget\u001b[49m\u001b[43m,\u001b[49m\u001b[43m \u001b[49m\u001b[43mweight\u001b[49m\u001b[43m,\u001b[49m\u001b[43m \u001b[49m\u001b[43m_Reduction\u001b[49m\u001b[38;5;241;43m.\u001b[39;49m\u001b[43mget_enum\u001b[49m\u001b[43m(\u001b[49m\u001b[43mreduction\u001b[49m\u001b[43m)\u001b[49m\u001b[43m,\u001b[49m\u001b[43m \u001b[49m\u001b[43mignore_index\u001b[49m\u001b[43m,\u001b[49m\u001b[43m \u001b[49m\u001b[43mlabel_smoothing\u001b[49m\u001b[43m)\u001b[49m\n",
      "\u001b[1;31mValueError\u001b[0m: Expected input batch_size (16) to match target batch_size (1)."
     ]
    }
   ],
   "source": [
    "device = torch.device(\"cuda\" if torch.cuda.is_available() else \"cpu\")\n",
    "print(device)\n",
    "\n",
    "model.to(device)\n",
    "\n",
    "for epoch in range(num_epochs):\n",
    "    model.train()\n",
    "    running_loss = 0.0\n",
    "\n",
    "    for x_batch, labels in dataloader_dev:\n",
    "        optimizer.zero_grad()\n",
    "\n",
    "        # Reshape x_batch to have one input channel\n",
    "        # x_batch = x_batch.unsqueeze(1)  # Reshape: (batch_size, 1, 5000)\n",
    "        x_batch = x_batch.view(-1, 36, 2048)\n",
    "        print(x_batch.shape)\n",
    "        x_batch = x_batch.to(device)  # Move x_batch to device\n",
    "        # labels = labels.to(device)  # Move labels to device\n",
    "        labels = labels.to(device).long()  \n",
    "        \n",
    "        outputs = model(x_batch)\n",
    "        print(outputs.shape, labels.shape)\n",
    "        loss = criterion(outputs, labels)\n",
    "\n",
    "        loss.backward()\n",
    "        optimizer.step()\n",
    "\n",
    "        running_loss += loss.item()\n",
    "\n",
    "    avg_loss = running_loss / len(dataloader_dev)\n",
    "    print(f\"Epoch [{epoch + 1}/{num_epochs}], Loss: {avg_loss:.4f}\")"
   ]
  },
  {
   "cell_type": "markdown",
   "id": "df9da1ef-a145-49ee-a797-a8db9da34d55",
   "metadata": {},
   "source": [
    "## Binary Evaluation"
   ]
  },
  {
   "cell_type": "code",
   "execution_count": 70,
   "id": "7e097a64-0e73-4f87-82fe-357c7f7e6aa9",
   "metadata": {},
   "outputs": [],
   "source": [
    "# #For Binary Classification\n",
    "# model.eval()\n",
    "\n",
    "# device = torch.device(\"cuda\" if torch.cuda.is_available() else \"cpu\")\n",
    "# print(device)\n",
    "\n",
    "# model.to(device)\n",
    "\n",
    "# # Initialize variables to keep track of the loss and predictions\n",
    "# total_loss = 0.0\n",
    "# all_labels = []\n",
    "# all_predictions = []\n",
    "# correct_cnt = 0\n",
    "# neg_pred_cnt = 0 \n",
    "\n",
    "# with torch.no_grad():\n",
    "#     for x_batch, labels in dataloader_dev:  # Assuming you have a separate validation or test DataLoader\n",
    "#         # Reshape x_batch to have one input channel\n",
    "#         # x_batch = x_batch.unsqueeze(1)  # Reshape: (batch_size, 1, 5000)\n",
    "#         x_batch = x_batch.to(device)  # Move x_batch to device\n",
    "        \n",
    "#         # labels = labels.to(device)\n",
    "#         labels = labels.to(device).long() #DEV로 평가할 경우\n",
    "#         # print(x_batch.shape)\n",
    "#         outputs = model(x_batch)  # Forward pass\n",
    "#         # print(outputs, labels)\n",
    "\n",
    "#         # loss = criterion(outputs, labels.view(-1,1).float())  # Calculate loss\n",
    "#         loss = criterion(outputs, labels)\n",
    "#         total_loss += loss.item()  # Accumulate the loss\n",
    "        \n",
    "#         # Get predictions\n",
    "#         _, predicted = torch.max(outputs, 1)  # Get the index of the max log-probability\n",
    "#         # predicted = (outputs >= 0.5).int()\n",
    "        \n",
    "#         all_labels.extend(labels.cpu().numpy())  # Store true labels\n",
    "#         all_predictions.extend(predicted.cpu().numpy())  # Store predicted labels\n",
    "\n",
    "# # Calculate average loss\n",
    "# avg_loss = total_loss / len(dataloader_dev)\n",
    "\n",
    "# # Calculate precision, recall, and F1 score\n",
    "# precision = precision_score(all_labels, all_predictions, average='weighted')  # Use 'micro' or 'macro' if needed\n",
    "# recall = recall_score(all_labels, all_predictions, average='weighted')\n",
    "# f1 = f1_score(all_labels, all_predictions, average='weighted')\n",
    "\n",
    "# cm = confusion_matrix(all_labels, all_predictions)\n",
    "\n",
    "# TN = cm[0, 0]  \n",
    "# FP = cm[0, 1] \n",
    "# FN = cm[1, 0]  \n",
    "# TP = cm[1, 1]  \n",
    "\n",
    "# FPR = FP / (FP + TN) if (FP + TN) > 0 else 0  \n",
    "# FNR = FN / (FN + TP) if (FN + TP) > 0 else 0  \n",
    "\n",
    "# # Print results\n",
    "# print(f\"Evaluation Loss: {avg_loss:.4f}\")\n",
    "# print(f\"Precision: {precision:.4f}, Recall: {recall:.4f}, F1 Score: {f1:.4f}\")\n",
    "# print(f'Predicted positives out of all negatives: {FPR} = {FP}/{FP + TN}')\n",
    "# print(f'Predicted negatives out of all positives: {FNR} = {FN}/{FN + TP}')\n",
    "# print(all_labels)\n",
    "# print(all_predictions)\n",
    "# for i in range(len(all_labels)) :\n",
    "#     if all_labels[i] == 0 and all_predictions[i] == 0:\n",
    "#         correct_cnt += 1\n",
    "# for pred in all_predictions:\n",
    "#     if pred == 0:\n",
    "#         neg_pred_cnt += 1\n",
    "# print(f'correct_cnt {correct_cnt}')\n",
    "# print(f'neg_pred_cnt {neg_pred_cnt}')\n",
    "# len(all_labels)"
   ]
  },
  {
   "cell_type": "markdown",
   "id": "a5e47b11-ccb2-4c6a-99e6-2417ffbd0cfb",
   "metadata": {},
   "source": [
    "## Model Evaluation (CrossEntropy)"
   ]
  },
  {
   "cell_type": "code",
   "execution_count": 71,
   "id": "0c7ead98-e7a3-462f-808b-d20a44610431",
   "metadata": {
    "scrolled": true
   },
   "outputs": [],
   "source": [
    "# for name, param in model.named_parameters():\n",
    "#     if param.requires_grad:  # Only print trainable parameters\n",
    "#         print(f\"Layer: {name}, Weights: {param.data}\")"
   ]
  },
  {
   "cell_type": "code",
   "execution_count": 92,
   "id": "6c7a5ae7-5d80-468a-8f41-8429b8ca20d2",
   "metadata": {},
   "outputs": [
    {
     "name": "stdout",
     "output_type": "stream",
     "text": [
      "cuda\n",
      "tensor([[17.6397]], device='cuda:0') tensor([1], device='cuda:0')\n",
      "tensor([[13.0824]], device='cuda:0') tensor([1], device='cuda:0')\n",
      "tensor([[21.2324]], device='cuda:0') tensor([1], device='cuda:0')\n",
      "tensor([[17.1945]], device='cuda:0') tensor([1], device='cuda:0')\n",
      "tensor([[10.2518]], device='cuda:0') tensor([0], device='cuda:0')\n",
      "tensor([[15.8322]], device='cuda:0') tensor([1], device='cuda:0')\n",
      "tensor([[7.7858]], device='cuda:0') tensor([1], device='cuda:0')\n",
      "tensor([[13.2558]], device='cuda:0') tensor([1], device='cuda:0')\n",
      "tensor([[3.6264]], device='cuda:0') tensor([1], device='cuda:0')\n",
      "tensor([[23.1458]], device='cuda:0') tensor([1], device='cuda:0')\n",
      "tensor([[8.1951]], device='cuda:0') tensor([1], device='cuda:0')\n",
      "tensor([[23.7668]], device='cuda:0') tensor([1], device='cuda:0')\n",
      "tensor([[8.9838]], device='cuda:0') tensor([1], device='cuda:0')\n",
      "tensor([[17.1945]], device='cuda:0') tensor([1], device='cuda:0')\n",
      "tensor([[16.8752]], device='cuda:0') tensor([1], device='cuda:0')\n",
      "tensor([[22.0063]], device='cuda:0') tensor([1], device='cuda:0')\n",
      "tensor([[8.1951]], device='cuda:0') tensor([1], device='cuda:0')\n",
      "tensor([[14.3816]], device='cuda:0') tensor([1], device='cuda:0')\n",
      "tensor([[11.5227]], device='cuda:0') tensor([1], device='cuda:0')\n",
      "tensor([[24.2595]], device='cuda:0') tensor([1], device='cuda:0')\n",
      "tensor([[30.5070]], device='cuda:0') tensor([1], device='cuda:0')\n",
      "tensor([[21.2324]], device='cuda:0') tensor([1], device='cuda:0')\n",
      "tensor([[12.5575]], device='cuda:0') tensor([0], device='cuda:0')\n",
      "tensor([[15.5879]], device='cuda:0') tensor([1], device='cuda:0')\n",
      "tensor([[5.4505]], device='cuda:0') tensor([1], device='cuda:0')\n",
      "tensor([[3.6264]], device='cuda:0') tensor([1], device='cuda:0')\n",
      "tensor([[24.2595]], device='cuda:0') tensor([1], device='cuda:0')\n",
      "tensor([[14.3816]], device='cuda:0') tensor([1], device='cuda:0')\n",
      "tensor([[8.9454]], device='cuda:0') tensor([1], device='cuda:0')\n",
      "tensor([[32.9625]], device='cuda:0') tensor([1], device='cuda:0')\n",
      "tensor([[5.4068]], device='cuda:0') tensor([1], device='cuda:0')\n",
      "tensor([[23.7668]], device='cuda:0') tensor([1], device='cuda:0')\n",
      "tensor([[15.8322]], device='cuda:0') tensor([1], device='cuda:0')\n",
      "tensor([[13.0824]], device='cuda:0') tensor([1], device='cuda:0')\n",
      "tensor([[17.4394]], device='cuda:0') tensor([1], device='cuda:0')\n",
      "tensor([[17.5963]], device='cuda:0') tensor([1], device='cuda:0')\n",
      "tensor([[4.7113]], device='cuda:0') tensor([1], device='cuda:0')\n",
      "tensor([[15.8539]], device='cuda:0') tensor([1], device='cuda:0')\n",
      "tensor([[8.9454]], device='cuda:0') tensor([1], device='cuda:0')\n",
      "tensor([[16.7573]], device='cuda:0') tensor([1], device='cuda:0')\n",
      "tensor([[6.7355]], device='cuda:0') tensor([0], device='cuda:0')\n",
      "tensor([[4.7113]], device='cuda:0') tensor([1], device='cuda:0')\n",
      "tensor([[23.1458]], device='cuda:0') tensor([1], device='cuda:0')\n",
      "tensor([[8.7885]], device='cuda:0') tensor([1], device='cuda:0')\n",
      "tensor([[13.7207]], device='cuda:0') tensor([1], device='cuda:0')\n",
      "tensor([[24.2655]], device='cuda:0') tensor([1], device='cuda:0')\n",
      "tensor([[32.9625]], device='cuda:0') tensor([1], device='cuda:0')\n",
      "tensor([[30.5070]], device='cuda:0') tensor([1], device='cuda:0')\n",
      "tensor([[7.7858]], device='cuda:0') tensor([1], device='cuda:0')\n",
      "tensor([[24.2655]], device='cuda:0') tensor([1], device='cuda:0')\n",
      "tensor([[8.7885]], device='cuda:0') tensor([1], device='cuda:0')\n",
      "tensor([[4.5138]], device='cuda:0') tensor([1], device='cuda:0')\n",
      "tensor([[8.9838]], device='cuda:0') tensor([1], device='cuda:0')\n",
      "tensor([[16.8752]], device='cuda:0') tensor([1], device='cuda:0')\n",
      "tensor([[13.2558]], device='cuda:0') tensor([1], device='cuda:0')\n",
      "tensor([[16.7573]], device='cuda:0') tensor([1], device='cuda:0')\n",
      "tensor([[14.4842]], device='cuda:0') tensor([1], device='cuda:0')\n",
      "tensor([[15.5879]], device='cuda:0') tensor([1], device='cuda:0')\n",
      "tensor([[5.4505]], device='cuda:0') tensor([1], device='cuda:0')\n",
      "tensor([[6.7355]], device='cuda:0') tensor([0], device='cuda:0')\n",
      "tensor([[12.5575]], device='cuda:0') tensor([0], device='cuda:0')\n",
      "tensor([[13.7207]], device='cuda:0') tensor([1], device='cuda:0')\n",
      "tensor([[17.5963]], device='cuda:0') tensor([1], device='cuda:0')\n",
      "tensor([[18.1310]], device='cuda:0') tensor([1], device='cuda:0')\n",
      "tensor([[11.5227]], device='cuda:0') tensor([1], device='cuda:0')\n",
      "tensor([[15.8539]], device='cuda:0') tensor([1], device='cuda:0')\n",
      "tensor([[14.4842]], device='cuda:0') tensor([1], device='cuda:0')\n",
      "tensor([[17.6397]], device='cuda:0') tensor([1], device='cuda:0')\n",
      "tensor([[22.0063]], device='cuda:0') tensor([1], device='cuda:0')\n",
      "tensor([[10.2518]], device='cuda:0') tensor([0], device='cuda:0')\n",
      "tensor([[17.4394]], device='cuda:0') tensor([1], device='cuda:0')\n",
      "tensor([[5.4068]], device='cuda:0') tensor([1], device='cuda:0')\n",
      "tensor([[4.5138]], device='cuda:0') tensor([1], device='cuda:0')\n",
      "tensor([[18.1310]], device='cuda:0') tensor([1], device='cuda:0')\n",
      "Evaluation Loss: 0.8001\n",
      "Precision: 0.8444, Recall: 0.9189, F1 Score: 0.8801\n",
      "Predicted positives out of all negatives: 1.0 = 6/6\n",
      "Predicted negatives out of all positives: 0.0 = 0/68\n",
      "[1, 1, 1, 1, 0, 1, 1, 1, 1, 1, 1, 1, 1, 1, 1, 1, 1, 1, 1, 1, 1, 1, 0, 1, 1, 1, 1, 1, 1, 1, 1, 1, 1, 1, 1, 1, 1, 1, 1, 1, 0, 1, 1, 1, 1, 1, 1, 1, 1, 1, 1, 1, 1, 1, 1, 1, 1, 1, 1, 0, 0, 1, 1, 1, 1, 1, 1, 1, 1, 0, 1, 1, 1, 1]\n",
      "[1, 1, 1, 1, 1, 1, 1, 1, 1, 1, 1, 1, 1, 1, 1, 1, 1, 1, 1, 1, 1, 1, 1, 1, 1, 1, 1, 1, 1, 1, 1, 1, 1, 1, 1, 1, 1, 1, 1, 1, 1, 1, 1, 1, 1, 1, 1, 1, 1, 1, 1, 1, 1, 1, 1, 1, 1, 1, 1, 1, 1, 1, 1, 1, 1, 1, 1, 1, 1, 1, 1, 1, 1, 1]\n",
      "correct_cnt 0\n",
      "neg_pred_cnt 0\n"
     ]
    },
    {
     "name": "stderr",
     "output_type": "stream",
     "text": [
      "C:\\Users\\user\\anaconda3\\envs\\kdtproj\\Lib\\site-packages\\sklearn\\metrics\\_classification.py:1531: UndefinedMetricWarning: Precision is ill-defined and being set to 0.0 in labels with no predicted samples. Use `zero_division` parameter to control this behavior.\n",
      "  _warn_prf(average, modifier, f\"{metric.capitalize()} is\", len(result))\n"
     ]
    }
   ],
   "source": [
    "model.eval()\n",
    "\n",
    "device = torch.device(\"cuda\" if torch.cuda.is_available() else \"cpu\")\n",
    "print(device)\n",
    "\n",
    "model.to(device)\n",
    "\n",
    "# Initialize variables to keep track of the loss and predictions\n",
    "total_loss = 0.0\n",
    "all_labels = []\n",
    "all_predictions = []\n",
    "correct_cnt = 0\n",
    "neg_pred_cnt = 0 \n",
    "\n",
    "with torch.no_grad():\n",
    "    for x_batch, labels in dataloader_dev:  # Assuming you have a separate validation or test DataLoader\n",
    "        # Reshape x_batch to have one input channel\n",
    "        # x_batch = x_batch.unsqueeze(1)  # Reshape: (batch_size, 1, 5000)\n",
    "        x_batch = x_batch.to(device)  # Move x_batch to device\n",
    "        \n",
    "        # labels = labels.to(device)\n",
    "        labels = labels.to(device).long() #DEV로 평가할 경우\n",
    "        # print(x_batch.shape)\n",
    "        outputs = model(x_batch)  # Forward pass\n",
    "        print(outputs, labels)\n",
    "\n",
    "        loss = criterion(outputs, labels.view(-1,1).float())  # Calculate loss\n",
    "        \n",
    "        total_loss += loss.item()  # Accumulate the loss\n",
    "        \n",
    "        # Get predictions\n",
    "        _, predicted = torch.max(outputs, 1)  # Get the index of the max log-probability\n",
    "        predicted = (outputs >= 0.5).int()\n",
    "        \n",
    "        all_labels.extend(labels.cpu().numpy())  # Store true labels\n",
    "        all_predictions.extend(predicted[0].cpu().numpy())  # Store predicted labels\n",
    "\n",
    "# Calculate average loss\n",
    "avg_loss = total_loss / len(dataloader_dev)\n",
    "\n",
    "# Calculate precision, recall, and F1 score\n",
    "precision = precision_score(all_labels, all_predictions, average='weighted')  # Use 'micro' or 'macro' if needed\n",
    "recall = recall_score(all_labels, all_predictions, average='weighted')\n",
    "f1 = f1_score(all_labels, all_predictions, average='weighted')\n",
    "\n",
    "cm = confusion_matrix(all_labels, all_predictions)\n",
    "\n",
    "TN = cm[0, 0]  \n",
    "FP = cm[0, 1] \n",
    "FN = cm[1, 0]  \n",
    "TP = cm[1, 1]  \n",
    "\n",
    "FPR = FP / (FP + TN) if (FP + TN) > 0 else 0  \n",
    "FNR = FN / (FN + TP) if (FN + TP) > 0 else 0  \n",
    "\n",
    "# Print results\n",
    "print(f\"Evaluation Loss: {avg_loss:.4f}\")\n",
    "print(f\"Precision: {precision:.4f}, Recall: {recall:.4f}, F1 Score: {f1:.4f}\")\n",
    "print(f'Predicted positives out of all negatives: {FPR} = {FP}/{FP + TN}')\n",
    "print(f'Predicted negatives out of all positives: {FNR} = {FN}/{FN + TP}')\n",
    "print(all_labels)\n",
    "print(all_predictions)\n",
    "for i in range(len(all_labels)) :\n",
    "    if all_labels[i] == 0 and all_predictions[i] == 0:\n",
    "        correct_cnt += 1\n",
    "for pred in all_predictions:\n",
    "    if pred == 0:\n",
    "        neg_pred_cnt += 1\n",
    "print(f'correct_cnt {correct_cnt}')\n",
    "print(f'neg_pred_cnt {neg_pred_cnt}')\n",
    "# len(all_labels)"
   ]
  },
  {
   "cell_type": "code",
   "execution_count": 73,
   "id": "454b051b-1a85-4c05-b029-f36ebcccaeee",
   "metadata": {},
   "outputs": [],
   "source": [
    "torch.save(model, 'stacked_model_v0.0.1.pth')"
   ]
  },
  {
   "cell_type": "code",
   "execution_count": 74,
   "id": "5f3fe7dd-799b-457b-a109-882460e56632",
   "metadata": {},
   "outputs": [
    {
     "data": {
      "text/plain": [
       "Sequential(\n",
       "  (0): Conv2d(1, 5, kernel_size=(3, 3), stride=(3, 3))\n",
       "  (1): Dropout(p=0.2, inplace=False)\n",
       "  (2): ReLU()\n",
       "  (3): MaxPool2d(kernel_size=(1, 2), stride=(1, 2), padding=0, dilation=1, ceil_mode=False)\n",
       "  (4): BatchNorm2d(5, eps=1e-05, momentum=0.1, affine=True, track_running_stats=True)\n",
       "  (5): Conv2d(5, 10, kernel_size=(4, 4), stride=(4, 4))\n",
       "  (6): Dropout(p=0.2, inplace=False)\n",
       "  (7): ReLU()\n",
       "  (8): MaxPool2d(kernel_size=(1, 3), stride=(1, 3), padding=0, dilation=1, ceil_mode=False)\n",
       "  (9): BatchNorm2d(10, eps=1e-05, momentum=0.1, affine=True, track_running_stats=True)\n",
       "  (10): Conv2d(10, 5, kernel_size=(1, 4), stride=(1, 2))\n",
       "  (11): Dropout(p=0.2, inplace=False)\n",
       "  (12): ReLU()\n",
       "  (13): MaxPool2d(kernel_size=(1, 4), stride=(1, 4), padding=0, dilation=1, ceil_mode=False)\n",
       "  (14): BatchNorm2d(5, eps=1e-05, momentum=0.1, affine=True, track_running_stats=True)\n",
       "  (15): Flatten(start_dim=1, end_dim=-1)\n",
       "  (16): Linear(in_features=45, out_features=22, bias=True)\n",
       "  (17): ReLU()\n",
       "  (18): Linear(in_features=22, out_features=11, bias=True)\n",
       "  (19): ReLU()\n",
       "  (20): Linear(in_features=11, out_features=2, bias=True)\n",
       "  (21): ReLU()\n",
       ")"
      ]
     },
     "execution_count": 74,
     "metadata": {},
     "output_type": "execute_result"
    }
   ],
   "source": [
    "model"
   ]
  },
  {
   "cell_type": "code",
   "execution_count": null,
   "id": "aebfeacd-e750-4e0c-b625-b4d5661fd927",
   "metadata": {},
   "outputs": [],
   "source": []
  },
  {
   "cell_type": "code",
   "execution_count": null,
   "id": "cf05c587-e05d-4f0d-9a27-9bf797bfd453",
   "metadata": {},
   "outputs": [],
   "source": []
  },
  {
   "cell_type": "code",
   "execution_count": null,
   "id": "8e52e94d-ce36-400e-8355-863f86609d88",
   "metadata": {},
   "outputs": [],
   "source": []
  },
  {
   "cell_type": "code",
   "execution_count": null,
   "id": "0a11f377-4932-4a68-b06e-71bf31189671",
   "metadata": {},
   "outputs": [],
   "source": []
  },
  {
   "cell_type": "code",
   "execution_count": null,
   "id": "268d75fb-bfa6-4df5-b7b0-acbca974f65a",
   "metadata": {},
   "outputs": [],
   "source": []
  }
 ],
 "metadata": {
  "kernelspec": {
   "display_name": "Python 3 (ipykernel)",
   "language": "python",
   "name": "python3"
  },
  "language_info": {
   "codemirror_mode": {
    "name": "ipython",
    "version": 3
   },
   "file_extension": ".py",
   "mimetype": "text/x-python",
   "name": "python",
   "nbconvert_exporter": "python",
   "pygments_lexer": "ipython3",
   "version": "3.12.4"
  }
 },
 "nbformat": 4,
 "nbformat_minor": 5
}
