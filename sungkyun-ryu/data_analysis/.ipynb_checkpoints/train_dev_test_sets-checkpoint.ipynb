{
 "cells": [
  {
   "cell_type": "code",
   "execution_count": 1,
   "id": "3e53e796-5738-43f3-8ccf-aacdbbbcbdf9",
   "metadata": {},
   "outputs": [],
   "source": [
    "import process_fns as pfns\n",
    "import pdm_functions as fns\n",
    "import h5py\n",
    "import os"
   ]
  },
  {
   "cell_type": "code",
   "execution_count": 2,
   "id": "3bceded4-de05-4be1-b954-ce84adfe4e81",
   "metadata": {},
   "outputs": [
    {
     "name": "stdout",
     "output_type": "stream",
     "text": [
      "C:\\SK\\ai_proj\\data_analysis\n"
     ]
    }
   ],
   "source": [
    "print(os.getcwd())"
   ]
  },
  {
   "cell_type": "code",
   "execution_count": 3,
   "id": "e62a8cd0-17ff-4622-a0a8-7c6183ebe598",
   "metadata": {},
   "outputs": [
    {
     "name": "stderr",
     "output_type": "stream",
     "text": [
      "C:\\SK\\ai_proj\\data_analysis\\process_fns.py:40: SettingWithCopyWarning: \n",
      "A value is trying to be set on a copy of a slice from a DataFrame.\n",
      "Try using .loc[row_indexer,col_indexer] = value instead\n",
      "\n",
      "See the caveats in the documentation: https://pandas.pydata.org/pandas-docs/stable/user_guide/indexing.html#returning-a-view-versus-a-copy\n",
      "  df[col] = df[col].apply(lambda x: [float(j) for j in x][1:])\n",
      "C:\\SK\\ai_proj\\data_analysis\\process_fns.py:40: SettingWithCopyWarning: \n",
      "A value is trying to be set on a copy of a slice from a DataFrame.\n",
      "Try using .loc[row_indexer,col_indexer] = value instead\n",
      "\n",
      "See the caveats in the documentation: https://pandas.pydata.org/pandas-docs/stable/user_guide/indexing.html#returning-a-view-versus-a-copy\n",
      "  df[col] = df[col].apply(lambda x: [float(j) for j in x][1:])\n",
      "C:\\SK\\ai_proj\\data_analysis\\process_fns.py:40: SettingWithCopyWarning: \n",
      "A value is trying to be set on a copy of a slice from a DataFrame.\n",
      "Try using .loc[row_indexer,col_indexer] = value instead\n",
      "\n",
      "See the caveats in the documentation: https://pandas.pydata.org/pandas-docs/stable/user_guide/indexing.html#returning-a-view-versus-a-copy\n",
      "  df[col] = df[col].apply(lambda x: [float(j) for j in x][1:])\n",
      "C:\\SK\\ai_proj\\data_analysis\\process_fns.py:40: SettingWithCopyWarning: \n",
      "A value is trying to be set on a copy of a slice from a DataFrame.\n",
      "Try using .loc[row_indexer,col_indexer] = value instead\n",
      "\n",
      "See the caveats in the documentation: https://pandas.pydata.org/pandas-docs/stable/user_guide/indexing.html#returning-a-view-versus-a-copy\n",
      "  df[col] = df[col].apply(lambda x: [float(j) for j in x][1:])\n"
     ]
    }
   ],
   "source": [
    "dataset_lists = pfns.PostProcessing('dataset/5528_droped_data.csv')"
   ]
  },
  {
   "cell_type": "code",
   "execution_count": 4,
   "id": "1d2d8bab-b4a7-4a27-b70b-20be996998c8",
   "metadata": {},
   "outputs": [],
   "source": [
    "X_train, y_train = dataset_lists[0][0], dataset_lists[0][1]\n",
    "X_dev, y_dev = dataset_lists[1][0], dataset_lists[1][1] \n",
    "X_test, y_test = dataset_lists[2][0], dataset_lists[2][1] "
   ]
  },
  {
   "cell_type": "code",
   "execution_count": null,
   "id": "9a023daf-bd76-4140-9849-e60595987672",
   "metadata": {},
   "outputs": [],
   "source": [
    "directory = 'dataset/train_datasets'\n",
    "os.makedirs(directory, exist_ok=True)\n",
    "file_path = os.path.join(directory, 'tensor.h5')\n",
    "\n",
    "with h5py.File(file_path, 'w') as f:\n",
    "    for i in range(1):         \n",
    "        tensor = fns.multi_datasets(X_train, 200, 12)       \n",
    "        f.create_dataset(f'train_dataset_{i}', data=tensor.numpy()) \n",
    "        print(f'dataset_{i} is succesfully generated')\n",
    "    "
   ]
  },
  {
   "cell_type": "code",
   "execution_count": null,
   "id": "3e05aa5c-3e4a-4550-b8c8-cf6d3218cc09",
   "metadata": {
    "scrolled": true
   },
   "outputs": [],
   "source": []
  },
  {
   "cell_type": "code",
   "execution_count": null,
   "id": "e7b8a504-09f9-4636-b482-6d9f4879194d",
   "metadata": {},
   "outputs": [],
   "source": []
  },
  {
   "cell_type": "code",
   "execution_count": null,
   "id": "c896adb2-8711-4cfc-aa1b-3329610dce9f",
   "metadata": {},
   "outputs": [],
   "source": []
  }
 ],
 "metadata": {
  "kernelspec": {
   "display_name": "Python 3 (ipykernel)",
   "language": "python",
   "name": "python3"
  },
  "language_info": {
   "codemirror_mode": {
    "name": "ipython",
    "version": 3
   },
   "file_extension": ".py",
   "mimetype": "text/x-python",
   "name": "python",
   "nbconvert_exporter": "python",
   "pygments_lexer": "ipython3",
   "version": "3.12.4"
  }
 },
 "nbformat": 4,
 "nbformat_minor": 5
}
