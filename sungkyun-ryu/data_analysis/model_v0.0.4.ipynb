{
 "cells": [
  {
   "cell_type": "markdown",
   "id": "aaba1d94-9caf-406a-85ac-b291bc92c1bd",
   "metadata": {},
   "source": [
    "## Import Libraries"
   ]
  },
  {
   "cell_type": "code",
   "execution_count": 1,
   "id": "6b298e3e-98ce-4a31-a823-7f2d5f82f6ab",
   "metadata": {},
   "outputs": [],
   "source": [
    "import pandas as pd\n",
    "import numpy as np \n",
    "import matplotlib.pyplot as plt\n",
    "import seaborn as sns\n",
    "import torch\n",
    "import torch.nn as nn\n",
    "import os\n",
    "from itertools import chain\n",
    "\n",
    "import torch.optim as optim\n",
    "from torch.utils.data import DataLoader, TensorDataset\n",
    "# import transform_fns as trans\n",
    "import pdm_functions as fns\n",
    "from sklearn.metrics import precision_score, recall_score, f1_score, confusion_matrix\n",
    "from scipy.stats import gaussian_kde\n",
    "\n",
    "import pickle\n",
    "\n"
   ]
  },
  {
   "cell_type": "markdown",
   "id": "7f461993-e306-45c0-820a-a52b63a217cb",
   "metadata": {},
   "source": [
    "## Weight계산 "
   ]
  },
  {
   "cell_type": "code",
   "execution_count": 2,
   "id": "74507d43-468d-4cdf-9e22-840a988162d5",
   "metadata": {},
   "outputs": [],
   "source": [
    "# df_normal= pd.read_csv('dataset/5528_spec_normal.csv')\n",
    "# df_error= pd.read_csv('dataset/5528_spec_error.csv')"
   ]
  },
  {
   "cell_type": "code",
   "execution_count": 3,
   "id": "9c529064-a2a2-4134-9e3e-a4cc44f4a3bf",
   "metadata": {},
   "outputs": [],
   "source": [
    "# df_normal['spectrum_x_amp']= df_normal['spectrum_x_amp'].apply(lambda x: [float(num) for num in x.split(',')][1:])\n",
    "# df_normal['spectrum_y_amp']= df_normal['spectrum_y_amp'].apply(lambda x: [float(num) for num in x.split(',')][1:])\n",
    "# df_normal['spectrum_z_amp']= df_normal['spectrum_z_amp'].apply(lambda x: [float(num) for num in x.split(',')][1:])"
   ]
  },
  {
   "cell_type": "code",
   "execution_count": 4,
   "id": "73057185-77f9-4579-a1ae-3bb77c8bd71f",
   "metadata": {},
   "outputs": [],
   "source": [
    "# wf_x = fns.rpm_approx_weighted_fn(df_normal['spectrum_x_amp'], 1, 2048, 2048)\n",
    "# wf_y = fns.rpm_approx_weighted_fn(df_normal['spectrum_y_amp'], 1, 2048, 2048)\n",
    "# wf_z = fns.rpm_approx_weighted_fn(df_normal['spectrum_z_amp'], 1, 2048, 2048)"
   ]
  },
  {
   "cell_type": "code",
   "execution_count": 5,
   "id": "11b4efdd-cf54-4906-99da-a669e6e2f548",
   "metadata": {},
   "outputs": [],
   "source": [
    "# file_path = file_path = 'dataset/train_datasets/5520_spectrum_x_weights.pkl'\n",
    "# with open(file_path, 'wb') as f:\n",
    "    # pickle.dump(wf_x, f)\n",
    "    \n",
    "# file_path = file_path = 'dataset/train_datasets/5520_spectrum_y_weights.pkl'\n",
    "# with open(file_path, 'wb') as f:\n",
    "#     pickle.dump(wf_y, f)\n",
    "    \n",
    "# file_path = file_path = 'dataset/train_datasets/5520_spectrum_z_weights.pkl'\n",
    "# with open(file_path, 'wb') as f:\n",
    "#     pickle.dump(wf_z, f)"
   ]
  },
  {
   "cell_type": "code",
   "execution_count": 6,
   "id": "810e7047-e2f3-44f1-8b01-f09d1a1c45db",
   "metadata": {},
   "outputs": [],
   "source": [
    "file_path = file_path = 'dataset/train_datasets/5520_spectrum_x_weights.pkl'\n",
    "with open(file_path, 'rb') as f: \n",
    "    data = pickle.load(f)\n",
    "wf_x = data\n",
    "\n",
    "file_path = file_path = 'dataset/train_datasets/5520_spectrum_y_weights.pkl'\n",
    "with open(file_path, 'rb') as f: \n",
    "    data = pickle.load(f)\n",
    "wf_y = data\n",
    "\n",
    "file_path = file_path = 'dataset/train_datasets/5520_spectrum_z_weights.pkl'\n",
    "with open(file_path, 'rb') as f: \n",
    "    data = pickle.load(f)\n",
    "wf_z = data\n",
    "          "
   ]
  },
  {
   "cell_type": "code",
   "execution_count": 7,
   "id": "e9e5bee1-01ed-402b-a37b-d2b1a8cc8f46",
   "metadata": {},
   "outputs": [
    {
     "data": {
      "text/plain": [
       "<Axes: >"
      ]
     },
     "execution_count": 7,
     "metadata": {},
     "output_type": "execute_result"
    },
    {
     "data": {
      "image/png": "[encoded data removed]",
      "text/plain": [
       "<Figure size 640x480 with 1 Axes>"
      ]
     },
     "metadata": {},
     "output_type": "display_data"
    }
   ],
   "source": [
    "sns.lineplot(wf_x)"
   ]
  },
  {
   "cell_type": "markdown",
   "id": "13c6b5d5-6e2a-416a-80e9-ba2e8b25489d",
   "metadata": {},
   "source": [
    "### <span style='color:red'> 가중치 standardization </span>"
   ]
  },
  {
   "cell_type": "code",
   "execution_count": 8,
   "id": "2a65801f-3a9b-4c04-a1e4-6c3a00633379",
   "metadata": {},
   "outputs": [],
   "source": [
    "# wf = fns.min_max_standardization(wf)"
   ]
  },
  {
   "cell_type": "code",
   "execution_count": 9,
   "id": "8737903e-7478-422b-b6ea-ceed2804c045",
   "metadata": {},
   "outputs": [],
   "source": [
    "wf = wf_x + wf_y + wf_z"
   ]
  },
  {
   "cell_type": "code",
   "execution_count": 10,
   "id": "994187cd-bcbb-4f7b-ad63-6ed8af20481b",
   "metadata": {},
   "outputs": [],
   "source": [
    "wf = wf * 12\n",
    "wf = torch.tensor(wf)"
   ]
  },
  {
   "cell_type": "markdown",
   "id": "d29c3f11-2b2e-46b3-b5fd-2b2c241415ba",
   "metadata": {},
   "source": [
    "## 데이터셋 (tensors)"
   ]
  },
  {
   "cell_type": "code",
   "execution_count": 11,
   "id": "725047c5-10d8-4d4e-a635-e964d5febbdf",
   "metadata": {},
   "outputs": [],
   "source": [
    "# df_normal = fns.csv_to_tensor_stack('dataset/5528_spec_normal.csv')\n",
    "# df_error = fns.csv_to_tensor_stack('dataset/5528_spec_error.csv')"
   ]
  },
  {
   "cell_type": "markdown",
   "id": "e8c4bc17-8437-4894-974d-2990425fe3d2",
   "metadata": {},
   "source": [
    "## Well-distributed test set"
   ]
  },
  {
   "cell_type": "code",
   "execution_count": 12,
   "id": "76d444a1-9482-4520-9fd9-61e4726b229d",
   "metadata": {},
   "outputs": [
    {
     "name": "stdout",
     "output_type": "stream",
     "text": [
      "Loaded X_train: tensor([[6.4164e-04, 6.9671e-04, 4.5043e-04,  ..., 3.1335e-05, 1.6753e-04,\n",
      "         2.6539e-04],\n",
      "        [5.7142e-05, 5.6895e-05, 3.8271e-05,  ..., 1.9522e-04, 3.5067e-04,\n",
      "         3.5810e-04],\n",
      "        [2.7202e-04, 4.8636e-04, 5.3246e-04,  ..., 5.2438e-03, 1.7740e-03,\n",
      "         1.1917e-03],\n",
      "        ...,\n",
      "        [1.1860e-04, 7.7795e-05, 1.0226e-04,  ..., 2.1402e-03, 1.8804e-03,\n",
      "         1.6231e-03],\n",
      "        [9.9313e-05, 1.4456e-04, 2.2368e-04,  ..., 5.0263e-04, 5.0777e-04,\n",
      "         5.9311e-04],\n",
      "        [3.7712e-04, 4.5022e-04, 4.5768e-04,  ..., 3.3496e-04, 3.8365e-04,\n",
      "         1.2905e-04]])\n",
      "Loaded y_train: tensor([1.0000, 1.0000, 1.0000, 1.0000, 1.0000, 1.0000, 1.0000, 1.0000, 1.0000,\n",
      "        1.0000, 1.0000, 1.0000, 1.0000, 1.0000, 1.0000, 1.0000, 1.0000, 1.0000,\n",
      "        1.0000, 1.0000, 1.0000, 1.0000, 1.0000, 1.0000, 1.0000, 1.0000, 1.0000,\n",
      "        1.0000, 1.0000, 1.0000, 1.0000, 1.0000, 1.0000, 1.0000, 1.0000, 1.0000,\n",
      "        1.0000, 1.0000, 1.0000, 1.0000, 1.0000, 1.0000, 1.0000, 1.0000, 1.0000,\n",
      "        1.0000, 1.0000, 1.0000, 1.0000, 1.0000, 1.0000, 1.0000, 1.0000, 1.0000,\n",
      "        1.0000, 1.0000, 1.0000, 1.0000, 1.0000, 1.0000, 1.0000, 1.0000, 1.0000,\n",
      "        1.0000, 1.0000, 1.0000, 1.0000, 1.0000, 1.0000, 1.0000, 1.0000, 1.0000,\n",
      "        1.0000, 1.0000, 1.0000, 1.0000, 1.0000, 1.0000, 1.0000, 1.0000, 1.0000,\n",
      "        1.0000, 1.0000, 1.0000, 1.0000, 1.0000, 1.0000, 1.0000, 1.0000, 1.0000,\n",
      "        1.0000, 1.0000, 1.0000, 1.0000, 1.0000, 1.0000, 1.0000, 1.0000, 1.0000,\n",
      "        1.0000, 1.0000, 1.0000, 1.0000, 1.0000, 1.0000, 1.0000, 1.0000, 1.0000,\n",
      "        1.0000, 1.0000, 1.0000, 0.9240, 0.8788, 0.9393, 0.8881, 0.8571, 0.6396,\n",
      "        0.8500, 0.8367, 0.9250, 0.9500])\n"
     ]
    },
    {
     "name": "stderr",
     "output_type": "stream",
     "text": [
      "C:\\Users\\user\\anaconda3\\envs\\kdtproj\\Lib\\site-packages\\torch\\storage.py:414: FutureWarning: You are using `torch.load` with `weights_only=False` (the current default value), which uses the default pickle module implicitly. It is possible to construct malicious pickle data which will execute arbitrary code during unpickling (See https://github.com/pytorch/pytorch/blob/main/SECURITY.md#untrusted-models for more details). In a future release, the default value for `weights_only` will be flipped to `True`. This limits the functions that could be executed during unpickling. Arbitrary objects will no longer be allowed to be loaded via this mode unless they are explicitly allowlisted by the user via `torch.serialization.add_safe_globals`. We recommend you start setting `weights_only=True` for any use case where you don't have full control of the loaded file. Please open an issue on GitHub for any issues related to this experimental feature.\n",
      "  return torch.load(io.BytesIO(b))\n"
     ]
    }
   ],
   "source": [
    "file_path = file_path = 'dataset/train_datasets/train_sets.pkl'\n",
    "with open(file_path, 'rb') as f:\n",
    "    data = pickle.load(f)\n",
    "\n",
    "# Access the loaded data\n",
    "X_train_pickle = data['X_train']\n",
    "y_train_pickle = data['y_train']\n",
    "\n",
    "print(\"Loaded X_train:\", X_train_pickle)\n",
    "print(\"Loaded y_train:\", y_train_pickle)"
   ]
  },
  {
   "cell_type": "markdown",
   "id": "c9d6b081-fb5c-45e7-b60a-987156441db7",
   "metadata": {},
   "source": [
    "## 데이터셋에 가중치 곱하기"
   ]
  },
  {
   "cell_type": "code",
   "execution_count": 13,
   "id": "8f54da7f-20d8-4988-afe5-a8863f81bd3e",
   "metadata": {},
   "outputs": [
    {
     "ename": "NameError",
     "evalue": "name 'df_error' is not defined",
     "output_type": "error",
     "traceback": [
      "\u001b[1;31m---------------------------------------------------------------------------\u001b[0m",
      "\u001b[1;31mNameError\u001b[0m                                 Traceback (most recent call last)",
      "Cell \u001b[1;32mIn[13], line 2\u001b[0m\n\u001b[0;32m      1\u001b[0m df_normal \u001b[38;5;241m=\u001b[39m X_train_pickle \u001b[38;5;241m*\u001b[39m wf\n\u001b[1;32m----> 2\u001b[0m df_error \u001b[38;5;241m=\u001b[39m \u001b[43mdf_error\u001b[49m \u001b[38;5;241m*\u001b[39m wf\n\u001b[0;32m      3\u001b[0m df_normal\u001b[38;5;241m.\u001b[39mshape, wf\u001b[38;5;241m.\u001b[39mshape\n",
      "\u001b[1;31mNameError\u001b[0m: name 'df_error' is not defined"
     ]
    }
   ],
   "source": [
    "# df_normal = X_train_pickle * wf\n",
    "# df_error = df_error * wf\n",
    "# df_normal.shape, wf.shape"
   ]
  },
  {
   "cell_type": "markdown",
   "id": "5c74464b-456d-402a-b470-17b121a142fb",
   "metadata": {},
   "source": [
    "## 데이터셋 숫자 늘리기\n",
    "### <span style='color:red'> 몇 배로 데이터를 늘릴 것인가 multi_dim </span>"
   ]
  },
  {
   "cell_type": "code",
   "execution_count": 20,
   "id": "5313b1c5-2d02-4cd9-9adb-729707eecb21",
   "metadata": {},
   "outputs": [
    {
     "name": "stderr",
     "output_type": "stream",
     "text": [
      "100%|██████████████████████████████████████████████████████████████████████████████████| 50/50 [00:00<00:00, 94.76it/s]\n"
     ]
    },
    {
     "ename": "NameError",
     "evalue": "name 'df_error' is not defined",
     "output_type": "error",
     "traceback": [
      "\u001b[1;31m---------------------------------------------------------------------------\u001b[0m",
      "\u001b[1;31mNameError\u001b[0m                                 Traceback (most recent call last)",
      "Cell \u001b[1;32mIn[20], line 2\u001b[0m\n\u001b[0;32m      1\u001b[0m df_normal_aug \u001b[38;5;241m=\u001b[39m fns\u001b[38;5;241m.\u001b[39mmulti_datasets(df_normal, multi_dim\u001b[38;5;241m=\u001b[39m\u001b[38;5;241m50\u001b[39m, num_groups\u001b[38;5;241m=\u001b[39m\u001b[38;5;241m12\u001b[39m)\n\u001b[1;32m----> 2\u001b[0m df_error_aug \u001b[38;5;241m=\u001b[39m fns\u001b[38;5;241m.\u001b[39mmulti_datasets(\u001b[43mdf_error\u001b[49m, multi_dim\u001b[38;5;241m=\u001b[39m \u001b[38;5;241m550\u001b[39m, num_groups\u001b[38;5;241m=\u001b[39m\u001b[38;5;241m12\u001b[39m)\n",
      "\u001b[1;31mNameError\u001b[0m: name 'df_error' is not defined"
     ]
    }
   ],
   "source": [
    "# df_normal_aug = fns.multi_datasets(df_normal, multi_dim=50, num_groups=12)\n",
    "# df_error_aug = fns.multi_datasets(df_error, multi_dim= 550, num_groups=12)"
   ]
  },
  {
   "cell_type": "code",
   "execution_count": 14,
   "id": "5c359ff9-a1c0-4339-a5b5-7ad1b39a0c08",
   "metadata": {},
   "outputs": [],
   "source": [
    "# len(y_train_pickle[y_train_pickle == float(1)]), len(y_train_pickle[y_train_pickle != float(1)])"
   ]
  },
  {
   "cell_type": "code",
   "execution_count": 15,
   "id": "702da14c-3768-4bbe-bbfa-471de9b312ca",
   "metadata": {},
   "outputs": [],
   "source": [
    "# y_train_pickle"
   ]
  },
  {
   "cell_type": "code",
   "execution_count": 16,
   "id": "e2ae7e00-51b4-4134-a160-5d5a06b84418",
   "metadata": {},
   "outputs": [],
   "source": [
    "# X_train_normal = X_train_pickle[:111]\n",
    "# y_train_normal =y_train_pickle[:111]\n",
    "# X_train_normal.shape, y_train_normal"
   ]
  },
  {
   "cell_type": "code",
   "execution_count": 17,
   "id": "9f381cda-3933-4052-b32d-f7cba2e623a4",
   "metadata": {},
   "outputs": [],
   "source": [
    "# X_train_error = X_train_pickle[-10:]\n",
    "# y_train_error = y_train_pickle[-10:]\n",
    "# X_train_error.shape, y_train_error"
   ]
  },
  {
   "cell_type": "code",
   "execution_count": 18,
   "id": "f1faaeec-acc0-4f3a-84d1-a1186a35244d",
   "metadata": {},
   "outputs": [],
   "source": [
    "# X_train_error_aug = fns.multi_datasets(X_train_error, multi_dim=10, num_groups=12)\n",
    "# y_train_error_aug = y_train_error.repeat(10)"
   ]
  },
  {
   "cell_type": "code",
   "execution_count": 19,
   "id": "4ef098f7-5c42-4eca-a2fc-01580bd9f85d",
   "metadata": {},
   "outputs": [],
   "source": [
    "# X_train_error_aug.shape, y_train_error_aug.shape"
   ]
  },
  {
   "cell_type": "code",
   "execution_count": 20,
   "id": "ebde15da-c857-4feb-bdb1-aa7f08066540",
   "metadata": {},
   "outputs": [],
   "source": [
    "# y_train_error_aug"
   ]
  },
  {
   "cell_type": "code",
   "execution_count": 21,
   "id": "399f4725-5877-4293-b57b-8776967b03f1",
   "metadata": {},
   "outputs": [],
   "source": [
    "# X_train_wd = torch.concat((X_train_normal, X_train_error_aug), dim=0)\n",
    "# y_train_wd = torch.concat((y_train_normal, y_train_error_aug), dim=0)"
   ]
  },
  {
   "cell_type": "code",
   "execution_count": 22,
   "id": "7747afb3-c677-488c-bd74-f03bcfe846a9",
   "metadata": {},
   "outputs": [],
   "source": [
    "# X_train_wd.shape, y_train_wd.shape"
   ]
  },
  {
   "cell_type": "code",
   "execution_count": 23,
   "id": "109a0387-ea30-44e9-a846-4c87fc370816",
   "metadata": {},
   "outputs": [],
   "source": [
    "# sns.lineplot(y_train_wd)"
   ]
  },
  {
   "cell_type": "code",
   "execution_count": 24,
   "id": "8b2d2805-9f53-4fc8-b5f6-437a18eda603",
   "metadata": {},
   "outputs": [],
   "source": [
    "# X_train_wd_aug = fns.multi_datasets(X_train_wd, multi_dim=100, num_groups=12)\n",
    "# y_train_wd_aug = y_train_wd.repeat(100)\n",
    "# X_train_wd_aug.shape, y_train_wd_aug.shape"
   ]
  },
  {
   "cell_type": "code",
   "execution_count": 25,
   "id": "6a424c78-5b71-4818-a7bc-3bbdccf9b048",
   "metadata": {},
   "outputs": [],
   "source": [
    "# len(y_train_wd_aug[y_train_wd_aug == 1]), len(y_train_wd_aug[y_train_wd_aug != 1])"
   ]
  },
  {
   "cell_type": "code",
   "execution_count": 26,
   "id": "45ed65b9-15e5-45a2-aa7e-a3414b0244e8",
   "metadata": {},
   "outputs": [],
   "source": [
    "# file_path= 'dataset/train_datasets/train_set_wd_aug.pkl'\n",
    "# with open(file_path, 'wb') as f:\n",
    "#     pickle.dump({'X_train_wd_aug' : X_train_wd_aug, 'y_train_wd_aug': y_train_wd_aug}, f)"
   ]
  },
  {
   "cell_type": "code",
   "execution_count": 27,
   "id": "1b0dc436-9968-48d4-a7f3-6c8bf8d0287e",
   "metadata": {},
   "outputs": [
    {
     "name": "stderr",
     "output_type": "stream",
     "text": [
      "C:\\Users\\user\\anaconda3\\envs\\kdtproj\\Lib\\site-packages\\torch\\storage.py:414: FutureWarning: You are using `torch.load` with `weights_only=False` (the current default value), which uses the default pickle module implicitly. It is possible to construct malicious pickle data which will execute arbitrary code during unpickling (See https://github.com/pytorch/pytorch/blob/main/SECURITY.md#untrusted-models for more details). In a future release, the default value for `weights_only` will be flipped to `True`. This limits the functions that could be executed during unpickling. Arbitrary objects will no longer be allowed to be loaded via this mode unless they are explicitly allowlisted by the user via `torch.serialization.add_safe_globals`. We recommend you start setting `weights_only=True` for any use case where you don't have full control of the loaded file. Please open an issue on GitHub for any issues related to this experimental feature.\n",
      "  return torch.load(io.BytesIO(b))\n"
     ]
    }
   ],
   "source": [
    "# file_path= 'dataset/train_datasets/train_set_wd_aug.pkl'\n",
    "# with open(file_path, 'rb') as f:\n",
    "#     data = pickle.load(f)\n",
    "\n",
    "# X_train_wd_aug = data['X_train_wd_aug']\n",
    "# y_train_wd_aug = data['y_train_wd_aug']"
   ]
  },
  {
   "cell_type": "code",
   "execution_count": 28,
   "id": "673b12b4-b9b7-4e19-9607-72b32b5861fa",
   "metadata": {},
   "outputs": [],
   "source": [
    "X_train_wd_aug = X_train_wd_aug * wf"
   ]
  },
  {
   "cell_type": "code",
   "execution_count": 29,
   "id": "9398029f-79d1-408c-a67f-cd20260b1eb0",
   "metadata": {},
   "outputs": [],
   "source": [
    "# X_train, X_test, y_train, y_test= fns.binary_labeling(df_normal_aug, df_error_aug, test_size=.002, random_state=42 )"
   ]
  },
  {
   "cell_type": "code",
   "execution_count": 30,
   "id": "0fd65555-f8d8-4217-a470-f45c002a9c2a",
   "metadata": {},
   "outputs": [],
   "source": [
    "# X_train.shape, y_train.shape, X_test.shape, y_test.shape"
   ]
  },
  {
   "cell_type": "code",
   "execution_count": 31,
   "id": "0f906bd9-2445-459a-bb21-45a37a18efe9",
   "metadata": {},
   "outputs": [],
   "source": [
    "# print(len(y_train[y_train == 0 ]), len(y_train[y_train == 1]))\n",
    "# print(len(y_test[y_test == 0 ]), len(y_test[y_test == 1]))"
   ]
  },
  {
   "cell_type": "code",
   "execution_count": 32,
   "id": "ae696771-e42b-4792-bc1c-06326f1de60e",
   "metadata": {},
   "outputs": [],
   "source": [
    "# X_test.shape"
   ]
  },
  {
   "cell_type": "code",
   "execution_count": 33,
   "id": "111efb19-562a-4b2b-9a3e-642f46c1a0ba",
   "metadata": {},
   "outputs": [],
   "source": [
    "# X_train_aug = fns.multi_datasets(X_train, multi_dim=3, num_groups=12)\n",
    "# y_train = y_train.repeat(10)"
   ]
  },
  {
   "cell_type": "code",
   "execution_count": 34,
   "id": "14503f90-3d67-4be2-a2db-042a58d17f2d",
   "metadata": {},
   "outputs": [],
   "source": [
    "# print(X_train_aug.shape, y_train.shape)"
   ]
  },
  {
   "cell_type": "code",
   "execution_count": 35,
   "id": "37bb7d56-ed8b-4596-835a-3e03fcf3a281",
   "metadata": {},
   "outputs": [],
   "source": [
    "# df_error_aug = fns.multi_datasets(df_error, multi_dim= 1100, num_groups=12)\n",
    "#"
   ]
  },
  {
   "cell_type": "code",
   "execution_count": 36,
   "id": "f7b5cfb1-cd37-4a81-8413-18bd27512f62",
   "metadata": {},
   "outputs": [
    {
     "name": "stdout",
     "output_type": "stream",
     "text": [
      "Loaded X_dev: tensor([[2.1043e-04, 2.9448e-04, 2.4472e-04,  ..., 6.1457e-04, 6.1808e-04,\n",
      "         5.6178e-04],\n",
      "        [1.9647e-04, 2.4157e-04, 1.7535e-04,  ..., 1.1232e-04, 1.7699e-04,\n",
      "         3.0490e-04],\n",
      "        [2.6128e-04, 2.2513e-04, 1.0218e-04,  ..., 9.2347e-04, 7.9336e-04,\n",
      "         4.3334e-04],\n",
      "        ...,\n",
      "        [4.0388e-04, 4.1982e-04, 2.7370e-04,  ..., 5.8726e-04, 7.4385e-04,\n",
      "         7.6368e-04],\n",
      "        [2.0376e-04, 3.0760e-04, 3.0270e-04,  ..., 9.7332e-04, 5.4711e-04,\n",
      "         3.4396e-05],\n",
      "        [7.4707e-05, 9.6044e-05, 2.9320e-04,  ..., 5.0607e-04, 6.4545e-04,\n",
      "         5.9695e-04]])\n",
      "Loaded y_dev: tensor([1.0000, 1.0000, 1.0000, 1.0000, 1.0000, 1.0000, 1.0000, 1.0000, 1.0000,\n",
      "        1.0000, 1.0000, 1.0000, 1.0000, 1.0000, 1.0000, 1.0000, 1.0000, 1.0000,\n",
      "        1.0000, 1.0000, 1.0000, 1.0000, 1.0000, 1.0000, 1.0000, 1.0000, 1.0000,\n",
      "        1.0000, 1.0000, 1.0000, 1.0000, 1.0000, 1.0000, 1.0000, 0.8991, 0.9672,\n",
      "        0.9818])\n"
     ]
    }
   ],
   "source": [
    "file_path='dataset/train_datasets/dev_sets.pkl'\n",
    "with open(file_path, 'rb') as f:\n",
    "    data = pickle.load(f)\n",
    "\n",
    "# Access the loaded data\n",
    "X_dev_pickle = data['X_dev']\n",
    "y_dev_pickle = data['y_dev']\n",
    "\n",
    "print(\"Loaded X_dev:\", X_dev_pickle)\n",
    "print(\"Loaded y_dev:\", y_dev_pickle)"
   ]
  },
  {
   "cell_type": "code",
   "execution_count": 37,
   "id": "1d1cd274-6c8d-4602-aee9-1f39ca7a0284",
   "metadata": {},
   "outputs": [],
   "source": [
    "dev_x = X_dev_pickle\n",
    "dev_y = y_dev_pickle"
   ]
  },
  {
   "cell_type": "code",
   "execution_count": 38,
   "id": "36bda329-a170-4c16-8aed-bf59000f88de",
   "metadata": {},
   "outputs": [],
   "source": [
    "# dev_x.shape"
   ]
  },
  {
   "cell_type": "code",
   "execution_count": 39,
   "id": "66d80646-721b-444e-8680-5caf0ec54b2e",
   "metadata": {},
   "outputs": [],
   "source": [
    "dev_x = fns.multi_datasets(X_dev_pickle, multi_dim = 2, num_groups= 12)\n",
    "dev_y = y_dev_pickle.repeat(2)\n",
    "# dev_x.shape, dev_y.shape"
   ]
  },
  {
   "cell_type": "code",
   "execution_count": 40,
   "id": "289efadb-6c7f-4261-9187-4829c1ea3dd6",
   "metadata": {},
   "outputs": [],
   "source": [
    "dev_x = dev_x * wf"
   ]
  },
  {
   "cell_type": "markdown",
   "id": "fc5f1cdf-c7e5-4c4e-a54b-c231f364a7d9",
   "metadata": {},
   "source": [
    "## 데이터 상위 x개 추출\n",
    "### <span style='color:red'> get_sorted_top_k_values(data, k = 5000)</span>"
   ]
  },
  {
   "cell_type": "code",
   "execution_count": 41,
   "id": "3d110a37-80d5-461f-9d1d-390b05600453",
   "metadata": {},
   "outputs": [],
   "source": [
    "X_train = fns.get_sorted_top_k_values(X_train_wd_aug, 5000)\n",
    "y_train = y_train_wd_aug\n",
    "# X_test = fns.get_sorted_top_k_values(X_test, 5000)\n",
    "X_dev_pickle = fns.get_sorted_top_k_values(dev_x, 5000)"
   ]
  },
  {
   "cell_type": "code",
   "execution_count": 42,
   "id": "f087d5c7-530a-4394-aec5-83683aaafdf9",
   "metadata": {},
   "outputs": [
    {
     "data": {
      "text/plain": [
       "(torch.Size([21100, 5000]),\n",
       " torch.Size([21100]),\n",
       " torch.Size([74, 5000]),\n",
       " torch.Size([74]))"
      ]
     },
     "execution_count": 42,
     "metadata": {},
     "output_type": "execute_result"
    }
   ],
   "source": [
    "X_train.shape, y_train.shape, X_dev_pickle.shape, dev_y.shape"
   ]
  },
  {
   "cell_type": "code",
   "execution_count": 43,
   "id": "2f34e9d0-5b16-4e31-8eba-946c54ffd14a",
   "metadata": {},
   "outputs": [
    {
     "data": {
      "text/plain": [
       "<Axes: >"
      ]
     },
     "execution_count": 43,
     "metadata": {},
     "output_type": "execute_result"
    },
    {
     "data": {
      "image/png": "[encoded data removed]",
      "text/plain": [
       "<Figure size 640x480 with 1 Axes>"
      ]
     },
     "metadata": {},
     "output_type": "display_data"
    }
   ],
   "source": [
    "sns.lineplot(X_train[1])"
   ]
  },
  {
   "cell_type": "markdown",
   "id": "606a6b5a-a789-4bde-a54a-3e862bd9e669",
   "metadata": {},
   "source": [
    "### <span style=\"color:red\"> Input값이 너무 작을 경우 곱셈으로 늘려준다 (예: * 1000)  </span>"
   ]
  },
  {
   "cell_type": "code",
   "execution_count": 44,
   "id": "30fc7c06-742b-4c01-9791-a623178f0204",
   "metadata": {},
   "outputs": [],
   "source": [
    "train_x = fns.get_sorted_top_k_values(X_train) * 100000\n",
    "# test_x = fns.get_sorted_top_k_values(X_test) * 100000"
   ]
  },
  {
   "cell_type": "code",
   "execution_count": 45,
   "id": "4a1443b2-1c29-4eeb-bb58-23aea985b1d1",
   "metadata": {},
   "outputs": [],
   "source": [
    "dev_x = fns.get_sorted_top_k_values(X_dev_pickle) * 100000"
   ]
  },
  {
   "cell_type": "code",
   "execution_count": 46,
   "id": "dcb377ae-a7df-4889-a75b-cd0d307c80a1",
   "metadata": {
    "scrolled": true
   },
   "outputs": [
    {
     "data": {
      "text/plain": [
       "<Axes: >"
      ]
     },
     "execution_count": 46,
     "metadata": {},
     "output_type": "execute_result"
    },
    {
     "data": {
      "image/png": "[encoded data removed]",
      "text/plain": [
       "<Figure size 640x480 with 1 Axes>"
      ]
     },
     "metadata": {},
     "output_type": "display_data"
    }
   ],
   "source": [
    "sns.lineplot(train_x[0])"
   ]
  },
  {
   "cell_type": "code",
   "execution_count": 47,
   "id": "ba766db6-a770-41db-a528-cc48334d4faa",
   "metadata": {},
   "outputs": [
    {
     "data": {
      "text/plain": [
       "<Axes: >"
      ]
     },
     "execution_count": 47,
     "metadata": {},
     "output_type": "execute_result"
    },
    {
     "data": {
      "image/png": "[encoded data removed]",
      "text/plain": [
       "<Figure size 640x480 with 1 Axes>"
      ]
     },
     "metadata": {},
     "output_type": "display_data"
    }
   ],
   "source": [
    "sns.lineplot(dev_x[1])"
   ]
  },
  {
   "cell_type": "code",
   "execution_count": 48,
   "id": "06d14241-219b-4e00-89a8-ae8930484eda",
   "metadata": {},
   "outputs": [],
   "source": [
    "# sns.lineplot(test_x[1])"
   ]
  },
  {
   "cell_type": "code",
   "execution_count": 49,
   "id": "9341f78c-55c3-4a8f-88c5-faca8dc1e7d4",
   "metadata": {},
   "outputs": [],
   "source": [
    "train_label = y_train\n",
    "# test_label = y_test\n",
    "dev_label = dev_y"
   ]
  },
  {
   "cell_type": "code",
   "execution_count": 50,
   "id": "a930483a-9037-4d68-9309-a8a8d936a1c5",
   "metadata": {},
   "outputs": [
    {
     "data": {
      "text/plain": [
       "(torch.Size([21100, 5000]), torch.Size([21100]))"
      ]
     },
     "execution_count": 50,
     "metadata": {},
     "output_type": "execute_result"
    }
   ],
   "source": [
    "train_x.shape, train_label.shape"
   ]
  },
  {
   "cell_type": "code",
   "execution_count": 51,
   "id": "a19a4325-d347-42aa-a4df-274062b89ff3",
   "metadata": {},
   "outputs": [
    {
     "data": {
      "text/plain": [
       "(torch.Size([74, 5000]), torch.Size([74]))"
      ]
     },
     "execution_count": 51,
     "metadata": {},
     "output_type": "execute_result"
    }
   ],
   "source": [
    "dev_x.shape, dev_y.shape"
   ]
  },
  {
   "cell_type": "code",
   "execution_count": 52,
   "id": "6b2866a1-ac60-44cb-a3ce-69da7108f01a",
   "metadata": {},
   "outputs": [],
   "source": [
    "# test_x.shape, test_label.shape"
   ]
  },
  {
   "cell_type": "code",
   "execution_count": 53,
   "id": "1d8f0290-ce3e-41ce-8df1-75d7c91f04ba",
   "metadata": {},
   "outputs": [],
   "source": [
    "train_dataset = TensorDataset(train_x, train_label)"
   ]
  },
  {
   "cell_type": "code",
   "execution_count": 54,
   "id": "7a5296d8-4987-4ad7-a5b9-39be2b8126bd",
   "metadata": {},
   "outputs": [],
   "source": [
    "# test_dataset = TensorDataset(test_x, test_label)"
   ]
  },
  {
   "cell_type": "code",
   "execution_count": 55,
   "id": "d25c6d81-94c6-4b07-b6f2-67066108a276",
   "metadata": {},
   "outputs": [],
   "source": [
    "dev_dataset = TensorDataset(dev_x, dev_label)"
   ]
  },
  {
   "cell_type": "code",
   "execution_count": 56,
   "id": "6a086663-72b7-4d90-bab3-156cf3adf595",
   "metadata": {},
   "outputs": [],
   "source": [
    "dataloader = DataLoader(train_dataset, batch_size=251, shuffle=True)"
   ]
  },
  {
   "cell_type": "code",
   "execution_count": 57,
   "id": "7ff35bbf-a0ca-43e9-a693-0e3c161d1c4b",
   "metadata": {},
   "outputs": [],
   "source": [
    "# dataloader_test = DataLoader(test_dataset, shuffle=True)"
   ]
  },
  {
   "cell_type": "code",
   "execution_count": 58,
   "id": "3da1787a-4c22-4898-94e8-86ea4748f14a",
   "metadata": {},
   "outputs": [],
   "source": [
    "dataloader_dev = DataLoader(dev_dataset,  shuffle=True)"
   ]
  },
  {
   "cell_type": "code",
   "execution_count": null,
   "id": "ca701478-d52f-41a7-a5ae-d15b49f5e345",
   "metadata": {},
   "outputs": [],
   "source": []
  },
  {
   "cell_type": "markdown",
   "id": "2ba5a73f-bb9f-4fb0-95a2-8a2900f34962",
   "metadata": {},
   "source": [
    "## Model Structure"
   ]
  },
  {
   "cell_type": "code",
   "execution_count": 59,
   "id": "ff3050bb-339c-40bf-9171-659572ef9cb0",
   "metadata": {},
   "outputs": [],
   "source": [
    "learning_rate = 0.001\n",
    "num_epochs = 10\n",
    "\n",
    "model = nn.Sequential(    \n",
    "    nn.Conv1d(in_channels=1, out_channels=16, kernel_size=3, stride=1, padding=0),  \n",
    "    nn.ReLU(), \n",
    "    nn.MaxPool1d(kernel_size=2),  \n",
    "    nn.BatchNorm1d(16),\n",
    "    nn.Conv1d(in_channels=16, out_channels=32, kernel_size=4, stride=1, padding=0),  \n",
    "    nn.ReLU(),\n",
    "    nn.MaxPool1d(kernel_size=4),\n",
    "    nn.BatchNorm1d(32),\n",
    "    nn.Conv1d(in_channels=32, out_channels=16, kernel_size=4, stride=1, padding=0),\n",
    "    nn.ReLU(),\n",
    "    nn.MaxPool1d(kernel_size=4),\n",
    "    nn.BatchNorm1d(16),\n",
    "    nn.Flatten(),\n",
    "    nn.Linear(2480, 1240),  # Adjust according to the actual output size after the last Conv1d\n",
    "    nn.ReLU(), \n",
    "    nn.Dropout(0.3), \n",
    "    nn.Linear(1240, 620),\n",
    "    nn.ReLU(), \n",
    "    nn.Dropout(.3),\n",
    "    nn.Linear(620, 310), \n",
    "    nn.ReLU(), \n",
    "    nn.Linear(310, 128), \n",
    "    nn.ReLU(), \n",
    "    nn.Linear(128, 64), \n",
    "    nn.ReLU(),\n",
    "    nn.Linear(64, 2),\n",
    ")\n",
    "\n",
    "criterion = nn.CrossEntropyLoss() \n",
    "optimizer = optim.Adam(model.parameters(), lr=learning_rate)"
   ]
  },
  {
   "cell_type": "code",
   "execution_count": 60,
   "id": "7011d304-245d-4493-831d-4a1572bb9548",
   "metadata": {},
   "outputs": [
    {
     "name": "stdout",
     "output_type": "stream",
     "text": [
      "Sequential(\n",
      "  (0): Conv1d(1, 16, kernel_size=(3,), stride=(1,))\n",
      "  (1): ReLU()\n",
      "  (2): MaxPool1d(kernel_size=2, stride=2, padding=0, dilation=1, ceil_mode=False)\n",
      "  (3): BatchNorm1d(16, eps=1e-05, momentum=0.1, affine=True, track_running_stats=True)\n",
      "  (4): Conv1d(16, 32, kernel_size=(4,), stride=(1,))\n",
      "  (5): ReLU()\n",
      "  (6): MaxPool1d(kernel_size=4, stride=4, padding=0, dilation=1, ceil_mode=False)\n",
      "  (7): BatchNorm1d(32, eps=1e-05, momentum=0.1, affine=True, track_running_stats=True)\n",
      "  (8): Conv1d(32, 16, kernel_size=(4,), stride=(1,))\n",
      "  (9): ReLU()\n",
      "  (10): MaxPool1d(kernel_size=4, stride=4, padding=0, dilation=1, ceil_mode=False)\n",
      "  (11): BatchNorm1d(16, eps=1e-05, momentum=0.1, affine=True, track_running_stats=True)\n",
      "  (12): Flatten(start_dim=1, end_dim=-1)\n",
      "  (13): Linear(in_features=2480, out_features=1240, bias=True)\n",
      "  (14): ReLU()\n",
      "  (15): Dropout(p=0.3, inplace=False)\n",
      "  (16): Linear(in_features=1240, out_features=620, bias=True)\n",
      "  (17): ReLU()\n",
      "  (18): Dropout(p=0.3, inplace=False)\n",
      "  (19): Linear(in_features=620, out_features=310, bias=True)\n",
      "  (20): ReLU()\n",
      "  (21): Linear(in_features=310, out_features=128, bias=True)\n",
      "  (22): ReLU()\n",
      "  (23): Linear(in_features=128, out_features=64, bias=True)\n",
      "  (24): ReLU()\n",
      "  (25): Linear(in_features=64, out_features=2, bias=True)\n",
      ")\n"
     ]
    }
   ],
   "source": [
    "print(model)"
   ]
  },
  {
   "cell_type": "markdown",
   "id": "b98a82fb-2b38-4fb9-b0b9-ee80da434d38",
   "metadata": {},
   "source": [
    "### Model Training"
   ]
  },
  {
   "cell_type": "code",
   "execution_count": 61,
   "id": "e1f37db5-a10d-4be6-83d2-c455d8ab372b",
   "metadata": {},
   "outputs": [
    {
     "name": "stdout",
     "output_type": "stream",
     "text": [
      "cuda\n",
      "Epoch [1/10], Loss: 0.2493\n",
      "Epoch [2/10], Loss: 0.0309\n",
      "Epoch [3/10], Loss: 0.0140\n",
      "Epoch [4/10], Loss: 0.0281\n",
      "Epoch [5/10], Loss: 0.0053\n",
      "Epoch [6/10], Loss: 0.0102\n",
      "Epoch [7/10], Loss: 0.0051\n",
      "Epoch [8/10], Loss: 0.0034\n",
      "Epoch [9/10], Loss: 0.0057\n",
      "Epoch [10/10], Loss: 0.0206\n"
     ]
    }
   ],
   "source": [
    "device = torch.device(\"cuda\" if torch.cuda.is_available() else \"cpu\")\n",
    "print(device)\n",
    "\n",
    "model.to(device)\n",
    "\n",
    "for epoch in range(num_epochs):\n",
    "    model.train()\n",
    "    running_loss = 0.0\n",
    "\n",
    "    for x_batch, labels in dataloader:\n",
    "        optimizer.zero_grad()\n",
    "\n",
    "        # Reshape x_batch to have one input channel\n",
    "        x_batch = x_batch.unsqueeze(1)  # Reshape: (batch_size, 1, 5000)\n",
    "        x_batch = x_batch.to(device)  # Move x_batch to device\n",
    "        labels = labels.to(device)  # Move labels to device\n",
    "        labels = labels.to(device).long()  \n",
    "        \n",
    "        outputs = model(x_batch)\n",
    "        loss = criterion(outputs, labels)\n",
    "\n",
    "        loss.backward()\n",
    "        optimizer.step()\n",
    "\n",
    "        running_loss += loss.item()\n",
    "\n",
    "    avg_loss = running_loss / len(dataloader)\n",
    "    print(f\"Epoch [{epoch + 1}/{num_epochs}], Loss: {avg_loss:.4f}\")"
   ]
  },
  {
   "cell_type": "markdown",
   "id": "34513def-f091-4540-8911-47561483eb9e",
   "metadata": {},
   "source": [
    "## Model Evaluation"
   ]
  },
  {
   "cell_type": "code",
   "execution_count": 62,
   "id": "9ed687e9-5a99-4ea9-8276-a1b71c038e4e",
   "metadata": {
    "scrolled": true
   },
   "outputs": [
    {
     "name": "stdout",
     "output_type": "stream",
     "text": [
      "cuda\n",
      "Evaluation Loss: 3.9140\n",
      "Precision: 0.8378, Recall: 0.8378, F1 Score: 0.8378\n",
      "Predicted positives out of all negatives: 1.0 = 6/6\n",
      "Predicted negatives out of all positives: 0.08823529411764706 = 6/68\n",
      "[0, 1, 1, 1, 1, 1, 1, 1, 1, 1, 1, 1, 1, 1, 1, 1, 1, 1, 1, 1, 1, 1, 1, 1, 1, 0, 1, 1, 1, 1, 1, 1, 1, 1, 1, 1, 1, 1, 1, 1, 1, 1, 1, 1, 1, 0, 1, 1, 1, 1, 1, 1, 1, 1, 1, 1, 0, 1, 1, 1, 1, 1, 1, 0, 1, 1, 1, 1, 0, 1, 1, 1, 1, 1]\n",
      "[1, 1, 1, 1, 1, 1, 1, 1, 1, 1, 1, 1, 1, 1, 0, 0, 1, 1, 1, 1, 1, 1, 1, 1, 1, 1, 1, 1, 1, 1, 1, 0, 1, 1, 1, 1, 1, 0, 1, 1, 1, 0, 1, 1, 1, 1, 1, 1, 1, 1, 1, 1, 1, 0, 1, 1, 1, 1, 1, 1, 1, 1, 1, 1, 1, 1, 1, 1, 1, 1, 1, 1, 1, 1]\n",
      "correct_cnt 0\n",
      "neg_pred_cnt 6\n"
     ]
    }
   ],
   "source": [
    "model.eval()\n",
    "\n",
    "device = torch.device(\"cuda\" if torch.cuda.is_available() else \"cpu\")\n",
    "print(device)\n",
    "\n",
    "model.to(device)\n",
    "\n",
    "# Initialize variables to keep track of the loss and predictions\n",
    "total_loss = 0.0\n",
    "all_labels = []\n",
    "all_predictions = []\n",
    "correct_cnt = 0\n",
    "neg_pred_cnt = 0 \n",
    "\n",
    "with torch.no_grad():\n",
    "    for x_batch, labels in dataloader_dev:  # Assuming you have a separate validation or test DataLoader\n",
    "        # Reshape x_batch to have one input channel\n",
    "        x_batch = x_batch.unsqueeze(1)  # Reshape: (batch_size, 1, 5000)\n",
    "        x_batch = x_batch.to(device)  # Move x_batch to device\n",
    "        \n",
    "        # labels = labels.to(device)\n",
    "        labels = labels.to(device).long() #DEV로 평가할 경우\n",
    "        \n",
    "        outputs = model(x_batch)  # Forward pass\n",
    "        loss = criterion(outputs, labels)  # Calculate loss\n",
    "        \n",
    "        total_loss += loss.item()  # Accumulate the loss\n",
    "        \n",
    "        # Get predictions\n",
    "        _, predicted = torch.max(outputs, 1)  # Get the index of the max log-probability\n",
    "        \n",
    "        all_labels.extend(labels.cpu().numpy())  # Store true labels\n",
    "        all_predictions.extend(predicted.cpu().numpy())  # Store predicted labels\n",
    "\n",
    "# Calculate average loss\n",
    "avg_loss = total_loss / len(dataloader)\n",
    "\n",
    "# Calculate precision, recall, and F1 score\n",
    "precision = precision_score(all_labels, all_predictions, average='weighted')  # Use 'micro' or 'macro' if needed\n",
    "recall = recall_score(all_labels, all_predictions, average='weighted')\n",
    "f1 = f1_score(all_labels, all_predictions, average='weighted')\n",
    "\n",
    "cm = confusion_matrix(all_labels, all_predictions)\n",
    "\n",
    "TN = cm[0, 0]  \n",
    "FP = cm[0, 1] \n",
    "FN = cm[1, 0]  \n",
    "TP = cm[1, 1]  \n",
    "\n",
    "FPR = FP / (FP + TN) if (FP + TN) > 0 else 0  \n",
    "FNR = FN / (FN + TP) if (FN + TP) > 0 else 0  \n",
    "\n",
    "# Print results\n",
    "print(f\"Evaluation Loss: {avg_loss:.4f}\")\n",
    "print(f\"Precision: {precision:.4f}, Recall: {recall:.4f}, F1 Score: {f1:.4f}\")\n",
    "print(f'Predicted positives out of all negatives: {FPR} = {FP}/{FP + TN}')\n",
    "print(f'Predicted negatives out of all positives: {FNR} = {FN}/{FN + TP}')\n",
    "print(all_labels)\n",
    "print(all_predictions)\n",
    "for i in range(len(all_labels)) :\n",
    "    if all_labels[i] == 0 and all_predictions[i] == 0:\n",
    "        correct_cnt += 1\n",
    "for pred in all_predictions:\n",
    "    if pred == 0:\n",
    "        neg_pred_cnt += 1\n",
    "\n",
    "print(f'correct_cnt {correct_cnt}')\n",
    "print(f'neg_pred_cnt {neg_pred_cnt}')\n",
    "# len(all_labels)"
   ]
  },
  {
   "cell_type": "markdown",
   "id": "a8c93d1a-b87f-4ff1-a1b3-3d9484f309f8",
   "metadata": {},
   "source": [
    "## 모델 저장"
   ]
  },
  {
   "cell_type": "code",
   "execution_count": 63,
   "id": "919c278f-c519-4ee4-8504-102f123a6166",
   "metadata": {},
   "outputs": [],
   "source": [
    "# torch.save(model, 'model_v0.0.4.pth')"
   ]
  },
  {
   "cell_type": "code",
   "execution_count": null,
   "id": "574668fd-0665-4ceb-86bb-c9935ef15ea0",
   "metadata": {},
   "outputs": [],
   "source": []
  }
 ],
 "metadata": {
  "kernelspec": {
   "display_name": "Python 3 (ipykernel)",
   "language": "python",
   "name": "python3"
  },
  "language_info": {
   "codemirror_mode": {
    "name": "ipython",
    "version": 3
   },
   "file_extension": ".py",
   "mimetype": "text/x-python",
   "name": "python",
   "nbconvert_exporter": "python",
   "pygments_lexer": "ipython3",
   "version": "3.12.4"
  }
 },
 "nbformat": 4,
 "nbformat_minor": 5
}
