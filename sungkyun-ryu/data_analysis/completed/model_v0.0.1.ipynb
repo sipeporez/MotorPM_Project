{
 "cells": [
  {
   "cell_type": "markdown",
   "id": "aaba1d94-9caf-406a-85ac-b291bc92c1bd",
   "metadata": {},
   "source": [
    "## Import Libraries"
   ]
  },
  {
   "cell_type": "code",
   "execution_count": 1,
   "id": "6b298e3e-98ce-4a31-a823-7f2d5f82f6ab",
   "metadata": {},
   "outputs": [],
   "source": [
    "import pandas as pd\n",
    "import numpy as np \n",
    "import matplotlib.pyplot as plt\n",
    "import seaborn as sns\n",
    "import torch\n",
    "import torch.nn as nn\n",
    "import os\n",
    "from itertools import chain\n",
    "\n",
    "import torch.optim as optim\n",
    "from torch.utils.data import DataLoader, TensorDataset\n",
    "# import transform_fns as trans\n",
    "import pdm_functions as fns\n",
    "from sklearn.metrics import precision_score, recall_score, f1_score\n",
    "from scipy.stats import gaussian_kde\n",
    "\n",
    "import pickle\n",
    "\n"
   ]
  },
  {
   "cell_type": "markdown",
   "id": "7f461993-e306-45c0-820a-a52b63a217cb",
   "metadata": {},
   "source": [
    "## Weight계산 "
   ]
  },
  {
   "cell_type": "code",
   "execution_count": 2,
   "id": "74507d43-468d-4cdf-9e22-840a988162d5",
   "metadata": {},
   "outputs": [],
   "source": [
    "df_normal= pd.read_csv('../dataset/5528_spec_normal.csv')\n",
    "df_error= pd.read_csv('../dataset/5528_spec_error.csv')"
   ]
  },
  {
   "cell_type": "code",
   "execution_count": 3,
   "id": "9c529064-a2a2-4134-9e3e-a4cc44f4a3bf",
   "metadata": {},
   "outputs": [],
   "source": [
    "df_normal['spectrum_x_amp']= df_normal['spectrum_x_amp'].apply(lambda x: [float(num) for num in x.split(',')][1:])"
   ]
  },
  {
   "cell_type": "code",
   "execution_count": 4,
   "id": "73057185-77f9-4579-a1ae-3bb77c8bd71f",
   "metadata": {},
   "outputs": [],
   "source": [
    "wf = fns.rpm_approx_weighted_fn(df_normal['spectrum_x_amp'], 1, 2048, 2048)"
   ]
  },
  {
   "cell_type": "markdown",
   "id": "13c6b5d5-6e2a-416a-80e9-ba2e8b25489d",
   "metadata": {},
   "source": [
    "### <span style='color:red'> 가중치 standardization </span>"
   ]
  },
  {
   "cell_type": "code",
   "execution_count": 5,
   "id": "2a65801f-3a9b-4c04-a1e4-6c3a00633379",
   "metadata": {},
   "outputs": [],
   "source": [
    "# wf = fns.min_max_standardization(wf)"
   ]
  },
  {
   "cell_type": "code",
   "execution_count": 6,
   "id": "994187cd-bcbb-4f7b-ad63-6ed8af20481b",
   "metadata": {},
   "outputs": [],
   "source": [
    "wf = wf * 36\n",
    "wf = torch.tensor(wf)"
   ]
  },
  {
   "cell_type": "markdown",
   "id": "d29c3f11-2b2e-46b3-b5fd-2b2c241415ba",
   "metadata": {},
   "source": [
    "## 데이터셋 (tensors)"
   ]
  },
  {
   "cell_type": "code",
   "execution_count": 7,
   "id": "725047c5-10d8-4d4e-a635-e964d5febbdf",
   "metadata": {},
   "outputs": [],
   "source": [
    "df_normal = fns.csv_to_tensor_stack('../dataset/5528_spec_normal.csv')\n",
    "df_error = fns.csv_to_tensor_stack('../dataset/5528_spec_error.csv')"
   ]
  },
  {
   "cell_type": "markdown",
   "id": "c9d6b081-fb5c-45e7-b60a-987156441db7",
   "metadata": {},
   "source": [
    "## 데이터셋에 가중치 곱하기"
   ]
  },
  {
   "cell_type": "code",
   "execution_count": 8,
   "id": "8f54da7f-20d8-4988-afe5-a8863f81bd3e",
   "metadata": {},
   "outputs": [],
   "source": [
    "df_normal.shape\n",
    "wf.shape\n",
    "df_normal = df_normal * wf\n",
    "df_error = df_error * wf"
   ]
  },
  {
   "cell_type": "markdown",
   "id": "5c74464b-456d-402a-b470-17b121a142fb",
   "metadata": {},
   "source": [
    "## 데이터셋 숫자 늘리기\n",
    "### <span style='color:red'> 몇 배로 데이터를 늘릴 것인가 multi_dim </span>"
   ]
  },
  {
   "cell_type": "code",
   "execution_count": null,
   "id": "111efb19-562a-4b2b-9a3e-642f46c1a0ba",
   "metadata": {},
   "outputs": [],
   "source": [
    "df_normal_aug = fns.multi_datasets(df_normal, multi_dim=300)\n"
   ]
  },
  {
   "cell_type": "code",
   "execution_count": null,
   "id": "37bb7d56-ed8b-4596-835a-3e03fcf3a281",
   "metadata": {},
   "outputs": [],
   "source": [
    "df_error_aug = fns.multi_datasets(df_error, multi_dim= 3300)\n"
   ]
  },
  {
   "cell_type": "code",
   "execution_count": null,
   "id": "a1a5e689-0fb9-468e-83cc-d8bebd4c9805",
   "metadata": {},
   "outputs": [],
   "source": [
    "print(df_normal_aug.shape, df_error_aug.shape)"
   ]
  },
  {
   "cell_type": "code",
   "execution_count": 74,
   "id": "5dd15742-f370-42e7-87f8-d9ba3fdde445",
   "metadata": {},
   "outputs": [],
   "source": [
    "X_train, X_test, y_train, y_test= fns.binary_labeling(df_normal_aug, df_error_aug, test_size=.2, random_state=42 )"
   ]
  },
  {
   "cell_type": "markdown",
   "id": "fc5f1cdf-c7e5-4c4e-a54b-c231f364a7d9",
   "metadata": {},
   "source": [
    "## 데이터 상위 x개 추출\n",
    "### <span style='color:red'> get_sorted_top_k_values(data, k = 5000)</span>"
   ]
  },
  {
   "cell_type": "code",
   "execution_count": 75,
   "id": "3d110a37-80d5-461f-9d1d-390b05600453",
   "metadata": {},
   "outputs": [],
   "source": [
    "X_train = fns.get_sorted_top_k_values(X_train, 5000)"
   ]
  },
  {
   "cell_type": "code",
   "execution_count": 76,
   "id": "f087d5c7-530a-4394-aec5-83683aaafdf9",
   "metadata": {},
   "outputs": [
    {
     "data": {
      "text/plain": [
       "(torch.Size([8520, 5000]), torch.Size([8520]))"
      ]
     },
     "execution_count": 76,
     "metadata": {},
     "output_type": "execute_result"
    }
   ],
   "source": [
    "X_train.shape, y_train.shape"
   ]
  },
  {
   "cell_type": "markdown",
   "id": "606a6b5a-a789-4bde-a54a-3e862bd9e669",
   "metadata": {},
   "source": [
    "### <span style=\"color:red\"> Input값이 너무 작을 경우 곱셈으로 늘려준다 (예: * 1000)  </span>"
   ]
  },
  {
   "cell_type": "code",
   "execution_count": 77,
   "id": "30fc7c06-742b-4c01-9791-a623178f0204",
   "metadata": {},
   "outputs": [],
   "source": [
    "train_x = fns.get_sorted_top_k_values(X_train) * 100000"
   ]
  },
  {
   "cell_type": "code",
   "execution_count": 78,
   "id": "4a1443b2-1c29-4eeb-bb58-23aea985b1d1",
   "metadata": {},
   "outputs": [],
   "source": [
    "test_x = fns.get_sorted_top_k_values(X_test) * 100000"
   ]
  },
  {
   "cell_type": "code",
   "execution_count": 79,
   "id": "dcb377ae-a7df-4889-a75b-cd0d307c80a1",
   "metadata": {},
   "outputs": [
    {
     "data": {
      "text/plain": [
       "<Axes: >"
      ]
     },
     "execution_count": 79,
     "metadata": {},
     "output_type": "execute_result"
    },
    {
     "data": {
      "image/png": "[encoded data removed]",
      "text/plain": [
       "<Figure size 640x480 with 1 Axes>"
      ]
     },
     "metadata": {},
     "output_type": "display_data"
    }
   ],
   "source": [
    "sns.lineplot(train_x[0])"
   ]
  },
  {
   "cell_type": "code",
   "execution_count": 80,
   "id": "ba766db6-a770-41db-a528-cc48334d4faa",
   "metadata": {},
   "outputs": [
    {
     "data": {
      "text/plain": [
       "<Axes: >"
      ]
     },
     "execution_count": 80,
     "metadata": {},
     "output_type": "execute_result"
    },
    {
     "data": {
      "image/png": "[encoded data removed]",
      "text/plain": [
       "<Figure size 640x480 with 1 Axes>"
      ]
     },
     "metadata": {},
     "output_type": "display_data"
    }
   ],
   "source": [
    "sns.lineplot(test_x[3])"
   ]
  },
  {
   "cell_type": "code",
   "execution_count": 81,
   "id": "9341f78c-55c3-4a8f-88c5-faca8dc1e7d4",
   "metadata": {},
   "outputs": [],
   "source": [
    "train_label = y_train\n",
    "test_label = y_test"
   ]
  },
  {
   "cell_type": "code",
   "execution_count": 82,
   "id": "a930483a-9037-4d68-9309-a8a8d936a1c5",
   "metadata": {},
   "outputs": [
    {
     "data": {
      "text/plain": [
       "(torch.Size([8520, 5000]), torch.Size([8520]))"
      ]
     },
     "execution_count": 82,
     "metadata": {},
     "output_type": "execute_result"
    }
   ],
   "source": [
    "train_x.shape, train_label.shape"
   ]
  },
  {
   "cell_type": "code",
   "execution_count": 83,
   "id": "a19a4325-d347-42aa-a4df-274062b89ff3",
   "metadata": {},
   "outputs": [
    {
     "data": {
      "text/plain": [
       "(torch.Size([2130, 5000]), torch.Size([2130]))"
      ]
     },
     "execution_count": 83,
     "metadata": {},
     "output_type": "execute_result"
    }
   ],
   "source": [
    "test_x.shape, test_label.shape"
   ]
  },
  {
   "cell_type": "code",
   "execution_count": 84,
   "id": "1d8f0290-ce3e-41ce-8df1-75d7c91f04ba",
   "metadata": {},
   "outputs": [],
   "source": [
    "train_dataset = TensorDataset(train_x, train_label)"
   ]
  },
  {
   "cell_type": "code",
   "execution_count": 85,
   "id": "d25c6d81-94c6-4b07-b6f2-67066108a276",
   "metadata": {},
   "outputs": [],
   "source": [
    "test_dataset = TensorDataset(test_x, test_label)"
   ]
  },
  {
   "cell_type": "code",
   "execution_count": 86,
   "id": "6a086663-72b7-4d90-bab3-156cf3adf595",
   "metadata": {},
   "outputs": [],
   "source": [
    "dataloader = DataLoader(train_dataset, batch_size=128, shuffle=True)"
   ]
  },
  {
   "cell_type": "code",
   "execution_count": 87,
   "id": "3da1787a-4c22-4898-94e8-86ea4748f14a",
   "metadata": {},
   "outputs": [],
   "source": [
    "dataloader_test =DataLoader(test_dataset, batch_size= 128, shuffle=True)"
   ]
  },
  {
   "cell_type": "markdown",
   "id": "2ba5a73f-bb9f-4fb0-95a2-8a2900f34962",
   "metadata": {},
   "source": [
    "## Model Structure\n",
    "### <span style='color:red'> 모델 시퀀스 </span>"
   ]
  },
  {
   "cell_type": "code",
   "execution_count": 88,
   "id": "ff3050bb-339c-40bf-9171-659572ef9cb0",
   "metadata": {},
   "outputs": [],
   "source": [
    "learning_rate = 0.001\n",
    "num_epochs = 25\n",
    "\n",
    "model = nn.Sequential(    \n",
    "    nn.Conv1d(in_channels=1, out_channels=16, kernel_size=2, stride=2, padding=0),  \n",
    "    nn.ReLU(), \n",
    "    nn.MaxPool1d(kernel_size=2),  \n",
    "    nn.Conv1d(in_channels=16, out_channels=32, kernel_size=2, stride=2, padding=0),  \n",
    "    nn.ReLU(),\n",
    "    nn.MaxPool1d(kernel_size=2),\n",
    "    nn.Flatten(),\n",
    "    nn.Linear(32 * 312 , 64), \n",
    "    nn.ReLU(),\n",
    "    nn.Linear(64, 2)  \n",
    ")\n",
    "\n",
    "criterion = nn.CrossEntropyLoss() \n",
    "optimizer = optim.Adam(model.parameters(), lr=learning_rate)"
   ]
  },
  {
   "cell_type": "code",
   "execution_count": 89,
   "id": "7011d304-245d-4493-831d-4a1572bb9548",
   "metadata": {},
   "outputs": [
    {
     "name": "stdout",
     "output_type": "stream",
     "text": [
      "Sequential(\n",
      "  (0): Conv1d(1, 16, kernel_size=(2,), stride=(2,))\n",
      "  (1): ReLU()\n",
      "  (2): MaxPool1d(kernel_size=2, stride=2, padding=0, dilation=1, ceil_mode=False)\n",
      "  (3): Conv1d(16, 32, kernel_size=(2,), stride=(2,))\n",
      "  (4): ReLU()\n",
      "  (5): MaxPool1d(kernel_size=2, stride=2, padding=0, dilation=1, ceil_mode=False)\n",
      "  (6): Flatten(start_dim=1, end_dim=-1)\n",
      "  (7): Linear(in_features=9984, out_features=64, bias=True)\n",
      "  (8): ReLU()\n",
      "  (9): Linear(in_features=64, out_features=2, bias=True)\n",
      ")\n"
     ]
    }
   ],
   "source": [
    "print(model)"
   ]
  },
  {
   "cell_type": "markdown",
   "id": "b98a82fb-2b38-4fb9-b0b9-ee80da434d38",
   "metadata": {},
   "source": [
    "### Model Training"
   ]
  },
  {
   "cell_type": "code",
   "execution_count": 90,
   "id": "e1f37db5-a10d-4be6-83d2-c455d8ab372b",
   "metadata": {},
   "outputs": [
    {
     "name": "stdout",
     "output_type": "stream",
     "text": [
      "cuda\n",
      "Epoch [1/25], Loss: 0.6446\n",
      "Epoch [2/25], Loss: 0.5430\n",
      "Epoch [3/25], Loss: 0.4796\n",
      "Epoch [4/25], Loss: 0.4176\n",
      "Epoch [5/25], Loss: 0.3442\n",
      "Epoch [6/25], Loss: 0.2741\n",
      "Epoch [7/25], Loss: 0.2100\n",
      "Epoch [8/25], Loss: 0.1618\n",
      "Epoch [9/25], Loss: 0.1172\n",
      "Epoch [10/25], Loss: 0.0909\n",
      "Epoch [11/25], Loss: 0.0702\n",
      "Epoch [12/25], Loss: 0.0548\n",
      "Epoch [13/25], Loss: 0.0499\n",
      "Epoch [14/25], Loss: 0.0447\n",
      "Epoch [15/25], Loss: 0.0377\n",
      "Epoch [16/25], Loss: 0.0333\n",
      "Epoch [17/25], Loss: 0.0368\n",
      "Epoch [18/25], Loss: 0.0863\n",
      "Epoch [19/25], Loss: 0.0500\n",
      "Epoch [20/25], Loss: 0.0301\n",
      "Epoch [21/25], Loss: 0.0226\n",
      "Epoch [22/25], Loss: 0.0229\n",
      "Epoch [23/25], Loss: 0.0184\n",
      "Epoch [24/25], Loss: 0.0184\n",
      "Epoch [25/25], Loss: 0.0146\n"
     ]
    }
   ],
   "source": [
    "device = torch.device(\"cuda\" if torch.cuda.is_available() else \"cpu\")\n",
    "print(device)\n",
    "\n",
    "model.to(device)\n",
    "\n",
    "for epoch in range(num_epochs):\n",
    "    model.train()\n",
    "    running_loss = 0.0\n",
    "\n",
    "    for x_batch, labels in dataloader:\n",
    "        optimizer.zero_grad()\n",
    "\n",
    "        # Reshape x_batch to have one input channel\n",
    "        x_batch = x_batch.unsqueeze(1)  # Reshape: (batch_size, 1, 5000)\n",
    "        x_batch = x_batch.to(device)  # Move x_batch to device\n",
    "        labels = labels.to(device)  # Move labels to device\n",
    "        \n",
    "        outputs = model(x_batch)\n",
    "        loss = criterion(outputs, labels)\n",
    "\n",
    "        loss.backward()\n",
    "        optimizer.step()\n",
    "\n",
    "        running_loss += loss.item()\n",
    "\n",
    "    avg_loss = running_loss / len(dataloader)\n",
    "    print(f\"Epoch [{epoch + 1}/{num_epochs}], Loss: {avg_loss:.4f}\")"
   ]
  },
  {
   "cell_type": "markdown",
   "id": "34513def-f091-4540-8911-47561483eb9e",
   "metadata": {},
   "source": [
    "## Model Evaluation"
   ]
  },
  {
   "cell_type": "code",
   "execution_count": 91,
   "id": "9ed687e9-5a99-4ea9-8276-a1b71c038e4e",
   "metadata": {
    "jupyter": {
     "source_hidden": true
    }
   },
   "outputs": [
    {
     "name": "stdout",
     "output_type": "stream",
     "text": [
      "cuda\n",
      "Evaluation Loss: 0.2873\n",
      "Precision: 0.8067, Recall: 0.8066, F1 Score: 0.8066\n"
     ]
    }
   ],
   "source": [
    "model.eval()\n",
    "\n",
    "device = torch.device(\"cuda\" if torch.cuda.is_available() else \"cpu\")\n",
    "print(device)\n",
    "\n",
    "model.to(device)\n",
    "\n",
    "# Initialize variables to keep track of the loss and predictions\n",
    "total_loss = 0.0\n",
    "all_labels = []\n",
    "all_predictions = []\n",
    "\n",
    "with torch.no_grad():\n",
    "    for x_batch, labels in dataloader_test:  # Assuming you have a separate validation or test DataLoader\n",
    "        # Reshape x_batch to have one input channel\n",
    "        x_batch = x_batch.unsqueeze(1)  # Reshape: (batch_size, 1, 5000)\n",
    "        x_batch = x_batch.to(device)  # Move x_batch to device\n",
    "        labels = labels.to(device)\n",
    "        \n",
    "        outputs = model(x_batch)  # Forward pass\n",
    "        loss = criterion(outputs, labels)  # Calculate loss\n",
    "        \n",
    "        total_loss += loss.item()  # Accumulate the loss\n",
    "        \n",
    "        # Get predictions\n",
    "        _, predicted = torch.max(outputs, 1)  # Get the index of the max log-probability\n",
    "        \n",
    "        all_labels.extend(labels.cpu().numpy())  # Store true labels\n",
    "        all_predictions.extend(predicted.cpu().numpy())  # Store predicted labels\n",
    "\n",
    "# Calculate average loss\n",
    "avg_loss = total_loss / len(dataloader)\n",
    "\n",
    "# Calculate precision, recall, and F1 score\n",
    "precision = precision_score(all_labels, all_predictions, average='weighted')  # Use 'micro' or 'macro' if needed\n",
    "recall = recall_score(all_labels, all_predictions, average='weighted')\n",
    "f1 = f1_score(all_labels, all_predictions, average='weighted')\n",
    "\n",
    "# Print results\n",
    "print(f\"Evaluation Loss: {avg_loss:.4f}\")\n",
    "print(f\"Precision: {precision:.4f}, Recall: {recall:.4f}, F1 Score: {f1:.4f}\")\n",
    "# print(all_labels)\n",
    "# print(all_predictions)"
   ]
  },
  {
   "cell_type": "markdown",
   "id": "a8c93d1a-b87f-4ff1-a1b3-3d9484f309f8",
   "metadata": {},
   "source": [
    "## 모델 저장"
   ]
  },
  {
   "cell_type": "code",
   "execution_count": 92,
   "id": "919c278f-c519-4ee4-8504-102f123a6166",
   "metadata": {},
   "outputs": [],
   "source": [
    "torch.save(model, 'model_v0.0.3.pth')"
   ]
  },
  {
   "cell_type": "code",
   "execution_count": null,
   "id": "574668fd-0665-4ceb-86bb-c9935ef15ea0",
   "metadata": {},
   "outputs": [],
   "source": []
  }
 ],
 "metadata": {
  "kernelspec": {
   "display_name": "Python 3 (ipykernel)",
   "language": "python",
   "name": "python3"
  },
  "language_info": {
   "codemirror_mode": {
    "name": "ipython",
    "version": 3
   },
   "file_extension": ".py",
   "mimetype": "text/x-python",
   "name": "python",
   "nbconvert_exporter": "python",
   "pygments_lexer": "ipython3",
   "version": "3.12.4"
  }
 },
 "nbformat": 4,
 "nbformat_minor": 5
}
