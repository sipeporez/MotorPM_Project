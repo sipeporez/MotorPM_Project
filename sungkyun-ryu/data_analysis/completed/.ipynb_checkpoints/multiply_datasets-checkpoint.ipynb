{
 "cells": [
  {
   "cell_type": "code",
   "execution_count": null,
   "id": "6fddf0cd-605d-4fd3-8fe0-17f1b6040e82",
   "metadata": {},
   "outputs": [],
   "source": []
  },
  {
   "cell_type": "code",
   "execution_count": null,
   "id": "5a641486-5345-449a-8076-b7fe6a44f00a",
   "metadata": {},
   "outputs": [],
   "source": [
    "grouped_tensor = tensor.view(179, num_groups, group_size)"
   ]
  }
 ],
 "metadata": {
  "kernelspec": {
   "display_name": "Python 3 (ipykernel)",
   "language": "python",
   "name": "python3"
  },
  "language_info": {
   "codemirror_mode": {
    "name": "ipython",
    "version": 3
   },
   "file_extension": ".py",
   "mimetype": "text/x-python",
   "name": "python",
   "nbconvert_exporter": "python",
   "pygments_lexer": "ipython3",
   "version": "3.12.4"
  }
 },
 "nbformat": 4,
 "nbformat_minor": 5
}
