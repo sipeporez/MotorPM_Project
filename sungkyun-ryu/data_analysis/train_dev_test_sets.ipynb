{
 "cells": [
  {
   "cell_type": "code",
   "execution_count": 1,
   "id": "3e53e796-5738-43f3-8ccf-aacdbbbcbdf9",
   "metadata": {},
   "outputs": [],
   "source": [
    "import process_fns as pfns\n",
    "import pdm_functions as fns\n",
    "import h5py\n",
    "import os\n",
    "import pickle"
   ]
  },
  {
   "cell_type": "code",
   "execution_count": 2,
   "id": "3bceded4-de05-4be1-b954-ce84adfe4e81",
   "metadata": {},
   "outputs": [
    {
     "name": "stdout",
     "output_type": "stream",
     "text": [
      "C:\\SK\\ai_proj\\data_analysis\n"
     ]
    }
   ],
   "source": [
    "print(os.getcwd())"
   ]
  },
  {
   "cell_type": "code",
   "execution_count": 3,
   "id": "e62a8cd0-17ff-4622-a0a8-7c6183ebe598",
   "metadata": {},
   "outputs": [
    {
     "name": "stderr",
     "output_type": "stream",
     "text": [
      "C:\\SK\\ai_proj\\data_analysis\\process_fns.py:40: SettingWithCopyWarning: \n",
      "A value is trying to be set on a copy of a slice from a DataFrame.\n",
      "Try using .loc[row_indexer,col_indexer] = value instead\n",
      "\n",
      "See the caveats in the documentation: https://pandas.pydata.org/pandas-docs/stable/user_guide/indexing.html#returning-a-view-versus-a-copy\n",
      "  df[col] = df[col].apply(lambda x: [float(j) for j in x][1:])\n",
      "C:\\SK\\ai_proj\\data_analysis\\process_fns.py:40: SettingWithCopyWarning: \n",
      "A value is trying to be set on a copy of a slice from a DataFrame.\n",
      "Try using .loc[row_indexer,col_indexer] = value instead\n",
      "\n",
      "See the caveats in the documentation: https://pandas.pydata.org/pandas-docs/stable/user_guide/indexing.html#returning-a-view-versus-a-copy\n",
      "  df[col] = df[col].apply(lambda x: [float(j) for j in x][1:])\n",
      "C:\\SK\\ai_proj\\data_analysis\\process_fns.py:40: SettingWithCopyWarning: \n",
      "A value is trying to be set on a copy of a slice from a DataFrame.\n",
      "Try using .loc[row_indexer,col_indexer] = value instead\n",
      "\n",
      "See the caveats in the documentation: https://pandas.pydata.org/pandas-docs/stable/user_guide/indexing.html#returning-a-view-versus-a-copy\n",
      "  df[col] = df[col].apply(lambda x: [float(j) for j in x][1:])\n",
      "C:\\SK\\ai_proj\\data_analysis\\process_fns.py:40: SettingWithCopyWarning: \n",
      "A value is trying to be set on a copy of a slice from a DataFrame.\n",
      "Try using .loc[row_indexer,col_indexer] = value instead\n",
      "\n",
      "See the caveats in the documentation: https://pandas.pydata.org/pandas-docs/stable/user_guide/indexing.html#returning-a-view-versus-a-copy\n",
      "  df[col] = df[col].apply(lambda x: [float(j) for j in x][1:])\n"
     ]
    }
   ],
   "source": [
    "dataset_lists = pfns.PostProcessing('dataset/5528_droped_data.csv')"
   ]
  },
  {
   "cell_type": "code",
   "execution_count": 4,
   "id": "1d2d8bab-b4a7-4a27-b70b-20be996998c8",
   "metadata": {},
   "outputs": [],
   "source": [
    "X_train, y_train = dataset_lists[0][0], dataset_lists[0][1]\n",
    "X_dev, y_dev = dataset_lists[1][0], dataset_lists[1][1] \n",
    "X_test, y_test = dataset_lists[2][0], dataset_lists[2][1] "
   ]
  },
  {
   "cell_type": "code",
   "execution_count": 5,
   "id": "82f1c770-91a1-480a-9d9d-32e4e5a8c127",
   "metadata": {},
   "outputs": [
    {
     "data": {
      "text/plain": [
       "(torch.Size([37, 73728]), torch.Size([37]))"
      ]
     },
     "execution_count": 5,
     "metadata": {},
     "output_type": "execute_result"
    }
   ],
   "source": [
    "X_dev.shape, y_dev.shape"
   ]
  },
  {
   "cell_type": "code",
   "execution_count": 5,
   "id": "9a023daf-bd76-4140-9849-e60595987672",
   "metadata": {},
   "outputs": [],
   "source": [
    "# directory = 'dataset/train_datasets'\n",
    "# os.makedirs(directory, exist_ok=True)\n",
    "# file_path = os.path.join(directory, 'train_datasets_200.h5')\n",
    "\n",
    "# with h5py.File(file_path, 'w') as f:   \n",
    "#     tensor = fns.multi_datasets(X_train, 200, 12)       \n",
    "#     f.create_dataset('X_train_200', data=tensor.numpy()) \n",
    "\n",
    "    "
   ]
  },
  {
   "cell_type": "code",
   "execution_count": 6,
   "id": "e7b8a504-09f9-4636-b482-6d9f4879194d",
   "metadata": {},
   "outputs": [],
   "source": [
    "# with h5py.File(file_path, 'w') as f:\n",
    "#     extended_y_train = y_train.repeat(200)\n",
    "#     f.create_dataset('y_train_200', data=extended_y_train.numpy()) "
   ]
  },
  {
   "cell_type": "code",
   "execution_count": 18,
   "id": "c896adb2-8711-4cfc-aa1b-3329610dce9f",
   "metadata": {},
   "outputs": [],
   "source": [
    "file_path = file_path = 'dataset/train_datasets/train_sets.pkl'\n",
    "with open(file_path, 'wb') as f:\n",
    "    pickle.dump({'X_train': X_train, 'y_train': y_train}, f)"
   ]
  },
  {
   "cell_type": "code",
   "execution_count": 13,
   "id": "effc0497-7b04-47ee-9bbd-722b7c0f0510",
   "metadata": {},
   "outputs": [],
   "source": [
    "file_path = 'dataset/train_datasets/dev_sets.pkl'\n",
    "with open(file_path, 'wb') as f:\n",
    "    pickle.dump({'X_dev': X_dev, 'y_dev': y_dev}, f)"
   ]
  },
  {
   "cell_type": "code",
   "execution_count": 14,
   "id": "532e9dcf-5562-4256-9bb5-00769856ad8e",
   "metadata": {},
   "outputs": [
    {
     "name": "stdout",
     "output_type": "stream",
     "text": [
      "Loaded X_dev: tensor([[2.1043e-04, 2.9448e-04, 2.4472e-04,  ..., 6.1457e-04, 6.1808e-04,\n",
      "         5.6178e-04],\n",
      "        [1.9647e-04, 2.4157e-04, 1.7535e-04,  ..., 1.1232e-04, 1.7699e-04,\n",
      "         3.0490e-04],\n",
      "        [2.6128e-04, 2.2513e-04, 1.0218e-04,  ..., 9.2347e-04, 7.9336e-04,\n",
      "         4.3334e-04],\n",
      "        ...,\n",
      "        [4.0388e-04, 4.1982e-04, 2.7370e-04,  ..., 5.8726e-04, 7.4385e-04,\n",
      "         7.6368e-04],\n",
      "        [2.0376e-04, 3.0760e-04, 3.0270e-04,  ..., 9.7332e-04, 5.4711e-04,\n",
      "         3.4396e-05],\n",
      "        [7.4707e-05, 9.6044e-05, 2.9320e-04,  ..., 5.0607e-04, 6.4545e-04,\n",
      "         5.9695e-04]])\n",
      "Loaded y_dev: tensor([1.0000, 1.0000, 1.0000, 1.0000, 1.0000, 1.0000, 1.0000, 1.0000, 1.0000,\n",
      "        1.0000, 1.0000, 1.0000, 1.0000, 1.0000, 1.0000, 1.0000, 1.0000, 1.0000,\n",
      "        1.0000, 1.0000, 1.0000, 1.0000, 1.0000, 1.0000, 1.0000, 1.0000, 1.0000,\n",
      "        1.0000, 1.0000, 1.0000, 1.0000, 1.0000, 1.0000, 1.0000, 0.8991, 0.9672,\n",
      "        0.9818])\n"
     ]
    },
    {
     "name": "stderr",
     "output_type": "stream",
     "text": [
      "C:\\Users\\user\\anaconda3\\envs\\kdtproj\\Lib\\site-packages\\torch\\storage.py:414: FutureWarning: You are using `torch.load` with `weights_only=False` (the current default value), which uses the default pickle module implicitly. It is possible to construct malicious pickle data which will execute arbitrary code during unpickling (See https://github.com/pytorch/pytorch/blob/main/SECURITY.md#untrusted-models for more details). In a future release, the default value for `weights_only` will be flipped to `True`. This limits the functions that could be executed during unpickling. Arbitrary objects will no longer be allowed to be loaded via this mode unless they are explicitly allowlisted by the user via `torch.serialization.add_safe_globals`. We recommend you start setting `weights_only=True` for any use case where you don't have full control of the loaded file. Please open an issue on GitHub for any issues related to this experimental feature.\n",
      "  return torch.load(io.BytesIO(b))\n"
     ]
    }
   ],
   "source": [
    "with open(file_path, 'rb') as f:\n",
    "    data = pickle.load(f)\n",
    "\n",
    "# Access the loaded data\n",
    "X_dev_pickle = data['X_dev']\n",
    "y_dev_pickle = data['y_dev']\n",
    "\n",
    "print(\"Loaded X_dev:\", X_dev_pickle)\n",
    "print(\"Loaded y_dev:\", y_dev_pickle)"
   ]
  },
  {
   "cell_type": "code",
   "execution_count": 15,
   "id": "5d110152-daf6-4b3d-90f1-a5f88fc19aa9",
   "metadata": {},
   "outputs": [
    {
     "data": {
      "text/plain": [
       "tensor([[2.1043e-04, 2.9448e-04, 2.4472e-04,  ..., 6.1457e-04, 6.1808e-04,\n",
       "         5.6178e-04],\n",
       "        [1.9647e-04, 2.4157e-04, 1.7535e-04,  ..., 1.1232e-04, 1.7699e-04,\n",
       "         3.0490e-04],\n",
       "        [2.6128e-04, 2.2513e-04, 1.0218e-04,  ..., 9.2347e-04, 7.9336e-04,\n",
       "         4.3334e-04],\n",
       "        ...,\n",
       "        [4.0388e-04, 4.1982e-04, 2.7370e-04,  ..., 5.8726e-04, 7.4385e-04,\n",
       "         7.6368e-04],\n",
       "        [2.0376e-04, 3.0760e-04, 3.0270e-04,  ..., 9.7332e-04, 5.4711e-04,\n",
       "         3.4396e-05],\n",
       "        [7.4707e-05, 9.6044e-05, 2.9320e-04,  ..., 5.0607e-04, 6.4545e-04,\n",
       "         5.9695e-04]])"
      ]
     },
     "execution_count": 15,
     "metadata": {},
     "output_type": "execute_result"
    }
   ],
   "source": [
    "X_dev_pickle"
   ]
  },
  {
   "cell_type": "code",
   "execution_count": 20,
   "id": "241aa4f7-cbd9-416e-9c5a-d42143afe22f",
   "metadata": {},
   "outputs": [
    {
     "name": "stdout",
     "output_type": "stream",
     "text": [
      "Loaded X_train: tensor([[6.4164e-04, 6.9671e-04, 4.5043e-04,  ..., 3.1335e-05, 1.6753e-04,\n",
      "         2.6539e-04],\n",
      "        [5.7142e-05, 5.6895e-05, 3.8271e-05,  ..., 1.9522e-04, 3.5067e-04,\n",
      "         3.5810e-04],\n",
      "        [2.7202e-04, 4.8636e-04, 5.3246e-04,  ..., 5.2438e-03, 1.7740e-03,\n",
      "         1.1917e-03],\n",
      "        ...,\n",
      "        [1.1860e-04, 7.7795e-05, 1.0226e-04,  ..., 2.1402e-03, 1.8804e-03,\n",
      "         1.6231e-03],\n",
      "        [9.9313e-05, 1.4456e-04, 2.2368e-04,  ..., 5.0263e-04, 5.0777e-04,\n",
      "         5.9311e-04],\n",
      "        [3.7712e-04, 4.5022e-04, 4.5768e-04,  ..., 3.3496e-04, 3.8365e-04,\n",
      "         1.2905e-04]])\n",
      "Loaded y_train: tensor([1.0000, 1.0000, 1.0000, 1.0000, 1.0000, 1.0000, 1.0000, 1.0000, 1.0000,\n",
      "        1.0000, 1.0000, 1.0000, 1.0000, 1.0000, 1.0000, 1.0000, 1.0000, 1.0000,\n",
      "        1.0000, 1.0000, 1.0000, 1.0000, 1.0000, 1.0000, 1.0000, 1.0000, 1.0000,\n",
      "        1.0000, 1.0000, 1.0000, 1.0000, 1.0000, 1.0000, 1.0000, 1.0000, 1.0000,\n",
      "        1.0000, 1.0000, 1.0000, 1.0000, 1.0000, 1.0000, 1.0000, 1.0000, 1.0000,\n",
      "        1.0000, 1.0000, 1.0000, 1.0000, 1.0000, 1.0000, 1.0000, 1.0000, 1.0000,\n",
      "        1.0000, 1.0000, 1.0000, 1.0000, 1.0000, 1.0000, 1.0000, 1.0000, 1.0000,\n",
      "        1.0000, 1.0000, 1.0000, 1.0000, 1.0000, 1.0000, 1.0000, 1.0000, 1.0000,\n",
      "        1.0000, 1.0000, 1.0000, 1.0000, 1.0000, 1.0000, 1.0000, 1.0000, 1.0000,\n",
      "        1.0000, 1.0000, 1.0000, 1.0000, 1.0000, 1.0000, 1.0000, 1.0000, 1.0000,\n",
      "        1.0000, 1.0000, 1.0000, 1.0000, 1.0000, 1.0000, 1.0000, 1.0000, 1.0000,\n",
      "        1.0000, 1.0000, 1.0000, 1.0000, 1.0000, 1.0000, 1.0000, 1.0000, 1.0000,\n",
      "        1.0000, 1.0000, 1.0000, 0.9240, 0.8788, 0.9393, 0.8881, 0.8571, 0.6396,\n",
      "        0.8500, 0.8367, 0.9250, 0.9500])\n"
     ]
    }
   ],
   "source": [
    "file_path = file_path = 'dataset/train_datasets/train_sets.pkl'\n",
    "with open(file_path, 'rb') as f:\n",
    "    data = pickle.load(f)\n",
    "\n",
    "# Access the loaded data\n",
    "X_train_pickle = data['X_train']\n",
    "y_train_pickle = data['y_train']\n",
    "\n",
    "print(\"Loaded X_train:\", X_train_pickle)\n",
    "print(\"Loaded y_train:\", y_train_pickle)"
   ]
  },
  {
   "cell_type": "code",
   "execution_count": 21,
   "id": "03a8a451-289e-449b-9cfa-4c9d885840d4",
   "metadata": {},
   "outputs": [
    {
     "data": {
      "text/plain": [
       "torch.Size([121, 73728])"
      ]
     },
     "execution_count": 21,
     "metadata": {},
     "output_type": "execute_result"
    }
   ],
   "source": [
    "X_train_pickle.shape"
   ]
  },
  {
   "cell_type": "code",
   "execution_count": null,
   "id": "1e9daead-49ee-497e-bc2b-3497dfcfddb6",
   "metadata": {},
   "outputs": [],
   "source": []
  }
 ],
 "metadata": {
  "kernelspec": {
   "display_name": "Python 3 (ipykernel)",
   "language": "python",
   "name": "python3"
  },
  "language_info": {
   "codemirror_mode": {
    "name": "ipython",
    "version": 3
   },
   "file_extension": ".py",
   "mimetype": "text/x-python",
   "name": "python",
   "nbconvert_exporter": "python",
   "pygments_lexer": "ipython3",
   "version": "3.12.4"
  }
 },
 "nbformat": 4,
 "nbformat_minor": 5
}
