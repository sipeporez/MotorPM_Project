{
 "cells": [
  {
   "cell_type": "code",
   "execution_count": 1,
   "id": "f4bc92e9-aa76-4f1a-81d9-ab4d8e9ab7f6",
   "metadata": {},
   "outputs": [],
   "source": [
    "import torch \n",
    "import torch.nn as nn\n",
    "import transform_fns as trans"
   ]
  },
  {
   "cell_type": "code",
   "execution_count": 3,
   "id": "137ce3d1-2824-462d-a46f-2fbe6b386cf8",
   "metadata": {},
   "outputs": [],
   "source": [
    "# class Fully_connected(nn.Module):\n",
    "#     def __init__(self):\n",
    "#         super().__init__()\n",
    "#         # self.freq_weighted = Freq_weighted()\n",
    "\n",
    "#     def forward(self, x, y, maxval, rate):\n",
    "#         if not isinstance(x, torch.Tensor):\n",
    "#             raise ValueError(\"Input x must be a PyTorch tensor.\")\n",
    "#         if not isinstance(y, torch.Tensor):\n",
    "#             raise ValueError(\"Input y must be a PyTorch tensor.\")\n",
    "#         if len(y)/12 != len(x):\n",
    "#             raise ValueError(f\"Shape mismatch: x shape {x.shape}, weighted_output shape {weighted_output.shape}\")\n",
    "            \n",
    "#         standardized_freq = trans.standardized(y, maxval)\n",
    "#         weighted_arr = trans.weighted_function(standardized_freq, rate)\n",
    "#         expanded_arr = weighted_arr.repeat(36)\n",
    "\n",
    "#         x = x * expanded_arr\n",
    "        \n",
    "#         return x"
   ]
  },
  {
   "cell_type": "code",
   "execution_count": null,
   "id": "bd6f2253-fed5-468e-b3c3-3d0fd0785f44",
   "metadata": {},
   "outputs": [],
   "source": [
    "class Fully_connected(nn.Module):\n",
    "    def __init__(self, maxval, rate):\n",
    "        super().__init__()\n",
    "        self.maxval = nn.Parameter(torch.tensor(maxval, dtype=torch.float32))\n",
    "        self.rate = nn.Parameter(torch.tensor(rate, dtype=torch.float32))\n",
    "\n",
    "    def forward(self, x):\n",
    "        if not isinstance(x, torch.Tensor):\n",
    "            raise ValueError(\"Input x must be a PyTorch tensor.\")\n",
    "            \n",
    "        standardized_freq = trans.standardized(y, self.maxval)\n",
    "        weighted_arr = trans.weighted_function(standardized_freq, self.rate)\n",
    "        expanded_arr = weighted_arr.repeat(36)\n",
    "\n",
    "        x = x * expanded_arr\n",
    "        \n",
    "        return x"
   ]
  }
 ],
 "metadata": {
  "kernelspec": {
   "display_name": "Python 3 (ipykernel)",
   "language": "python",
   "name": "python3"
  },
  "language_info": {
   "codemirror_mode": {
    "name": "ipython",
    "version": 3
   },
   "file_extension": ".py",
   "mimetype": "text/x-python",
   "name": "python",
   "nbconvert_exporter": "python",
   "pygments_lexer": "ipython3",
   "version": "3.12.4"
  }
 },
 "nbformat": 4,
 "nbformat_minor": 5
}
