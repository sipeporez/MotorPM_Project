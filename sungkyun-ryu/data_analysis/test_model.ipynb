{
 "cells": [
  {
   "cell_type": "markdown",
   "id": "aaba1d94-9caf-406a-85ac-b291bc92c1bd",
   "metadata": {},
   "source": [
    "## Import Libraries"
   ]
  },
  {
   "cell_type": "code",
   "execution_count": 1,
   "id": "6b298e3e-98ce-4a31-a823-7f2d5f82f6ab",
   "metadata": {},
   "outputs": [],
   "source": [
    "import pandas as pd\n",
    "import numpy as np \n",
    "import matplotlib.pyplot as plt\n",
    "import seaborn as sns\n",
    "import torch\n",
    "import torch.nn as nn\n",
    "import os\n",
    "from itertools import chain\n",
    "\n",
    "import torch.optim as optim\n",
    "from torch.utils.data import DataLoader, TensorDataset\n",
    "import transform_fns as trans\n",
    "import pdm_functions as fns\n",
    "from sklearn.metrics import precision_score, recall_score, f1_score\n",
    "import process_fns as pfns\n",
    "from scipy.stats import gaussian_kde\n",
    "from sklearn.model_selection import train_test_split\n"
   ]
  },
  {
   "cell_type": "markdown",
   "id": "7f461993-e306-45c0-820a-a52b63a217cb",
   "metadata": {},
   "source": [
    "## csv file to tensor "
   ]
  },
  {
   "cell_type": "code",
   "execution_count": 2,
   "id": "6d6473a8-0c3f-46de-bf38-16c695caa23a",
   "metadata": {},
   "outputs": [
    {
     "name": "stdout",
     "output_type": "stream",
     "text": [
      "Current working directory: C:\\SK\\ai_proj\\data_analysis\n"
     ]
    }
   ],
   "source": [
    "print(\"Current working directory:\", os.getcwd())"
   ]
  },
  {
   "cell_type": "code",
   "execution_count": 3,
   "id": "ba60d8e6-df5b-4ef7-ac07-ad1b522511b5",
   "metadata": {},
   "outputs": [],
   "source": [
    "# def PostProcessing(file_name, cols=['spectrum_x_amp', 'spectrum_y_amp', 'spectrum_z_amp']):\n",
    "#     \"\"\"  Index=True 로 저장된 csv 파일을 전처리하여 stack 된 tensor 반환\n",
    "\n",
    "#     file_name : 파일 경로\n",
    "#     cols : 컬럼 리스트, 기본값) ['spectrum_x_amp', 'spectrum_y_amp', 'spectrum_z_amp']\n",
    "#     \"\"\"\n",
    "#     # csv 파일 로드\n",
    "#     df = pd.read_csv(file_name, header=[0], index_col=[0, 1])\n",
    "    \n",
    "#     # 각 행의 리스트를 병합, 첫번째 데이터는 버림\n",
    "#     for col in cols:\n",
    "#         df[col] = df[col].apply(lambda x: [float(j) for j in x.split(',')][1:])\n",
    "    \n",
    "#     # 각 컬럼의 데이터를 병합\n",
    "#     new_df = df[cols].apply(lambda x: list(chain.from_iterable(x)), axis=1)\n",
    "\n",
    "#     # 그룹별로 데이터를 모아서 텐서로 변환하고 스택\n",
    "#     tensors = [torch.tensor(item) for item in new_df.groupby(level=0).apply(lambda x: [item for sublist in x for item in sublist])]\n",
    "    \n",
    "#     # 텐서들을 스택\n",
    "#     result = torch.stack(tensors)\n",
    "\n",
    "#     return result\n"
   ]
  },
  {
   "cell_type": "code",
   "execution_count": 4,
   "id": "74507d43-468d-4cdf-9e22-840a988162d5",
   "metadata": {},
   "outputs": [],
   "source": [
    "df_normal_for_weight= pd.read_csv('dataset/5528_spec_normal.csv')\n",
    "# df_error= pd.read_csv('dataset/5528_spec_error.csv')"
   ]
  },
  {
   "cell_type": "markdown",
   "id": "bd0979c4-7747-4145-a245-d2a78e86b053",
   "metadata": {},
   "source": [
    "### Generating Weighted Function for Imbalance "
   ]
  },
  {
   "cell_type": "code",
   "execution_count": 5,
   "id": "9c529064-a2a2-4134-9e3e-a4cc44f4a3bf",
   "metadata": {},
   "outputs": [
    {
     "data": {
      "text/plain": [
       "[0.0005112148024065443, 0.000526803676930039]"
      ]
     },
     "execution_count": 5,
     "metadata": {},
     "output_type": "execute_result"
    }
   ],
   "source": [
    "df_normal_for_weight['spectrum_x_amp']= df_normal_for_weight['spectrum_x_amp'].apply(lambda x: [float(num) for num in x.split(',')][1:])\n",
    "# type(df_normal_for_weight['spectrum_x_amp'][0])\n",
    "df_normal_for_weight['spectrum_x_amp'][0][-2:]"
   ]
  },
  {
   "cell_type": "code",
   "execution_count": 6,
   "id": "218e1b3a-0e10-49a0-ad83-9d7a6cf8bcd7",
   "metadata": {},
   "outputs": [
    {
     "data": {
      "text/plain": [
       "(2048, pandas.core.series.Series)"
      ]
     },
     "execution_count": 6,
     "metadata": {},
     "output_type": "execute_result"
    }
   ],
   "source": [
    "len(df_normal_for_weight['spectrum_x_amp'][0]), type(df_normal_for_weight['spectrum_x_amp'])"
   ]
  },
  {
   "cell_type": "code",
   "execution_count": 7,
   "id": "7d3fc0a4-52fa-404f-af3e-80f69f3cb746",
   "metadata": {},
   "outputs": [
    {
     "name": "stdout",
     "output_type": "stream",
     "text": [
      "object\n"
     ]
    }
   ],
   "source": [
    "print(df_normal_for_weight['spectrum_x_amp'].dtype)"
   ]
  },
  {
   "cell_type": "code",
   "execution_count": 8,
   "id": "273b3778-821e-4059-bf4d-784fb78437fb",
   "metadata": {},
   "outputs": [
    {
     "data": {
      "text/html": [
       "<div>\n",
       "<style scoped>\n",
       "    .dataframe tbody tr th:only-of-type {\n",
       "        vertical-align: middle;\n",
       "    }\n",
       "\n",
       "    .dataframe tbody tr th {\n",
       "        vertical-align: top;\n",
       "    }\n",
       "\n",
       "    .dataframe thead th {\n",
       "        text-align: right;\n",
       "    }\n",
       "</style>\n",
       "<table border=\"1\" class=\"dataframe\">\n",
       "  <thead>\n",
       "    <tr style=\"text-align: right;\">\n",
       "      <th></th>\n",
       "      <th>date</th>\n",
       "      <th>cnt</th>\n",
       "      <th>created_at</th>\n",
       "      <th>spectrum_x_amp</th>\n",
       "      <th>spectrum_y_amp</th>\n",
       "      <th>spectrum_z_amp</th>\n",
       "    </tr>\n",
       "  </thead>\n",
       "  <tbody>\n",
       "    <tr>\n",
       "      <th>0</th>\n",
       "      <td>2024-01-12</td>\n",
       "      <td>0</td>\n",
       "      <td>1704901985</td>\n",
       "      <td>[0.0006416402772945482, 0.0006967116032034175,...</td>\n",
       "      <td>0.00020635396946099019,0.0003100558571815329,0...</td>\n",
       "      <td>0.0002770334279662072,0.0004462952954874889,0....</td>\n",
       "    </tr>\n",
       "    <tr>\n",
       "      <th>1</th>\n",
       "      <td>2024-01-12</td>\n",
       "      <td>1</td>\n",
       "      <td>1704909194</td>\n",
       "      <td>[0.00046743998424794654, 0.0002757226016452911...</td>\n",
       "      <td>0.00016051611590231604,0.0001113571030668683,0...</td>\n",
       "      <td>0.00029144869690031743,0.0003112218193772041,0...</td>\n",
       "    </tr>\n",
       "    <tr>\n",
       "      <th>2</th>\n",
       "      <td>2024-01-12</td>\n",
       "      <td>2</td>\n",
       "      <td>1704916397</td>\n",
       "      <td>[0.00028399929256615647, 0.0003624820057698942...</td>\n",
       "      <td>9.14235290461346e-05,0.00010227322932295558,7....</td>\n",
       "      <td>0.00018883640812350743,0.0003188173517410369,0...</td>\n",
       "    </tr>\n",
       "    <tr>\n",
       "      <th>3</th>\n",
       "      <td>2024-01-12</td>\n",
       "      <td>3</td>\n",
       "      <td>1704923605</td>\n",
       "      <td>[6.886010749249397e-05, 0.00015660348397942753...</td>\n",
       "      <td>0.00015404194614079104,0.0002930843035366268,0...</td>\n",
       "      <td>0.00039784871799657633,0.0005350226945562514,0...</td>\n",
       "    </tr>\n",
       "    <tr>\n",
       "      <th>4</th>\n",
       "      <td>2024-01-12</td>\n",
       "      <td>4</td>\n",
       "      <td>1704930808</td>\n",
       "      <td>[0.0013137867109838262, 0.002479297796449496, ...</td>\n",
       "      <td>0.0012457594683349597,0.002439545756240494,0.0...</td>\n",
       "      <td>0.0007305390559110608,0.0005454625258034126,0....</td>\n",
       "    </tr>\n",
       "    <tr>\n",
       "      <th>...</th>\n",
       "      <td>...</td>\n",
       "      <td>...</td>\n",
       "      <td>...</td>\n",
       "      <td>...</td>\n",
       "      <td>...</td>\n",
       "      <td>...</td>\n",
       "    </tr>\n",
       "    <tr>\n",
       "      <th>2143</th>\n",
       "      <td>2024-08-26</td>\n",
       "      <td>7</td>\n",
       "      <td>1724568616</td>\n",
       "      <td>[0.00019601150211220783, 0.0002110699028518240...</td>\n",
       "      <td>1.1633523187097993e-05,9.156793209300532e-05,8...</td>\n",
       "      <td>0.00033064314160995134,0.0002569970897037031,5...</td>\n",
       "    </tr>\n",
       "    <tr>\n",
       "      <th>2144</th>\n",
       "      <td>2024-08-26</td>\n",
       "      <td>8</td>\n",
       "      <td>1724575824</td>\n",
       "      <td>[0.00013065276184553336, 8.733154273262023e-05...</td>\n",
       "      <td>3.745356993574565e-05,0.00010148446522604481,0...</td>\n",
       "      <td>0.00012312103946281763,0.00016672132401543419,...</td>\n",
       "    </tr>\n",
       "    <tr>\n",
       "      <th>2145</th>\n",
       "      <td>2024-08-26</td>\n",
       "      <td>9</td>\n",
       "      <td>1724583026</td>\n",
       "      <td>[0.00011971222976955133, 0.0003781453419813549...</td>\n",
       "      <td>0.0001284091193688998,0.00029905809843392436,0...</td>\n",
       "      <td>1.7062427571507954e-05,0.00030063687937896983,...</td>\n",
       "    </tr>\n",
       "    <tr>\n",
       "      <th>2146</th>\n",
       "      <td>2024-08-26</td>\n",
       "      <td>10</td>\n",
       "      <td>1724590235</td>\n",
       "      <td>[0.00015052913262383972, 0.0001496677730241791...</td>\n",
       "      <td>2.1079643827683487e-05,0.0001310912999130868,0...</td>\n",
       "      <td>0.00020875115418941018,0.0002161621726146461,0...</td>\n",
       "    </tr>\n",
       "    <tr>\n",
       "      <th>2147</th>\n",
       "      <td>2024-08-26</td>\n",
       "      <td>11</td>\n",
       "      <td>1724597437</td>\n",
       "      <td>[0.00017276590450038444, 0.0002325345318056139...</td>\n",
       "      <td>0.00021053580700497622,0.00032666715875196453,...</td>\n",
       "      <td>0.00019879532241195617,0.00033111701683611136,...</td>\n",
       "    </tr>\n",
       "  </tbody>\n",
       "</table>\n",
       "<p>2148 rows × 6 columns</p>\n",
       "</div>"
      ],
      "text/plain": [
       "            date  cnt  created_at  \\\n",
       "0     2024-01-12    0  1704901985   \n",
       "1     2024-01-12    1  1704909194   \n",
       "2     2024-01-12    2  1704916397   \n",
       "3     2024-01-12    3  1704923605   \n",
       "4     2024-01-12    4  1704930808   \n",
       "...          ...  ...         ...   \n",
       "2143  2024-08-26    7  1724568616   \n",
       "2144  2024-08-26    8  1724575824   \n",
       "2145  2024-08-26    9  1724583026   \n",
       "2146  2024-08-26   10  1724590235   \n",
       "2147  2024-08-26   11  1724597437   \n",
       "\n",
       "                                         spectrum_x_amp  \\\n",
       "0     [0.0006416402772945482, 0.0006967116032034175,...   \n",
       "1     [0.00046743998424794654, 0.0002757226016452911...   \n",
       "2     [0.00028399929256615647, 0.0003624820057698942...   \n",
       "3     [6.886010749249397e-05, 0.00015660348397942753...   \n",
       "4     [0.0013137867109838262, 0.002479297796449496, ...   \n",
       "...                                                 ...   \n",
       "2143  [0.00019601150211220783, 0.0002110699028518240...   \n",
       "2144  [0.00013065276184553336, 8.733154273262023e-05...   \n",
       "2145  [0.00011971222976955133, 0.0003781453419813549...   \n",
       "2146  [0.00015052913262383972, 0.0001496677730241791...   \n",
       "2147  [0.00017276590450038444, 0.0002325345318056139...   \n",
       "\n",
       "                                         spectrum_y_amp  \\\n",
       "0     0.00020635396946099019,0.0003100558571815329,0...   \n",
       "1     0.00016051611590231604,0.0001113571030668683,0...   \n",
       "2     9.14235290461346e-05,0.00010227322932295558,7....   \n",
       "3     0.00015404194614079104,0.0002930843035366268,0...   \n",
       "4     0.0012457594683349597,0.002439545756240494,0.0...   \n",
       "...                                                 ...   \n",
       "2143  1.1633523187097993e-05,9.156793209300532e-05,8...   \n",
       "2144  3.745356993574565e-05,0.00010148446522604481,0...   \n",
       "2145  0.0001284091193688998,0.00029905809843392436,0...   \n",
       "2146  2.1079643827683487e-05,0.0001310912999130868,0...   \n",
       "2147  0.00021053580700497622,0.00032666715875196453,...   \n",
       "\n",
       "                                         spectrum_z_amp  \n",
       "0     0.0002770334279662072,0.0004462952954874889,0....  \n",
       "1     0.00029144869690031743,0.0003112218193772041,0...  \n",
       "2     0.00018883640812350743,0.0003188173517410369,0...  \n",
       "3     0.00039784871799657633,0.0005350226945562514,0...  \n",
       "4     0.0007305390559110608,0.0005454625258034126,0....  \n",
       "...                                                 ...  \n",
       "2143  0.00033064314160995134,0.0002569970897037031,5...  \n",
       "2144  0.00012312103946281763,0.00016672132401543419,...  \n",
       "2145  1.7062427571507954e-05,0.00030063687937896983,...  \n",
       "2146  0.00020875115418941018,0.0002161621726146461,0...  \n",
       "2147  0.00019879532241195617,0.00033111701683611136,...  \n",
       "\n",
       "[2148 rows x 6 columns]"
      ]
     },
     "execution_count": 8,
     "metadata": {},
     "output_type": "execute_result"
    }
   ],
   "source": [
    "df_normal_for_weight"
   ]
  },
  {
   "cell_type": "code",
   "execution_count": 9,
   "id": "a68f407f-1ffa-44fe-824c-125be640e825",
   "metadata": {},
   "outputs": [],
   "source": [
    "def rpm_approx_weighted_fn(df_spectrum, x_val_min, x_val_max, num_linspace): \n",
    "    \"\"\" approximating rpm from dominant amplitude on frequency domain\n",
    "    parameters:\n",
    "    df_spectrum(pands Series) \n",
    "\n",
    "    return:\n",
    "    \"\"\"\n",
    "    df_max_index = pd.Series(df_spectrum.apply(lambda x: x.index(max(x)) if max(x) >= 0.02 else 0))\n",
    "    df_max_index = df_max_index[df_max_index != 0]\n",
    "    kde = gaussian_kde(df_max_index)\n",
    "    kde_values = kde(np.linspace(x_val_min, x_val_max, num_linspace)) \n",
    "    kde_values_list = kde_values.tolist()\n",
    "\n",
    "    return kde_values_list"
   ]
  },
  {
   "cell_type": "code",
   "execution_count": 10,
   "id": "73057185-77f9-4579-a1ae-3bb77c8bd71f",
   "metadata": {},
   "outputs": [],
   "source": [
    "wf = rpm_approx_weighted_fn(df_normal_for_weight['spectrum_x_amp'], 1 , 2048, 2048)\n",
    "# sns.lineplot(wf)\n",
    "# wf.index(max(wf))\n",
    "# kde_val = rpm_approx_weighted_fn(df_normal_for_weight['spectrum_x_amp'], 1, 2048, 2048)"
   ]
  },
  {
   "cell_type": "code",
   "execution_count": 11,
   "id": "f64a5c39-8822-4f6a-8ad1-5c460bb6bb6b",
   "metadata": {},
   "outputs": [
    {
     "data": {
      "text/plain": [
       "<Axes: >"
      ]
     },
     "execution_count": 11,
     "metadata": {},
     "output_type": "execute_result"
    },
    {
     "data": {
      "image/png": "[encoded data removed]",
      "text/plain": [
       "<Figure size 640x480 with 1 Axes>"
      ]
     },
     "metadata": {},
     "output_type": "display_data"
    }
   ],
   "source": [
    "sns.lineplot(wf) "
   ]
  },
  {
   "cell_type": "markdown",
   "id": "c45cde0f-078f-4c60-bfc5-69f763a11e6d",
   "metadata": {},
   "source": [
    "### <span style='color:red'> This maxval is going to be one of hyperparameters </span>"
   ]
  },
  {
   "cell_type": "code",
   "execution_count": 12,
   "id": "2a65801f-3a9b-4c04-a1e4-6c3a00633379",
   "metadata": {},
   "outputs": [],
   "source": [
    "# wf = fns.min_max_standardization(wf, maxval = 4)\n",
    "# sns.lineplot(wf)"
   ]
  },
  {
   "cell_type": "code",
   "execution_count": 13,
   "id": "994187cd-bcbb-4f7b-ad63-6ed8af20481b",
   "metadata": {},
   "outputs": [],
   "source": [
    "wf = wf * 36"
   ]
  },
  {
   "cell_type": "code",
   "execution_count": 14,
   "id": "2e50e5a5-b8f3-4ff9-9fed-c914ef6ee088",
   "metadata": {},
   "outputs": [
    {
     "data": {
      "text/plain": [
       "<Axes: >"
      ]
     },
     "execution_count": 14,
     "metadata": {},
     "output_type": "execute_result"
    },
    {
     "data": {
      "image/png": "[encoded data removed]",
      "text/plain": [
       "<Figure size 640x480 with 1 Axes>"
      ]
     },
     "metadata": {},
     "output_type": "display_data"
    }
   ],
   "source": [
    "sns.lineplot(wf)"
   ]
  },
  {
   "cell_type": "code",
   "execution_count": 15,
   "id": "225dc519-be65-420a-919c-7c9d7cada37b",
   "metadata": {},
   "outputs": [],
   "source": [
    "# len(wf)"
   ]
  },
  {
   "cell_type": "code",
   "execution_count": 16,
   "id": "731dd76c-c199-429d-839c-844b088b0b6c",
   "metadata": {},
   "outputs": [
    {
     "data": {
      "text/plain": [
       "tensor([1.1912e-05, 1.2119e-05, 1.2329e-05,  ..., 1.1739e-04, 1.1502e-04,\n",
       "        1.1269e-04])"
      ]
     },
     "execution_count": 16,
     "metadata": {},
     "output_type": "execute_result"
    }
   ],
   "source": [
    "wf = torch.tensor(wf)\n",
    "wf"
   ]
  },
  {
   "cell_type": "markdown",
   "id": "67da6f5b-5c3b-455d-add9-c8bad88550b2",
   "metadata": {},
   "source": [
    "### Generating Bogus Datasets"
   ]
  },
  {
   "cell_type": "code",
   "execution_count": 17,
   "id": "725047c5-10d8-4d4e-a635-e964d5febbdf",
   "metadata": {},
   "outputs": [],
   "source": [
    "# df_normal = fns.csv_to_tensor_stack('dataset/5528_spec_normal.csv')\n",
    "# df_error = fns.csv_to_tensor_stack('dataset/5528_spec_error.csv')"
   ]
  },
  {
   "cell_type": "code",
   "execution_count": 18,
   "id": "91d7e827-18d1-4197-a4e1-6d914ff1ac6c",
   "metadata": {},
   "outputs": [],
   "source": [
    "# df_normal.shape, df_error.shape"
   ]
  },
  {
   "cell_type": "code",
   "execution_count": 19,
   "id": "9b21e949-a55f-4b1a-9dcc-aec684ca0fb2",
   "metadata": {},
   "outputs": [],
   "source": [
    "# df_normal = fns.multi_datasets(df_normal, multi_dim = 50)\n",
    "# df_error = fns.multi_datasets(df_error, multi_dim = 600)"
   ]
  },
  {
   "cell_type": "code",
   "execution_count": 20,
   "id": "d351cf23-bea9-47a4-8221-ac33883a07d6",
   "metadata": {},
   "outputs": [],
   "source": [
    "# df_normal.shape, df_error.shape"
   ]
  },
  {
   "cell_type": "code",
   "execution_count": 21,
   "id": "58617cc0-f55e-4cd2-8863-4348c6e8bb7a",
   "metadata": {},
   "outputs": [],
   "source": [
    "# sns.lineplot(df_normal[10])"
   ]
  },
  {
   "cell_type": "markdown",
   "id": "12a2db91-0c44-4aa4-9107-0820583bda10",
   "metadata": {},
   "source": [
    "### Weighted Function * Datasets"
   ]
  },
  {
   "cell_type": "code",
   "execution_count": 22,
   "id": "3aef5f4c-0933-4a2a-abb7-ded4e7be535e",
   "metadata": {},
   "outputs": [],
   "source": [
    "# df_normal = df_normal * wf\n",
    "# df_error = df_error * wf"
   ]
  },
  {
   "cell_type": "code",
   "execution_count": 23,
   "id": "45b01898-a314-4e65-b5e8-318a5f7cdd98",
   "metadata": {},
   "outputs": [],
   "source": [
    "# sns.lineplot(df_normal[10])"
   ]
  },
  {
   "cell_type": "code",
   "execution_count": null,
   "id": "7ccfe22e-f96c-4c55-90e9-b7877254a50b",
   "metadata": {},
   "outputs": [],
   "source": []
  },
  {
   "cell_type": "code",
   "execution_count": 24,
   "id": "18c004ed-f508-44bf-acce-f34db69b1a77",
   "metadata": {},
   "outputs": [],
   "source": [
    "# spec_freq = [0.78125,1.5625,2.34375,3.125,3.90625,4.6875,5.46875,6.25,7.03125,7.8125,8.59375,9.375,10.15625,10.9375,11.71875,12.5,13.28125,14.0625,14.84375,15.625,16.40625,17.1875,17.96875,18.75,19.53125,20.3125,21.09375,21.875,22.65625,23.4375,24.21875,25,25.78125,26.5625,27.34375,28.125,28.90625,29.6875,30.46875,31.25,32.03125,32.8125,33.59375,34.375,35.15625,35.9375,36.71875,37.5,38.28125,39.0625,39.84375,40.625,41.40625,42.1875,42.96875,43.75,44.53125,45.3125,46.09375,46.875,47.65625,48.4375,49.21875,50,50.78125,51.5625,52.34375,53.125,53.90625,54.6875,55.46875,56.25,57.03125,57.8125,58.59375,59.375,60.15625,60.9375,61.71875,62.5,63.28125,64.0625,64.84375,65.625,66.40625,67.1875,67.96875,68.75,69.53125,70.3125,71.09375,71.875,72.65625,73.4375,74.21875,75,75.78125,76.5625,77.34375,78.125,78.90625,79.6875,80.46875,81.25,82.03125,82.8125,83.59375,84.375,85.15625,85.9375,86.71875,87.5,88.28125,89.0625,89.84375,90.625,91.40625,92.1875,92.96875,93.75,94.53125,95.3125,96.09375,96.875,97.65625,98.4375,99.21875,100,100.78125,101.5625,102.34375,103.125,103.90625,104.6875,105.46875,106.25,107.03125,107.8125,108.59375,109.375,110.15625,110.9375,111.71875,112.5,113.28125,114.0625,114.84375,115.625,116.40625,117.1875,117.96875,118.75,119.53125,120.3125,121.09375,121.875,122.65625,123.4375,124.21875,125,125.78125,126.5625,127.34375,128.125,128.90625,129.6875,130.46875,131.25,132.03125,132.8125,133.59375,134.375,135.15625,135.9375,136.71875,137.5,138.28125,139.0625,139.84375,140.625,141.40625,142.1875,142.96875,143.75,144.53125,145.3125,146.09375,146.875,147.65625,148.4375,149.21875,150,150.78125,151.5625,152.34375,153.125,153.90625,154.6875,155.46875,156.25,157.03125,157.8125,158.59375,159.375,160.15625,160.9375,161.71875,162.5,163.28125,164.0625,164.84375,165.625,166.40625,167.1875,167.96875,168.75,169.53125,170.3125,171.09375,171.875,172.65625,173.4375,174.21875,175,175.78125,176.5625,177.34375,178.125,178.90625,179.6875,180.46875,181.25,182.03125,182.8125,183.59375,184.375,185.15625,185.9375,186.71875,187.5,188.28125,189.0625,189.84375,190.625,191.40625,192.1875,192.96875,193.75,194.53125,195.3125,196.09375,196.875,197.65625,198.4375,199.21875,200,200.78125,201.5625,202.34375,203.125,203.90625,204.6875,205.46875,206.25,207.03125,207.8125,208.59375,209.375,210.15625,210.9375,211.71875,212.5,213.28125,214.0625,214.84375,215.625,216.40625,217.1875,217.96875,218.75,219.53125,220.3125,221.09375,221.875,222.65625,223.4375,224.21875,225,225.78125,226.5625,227.34375,228.125,228.90625,229.6875,230.46875,231.25,232.03125,232.8125,233.59375,234.375,235.15625,235.9375,236.71875,237.5,238.28125,239.0625,239.84375,240.625,241.40625,242.1875,242.96875,243.75,244.53125,245.3125,246.09375,246.875,247.65625,248.4375,249.21875,250,250.78125,251.5625,252.34375,253.125,253.90625,254.6875,255.46875,256.25,257.03125,257.8125,258.59375,259.375,260.15625,260.9375,261.71875,262.5,263.28125,264.0625,264.84375,265.625,266.40625,267.1875,267.96875,268.75,269.53125,270.3125,271.09375,271.875,272.65625,273.4375,274.21875,275,275.78125,276.5625,277.34375,278.125,278.90625,279.6875,280.46875,281.25,282.03125,282.8125,283.59375,284.375,285.15625,285.9375,286.71875,287.5,288.28125,289.0625,289.84375,290.625,291.40625,292.1875,292.96875,293.75,294.53125,295.3125,296.09375,296.875,297.65625,298.4375,299.21875,300,300.78125,301.5625,302.34375,303.125,303.90625,304.6875,305.46875,306.25,307.03125,307.8125,308.59375,309.375,310.15625,310.9375,311.71875,312.5,313.28125,314.0625,314.84375,315.625,316.40625,317.1875,317.96875,318.75,319.53125,320.3125,321.09375,321.875,322.65625,323.4375,324.21875,325,325.78125,326.5625,327.34375,328.125,328.90625,329.6875,330.46875,331.25,332.03125,332.8125,333.59375,334.375,335.15625,335.9375,336.71875,337.5,338.28125,339.0625,339.84375,340.625,341.40625,342.1875,342.96875,343.75,344.53125,345.3125,346.09375,346.875,347.65625,348.4375,349.21875,350,350.78125,351.5625,352.34375,353.125,353.90625,354.6875,355.46875,356.25,357.03125,357.8125,358.59375,359.375,360.15625,360.9375,361.71875,362.5,363.28125,364.0625,364.84375,365.625,366.40625,367.1875,367.96875,368.75,369.53125,370.3125,371.09375,371.875,372.65625,373.4375,374.21875,375,375.78125,376.5625,377.34375,378.125,378.90625,379.6875,380.46875,381.25,382.03125,382.8125,383.59375,384.375,385.15625,385.9375,386.71875,387.5,388.28125,389.0625,389.84375,390.625,391.40625,392.1875,392.96875,393.75,394.53125,395.3125,396.09375,396.875,397.65625,398.4375,399.21875,400,400.78125,401.5625,402.34375,403.125,403.90625,404.6875,405.46875,406.25,407.03125,407.8125,408.59375,409.375,410.15625,410.9375,411.71875,412.5,413.28125,414.0625,414.84375,415.625,416.40625,417.1875,417.96875,418.75,419.53125,420.3125,421.09375,421.875,422.65625,423.4375,424.21875,425,425.78125,426.5625,427.34375,428.125,428.90625,429.6875,430.46875,431.25,432.03125,432.8125,433.59375,434.375,435.15625,435.9375,436.71875,437.5,438.28125,439.0625,439.84375,440.625,441.40625,442.1875,442.96875,443.75,444.53125,445.3125,446.09375,446.875,447.65625,448.4375,449.21875,450,450.78125,451.5625,452.34375,453.125,453.90625,454.6875,455.46875,456.25,457.03125,457.8125,458.59375,459.375,460.15625,460.9375,461.71875,462.5,463.28125,464.0625,464.84375,465.625,466.40625,467.1875,467.96875,468.75,469.53125,470.3125,471.09375,471.875,472.65625,473.4375,474.21875,475,475.78125,476.5625,477.34375,478.125,478.90625,479.6875,480.46875,481.25,482.03125,482.8125,483.59375,484.375,485.15625,485.9375,486.71875,487.5,488.28125,489.0625,489.84375,490.625,491.40625,492.1875,492.96875,493.75,494.53125,495.3125,496.09375,496.875,497.65625,498.4375,499.21875,500,500.78125,501.5625,502.34375,503.125,503.90625,504.6875,505.46875,506.25,507.03125,507.8125,508.59375,509.375,510.15625,510.9375,511.71875,512.5,513.28125,514.0625,514.84375,515.625,516.40625,517.1875,517.96875,518.75,519.53125,520.3125,521.09375,521.875,522.65625,523.4375,524.21875,525,525.78125,526.5625,527.34375,528.125,528.90625,529.6875,530.46875,531.25,532.03125,532.8125,533.59375,534.375,535.15625,535.9375,536.71875,537.5,538.28125,539.0625,539.84375,540.625,541.40625,542.1875,542.96875,543.75,544.53125,545.3125,546.09375,546.875,547.65625,548.4375,549.21875,550,550.78125,551.5625,552.34375,553.125,553.90625,554.6875,555.46875,556.25,557.03125,557.8125,558.59375,559.375,560.15625,560.9375,561.71875,562.5,563.28125,564.0625,564.84375,565.625,566.40625,567.1875,567.96875,568.75,569.53125,570.3125,571.09375,571.875,572.65625,573.4375,574.21875,575,575.78125,576.5625,577.34375,578.125,578.90625,579.6875,580.46875,581.25,582.03125,582.8125,583.59375,584.375,585.15625,585.9375,586.71875,587.5,588.28125,589.0625,589.84375,590.625,591.40625,592.1875,592.96875,593.75,594.53125,595.3125,596.09375,596.875,597.65625,598.4375,599.21875,600,600.78125,601.5625,602.34375,603.125,603.90625,604.6875,605.46875,606.25,607.03125,607.8125,608.59375,609.375,610.15625,610.9375,611.71875,612.5,613.28125,614.0625,614.84375,615.625,616.40625,617.1875,617.96875,618.75,619.53125,620.3125,621.09375,621.875,622.65625,623.4375,624.21875,625,625.78125,626.5625,627.34375,628.125,628.90625,629.6875,630.46875,631.25,632.03125,632.8125,633.59375,634.375,635.15625,635.9375,636.71875,637.5,638.28125,639.0625,639.84375,640.625,641.40625,642.1875,642.96875,643.75,644.53125,645.3125,646.09375,646.875,647.65625,648.4375,649.21875,650,650.78125,651.5625,652.34375,653.125,653.90625,654.6875,655.46875,656.25,657.03125,657.8125,658.59375,659.375,660.15625,660.9375,661.71875,662.5,663.28125,664.0625,664.84375,665.625,666.40625,667.1875,667.96875,668.75,669.53125,670.3125,671.09375,671.875,672.65625,673.4375,674.21875,675,675.78125,676.5625,677.34375,678.125,678.90625,679.6875,680.46875,681.25,682.03125,682.8125,683.59375,684.375,685.15625,685.9375,686.71875,687.5,688.28125,689.0625,689.84375,690.625,691.40625,692.1875,692.96875,693.75,694.53125,695.3125,696.09375,696.875,697.65625,698.4375,699.21875,700,700.78125,701.5625,702.34375,703.125,703.90625,704.6875,705.46875,706.25,707.03125,707.8125,708.59375,709.375,710.15625,710.9375,711.71875,712.5,713.28125,714.0625,714.84375,715.625,716.40625,717.1875,717.96875,718.75,719.53125,720.3125,721.09375,721.875,722.65625,723.4375,724.21875,725,725.78125,726.5625,727.34375,728.125,728.90625,729.6875,730.46875,731.25,732.03125,732.8125,733.59375,734.375,735.15625,735.9375,736.71875,737.5,738.28125,739.0625,739.84375,740.625,741.40625,742.1875,742.96875,743.75,744.53125,745.3125,746.09375,746.875,747.65625,748.4375,749.21875,750,750.78125,751.5625,752.34375,753.125,753.90625,754.6875,755.46875,756.25,757.03125,757.8125,758.59375,759.375,760.15625,760.9375,761.71875,762.5,763.28125,764.0625,764.84375,765.625,766.40625,767.1875,767.96875,768.75,769.53125,770.3125,771.09375,771.875,772.65625,773.4375,774.21875,775,775.78125,776.5625,777.34375,778.125,778.90625,779.6875,780.46875,781.25,782.03125,782.8125,783.59375,784.375,785.15625,785.9375,786.71875,787.5,788.28125,789.0625,789.84375,790.625,791.40625,792.1875,792.96875,793.75,794.53125,795.3125,796.09375,796.875,797.65625,798.4375,799.21875,800,800.78125,801.5625,802.34375,803.125,803.90625,804.6875,805.46875,806.25,807.03125,807.8125,808.59375,809.375,810.15625,810.9375,811.71875,812.5,813.28125,814.0625,814.84375,815.625,816.40625,817.1875,817.96875,818.75,819.53125,820.3125,821.09375,821.875,822.65625,823.4375,824.21875,825,825.78125,826.5625,827.34375,828.125,828.90625,829.6875,830.46875,831.25,832.03125,832.8125,833.59375,834.375,835.15625,835.9375,836.71875,837.5,838.28125,839.0625,839.84375,840.625,841.40625,842.1875,842.96875,843.75,844.53125,845.3125,846.09375,846.875,847.65625,848.4375,849.21875,850,850.78125,851.5625,852.34375,853.125,853.90625,854.6875,855.46875,856.25,857.03125,857.8125,858.59375,859.375,860.15625,860.9375,861.71875,862.5,863.28125,864.0625,864.84375,865.625,866.40625,867.1875,867.96875,868.75,869.53125,870.3125,871.09375,871.875,872.65625,873.4375,874.21875,875,875.78125,876.5625,877.34375,878.125,878.90625,879.6875,880.46875,881.25,882.03125,882.8125,883.59375,884.375,885.15625,885.9375,886.71875,887.5,888.28125,889.0625,889.84375,890.625,891.40625,892.1875,892.96875,893.75,894.53125,895.3125,896.09375,896.875,897.65625,898.4375,899.21875,900,900.78125,901.5625,902.34375,903.125,903.90625,904.6875,905.46875,906.25,907.03125,907.8125,908.59375,909.375,910.15625,910.9375,911.71875,912.5,913.28125,914.0625,914.84375,915.625,916.40625,917.1875,917.96875,918.75,919.53125,920.3125,921.09375,921.875,922.65625,923.4375,924.21875,925,925.78125,926.5625,927.34375,928.125,928.90625,929.6875,930.46875,931.25,932.03125,932.8125,933.59375,934.375,935.15625,935.9375,936.71875,937.5,938.28125,939.0625,939.84375,940.625,941.40625,942.1875,942.96875,943.75,944.53125,945.3125,946.09375,946.875,947.65625,948.4375,949.21875,950,950.78125,951.5625,952.34375,953.125,953.90625,954.6875,955.46875,956.25,957.03125,957.8125,958.59375,959.375,960.15625,960.9375,961.71875,962.5,963.28125,964.0625,964.84375,965.625,966.40625,967.1875,967.96875,968.75,969.53125,970.3125,971.09375,971.875,972.65625,973.4375,974.21875,975,975.78125,976.5625,977.34375,978.125,978.90625,979.6875,980.46875,981.25,982.03125,982.8125,983.59375,984.375,985.15625,985.9375,986.71875,987.5,988.28125,989.0625,989.84375,990.625,991.40625,992.1875,992.96875,993.75,994.53125,995.3125,996.09375,996.875,997.65625,998.4375,999.21875,1000,1000.78125,1001.5625,1002.34375,1003.125,1003.90625,1004.6875,1005.46875,1006.25,1007.03125,1007.8125,1008.59375,1009.375,1010.15625,1010.9375,1011.71875,1012.5,1013.28125,1014.0625,1014.84375,1015.625,1016.40625,1017.1875,1017.96875,1018.75,1019.53125,1020.3125,1021.09375,1021.875,1022.65625,1023.4375,1024.21875,1025,1025.78125,1026.5625,1027.34375,1028.125,1028.90625,1029.6875,1030.46875,1031.25,1032.03125,1032.8125,1033.59375,1034.375,1035.15625,1035.9375,1036.71875,1037.5,1038.28125,1039.0625,1039.84375,1040.625,1041.40625,1042.1875,1042.96875,1043.75,1044.53125,1045.3125,1046.09375,1046.875,1047.65625,1048.4375,1049.21875,1050,1050.78125,1051.5625,1052.34375,1053.125,1053.90625,1054.6875,1055.46875,1056.25,1057.03125,1057.8125,1058.59375,1059.375,1060.15625,1060.9375,1061.71875,1062.5,1063.28125,1064.0625,1064.84375,1065.625,1066.40625,1067.1875,1067.96875,1068.75,1069.53125,1070.3125,1071.09375,1071.875,1072.65625,1073.4375,1074.21875,1075,1075.78125,1076.5625,1077.34375,1078.125,1078.90625,1079.6875,1080.46875,1081.25,1082.03125,1082.8125,1083.59375,1084.375,1085.15625,1085.9375,1086.71875,1087.5,1088.28125,1089.0625,1089.84375,1090.625,1091.40625,1092.1875,1092.96875,1093.75,1094.53125,1095.3125,1096.09375,1096.875,1097.65625,1098.4375,1099.21875,1100,1100.78125,1101.5625,1102.34375,1103.125,1103.90625,1104.6875,1105.46875,1106.25,1107.03125,1107.8125,1108.59375,1109.375,1110.15625,1110.9375,1111.71875,1112.5,1113.28125,1114.0625,1114.84375,1115.625,1116.40625,1117.1875,1117.96875,1118.75,1119.53125,1120.3125,1121.09375,1121.875,1122.65625,1123.4375,1124.21875,1125,1125.78125,1126.5625,1127.34375,1128.125,1128.90625,1129.6875,1130.46875,1131.25,1132.03125,1132.8125,1133.59375,1134.375,1135.15625,1135.9375,1136.71875,1137.5,1138.28125,1139.0625,1139.84375,1140.625,1141.40625,1142.1875,1142.96875,1143.75,1144.53125,1145.3125,1146.09375,1146.875,1147.65625,1148.4375,1149.21875,1150,1150.78125,1151.5625,1152.34375,1153.125,1153.90625,1154.6875,1155.46875,1156.25,1157.03125,1157.8125,1158.59375,1159.375,1160.15625,1160.9375,1161.71875,1162.5,1163.28125,1164.0625,1164.84375,1165.625,1166.40625,1167.1875,1167.96875,1168.75,1169.53125,1170.3125,1171.09375,1171.875,1172.65625,1173.4375,1174.21875,1175,1175.78125,1176.5625,1177.34375,1178.125,1178.90625,1179.6875,1180.46875,1181.25,1182.03125,1182.8125,1183.59375,1184.375,1185.15625,1185.9375,1186.71875,1187.5,1188.28125,1189.0625,1189.84375,1190.625,1191.40625,1192.1875,1192.96875,1193.75,1194.53125,1195.3125,1196.09375,1196.875,1197.65625,1198.4375,1199.21875,1200,1200.78125,1201.5625,1202.34375,1203.125,1203.90625,1204.6875,1205.46875,1206.25,1207.03125,1207.8125,1208.59375,1209.375,1210.15625,1210.9375,1211.71875,1212.5,1213.28125,1214.0625,1214.84375,1215.625,1216.40625,1217.1875,1217.96875,1218.75,1219.53125,1220.3125,1221.09375,1221.875,1222.65625,1223.4375,1224.21875,1225,1225.78125,1226.5625,1227.34375,1228.125,1228.90625,1229.6875,1230.46875,1231.25,1232.03125,1232.8125,1233.59375,1234.375,1235.15625,1235.9375,1236.71875,1237.5,1238.28125,1239.0625,1239.84375,1240.625,1241.40625,1242.1875,1242.96875,1243.75,1244.53125,1245.3125,1246.09375,1246.875,1247.65625,1248.4375,1249.21875,1250,1250.78125,1251.5625,1252.34375,1253.125,1253.90625,1254.6875,1255.46875,1256.25,1257.03125,1257.8125,1258.59375,1259.375,1260.15625,1260.9375,1261.71875,1262.5,1263.28125,1264.0625,1264.84375,1265.625,1266.40625,1267.1875,1267.96875,1268.75,1269.53125,1270.3125,1271.09375,1271.875,1272.65625,1273.4375,1274.21875,1275,1275.78125,1276.5625,1277.34375,1278.125,1278.90625,1279.6875,1280.46875,1281.25,1282.03125,1282.8125,1283.59375,1284.375,1285.15625,1285.9375,1286.71875,1287.5,1288.28125,1289.0625,1289.84375,1290.625,1291.40625,1292.1875,1292.96875,1293.75,1294.53125,1295.3125,1296.09375,1296.875,1297.65625,1298.4375,1299.21875,1300,1300.78125,1301.5625,1302.34375,1303.125,1303.90625,1304.6875,1305.46875,1306.25,1307.03125,1307.8125,1308.59375,1309.375,1310.15625,1310.9375,1311.71875,1312.5,1313.28125,1314.0625,1314.84375,1315.625,1316.40625,1317.1875,1317.96875,1318.75,1319.53125,1320.3125,1321.09375,1321.875,1322.65625,1323.4375,1324.21875,1325,1325.78125,1326.5625,1327.34375,1328.125,1328.90625,1329.6875,1330.46875,1331.25,1332.03125,1332.8125,1333.59375,1334.375,1335.15625,1335.9375,1336.71875,1337.5,1338.28125,1339.0625,1339.84375,1340.625,1341.40625,1342.1875,1342.96875,1343.75,1344.53125,1345.3125,1346.09375,1346.875,1347.65625,1348.4375,1349.21875,1350,1350.78125,1351.5625,1352.34375,1353.125,1353.90625,1354.6875,1355.46875,1356.25,1357.03125,1357.8125,1358.59375,1359.375,1360.15625,1360.9375,1361.71875,1362.5,1363.28125,1364.0625,1364.84375,1365.625,1366.40625,1367.1875,1367.96875,1368.75,1369.53125,1370.3125,1371.09375,1371.875,1372.65625,1373.4375,1374.21875,1375,1375.78125,1376.5625,1377.34375,1378.125,1378.90625,1379.6875,1380.46875,1381.25,1382.03125,1382.8125,1383.59375,1384.375,1385.15625,1385.9375,1386.71875,1387.5,1388.28125,1389.0625,1389.84375,1390.625,1391.40625,1392.1875,1392.96875,1393.75,1394.53125,1395.3125,1396.09375,1396.875,1397.65625,1398.4375,1399.21875,1400,1400.78125,1401.5625,1402.34375,1403.125,1403.90625,1404.6875,1405.46875,1406.25,1407.03125,1407.8125,1408.59375,1409.375,1410.15625,1410.9375,1411.71875,1412.5,1413.28125,1414.0625,1414.84375,1415.625,1416.40625,1417.1875,1417.96875,1418.75,1419.53125,1420.3125,1421.09375,1421.875,1422.65625,1423.4375,1424.21875,1425,1425.78125,1426.5625,1427.34375,1428.125,1428.90625,1429.6875,1430.46875,1431.25,1432.03125,1432.8125,1433.59375,1434.375,1435.15625,1435.9375,1436.71875,1437.5,1438.28125,1439.0625,1439.84375,1440.625,1441.40625,1442.1875,1442.96875,1443.75,1444.53125,1445.3125,1446.09375,1446.875,1447.65625,1448.4375,1449.21875,1450,1450.78125,1451.5625,1452.34375,1453.125,1453.90625,1454.6875,1455.46875,1456.25,1457.03125,1457.8125,1458.59375,1459.375,1460.15625,1460.9375,1461.71875,1462.5,1463.28125,1464.0625,1464.84375,1465.625,1466.40625,1467.1875,1467.96875,1468.75,1469.53125,1470.3125,1471.09375,1471.875,1472.65625,1473.4375,1474.21875,1475,1475.78125,1476.5625,1477.34375,1478.125,1478.90625,1479.6875,1480.46875,1481.25,1482.03125,1482.8125,1483.59375,1484.375,1485.15625,1485.9375,1486.71875,1487.5,1488.28125,1489.0625,1489.84375,1490.625,1491.40625,1492.1875,1492.96875,1493.75,1494.53125,1495.3125,1496.09375,1496.875,1497.65625,1498.4375,1499.21875,1500,1500.78125,1501.5625,1502.34375,1503.125,1503.90625,1504.6875,1505.46875,1506.25,1507.03125,1507.8125,1508.59375,1509.375,1510.15625,1510.9375,1511.71875,1512.5,1513.28125,1514.0625,1514.84375,1515.625,1516.40625,1517.1875,1517.96875,1518.75,1519.53125,1520.3125,1521.09375,1521.875,1522.65625,1523.4375,1524.21875,1525,1525.78125,1526.5625,1527.34375,1528.125,1528.90625,1529.6875,1530.46875,1531.25,1532.03125,1532.8125,1533.59375,1534.375,1535.15625,1535.9375,1536.71875,1537.5,1538.28125,1539.0625,1539.84375,1540.625,1541.40625,1542.1875,1542.96875,1543.75,1544.53125,1545.3125,1546.09375,1546.875,1547.65625,1548.4375,1549.21875,1550,1550.78125,1551.5625,1552.34375,1553.125,1553.90625,1554.6875,1555.46875,1556.25,1557.03125,1557.8125,1558.59375,1559.375,1560.15625,1560.9375,1561.71875,1562.5,1563.28125,1564.0625,1564.84375,1565.625,1566.40625,1567.1875,1567.96875,1568.75,1569.53125,1570.3125,1571.09375,1571.875,1572.65625,1573.4375,1574.21875,1575,1575.78125,1576.5625,1577.34375,1578.125,1578.90625,1579.6875,1580.46875,1581.25,1582.03125,1582.8125,1583.59375,1584.375,1585.15625,1585.9375,1586.71875,1587.5,1588.28125,1589.0625,1589.84375,1590.625,1591.40625,1592.1875,1592.96875,1593.75,1594.53125,1595.3125,1596.09375,1596.875,1597.65625,1598.4375,1599.21875,1600]\n",
    "# spec_freq = torch.tensor(spec_freq)\n",
    "# print(spec_freq.shape)\n"
   ]
  },
  {
   "cell_type": "code",
   "execution_count": 25,
   "id": "50e41be2-0cfb-46c7-958f-af786b101ff2",
   "metadata": {},
   "outputs": [],
   "source": [
    "\n",
    "# import transform_fns as trans\n",
    "# standardized_freq = trans.standardized(spec_freq, 2)\n",
    "# weighted_arr = trans.weighted_function(standardized_freq, .2)\n",
    "# expanded_arr = weighted_arr.repeat(36)\n",
    "\n",
    "# result = df_normal * expanded_arr\n",
    "\n",
    "# x = x * expanded_arr\n",
    "\n",
    "# result = model(df_normal, spec_freq)\n",
    "# result_error = model(df_error, spec_freq)"
   ]
  },
  {
   "cell_type": "code",
   "execution_count": 26,
   "id": "1da3cb97-8023-4102-b353-e616a5600b69",
   "metadata": {},
   "outputs": [],
   "source": [
    "# def process_data(spec_freq, df_normal, maxval, rate, repeat_times=36):\n",
    "#     \"\"\"\n",
    "#     Process the spectral frequency data.\n",
    "\n",
    "#     Parameters:\n",
    "#         spec_freq (torch.Tensor): The input spectral frequency tensor.\n",
    "#         df_normal (torch.Tensor): The normal DataFrame tensor.\n",
    "#         maxval (float): The maximum value for standardization.\n",
    "#         rate (float): The rate for the weighted function.\n",
    "#         repeat_times (int): Number of times to repeat the weighted array.\n",
    "\n",
    "#     Returns:\n",
    "#         torch.Tensor: The processed result after applying the operations.\n",
    "#     \"\"\"\n",
    "#     # Standardize the frequency\n",
    "#     standardized_freq = trans.standardized(spec_freq, maxval)\n",
    "\n",
    "#     # Apply the weighted function\n",
    "#     weighted_arr = trans.weighted_function(standardized_freq, rate)\n",
    "\n",
    "#     # Expand the array\n",
    "#     expanded_arr = weighted_arr.repeat(repeat_times)\n",
    "\n",
    "#     # Perform element-wise multiplication\n",
    "#     result = df_normal * expanded_arr\n",
    "\n",
    "#     return result\n"
   ]
  },
  {
   "cell_type": "code",
   "execution_count": 27,
   "id": "ecf61a96-7e9c-4e71-86a1-204e686015b6",
   "metadata": {},
   "outputs": [],
   "source": [
    "# result = process_data(spec_freq, df_normal, 2, .2, repeat_times=36)\n",
    "# result.shape"
   ]
  },
  {
   "cell_type": "code",
   "execution_count": null,
   "id": "c93bb64e-705c-4185-bb0c-c233a1afbc70",
   "metadata": {},
   "outputs": [],
   "source": []
  },
  {
   "cell_type": "code",
   "execution_count": 28,
   "id": "4d803839-7577-415c-8c91-00ec4b91d1e9",
   "metadata": {
    "scrolled": true
   },
   "outputs": [],
   "source": [
    "# fig, axes = plt.subplots(nrows=12, ncols=2, figsize=(15,30)) \n",
    "\n",
    "# for i in range(12):\n",
    "#     ylim = torch.max(df_normal[i].max(), result[i].max())\n",
    "\n",
    "#     axes[i, 0].plot(df_normal[i])\n",
    "#     axes[i, 0].set_title('Original')\n",
    "#     axes[i, 0].set_ylim(0, ylim)\n",
    "    \n",
    "#     axes[i, 1].plot(result[i])\n",
    "#     axes[i, 1].set_title('After model')\n",
    "#     axes[i, 1].set_ylim(0, ylim)\n",
    "\n",
    "# plt.tight_layout()  \n",
    "# plt.savefig('one_day_weighted_normal.png', dpi=300) \n",
    "# plt.show()"
   ]
  },
  {
   "cell_type": "code",
   "execution_count": 29,
   "id": "69b6b90d-829e-4f25-a8e5-34c584ebe2c3",
   "metadata": {
    "jupyter": {
     "source_hidden": true
    },
    "scrolled": true
   },
   "outputs": [],
   "source": [
    "# fig, axes = plt.subplots(nrows=12, ncols=2, figsize=(15,30)) \n",
    "\n",
    "# for i in range(12):\n",
    "#     ylim = torch.max(df_error[i].max(), result[i].max())\n",
    "\n",
    "#     axes[i, 0].plot(df_error[i])\n",
    "#     axes[i, 0].set_title('Original')\n",
    "#     axes[i, 0].set_ylim(0, ylim)\n",
    "    \n",
    "#     axes[i, 1].plot(result_error[i])\n",
    "#     axes[i, 1].set_title('After model')\n",
    "#     axes[i, 1].set_ylim(0, ylim)\n",
    "\n",
    "# plt.tight_layout()  \n",
    "# plt.savefig('one_day_weighted_error.png', dpi=300) \n",
    "# plt.show()"
   ]
  },
  {
   "cell_type": "markdown",
   "id": "fc5f1cdf-c7e5-4c4e-a54b-c231f364a7d9",
   "metadata": {},
   "source": [
    "## Top x from 73000"
   ]
  },
  {
   "cell_type": "code",
   "execution_count": 30,
   "id": "e5285af1-bd7b-4317-874f-48eec7b84c91",
   "metadata": {},
   "outputs": [],
   "source": [
    "# def get_sorted_top_k_values(tensor, k=5000):\n",
    "#     \"\"\"\n",
    "#     Extract the top k values from each row of a 2D tensor\n",
    "#     and sort them based on their original indices.\n",
    "    \n",
    "#     Args:\n",
    "#         tensor (torch.Tensor): Input tensor of shape (num_rows, num_columns).\n",
    "#         k (int): The number of top values to extract from each row.\n",
    "        \n",
    "#     Returns:\n",
    "#         torch.Tensor: A tensor of shape (num_rows, k) containing the sorted top k values.\n",
    "#     \"\"\"\n",
    "#     top_values, top_indices = torch.topk(tensor, k, sorted=False)\n",
    "\n",
    "#     # Sort the top values according to the indices\n",
    "#     sorted_indices = torch.argsort(top_indices, dim=1)\n",
    "#     sorted_top_values = torch.gather(top_values, 1, sorted_indices)\n",
    "    \n",
    "#     return sorted_top_values"
   ]
  },
  {
   "cell_type": "code",
   "execution_count": 31,
   "id": "066cc687-4887-4034-85d8-0b6180f572da",
   "metadata": {},
   "outputs": [],
   "source": [
    "# top_10000, top_10000_indices = torch.topk(result, 10000, sorted=False)\n",
    "# top_5000_values, top_5000_indices = torch.topk(result, 5000, sorted=False)\n",
    "# top_5000_values.shape, top_5000_indices.shape"
   ]
  },
  {
   "cell_type": "code",
   "execution_count": 32,
   "id": "53d21e9e-52e6-4208-bd51-0abc20585aab",
   "metadata": {
    "scrolled": true
   },
   "outputs": [],
   "source": [
    "# result.shape"
   ]
  },
  {
   "cell_type": "code",
   "execution_count": 33,
   "id": "b6b0729a-5f4c-4350-8674-d70089a73d67",
   "metadata": {},
   "outputs": [],
   "source": [
    "# result_5000 = get_sorted_top_k_values(result)"
   ]
  },
  {
   "cell_type": "code",
   "execution_count": 34,
   "id": "b9ea9622-bae9-4c7e-8a26-24c0dd403665",
   "metadata": {},
   "outputs": [],
   "source": [
    "# sns.lineplot(result_5000[10])"
   ]
  },
  {
   "cell_type": "code",
   "execution_count": 35,
   "id": "0a348681-f98e-4265-94d1-c117f33db904",
   "metadata": {
    "scrolled": true
   },
   "outputs": [],
   "source": [
    "# fig, axes = plt.subplots(nrows=12, figsize=(8,30)) \n",
    "\n",
    "# for i in range(12):\n",
    "#     # ylim = torch.max(df_normal[i].max(), result[i].max())\n",
    "#     val, ind = torch.topk(result[i], 5000, sorted=False)\n",
    "#     intacted_5000 = val[torch.argsort(ind)]\n",
    "#     axes[i].plot(intacted_5000)\n",
    "#     axes[i].set_title(f'First 5000 largest values {i}')\n",
    "#     # axes[i, 1].set_ylim(0, ylim)\n",
    "\n",
    "# plt.tight_layout()  \n",
    "# plt.savefig('top_5000.png', dpi=300) \n",
    "# plt.show()"
   ]
  },
  {
   "cell_type": "code",
   "execution_count": 36,
   "id": "2f23b998-0876-4145-b29a-fc4a858fb6d9",
   "metadata": {},
   "outputs": [],
   "source": [
    "# top_5000_normal= fns.get_sorted_top_k_values(df_normal)\n",
    "# top_5000_error = fns.get_sorted_top_k_values(df_error)\n",
    "# print(top_5000_normal.shape); print(top_5000_error.shape)"
   ]
  },
  {
   "cell_type": "code",
   "execution_count": 37,
   "id": "19ca3930-cf31-4355-9077-8e8ea60833e8",
   "metadata": {},
   "outputs": [],
   "source": [
    "# sns.lineplot(top_5000_normal[10])"
   ]
  },
  {
   "cell_type": "markdown",
   "id": "ccb457e9-9955-414b-bd79-d2ddb0303aa7",
   "metadata": {},
   "source": [
    "## Dataset Ready"
   ]
  },
  {
   "cell_type": "code",
   "execution_count": 38,
   "id": "176ffe6a-4b55-4f27-a679-0bdf2253d136",
   "metadata": {},
   "outputs": [
    {
     "name": "stderr",
     "output_type": "stream",
     "text": [
      "C:\\SK\\ai_proj\\data_analysis\\process_fns.py:40: SettingWithCopyWarning: \n",
      "A value is trying to be set on a copy of a slice from a DataFrame.\n",
      "Try using .loc[row_indexer,col_indexer] = value instead\n",
      "\n",
      "See the caveats in the documentation: https://pandas.pydata.org/pandas-docs/stable/user_guide/indexing.html#returning-a-view-versus-a-copy\n",
      "  df[col] = df[col].apply(lambda x: [float(j) for j in x][1:])\n",
      "C:\\SK\\ai_proj\\data_analysis\\process_fns.py:40: SettingWithCopyWarning: \n",
      "A value is trying to be set on a copy of a slice from a DataFrame.\n",
      "Try using .loc[row_indexer,col_indexer] = value instead\n",
      "\n",
      "See the caveats in the documentation: https://pandas.pydata.org/pandas-docs/stable/user_guide/indexing.html#returning-a-view-versus-a-copy\n",
      "  df[col] = df[col].apply(lambda x: [float(j) for j in x][1:])\n",
      "C:\\SK\\ai_proj\\data_analysis\\process_fns.py:40: SettingWithCopyWarning: \n",
      "A value is trying to be set on a copy of a slice from a DataFrame.\n",
      "Try using .loc[row_indexer,col_indexer] = value instead\n",
      "\n",
      "See the caveats in the documentation: https://pandas.pydata.org/pandas-docs/stable/user_guide/indexing.html#returning-a-view-versus-a-copy\n",
      "  df[col] = df[col].apply(lambda x: [float(j) for j in x][1:])\n",
      "C:\\SK\\ai_proj\\data_analysis\\process_fns.py:40: SettingWithCopyWarning: \n",
      "A value is trying to be set on a copy of a slice from a DataFrame.\n",
      "Try using .loc[row_indexer,col_indexer] = value instead\n",
      "\n",
      "See the caveats in the documentation: https://pandas.pydata.org/pandas-docs/stable/user_guide/indexing.html#returning-a-view-versus-a-copy\n",
      "  df[col] = df[col].apply(lambda x: [float(j) for j in x][1:])\n"
     ]
    }
   ],
   "source": [
    "datasets = pfns.PostProcessing('dataset/5528_droped_data.csv')"
   ]
  },
  {
   "cell_type": "code",
   "execution_count": 77,
   "id": "f510f52a-e504-4a83-8cb6-7b2af8cb390d",
   "metadata": {},
   "outputs": [],
   "source": [
    "train_sets = datasets[0]\n",
    "dev_sets = datasets[1]\n",
    "test_sets= datasets[2]\n"
   ]
  },
  {
   "cell_type": "code",
   "execution_count": 78,
   "id": "3c27f56b-7d4f-44ed-be94-6a664c8f30ec",
   "metadata": {},
   "outputs": [
    {
     "name": "stdout",
     "output_type": "stream",
     "text": [
      "121 37 37\n"
     ]
    }
   ],
   "source": [
    "train_sets[0]\n",
    "print(len(train_sets[0]), len(dev_sets[0]), len(test_sets[0]))"
   ]
  },
  {
   "cell_type": "code",
   "execution_count": 79,
   "id": "96250a9d-6ee7-4fb1-9670-b305558bab05",
   "metadata": {},
   "outputs": [],
   "source": [
    "train_set_aug = fns.multi_datasets(train_sets[0], multi_dim= 10)"
   ]
  },
  {
   "cell_type": "code",
   "execution_count": 80,
   "id": "aeabfb2a-61a5-484e-9353-2faba720ec0e",
   "metadata": {},
   "outputs": [
    {
     "data": {
      "text/plain": [
       "torch.Size([1210, 73728])"
      ]
     },
     "execution_count": 80,
     "metadata": {},
     "output_type": "execute_result"
    }
   ],
   "source": [
    "train_set_aug.shape"
   ]
  },
  {
   "cell_type": "code",
   "execution_count": 81,
   "id": "0b31a11a-38d5-4b1c-8fa7-7f024d3658a5",
   "metadata": {},
   "outputs": [],
   "source": [
    "# train_label_aug = np.repeat(train_sets[1], 10, axis= 0)\n",
    "# train_label_aug.shape\n",
    "train_sets[1] = train_sets[1].reshape((121,1))\n",
    "train_label = np.repeat(train_sets[1], 10, axis= 0) \n"
   ]
  },
  {
   "cell_type": "code",
   "execution_count": 82,
   "id": "9c1b0f41-79aa-43a9-b522-6356d96a34e3",
   "metadata": {},
   "outputs": [
    {
     "data": {
      "text/plain": [
       "torch.Size([1210, 1])"
      ]
     },
     "execution_count": 82,
     "metadata": {},
     "output_type": "execute_result"
    }
   ],
   "source": [
    "train_label.shape"
   ]
  },
  {
   "cell_type": "code",
   "execution_count": 83,
   "id": "a808dd86-7ef2-47a3-b077-c88c6a132d7a",
   "metadata": {},
   "outputs": [],
   "source": [
    "train_label_aug = train_label"
   ]
  },
  {
   "cell_type": "code",
   "execution_count": 84,
   "id": "ca6525e8-fb29-4d30-925d-42350bff7dbb",
   "metadata": {},
   "outputs": [],
   "source": [
    "# from create_dataset import LabelingData\n"
   ]
  },
  {
   "cell_type": "code",
   "execution_count": 85,
   "id": "3d110a37-80d5-461f-9d1d-390b05600453",
   "metadata": {},
   "outputs": [],
   "source": [
    "# train_x, test_x, train_label, test_label = fns.binary_labeling(top_5000_normal, top_5000_error, .2, random_state=42) "
   ]
  },
  {
   "cell_type": "code",
   "execution_count": 86,
   "id": "f087d5c7-530a-4394-aec5-83683aaafdf9",
   "metadata": {},
   "outputs": [],
   "source": [
    "# train_x.shape, test_x.shape, train_label.shape, test_label.shape"
   ]
  },
  {
   "cell_type": "code",
   "execution_count": 87,
   "id": "998a7240-86bf-4245-8189-ba159dd7f300",
   "metadata": {
    "scrolled": true
   },
   "outputs": [],
   "source": [
    "# sns.lineplot(train_x[1])"
   ]
  },
  {
   "cell_type": "code",
   "execution_count": 88,
   "id": "e7b3c707-cc73-4319-9fc4-206d9438abef",
   "metadata": {},
   "outputs": [
    {
     "data": {
      "text/plain": [
       "<Axes: >"
      ]
     },
     "execution_count": 88,
     "metadata": {},
     "output_type": "execute_result"
    },
    {
     "data": {
      "image/png": "[encoded data removed]",
      "text/plain": [
       "<Figure size 640x480 with 1 Axes>"
      ]
     },
     "metadata": {},
     "output_type": "display_data"
    }
   ],
   "source": [
    "sns.lineplot(train_set_aug[0])"
   ]
  },
  {
   "cell_type": "code",
   "execution_count": 89,
   "id": "eebfc349-9c0e-4fd3-97fa-6a8982e54137",
   "metadata": {},
   "outputs": [],
   "source": [
    "train_set_aug_sh, _, train_label_aug_sh, _ = train_test_split(train_set_aug, train_label_aug, test_size=1) "
   ]
  },
  {
   "cell_type": "code",
   "execution_count": 90,
   "id": "4d70d854-f9ff-4239-b998-99c498b5580a",
   "metadata": {},
   "outputs": [
    {
     "data": {
      "text/plain": [
       "(torch.Size([1209, 73728]), torch.Size([1210, 73728]))"
      ]
     },
     "execution_count": 90,
     "metadata": {},
     "output_type": "execute_result"
    }
   ],
   "source": [
    "train_set_aug_sh.shape, train_set_aug.shape"
   ]
  },
  {
   "cell_type": "code",
   "execution_count": 91,
   "id": "2eefc618-6d1a-4910-9217-7dff54ee2d4c",
   "metadata": {},
   "outputs": [
    {
     "data": {
      "text/plain": [
       "(torch.Size([1209, 1]), torch.Size([1210, 1]))"
      ]
     },
     "execution_count": 91,
     "metadata": {},
     "output_type": "execute_result"
    }
   ],
   "source": [
    "train_label_aug_sh.shape, train_label_aug.shape"
   ]
  },
  {
   "cell_type": "code",
   "execution_count": 92,
   "id": "b4c3275d-3b18-48c9-9411-136e8b53da1f",
   "metadata": {},
   "outputs": [
    {
     "data": {
      "text/plain": [
       "<Axes: >"
      ]
     },
     "execution_count": 92,
     "metadata": {},
     "output_type": "execute_result"
    },
    {
     "data": {
      "image/png": "[encoded data removed]",
      "text/plain": [
       "<Figure size 640x480 with 1 Axes>"
      ]
     },
     "metadata": {},
     "output_type": "display_data"
    }
   ],
   "source": [
    "train_set_aug_sh = train_set_aug_sh * wf\n",
    "sns.lineplot(train_set_aug[0])"
   ]
  },
  {
   "cell_type": "code",
   "execution_count": null,
   "id": "15f9c275-3e40-43f3-9de7-6ae01216c796",
   "metadata": {},
   "outputs": [],
   "source": []
  },
  {
   "cell_type": "code",
   "execution_count": null,
   "id": "8328e605-d9bd-46b3-babb-3aecd3192e6e",
   "metadata": {},
   "outputs": [],
   "source": []
  },
  {
   "cell_type": "code",
   "execution_count": null,
   "id": "6b51abdf-f6d8-42db-a67b-1f30b8e23daf",
   "metadata": {},
   "outputs": [],
   "source": []
  },
  {
   "cell_type": "code",
   "execution_count": null,
   "id": "ed2e1b2b-7660-4a21-b1c5-107ddf422ae5",
   "metadata": {},
   "outputs": [],
   "source": []
  },
  {
   "cell_type": "markdown",
   "id": "606a6b5a-a789-4bde-a54a-3e862bd9e669",
   "metadata": {},
   "source": [
    "### <span style=\"color:red\"> This (* 1000) is going to be one of hyperparameters  </span>"
   ]
  },
  {
   "cell_type": "code",
   "execution_count": 93,
   "id": "00c26242-8395-4ff8-8074-72e56034d3b7",
   "metadata": {},
   "outputs": [],
   "source": [
    "# train_x = trans.get_sorted_top_k_values(train_x) * 10\n",
    "train_x = trans.get_sorted_top_k_values(train_set_aug_sh) * 100000"
   ]
  },
  {
   "cell_type": "code",
   "execution_count": 94,
   "id": "3c65455f-7303-4866-a2ec-b770e1516cfe",
   "metadata": {
    "scrolled": true
   },
   "outputs": [
    {
     "data": {
      "text/plain": [
       "<Axes: >"
      ]
     },
     "execution_count": 94,
     "metadata": {},
     "output_type": "execute_result"
    },
    {
     "data": {
      "image/png": "[encoded data removed]",
      "text/plain": [
       "<Figure size 640x480 with 1 Axes>"
      ]
     },
     "metadata": {},
     "output_type": "display_data"
    }
   ],
   "source": [
    "sns.lineplot(train_x[0])"
   ]
  },
  {
   "cell_type": "code",
   "execution_count": 95,
   "id": "a930483a-9037-4d68-9309-a8a8d936a1c5",
   "metadata": {},
   "outputs": [
    {
     "name": "stdout",
     "output_type": "stream",
     "text": [
      "torch.Size([1210])\n"
     ]
    }
   ],
   "source": [
    "train_x.shape\n",
    "train_label_aug = train_label_aug.squeeze()\n",
    "print(train_label_aug.shape)"
   ]
  },
  {
   "cell_type": "code",
   "execution_count": 96,
   "id": "a19a4325-d347-42aa-a4df-274062b89ff3",
   "metadata": {},
   "outputs": [
    {
     "ename": "NameError",
     "evalue": "name 'test_x' is not defined",
     "output_type": "error",
     "traceback": [
      "\u001b[1;31m---------------------------------------------------------------------------\u001b[0m",
      "\u001b[1;31mNameError\u001b[0m                                 Traceback (most recent call last)",
      "Cell \u001b[1;32mIn[96], line 1\u001b[0m\n\u001b[1;32m----> 1\u001b[0m \u001b[43mtest_x\u001b[49m\u001b[38;5;241m.\u001b[39mshape, test_label\u001b[38;5;241m.\u001b[39mshape\n",
      "\u001b[1;31mNameError\u001b[0m: name 'test_x' is not defined"
     ]
    }
   ],
   "source": [
    "test_x.shape, test_label.shape"
   ]
  },
  {
   "cell_type": "code",
   "execution_count": null,
   "id": "18adb466-cdac-48b6-8ae3-8314831706ae",
   "metadata": {},
   "outputs": [],
   "source": [
    "train_x.shape , train_label_aug.shape"
   ]
  },
  {
   "cell_type": "code",
   "execution_count": 97,
   "id": "1d8f0290-ce3e-41ce-8df1-75d7c91f04ba",
   "metadata": {},
   "outputs": [
    {
     "ename": "AssertionError",
     "evalue": "Size mismatch between tensors",
     "output_type": "error",
     "traceback": [
      "\u001b[1;31m---------------------------------------------------------------------------\u001b[0m",
      "\u001b[1;31mAssertionError\u001b[0m                            Traceback (most recent call last)",
      "Cell \u001b[1;32mIn[97], line 2\u001b[0m\n\u001b[0;32m      1\u001b[0m \u001b[38;5;66;03m# train_dataset = TensorDataset(train_x, train_label)\u001b[39;00m\n\u001b[1;32m----> 2\u001b[0m train_dataset \u001b[38;5;241m=\u001b[39m \u001b[43mTensorDataset\u001b[49m\u001b[43m(\u001b[49m\u001b[43mtrain_x\u001b[49m\u001b[43m,\u001b[49m\u001b[43m \u001b[49m\u001b[43mtrain_label_aug\u001b[49m\u001b[43m)\u001b[49m\n",
      "File \u001b[1;32m~\\anaconda3\\envs\\kdtproj\\Lib\\site-packages\\torch\\utils\\data\\dataset.py:205\u001b[0m, in \u001b[0;36mTensorDataset.__init__\u001b[1;34m(self, *tensors)\u001b[0m\n\u001b[0;32m    204\u001b[0m \u001b[38;5;28;01mdef\u001b[39;00m \u001b[38;5;21m__init__\u001b[39m(\u001b[38;5;28mself\u001b[39m, \u001b[38;5;241m*\u001b[39mtensors: Tensor) \u001b[38;5;241m-\u001b[39m\u001b[38;5;241m>\u001b[39m \u001b[38;5;28;01mNone\u001b[39;00m:\n\u001b[1;32m--> 205\u001b[0m     \u001b[38;5;28;01massert\u001b[39;00m \u001b[38;5;28mall\u001b[39m(\n\u001b[0;32m    206\u001b[0m         tensors[\u001b[38;5;241m0\u001b[39m]\u001b[38;5;241m.\u001b[39msize(\u001b[38;5;241m0\u001b[39m) \u001b[38;5;241m==\u001b[39m tensor\u001b[38;5;241m.\u001b[39msize(\u001b[38;5;241m0\u001b[39m) \u001b[38;5;28;01mfor\u001b[39;00m tensor \u001b[38;5;129;01min\u001b[39;00m tensors\n\u001b[0;32m    207\u001b[0m     ), \u001b[38;5;124m\"\u001b[39m\u001b[38;5;124mSize mismatch between tensors\u001b[39m\u001b[38;5;124m\"\u001b[39m\n\u001b[0;32m    208\u001b[0m     \u001b[38;5;28mself\u001b[39m\u001b[38;5;241m.\u001b[39mtensors \u001b[38;5;241m=\u001b[39m tensors\n",
      "\u001b[1;31mAssertionError\u001b[0m: Size mismatch between tensors"
     ]
    }
   ],
   "source": [
    "# train_dataset = TensorDataset(train_x, train_label)\n",
    "train_dataset = TensorDataset(train_x, train_label_aug)"
   ]
  },
  {
   "cell_type": "code",
   "execution_count": 98,
   "id": "d25c6d81-94c6-4b07-b6f2-67066108a276",
   "metadata": {},
   "outputs": [
    {
     "ename": "NameError",
     "evalue": "name 'test_x' is not defined",
     "output_type": "error",
     "traceback": [
      "\u001b[1;31m---------------------------------------------------------------------------\u001b[0m",
      "\u001b[1;31mNameError\u001b[0m                                 Traceback (most recent call last)",
      "Cell \u001b[1;32mIn[98], line 1\u001b[0m\n\u001b[1;32m----> 1\u001b[0m test_dataset \u001b[38;5;241m=\u001b[39m TensorDataset(\u001b[43mtest_x\u001b[49m, test_label)\n",
      "\u001b[1;31mNameError\u001b[0m: name 'test_x' is not defined"
     ]
    }
   ],
   "source": [
    "test_dataset = TensorDataset(test_x, test_label)"
   ]
  },
  {
   "cell_type": "code",
   "execution_count": 99,
   "id": "c9e62500-6b17-4e9e-b2e9-b3916bcf38a0",
   "metadata": {},
   "outputs": [
    {
     "ename": "NameError",
     "evalue": "name 'train_dataset' is not defined",
     "output_type": "error",
     "traceback": [
      "\u001b[1;31m---------------------------------------------------------------------------\u001b[0m",
      "\u001b[1;31mNameError\u001b[0m                                 Traceback (most recent call last)",
      "Cell \u001b[1;32mIn[99], line 1\u001b[0m\n\u001b[1;32m----> 1\u001b[0m \u001b[43mtrain_dataset\u001b[49m\u001b[38;5;241m.\u001b[39mtensors\n",
      "\u001b[1;31mNameError\u001b[0m: name 'train_dataset' is not defined"
     ]
    }
   ],
   "source": [
    "train_dataset.tensors"
   ]
  },
  {
   "cell_type": "code",
   "execution_count": 100,
   "id": "5701c85c-ccc5-4170-9f17-eaf8b6689a49",
   "metadata": {},
   "outputs": [
    {
     "ename": "NameError",
     "evalue": "name 'test_dataset' is not defined",
     "output_type": "error",
     "traceback": [
      "\u001b[1;31m---------------------------------------------------------------------------\u001b[0m",
      "\u001b[1;31mNameError\u001b[0m                                 Traceback (most recent call last)",
      "Cell \u001b[1;32mIn[100], line 1\u001b[0m\n\u001b[1;32m----> 1\u001b[0m \u001b[43mtest_dataset\u001b[49m\u001b[38;5;241m.\u001b[39mtensors\n",
      "\u001b[1;31mNameError\u001b[0m: name 'test_dataset' is not defined"
     ]
    }
   ],
   "source": [
    "test_dataset.tensors"
   ]
  },
  {
   "cell_type": "code",
   "execution_count": 101,
   "id": "6a086663-72b7-4d90-bab3-156cf3adf595",
   "metadata": {},
   "outputs": [
    {
     "ename": "NameError",
     "evalue": "name 'train_dataset' is not defined",
     "output_type": "error",
     "traceback": [
      "\u001b[1;31m---------------------------------------------------------------------------\u001b[0m",
      "\u001b[1;31mNameError\u001b[0m                                 Traceback (most recent call last)",
      "Cell \u001b[1;32mIn[101], line 1\u001b[0m\n\u001b[1;32m----> 1\u001b[0m dataloader \u001b[38;5;241m=\u001b[39m DataLoader(\u001b[43mtrain_dataset\u001b[49m, batch_size\u001b[38;5;241m=\u001b[39m\u001b[38;5;241m128\u001b[39m, shuffle\u001b[38;5;241m=\u001b[39m\u001b[38;5;28;01mTrue\u001b[39;00m)\n",
      "\u001b[1;31mNameError\u001b[0m: name 'train_dataset' is not defined"
     ]
    }
   ],
   "source": [
    "dataloader = DataLoader(train_dataset, batch_size=128, shuffle=True)"
   ]
  },
  {
   "cell_type": "code",
   "execution_count": 102,
   "id": "3da1787a-4c22-4898-94e8-86ea4748f14a",
   "metadata": {},
   "outputs": [
    {
     "ename": "NameError",
     "evalue": "name 'test_dataset' is not defined",
     "output_type": "error",
     "traceback": [
      "\u001b[1;31m---------------------------------------------------------------------------\u001b[0m",
      "\u001b[1;31mNameError\u001b[0m                                 Traceback (most recent call last)",
      "Cell \u001b[1;32mIn[102], line 1\u001b[0m\n\u001b[1;32m----> 1\u001b[0m dataloader_test \u001b[38;5;241m=\u001b[39mDataLoader(\u001b[43mtest_dataset\u001b[49m, batch_size\u001b[38;5;241m=\u001b[39m\u001b[38;5;241m64\u001b[39m, shuffle\u001b[38;5;241m=\u001b[39m\u001b[38;5;28;01mTrue\u001b[39;00m)\n",
      "\u001b[1;31mNameError\u001b[0m: name 'test_dataset' is not defined"
     ]
    }
   ],
   "source": [
    "dataloader_test =DataLoader(test_dataset, batch_size=64, shuffle=True)"
   ]
  },
  {
   "cell_type": "code",
   "execution_count": 71,
   "id": "35247071-0b9a-4753-a3c9-11d486d9d00f",
   "metadata": {},
   "outputs": [
    {
     "ename": "NameError",
     "evalue": "name 'dataloader' is not defined",
     "output_type": "error",
     "traceback": [
      "\u001b[1;31m---------------------------------------------------------------------------\u001b[0m",
      "\u001b[1;31mNameError\u001b[0m                                 Traceback (most recent call last)",
      "Cell \u001b[1;32mIn[71], line 1\u001b[0m\n\u001b[1;32m----> 1\u001b[0m \u001b[43mdataloader\u001b[49m\n",
      "\u001b[1;31mNameError\u001b[0m: name 'dataloader' is not defined"
     ]
    }
   ],
   "source": [
    "dataloader"
   ]
  },
  {
   "cell_type": "code",
   "execution_count": 72,
   "id": "c3c6c3e7-53bb-4215-ab19-7c54a926598b",
   "metadata": {},
   "outputs": [],
   "source": [
    "# for x_batch, labels in dataloader:\n",
    "#     print(x_batch.shape, labels.shape)"
   ]
  },
  {
   "cell_type": "code",
   "execution_count": 73,
   "id": "e3ccecf7-8c9a-4687-8948-2eb07a29d484",
   "metadata": {},
   "outputs": [],
   "source": [
    "# for x_batch, labels in dataloader_test:\n",
    "#     print(x_batch.shape, labels.shape)"
   ]
  },
  {
   "cell_type": "markdown",
   "id": "2ba5a73f-bb9f-4fb0-95a2-8a2900f34962",
   "metadata": {},
   "source": [
    "## Model Structure"
   ]
  },
  {
   "cell_type": "code",
   "execution_count": 74,
   "id": "ff3050bb-339c-40bf-9171-659572ef9cb0",
   "metadata": {},
   "outputs": [],
   "source": [
    "learning_rate = 0.001\n",
    "num_epochs = 10\n",
    "\n",
    "model = nn.Sequential(\n",
    "         nn.Conv1d(in_channels=1, out_channels=16, kernel_size=3, stride=1, padding=1),  \n",
    "    nn.ReLU(), \n",
    "    nn.MaxPool1d(kernel_size=2),  \n",
    "    nn.Conv1d(in_channels=16, out_channels=32, kernel_size=3, stride=1, padding=1),  \n",
    "    nn.ReLU(),\n",
    "    nn.MaxPool1d(kernel_size=2),\n",
    "    nn.Flatten(),\n",
    "    nn.Linear(32 * (5000 // 4), 64), \n",
    "    nn.ReLU(),\n",
    "    nn.Linear(64, 2)  \n",
    "        )\n",
    "\n",
    "\n",
    "criterion = nn.CrossEntropyLoss() \n",
    "optimizer = optim.Adam(model.parameters(), lr=learning_rate)"
   ]
  },
  {
   "cell_type": "code",
   "execution_count": 75,
   "id": "7011d304-245d-4493-831d-4a1572bb9548",
   "metadata": {},
   "outputs": [
    {
     "name": "stdout",
     "output_type": "stream",
     "text": [
      "Sequential(\n",
      "  (0): Conv1d(1, 16, kernel_size=(3,), stride=(1,), padding=(1,))\n",
      "  (1): ReLU()\n",
      "  (2): MaxPool1d(kernel_size=2, stride=2, padding=0, dilation=1, ceil_mode=False)\n",
      "  (3): Conv1d(16, 32, kernel_size=(3,), stride=(1,), padding=(1,))\n",
      "  (4): ReLU()\n",
      "  (5): MaxPool1d(kernel_size=2, stride=2, padding=0, dilation=1, ceil_mode=False)\n",
      "  (6): Flatten(start_dim=1, end_dim=-1)\n",
      "  (7): Linear(in_features=40000, out_features=64, bias=True)\n",
      "  (8): ReLU()\n",
      "  (9): Linear(in_features=64, out_features=2, bias=True)\n",
      ")\n"
     ]
    }
   ],
   "source": [
    "print(model)"
   ]
  },
  {
   "cell_type": "markdown",
   "id": "b98a82fb-2b38-4fb9-b0b9-ee80da434d38",
   "metadata": {},
   "source": [
    "### Model Training"
   ]
  },
  {
   "cell_type": "code",
   "execution_count": 76,
   "id": "e1f37db5-a10d-4be6-83d2-c455d8ab372b",
   "metadata": {},
   "outputs": [
    {
     "name": "stdout",
     "output_type": "stream",
     "text": [
      "cuda\n"
     ]
    },
    {
     "ename": "NameError",
     "evalue": "name 'dataloader' is not defined",
     "output_type": "error",
     "traceback": [
      "\u001b[1;31m---------------------------------------------------------------------------\u001b[0m",
      "\u001b[1;31mNameError\u001b[0m                                 Traceback (most recent call last)",
      "Cell \u001b[1;32mIn[76], line 10\u001b[0m\n\u001b[0;32m      7\u001b[0m model\u001b[38;5;241m.\u001b[39mtrain()\n\u001b[0;32m      8\u001b[0m running_loss \u001b[38;5;241m=\u001b[39m \u001b[38;5;241m0.0\u001b[39m\n\u001b[1;32m---> 10\u001b[0m \u001b[38;5;28;01mfor\u001b[39;00m x_batch, labels \u001b[38;5;129;01min\u001b[39;00m \u001b[43mdataloader\u001b[49m:\n\u001b[0;32m     12\u001b[0m     x_batch \u001b[38;5;241m=\u001b[39m x_batch\u001b[38;5;241m.\u001b[39mto(device)\n\u001b[0;32m     13\u001b[0m     labels \u001b[38;5;241m=\u001b[39m labels\u001b[38;5;241m.\u001b[39mto(device)\n",
      "\u001b[1;31mNameError\u001b[0m: name 'dataloader' is not defined"
     ]
    }
   ],
   "source": [
    "device = torch.device(\"cuda\" if torch.cuda.is_available() else \"cpu\")\n",
    "print(device)\n",
    "\n",
    "model.to(device)\n",
    "\n",
    "for epoch in range(num_epochs):\n",
    "    model.train()\n",
    "    running_loss = 0.0\n",
    "\n",
    "    for x_batch, labels in dataloader:\n",
    "\n",
    "        x_batch = x_batch.to(device)\n",
    "        labels = labels.to(device)\n",
    "        \n",
    "        optimizer.zero_grad()\n",
    "\n",
    "        # Reshape x_batch to have one input channel\n",
    "        x_batch = x_batch.unsqueeze(1)  # Shape: (batch_size, 1, 5000)\n",
    "        \n",
    "        outputs = model(x_batch)\n",
    "        loss = criterion(outputs, labels)\n",
    "\n",
    "        loss.backward()\n",
    "        optimizer.step()\n",
    "\n",
    "        running_loss += loss.item()\n",
    "\n",
    "    avg_loss = running_loss / len(dataloader)\n",
    "    print(f\"Epoch [{epoch + 1}/{num_epochs}], Loss: {avg_loss:.4f}\")"
   ]
  },
  {
   "cell_type": "markdown",
   "id": "34513def-f091-4540-8911-47561483eb9e",
   "metadata": {},
   "source": [
    "## Model Evaluation"
   ]
  },
  {
   "cell_type": "code",
   "execution_count": null,
   "id": "9ed687e9-5a99-4ea9-8276-a1b71c038e4e",
   "metadata": {
    "jupyter": {
     "source_hidden": true
    }
   },
   "outputs": [],
   "source": [
    "model.eval()\n",
    "\n",
    "# Initialize variables to keep track of the loss and predictions\n",
    "total_loss = 0.0\n",
    "all_labels = []\n",
    "all_predictions = []\n",
    "\n",
    "with torch.no_grad():\n",
    "    for x_batch, labels in dataloader_test:  \n",
    "\n",
    "        x_batch = x_batch.to(device)\n",
    "        labels = labels.to(device)\n",
    "        \n",
    "        x_batch = x_batch.unsqueeze(1)  # Shape: (batch_size, 1, 5000)\n",
    "        \n",
    "        outputs = model(x_batch)  # Forward pass\n",
    "        loss = criterion(outputs, labels)  # Calculate loss\n",
    "        \n",
    "        total_loss += loss.item()  # Accumulate the loss\n",
    "        \n",
    "        # Get predictions\n",
    "        _, predicted = torch.max(outputs, 1)  # Get the index of the max log-probability\n",
    "        \n",
    "        all_labels.extend(labels.cpu().numpy())  # Store true labels\n",
    "        all_predictions.extend(predicted.cpu().numpy())  # Store predicted labels\n",
    "\n",
    "# Calculate average loss\n",
    "avg_loss = total_loss / len(dataloader)\n",
    "\n",
    "# Calculate precision, recall, and F1 score\n",
    "precision = precision_score(all_labels, all_predictions, average='weighted')  # Use 'micro' or 'macro' if needed\n",
    "recall = recall_score(all_labels, all_predictions, average='weighted')\n",
    "f1 = f1_score(all_labels, all_predictions, average='weighted')\n",
    "\n",
    "# Print results\n",
    "print(f\"Evaluation Loss: {avg_loss:.4f}\")\n",
    "print(f\"Precision: {precision:.4f}, Recall: {recall:.4f}, F1 Score: {f1:.4f}\")"
   ]
  },
  {
   "cell_type": "markdown",
   "id": "84e78ce3-ac88-4d7c-a7ea-9eca2531e1e2",
   "metadata": {},
   "source": [
    "## Test Model\n"
   ]
  },
  {
   "cell_type": "code",
   "execution_count": null,
   "id": "9239ea5d-5256-4eff-8205-9acb03e7e404",
   "metadata": {},
   "outputs": [],
   "source": []
  },
  {
   "cell_type": "code",
   "execution_count": null,
   "id": "153a7996-c5f8-4978-8714-5b701283d79d",
   "metadata": {},
   "outputs": [],
   "source": []
  },
  {
   "cell_type": "code",
   "execution_count": null,
   "id": "f8cdaed0-2f5f-4e8d-822b-4b30df85b706",
   "metadata": {},
   "outputs": [],
   "source": []
  },
  {
   "cell_type": "code",
   "execution_count": null,
   "id": "5f7b07a7-2973-4389-b326-882c7c0f1989",
   "metadata": {},
   "outputs": [],
   "source": []
  }
 ],
 "metadata": {
  "kernelspec": {
   "display_name": "Python 3 (ipykernel)",
   "language": "python",
   "name": "python3"
  },
  "language_info": {
   "codemirror_mode": {
    "name": "ipython",
    "version": 3
   },
   "file_extension": ".py",
   "mimetype": "text/x-python",
   "name": "python",
   "nbconvert_exporter": "python",
   "pygments_lexer": "ipython3",
   "version": "3.12.4"
  }
 },
 "nbformat": 4,
 "nbformat_minor": 5
}
