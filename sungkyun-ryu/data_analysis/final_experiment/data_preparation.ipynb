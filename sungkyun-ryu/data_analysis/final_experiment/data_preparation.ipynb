{
 "cells": [
  {
   "cell_type": "markdown",
   "id": "4ddcf441-ae45-4e36-a3ff-bc484478a44e",
   "metadata": {},
   "source": [
    "## Data Pre-Processing for Sigdata"
   ]
  },
  {
   "cell_type": "code",
   "execution_count": 1,
   "id": "39537e03-7b43-4d1b-8992-6e6bf166543d",
   "metadata": {},
   "outputs": [],
   "source": [
    "import pdm_functions as fns\n",
    "import torch \n",
    "import pandas as pd \n",
    "import numpy as np \n",
    "import matplotlib.pyplot as plt\n",
    "import pdm_functions as fns\n",
    "import process_fns as pfns\n",
    "\n",
    "from sklearn.model_selection import train_test_split\n",
    "from sklearn.preprocessing import MinMaxScaler\n",
    "from torch.utils.data import DataLoader, TensorDataset,  Subset\n",
    "\n",
    "\n"
   ]
  },
  {
   "cell_type": "code",
   "execution_count": 2,
   "id": "c4c005a8-b04f-4b65-8edb-68ef6bd4be31",
   "metadata": {},
   "outputs": [],
   "source": [
    "f_normal = pd.read_csv('../dataset/5528_drop_imbalance_normal.csv')\n",
    "f_error = pd.read_csv('../dataset/5528_drop_imbalance_error.csv')"
   ]
  },
  {
   "cell_type": "code",
   "execution_count": 3,
   "id": "1a516a8b-82fb-4d77-9e4b-80c5684617d5",
   "metadata": {},
   "outputs": [],
   "source": [
    "f_normal['created_at'] = pd.to_datetime(f_normal['created_at'], unit='s')\n",
    "f_normal = f_normal.sort_values(by='created_at')\n",
    " \n",
    "f_error['created_at'] = pd.to_datetime(f_error['created_at'], unit='s')\n",
    "f_error = f_error.sort_values(by='created_at')\n",
    "\n",
    "f_normal = f_normal.drop(columns=['asset_id', 'created_at', 'created_at_datetime', 'looseness_health', 'time','misalignment_health', 'bearing_health', 'imbalance_health'])\n",
    "f_error = f_error.drop(columns=['asset_id', 'created_at', 'created_at_datetime', 'looseness_health', 'time','misalignment_health', 'bearing_health', 'imbalance_health'])"
   ]
  },
  {
   "cell_type": "code",
   "execution_count": 4,
   "id": "5e3ffe5b-28a2-431b-997f-3f3f51c293f7",
   "metadata": {},
   "outputs": [
    {
     "data": {
      "text/plain": [
       "(torch.Size([2220, 38]), torch.Size([192, 38]))"
      ]
     },
     "execution_count": 4,
     "metadata": {},
     "output_type": "execute_result"
    }
   ],
   "source": [
    "f_normal_tensor = torch.tensor(f_normal.values, dtype=torch.float32)\n",
    "f_error_tensor = torch.tensor(f_error.values, dtype=torch.float32)\n",
    "\n",
    "f_normal_tensor.shape, f_error_tensor.shape"
   ]
  },
  {
   "cell_type": "code",
   "execution_count": 5,
   "id": "8a9fd58d-9c95-453b-b664-8b91124b26ee",
   "metadata": {},
   "outputs": [],
   "source": [
    "f_normal_label = torch.ones((2220))\n",
    "f_error_label = torch.zeros((192))"
   ]
  },
  {
   "cell_type": "code",
   "execution_count": 6,
   "id": "89d8c249-f1ac-45b1-b64d-fc8d3dceaab3",
   "metadata": {},
   "outputs": [
    {
     "data": {
      "text/plain": [
       "(torch.Size([2220]), torch.Size([192]))"
      ]
     },
     "execution_count": 6,
     "metadata": {},
     "output_type": "execute_result"
    }
   ],
   "source": [
    "f_normal_label.shape, f_error_label.shape"
   ]
  },
  {
   "cell_type": "code",
   "execution_count": 7,
   "id": "af5c49df-de34-4d92-a672-f4c679704416",
   "metadata": {},
   "outputs": [
    {
     "data": {
      "text/plain": [
       "(torch.Size([2412, 38]), torch.Size([2412]))"
      ]
     },
     "execution_count": 7,
     "metadata": {},
     "output_type": "execute_result"
    }
   ],
   "source": [
    "sig_dataset = torch.concat((f_normal_tensor, f_error_tensor), dim = 0)\n",
    "sig_labelset = torch.concat((f_normal_label, f_error_label), dim= 0 )\n",
    "sig_dataset.shape, sig_labelset.shape"
   ]
  },
  {
   "cell_type": "code",
   "execution_count": 8,
   "id": "f2c505c0-9f7a-49c8-a16c-b78f168cb235",
   "metadata": {},
   "outputs": [],
   "source": [
    "sig_dataset = sig_dataset.reshape((-1,1,12,38))\n",
    "sig_labelset = sig_labelset.reshape((-1,12))[:, 0]"
   ]
  },
  {
   "cell_type": "code",
   "execution_count": 9,
   "id": "dbed0e7b-58d0-46fd-96fc-35e5efdde5e9",
   "metadata": {},
   "outputs": [
    {
     "data": {
      "text/plain": [
       "(torch.Size([201, 1, 12, 38]), torch.Size([201]))"
      ]
     },
     "execution_count": 9,
     "metadata": {},
     "output_type": "execute_result"
    }
   ],
   "source": [
    "sig_dataset.shape, sig_labelset.shape"
   ]
  },
  {
   "cell_type": "code",
   "execution_count": 10,
   "id": "4819901a-bd1e-40c6-9580-3fb4817bd886",
   "metadata": {},
   "outputs": [
    {
     "data": {
      "text/plain": [
       "(torch.Size([185]), torch.Size([16]))"
      ]
     },
     "execution_count": 10,
     "metadata": {},
     "output_type": "execute_result"
    }
   ],
   "source": [
    "sig_labelset[sig_labelset==1].shape, sig_labelset[sig_labelset!=1].shape"
   ]
  },
  {
   "cell_type": "code",
   "execution_count": 11,
   "id": "b40f9cac-4a25-41f7-b022-6b7bf38c9bea",
   "metadata": {},
   "outputs": [
    {
     "name": "stdout",
     "output_type": "stream",
     "text": [
      "torch.Size([160, 1, 12, 38]) torch.Size([160])\n"
     ]
    }
   ],
   "source": [
    "train_dataset, temp_dataset, train_labels, temp_labels = train_test_split(sig_dataset, sig_labelset, train_size=0.8, stratify=sig_labelset, random_state=1)\n",
    "\n",
    "dev_dataset, test_dataset, dev_labels, test_labels = train_test_split(temp_dataset, temp_labels, train_size=.5, stratify=temp_labels, random_state=1)\n",
    "\n",
    "print(train_dataset.shape, train_labels.shape)\n",
    "abnormal_indices = [i for i, label in enumerate(train_labels) if label != 1] \n",
    "normal_indices = [i for i, label in enumerate(train_labels) if label == 1]\n",
    "abnormal_data = Subset(train_dataset, abnormal_indices)\n",
    "normal_data = Subset(train_dataset, normal_indices)\n",
    "\n"
   ]
  },
  {
   "cell_type": "code",
   "execution_count": 12,
   "id": "705e2d8c-56c6-4623-b9f8-52cb9b39022d",
   "metadata": {},
   "outputs": [
    {
     "name": "stdout",
     "output_type": "stream",
     "text": [
      "torch.Size([277, 1, 12, 38])\n"
     ]
    }
   ],
   "source": [
    "data, label =  fns.multi_datasets_stacks_abnormal(train_dataset, multi_dim = 10, num_groups=12, ab_indices = abnormal_indices, no_indices = normal_indices)"
   ]
  },
  {
   "cell_type": "code",
   "execution_count": 13,
   "id": "a0c1dca7-19db-4d8a-a805-c0bc7bffb9bd",
   "metadata": {},
   "outputs": [
    {
     "data": {
      "text/plain": [
       "(torch.Size([277, 1, 12, 38]), torch.Size([277]))"
      ]
     },
     "execution_count": 13,
     "metadata": {},
     "output_type": "execute_result"
    }
   ],
   "source": [
    "data.shape, label.shape"
   ]
  },
  {
   "cell_type": "code",
   "execution_count": 14,
   "id": "668735e5-f33a-4cfc-89cc-e8cceb30d574",
   "metadata": {},
   "outputs": [
    {
     "data": {
      "text/plain": [
       "(torch.Size([130]), torch.Size([147]))"
      ]
     },
     "execution_count": 14,
     "metadata": {},
     "output_type": "execute_result"
    }
   ],
   "source": [
    "label[label!=1].shape, label[label==1].shape"
   ]
  },
  {
   "cell_type": "code",
   "execution_count": 15,
   "id": "2fb98fe2-6aa3-4c0a-96bb-43dce7cec426",
   "metadata": {},
   "outputs": [
    {
     "name": "stderr",
     "output_type": "stream",
     "text": [
      "100%|█████████████████████████████████████████████████████████████████████████████████| 10/10 [00:00<00:00, 434.79it/s]\n"
     ]
    }
   ],
   "source": [
    "train_data_aug, train_label_aug = fns.multi_datasets_stacks(data, label, multi_dim=10, num_groups=12)"
   ]
  },
  {
   "cell_type": "code",
   "execution_count": 16,
   "id": "b9ee0338-4f9b-455b-b356-06a1a8752a12",
   "metadata": {},
   "outputs": [
    {
     "data": {
      "text/plain": [
       "(torch.Size([2770, 1, 12, 38]), torch.Size([2770]))"
      ]
     },
     "execution_count": 16,
     "metadata": {},
     "output_type": "execute_result"
    }
   ],
   "source": [
    "train_data_aug.shape, train_label_aug.shape"
   ]
  },
  {
   "cell_type": "code",
   "execution_count": 17,
   "id": "d5427d89-6949-4faa-bfa3-785d79e1c5aa",
   "metadata": {},
   "outputs": [
    {
     "data": {
      "text/plain": [
       "(torch.Size([1300]), torch.Size([1470]))"
      ]
     },
     "execution_count": 17,
     "metadata": {},
     "output_type": "execute_result"
    }
   ],
   "source": [
    "train_label_aug[train_label_aug!=1].shape, train_label_aug[train_label_aug==1].shape"
   ]
  },
  {
   "cell_type": "code",
   "execution_count": 18,
   "id": "2d481972-01c3-4c09-aca7-a0e013206cfa",
   "metadata": {},
   "outputs": [
    {
     "data": {
      "text/plain": [
       "(torch.Size([1]), torch.Size([19]))"
      ]
     },
     "execution_count": 18,
     "metadata": {},
     "output_type": "execute_result"
    }
   ],
   "source": [
    "dev_labels[dev_labels!=1].shape, dev_labels[dev_labels==1].shape"
   ]
  },
  {
   "cell_type": "code",
   "execution_count": 19,
   "id": "f2ef2ff4-bee6-4b30-9bf0-4fe398b155a7",
   "metadata": {},
   "outputs": [
    {
     "name": "stderr",
     "output_type": "stream",
     "text": [
      "100%|█████████████████████████████████████████████████████████████████████████████████| 10/10 [00:00<00:00, 556.47it/s]\n"
     ]
    }
   ],
   "source": [
    "dev_data_aug, dev_label_aug = fns.multi_datasets_stacks(dev_dataset, dev_labels, multi_dim=10, num_groups=12)"
   ]
  },
  {
   "cell_type": "code",
   "execution_count": 20,
   "id": "4c431ad4-5d92-400a-9720-43432db84f58",
   "metadata": {},
   "outputs": [],
   "source": [
    "torch.save({'X_train':train_data_aug, 'y_train': train_label_aug, 'X_dev' : dev_data_aug, 'y_dev':dev_label_aug, 'X_test':test_dataset, 'y_test':test_labels}, 'datasets/sig_datasets.pt')"
   ]
  },
  {
   "cell_type": "code",
   "execution_count": null,
   "id": "f4877b72-2db4-47bd-8e35-f91fddad478d",
   "metadata": {},
   "outputs": [],
   "source": []
  },
  {
   "cell_type": "markdown",
   "id": "d2afb31c-993b-4a50-9601-14ffdfc5c07c",
   "metadata": {},
   "source": [
    "## =================================================================================="
   ]
  },
  {
   "cell_type": "markdown",
   "id": "639f32cf-9f42-443c-9251-f2c5358a8165",
   "metadata": {},
   "source": [
    "## Data Pre-Processing for Spectrum Data"
   ]
  },
  {
   "cell_type": "code",
   "execution_count": 2,
   "id": "7ef4121f-99fc-4fcd-9293-39e914722137",
   "metadata": {},
   "outputs": [],
   "source": [
    "data = pfns.to_stack('../dataset/5528_droped_data.csv', 'cls') "
   ]
  },
  {
   "cell_type": "code",
   "execution_count": 3,
   "id": "0927d001-3d1d-411f-8300-d55ef09243c0",
   "metadata": {},
   "outputs": [],
   "source": [
    "X_train, y_train = data[0][0], data[0][1]\n",
    "X_test, y_test = data[1][0], data[1][1]\n",
    "X_dev, y_dev = data[2][0], data[2][1]"
   ]
  },
  {
   "cell_type": "code",
   "execution_count": 4,
   "id": "22d12879-4297-4122-ba41-5f286f3efb56",
   "metadata": {},
   "outputs": [
    {
     "data": {
      "text/plain": [
       "(torch.Size([1452, 3, 2048]),\n",
       " torch.Size([1452]),\n",
       " torch.Size([444, 3, 2048]),\n",
       " torch.Size([444]),\n",
       " torch.Size([444, 3, 2048]),\n",
       " torch.Size([444]))"
      ]
     },
     "execution_count": 4,
     "metadata": {},
     "output_type": "execute_result"
    }
   ],
   "source": [
    "X_train.shape, y_train.shape, X_dev.shape, y_dev.shape, X_test.shape, y_test.shape"
   ]
  },
  {
   "cell_type": "code",
   "execution_count": 5,
   "id": "3a17c392-53e7-4d57-b72f-bf5fc1b54266",
   "metadata": {},
   "outputs": [],
   "source": [
    "spec_data = torch.concat((X_train, X_dev, X_test), dim=0)\n",
    "spec_label = torch.concat((y_train, y_dev, y_test), dim=0)"
   ]
  },
  {
   "cell_type": "code",
   "execution_count": 6,
   "id": "f9c2db71-d90c-4623-88e4-1569cfa15185",
   "metadata": {},
   "outputs": [
    {
     "data": {
      "text/plain": [
       "(torch.Size([2340, 3, 2048]), torch.Size([2340]))"
      ]
     },
     "execution_count": 6,
     "metadata": {},
     "output_type": "execute_result"
    }
   ],
   "source": [
    "spec_data.shape, spec_label.shape"
   ]
  },
  {
   "cell_type": "code",
   "execution_count": 7,
   "id": "95dc2963-9d08-4029-b2fa-e3f58183a176",
   "metadata": {},
   "outputs": [
    {
     "data": {
      "text/plain": [
       "torch.Size([195, 1, 36, 2048])"
      ]
     },
     "execution_count": 7,
     "metadata": {},
     "output_type": "execute_result"
    }
   ],
   "source": [
    "spec_data = spec_data.reshape((-1, 1, 36, 2048))\n",
    "spec_data.shape"
   ]
  },
  {
   "cell_type": "code",
   "execution_count": 8,
   "id": "dcbc8cf3-7268-456c-bec8-3242e292302a",
   "metadata": {},
   "outputs": [
    {
     "data": {
      "text/plain": [
       "torch.Size([195])"
      ]
     },
     "execution_count": 8,
     "metadata": {},
     "output_type": "execute_result"
    }
   ],
   "source": [
    "spec_label = spec_label.reshape(-1, 12)[:,0]\n",
    "spec_label.shape"
   ]
  },
  {
   "cell_type": "code",
   "execution_count": 9,
   "id": "a824a9e6-3db7-4041-a4a8-5c28a84c0d6c",
   "metadata": {},
   "outputs": [
    {
     "data": {
      "text/plain": [
       "(torch.Size([179]), torch.Size([16]))"
      ]
     },
     "execution_count": 9,
     "metadata": {},
     "output_type": "execute_result"
    }
   ],
   "source": [
    "spec_label[spec_label == 1].shape, spec_label[spec_label != 1].shape"
   ]
  },
  {
   "cell_type": "code",
   "execution_count": 10,
   "id": "92fdd312-6af8-4a77-b63a-362892874bca",
   "metadata": {},
   "outputs": [
    {
     "name": "stdout",
     "output_type": "stream",
     "text": [
      "torch.Size([156, 1, 36, 2048]) torch.Size([156])\n"
     ]
    }
   ],
   "source": [
    "train_dataset, temp_dataset, train_labels, temp_labels = train_test_split(spec_data, spec_label, train_size=0.8, stratify=spec_label, random_state=77)\n",
    "\n",
    "dev_dataset, test_dataset, dev_labels, test_labels = train_test_split(temp_dataset, temp_labels, train_size=.5, stratify=temp_labels, random_state=77)\n",
    "\n",
    "print(train_dataset.shape, train_labels.shape)\n",
    "abnormal_indices = [i for i, label in enumerate(train_labels) if label != 1] \n",
    "normal_indices = [i for i, label in enumerate(train_labels) if label == 1]\n",
    "abnormal_data = Subset(train_dataset, abnormal_indices)\n",
    "normal_data = Subset(train_dataset, normal_indices)\n"
   ]
  },
  {
   "cell_type": "code",
   "execution_count": 11,
   "id": "f0c7b076-401b-4101-96e3-449e71f660c3",
   "metadata": {},
   "outputs": [
    {
     "data": {
      "text/plain": [
       "(torch.Size([143]), torch.Size([13]))"
      ]
     },
     "execution_count": 11,
     "metadata": {},
     "output_type": "execute_result"
    }
   ],
   "source": [
    "train_labels[train_labels == 1].shape, train_labels[train_labels != 1].shape"
   ]
  },
  {
   "cell_type": "code",
   "execution_count": 12,
   "id": "153ef7e1-1281-4915-b162-6198e2cced70",
   "metadata": {},
   "outputs": [
    {
     "data": {
      "text/plain": [
       "(torch.Size([18]), torch.Size([2]))"
      ]
     },
     "execution_count": 12,
     "metadata": {},
     "output_type": "execute_result"
    }
   ],
   "source": [
    "test_labels[test_labels == 1].shape, test_labels[test_labels != 1].shape"
   ]
  },
  {
   "cell_type": "code",
   "execution_count": 13,
   "id": "9de90ee4-a5e7-4942-9f95-fc48b8864ef6",
   "metadata": {},
   "outputs": [
    {
     "name": "stdout",
     "output_type": "stream",
     "text": [
      "torch.Size([260, 1, 36, 2048])\n"
     ]
    }
   ],
   "source": [
    "data, label =  fns.multi_datasets_stacks_abnormal(train_dataset, multi_dim = 9, num_groups=12, ab_indices = abnormal_indices, no_indices = normal_indices)"
   ]
  },
  {
   "cell_type": "code",
   "execution_count": 14,
   "id": "432ae9d4-60b7-41f4-8ace-54ba486a3673",
   "metadata": {},
   "outputs": [],
   "source": [
    "X_dev = X_dev.reshape(-1,1,36,2048)\n",
    "X_test = X_test.reshape(-1,1,36,2048)"
   ]
  },
  {
   "cell_type": "code",
   "execution_count": 15,
   "id": "3d1f83ea-d36e-4e68-976d-ec4dd872646f",
   "metadata": {},
   "outputs": [],
   "source": [
    "y_dev = y_dev.reshape(-1, 12)[:,0]\n",
    "y_test = y_test.reshape(-1, 12)[:,0]"
   ]
  },
  {
   "cell_type": "code",
   "execution_count": 16,
   "id": "2cdb99c4-4dce-41c9-9639-e5d133feacba",
   "metadata": {},
   "outputs": [
    {
     "data": {
      "text/plain": [
       "(torch.Size([260, 1, 36, 2048]),\n",
       " torch.Size([260]),\n",
       " torch.Size([37, 1, 36, 2048]),\n",
       " torch.Size([37]),\n",
       " torch.Size([37, 1, 36, 2048]),\n",
       " torch.Size([37]))"
      ]
     },
     "execution_count": 16,
     "metadata": {},
     "output_type": "execute_result"
    }
   ],
   "source": [
    "data.shape, label.shape, X_dev.shape, y_dev.shape, X_test.shape, y_test.shape"
   ]
  },
  {
   "cell_type": "code",
   "execution_count": 17,
   "id": "f5aded33-9046-40ad-9d4b-24af9a45fbac",
   "metadata": {},
   "outputs": [
    {
     "data": {
      "text/plain": [
       "(torch.Size([143]), torch.Size([117]))"
      ]
     },
     "execution_count": 17,
     "metadata": {},
     "output_type": "execute_result"
    }
   ],
   "source": [
    "label[label==1].shape, label[label!=1].shape"
   ]
  },
  {
   "cell_type": "code",
   "execution_count": 18,
   "id": "7c812eff-4eda-427a-82ab-0d6af691afc6",
   "metadata": {},
   "outputs": [
    {
     "data": {
      "text/plain": [
       "(torch.Size([34]), torch.Size([3]))"
      ]
     },
     "execution_count": 18,
     "metadata": {},
     "output_type": "execute_result"
    }
   ],
   "source": [
    "y_dev[y_dev==1].shape, y_dev[y_dev!=1].shape"
   ]
  },
  {
   "cell_type": "code",
   "execution_count": 19,
   "id": "3adc3e21-009d-4ec8-940a-ab4b594d670b",
   "metadata": {},
   "outputs": [
    {
     "name": "stderr",
     "output_type": "stream",
     "text": [
      "100%|██████████████████████████████████████████████████████████████████████████████████| 10/10 [00:00<00:00, 57.87it/s]\n"
     ]
    }
   ],
   "source": [
    "train_data_aug, train_label_aug = fns.multi_datasets_stacks(data, label, multi_dim=10, num_groups=12)"
   ]
  },
  {
   "cell_type": "code",
   "execution_count": 20,
   "id": "a56dee06-f4e6-4ff6-8e3b-2456f94a0aa1",
   "metadata": {},
   "outputs": [
    {
     "name": "stderr",
     "output_type": "stream",
     "text": [
      "100%|█████████████████████████████████████████████████████████████████████████████████| 10/10 [00:00<00:00, 243.10it/s]\n"
     ]
    }
   ],
   "source": [
    "dev_data_aug, dev_label_aub = fns.multi_datasets_stacks(X_dev, y_dev, multi_dim=10, num_groups=12)"
   ]
  },
  {
   "cell_type": "code",
   "execution_count": 21,
   "id": "424d4b31-edd9-4300-8a9f-e7961e8bb33a",
   "metadata": {},
   "outputs": [
    {
     "data": {
      "text/plain": [
       "(torch.Size([2600, 1, 36, 2048]), torch.Size([2600]))"
      ]
     },
     "execution_count": 21,
     "metadata": {},
     "output_type": "execute_result"
    }
   ],
   "source": [
    "train_data_aug.shape, train_label_aug.shape"
   ]
  },
  {
   "cell_type": "code",
   "execution_count": 22,
   "id": "4c587a42-86e3-4f0f-9f03-611036e0bb93",
   "metadata": {},
   "outputs": [
    {
     "data": {
      "text/plain": [
       "(torch.Size([370, 1, 36, 2048]), torch.Size([370]))"
      ]
     },
     "execution_count": 22,
     "metadata": {},
     "output_type": "execute_result"
    }
   ],
   "source": [
    "dev_label_aug = dev_label_aub\n",
    "dev_data_aug.shape, dev_label_aub.shape"
   ]
  },
  {
   "cell_type": "code",
   "execution_count": 23,
   "id": "cbaaff7f-18fe-417c-b3ed-52057884c33c",
   "metadata": {},
   "outputs": [
    {
     "data": {
      "text/plain": [
       "(torch.Size([340]), torch.Size([30]))"
      ]
     },
     "execution_count": 23,
     "metadata": {},
     "output_type": "execute_result"
    }
   ],
   "source": [
    "dev_label_aug[dev_label_aug == 1].shape, dev_label_aug[dev_label_aug!=1].shape"
   ]
  },
  {
   "cell_type": "code",
   "execution_count": 24,
   "id": "7e0040d0-50fd-40d2-a6ad-dfc69a9994db",
   "metadata": {},
   "outputs": [
    {
     "ename": "NameError",
     "evalue": "name 'SAVEEEEEEEEEEEEEEEEEEEEEEEEEEEEEEEEEE' is not defined",
     "output_type": "error",
     "traceback": [
      "\u001b[1;31m---------------------------------------------------------------------------\u001b[0m",
      "\u001b[1;31mNameError\u001b[0m                                 Traceback (most recent call last)",
      "Cell \u001b[1;32mIn[24], line 1\u001b[0m\n\u001b[1;32m----> 1\u001b[0m \u001b[43mSAVEEEEEEEEEEEEEEEEEEEEEEEEEEEEEEEEEE\u001b[49m\n",
      "\u001b[1;31mNameError\u001b[0m: name 'SAVEEEEEEEEEEEEEEEEEEEEEEEEEEEEEEEEEE' is not defined"
     ]
    }
   ],
   "source": [
    "SAVEEEEEEEEEEEEEEEEEEEEEEEEEEEEEEEEEE"
   ]
  },
  {
   "cell_type": "code",
   "execution_count": 27,
   "id": "8bce78b0-e1e6-4389-8a5d-1b58f0824781",
   "metadata": {},
   "outputs": [
    {
     "data": {
      "text/plain": [
       "(torch.Size([2600, 1, 36, 2048]),\n",
       " torch.Size([2600]),\n",
       " torch.Size([370, 1, 36, 2048]),\n",
       " torch.Size([370]),\n",
       " torch.Size([20, 1, 36, 2048]),\n",
       " torch.Size([20, 1, 36, 2048]))"
      ]
     },
     "execution_count": 27,
     "metadata": {},
     "output_type": "execute_result"
    }
   ],
   "source": [
    "train_data_aug.shape, train_label_aug.shape, dev_data_aug.shape, dev_label_aug.shape, test_dataset.shape, test_dataset.shape"
   ]
  },
  {
   "cell_type": "code",
   "execution_count": 25,
   "id": "60e8151b-2c36-4191-b48d-c9de2b8f783a",
   "metadata": {},
   "outputs": [],
   "source": [
    "torch.save({'X_train':train_data_aug, 'y_train': train_label_aug, 'X_dev' : dev_data_aug, 'y_dev':dev_label_aug, 'X_test':test_dataset, 'y_test':test_labels}, 'datasets/spec_datasets_4.pt')"
   ]
  },
  {
   "cell_type": "code",
   "execution_count": null,
   "id": "5f7dc080-d1e8-4b44-ba84-0cd6a6a9479f",
   "metadata": {},
   "outputs": [],
   "source": []
  },
  {
   "cell_type": "code",
   "execution_count": null,
   "id": "83f87b08-5ab0-4654-a243-6c977697d425",
   "metadata": {},
   "outputs": [],
   "source": []
  }
 ],
 "metadata": {
  "kernelspec": {
   "display_name": "Python 3 (ipykernel)",
   "language": "python",
   "name": "python3"
  },
  "language_info": {
   "codemirror_mode": {
    "name": "ipython",
    "version": 3
   },
   "file_extension": ".py",
   "mimetype": "text/x-python",
   "name": "python",
   "nbconvert_exporter": "python",
   "pygments_lexer": "ipython3",
   "version": "3.12.4"
  }
 },
 "nbformat": 4,
 "nbformat_minor": 5
}
