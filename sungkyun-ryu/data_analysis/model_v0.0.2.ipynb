{
 "cells": [
  {
   "cell_type": "markdown",
   "id": "aaba1d94-9caf-406a-85ac-b291bc92c1bd",
   "metadata": {},
   "source": [
    "## Import Libraries"
   ]
  },
  {
   "cell_type": "code",
   "execution_count": 1,
   "id": "6b298e3e-98ce-4a31-a823-7f2d5f82f6ab",
   "metadata": {},
   "outputs": [],
   "source": [
    "import pandas as pd\n",
    "import numpy as np \n",
    "import matplotlib.pyplot as plt\n",
    "import seaborn as sns\n",
    "import torch\n",
    "import torch.nn as nn\n",
    "import os\n",
    "from itertools import chain\n",
    "\n",
    "import torch.optim as optim\n",
    "from torch.utils.data import DataLoader, TensorDataset\n",
    "# import transform_fns as trans\n",
    "import pdm_functions as fns\n",
    "from sklearn.metrics import precision_score, recall_score, f1_score, confusion_matrix\n",
    "from scipy.stats import gaussian_kde\n",
    "\n",
    "import pickle\n",
    "\n"
   ]
  },
  {
   "cell_type": "markdown",
   "id": "7f461993-e306-45c0-820a-a52b63a217cb",
   "metadata": {},
   "source": [
    "## Weight계산 "
   ]
  },
  {
   "cell_type": "code",
   "execution_count": 2,
   "id": "74507d43-468d-4cdf-9e22-840a988162d5",
   "metadata": {},
   "outputs": [],
   "source": [
    "df_normal= pd.read_csv('dataset/5528_spec_normal.csv')\n",
    "df_error= pd.read_csv('dataset/5528_spec_error.csv')"
   ]
  },
  {
   "cell_type": "code",
   "execution_count": 3,
   "id": "9c529064-a2a2-4134-9e3e-a4cc44f4a3bf",
   "metadata": {},
   "outputs": [],
   "source": [
    "df_normal['spectrum_x_amp']= df_normal['spectrum_x_amp'].apply(lambda x: [float(num) for num in x.split(',')][1:])"
   ]
  },
  {
   "cell_type": "code",
   "execution_count": 4,
   "id": "73057185-77f9-4579-a1ae-3bb77c8bd71f",
   "metadata": {},
   "outputs": [],
   "source": [
    "wf = fns.rpm_approx_weighted_fn(df_normal['spectrum_x_amp'], 1, 2048, 2048)"
   ]
  },
  {
   "cell_type": "markdown",
   "id": "13c6b5d5-6e2a-416a-80e9-ba2e8b25489d",
   "metadata": {},
   "source": [
    "### <span style='color:red'> 가중치 standardization </span>"
   ]
  },
  {
   "cell_type": "code",
   "execution_count": 5,
   "id": "2a65801f-3a9b-4c04-a1e4-6c3a00633379",
   "metadata": {},
   "outputs": [],
   "source": [
    "wf = fns.min_max_standardization(wf)"
   ]
  },
  {
   "cell_type": "code",
   "execution_count": 6,
   "id": "994187cd-bcbb-4f7b-ad63-6ed8af20481b",
   "metadata": {},
   "outputs": [],
   "source": [
    "wf = wf * 36\n",
    "wf = torch.tensor(wf)"
   ]
  },
  {
   "cell_type": "markdown",
   "id": "d29c3f11-2b2e-46b3-b5fd-2b2c241415ba",
   "metadata": {},
   "source": [
    "## 데이터셋 (tensors)"
   ]
  },
  {
   "cell_type": "code",
   "execution_count": 7,
   "id": "725047c5-10d8-4d4e-a635-e964d5febbdf",
   "metadata": {},
   "outputs": [],
   "source": [
    "df_normal = fns.csv_to_tensor_stack('dataset/5528_spec_normal.csv')\n",
    "df_error = fns.csv_to_tensor_stack('dataset/5528_spec_error.csv')"
   ]
  },
  {
   "cell_type": "markdown",
   "id": "c9d6b081-fb5c-45e7-b60a-987156441db7",
   "metadata": {},
   "source": [
    "## 데이터셋에 가중치 곱하기"
   ]
  },
  {
   "cell_type": "code",
   "execution_count": 8,
   "id": "8f54da7f-20d8-4988-afe5-a8863f81bd3e",
   "metadata": {},
   "outputs": [],
   "source": [
    "df_normal.shape\n",
    "wf.shape\n",
    "df_normal = df_normal * wf\n",
    "df_error = df_error * wf"
   ]
  },
  {
   "cell_type": "markdown",
   "id": "5c74464b-456d-402a-b470-17b121a142fb",
   "metadata": {},
   "source": [
    "## 데이터셋 숫자 늘리기\n",
    "### <span style='color:red'> 몇 배로 데이터를 늘릴 것인가 multi_dim </span>"
   ]
  },
  {
   "cell_type": "code",
   "execution_count": 9,
   "id": "5dd15742-f370-42e7-87f8-d9ba3fdde445",
   "metadata": {},
   "outputs": [],
   "source": [
    "X_train, X_test, y_train, y_test= fns.binary_labeling(df_normal, df_error, test_size=.2, random_state=42 )"
   ]
  },
  {
   "cell_type": "code",
   "execution_count": 10,
   "id": "0fd65555-f8d8-4217-a470-f45c002a9c2a",
   "metadata": {},
   "outputs": [
    {
     "data": {
      "text/plain": [
       "torch.Size([156, 73728])"
      ]
     },
     "execution_count": 10,
     "metadata": {},
     "output_type": "execute_result"
    }
   ],
   "source": [
    "X_train.shape"
   ]
  },
  {
   "cell_type": "code",
   "execution_count": 11,
   "id": "ae696771-e42b-4792-bc1c-06326f1de60e",
   "metadata": {},
   "outputs": [
    {
     "data": {
      "text/plain": [
       "torch.Size([39, 73728])"
      ]
     },
     "execution_count": 11,
     "metadata": {},
     "output_type": "execute_result"
    }
   ],
   "source": [
    "X_test.shape"
   ]
  },
  {
   "cell_type": "code",
   "execution_count": 12,
   "id": "111efb19-562a-4b2b-9a3e-642f46c1a0ba",
   "metadata": {},
   "outputs": [],
   "source": [
    "X_train_aug = fns.multi_datasets(X_train, multi_dim=200, num_groups=12)\n",
    "y_train = y_train.repeat(200)"
   ]
  },
  {
   "cell_type": "code",
   "execution_count": 13,
   "id": "14503f90-3d67-4be2-a2db-042a58d17f2d",
   "metadata": {},
   "outputs": [
    {
     "name": "stdout",
     "output_type": "stream",
     "text": [
      "torch.Size([31200, 73728]) torch.Size([31200])\n"
     ]
    }
   ],
   "source": [
    "print(X_train_aug.shape, y_train.shape)"
   ]
  },
  {
   "cell_type": "code",
   "execution_count": 43,
   "id": "f5d88dfe-f3cc-4b24-ac9c-f6481d2b0ecb",
   "metadata": {},
   "outputs": [
    {
     "name": "stdout",
     "output_type": "stream",
     "text": [
      "2800\n",
      "28400\n"
     ]
    }
   ],
   "source": [
    "print(len(y_train[y_train == 0]))\n",
    "print(len(y_train[y_train == 1]))"
   ]
  },
  {
   "cell_type": "markdown",
   "id": "a25bdda0-1adb-4287-9238-74c7bc0c5d82",
   "metadata": {},
   "source": [
    "### Dev_set augmented"
   ]
  },
  {
   "cell_type": "code",
   "execution_count": 14,
   "id": "fe144b83-8c48-4730-a90b-bfc2f1f57f4d",
   "metadata": {},
   "outputs": [
    {
     "name": "stderr",
     "output_type": "stream",
     "text": [
      "C:\\Users\\user\\anaconda3\\envs\\kdtproj\\Lib\\site-packages\\torch\\storage.py:414: FutureWarning: You are using `torch.load` with `weights_only=False` (the current default value), which uses the default pickle module implicitly. It is possible to construct malicious pickle data which will execute arbitrary code during unpickling (See https://github.com/pytorch/pytorch/blob/main/SECURITY.md#untrusted-models for more details). In a future release, the default value for `weights_only` will be flipped to `True`. This limits the functions that could be executed during unpickling. Arbitrary objects will no longer be allowed to be loaded via this mode unless they are explicitly allowlisted by the user via `torch.serialization.add_safe_globals`. We recommend you start setting `weights_only=True` for any use case where you don't have full control of the loaded file. Please open an issue on GitHub for any issues related to this experimental feature.\n",
      "  return torch.load(io.BytesIO(b))\n"
     ]
    },
    {
     "name": "stdout",
     "output_type": "stream",
     "text": [
      "Loaded X_dev: tensor([[2.1043e-04, 2.9448e-04, 2.4472e-04,  ..., 6.1457e-04, 6.1808e-04,\n",
      "         5.6178e-04],\n",
      "        [1.9647e-04, 2.4157e-04, 1.7535e-04,  ..., 1.1232e-04, 1.7699e-04,\n",
      "         3.0490e-04],\n",
      "        [2.6128e-04, 2.2513e-04, 1.0218e-04,  ..., 9.2347e-04, 7.9336e-04,\n",
      "         4.3334e-04],\n",
      "        ...,\n",
      "        [4.0388e-04, 4.1982e-04, 2.7370e-04,  ..., 5.8726e-04, 7.4385e-04,\n",
      "         7.6368e-04],\n",
      "        [2.0376e-04, 3.0760e-04, 3.0270e-04,  ..., 9.7332e-04, 5.4711e-04,\n",
      "         3.4396e-05],\n",
      "        [7.4707e-05, 9.6044e-05, 2.9320e-04,  ..., 5.0607e-04, 6.4545e-04,\n",
      "         5.9695e-04]])\n",
      "Loaded y_dev: tensor([1.0000, 1.0000, 1.0000, 1.0000, 1.0000, 1.0000, 1.0000, 1.0000, 1.0000,\n",
      "        1.0000, 1.0000, 1.0000, 1.0000, 1.0000, 1.0000, 1.0000, 1.0000, 1.0000,\n",
      "        1.0000, 1.0000, 1.0000, 1.0000, 1.0000, 1.0000, 1.0000, 1.0000, 1.0000,\n",
      "        1.0000, 1.0000, 1.0000, 1.0000, 1.0000, 1.0000, 1.0000, 0.8991, 0.9672,\n",
      "        0.9818])\n"
     ]
    }
   ],
   "source": [
    "file_path='dataset/train_datasets/dev_sets.pkl'\n",
    "with open(file_path, 'rb') as f:\n",
    "    data = pickle.load(f)\n",
    "\n",
    "# Access the loaded data\n",
    "X_dev_pickle = data['X_dev']\n",
    "y_dev_pickle = data['y_dev']\n",
    "\n",
    "print(\"Loaded X_dev:\", X_dev_pickle)\n",
    "print(\"Loaded y_dev:\", y_dev_pickle)"
   ]
  },
  {
   "cell_type": "code",
   "execution_count": 15,
   "id": "7782f0ae-70f8-4668-8f63-7e53b7d23588",
   "metadata": {},
   "outputs": [],
   "source": [
    "dev_x = fns.multi_datasets(X_dev_pickle, multi_dim = 10, num_groups= 12)\n",
    "dev_y = y_dev_pickle.repeat(10)\n",
    "dev_x.shape, dev_y.shape"
   ]
  },
  {
   "cell_type": "code",
   "execution_count": 17,
   "id": "37bb7d56-ed8b-4596-835a-3e03fcf3a281",
   "metadata": {},
   "outputs": [],
   "source": [
    "# df_error_aug = fns.multi_datasets(df_error, multi_dim= 1100, num_groups=12)\n",
    "#"
   ]
  },
  {
   "cell_type": "markdown",
   "id": "fc5f1cdf-c7e5-4c4e-a54b-c231f364a7d9",
   "metadata": {},
   "source": [
    "## 데이터 상위 x개 추출\n",
    "### <span style='color:red'> get_sorted_top_k_values(data, k = 5000)</span>"
   ]
  },
  {
   "cell_type": "code",
   "execution_count": 18,
   "id": "3d110a37-80d5-461f-9d1d-390b05600453",
   "metadata": {},
   "outputs": [],
   "source": [
    "X_train = fns.get_sorted_top_k_values(X_train_aug, 5000)\n",
    "test_x = fns.get_sorted_top_k_values(X_test, 5000)\n",
    "X_dev_pickle = fns.get_sorted_top_k_values(dev_x, 5000)"
   ]
  },
  {
   "cell_type": "code",
   "execution_count": 19,
   "id": "f087d5c7-530a-4394-aec5-83683aaafdf9",
   "metadata": {},
   "outputs": [
    {
     "data": {
      "text/plain": [
       "(torch.Size([31200, 5000]),\n",
       " torch.Size([31200]),\n",
       " torch.Size([370, 5000]),\n",
       " torch.Size([37]))"
      ]
     },
     "execution_count": 19,
     "metadata": {},
     "output_type": "execute_result"
    }
   ],
   "source": [
    "X_train.shape, y_train.shape, X_dev_pickle.shape, y_dev_pickle.shape"
   ]
  },
  {
   "cell_type": "markdown",
   "id": "606a6b5a-a789-4bde-a54a-3e862bd9e669",
   "metadata": {},
   "source": [
    "### <span style=\"color:red\"> Input값이 너무 작을 경우 곱셈으로 늘려준다 (예: * 1000)  </span>"
   ]
  },
  {
   "cell_type": "code",
   "execution_count": 20,
   "id": "30fc7c06-742b-4c01-9791-a623178f0204",
   "metadata": {},
   "outputs": [],
   "source": [
    "train_x = X_train * 1000\n",
    "test_x = test_x * 1000\n",
    "dev_x = X_dev_pickle* 1000"
   ]
  },
  {
   "cell_type": "code",
   "execution_count": 21,
   "id": "dcb377ae-a7df-4889-a75b-cd0d307c80a1",
   "metadata": {},
   "outputs": [
    {
     "data": {
      "text/plain": [
       "<Axes: >"
      ]
     },
     "execution_count": 21,
     "metadata": {},
     "output_type": "execute_result"
    },
    {
     "data": {
      "image/png": "[encoded data removed]",
      "text/plain": [
       "<Figure size 640x480 with 1 Axes>"
      ]
     },
     "metadata": {},
     "output_type": "display_data"
    }
   ],
   "source": [
    "sns.lineplot(train_x[0])"
   ]
  },
  {
   "cell_type": "code",
   "execution_count": 22,
   "id": "ba766db6-a770-41db-a528-cc48334d4faa",
   "metadata": {},
   "outputs": [
    {
     "data": {
      "text/plain": [
       "<Axes: >"
      ]
     },
     "execution_count": 22,
     "metadata": {},
     "output_type": "execute_result"
    },
    {
     "data": {
      "image/png": "[encoded data removed]",
      "text/plain": [
       "<Figure size 640x480 with 1 Axes>"
      ]
     },
     "metadata": {},
     "output_type": "display_data"
    }
   ],
   "source": [
    "sns.lineplot(test_x[1])"
   ]
  },
  {
   "cell_type": "code",
   "execution_count": 23,
   "id": "9341f78c-55c3-4a8f-88c5-faca8dc1e7d4",
   "metadata": {},
   "outputs": [],
   "source": [
    "train_label = y_train\n",
    "test_label = y_test"
   ]
  },
  {
   "cell_type": "code",
   "execution_count": 24,
   "id": "a930483a-9037-4d68-9309-a8a8d936a1c5",
   "metadata": {},
   "outputs": [
    {
     "data": {
      "text/plain": [
       "(torch.Size([31200, 5000]), torch.Size([31200]))"
      ]
     },
     "execution_count": 24,
     "metadata": {},
     "output_type": "execute_result"
    }
   ],
   "source": [
    "train_x.shape, train_label.shape"
   ]
  },
  {
   "cell_type": "code",
   "execution_count": 25,
   "id": "a19a4325-d347-42aa-a4df-274062b89ff3",
   "metadata": {},
   "outputs": [
    {
     "data": {
      "text/plain": [
       "(torch.Size([39, 5000]), torch.Size([39]))"
      ]
     },
     "execution_count": 25,
     "metadata": {},
     "output_type": "execute_result"
    }
   ],
   "source": [
    "test_x.shape, test_label.shape"
   ]
  },
  {
   "cell_type": "code",
   "execution_count": 26,
   "id": "f7cdbf10-490a-4712-8498-4a78980e812f",
   "metadata": {},
   "outputs": [
    {
     "data": {
      "text/plain": [
       "(torch.Size([370, 5000]), torch.Size([370]))"
      ]
     },
     "execution_count": 26,
     "metadata": {},
     "output_type": "execute_result"
    }
   ],
   "source": [
    "dev_x.shape, dev_y.shape"
   ]
  },
  {
   "cell_type": "code",
   "execution_count": 27,
   "id": "1d8f0290-ce3e-41ce-8df1-75d7c91f04ba",
   "metadata": {},
   "outputs": [],
   "source": [
    "train_dataset = TensorDataset(train_x, train_label)"
   ]
  },
  {
   "cell_type": "code",
   "execution_count": 28,
   "id": "d25c6d81-94c6-4b07-b6f2-67066108a276",
   "metadata": {},
   "outputs": [],
   "source": [
    "test_dataset = TensorDataset(test_x, test_label)"
   ]
  },
  {
   "cell_type": "code",
   "execution_count": 29,
   "id": "019be2fb-70b9-49b1-b4ae-210b97d66b7a",
   "metadata": {},
   "outputs": [],
   "source": [
    "dev_dataset = TensorDataset(dev_x, dev_y)"
   ]
  },
  {
   "cell_type": "code",
   "execution_count": 30,
   "id": "6a086663-72b7-4d90-bab3-156cf3adf595",
   "metadata": {},
   "outputs": [],
   "source": [
    "dataloader = DataLoader(train_dataset, batch_size=128, shuffle=True)"
   ]
  },
  {
   "cell_type": "code",
   "execution_count": 31,
   "id": "3da1787a-4c22-4898-94e8-86ea4748f14a",
   "metadata": {},
   "outputs": [],
   "source": [
    "dataloader_test =DataLoader(test_dataset,  shuffle=True)"
   ]
  },
  {
   "cell_type": "code",
   "execution_count": 32,
   "id": "38dc6a85-0f15-41e5-9522-1c39f8c8fc70",
   "metadata": {},
   "outputs": [],
   "source": [
    "dataloader_dev = DataLoader(dev_dataset, batch_size=128, shuffle=True)"
   ]
  },
  {
   "cell_type": "markdown",
   "id": "2ba5a73f-bb9f-4fb0-95a2-8a2900f34962",
   "metadata": {},
   "source": [
    "## Model Structure"
   ]
  },
  {
   "cell_type": "code",
   "execution_count": 38,
   "id": "ff3050bb-339c-40bf-9171-659572ef9cb0",
   "metadata": {},
   "outputs": [],
   "source": [
    "learning_rate = 0.001\n",
    "num_epochs = 10\n",
    "\n",
    "model = nn.Sequential(    \n",
    "    nn.Conv1d(in_channels=1, out_channels=16, kernel_size=4, stride=4, padding=0),  \n",
    "    nn.ReLU(), \n",
    "    nn.MaxPool1d(kernel_size=2),  \n",
    "    nn.BatchNorm1d(16),\n",
    "    nn.Conv1d(in_channels=16, out_channels=32, kernel_size=3, stride=1, padding=0),  \n",
    "    nn.ReLU(),\n",
    "    nn.MaxPool1d(kernel_size=2),\n",
    "    nn.BatchNorm1d(32),\n",
    "    nn.Conv1d(in_channels=32, out_channels=16, kernel_size=3, stride=1, padding=0),\n",
    "    nn.ReLU(),\n",
    "    nn.MaxPool1d(kernel_size=2),\n",
    "    nn.BatchNorm1d(16),\n",
    "    nn.Flatten(),\n",
    "    nn.Linear(2464, 1240),  # Adjust according to the actual output size after the last Conv1d\n",
    "    nn.ReLU(), \n",
    "    nn.Dropout(0.4), \n",
    "    nn.Linear(1240, 620),\n",
    "    nn.ReLU(), \n",
    "    nn.Dropout(.4),\n",
    "    nn.Linear(620, 310), \n",
    "    nn.ReLU(), \n",
    "    nn.Linear(310, 128), \n",
    "    nn.ReLU(), \n",
    "    nn.Linear(128, 64), \n",
    "    nn.ReLU(),\n",
    "    nn.Linear(64, 2),\n",
    ")\n",
    "\n",
    "criterion = nn.CrossEntropyLoss() \n",
    "optimizer = optim.Adam(model.parameters(), lr=learning_rate)"
   ]
  },
  {
   "cell_type": "code",
   "execution_count": 39,
   "id": "7011d304-245d-4493-831d-4a1572bb9548",
   "metadata": {},
   "outputs": [
    {
     "name": "stdout",
     "output_type": "stream",
     "text": [
      "Sequential(\n",
      "  (0): Conv1d(1, 16, kernel_size=(4,), stride=(4,))\n",
      "  (1): ReLU()\n",
      "  (2): MaxPool1d(kernel_size=2, stride=2, padding=0, dilation=1, ceil_mode=False)\n",
      "  (3): BatchNorm1d(16, eps=1e-05, momentum=0.1, affine=True, track_running_stats=True)\n",
      "  (4): Conv1d(16, 32, kernel_size=(3,), stride=(1,))\n",
      "  (5): ReLU()\n",
      "  (6): MaxPool1d(kernel_size=2, stride=2, padding=0, dilation=1, ceil_mode=False)\n",
      "  (7): BatchNorm1d(32, eps=1e-05, momentum=0.1, affine=True, track_running_stats=True)\n",
      "  (8): Conv1d(32, 16, kernel_size=(3,), stride=(1,))\n",
      "  (9): ReLU()\n",
      "  (10): MaxPool1d(kernel_size=2, stride=2, padding=0, dilation=1, ceil_mode=False)\n",
      "  (11): BatchNorm1d(16, eps=1e-05, momentum=0.1, affine=True, track_running_stats=True)\n",
      "  (12): Flatten(start_dim=1, end_dim=-1)\n",
      "  (13): Linear(in_features=2464, out_features=1240, bias=True)\n",
      "  (14): ReLU()\n",
      "  (15): Dropout(p=0.4, inplace=False)\n",
      "  (16): Linear(in_features=1240, out_features=620, bias=True)\n",
      "  (17): ReLU()\n",
      "  (18): Dropout(p=0.4, inplace=False)\n",
      "  (19): Linear(in_features=620, out_features=310, bias=True)\n",
      "  (20): ReLU()\n",
      "  (21): Linear(in_features=310, out_features=128, bias=True)\n",
      "  (22): ReLU()\n",
      "  (23): Linear(in_features=128, out_features=64, bias=True)\n",
      "  (24): ReLU()\n",
      "  (25): Linear(in_features=64, out_features=2, bias=True)\n",
      ")\n"
     ]
    }
   ],
   "source": [
    "print(model)"
   ]
  },
  {
   "cell_type": "markdown",
   "id": "b98a82fb-2b38-4fb9-b0b9-ee80da434d38",
   "metadata": {},
   "source": [
    "### Model Training"
   ]
  },
  {
   "cell_type": "code",
   "execution_count": 40,
   "id": "e1f37db5-a10d-4be6-83d2-c455d8ab372b",
   "metadata": {},
   "outputs": [
    {
     "name": "stdout",
     "output_type": "stream",
     "text": [
      "cuda\n",
      "Epoch [1/10], Loss: 0.1833\n",
      "Epoch [2/10], Loss: 0.0734\n",
      "Epoch [3/10], Loss: 0.0441\n",
      "Epoch [4/10], Loss: 0.0393\n",
      "Epoch [5/10], Loss: 0.0328\n",
      "Epoch [6/10], Loss: 0.0296\n",
      "Epoch [7/10], Loss: 0.0279\n",
      "Epoch [8/10], Loss: 0.0274\n",
      "Epoch [9/10], Loss: 0.0189\n",
      "Epoch [10/10], Loss: 0.0203\n"
     ]
    }
   ],
   "source": [
    "device = torch.device(\"cuda\" if torch.cuda.is_available() else \"cpu\")\n",
    "print(device)\n",
    "\n",
    "model.to(device)\n",
    "\n",
    "for epoch in range(num_epochs):\n",
    "    model.train()\n",
    "    running_loss = 0.0\n",
    "\n",
    "    for x_batch, labels in dataloader:\n",
    "        optimizer.zero_grad()\n",
    "\n",
    "        # Reshape x_batch to have one input channel\n",
    "        x_batch = x_batch.unsqueeze(1)  # Reshape: (batch_size, 1, 5000)\n",
    "        x_batch = x_batch.to(device)  # Move x_batch to device\n",
    "        labels = labels.to(device)  # Move labels to device\n",
    "        \n",
    "        outputs = model(x_batch)\n",
    "        loss = criterion(outputs, labels)\n",
    "\n",
    "        loss.backward()\n",
    "        optimizer.step()\n",
    "\n",
    "        running_loss += loss.item()\n",
    "\n",
    "    avg_loss = running_loss / len(dataloader)\n",
    "    print(f\"Epoch [{epoch + 1}/{num_epochs}], Loss: {avg_loss:.4f}\")"
   ]
  },
  {
   "cell_type": "markdown",
   "id": "34513def-f091-4540-8911-47561483eb9e",
   "metadata": {},
   "source": [
    "## Model Evaluation"
   ]
  },
  {
   "cell_type": "code",
   "execution_count": 41,
   "id": "9ed687e9-5a99-4ea9-8276-a1b71c038e4e",
   "metadata": {},
   "outputs": [
    {
     "name": "stdout",
     "output_type": "stream",
     "text": [
      "cuda\n",
      "Evaluation Loss: 0.0060\n",
      "Precision: 0.8753, Recall: 0.9135, F1 Score: 0.8862\n",
      "Predicted positives out of all negatives: 0.9333333333333333 = 28/30\n",
      "Predicted negatives out of all positives: 0.011764705882352941 = 4/340\n",
      "correct_cnt 2\n",
      "neg_pred_cnt 6\n"
     ]
    }
   ],
   "source": [
    "model.eval()\n",
    "\n",
    "device = torch.device(\"cuda\" if torch.cuda.is_available() else \"cpu\")\n",
    "print(device)\n",
    "\n",
    "model.to(device)\n",
    "\n",
    "# Initialize variables to keep track of the loss and predictions\n",
    "total_loss = 0.0\n",
    "all_labels = []\n",
    "all_predictions = []\n",
    "correct_cnt = 0\n",
    "neg_pred_cnt = 0 \n",
    "\n",
    "with torch.no_grad():\n",
    "    for x_batch, labels in dataloader_dev:  # Assuming you have a separate validation or test DataLoader\n",
    "        # Reshape x_batch to have one input channel\n",
    "        x_batch = x_batch.unsqueeze(1)  # Reshape: (batch_size, 1, 5000)\n",
    "        x_batch = x_batch.to(device)  # Move x_batch to device\n",
    "        \n",
    "        # labels = labels.to(device)\n",
    "        labels = labels.to(device).long() #DEV로 평가할 경우\n",
    "        \n",
    "        outputs = model(x_batch)  # Forward pass\n",
    "        loss = criterion(outputs, labels)  # Calculate loss\n",
    "        \n",
    "        total_loss += loss.item()  # Accumulate the loss\n",
    "        \n",
    "        # Get predictions\n",
    "        _, predicted = torch.max(outputs, 1)  # Get the index of the max log-probability\n",
    "        \n",
    "        all_labels.extend(labels.cpu().numpy())  # Store true labels\n",
    "        all_predictions.extend(predicted.cpu().numpy())  # Store predicted labels\n",
    "\n",
    "# Calculate average loss\n",
    "avg_loss = total_loss / len(dataloader)\n",
    "\n",
    "# Calculate precision, recall, and F1 score\n",
    "precision = precision_score(all_labels, all_predictions, average='weighted')  # Use 'micro' or 'macro' if needed\n",
    "recall = recall_score(all_labels, all_predictions, average='weighted')\n",
    "f1 = f1_score(all_labels, all_predictions, average='weighted')\n",
    "\n",
    "cm = confusion_matrix(all_labels, all_predictions)\n",
    "\n",
    "TN = cm[0, 0]  \n",
    "FP = cm[0, 1] \n",
    "FN = cm[1, 0]  \n",
    "TP = cm[1, 1]  \n",
    "\n",
    "FPR = FP / (FP + TN) if (FP + TN) > 0 else 0  \n",
    "FNR = FN / (FN + TP) if (FN + TP) > 0 else 0  \n",
    "\n",
    "# Print results\n",
    "print(f\"Evaluation Loss: {avg_loss:.4f}\")\n",
    "print(f\"Precision: {precision:.4f}, Recall: {recall:.4f}, F1 Score: {f1:.4f}\")\n",
    "print(f'Predicted positives out of all negatives: {FPR} = {FP}/{FP + TN}')\n",
    "print(f'Predicted negatives out of all positives: {FNR} = {FN}/{FN + TP}')\n",
    "# print(all_labels)\n",
    "# print(all_predictions)\n",
    "for i in range(len(all_labels)) :\n",
    "    if all_labels[i] == 0 and all_predictions[i] == 0:\n",
    "        correct_cnt += 1\n",
    "for pred in all_predictions:\n",
    "    if pred == 0:\n",
    "        neg_pred_cnt += 1\n",
    "\n",
    "print(f'correct_cnt {correct_cnt}')\n",
    "print(f'neg_pred_cnt {neg_pred_cnt}')\n",
    "# len(all_labels)"
   ]
  },
  {
   "cell_type": "markdown",
   "id": "a8c93d1a-b87f-4ff1-a1b3-3d9484f309f8",
   "metadata": {},
   "source": [
    "## 모델 저장"
   ]
  },
  {
   "cell_type": "code",
   "execution_count": 37,
   "id": "919c278f-c519-4ee4-8504-102f123a6166",
   "metadata": {},
   "outputs": [],
   "source": [
    "# torch.save(model, 'model_v0.0.1.pth')"
   ]
  },
  {
   "cell_type": "code",
   "execution_count": null,
   "id": "574668fd-0665-4ceb-86bb-c9935ef15ea0",
   "metadata": {},
   "outputs": [],
   "source": []
  }
 ],
 "metadata": {
  "kernelspec": {
   "display_name": "Python 3 (ipykernel)",
   "language": "python",
   "name": "python3"
  },
  "language_info": {
   "codemirror_mode": {
    "name": "ipython",
    "version": 3
   },
   "file_extension": ".py",
   "mimetype": "text/x-python",
   "name": "python",
   "nbconvert_exporter": "python",
   "pygments_lexer": "ipython3",
   "version": "3.12.4"
  }
 },
 "nbformat": 4,
 "nbformat_minor": 5
}
