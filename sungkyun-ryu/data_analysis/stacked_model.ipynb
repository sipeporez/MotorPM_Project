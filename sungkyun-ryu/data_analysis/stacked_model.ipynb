{
 "cells": [
  {
   "cell_type": "code",
   "execution_count": 1,
   "id": "c92f4af4-19c2-4652-a7ee-0586d8c17d82",
   "metadata": {},
   "outputs": [],
   "source": [
    "import pandas as pd \n",
    "import numpy as np \n",
    "import matplotlib.pyplot as plt \n",
    "import seaborn \n",
    "import process_fns as pfns\n",
    "import pdm_functions as fns\n",
    "import torch\n"
   ]
  },
  {
   "cell_type": "code",
   "execution_count": 2,
   "id": "aaa321bc-6e9a-49f6-a07d-c8a21d92ac2b",
   "metadata": {},
   "outputs": [],
   "source": [
    "data = pfns.to_stack('dataset/5528_droped_data.csv', 'cls') "
   ]
  },
  {
   "cell_type": "code",
   "execution_count": 37,
   "id": "8aac582f-7bd8-4ac0-bda7-3757345355bb",
   "metadata": {},
   "outputs": [],
   "source": [
    "X_train, y_train = data[0][0], data[0][1]\n",
    "X_test, y_test = data[1][0], data[1][1]\n",
    "X_dev, y_dev = data[2][0], data[2][1]"
   ]
  },
  {
   "cell_type": "code",
   "execution_count": 38,
   "id": "b1602312-af03-4809-9332-b8478047b26e",
   "metadata": {},
   "outputs": [
    {
     "data": {
      "text/plain": [
       "(torch.Size([444, 3, 2048]), torch.Size([444]))"
      ]
     },
     "execution_count": 38,
     "metadata": {},
     "output_type": "execute_result"
    }
   ],
   "source": [
    "# X_dev.shape, y_dev.shape\n",
    "X_test.shape, y_test.shape"
   ]
  },
  {
   "cell_type": "code",
   "execution_count": 39,
   "id": "fdcd3614-b766-47c9-a02b-a8c0c378ac66",
   "metadata": {},
   "outputs": [
    {
     "data": {
      "text/plain": [
       "tensor([1, 1, 1,  ..., 0, 0, 0])"
      ]
     },
     "execution_count": 39,
     "metadata": {},
     "output_type": "execute_result"
    }
   ],
   "source": [
    "y_train"
   ]
  },
  {
   "cell_type": "code",
   "execution_count": 40,
   "id": "c599bcba-5869-45cd-abbc-e35397d1d2a1",
   "metadata": {},
   "outputs": [
    {
     "data": {
      "text/plain": [
       "(1332, 120)"
      ]
     },
     "execution_count": 40,
     "metadata": {},
     "output_type": "execute_result"
    }
   ],
   "source": [
    "len(y_train[y_train == 1]), len(y_train[y_train != 1])"
   ]
  },
  {
   "cell_type": "code",
   "execution_count": 41,
   "id": "25f49230-b291-4fb7-a9d6-8e7d13da6f53",
   "metadata": {},
   "outputs": [
    {
     "data": {
      "text/plain": [
       "tensor([0, 0, 0, 0, 0, 0, 0, 0, 0, 0, 0, 0, 0, 0, 0, 0, 0, 0, 0, 0, 0, 0, 0, 0,\n",
       "        0, 0, 0, 0, 0, 0, 0, 0, 0, 0, 0, 0, 0, 0, 0, 0, 0, 0, 0, 0, 0, 0, 0, 0,\n",
       "        0, 0, 0, 0, 0, 0, 0, 0, 0, 0, 0, 0, 0, 0, 0, 0, 0, 0, 0, 0, 0, 0, 0, 0,\n",
       "        0, 0, 0, 0, 0, 0, 0, 0, 0, 0, 0, 0, 0, 0, 0, 0, 0, 0, 0, 0, 0, 0, 0, 0,\n",
       "        0, 0, 0, 0, 0, 0, 0, 0, 0, 0, 0, 0, 0, 0, 0, 0, 0, 0, 0, 0, 0, 0, 0, 0])"
      ]
     },
     "execution_count": 41,
     "metadata": {},
     "output_type": "execute_result"
    }
   ],
   "source": [
    "y_train[-120:]"
   ]
  },
  {
   "cell_type": "code",
   "execution_count": 42,
   "id": "c63bb656-b7e8-450b-8098-fc0605dc263e",
   "metadata": {},
   "outputs": [
    {
     "data": {
      "text/plain": [
       "tensor([1, 1, 1,  ..., 1, 1, 1])"
      ]
     },
     "execution_count": 42,
     "metadata": {},
     "output_type": "execute_result"
    }
   ],
   "source": [
    "y_train[:1332]"
   ]
  },
  {
   "cell_type": "code",
   "execution_count": 43,
   "id": "f67ab353-a252-4974-a929-578a77688a69",
   "metadata": {},
   "outputs": [],
   "source": [
    "y_train_pos = y_train[:1332]\n",
    "y_train_neg = y_train[-120:]"
   ]
  },
  {
   "cell_type": "code",
   "execution_count": 44,
   "id": "d11131e0-bfc2-427d-85f3-210281356f3b",
   "metadata": {},
   "outputs": [],
   "source": [
    "X_train_pos = X_train[:1332]\n",
    "X_train_neg = X_train[-120:]\n"
   ]
  },
  {
   "cell_type": "code",
   "execution_count": 45,
   "id": "548fc950-ce2d-40a5-80d4-a971e695adc3",
   "metadata": {},
   "outputs": [
    {
     "data": {
      "text/plain": [
       "(torch.Size([1332, 3, 2048]), torch.Size([120, 3, 2048]))"
      ]
     },
     "execution_count": 45,
     "metadata": {},
     "output_type": "execute_result"
    }
   ],
   "source": [
    "X_train_pos.shape, X_train_neg.shape"
   ]
  },
  {
   "cell_type": "code",
   "execution_count": 48,
   "id": "eaa35394-58dd-4526-9247-0bc1018c6b34",
   "metadata": {},
   "outputs": [],
   "source": [
    "X_train_pos = X_train_pos.reshape(111, 1, 36, 2048)\n",
    "X_train_neg = X_train_neg.reshape(10, 1, 36, 2048)"
   ]
  },
  {
   "cell_type": "code",
   "execution_count": 49,
   "id": "45495dfb-d22e-4fa0-8bb8-18ffd690887e",
   "metadata": {},
   "outputs": [
    {
     "name": "stderr",
     "output_type": "stream",
     "text": [
      "100%|█████████████████████████████████████████████████████████████████████████████████| 10/10 [00:00<00:00, 257.51it/s]\n"
     ]
    }
   ],
   "source": [
    "X_train_neg = fns.multi_datasets_stacks(X_train_neg, multi_dim= 10, num_groups= 12)"
   ]
  },
  {
   "cell_type": "code",
   "execution_count": 59,
   "id": "fa0d5952-64d6-496b-95d9-e2b89f21d180",
   "metadata": {},
   "outputs": [
    {
     "data": {
      "text/plain": [
       "(torch.Size([100, 1, 36, 2048]), torch.Size([111, 1, 36, 2048]))"
      ]
     },
     "execution_count": 59,
     "metadata": {},
     "output_type": "execute_result"
    }
   ],
   "source": [
    "X_train_neg.shape, X_train_pos.shape"
   ]
  },
  {
   "cell_type": "code",
   "execution_count": 54,
   "id": "2dd8c34a-7991-4314-b7f8-28787bf242d7",
   "metadata": {},
   "outputs": [],
   "source": [
    "y_train_neg = y_train_neg.repeat(10)"
   ]
  },
  {
   "cell_type": "code",
   "execution_count": 58,
   "id": "aefb8717-d44a-4b13-8346-97bae44dd7d6",
   "metadata": {},
   "outputs": [
    {
     "data": {
      "text/plain": [
       "(torch.Size([1332]), torch.Size([1200]))"
      ]
     },
     "execution_count": 58,
     "metadata": {},
     "output_type": "execute_result"
    }
   ],
   "source": [
    "y_train_pos.shape, y_train_neg.shape"
   ]
  },
  {
   "cell_type": "code",
   "execution_count": 60,
   "id": "d21f69b2-00f2-4861-b89a-2d0d651aa415",
   "metadata": {},
   "outputs": [],
   "source": [
    "y_train_pos = y_train_pos.reshape(111, 12)\n",
    "y_train_neg = y_train_neg.reshape(100, 12)"
   ]
  },
  {
   "cell_type": "code",
   "execution_count": 61,
   "id": "63d94d29-91f1-4d86-beb7-971222c83d39",
   "metadata": {},
   "outputs": [],
   "source": [
    "y_train_pos= torch.tensor([y_train_pos[i][0].item() for i in range(y_train_pos.shape[0])])\n",
    "y_train_neg= torch.tensor([y_train_neg[i][0].item() for i in range(y_train_neg.shape[0])])\n",
    "# y_train_pos.shape, y_train_neg.shape"
   ]
  },
  {
   "cell_type": "code",
   "execution_count": 62,
   "id": "6e2c6878-d8e9-4fbd-ada1-cff0b2b012f4",
   "metadata": {},
   "outputs": [
    {
     "data": {
      "text/plain": [
       "(torch.Size([111, 1, 36, 2048]),\n",
       " torch.Size([111]),\n",
       " torch.Size([100, 1, 36, 2048]),\n",
       " torch.Size([100]))"
      ]
     },
     "execution_count": 62,
     "metadata": {},
     "output_type": "execute_result"
    }
   ],
   "source": [
    "X_train_pos.shape, y_train_pos.shape, X_train_neg.shape, y_train_neg.shape"
   ]
  },
  {
   "cell_type": "code",
   "execution_count": 64,
   "id": "8e445350-ee72-4ba5-8d2f-c5801eccce8f",
   "metadata": {},
   "outputs": [
    {
     "data": {
      "text/plain": [
       "(torch.Size([211, 1, 36, 2048]), torch.Size([211]))"
      ]
     },
     "execution_count": 64,
     "metadata": {},
     "output_type": "execute_result"
    }
   ],
   "source": [
    "X_train = torch.concat((X_train_pos, X_train_neg), dim=0)\n",
    "y_train = torch.concat((y_train_pos, y_train_neg), dim=0)\n",
    "X_train.shape, y_train.shape"
   ]
  },
  {
   "cell_type": "code",
   "execution_count": 65,
   "id": "719f4fca-3146-40f6-85d7-e2a8a0803f42",
   "metadata": {},
   "outputs": [
    {
     "name": "stderr",
     "output_type": "stream",
     "text": [
      "100%|██████████████████████████████████████████████████████████████████████████████████| 25/25 [00:00<00:00, 60.27it/s]\n"
     ]
    },
    {
     "data": {
      "text/plain": [
       "(torch.Size([5275, 1, 36, 2048]), torch.Size([5275]))"
      ]
     },
     "execution_count": 65,
     "metadata": {},
     "output_type": "execute_result"
    }
   ],
   "source": [
    "X_train_for_model_structure = fns.multi_datasets_stacks(X_train, multi_dim= 25, num_groups=12)\n",
    "y_train_for_model_structure = y_train.repeat(25)\n",
    "X_train_for_model_structure.shape, y_train_for_model_structure.shape"
   ]
  },
  {
   "cell_type": "code",
   "execution_count": 66,
   "id": "162c9fe4-ba0d-4ec6-ad94-873d847e9a4d",
   "metadata": {},
   "outputs": [],
   "source": [
    "file_path = 'dataset/train_datasets/train_set_for_model_structure.pt'\n",
    "\n",
    "torch.save({'X_train_for_model_structure': X_train_for_model_structure, 'y_train_for_model_structure': y_train_for_model_structure}, file_path)"
   ]
  },
  {
   "cell_type": "code",
   "execution_count": 67,
   "id": "3b3787ed-b1f0-480f-a53e-e6cce65ed3f2",
   "metadata": {},
   "outputs": [
    {
     "name": "stderr",
     "output_type": "stream",
     "text": [
      "C:\\Users\\user\\AppData\\Local\\Temp\\ipykernel_10100\\2435021694.py:1: FutureWarning: You are using `torch.load` with `weights_only=False` (the current default value), which uses the default pickle module implicitly. It is possible to construct malicious pickle data which will execute arbitrary code during unpickling (See https://github.com/pytorch/pytorch/blob/main/SECURITY.md#untrusted-models for more details). In a future release, the default value for `weights_only` will be flipped to `True`. This limits the functions that could be executed during unpickling. Arbitrary objects will no longer be allowed to be loaded via this mode unless they are explicitly allowlisted by the user via `torch.serialization.add_safe_globals`. We recommend you start setting `weights_only=True` for any use case where you don't have full control of the loaded file. Please open an issue on GitHub for any issues related to this experimental feature.\n",
      "  train_for_model_structure = torch.load(file_path)\n"
     ]
    }
   ],
   "source": [
    "train_for_model_structure = torch.load(file_path)"
   ]
  },
  {
   "cell_type": "code",
   "execution_count": 70,
   "id": "c44a6dc0-136f-447b-8f4d-3c47272489b4",
   "metadata": {},
   "outputs": [],
   "source": [
    "check_y = train_for_model_structure['y_train_for_model_structure']"
   ]
  },
  {
   "cell_type": "code",
   "execution_count": 73,
   "id": "d28a6626-bded-4676-82be-04cd1fa17896",
   "metadata": {},
   "outputs": [
    {
     "data": {
      "text/plain": [
       "(2775, 2500)"
      ]
     },
     "execution_count": 73,
     "metadata": {},
     "output_type": "execute_result"
    }
   ],
   "source": [
    "len(check_y[check_y == 1]), len(check_y[check_y != 1])"
   ]
  },
  {
   "cell_type": "code",
   "execution_count": null,
   "id": "cc50c81e-5352-4326-9dd7-18f9934bb466",
   "metadata": {},
   "outputs": [],
   "source": []
  },
  {
   "cell_type": "code",
   "execution_count": null,
   "id": "74628025-5dc0-4d35-bf4c-f79f0c2300ef",
   "metadata": {},
   "outputs": [],
   "source": []
  },
  {
   "cell_type": "code",
   "execution_count": null,
   "id": "6b7d00bd-7d9e-45d1-8086-d84c186321c5",
   "metadata": {},
   "outputs": [],
   "source": []
  },
  {
   "cell_type": "code",
   "execution_count": 18,
   "id": "398921ed-7b7a-4bd6-ab97-b2cfeec0bbe4",
   "metadata": {},
   "outputs": [],
   "source": [
    "# y_train = y_train.reshape(121,12)\n",
    "# y_dev = y_dev.reshape(37, 12)\n",
    "y_test = y_test.reshape(37, 12)"
   ]
  },
  {
   "cell_type": "code",
   "execution_count": 20,
   "id": "ec7e18b2-ef8d-48a6-a460-f9328d2890a7",
   "metadata": {},
   "outputs": [
    {
     "data": {
      "text/plain": [
       "torch.Size([37, 12])"
      ]
     },
     "execution_count": 20,
     "metadata": {},
     "output_type": "execute_result"
    }
   ],
   "source": [
    "# y_train.shape\n",
    "y_test.shape"
   ]
  },
  {
   "cell_type": "code",
   "execution_count": 8,
   "id": "e14fa637-64da-40d7-b30e-a389f2c421a1",
   "metadata": {
    "collapsed": true,
    "jupyter": {
     "outputs_hidden": true
    }
   },
   "outputs": [
    {
     "data": {
      "text/plain": [
       "tensor([[1, 1, 1, 1, 1, 1, 1, 1, 1, 1, 1, 1],\n",
       "        [1, 1, 1, 1, 1, 1, 1, 1, 1, 1, 1, 1],\n",
       "        [1, 1, 1, 1, 1, 1, 1, 1, 1, 1, 1, 1],\n",
       "        [1, 1, 1, 1, 1, 1, 1, 1, 1, 1, 1, 1],\n",
       "        [1, 1, 1, 1, 1, 1, 1, 1, 1, 1, 1, 1],\n",
       "        [1, 1, 1, 1, 1, 1, 1, 1, 1, 1, 1, 1],\n",
       "        [1, 1, 1, 1, 1, 1, 1, 1, 1, 1, 1, 1],\n",
       "        [1, 1, 1, 1, 1, 1, 1, 1, 1, 1, 1, 1],\n",
       "        [1, 1, 1, 1, 1, 1, 1, 1, 1, 1, 1, 1],\n",
       "        [1, 1, 1, 1, 1, 1, 1, 1, 1, 1, 1, 1],\n",
       "        [1, 1, 1, 1, 1, 1, 1, 1, 1, 1, 1, 1],\n",
       "        [1, 1, 1, 1, 1, 1, 1, 1, 1, 1, 1, 1],\n",
       "        [1, 1, 1, 1, 1, 1, 1, 1, 1, 1, 1, 1],\n",
       "        [1, 1, 1, 1, 1, 1, 1, 1, 1, 1, 1, 1],\n",
       "        [1, 1, 1, 1, 1, 1, 1, 1, 1, 1, 1, 1],\n",
       "        [1, 1, 1, 1, 1, 1, 1, 1, 1, 1, 1, 1],\n",
       "        [1, 1, 1, 1, 1, 1, 1, 1, 1, 1, 1, 1],\n",
       "        [1, 1, 1, 1, 1, 1, 1, 1, 1, 1, 1, 1],\n",
       "        [1, 1, 1, 1, 1, 1, 1, 1, 1, 1, 1, 1],\n",
       "        [1, 1, 1, 1, 1, 1, 1, 1, 1, 1, 1, 1],\n",
       "        [1, 1, 1, 1, 1, 1, 1, 1, 1, 1, 1, 1],\n",
       "        [1, 1, 1, 1, 1, 1, 1, 1, 1, 1, 1, 1],\n",
       "        [1, 1, 1, 1, 1, 1, 1, 1, 1, 1, 1, 1],\n",
       "        [1, 1, 1, 1, 1, 1, 1, 1, 1, 1, 1, 1],\n",
       "        [1, 1, 1, 1, 1, 1, 1, 1, 1, 1, 1, 1],\n",
       "        [1, 1, 1, 1, 1, 1, 1, 1, 1, 1, 1, 1],\n",
       "        [1, 1, 1, 1, 1, 1, 1, 1, 1, 1, 1, 1],\n",
       "        [1, 1, 1, 1, 1, 1, 1, 1, 1, 1, 1, 1],\n",
       "        [1, 1, 1, 1, 1, 1, 1, 1, 1, 1, 1, 1],\n",
       "        [1, 1, 1, 1, 1, 1, 1, 1, 1, 1, 1, 1],\n",
       "        [1, 1, 1, 1, 1, 1, 1, 1, 1, 1, 1, 1],\n",
       "        [1, 1, 1, 1, 1, 1, 1, 1, 1, 1, 1, 1],\n",
       "        [1, 1, 1, 1, 1, 1, 1, 1, 1, 1, 1, 1],\n",
       "        [1, 1, 1, 1, 1, 1, 1, 1, 1, 1, 1, 1],\n",
       "        [0, 0, 0, 0, 0, 0, 0, 0, 0, 0, 0, 0],\n",
       "        [0, 0, 0, 0, 0, 0, 0, 0, 0, 0, 0, 0],\n",
       "        [0, 0, 0, 0, 0, 0, 0, 0, 0, 0, 0, 0]])"
      ]
     },
     "execution_count": 8,
     "metadata": {},
     "output_type": "execute_result"
    }
   ],
   "source": [
    "# y_train\n",
    "y_dev"
   ]
  },
  {
   "cell_type": "code",
   "execution_count": 21,
   "id": "210c2da3-2694-4a03-880a-582348cad89d",
   "metadata": {},
   "outputs": [],
   "source": [
    "# y_train = torch.tensor([y_train[i][0].item() for i in range(y_train.shape[0])])\n",
    "# y_dev = torch.tensor([y_dev[i][0].item() for i in range(y_dev.shape[0])])\n",
    "y_test = torch.tensor([y_test[i][0].item() for i in range(y_test.shape[0])])"
   ]
  },
  {
   "cell_type": "code",
   "execution_count": 24,
   "id": "48873732-e694-4dd0-9560-f6555b1b308d",
   "metadata": {},
   "outputs": [
    {
     "data": {
      "text/plain": [
       "torch.Size([37])"
      ]
     },
     "execution_count": 24,
     "metadata": {},
     "output_type": "execute_result"
    }
   ],
   "source": [
    "# y_train.shape\n",
    "y_test.shape"
   ]
  },
  {
   "cell_type": "code",
   "execution_count": 29,
   "id": "a0135267-fc1a-43e1-a4f3-4c564a86af59",
   "metadata": {},
   "outputs": [],
   "source": [
    "# X_train_grouped = X_train.reshape(121, 1, 36, 2048)\n",
    "# X_dev_grouped = X_dev.reshape(37, 1, 36, 2048)\n",
    "X_test_grouped = X_test.reshape(37, 1, 36, 2048)"
   ]
  },
  {
   "cell_type": "code",
   "execution_count": 12,
   "id": "a1cc5a63-7a92-44b7-897a-116043639898",
   "metadata": {},
   "outputs": [
    {
     "data": {
      "text/plain": [
       "torch.Size([37, 1, 36, 2048])"
      ]
     },
     "execution_count": 12,
     "metadata": {},
     "output_type": "execute_result"
    }
   ],
   "source": [
    "# X_train_grouped.shape\n",
    "X_dev_grouped.shape"
   ]
  },
  {
   "cell_type": "code",
   "execution_count": 13,
   "id": "2099f214-951d-4eaa-9bfa-09c6dfac65c3",
   "metadata": {},
   "outputs": [
    {
     "data": {
      "text/plain": [
       "(34, 3)"
      ]
     },
     "execution_count": 13,
     "metadata": {},
     "output_type": "execute_result"
    }
   ],
   "source": [
    "len(y_dev[y_dev == 1]), len(y_dev[y_dev !=1])"
   ]
  },
  {
   "cell_type": "code",
   "execution_count": 13,
   "id": "3000ec35-f22b-4404-bf42-79f0db5b2d39",
   "metadata": {},
   "outputs": [
    {
     "name": "stdout",
     "output_type": "stream",
     "text": [
      "tensor([ 5,  8,  4,  0, 11,  3,  9, 10,  6,  7,  2,  1])\n"
     ]
    }
   ],
   "source": [
    "# X_train_grouped.shape[0]\n",
    "\n",
    "num_dates = X_train_grouped.shape[0]\n",
    "num_rows = X_train_grouped[0][0].shape[0]\n",
    "num_groups = 12\n",
    "num_features = X_train_grouped[0][0][0].shape[0]\n",
    "\n",
    "\n",
    "grouped_tensor = X_train_grouped.view(num_dates, 1 ,num_groups, int(num_rows/num_groups), -1)\n",
    "\n",
    "# grouped_tensor.shape\n",
    "\n",
    "permuted_indices = fns.get_random_permutation(12)\n",
    "permuted_tensor = grouped_tensor[:, :, permuted_indices, :, :]\n",
    "\n",
    "print(permuted_indices)\n",
    "\n"
   ]
  },
  {
   "cell_type": "code",
   "execution_count": 14,
   "id": "a9b07f6d-3d62-4526-b7dd-3859a7b4782c",
   "metadata": {},
   "outputs": [
    {
     "data": {
      "text/plain": [
       "tensor([[2.4994e-04, 4.5668e-04, 6.2867e-04,  ..., 4.0409e-04, 1.5007e-04,\n",
       "         1.5202e-04],\n",
       "        [1.8990e-04, 1.7246e-04, 1.9197e-04,  ..., 4.3522e-04, 3.7189e-04,\n",
       "         1.0465e-04],\n",
       "        [7.9423e-05, 2.4039e-04, 3.9576e-04,  ..., 1.5194e-04, 8.5624e-05,\n",
       "         2.2916e-04]])"
      ]
     },
     "execution_count": 14,
     "metadata": {},
     "output_type": "execute_result"
    }
   ],
   "source": [
    "# permuted_tensor.shape\n",
    "\n",
    "# grouped_tensor.shape\n",
    "\n",
    "grouped_tensor[2][0][7]\n",
    "\n",
    "# permuted_tensor.shape[1]"
   ]
  },
  {
   "cell_type": "code",
   "execution_count": 15,
   "id": "6990c511-0a00-4f79-98f8-f35c442013da",
   "metadata": {},
   "outputs": [
    {
     "data": {
      "text/plain": [
       "tensor([[3.7633e-04, 4.0001e-04, 1.9710e-04,  ..., 4.6099e-04, 4.9943e-04,\n",
       "         4.5972e-04],\n",
       "        [4.4028e-04, 1.9330e-04, 3.5636e-04,  ..., 1.6474e-04, 2.5121e-04,\n",
       "         1.7059e-05],\n",
       "        [1.8912e-04, 1.6558e-04, 1.0677e-04,  ..., 2.9551e-04, 4.3159e-04,\n",
       "         3.7920e-04]])"
      ]
     },
     "execution_count": 15,
     "metadata": {},
     "output_type": "execute_result"
    }
   ],
   "source": [
    "permuted_tensor[2][0][0]"
   ]
  },
  {
   "cell_type": "code",
   "execution_count": 16,
   "id": "a3463d0e-aa19-41a7-9da6-55628995cc30",
   "metadata": {},
   "outputs": [],
   "source": [
    "# def multi_datasets_stacks(df, multi_dim, num_groups): \n",
    "#     permuted_tensors_list = []\n",
    "#     num_dates = df.shape[0]\n",
    "#     num_rows = df[0][0].shape[0]\n",
    "#     num_features = df[0][0][0].shape[0]\n",
    "#     grouped_tensor = df.view(num_dates, 1 ,num_groups, int(num_rows/num_groups), -1)\n",
    "\n",
    "#     for _ in range(multi_dim): \n",
    "#         permuted_indices = fns.get_random_permutation(12)\n",
    "#         permuted_tensor = grouped_tensor[:, :, permuted_indices, :, :]\n",
    "        \n",
    "#         permuted_tensors_list.append(permuted_tensor)\n",
    "\n",
    "#     stacked_tensor = torch.cat(permuted_tensors_list, dim=0)\n",
    "#     final_tensor = stacked_tensor.view(-1, 1, num_rows, num_features)\n",
    "\n",
    "#     return final_tensor"
   ]
  },
  {
   "cell_type": "code",
   "execution_count": 17,
   "id": "f8c4d47f-1541-457e-afca-bf81e5a0fcf6",
   "metadata": {},
   "outputs": [],
   "source": [
    "# a = multi_datasets(X_train_grouped, 4, 12)"
   ]
  },
  {
   "cell_type": "code",
   "execution_count": 18,
   "id": "5059c641-41d4-4363-b58e-b857673a0e64",
   "metadata": {},
   "outputs": [],
   "source": [
    "# a.shape"
   ]
  },
  {
   "cell_type": "code",
   "execution_count": 19,
   "id": "25ddff99-a78f-4f57-9a4b-14551625673c",
   "metadata": {},
   "outputs": [],
   "source": [
    "# permuted_indices = fns.get_random_permutation(12)\n",
    "# permuted_indices"
   ]
  },
  {
   "cell_type": "markdown",
   "id": "79496c78-8c23-45af-b771-70aad117f81b",
   "metadata": {},
   "source": [
    "## Multiplying Stacked Data"
   ]
  },
  {
   "cell_type": "code",
   "execution_count": 20,
   "id": "80fb8b00-ce5b-404f-adf4-0eba93115c84",
   "metadata": {},
   "outputs": [
    {
     "name": "stderr",
     "output_type": "stream",
     "text": [
      "100%|████████████████████████████████████████████████████████████████████████████████| 100/100 [00:01<00:00, 95.05it/s]\n"
     ]
    }
   ],
   "source": [
    "X_train_aug = fns.multi_datasets_stacks(X_train_grouped, multi_dim=100, num_groups=12)"
   ]
  },
  {
   "cell_type": "code",
   "execution_count": 21,
   "id": "e4097a3f-623f-4872-b5b9-1a8b39feda42",
   "metadata": {},
   "outputs": [],
   "source": [
    "y_train_aug = y_train.repeat(500)"
   ]
  },
  {
   "cell_type": "code",
   "execution_count": 27,
   "id": "1d039384-ff75-4d48-838d-e4856e95e104",
   "metadata": {},
   "outputs": [
    {
     "data": {
      "text/plain": [
       "(torch.Size([37, 1, 36, 2048]), torch.Size([37]))"
      ]
     },
     "execution_count": 27,
     "metadata": {},
     "output_type": "execute_result"
    }
   ],
   "source": [
    "# X_train_aug.shape, y_train_aug.shape\n",
    "X_dev_grouped.shape, y_dev.shape"
   ]
  },
  {
   "cell_type": "code",
   "execution_count": 30,
   "id": "71ecee52-9596-4d3d-89f0-3200949959a1",
   "metadata": {},
   "outputs": [],
   "source": [
    "# # file_path = 'dataset/train_datasets/train_data_stacked.pkl'\n",
    "# # with open (file_path, 'wb') as f:\n",
    "#     # pickle.dump({'X_train_stacked': X_train_aug, 'y_train_stacked': y_train_aug}, f)\n",
    "\n",
    "# file_path = 'dataset/train_datasets/train_data_stacked.pkl'\n",
    "\n",
    "# torch.save({'X_train_stacked': X_train_aug, 'y_train_stacked': y_train_aug}, file_path)\n",
    "\n",
    "\n",
    "# file_path = 'dataset/train_datasets/dev_data_stacked.pt'\n",
    "\n",
    "# torch.save({'X_dev_stacked': X_dev_grouped, 'y_dev_stacked': y_dev}, file_path)\n",
    "\n",
    "file_path = 'dataset/train_datasets/test_data_stacked.pt'\n",
    "\n",
    "torch.save({'X_test_stacked': X_test_grouped, 'y_test_stacked': y_test}, file_path)"
   ]
  },
  {
   "cell_type": "code",
   "execution_count": null,
   "id": "a2d6d359-884e-4ca4-82c9-f580aa347fef",
   "metadata": {},
   "outputs": [],
   "source": []
  }
 ],
 "metadata": {
  "kernelspec": {
   "display_name": "Python 3 (ipykernel)",
   "language": "python",
   "name": "python3"
  },
  "language_info": {
   "codemirror_mode": {
    "name": "ipython",
    "version": 3
   },
   "file_extension": ".py",
   "mimetype": "text/x-python",
   "name": "python",
   "nbconvert_exporter": "python",
   "pygments_lexer": "ipython3",
   "version": "3.12.4"
  }
 },
 "nbformat": 4,
 "nbformat_minor": 5
}
