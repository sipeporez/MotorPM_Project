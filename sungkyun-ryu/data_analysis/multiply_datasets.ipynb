{
 "cells": [
  {
   "cell_type": "code",
   "execution_count": 1,
   "id": "cbdcd9f7-0446-4228-9a9b-4845143a5cf3",
   "metadata": {},
   "outputs": [],
   "source": [
    "import pdm_functions as fns\n",
    "import torch \n",
    "import pandas as pd \n",
    "import numpy as np \n",
    "import matplotlib.pyplot as plt"
   ]
  },
  {
   "cell_type": "code",
   "execution_count": 2,
   "id": "6fddf0cd-605d-4fd3-8fe0-17f1b6040e82",
   "metadata": {},
   "outputs": [],
   "source": [
    "# df_normal = fns.csv_to_tensor_stack('dataset/5528_spec_normal.csv')\n",
    "# df_error = fns.csv_to_tensor_stack('dataset/5528_spec_error.csv')"
   ]
  },
  {
   "cell_type": "code",
   "execution_count": 3,
   "id": "5a641486-5345-449a-8076-b7fe6a44f00a",
   "metadata": {},
   "outputs": [],
   "source": [
    "# num_rows = df_error.shape[0]\n",
    "# grouped_tensor_error = df_error.view(num_rows, 12, 6144)"
   ]
  },
  {
   "cell_type": "code",
   "execution_count": 4,
   "id": "9539b443-43bc-4617-9e33-c3d43815168d",
   "metadata": {},
   "outputs": [],
   "source": [
    "# grouped_tensor_error.shape"
   ]
  },
  {
   "cell_type": "code",
   "execution_count": 5,
   "id": "1eaea9f1-5079-4538-888b-8d22f20767ff",
   "metadata": {},
   "outputs": [],
   "source": [
    "# def get_random_permutation(num_groups):\n",
    "#     seed = torch.randint(0, 10000, (1,)).item()  # Generate a random seed\n",
    "#     torch.manual_seed(seed)  # Set the random seed\n",
    "#     return torch.randperm(num_groups)\n",
    "\n",
    "# # Example usage\n",
    "# for _ in range(5):  # Generate 5 different permutations\n",
    "#     permuted_indices = get_random_permutation(12)\n",
    "#     print(permuted_indices)"
   ]
  },
  {
   "cell_type": "code",
   "execution_count": 6,
   "id": "3f9a6c6e-d99e-4d83-bb25-0b9659e7b230",
   "metadata": {},
   "outputs": [],
   "source": [
    "# permuted_tensors_list_error = []\n",
    "\n",
    "# for _ in range(20): \n",
    "#     permuted_indices = fns.get_random_permutation(12)\n",
    "#     permuted_tensor = grouped_tensor_error[:, permuted_indices, :]\n",
    "    \n",
    "#     permuted_tensors_list_error.append(permuted_tensor)    "
   ]
  },
  {
   "cell_type": "code",
   "execution_count": 7,
   "id": "b1127ccf-17bb-47b3-b8b2-f5ca3772e178",
   "metadata": {},
   "outputs": [],
   "source": [
    "# permuted_tensors_list_error[0].shape"
   ]
  },
  {
   "cell_type": "code",
   "execution_count": 8,
   "id": "5d70f26f-9a0a-44bb-bde9-f1c23a383dd3",
   "metadata": {},
   "outputs": [],
   "source": [
    "# stacked_tensor_error = torch.cat(permuted_tensors_list_error, dim=0)\n",
    "# stacked_tensor_error.shape"
   ]
  },
  {
   "cell_type": "code",
   "execution_count": 9,
   "id": "f8cc540a-3c60-4c82-9885-a5bd0426f12e",
   "metadata": {},
   "outputs": [],
   "source": [
    "# final_tensor_error = stacked_tensor_error.view(-1, 73728)\n",
    "# final_tensor_error.shape"
   ]
  },
  {
   "cell_type": "code",
   "execution_count": 10,
   "id": "3ff5fb7a-e357-4008-8dbe-0dc7dee5db40",
   "metadata": {},
   "outputs": [],
   "source": [
    "# def multi_datasets(df, multi_dim=2): \n",
    "#     permuted_tensors_list = []\n",
    "#     num_rows = df.shape[0]\n",
    "#     grouped_tensor = df.view(num_rows, 12, 6144)\n",
    "\n",
    "#     for _ in range(20): \n",
    "#         permuted_indices = fns.get_random_permutation(12)\n",
    "#         permuted_tensor = grouped_tensor[:, permuted_indices, :]\n",
    "        \n",
    "#         permuted_tensors_list_.append(permuted_tensor)\n",
    "\n",
    "#     stacked_tensor = torch.cat(permuted_tensors_list, dim=0)\n",
    "#     final_tensor = stacked_tensor.view(-1, 73728)\n",
    "\n",
    "#     return final_tensor\n",
    "    "
   ]
  },
  {
   "cell_type": "code",
   "execution_count": 11,
   "id": "28222aa9-7f05-47e4-9575-a269fa9ddabb",
   "metadata": {},
   "outputs": [],
   "source": [
    "# bogus_error = fns.multi_datasets(df_error, multi_dim= 4)"
   ]
  },
  {
   "cell_type": "code",
   "execution_count": null,
   "id": "50132c3f-9c96-43ef-bd30-e60b2543029d",
   "metadata": {},
   "outputs": [],
   "source": []
  },
  {
   "cell_type": "code",
   "execution_count": 12,
   "id": "4cbfdaf5-58f8-4a27-b832-ce0608e6e16b",
   "metadata": {},
   "outputs": [],
   "source": [
    "f_normal = pd.read_csv('dataset/5528_drop_imbalance_normal.csv')"
   ]
  },
  {
   "cell_type": "code",
   "execution_count": 13,
   "id": "496152a5-9b9f-494f-a378-42f37938ed89",
   "metadata": {},
   "outputs": [],
   "source": [
    "f_error = pd.read_csv('dataset/5528_drop_imbalance_error.csv')"
   ]
  },
  {
   "cell_type": "code",
   "execution_count": 14,
   "id": "4485c013-18d6-40dd-84a1-a2b46985b352",
   "metadata": {},
   "outputs": [],
   "source": [
    "# f_normal.head()"
   ]
  },
  {
   "cell_type": "code",
   "execution_count": 15,
   "id": "09256ca6-e04f-4e64-a279-9c672973d003",
   "metadata": {},
   "outputs": [],
   "source": [
    "# created_at 유닉스 시간대 컬럼을 기준으로 시계열 정렬\n",
    "f_normal['created_at'] = pd.to_datetime(f_normal['created_at'], unit='s')\n",
    "f_normal = f_normal.sort_values(by='created_at')\n",
    " \n",
    "f_error['created_at'] = pd.to_datetime(f_error['created_at'], unit='s')\n",
    "f_error = f_error.sort_values(by='created_at')"
   ]
  },
  {
   "cell_type": "code",
   "execution_count": 16,
   "id": "a59e12cf-7a41-425c-9336-64172a77f9ca",
   "metadata": {},
   "outputs": [],
   "source": [
    "f_normal = f_normal.drop(columns=['asset_id', 'created_at', 'created_at_datetime', 'looseness_health', 'time','misalignment_health', 'bearing_health', 'imbalance_health'])\n",
    "f_error = f_error.drop(columns=['asset_id', 'created_at', 'created_at_datetime', 'looseness_health', 'time','misalignment_health', 'bearing_health', 'imbalance_health'])\n",
    "\n"
   ]
  },
  {
   "cell_type": "code",
   "execution_count": 17,
   "id": "80739108-182e-4a09-a19c-f6fe1d8d5475",
   "metadata": {},
   "outputs": [
    {
     "name": "stdout",
     "output_type": "stream",
     "text": [
      "<class 'pandas.core.frame.DataFrame'>\n",
      "RangeIndex: 2220 entries, 0 to 2219\n",
      "Data columns (total 38 columns):\n",
      " #   Column              Non-Null Count  Dtype  \n",
      "---  ------              --------------  -----  \n",
      " 0   rms_x               2220 non-null   float64\n",
      " 1   rms_y               2220 non-null   float64\n",
      " 2   rms_z               2220 non-null   float64\n",
      " 3   rms_xyz             2220 non-null   float64\n",
      " 4   vel_rms_x           2220 non-null   float64\n",
      " 5   vel_rms_y           2220 non-null   float64\n",
      " 6   vel_rms_z           2220 non-null   float64\n",
      " 7   vel_rms_xyz         2220 non-null   float64\n",
      " 8   skewness_x          2220 non-null   float64\n",
      " 9   skewness_y          2220 non-null   float64\n",
      " 10  skewness_z          2220 non-null   float64\n",
      " 11  vel_skewness_x      2220 non-null   float64\n",
      " 12  vel_skewness_y      2220 non-null   float64\n",
      " 13  vel_skewness_z      2220 non-null   float64\n",
      " 14  kurtosis_x          2220 non-null   float64\n",
      " 15  kurtosis_y          2220 non-null   float64\n",
      " 16  kurtosis_z          2220 non-null   float64\n",
      " 17  vel_kurtosis_x      2220 non-null   float64\n",
      " 18  vel_kurtosis_y      2220 non-null   float64\n",
      " 19  vel_kurtosis_z      2220 non-null   float64\n",
      " 20  crest_factor_x      2220 non-null   float64\n",
      " 21  crest_factor_y      2220 non-null   float64\n",
      " 22  crest_factor_z      2220 non-null   float64\n",
      " 23  vel_crest_factor_x  2220 non-null   float64\n",
      " 24  vel_crest_factor_y  2220 non-null   float64\n",
      " 25  vel_crest_factor_z  2220 non-null   float64\n",
      " 26  peak_x              2220 non-null   float64\n",
      " 27  peak_y              2220 non-null   float64\n",
      " 28  peak_z              2220 non-null   float64\n",
      " 29  vel_peak_x          2220 non-null   float64\n",
      " 30  vel_peak_y          2220 non-null   float64\n",
      " 31  vel_peak_z          2220 non-null   float64\n",
      " 32  peak2peak_x         2220 non-null   float64\n",
      " 33  peak2peak_y         2220 non-null   float64\n",
      " 34  peak2peak_z         2220 non-null   float64\n",
      " 35  vel_peak2peak_x     2220 non-null   float64\n",
      " 36  vel_peak2peak_y     2220 non-null   float64\n",
      " 37  vel_peak2peak_z     2220 non-null   float64\n",
      "dtypes: float64(38)\n",
      "memory usage: 659.2 KB\n"
     ]
    }
   ],
   "source": [
    "f_normal.info()"
   ]
  },
  {
   "cell_type": "code",
   "execution_count": 38,
   "id": "a1b24aeb-ea9a-4151-ba03-23714ad31426",
   "metadata": {},
   "outputs": [],
   "source": [
    "import pdm_functions as fns \n",
    "import torch"
   ]
  },
  {
   "cell_type": "code",
   "execution_count": 39,
   "id": "93d2cb26-c3c1-4daa-8da6-7cc08f07cf00",
   "metadata": {},
   "outputs": [],
   "source": [
    "f_normal_tensor = torch.tensor(f_normal.values, dtype=torch.float32)\n",
    "f_error_tensor = torch.tensor(f_error.values, dtype=torch.float32)\n"
   ]
  },
  {
   "cell_type": "code",
   "execution_count": 20,
   "id": "d76b8679-c174-4245-9ca5-beb00c6de330",
   "metadata": {},
   "outputs": [
    {
     "data": {
      "text/plain": [
       "(torch.Size([2220, 38]), torch.Size([192, 38]))"
      ]
     },
     "execution_count": 20,
     "metadata": {},
     "output_type": "execute_result"
    }
   ],
   "source": [
    "f_normal_tensor.shape, f_error_tensor.shape"
   ]
  },
  {
   "cell_type": "code",
   "execution_count": 21,
   "id": "c032818c-c5bb-489b-90ba-fcf7b918cd0a",
   "metadata": {},
   "outputs": [],
   "source": [
    "f_normal_test = f_normal_tensor[:1200]\n",
    "f_normal_train = f_normal_tensor[1200:]"
   ]
  },
  {
   "cell_type": "code",
   "execution_count": 22,
   "id": "d82a1d87-b2a0-45c0-9c73-793e0d0d524b",
   "metadata": {},
   "outputs": [
    {
     "data": {
      "text/plain": [
       "(torch.Size([1020, 38]), torch.Size([1200, 38]))"
      ]
     },
     "execution_count": 22,
     "metadata": {},
     "output_type": "execute_result"
    }
   ],
   "source": [
    "f_normal_train.shape, f_normal_test.shape"
   ]
  },
  {
   "cell_type": "code",
   "execution_count": 23,
   "id": "8c087085-7a85-49dc-b6b7-33f17817d4c3",
   "metadata": {},
   "outputs": [],
   "source": [
    "f_normal_test = torch.concat((f_normal_test, f_error_tensor), dim= 0)"
   ]
  },
  {
   "cell_type": "code",
   "execution_count": 24,
   "id": "c8284abf-9ee0-484c-90f1-0471e6f6f057",
   "metadata": {},
   "outputs": [
    {
     "data": {
      "text/plain": [
       "torch.Size([1392, 38])"
      ]
     },
     "execution_count": 24,
     "metadata": {},
     "output_type": "execute_result"
    }
   ],
   "source": [
    "f_normal_test.shape"
   ]
  },
  {
   "cell_type": "code",
   "execution_count": 25,
   "id": "46c9217e-32fa-4e6b-b1b8-240cfdb01980",
   "metadata": {
    "scrolled": true
   },
   "outputs": [
    {
     "data": {
      "text/plain": [
       "torch.Size([116, 1, 12, 38])"
      ]
     },
     "execution_count": 25,
     "metadata": {},
     "output_type": "execute_result"
    }
   ],
   "source": [
    "f_normal_test = f_normal_test.reshape((-1, 1, 12, 38))\n",
    "f_normal_test.shape"
   ]
  },
  {
   "cell_type": "code",
   "execution_count": 32,
   "id": "6cbc3327-9e60-4bf0-87c8-6c833e0c3839",
   "metadata": {},
   "outputs": [
    {
     "data": {
      "text/plain": [
       "torch.Size([85, 1, 12, 38])"
      ]
     },
     "execution_count": 32,
     "metadata": {},
     "output_type": "execute_result"
    }
   ],
   "source": [
    "f_normal_train = f_normal_train.reshape((-1, 1, 12, 38))\n",
    "f_normal_train.shape"
   ]
  },
  {
   "cell_type": "code",
   "execution_count": 27,
   "id": "f58eed66-3b5b-4fcf-9354-fe159d3a8471",
   "metadata": {},
   "outputs": [
    {
     "ename": "NameError",
     "evalue": "name 'asdf' is not defined",
     "output_type": "error",
     "traceback": [
      "\u001b[1;31m---------------------------------------------------------------------------\u001b[0m",
      "\u001b[1;31mNameError\u001b[0m                                 Traceback (most recent call last)",
      "Cell \u001b[1;32mIn[27], line 1\u001b[0m\n\u001b[1;32m----> 1\u001b[0m \u001b[43masdf\u001b[49m\n",
      "\u001b[1;31mNameError\u001b[0m: name 'asdf' is not defined"
     ]
    }
   ],
   "source": [
    "asdf"
   ]
  },
  {
   "cell_type": "code",
   "execution_count": 33,
   "id": "54432395-4055-4156-972f-a779f2628d59",
   "metadata": {},
   "outputs": [
    {
     "name": "stderr",
     "output_type": "stream",
     "text": [
      "100%|███████████████████████████████████████████████████████████████████████████████| 150/150 [00:00<00:00, 487.02it/s]\n"
     ]
    }
   ],
   "source": [
    "f_normal_train_aug = fns.multi_datasets(f_normal_train, multi_dim= 150, num_groups= 12)"
   ]
  },
  {
   "cell_type": "code",
   "execution_count": 34,
   "id": "996c687d-3163-4bfb-8c9e-7f78d39df0d7",
   "metadata": {},
   "outputs": [
    {
     "data": {
      "text/plain": [
       "torch.Size([5814000, 1])"
      ]
     },
     "execution_count": 34,
     "metadata": {},
     "output_type": "execute_result"
    }
   ],
   "source": [
    "f_normal_train_aug.shape"
   ]
  },
  {
   "cell_type": "code",
   "execution_count": 35,
   "id": "1dee8a67-f480-48f4-9fd7-16bca0122bdd",
   "metadata": {},
   "outputs": [
    {
     "data": {
      "text/plain": [
       "torch.Size([12750, 1, 12, 38])"
      ]
     },
     "execution_count": 35,
     "metadata": {},
     "output_type": "execute_result"
    }
   ],
   "source": [
    "f_normal_train_aug = f_normal_train_aug.reshape((-1, 1, 12, 38))\n",
    "f_normal_train_aug.shape"
   ]
  },
  {
   "cell_type": "code",
   "execution_count": 31,
   "id": "5a5bfafa-ea5f-446c-bb59-5510753bb533",
   "metadata": {},
   "outputs": [
    {
     "data": {
      "text/plain": [
       "torch.Size([116, 1, 12, 38])"
      ]
     },
     "execution_count": 31,
     "metadata": {},
     "output_type": "execute_result"
    }
   ],
   "source": [
    "f_test = f_normal_test\n",
    "f_test.shape"
   ]
  },
  {
   "cell_type": "code",
   "execution_count": 37,
   "id": "8cde8efb-0167-4e0e-8f61-d302ea556b6e",
   "metadata": {},
   "outputs": [],
   "source": [
    "torch.save({'train_normal' : f_normal_train_aug, 'test' : f_test }, 'final_experiment/datasets/auto_encoder.pt')"
   ]
  },
  {
   "cell_type": "code",
   "execution_count": null,
   "id": "70b37b7c-2d5e-419a-a751-a3b9eaf81cf3",
   "metadata": {},
   "outputs": [],
   "source": []
  },
  {
   "cell_type": "code",
   "execution_count": null,
   "id": "345d4cb2-538c-48bb-9e31-a966e5e74966",
   "metadata": {},
   "outputs": [],
   "source": []
  },
  {
   "cell_type": "code",
   "execution_count": null,
   "id": "eddc88d9-0bbc-4a56-a3d8-ae8b8e40ee8d",
   "metadata": {},
   "outputs": [],
   "source": [
    "f_normal = fns.multi_datasets(f_normal, multi_dim= 10, num_groups= 12)"
   ]
  },
  {
   "cell_type": "code",
   "execution_count": null,
   "id": "eb9a2748-680b-4788-ba94-833f9ba54ae3",
   "metadata": {},
   "outputs": [],
   "source": [
    "# tensors = [torch.tensor(item) for item in f_normal.groupby(level=0).apply(lambda x: [item for sublist in x for item in sublist])]\n",
    "    \n",
    "#     # # 텐서들을 스택\n",
    "    # result = torch.stack(tensors)"
   ]
  },
  {
   "cell_type": "code",
   "execution_count": null,
   "id": "b780b2ca-a515-48e5-8f46-27c6c3740542",
   "metadata": {},
   "outputs": [],
   "source": [
    "f_normal_tensor = torch.tensor(f_normal.values, dtype=torch.float32)\n",
    "f_error_tensor = torch.tensor(f_error.values, dtype=torch.float32)\n"
   ]
  },
  {
   "cell_type": "code",
   "execution_count": null,
   "id": "af7ca75c-356c-47ec-a209-6d44de0a2092",
   "metadata": {},
   "outputs": [],
   "source": [
    "f_normal_tensor.shape, f_error_tensor.shape"
   ]
  },
  {
   "cell_type": "code",
   "execution_count": null,
   "id": "53dc2540-edd1-4653-814d-e824e059599a",
   "metadata": {},
   "outputs": [],
   "source": [
    "data_auto = torch.concat((f_normal_tensor, f_error_tensor), dim=0)"
   ]
  },
  {
   "cell_type": "code",
   "execution_count": null,
   "id": "8a55e1da-3f85-4115-8f0b-cb65289eff76",
   "metadata": {},
   "outputs": [],
   "source": [
    "data_auto"
   ]
  },
  {
   "cell_type": "code",
   "execution_count": null,
   "id": "b95e3245-35c9-42be-871a-b2fade545ffc",
   "metadata": {},
   "outputs": [],
   "source": [
    "data_auto_tensor = data_auto.reshape((-1, 1, 12, 38))"
   ]
  },
  {
   "cell_type": "code",
   "execution_count": null,
   "id": "c72c05b6-04c4-420a-81fc-59aeff5f6a3b",
   "metadata": {},
   "outputs": [],
   "source": [
    "# tensor_data = tensor_data.reshape((-1 ,12 ,38))\n",
    "data_auto_tensor.shape"
   ]
  },
  {
   "cell_type": "code",
   "execution_count": null,
   "id": "6df66c65-7785-4c64-b881-da26b131a68a",
   "metadata": {},
   "outputs": [],
   "source": [
    "data_auto = fns.multi_datasets_stacks(data_auto_tensor, multi_dim = 500, num_groups= 12)\n"
   ]
  },
  {
   "cell_type": "code",
   "execution_count": null,
   "id": "c02108cc-6ad1-4993-aef9-b0aa3e052dce",
   "metadata": {},
   "outputs": [],
   "source": [
    "data_auto.shape"
   ]
  },
  {
   "cell_type": "code",
   "execution_count": null,
   "id": "1bf0e8f3-3b54-416d-8045-cef22c9cafae",
   "metadata": {},
   "outputs": [],
   "source": [
    "torch.save(data_auto, 'dataset/train_datasets/sigdata_aug.pt')"
   ]
  },
  {
   "cell_type": "code",
   "execution_count": null,
   "id": "8c91edcc-9b87-4153-a5ab-966641ac8c4b",
   "metadata": {},
   "outputs": [],
   "source": []
  }
 ],
 "metadata": {
  "kernelspec": {
   "display_name": "Python 3 (ipykernel)",
   "language": "python",
   "name": "python3"
  },
  "language_info": {
   "codemirror_mode": {
    "name": "ipython",
    "version": 3
   },
   "file_extension": ".py",
   "mimetype": "text/x-python",
   "name": "python",
   "nbconvert_exporter": "python",
   "pygments_lexer": "ipython3",
   "version": "3.12.4"
  }
 },
 "nbformat": 4,
 "nbformat_minor": 5
}
