{
 "cells": [
  {
   "cell_type": "code",
   "execution_count": 1,
   "id": "71dcbcdf-adad-4198-807c-9f9b682e4133",
   "metadata": {
    "executionInfo": {
     "elapsed": 380,
     "status": "ok",
     "timestamp": 1726195972478,
     "user": {
      "displayName": "Seongwoo Kim",
      "userId": "02088916196000214123"
     },
     "user_tz": -540
    },
    "id": "71dcbcdf-adad-4198-807c-9f9b682e4133"
   },
   "outputs": [],
   "source": [
    "import pandas as pd\n",
    "import numpy as np\n",
    "import torch\n",
    "from sklearn.model_selection import train_test_split\n",
    "from sklearn.preprocessing import MinMaxScaler\n",
    "import matplotlib.pyplot as plt\n",
    "from torch.utils.data import DataLoader, TensorDataset"
   ]
  },
  {
   "cell_type": "code",
   "execution_count": 4,
   "id": "b919b6c7-d1aa-4185-b406-9a27d82f6cb1",
   "metadata": {
    "colab": {
     "base_uri": "https://localhost:8080/",
     "height": 256
    },
    "executionInfo": {
     "elapsed": 5,
     "status": "ok",
     "timestamp": 1726195972916,
     "user": {
      "displayName": "Seongwoo Kim",
      "userId": "02088916196000214123"
     },
     "user_tz": -540
    },
    "id": "b919b6c7-d1aa-4185-b406-9a27d82f6cb1",
    "outputId": "27455405-fb9a-44aa-dbe9-d1330fb57b90"
   },
   "outputs": [
    {
     "name": "stderr",
     "output_type": "stream",
     "text": [
      "C:\\Users\\user\\AppData\\Local\\Temp\\ipykernel_4596\\4115218575.py:2: FutureWarning: You are using `torch.load` with `weights_only=False` (the current default value), which uses the default pickle module implicitly. It is possible to construct malicious pickle data which will execute arbitrary code during unpickling (See https://github.com/pytorch/pytorch/blob/main/SECURITY.md#untrusted-models for more details). In a future release, the default value for `weights_only` will be flipped to `True`. This limits the functions that could be executed during unpickling. Arbitrary objects will no longer be allowed to be loaded via this mode unless they are explicitly allowlisted by the user via `torch.serialization.add_safe_globals`. We recommend you start setting `weights_only=True` for any use case where you don't have full control of the loaded file. Please open an issue on GitHub for any issues related to this experimental feature.\n",
      "  data = torch.load('datasets/sepc_datasets.pt')\n"
     ]
    },
    {
     "ename": "FileNotFoundError",
     "evalue": "[Errno 2] No such file or directory: 'datasets/sepc_datasets.pt'",
     "output_type": "error",
     "traceback": [
      "\u001b[1;31m---------------------------------------------------------------------------\u001b[0m",
      "\u001b[1;31mFileNotFoundError\u001b[0m                         Traceback (most recent call last)",
      "Cell \u001b[1;32mIn[4], line 2\u001b[0m\n\u001b[0;32m      1\u001b[0m \u001b[38;5;66;03m# data = pd.read_csv(\"/content/drive/MyDrive/02dc4105-ca5e-4770-a6fc-d1fdff11fc1c_data.csv\").sort_values('created_at')\u001b[39;00m\n\u001b[1;32m----> 2\u001b[0m data \u001b[38;5;241m=\u001b[39m \u001b[43mtorch\u001b[49m\u001b[38;5;241;43m.\u001b[39;49m\u001b[43mload\u001b[49m\u001b[43m(\u001b[49m\u001b[38;5;124;43m'\u001b[39;49m\u001b[38;5;124;43mdatasets/sepc_datasets.pt\u001b[39;49m\u001b[38;5;124;43m'\u001b[39;49m\u001b[43m)\u001b[49m\n\u001b[0;32m      3\u001b[0m \u001b[38;5;66;03m# target = data[['asset_health']]\u001b[39;00m\n\u001b[0;32m      4\u001b[0m \u001b[38;5;66;03m# 데이터셋의 4번째 컬럼부터 마지막에서 앞으로 6번째 컬럼까지가 유효한 특성들임\u001b[39;00m\n\u001b[0;32m      5\u001b[0m \u001b[38;5;66;03m# data = data.iloc[:,4:-6]\u001b[39;00m\n",
      "File \u001b[1;32m~\\anaconda3\\envs\\kdtproj\\Lib\\site-packages\\torch\\serialization.py:1065\u001b[0m, in \u001b[0;36mload\u001b[1;34m(f, map_location, pickle_module, weights_only, mmap, **pickle_load_args)\u001b[0m\n\u001b[0;32m   1062\u001b[0m \u001b[38;5;28;01mif\u001b[39;00m \u001b[38;5;124m'\u001b[39m\u001b[38;5;124mencoding\u001b[39m\u001b[38;5;124m'\u001b[39m \u001b[38;5;129;01mnot\u001b[39;00m \u001b[38;5;129;01min\u001b[39;00m pickle_load_args\u001b[38;5;241m.\u001b[39mkeys():\n\u001b[0;32m   1063\u001b[0m     pickle_load_args[\u001b[38;5;124m'\u001b[39m\u001b[38;5;124mencoding\u001b[39m\u001b[38;5;124m'\u001b[39m] \u001b[38;5;241m=\u001b[39m \u001b[38;5;124m'\u001b[39m\u001b[38;5;124mutf-8\u001b[39m\u001b[38;5;124m'\u001b[39m\n\u001b[1;32m-> 1065\u001b[0m \u001b[38;5;28;01mwith\u001b[39;00m \u001b[43m_open_file_like\u001b[49m\u001b[43m(\u001b[49m\u001b[43mf\u001b[49m\u001b[43m,\u001b[49m\u001b[43m \u001b[49m\u001b[38;5;124;43m'\u001b[39;49m\u001b[38;5;124;43mrb\u001b[39;49m\u001b[38;5;124;43m'\u001b[39;49m\u001b[43m)\u001b[49m \u001b[38;5;28;01mas\u001b[39;00m opened_file:\n\u001b[0;32m   1066\u001b[0m     \u001b[38;5;28;01mif\u001b[39;00m _is_zipfile(opened_file):\n\u001b[0;32m   1067\u001b[0m         \u001b[38;5;66;03m# The zipfile reader is going to advance the current file position.\u001b[39;00m\n\u001b[0;32m   1068\u001b[0m         \u001b[38;5;66;03m# If we want to actually tail call to torch.jit.load, we need to\u001b[39;00m\n\u001b[0;32m   1069\u001b[0m         \u001b[38;5;66;03m# reset back to the original position.\u001b[39;00m\n\u001b[0;32m   1070\u001b[0m         orig_position \u001b[38;5;241m=\u001b[39m opened_file\u001b[38;5;241m.\u001b[39mtell()\n",
      "File \u001b[1;32m~\\anaconda3\\envs\\kdtproj\\Lib\\site-packages\\torch\\serialization.py:468\u001b[0m, in \u001b[0;36m_open_file_like\u001b[1;34m(name_or_buffer, mode)\u001b[0m\n\u001b[0;32m    466\u001b[0m \u001b[38;5;28;01mdef\u001b[39;00m \u001b[38;5;21m_open_file_like\u001b[39m(name_or_buffer, mode):\n\u001b[0;32m    467\u001b[0m     \u001b[38;5;28;01mif\u001b[39;00m _is_path(name_or_buffer):\n\u001b[1;32m--> 468\u001b[0m         \u001b[38;5;28;01mreturn\u001b[39;00m \u001b[43m_open_file\u001b[49m\u001b[43m(\u001b[49m\u001b[43mname_or_buffer\u001b[49m\u001b[43m,\u001b[49m\u001b[43m \u001b[49m\u001b[43mmode\u001b[49m\u001b[43m)\u001b[49m\n\u001b[0;32m    469\u001b[0m     \u001b[38;5;28;01melse\u001b[39;00m:\n\u001b[0;32m    470\u001b[0m         \u001b[38;5;28;01mif\u001b[39;00m \u001b[38;5;124m'\u001b[39m\u001b[38;5;124mw\u001b[39m\u001b[38;5;124m'\u001b[39m \u001b[38;5;129;01min\u001b[39;00m mode:\n",
      "File \u001b[1;32m~\\anaconda3\\envs\\kdtproj\\Lib\\site-packages\\torch\\serialization.py:449\u001b[0m, in \u001b[0;36m_open_file.__init__\u001b[1;34m(self, name, mode)\u001b[0m\n\u001b[0;32m    448\u001b[0m \u001b[38;5;28;01mdef\u001b[39;00m \u001b[38;5;21m__init__\u001b[39m(\u001b[38;5;28mself\u001b[39m, name, mode):\n\u001b[1;32m--> 449\u001b[0m     \u001b[38;5;28msuper\u001b[39m()\u001b[38;5;241m.\u001b[39m\u001b[38;5;21m__init__\u001b[39m(\u001b[38;5;28;43mopen\u001b[39;49m\u001b[43m(\u001b[49m\u001b[43mname\u001b[49m\u001b[43m,\u001b[49m\u001b[43m \u001b[49m\u001b[43mmode\u001b[49m\u001b[43m)\u001b[49m)\n",
      "\u001b[1;31mFileNotFoundError\u001b[0m: [Errno 2] No such file or directory: 'datasets/sepc_datasets.pt'"
     ]
    }
   ],
   "source": [
    "# data = pd.read_csv(\"/content/drive/MyDrive/02dc4105-ca5e-4770-a6fc-d1fdff11fc1c_data.csv\").sort_values('created_at')\n",
    "data = torch.load('datasets/sepc_datasets.pt')\n",
    "# target = data[['asset_health']]\n",
    "# 데이터셋의 4번째 컬럼부터 마지막에서 앞으로 6번째 컬럼까지가 유효한 특성들임\n",
    "# data = data.iloc[:,4:-6]\n"
   ]
  },
  {
   "cell_type": "code",
   "execution_count": null,
   "id": "b462c3fe-aad4-47da-a654-562d98b1e86d",
   "metadata": {},
   "outputs": [],
   "source": [
    "data = data.reshape(-1, 38)\n",
    "data.shape"
   ]
  },
  {
   "cell_type": "code",
   "execution_count": null,
   "id": "tSCz2rWHR0w-",
   "metadata": {
    "colab": {
     "base_uri": "https://localhost:8080/",
     "height": 206
    },
    "executionInfo": {
     "elapsed": 4,
     "status": "ok",
     "timestamp": 1726195972916,
     "user": {
      "displayName": "Seongwoo Kim",
      "userId": "02088916196000214123"
     },
     "user_tz": -540
    },
    "id": "tSCz2rWHR0w-",
    "outputId": "ce16b956-cce2-43d4-bfc8-79079ab18362"
   },
   "outputs": [],
   "source": [
    "# target.head()"
   ]
  },
  {
   "cell_type": "code",
   "execution_count": null,
   "id": "Uu-r0XH8RufB",
   "metadata": {
    "executionInfo": {
     "elapsed": 1,
     "status": "ok",
     "timestamp": 1726195974276,
     "user": {
      "displayName": "Seongwoo Kim",
      "userId": "02088916196000214123"
     },
     "user_tz": -540
    },
    "id": "Uu-r0XH8RufB"
   },
   "outputs": [],
   "source": [
    "# raw_target = target.values\n",
    "# raw_data = data.values"
   ]
  },
  {
   "cell_type": "code",
   "execution_count": null,
   "id": "dLLc0HF3RQ1e",
   "metadata": {
    "colab": {
     "base_uri": "https://localhost:8080/"
    },
    "executionInfo": {
     "elapsed": 2780,
     "status": "ok",
     "timestamp": 1726195977529,
     "user": {
      "displayName": "Seongwoo Kim",
      "userId": "02088916196000214123"
     },
     "user_tz": -540
    },
    "id": "dLLc0HF3RQ1e",
    "outputId": "209f6264-72e5-4c51-95b1-3e3c5e1c5f5a"
   },
   "outputs": [],
   "source": [
    "# from google.colab import drive\n",
    "# drive.mount('/content/drive')"
   ]
  },
  {
   "cell_type": "code",
   "execution_count": null,
   "id": "ea0dc631-ce4b-4eed-b627-f2f5cdbb2ae6",
   "metadata": {
    "executionInfo": {
     "elapsed": 4,
     "status": "ok",
     "timestamp": 1726195977529,
     "user": {
      "displayName": "Seongwoo Kim",
      "userId": "02088916196000214123"
     },
     "user_tz": -540
    },
    "id": "ea0dc631-ce4b-4eed-b627-f2f5cdbb2ae6"
   },
   "outputs": [],
   "source": [
    "# Split into train and test datasets\n",
    "# train_data, test_data, train_labels, test_labels = train_test_split(raw_data, raw_target, test_size=0.2, random_state=21)\n",
    "train_data, test_data = train_test_split(data, test_size=0.2, random_state=42)"
   ]
  },
  {
   "cell_type": "code",
   "execution_count": null,
   "id": "45946c17-b6f5-4e9b-8a31-a1ff44267241",
   "metadata": {},
   "outputs": [],
   "source": [
    "train_data.shape, type(train_data)"
   ]
  },
  {
   "cell_type": "code",
   "execution_count": null,
   "id": "0ed1188a-35ae-4381-8b19-f0e6d847afed",
   "metadata": {
    "scrolled": true
   },
   "outputs": [],
   "source": [
    "train_data"
   ]
  },
  {
   "cell_type": "code",
   "execution_count": null,
   "id": "902eae29-8e84-4d95-9f04-f38e2ed4e6f4",
   "metadata": {},
   "outputs": [],
   "source": [
    "# train_data = torch.tensor(train_data, dtype = torch.float32)\n",
    "test_data = torch.tensor(test_data, dtype = torch.float32)"
   ]
  },
  {
   "cell_type": "code",
   "execution_count": null,
   "id": "e9b92f13-df68-45dd-8fc9-09f1d4b88001",
   "metadata": {
    "executionInfo": {
     "elapsed": 3,
     "status": "ok",
     "timestamp": 1726195977529,
     "user": {
      "displayName": "Seongwoo Kim",
      "userId": "02088916196000214123"
     },
     "user_tz": -540
    },
    "id": "e9b92f13-df68-45dd-8fc9-09f1d4b88001"
   },
   "outputs": [],
   "source": [
    "scaler = MinMaxScaler()\n",
    "train_data = scaler.fit_transform(train_data)\n",
    "test_data = scaler.fit_transform(test_data)\n",
    "# autoencoder는 레이블이 필요없음\n",
    "# train_labels = scaler.fit_transform(train_labels)\n",
    "# test_labels = scaler.fit_transform(test_labels)"
   ]
  },
  {
   "cell_type": "code",
   "execution_count": null,
   "id": "1ea06198-e55d-417a-a6d4-3be12b2d8d1e",
   "metadata": {
    "colab": {
     "base_uri": "https://localhost:8080/"
    },
    "executionInfo": {
     "elapsed": 3,
     "status": "ok",
     "timestamp": 1726195977529,
     "user": {
      "displayName": "Seongwoo Kim",
      "userId": "02088916196000214123"
     },
     "user_tz": -540
    },
    "id": "1ea06198-e55d-417a-a6d4-3be12b2d8d1e",
    "outputId": "e9b27d0d-13a9-48b5-d1e1-84c19c78b044"
   },
   "outputs": [],
   "source": [
    "# Verify the dimensions\n",
    "print(f\"train_data shape: {train_data.shape}, {type(train_data)}\")\n",
    "print(f\"test_data shape: {test_data.shape}, {type(test_data)}\")"
   ]
  },
  {
   "cell_type": "code",
   "execution_count": null,
   "id": "b0cc24d6-0c69-43c7-83f7-dbe45b25a835",
   "metadata": {},
   "outputs": [],
   "source": [
    "train_data = torch.tensor(train_data, dtype= torch.float32)\n",
    "test_data = torch.tensor(test_data, dtype= torch.float32)\n",
    "train_data"
   ]
  },
  {
   "cell_type": "code",
   "execution_count": null,
   "id": "4cfb9b22-6756-4277-bc84-8d202703c23d",
   "metadata": {
    "executionInfo": {
     "elapsed": 3,
     "status": "ok",
     "timestamp": 1726195977529,
     "user": {
      "displayName": "Seongwoo Kim",
      "userId": "02088916196000214123"
     },
     "user_tz": -540
    },
    "id": "4cfb9b22-6756-4277-bc84-8d202703c23d"
   },
   "outputs": [],
   "source": [
    "# # 기준값 설정\n",
    "# threshold = 1\n",
    "\n",
    "# # 실수 값을 기준으로 boolean 마스크 생성\n",
    "# normal_train_mask = train_labels.squeeze() >= threshold  # 정상 데이터: 값이 1 이상\n",
    "# anomaly_train_mask = train_labels.squeeze() < threshold   # 비정상 데이터: 값이 1 미만\n",
    "\n",
    "# normal_test_mask = test_labels.squeeze() >= threshold\n",
    "# anomaly_test_mask = test_labels.squeeze() < threshold\n",
    "\n",
    "# # 데이터 구분\n",
    "# normal_train_data = train_data[normal_train_mask]\n",
    "# anomaly_train_data = train_data[anomaly_train_mask]\n",
    "\n",
    "# normal_test_data = test_data[normal_test_mask]\n",
    "# anomaly_test_data = test_data[anomaly_test_mask]"
   ]
  },
  {
   "cell_type": "code",
   "execution_count": null,
   "id": "d25fb590-c76b-40c4-b43e-f44b987f7476",
   "metadata": {
    "colab": {
     "base_uri": "https://localhost:8080/"
    },
    "executionInfo": {
     "elapsed": 2,
     "status": "ok",
     "timestamp": 1726195977529,
     "user": {
      "displayName": "Seongwoo Kim",
      "userId": "02088916196000214123"
     },
     "user_tz": -540
    },
    "id": "d25fb590-c76b-40c4-b43e-f44b987f7476",
    "outputId": "de68af11-ab03-4cd7-cc78-241f88f9745c"
   },
   "outputs": [],
   "source": [
    "# # Verify the dimensions\n",
    "# print(f\"normal_train_data shape: {normal_train_data.shape}\")\n",
    "# print(f\"normal_test_data shape: {normal_test_data.shape}\")\n",
    "# print(f\"anomaly_train_data shape: {anomaly_train_data.shape}\")\n",
    "# print(f\"anomaly_test_data shape: {anomaly_test_data.shape}\")"
   ]
  },
  {
   "cell_type": "code",
   "execution_count": null,
   "id": "a51fe8c2-de8e-4b4b-91d1-544a94f526b4",
   "metadata": {
    "colab": {
     "base_uri": "https://localhost:8080/",
     "height": 887
    },
    "executionInfo": {
     "elapsed": 1150,
     "status": "ok",
     "timestamp": 1726195982338,
     "user": {
      "displayName": "Seongwoo Kim",
      "userId": "02088916196000214123"
     },
     "user_tz": -540
    },
    "id": "a51fe8c2-de8e-4b4b-91d1-544a94f526b4",
    "outputId": "c69d2202-3fa0-49da-c1ba-a82ceff13665"
   },
   "outputs": [],
   "source": [
    "# # Plot data\n",
    "# plt.grid()\n",
    "# plt.plot(np.arange(38), normal_train_data[0])\n",
    "# plt.title(\"A Normal\")\n",
    "# plt.show()\n",
    "\n",
    "# plt.grid()\n",
    "# plt.plot(np.arange(38), anomaly_train_data[0])\n",
    "# plt.title(\"An Anomalous\")\n",
    "# plt.show()\n"
   ]
  },
  {
   "cell_type": "code",
   "execution_count": null,
   "id": "b98c22cf-6675-43af-99ea-75af3cd1ec50",
   "metadata": {
    "executionInfo": {
     "elapsed": 372,
     "status": "ok",
     "timestamp": 1726196000850,
     "user": {
      "displayName": "Seongwoo Kim",
      "userId": "02088916196000214123"
     },
     "user_tz": -540
    },
    "id": "b98c22cf-6675-43af-99ea-75af3cd1ec50"
   },
   "outputs": [],
   "source": [
    "import torch.nn as nn\n",
    "\n",
    "class AnomalyDetector(nn.Module):\n",
    "    def __init__(self):\n",
    "        super(AnomalyDetector, self).__init__()\n",
    "        self.encoder = nn.Sequential(\n",
    "            nn.Linear(38, 16),\n",
    "            nn.ReLU(),\n",
    "            nn.Linear(16, 4),\n",
    "            nn.ReLU(),\n",
    "            nn.Linear(4, 2),\n",
    "            nn.ReLU()\n",
    "        )\n",
    "\n",
    "        self.decoder = nn.Sequential(\n",
    "            nn.Linear(2, 4),\n",
    "            nn.ReLU(),\n",
    "            nn.Linear(4, 16),\n",
    "            nn.ReLU(),\n",
    "            nn.Linear(16, 38),\n",
    "            nn.Sigmoid()\n",
    "        )\n",
    "\n",
    "    def forward(self, x):\n",
    "        encoded = self.encoder(x)\n",
    "        decoded = self.decoder(encoded)\n",
    "        return decoded\n",
    "\n",
    "# Initialize model\n",
    "autoencoder = AnomalyDetector()"
   ]
  },
  {
   "cell_type": "code",
   "execution_count": null,
   "id": "eee88072-2ac6-430e-a704-c546774a33bb",
   "metadata": {
    "executionInfo": {
     "elapsed": 2332,
     "status": "ok",
     "timestamp": 1726196005095,
     "user": {
      "displayName": "Seongwoo Kim",
      "userId": "02088916196000214123"
     },
     "user_tz": -540
    },
    "id": "eee88072-2ac6-430e-a704-c546774a33bb"
   },
   "outputs": [],
   "source": [
    "# Loss function and optimizer\n",
    "criterion = nn.L1Loss()  # MAE in PyTorch\n",
    "optimizer = torch.optim.Adam(autoencoder.parameters(), lr=0.001)"
   ]
  },
  {
   "cell_type": "code",
   "execution_count": null,
   "id": "9mKAyIkVSyvC",
   "metadata": {
    "id": "9mKAyIkVSyvC"
   },
   "outputs": [],
   "source": [
    "autoencoder(train_data)"
   ]
  },
  {
   "cell_type": "code",
   "execution_count": null,
   "id": "FbTSDDNuTOmZ",
   "metadata": {
    "colab": {
     "base_uri": "https://localhost:8080/"
    },
    "executionInfo": {
     "elapsed": 378,
     "status": "ok",
     "timestamp": 1726196022815,
     "user": {
      "displayName": "Seongwoo Kim",
      "userId": "02088916196000214123"
     },
     "user_tz": -540
    },
    "id": "FbTSDDNuTOmZ",
    "outputId": "637a5444-867b-47e0-8418-ed7380a7db3a",
    "scrolled": true
   },
   "outputs": [],
   "source": [
    "# normal_train_data.shape"
   ]
  },
  {
   "cell_type": "code",
   "execution_count": 22,
   "id": "ce55a7c9-2cb3-43c9-ada9-9ea58ba3272e",
   "metadata": {
    "executionInfo": {
     "elapsed": 421,
     "status": "ok",
     "timestamp": 1726196127265,
     "user": {
      "displayName": "Seongwoo Kim",
      "userId": "02088916196000214123"
     },
     "user_tz": -540
    },
    "id": "ce55a7c9-2cb3-43c9-ada9-9ea58ba3272e"
   },
   "outputs": [],
   "source": [
    "# Training the autoencoder\n",
    "# num_epochs = 20\n",
    "# batch_size = 512\n",
    "\n",
    "# features_normal_train_data = torch.tensor(normal_train_data)\n",
    "# train_dataset = torch.utils.data.TensorDataset(features_normal_train_data, features_normal_train_data)\n",
    "# train_loader = torch.utils.data.DataLoader(train_dataset, batch_size=batch_size, shuffle=True)"
   ]
  },
  {
   "cell_type": "code",
   "execution_count": 23,
   "id": "vFiXHsdATqQO",
   "metadata": {
    "executionInfo": {
     "elapsed": 373,
     "status": "ok",
     "timestamp": 1726196176087,
     "user": {
      "displayName": "Seongwoo Kim",
      "userId": "02088916196000214123"
     },
     "user_tz": -540
    },
    "id": "vFiXHsdATqQO"
   },
   "outputs": [],
   "source": [
    "# features_test_dataset = torch.tensor(anomaly_train_data)\n",
    "# test_dataset = torch.utils.data.TensorDataset(features_test_dataset, features_test_dataset)\n",
    "# test_loader = torch.utils.data.DataLoader(test_dataset, batch_size=batch_size)"
   ]
  },
  {
   "cell_type": "code",
   "execution_count": 29,
   "id": "ad917b7f-4d53-42e6-b501-ada8c297f6b7",
   "metadata": {},
   "outputs": [],
   "source": [
    "train_dataset = TensorDataset(train_data)"
   ]
  },
  {
   "cell_type": "code",
   "execution_count": 30,
   "id": "c201c3a4-0711-45f6-a9c2-0d247aa2f6b8",
   "metadata": {},
   "outputs": [],
   "source": [
    "dataloader_train = DataLoader(train_dataset, batch_size = 512, shuffle = True)"
   ]
  },
  {
   "cell_type": "code",
   "execution_count": 37,
   "id": "836da125-2b39-4435-ba52-01dd8dc131f1",
   "metadata": {
    "collapsed": true,
    "jupyter": {
     "outputs_hidden": true
    },
    "scrolled": true
   },
   "outputs": [
    {
     "name": "stdout",
     "output_type": "stream",
     "text": [
      "tensor([[0.0044, 0.0019, 0.0057,  ..., 0.0164, 0.0115, 0.1179],\n",
      "        [0.0390, 0.0738, 0.0114,  ..., 0.0351, 0.0272, 0.0390],\n",
      "        [0.0590, 0.0693, 0.0139,  ..., 0.0972, 0.0342, 0.0542],\n",
      "        ...,\n",
      "        [0.0138, 0.0121, 0.0101,  ..., 0.0031, 0.0151, 0.0340],\n",
      "        [0.1824, 0.1979, 0.1891,  ..., 0.0526, 0.0790, 0.1607],\n",
      "        [0.4748, 0.5125, 0.4980,  ..., 0.1429, 0.1446, 0.3552]])\n",
      "tensor([[0.0024, 0.0014, 0.0056,  ..., 0.0193, 0.0336, 0.0565],\n",
      "        [0.0392, 0.0562, 0.0161,  ..., 0.0296, 0.0334, 0.1192],\n",
      "        [0.0604, 0.0328, 0.0098,  ..., 0.0268, 0.0157, 0.1714],\n",
      "        ...,\n",
      "        [0.0401, 0.0652, 0.0160,  ..., 0.0345, 0.0292, 0.1173],\n",
      "        [0.0125, 0.0025, 0.0096,  ..., 0.0286, 0.0244, 0.1423],\n",
      "        [0.0034, 0.0014, 0.0055,  ..., 0.0161, 0.0254, 0.0706]])\n",
      "tensor([[0.6555, 0.6420, 0.7401,  ..., 0.3340, 0.2153, 0.5303],\n",
      "        [0.5004, 0.3874, 0.4677,  ..., 0.1652, 0.1913, 0.2801],\n",
      "        [0.0666, 0.0498, 0.0485,  ..., 0.0465, 0.0731, 0.1083],\n",
      "        ...,\n",
      "        [0.0012, 0.0013, 0.0068,  ..., 0.0100, 0.0244, 0.0550],\n",
      "        [0.0287, 0.0492, 0.0140,  ..., 0.0240, 0.0459, 0.0494],\n",
      "        [0.0034, 0.0026, 0.0075,  ..., 0.0169, 0.0429, 0.0760]])\n",
      "tensor([[0.0603, 0.0582, 0.0497,  ..., 0.0322, 0.0398, 0.0889],\n",
      "        [0.6900, 0.7494, 0.7598,  ..., 0.5914, 0.4744, 1.0000],\n",
      "        [0.0025, 0.0014, 0.0028,  ..., 0.0113, 0.0332, 0.0613],\n",
      "        ...,\n",
      "        [0.0047, 0.0020, 0.0000,  ..., 0.0188, 0.0082, 0.0503],\n",
      "        [0.0145, 0.0036, 0.0072,  ..., 0.0296, 0.0518, 0.0668],\n",
      "        [0.0739, 0.0880, 0.0486,  ..., 0.0372, 0.0470, 0.1489]])\n"
     ]
    }
   ],
   "source": [
    "for i, x_batch in enumerate(dataloader_train):\n",
    "    print(x_batch[0])\n",
    "    if i >= 4:  # Stop after printing 5 batches (0 to 4)\n",
    "        break"
   ]
  },
  {
   "cell_type": "code",
   "execution_count": 42,
   "id": "EJGQPPVTTBfY",
   "metadata": {
    "colab": {
     "base_uri": "https://localhost:8080/",
     "height": 365
    },
    "executionInfo": {
     "elapsed": 389,
     "status": "error",
     "timestamp": 1726196179598,
     "user": {
      "displayName": "Seongwoo Kim",
      "userId": "02088916196000214123"
     },
     "user_tz": -540
    },
    "id": "EJGQPPVTTBfY",
    "outputId": "beaec4e7-9e6c-471c-ae4c-b13dfbca836e"
   },
   "outputs": [
    {
     "name": "stdout",
     "output_type": "stream",
     "text": [
      "Epoch [1/20], Loss: 0.23096254095435143\n",
      "Epoch [2/20], Loss: 0.22553099691867828\n",
      "Epoch [3/20], Loss: 0.21994507312774658\n",
      "Epoch [4/20], Loss: 0.21442070230841637\n",
      "Epoch [5/20], Loss: 0.20889650657773018\n",
      "Epoch [6/20], Loss: 0.20327284932136536\n",
      "Epoch [7/20], Loss: 0.19773338735103607\n",
      "Epoch [8/20], Loss: 0.19247481226921082\n",
      "Epoch [9/20], Loss: 0.18714895099401474\n",
      "Epoch [10/20], Loss: 0.18201838061213493\n",
      "Epoch [11/20], Loss: 0.17681122198700905\n",
      "Epoch [12/20], Loss: 0.17176448553800583\n",
      "Epoch [13/20], Loss: 0.16683697700500488\n",
      "Epoch [14/20], Loss: 0.16190806403756142\n",
      "Epoch [15/20], Loss: 0.1571967974305153\n",
      "Epoch [16/20], Loss: 0.152430709451437\n",
      "Epoch [17/20], Loss: 0.14790873229503632\n",
      "Epoch [18/20], Loss: 0.14357347041368484\n",
      "Epoch [19/20], Loss: 0.1393408440053463\n",
      "Epoch [20/20], Loss: 0.13512801751494408\n"
     ]
    }
   ],
   "source": [
    "num_epochs = 20\n",
    "\n",
    "for epoch in range(num_epochs):\n",
    "    autoencoder.train()\n",
    "    running_loss = 0.0\n",
    "    for x_batch in dataloader_train:\n",
    "        # inputs = x_batch\n",
    "        outputs = autoencoder(x_batch[0])\n",
    "        loss = criterion(outputs, x_batch[0])\n",
    "        optimizer.zero_grad()\n",
    "        loss.backward()\n",
    "        optimizer.step()\n",
    "        running_loss += loss.item()\n",
    "\n",
    "    print(f\"Epoch [{epoch+1}/{num_epochs}], Loss: {running_loss/len(dataloader_train)}\")\n"
   ]
  },
  {
   "cell_type": "code",
   "execution_count": 17,
   "id": "ca59a0e2-f8d2-4db7-93a5-8ffd45e38784",
   "metadata": {
    "colab": {
     "base_uri": "https://localhost:8080/",
     "height": 198
    },
    "executionInfo": {
     "elapsed": 381,
     "status": "error",
     "timestamp": 1726195945207,
     "user": {
      "displayName": "Seongwoo Kim",
      "userId": "02088916196000214123"
     },
     "user_tz": -540
    },
    "id": "ca59a0e2-f8d2-4db7-93a5-8ffd45e38784",
    "outputId": "7a540fd2-0b2b-4262-9fae-c77425d343b8"
   },
   "outputs": [
    {
     "ename": "NameError",
     "evalue": "name 'train_loader' is not defined",
     "output_type": "error",
     "traceback": [
      "\u001b[0;31m---------------------------------------------------------------------------\u001b[0m",
      "\u001b[0;31mNameError\u001b[0m                                 Traceback (most recent call last)",
      "\u001b[0;32m<ipython-input-17-af7dbb677e5b>\u001b[0m in \u001b[0;36m<cell line: 1>\u001b[0;34m()\u001b[0m\n\u001b[0;32m----> 1\u001b[0;31m \u001b[0;32mfor\u001b[0m \u001b[0mX_train\u001b[0m\u001b[0;34m,\u001b[0m \u001b[0my_label\u001b[0m \u001b[0;32min\u001b[0m \u001b[0mtrain_loader\u001b[0m\u001b[0;34m:\u001b[0m\u001b[0;34m\u001b[0m\u001b[0;34m\u001b[0m\u001b[0m\n\u001b[0m\u001b[1;32m      2\u001b[0m   \u001b[0mprint\u001b[0m\u001b[0;34m(\u001b[0m\u001b[0mX_train\u001b[0m\u001b[0;34m.\u001b[0m\u001b[0mshape\u001b[0m\u001b[0;34m)\u001b[0m\u001b[0;34m\u001b[0m\u001b[0;34m\u001b[0m\u001b[0m\n\u001b[1;32m      3\u001b[0m   \u001b[0mprint\u001b[0m\u001b[0;34m(\u001b[0m\u001b[0my_label\u001b[0m\u001b[0;34m.\u001b[0m\u001b[0mshape\u001b[0m\u001b[0;34m)\u001b[0m\u001b[0;34m\u001b[0m\u001b[0;34m\u001b[0m\u001b[0m\n\u001b[1;32m      4\u001b[0m   \u001b[0;32mbreak\u001b[0m\u001b[0;34m\u001b[0m\u001b[0;34m\u001b[0m\u001b[0m\n",
      "\u001b[0;31mNameError\u001b[0m: name 'train_loader' is not defined"
     ]
    }
   ],
   "source": [
    "for X_train, y_label in train_loader:\n",
    "  print(X_train.shape)\n",
    "  print(y_label.shape)\n",
    "  break"
   ]
  },
  {
   "cell_type": "code",
   "execution_count": null,
   "id": "SDewpAclS8tZ",
   "metadata": {
    "id": "SDewpAclS8tZ"
   },
   "outputs": [],
   "source": []
  }
 ],
 "metadata": {
  "colab": {
   "provenance": []
  },
  "kernelspec": {
   "display_name": "Python 3 (ipykernel)",
   "language": "python",
   "name": "python3"
  },
  "language_info": {
   "codemirror_mode": {
    "name": "ipython",
    "version": 3
   },
   "file_extension": ".py",
   "mimetype": "text/x-python",
   "name": "python",
   "nbconvert_exporter": "python",
   "pygments_lexer": "ipython3",
   "version": "3.12.4"
  }
 },
 "nbformat": 4,
 "nbformat_minor": 5
}
