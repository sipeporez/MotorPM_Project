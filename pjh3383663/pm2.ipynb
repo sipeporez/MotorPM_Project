{
 "cells": [
  {
   "cell_type": "code",
   "execution_count": 1,
   "id": "0b018595-cf19-4b76-989e-230c1e4c7be3",
   "metadata": {},
   "outputs": [],
   "source": [
    "import pandas as pd\n",
    "import numpy as np\n",
    "import matplotlib\n",
    "import matplotlib.pyplot as plt\n",
    "\n",
    "#wavedata 파형분석"
   ]
  },
  {
   "cell_type": "code",
   "execution_count": null,
   "id": "f375b234-87d9-41f3-99c6-fd7a768e1cc0",
   "metadata": {},
   "outputs": [],
   "source": [
    "data_dir = \"data/PdM/\"\n",
    "\n",
    "df_mst = pd.read_csv(data_dir + \"ics_asset_mst.csv\", na_values='\\\\N')\n",
    "df_sigdata = pd.read_csv(data_dir + \"ics_asset_sigdata.csv\", na_values='\\\\N')\n",
    "df_status_hist = pd.read_csv(data_dir + \"ics_asset_status_hist.csv\", na_values='\\\\N')\n",
    "df_wavedata = pd.read_csv(data_dir + \"ics_asset_wavedata.csv\")\n",
    "\n",
    "df_mst.columns = ['ASSET_ID', 'ASSET_NAME', 'SENSOR_NUMBER']\n",
    "df_sigdata.columns = ['asset_id', 'created_at',\t'temperature', 'voltage',\n",
    "                      'rms_x', 'rms_y', 'rms_z', 'rms_xyz', 'vel_rms_x', 'vel_rms_y', 'vel_rms_z', 'vel_rms_xyz',\n",
    "                      'skewness_x', 'skewness_y', 'skewness_z', 'vel_skewness_x', 'vel_skewness_y', 'vel_skewness_z',\n",
    "                      'kurtosis_x', 'kurtosis_y', 'kurtosis_z', 'vel_kurtosis_x', 'vel_kurtosis_y', 'vel_kurtosis_z',\n",
    "                      'crest_factor_x', 'crest_factor_y', 'crest_factor_z', 'vel_crest_factor_x', 'vel_crest_factor_y', 'vel_crest_factor_z',\n",
    "                      'peak_x', 'peak_y', 'peak_z', 'vel_peak_x', 'vel_peak_y', 'vel_peak_z',\n",
    "                      'peak2peak_x', 'peak2peak_y', 'peak2peak_z', 'vel_peak2peak_x', 'vel_peak2peak_y', 'vel_peak2peak_z']\n",
    "df_status_hist.columns = ['asset_id', 'time', 'imbalance_health', 'misalignment_health', 'looseness_health', 'bearing_health', 'asset_health', 'CRT_DT']"
   ]
  },
  {
   "cell_type": "code",
   "execution_count": null,
   "id": "5cdd387a-f824-485a-8d16-f08552a2bc6c",
   "metadata": {},
   "outputs": [],
   "source": [
    "df_sigdata.describe()"
   ]
  },
  {
   "cell_type": "code",
   "execution_count": null,
   "id": "057265a8-70f8-433f-ac33-35d8747fd53e",
   "metadata": {},
   "outputs": [],
   "source": [
    "# 확인할 그래프 날짜 시간 설정\n",
    "date_str = \"2024-02-06 00:00\"\n",
    "timestamp = pd.Timestamp(date_str)\n",
    "unix_time = timestamp.timestamp() - 32400\n",
    "\n",
    "date_str2 = \"2024-02-07 00:00\"\n",
    "timestamp2 = pd.Timestamp(date_str2)\n",
    "unix_time2 = timestamp2.timestamp() - 32400"
   ]
  },
  {
   "cell_type": "code",
   "execution_count": null,
   "id": "af93e405-5c7f-47b9-8b96-eeda80474278",
   "metadata": {},
   "outputs": [],
   "source": [
    "# 시간으로 데이터 필터링\n",
    "filtered_df = df_wavedata[(df_wavedata['created_at'] >= unix_time) & (df_wavedata['created_at'] <= unix_time+86400)]\n",
    "filtered_df2 = df_wavedata[(df_wavedata['created_at'] >= unix_time2) & (df_wavedata['created_at'] <= unix_time2+86400)]"
   ]
  },
  {
   "cell_type": "code",
   "execution_count": null,
   "id": "5e95a494-aa55-4ab8-af6d-62b2d3708c4c",
   "metadata": {},
   "outputs": [],
   "source": [
    "# 모터 id로 데이터 필터링\n",
    "moter_id = \"55285839-9b78-48d8-9f4e-573190ace016\"\n",
    "df = filtered_df[filtered_df['asset_id'] == moter_id]\n",
    "df2 = filtered_df2[filtered_df2['asset_id'] == moter_id]"
   ]
  },
  {
   "cell_type": "code",
   "execution_count": null,
   "id": "4050c0f9-726f-4482-bd05-c8ec3a2b5b57",
   "metadata": {},
   "outputs": [],
   "source": [
    "# 진폭 데이터 뽑아서 float 리스트로 넣기\n",
    "def convert_to_float_list(string):\n",
    "    return [float(x) for x in string.split(',')]\n",
    "    \n",
    "df_combined = pd.DataFrame({\n",
    "    'spectrum_x_amp': df['spectrum_x_amp'].apply(convert_to_float_list),\n",
    "    'spectrum_y_amp': df['spectrum_y_amp'].apply(convert_to_float_list),\n",
    "    'spectrum_z_amp': df['spectrum_z_amp'].apply(convert_to_float_list)\n",
    "})\n",
    "\n",
    "df_combined2 = pd.DataFrame({\n",
    "    'spectrum_x_amp': df2['spectrum_x_amp'].apply(convert_to_float_list),\n",
    "    'spectrum_y_amp': df2['spectrum_y_amp'].apply(convert_to_float_list),\n",
    "    'spectrum_z_amp': df2['spectrum_z_amp'].apply(convert_to_float_list)\n",
    "})"
   ]
  },
  {
   "cell_type": "code",
   "execution_count": null,
   "id": "cb473179-b5db-4fdf-9278-d4500df1f53c",
   "metadata": {},
   "outputs": [],
   "source": [
    "df2"
   ]
  },
  {
   "cell_type": "code",
   "execution_count": null,
   "id": "7af1bfce-e166-4d37-9835-9e934d217b1e",
   "metadata": {
    "scrolled": true
   },
   "outputs": [],
   "source": [
    "# 2시간으로 단위로 분리된 하루치 데이터 넣기\n",
    "df_x = np.empty(0)\n",
    "df_y = np.empty(0)\n",
    "df_z = np.empty(0)\n",
    "\n",
    "for i in range(12):\n",
    "    df_x = np.append(df_x, df_combined.loc[df_combined.index[0]+i].spectrum_x_amp)\n",
    "    df_y = np.append(df_y, df_combined.loc[df_combined.index[0]+i].spectrum_y_amp)\n",
    "    df_z = np.append(df_z, df_combined.loc[df_combined.index[0]+i].spectrum_z_amp)\n",
    "    \n",
    "df_new = pd.DataFrame({'spectrum_x_amp': df_x, 'spectrum_y_amp': df_y, 'spectrum_z_amp': df_z})\n",
    "\n",
    "df_x = np.empty(0)\n",
    "df_y = np.empty(0)\n",
    "df_z = np.empty(0)\n",
    "\n",
    "for i in range(12):\n",
    "    df_x = np.append(df_x, df_combined2.loc[df_combined2.index[0]+i].spectrum_x_amp)\n",
    "    df_y = np.append(df_y, df_combined2.loc[df_combined2.index[0]+i].spectrum_y_amp)\n",
    "    df_z = np.append(df_z, df_combined2.loc[df_combined2.index[0]+i].spectrum_z_amp)\n",
    "    \n",
    "df_new2 = pd.DataFrame({'spectrum_x_amp': df_x, 'spectrum_y_amp': df_y, 'spectrum_z_amp': df_z})\n",
    "\n",
    "print(df_new)\n",
    "print(df_new2)"
   ]
  },
  {
   "cell_type": "code",
   "execution_count": null,
   "id": "cf05d1ef-a8a6-43be-a0c8-fda30aaed87d",
   "metadata": {
    "scrolled": true
   },
   "outputs": [],
   "source": [
    "# 인덱스를 3.514배수로\n",
    "new_index = [unix_time + i*3.514 for i in range(len(df_new))]\n",
    "new_index = np.round(new_index).astype(int)\n",
    "\n",
    "new_index2 = [unix_time2 + i*3.514 for i in range(len(df_new))]\n",
    "new_index2 = np.round(new_index2).astype(int)\n",
    "\n",
    "df_new.index = new_index\n",
    "df_new2.index = new_index2\n",
    "print(df_new)\n",
    "print(df_new2)"
   ]
  },
  {
   "cell_type": "code",
   "execution_count": null,
   "id": "4982f5a4-87ec-4ba2-8cd3-2545d1f8f37a",
   "metadata": {},
   "outputs": [],
   "source": [
    "# 온도 전압 추가"
   ]
  },
  {
   "cell_type": "code",
   "execution_count": null,
   "id": "4c8bca94-50f8-4baf-aecc-cad34b9dab0b",
   "metadata": {
    "scrolled": true
   },
   "outputs": [],
   "source": [
    "df_sigdata"
   ]
  },
  {
   "cell_type": "code",
   "execution_count": null,
   "id": "5071909d-c8c5-498d-9dc9-6df071c444bb",
   "metadata": {},
   "outputs": [],
   "source": [
    "# 시간으로 데이터 필터링\n",
    "tv_df = df_sigdata[(df_sigdata['created_at'] >= unix_time) & (df_sigdata['created_at'] <= unix_time+86400)]\n",
    "tv_df2 = df_sigdata[(df_sigdata['created_at'] >= unix_time2) & (df_sigdata['created_at'] <= unix_time2+86400)]"
   ]
  },
  {
   "cell_type": "code",
   "execution_count": null,
   "id": "e50f1889-676a-4cd7-961f-e2def7e16e29",
   "metadata": {
    "scrolled": true
   },
   "outputs": [],
   "source": [
    "# 모터 id로 데이터 필터링\n",
    "tv_df = tv_df[tv_df['asset_id'] == moter_id]\n",
    "tv_df2 = tv_df2[tv_df2['asset_id'] == moter_id]"
   ]
  },
  {
   "cell_type": "code",
   "execution_count": null,
   "id": "8d203ae3-acdf-4d5c-bbe2-34c932d90df0",
   "metadata": {},
   "outputs": [],
   "source": [
    "# temperature, voltage, created_at만 추출\n",
    "tv_df = tv_df[['temperature', 'voltage', 'created_at']].reset_index(drop=True)\n",
    "tv_df2 = tv_df2[['temperature', 'voltage', 'created_at']].reset_index(drop=True)\n",
    "print(tv_df)\n",
    "print(tv_df2)"
   ]
  },
  {
   "cell_type": "code",
   "execution_count": null,
   "id": "2a579f24-ceff-40f8-8b29-086156d4796c",
   "metadata": {
    "editable": true,
    "slideshow": {
     "slide_type": ""
    },
    "tags": []
   },
   "outputs": [],
   "source": [
    "# 인덱스 재설정\n",
    "tv_df = tv_df.set_index('created_at')\n",
    "tv_df2 = tv_df2.set_index('created_at')\n",
    "\n",
    "print(tv_df)\n",
    "print(tv_df2)"
   ]
  },
  {
   "cell_type": "code",
   "execution_count": null,
   "id": "057855e9-0eec-47be-91d6-07985b94344c",
   "metadata": {
    "scrolled": true
   },
   "outputs": [],
   "source": [
    "# 인덱스에 맞춰서 columns 추가\n",
    "df_new.index = df_new.index.astype('int64')\n",
    "df_new2.index = df_new2.index.astype('int64')\n",
    "\n",
    "df_new = pd.merge_asof(df_new, tv_df, left_index=True, right_index=True, direction='nearest')\n",
    "df_new2 = pd.merge_asof(df_new2, tv_df2, left_index=True, right_index=True, direction='nearest')\n",
    "\n",
    "print(df_new)\n",
    "print(df_new2)"
   ]
  },
  {
   "cell_type": "code",
   "execution_count": null,
   "id": "c68326db-f1b8-4e66-ba56-52dfc9e8119e",
   "metadata": {},
   "outputs": [],
   "source": [
    "fig, axes = plt.subplots(1, 2, figsize=(15, 5))\n",
    "\n",
    "ax1 = axes[0]\n",
    "ax1.plot(df_new['spectrum_x_amp'], label='spectrum_x_amp', alpha=0.8)\n",
    "ax1.plot(df_new['spectrum_y_amp'], label='spectrum_y_amp', alpha=0.8)\n",
    "ax1.plot(df_new['spectrum_z_amp'], label='spectrum_z_amp', alpha=0.8)\n",
    "ax1.set_title('Waveform data visualization 1')\n",
    "ax1.set_ylim([0, 0.1])\n",
    "ax1.set_xlabel('Sample index')\n",
    "ax1.set_ylabel('Amplitude')\n",
    "ax1.legend(loc='upper left')\n",
    "ax1.grid(True)\n",
    "\n",
    "# 온도와 전압을 오른쪽 y축에 추가\n",
    "ax1_temp = ax1.twinx()\n",
    "ax1_temp.plot(df_new['temperature'], 'r--', label='Temperature', alpha=0.7)\n",
    "ax1_temp.set_ylabel('Temperature (°C)', color='r')\n",
    "ax1_temp.tick_params(axis='y', labelcolor='r')\n",
    "ax1_temp.set_ylim([4, 50])\n",
    "\n",
    "ax1_voltage = ax1.twinx()\n",
    "ax1_voltage.spines['right'].set_position(('outward', 60))  # 오른쪽 y축을 조금 더 떨어뜨리기\n",
    "ax1_voltage.plot(df_new['voltage'], 'g--', label='Voltage', alpha=0.7)\n",
    "ax1_voltage.set_ylabel('Voltage (V)', color='g')\n",
    "ax1_voltage.tick_params(axis='y', labelcolor='g')\n",
    "ax1_voltage.set_ylim([2.485840, 3.261790])\n",
    "\n",
    "\n",
    "# 두 번째 서브플롯\n",
    "ax2 = axes[1]\n",
    "ax2.plot(df_new2['spectrum_x_amp'], label='spectrum_x_amp', alpha=0.8)\n",
    "ax2.plot(df_new2['spectrum_y_amp'], label='spectrum_y_amp', alpha=0.8)\n",
    "ax2.plot(df_new2['spectrum_z_amp'], label='spectrum_z_amp', alpha=0.8)\n",
    "ax2.set_title('Waveform data visualization 2')\n",
    "ax2.set_ylim([0, 0.1])\n",
    "ax2.set_xlabel('Sample index')\n",
    "ax2.set_ylabel('Amplitude')\n",
    "ax2.legend(loc='upper left')\n",
    "ax2.grid(True)\n",
    "\n",
    "# 온도와 전압을 오른쪽 y축에 추가\n",
    "ax2_temp = ax2.twinx()\n",
    "ax2_temp.plot(df_new2['temperature'], 'r--', label='Temperature', alpha=0.7)\n",
    "ax2_temp.set_ylabel('Temperature (°C)', color='r')\n",
    "ax2_temp.tick_params(axis='y', labelcolor='r')\n",
    "ax2_temp.set_ylim([4, 50])\n",
    "\n",
    "ax2_voltage = ax2.twinx()\n",
    "ax2_voltage.spines['right'].set_position(('outward', 60))  # 오른쪽 y축을 조금 더 떨어뜨리기\n",
    "ax2_voltage.plot(df_new2['voltage'], 'g--', label='Voltage', alpha=0.7)\n",
    "ax2_voltage.set_ylabel('Voltage (V)', color='g')\n",
    "ax2_voltage.tick_params(axis='y', labelcolor='g')\n",
    "ax2_voltage.set_ylim([2.485840, 3.261790])\n",
    "\n",
    "# 레이아웃 조정 및 표시\n",
    "plt.tight_layout()\n",
    "plt.show()"
   ]
  },
  {
   "cell_type": "code",
   "execution_count": null,
   "id": "b67a97af-c246-4e30-8251-b26df4fda470",
   "metadata": {},
   "outputs": [],
   "source": [
    "fig, axes = plt.subplots(1, 2, figsize=(15, 5))\n",
    "\n",
    "axes[0].boxplot([df_new['spectrum_x_amp'], df_new['spectrum_y_amp'], df_new['spectrum_z_amp']],\n",
    "                labels=['spectrum_x_amp', 'spectrum_y_amp', 'spectrum_z_amp'])\n",
    "axes[0].set_title('Box Plot 1')\n",
    "axes[0].set_ylabel('amplitude')\n",
    "axes[0].set_ylim([0, 0.1])\n",
    "axes[0].grid(True)\n",
    "\n",
    "axes[1].boxplot([df_new2['spectrum_x_amp'], df_new2['spectrum_y_amp'], df_new2['spectrum_z_amp']],\n",
    "                labels=['spectrum_x_amp', 'spectrum_y_amp', 'spectrum_z_amp'])\n",
    "axes[1].set_title('Box Plot 2')\n",
    "axes[1].set_ylabel('amplitude')\n",
    "axes[1].set_ylim([0, 0.1])\n",
    "axes[1].grid(True)\n",
    "\n",
    "plt.tight_layout()\n",
    "plt.show()"
   ]
  },
  {
   "cell_type": "code",
   "execution_count": null,
   "id": "ac583c1a-da56-427a-8f5a-d0e6165f7438",
   "metadata": {},
   "outputs": [],
   "source": []
  },
  {
   "cell_type": "code",
   "execution_count": null,
   "id": "e0915752-23ed-4838-9bda-537d86ef3b07",
   "metadata": {},
   "outputs": [],
   "source": []
  }
 ],
 "metadata": {
  "kernelspec": {
   "display_name": "Python 3 (ipykernel)",
   "language": "python",
   "name": "python3"
  },
  "language_info": {
   "codemirror_mode": {
    "name": "ipython",
    "version": 3
   },
   "file_extension": ".py",
   "mimetype": "text/x-python",
   "name": "python",
   "nbconvert_exporter": "python",
   "pygments_lexer": "ipython3",
   "version": "3.8.19"
  }
 },
 "nbformat": 4,
 "nbformat_minor": 5
}
