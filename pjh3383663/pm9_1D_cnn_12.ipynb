{
 "cells": [
  {
   "cell_type": "code",
   "execution_count": 1,
   "id": "6449c2f9-aa17-4fc8-817d-006e84022d75",
   "metadata": {},
   "outputs": [],
   "source": [
    "import numpy as np\n",
    "import pandas as pd\n",
    "from sklearn.preprocessing import StandardScaler\n",
    "from sklearn.cluster import KMeans\n",
    "from tensorflow.keras.models import Sequential\n",
    "from tensorflow.keras.layers import Conv1D, MaxPooling1D, GlobalAveragePooling1D, Dense, Flatten\n",
    "from sklearn.model_selection import train_test_split"
   ]
  },
  {
   "cell_type": "code",
   "execution_count": 2,
   "id": "d48c9657-575a-440a-90b7-c4a468770094",
   "metadata": {},
   "outputs": [],
   "source": [
    "# 1. 데이터 로드 및 전처리\n",
    "# rms_x, rms_y, ..., vel_peak2peak_z 38개 피처\n",
    "# 타임스텝마다 데이터가 있다고 가정\n",
    "\n",
    "df = pd.read_csv('data/PdM/total.csv') # 데이터 로드"
   ]
  },
  {
   "cell_type": "code",
   "execution_count": 3,
   "id": "83c7ea01-bf85-4acf-b668-56fed036de33",
   "metadata": {},
   "outputs": [],
   "source": [
    "df = df.groupby(['asset_id', 'time'])[['rms_x', 'rms_y', 'rms_z', 'rms_xyz', 'vel_rms_x', 'vel_rms_y', 'vel_rms_z', 'vel_rms_xyz',\n",
    "                      'skewness_x', 'skewness_y', 'skewness_z', 'vel_skewness_x', 'vel_skewness_y', 'vel_skewness_z',\n",
    "                      'kurtosis_x', 'kurtosis_y', 'kurtosis_z', 'vel_kurtosis_x', 'vel_kurtosis_y', 'vel_kurtosis_z',\n",
    "                      'crest_factor_x', 'crest_factor_y', 'crest_factor_z', 'vel_crest_factor_x', 'vel_crest_factor_y', 'vel_crest_factor_z',\n",
    "                      'peak_x', 'peak_y', 'peak_z', 'vel_peak_x', 'vel_peak_y', 'vel_peak_z',\n",
    "                      'peak2peak_x', 'peak2peak_y', 'peak2peak_z', 'vel_peak2peak_x', 'vel_peak2peak_y', 'vel_peak2peak_z', 'imbalance_health']].mean().reset_index()"
   ]
  },
  {
   "cell_type": "code",
   "execution_count": 4,
   "id": "a5882e12-48fb-4cb7-9e2f-6fe7be66a12b",
   "metadata": {},
   "outputs": [],
   "source": [
    "# 1. 데이터 로드 및 전처리\n",
    "# rms_x, rms_y, ..., vel_peak2peak_z 38개 피처\n",
    "# 타임스텝마다 데이터가 있다고 가정\n",
    "\n",
    "\n",
    "X = df.iloc[:, 2:40].values  # 피처만 추출\n",
    "y = df.iloc[:, 40:41].values # imbalance\n",
    "#y = np.where(np.isnan(y), 1, y) # nan을 0(비정상)으로\n",
    "y = np.where(y != 1, 0, 1) \n",
    "\n",
    "# 피처 스케일링\n",
    "scaler = StandardScaler()\n",
    "X_scaled = scaler.fit_transform(X)"
   ]
  },
  {
   "cell_type": "code",
   "execution_count": 5,
   "id": "0eb52fcb-5194-4a7d-93a1-e2822d36e9fc",
   "metadata": {},
   "outputs": [],
   "source": [
    "# 2. 훈련 및 테스트 데이터 분할\n",
    "X_train, X_test, y_train, y_test = train_test_split(X_scaled, y, test_size=0.2, random_state=42)"
   ]
  },
  {
   "cell_type": "code",
   "execution_count": 6,
   "id": "a113f0a8-2ee8-42a5-a6e8-1763fccb5548",
   "metadata": {},
   "outputs": [],
   "source": [
    "# 3. 1D-CNN 모델 구축\n",
    "model = Sequential()\n",
    "model.add(Conv1D(filters=64, kernel_size=3, activation='relu', input_shape=(X_train.shape[1], 1)))\n",
    "model.add(MaxPooling1D(pool_size=2))\n",
    "model.add(Flatten())\n",
    "model.add(Dense(32, activation='relu'))\n",
    "model.add(Dense(1, activation='sigmoid'))  # 이진 분류\n",
    "\n",
    "model.compile(optimizer='adam', loss='binary_crossentropy', metrics=['accuracy'])"
   ]
  },
  {
   "cell_type": "code",
   "execution_count": 7,
   "id": "14195a99-5491-4284-bb63-f40e1ea57ea0",
   "metadata": {
    "scrolled": true
   },
   "outputs": [
    {
     "name": "stdout",
     "output_type": "stream",
     "text": [
      "Epoch 1/50\n",
      "179/179 [==============================] - 1s 2ms/step - loss: 0.1347 - accuracy: 0.9741 - val_loss: 0.1071 - val_accuracy: 0.9742\n",
      "Epoch 2/50\n",
      "179/179 [==============================] - 0s 2ms/step - loss: 0.1042 - accuracy: 0.9752 - val_loss: 0.1020 - val_accuracy: 0.9742\n",
      "Epoch 3/50\n",
      "179/179 [==============================] - 0s 2ms/step - loss: 0.0957 - accuracy: 0.9752 - val_loss: 0.1001 - val_accuracy: 0.9742\n",
      "Epoch 4/50\n",
      "179/179 [==============================] - 0s 2ms/step - loss: 0.0909 - accuracy: 0.9752 - val_loss: 0.0939 - val_accuracy: 0.9742\n",
      "Epoch 5/50\n",
      "179/179 [==============================] - 0s 2ms/step - loss: 0.0891 - accuracy: 0.9752 - val_loss: 0.0864 - val_accuracy: 0.9742\n",
      "Epoch 6/50\n",
      "179/179 [==============================] - 0s 2ms/step - loss: 0.0864 - accuracy: 0.9752 - val_loss: 0.0876 - val_accuracy: 0.9742\n",
      "Epoch 7/50\n",
      "179/179 [==============================] - 0s 2ms/step - loss: 0.0852 - accuracy: 0.9752 - val_loss: 0.0841 - val_accuracy: 0.9742\n",
      "Epoch 8/50\n",
      "179/179 [==============================] - 0s 2ms/step - loss: 0.0852 - accuracy: 0.9752 - val_loss: 0.0829 - val_accuracy: 0.9742\n",
      "Epoch 9/50\n",
      "179/179 [==============================] - 0s 2ms/step - loss: 0.0823 - accuracy: 0.9752 - val_loss: 0.0827 - val_accuracy: 0.9742\n",
      "Epoch 10/50\n",
      "179/179 [==============================] - 0s 2ms/step - loss: 0.0803 - accuracy: 0.9752 - val_loss: 0.0793 - val_accuracy: 0.9742\n",
      "Epoch 11/50\n",
      "179/179 [==============================] - 0s 2ms/step - loss: 0.0796 - accuracy: 0.9752 - val_loss: 0.0795 - val_accuracy: 0.9742\n",
      "Epoch 12/50\n",
      "179/179 [==============================] - 0s 2ms/step - loss: 0.0772 - accuracy: 0.9752 - val_loss: 0.0836 - val_accuracy: 0.9742\n",
      "Epoch 13/50\n",
      "179/179 [==============================] - 0s 2ms/step - loss: 0.0769 - accuracy: 0.9752 - val_loss: 0.0780 - val_accuracy: 0.9742\n",
      "Epoch 14/50\n",
      "179/179 [==============================] - 0s 2ms/step - loss: 0.0754 - accuracy: 0.9752 - val_loss: 0.0768 - val_accuracy: 0.9742\n",
      "Epoch 15/50\n",
      "179/179 [==============================] - 0s 2ms/step - loss: 0.0746 - accuracy: 0.9752 - val_loss: 0.0736 - val_accuracy: 0.9742\n",
      "Epoch 16/50\n",
      "179/179 [==============================] - 0s 2ms/step - loss: 0.0721 - accuracy: 0.9752 - val_loss: 0.0774 - val_accuracy: 0.9742\n",
      "Epoch 17/50\n",
      "179/179 [==============================] - 0s 2ms/step - loss: 0.0728 - accuracy: 0.9752 - val_loss: 0.0856 - val_accuracy: 0.9742\n",
      "Epoch 18/50\n",
      "179/179 [==============================] - 0s 2ms/step - loss: 0.0704 - accuracy: 0.9752 - val_loss: 0.0756 - val_accuracy: 0.9742\n",
      "Epoch 19/50\n",
      "179/179 [==============================] - 0s 2ms/step - loss: 0.0701 - accuracy: 0.9778 - val_loss: 0.0727 - val_accuracy: 0.9735\n",
      "Epoch 20/50\n",
      "179/179 [==============================] - 0s 2ms/step - loss: 0.0696 - accuracy: 0.9754 - val_loss: 0.0743 - val_accuracy: 0.9742\n",
      "Epoch 21/50\n",
      "179/179 [==============================] - 0s 2ms/step - loss: 0.0695 - accuracy: 0.9754 - val_loss: 0.0746 - val_accuracy: 0.9742\n",
      "Epoch 22/50\n",
      "179/179 [==============================] - 0s 2ms/step - loss: 0.0681 - accuracy: 0.9761 - val_loss: 0.0710 - val_accuracy: 0.9742\n",
      "Epoch 23/50\n",
      "179/179 [==============================] - 0s 2ms/step - loss: 0.0675 - accuracy: 0.9755 - val_loss: 0.0706 - val_accuracy: 0.9756\n",
      "Epoch 24/50\n",
      "179/179 [==============================] - 0s 2ms/step - loss: 0.0660 - accuracy: 0.9769 - val_loss: 0.0773 - val_accuracy: 0.9742\n",
      "Epoch 25/50\n",
      "179/179 [==============================] - 0s 2ms/step - loss: 0.0659 - accuracy: 0.9768 - val_loss: 0.0686 - val_accuracy: 0.9756\n",
      "Epoch 26/50\n",
      "179/179 [==============================] - 0s 2ms/step - loss: 0.0644 - accuracy: 0.9775 - val_loss: 0.0690 - val_accuracy: 0.9763\n",
      "Epoch 27/50\n",
      "179/179 [==============================] - 0s 2ms/step - loss: 0.0634 - accuracy: 0.9769 - val_loss: 0.0798 - val_accuracy: 0.9756\n",
      "Epoch 28/50\n",
      "179/179 [==============================] - 0s 2ms/step - loss: 0.0655 - accuracy: 0.9759 - val_loss: 0.0725 - val_accuracy: 0.9756\n",
      "Epoch 29/50\n",
      "179/179 [==============================] - 0s 2ms/step - loss: 0.0627 - accuracy: 0.9766 - val_loss: 0.0707 - val_accuracy: 0.9763\n",
      "Epoch 30/50\n",
      "179/179 [==============================] - 0s 2ms/step - loss: 0.0608 - accuracy: 0.9785 - val_loss: 0.0701 - val_accuracy: 0.9763\n",
      "Epoch 31/50\n",
      "179/179 [==============================] - 0s 2ms/step - loss: 0.0612 - accuracy: 0.9783 - val_loss: 0.0695 - val_accuracy: 0.9770\n",
      "Epoch 32/50\n",
      "179/179 [==============================] - 0s 2ms/step - loss: 0.0604 - accuracy: 0.9775 - val_loss: 0.0755 - val_accuracy: 0.9756\n",
      "Epoch 33/50\n",
      "179/179 [==============================] - 0s 2ms/step - loss: 0.0605 - accuracy: 0.9783 - val_loss: 0.0713 - val_accuracy: 0.9742\n",
      "Epoch 34/50\n",
      "179/179 [==============================] - 0s 2ms/step - loss: 0.0586 - accuracy: 0.9789 - val_loss: 0.0821 - val_accuracy: 0.9756\n",
      "Epoch 35/50\n",
      "179/179 [==============================] - 0s 2ms/step - loss: 0.0587 - accuracy: 0.9785 - val_loss: 0.0740 - val_accuracy: 0.9742\n",
      "Epoch 36/50\n",
      "179/179 [==============================] - 0s 2ms/step - loss: 0.0559 - accuracy: 0.9782 - val_loss: 0.0759 - val_accuracy: 0.9735\n",
      "Epoch 37/50\n",
      "179/179 [==============================] - 0s 2ms/step - loss: 0.0562 - accuracy: 0.9783 - val_loss: 0.0773 - val_accuracy: 0.9756\n",
      "Epoch 38/50\n",
      "179/179 [==============================] - 0s 2ms/step - loss: 0.0549 - accuracy: 0.9787 - val_loss: 0.0768 - val_accuracy: 0.9728\n",
      "Epoch 39/50\n",
      "179/179 [==============================] - 0s 2ms/step - loss: 0.0541 - accuracy: 0.9792 - val_loss: 0.0786 - val_accuracy: 0.9749\n",
      "Epoch 40/50\n",
      "179/179 [==============================] - 0s 2ms/step - loss: 0.0533 - accuracy: 0.9794 - val_loss: 0.0762 - val_accuracy: 0.9756\n",
      "Epoch 41/50\n",
      "179/179 [==============================] - 0s 2ms/step - loss: 0.0527 - accuracy: 0.9796 - val_loss: 0.0793 - val_accuracy: 0.9763\n",
      "Epoch 42/50\n",
      "179/179 [==============================] - 0s 2ms/step - loss: 0.0541 - accuracy: 0.9803 - val_loss: 0.0768 - val_accuracy: 0.9735\n",
      "Epoch 43/50\n",
      "179/179 [==============================] - 0s 2ms/step - loss: 0.0530 - accuracy: 0.9783 - val_loss: 0.0719 - val_accuracy: 0.9742\n",
      "Epoch 44/50\n",
      "179/179 [==============================] - 0s 2ms/step - loss: 0.0511 - accuracy: 0.9801 - val_loss: 0.0798 - val_accuracy: 0.9721\n",
      "Epoch 45/50\n",
      "179/179 [==============================] - 0s 2ms/step - loss: 0.0494 - accuracy: 0.9824 - val_loss: 0.0764 - val_accuracy: 0.9686\n",
      "Epoch 46/50\n",
      "179/179 [==============================] - 0s 2ms/step - loss: 0.0491 - accuracy: 0.9806 - val_loss: 0.0853 - val_accuracy: 0.9749\n",
      "Epoch 47/50\n",
      "179/179 [==============================] - 0s 2ms/step - loss: 0.0503 - accuracy: 0.9815 - val_loss: 0.0774 - val_accuracy: 0.9742\n",
      "Epoch 48/50\n",
      "179/179 [==============================] - 0s 2ms/step - loss: 0.0478 - accuracy: 0.9817 - val_loss: 0.0822 - val_accuracy: 0.9735\n",
      "Epoch 49/50\n",
      "179/179 [==============================] - 0s 2ms/step - loss: 0.0460 - accuracy: 0.9825 - val_loss: 0.0837 - val_accuracy: 0.9721\n",
      "Epoch 50/50\n",
      "179/179 [==============================] - 0s 2ms/step - loss: 0.0458 - accuracy: 0.9825 - val_loss: 0.0823 - val_accuracy: 0.9728\n"
     ]
    },
    {
     "data": {
      "text/plain": [
       "<keras.src.callbacks.History at 0x1cc5c4ed040>"
      ]
     },
     "execution_count": 7,
     "metadata": {},
     "output_type": "execute_result"
    }
   ],
   "source": [
    "# 모델 훈련\n",
    "model.fit(X_train, y_train, epochs=50, batch_size=32, validation_data=(X_test, y_test))"
   ]
  },
  {
   "cell_type": "code",
   "execution_count": 8,
   "id": "c2fc5f13-ab69-45e3-bed9-6a0176349185",
   "metadata": {},
   "outputs": [
    {
     "name": "stdout",
     "output_type": "stream",
     "text": [
      "\n",
      "훈련 과정의 최종 손실 및 정확도:\n",
      "45/45 [==============================] - 0s 850us/step - loss: 0.0823 - accuracy: 0.9728\n",
      "테스트 손실: 0.0823, 테스트 정확도: 0.9728\n"
     ]
    }
   ],
   "source": [
    "# 훈련 과정의 손실 및 정확도 출력\n",
    "print(\"\\n훈련 과정의 최종 손실 및 정확도:\")\n",
    "final_loss, final_accuracy = model.evaluate(X_test, y_test)\n",
    "print(f\"테스트 손실: {final_loss:.4f}, 테스트 정확도: {final_accuracy:.4f}\")"
   ]
  },
  {
   "cell_type": "code",
   "execution_count": 20,
   "id": "c513a042-c61b-4d25-94d7-4339ac06400b",
   "metadata": {},
   "outputs": [
    {
     "name": "stdout",
     "output_type": "stream",
     "text": [
      "45/45 [==============================] - 0s 711us/step\n",
      "\n",
      "분류 성능 보고서:\n",
      "              precision    recall  f1-score   support\n",
      "\n",
      "         비정상       0.31      0.62      0.41        37\n",
      "          정상       0.99      0.96      0.98      1395\n",
      "\n",
      "    accuracy                           0.95      1432\n",
      "   macro avg       0.65      0.79      0.70      1432\n",
      "weighted avg       0.97      0.95      0.96      1432\n",
      "\n"
     ]
    }
   ],
   "source": [
    "from sklearn.metrics import classification_report\n",
    "\n",
    "# 테스트 데이터에 대한 예측\n",
    "y_pred = model.predict(X_test)\n",
    "y_pred_classes = (y_pred > 0.9).astype(int)  # 0.8 이상의 확률을 정상(1)으로 변환\n",
    "\n",
    "# 정확도, 정밀도, 재현율, F1 스코어 계산 및 출력\n",
    "print(\"\\n분류 성능 보고서:\")\n",
    "print(classification_report(y_test, y_pred_classes, target_names=[\"비정상\", \"정상\"]))"
   ]
  },
  {
   "cell_type": "code",
   "execution_count": null,
   "id": "69514288-9346-49cc-a465-1a037c52c668",
   "metadata": {},
   "outputs": [],
   "source": []
  },
  {
   "cell_type": "code",
   "execution_count": null,
   "id": "2bff9fd3-c9e6-445f-b8ec-56263efed27f",
   "metadata": {},
   "outputs": [],
   "source": []
  },
  {
   "cell_type": "code",
   "execution_count": null,
   "id": "ec2c5f02-8809-492b-96ce-9bd1b75c3dc9",
   "metadata": {},
   "outputs": [],
   "source": []
  }
 ],
 "metadata": {
  "kernelspec": {
   "display_name": "Python 3 (ipykernel)",
   "language": "python",
   "name": "python3"
  },
  "language_info": {
   "codemirror_mode": {
    "name": "ipython",
    "version": 3
   },
   "file_extension": ".py",
   "mimetype": "text/x-python",
   "name": "python",
   "nbconvert_exporter": "python",
   "pygments_lexer": "ipython3",
   "version": "3.8.19"
  }
 },
 "nbformat": 4,
 "nbformat_minor": 5
}
