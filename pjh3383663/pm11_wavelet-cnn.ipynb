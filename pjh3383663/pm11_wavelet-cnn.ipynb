{
 "cells": [
  {
   "cell_type": "code",
   "execution_count": 1,
   "id": "a8779f58-b0a3-434e-b982-5a9056a3e74d",
   "metadata": {
    "scrolled": true
   },
   "outputs": [],
   "source": [
    "import numpy as np\n",
    "import matplotlib.pyplot as plt\n",
    "import pywt\n",
    "import pandas as pd\n",
    "\n",
    "import torch\n",
    "import torch.nn as nn\n",
    "import torch.optim as optim\n",
    "from sklearn.decomposition import PCA\n",
    "import cupy as cp\n",
    "from sklearn.model_selection import train_test_split\n",
    "\n",
    "from tensorflow.keras.models import Sequential\n",
    "from tensorflow.keras.layers import Conv2D, MaxPooling2D, Flatten, Dense, Dropout\n",
    "from tensorflow.keras.utils import to_categorical\n",
    "from sklearn.metrics import classification_report\n",
    "\n",
    "import tensorflow as tf"
   ]
  },
  {
   "cell_type": "code",
   "execution_count": 2,
   "id": "704388a1-12d1-47dd-ab8f-3c5cabcd4dc6",
   "metadata": {
    "scrolled": true
   },
   "outputs": [],
   "source": [
    "df = pd.read_csv('data_5528.csv')"
   ]
  },
  {
   "cell_type": "code",
   "execution_count": 3,
   "id": "75eaccb4-864c-4db4-ac56-844689ed3e82",
   "metadata": {
    "scrolled": true
   },
   "outputs": [],
   "source": [
    "df = df.loc[:2200]"
   ]
  },
  {
   "cell_type": "code",
   "execution_count": 4,
   "id": "1ffb12f3-a63e-43e2-af86-8d6bebba752a",
   "metadata": {},
   "outputs": [],
   "source": [
    "df_label = pd.read_csv('55285839-9b78-48d8-9f4e-573190ace016_data.csv')"
   ]
  },
  {
   "cell_type": "code",
   "execution_count": 5,
   "id": "63c34f9f-8856-4dbe-bc9f-317a54af8e3b",
   "metadata": {},
   "outputs": [],
   "source": [
    "df_label = df_label.loc[:2200]"
   ]
  },
  {
   "cell_type": "code",
   "execution_count": 6,
   "id": "491b6683-af3f-499a-b9a9-8ea697c8ac8e",
   "metadata": {
    "scrolled": true
   },
   "outputs": [
    {
     "data": {
      "text/plain": [
       "0       -0.087890625,-0.05859375,-0.0703125,-0.0644531...\n",
       "1       -0.064453125,-0.08203125,-0.076171875,-0.06445...\n",
       "2       -0.029296875,-0.10546875,-0.064453125,-0.07031...\n",
       "3       -0.052734375,-0.0703125,-0.076171875,-0.070312...\n",
       "4       -0.1640625,0.0234375,0.029296875,-0.1875,-0.16...\n",
       "                              ...                        \n",
       "2196    -0.09375,-0.1171875,-0.052734375,-0.10546875,-...\n",
       "2197    -0.05859375,-0.099609375,-0.08203125,-0.070312...\n",
       "2198    -0.10546875,-0.064453125,-0.03515625,-0.099609...\n",
       "2199    -0.076171875,-0.09375,-0.076171875,-0.09960937...\n",
       "2200    -0.052734375,-0.076171875,-0.08203125,-0.08203...\n",
       "Name: waveform_y, Length: 2201, dtype: object"
      ]
     },
     "execution_count": 6,
     "metadata": {},
     "output_type": "execute_result"
    }
   ],
   "source": [
    "df['waveform_y']"
   ]
  },
  {
   "cell_type": "code",
   "execution_count": 7,
   "id": "259b13d2-e9ec-4a66-b261-18491a72ea3b",
   "metadata": {
    "scrolled": true
   },
   "outputs": [],
   "source": [
    "def convert_to_float_list(string):\n",
    "    return [float(x) for x in string.split(',')]"
   ]
  },
  {
   "cell_type": "code",
   "execution_count": 8,
   "id": "3709fcc9-9c4e-45f0-b77d-698be2dfc57e",
   "metadata": {},
   "outputs": [],
   "source": [
    "y = df_label['imbalance_health'].values\n",
    "y = np.where(np.isnan(y), 1, y)\n",
    "y = np.where(y != 1, 0, 1)"
   ]
  },
  {
   "cell_type": "code",
   "execution_count": 9,
   "id": "c170a154-48e2-4007-85db-2e69f732a391",
   "metadata": {},
   "outputs": [],
   "source": [
    "df_wf = pd.DataFrame({\n",
    "    'waveform_y': df['waveform_y'].apply(convert_to_float_list),\n",
    "    'label_imbalance': y\n",
    "})"
   ]
  },
  {
   "cell_type": "code",
   "execution_count": 10,
   "id": "569eb294-44c9-449c-99f0-3587f7905905",
   "metadata": {},
   "outputs": [
    {
     "data": {
      "text/html": [
       "<div>\n",
       "<style scoped>\n",
       "    .dataframe tbody tr th:only-of-type {\n",
       "        vertical-align: middle;\n",
       "    }\n",
       "\n",
       "    .dataframe tbody tr th {\n",
       "        vertical-align: top;\n",
       "    }\n",
       "\n",
       "    .dataframe thead th {\n",
       "        text-align: right;\n",
       "    }\n",
       "</style>\n",
       "<table border=\"1\" class=\"dataframe\">\n",
       "  <thead>\n",
       "    <tr style=\"text-align: right;\">\n",
       "      <th></th>\n",
       "      <th>waveform_y</th>\n",
       "      <th>label_imbalance</th>\n",
       "    </tr>\n",
       "  </thead>\n",
       "  <tbody>\n",
       "    <tr>\n",
       "      <th>0</th>\n",
       "      <td>[-0.087890625, -0.05859375, -0.0703125, -0.064...</td>\n",
       "      <td>1</td>\n",
       "    </tr>\n",
       "    <tr>\n",
       "      <th>1</th>\n",
       "      <td>[-0.064453125, -0.08203125, -0.076171875, -0.0...</td>\n",
       "      <td>1</td>\n",
       "    </tr>\n",
       "    <tr>\n",
       "      <th>2</th>\n",
       "      <td>[-0.029296875, -0.10546875, -0.064453125, -0.0...</td>\n",
       "      <td>1</td>\n",
       "    </tr>\n",
       "    <tr>\n",
       "      <th>3</th>\n",
       "      <td>[-0.052734375, -0.0703125, -0.076171875, -0.07...</td>\n",
       "      <td>1</td>\n",
       "    </tr>\n",
       "    <tr>\n",
       "      <th>4</th>\n",
       "      <td>[-0.1640625, 0.0234375, 0.029296875, -0.1875, ...</td>\n",
       "      <td>1</td>\n",
       "    </tr>\n",
       "    <tr>\n",
       "      <th>...</th>\n",
       "      <td>...</td>\n",
       "      <td>...</td>\n",
       "    </tr>\n",
       "    <tr>\n",
       "      <th>2196</th>\n",
       "      <td>[-0.09375, -0.1171875, -0.052734375, -0.105468...</td>\n",
       "      <td>1</td>\n",
       "    </tr>\n",
       "    <tr>\n",
       "      <th>2197</th>\n",
       "      <td>[-0.05859375, -0.099609375, -0.08203125, -0.07...</td>\n",
       "      <td>1</td>\n",
       "    </tr>\n",
       "    <tr>\n",
       "      <th>2198</th>\n",
       "      <td>[-0.10546875, -0.064453125, -0.03515625, -0.09...</td>\n",
       "      <td>1</td>\n",
       "    </tr>\n",
       "    <tr>\n",
       "      <th>2199</th>\n",
       "      <td>[-0.076171875, -0.09375, -0.076171875, -0.0996...</td>\n",
       "      <td>1</td>\n",
       "    </tr>\n",
       "    <tr>\n",
       "      <th>2200</th>\n",
       "      <td>[-0.052734375, -0.076171875, -0.08203125, -0.0...</td>\n",
       "      <td>1</td>\n",
       "    </tr>\n",
       "  </tbody>\n",
       "</table>\n",
       "<p>2034 rows × 2 columns</p>\n",
       "</div>"
      ],
      "text/plain": [
       "                                             waveform_y  label_imbalance\n",
       "0     [-0.087890625, -0.05859375, -0.0703125, -0.064...                1\n",
       "1     [-0.064453125, -0.08203125, -0.076171875, -0.0...                1\n",
       "2     [-0.029296875, -0.10546875, -0.064453125, -0.0...                1\n",
       "3     [-0.052734375, -0.0703125, -0.076171875, -0.07...                1\n",
       "4     [-0.1640625, 0.0234375, 0.029296875, -0.1875, ...                1\n",
       "...                                                 ...              ...\n",
       "2196  [-0.09375, -0.1171875, -0.052734375, -0.105468...                1\n",
       "2197  [-0.05859375, -0.099609375, -0.08203125, -0.07...                1\n",
       "2198  [-0.10546875, -0.064453125, -0.03515625, -0.09...                1\n",
       "2199  [-0.076171875, -0.09375, -0.076171875, -0.0996...                1\n",
       "2200  [-0.052734375, -0.076171875, -0.08203125, -0.0...                1\n",
       "\n",
       "[2034 rows x 2 columns]"
      ]
     },
     "execution_count": 10,
     "metadata": {},
     "output_type": "execute_result"
    }
   ],
   "source": [
    "df_wf[df_wf['label_imbalance'] == 1]"
   ]
  },
  {
   "cell_type": "code",
   "execution_count": 11,
   "id": "503b124c-01ab-46e0-94b7-52edf5f96b49",
   "metadata": {},
   "outputs": [],
   "source": [
    "# df_wf에서 waveform_y 컬럼을 리스트 형태로 가져옴\n",
    "waveforms = df_wf['waveform_y'].tolist()\n",
    "\n",
    "# 모웨이블릿을 적용한 결과를 저장할 리스트\n",
    "cwt_results = []\n",
    "\n",
    "# 스케일 정의 (1부터 128까지로 설정, 필요에 따라 조정 가능)\n",
    "scales = np.arange(1, 129)\n",
    "\n",
    "# 각 waveform에 대해 CWT 적용\n",
    "for waveform in waveforms:\n",
    "    # Continuous Wavelet Transform (CWT) 적용\n",
    "    coeffs, _ = pywt.cwt(waveform, scales, 'cmor1.5-1.0')  # 'cmor'는 Morlet wavelet\n",
    "    # 절대값을 취해줌\n",
    "    abs_coeffs = np.abs(coeffs)\n",
    "    cwt_results.append(abs_coeffs)\n",
    "\n",
    "# CWT 결과를 데이터프레임에 추가\n",
    "df_wf['cwt_coeffs'] = cwt_results"
   ]
  },
  {
   "cell_type": "code",
   "execution_count": 12,
   "id": "f6b0090f-f8b5-4a2f-93d0-b24ce89d9d18",
   "metadata": {},
   "outputs": [
    {
     "data": {
      "text/html": [
       "<div>\n",
       "<style scoped>\n",
       "    .dataframe tbody tr th:only-of-type {\n",
       "        vertical-align: middle;\n",
       "    }\n",
       "\n",
       "    .dataframe tbody tr th {\n",
       "        vertical-align: top;\n",
       "    }\n",
       "\n",
       "    .dataframe thead th {\n",
       "        text-align: right;\n",
       "    }\n",
       "</style>\n",
       "<table border=\"1\" class=\"dataframe\">\n",
       "  <thead>\n",
       "    <tr style=\"text-align: right;\">\n",
       "      <th></th>\n",
       "      <th>waveform_y</th>\n",
       "      <th>label_imbalance</th>\n",
       "      <th>cwt_coeffs</th>\n",
       "    </tr>\n",
       "  </thead>\n",
       "  <tbody>\n",
       "    <tr>\n",
       "      <th>0</th>\n",
       "      <td>[-0.087890625, -0.05859375, -0.0703125, -0.064...</td>\n",
       "      <td>1</td>\n",
       "      <td>[[0.005660165070963101, 0.0015715324074112322,...</td>\n",
       "    </tr>\n",
       "    <tr>\n",
       "      <th>1</th>\n",
       "      <td>[-0.064453125, -0.08203125, -0.076171875, -0.0...</td>\n",
       "      <td>1</td>\n",
       "      <td>[[0.005532719353985204, 0.003508863269946021, ...</td>\n",
       "    </tr>\n",
       "    <tr>\n",
       "      <th>2</th>\n",
       "      <td>[-0.029296875, -0.10546875, -0.064453125, -0.0...</td>\n",
       "      <td>1</td>\n",
       "      <td>[[0.004905662966923438, 0.005416642706699189, ...</td>\n",
       "    </tr>\n",
       "    <tr>\n",
       "      <th>3</th>\n",
       "      <td>[-0.052734375, -0.0703125, -0.076171875, -0.07...</td>\n",
       "      <td>1</td>\n",
       "      <td>[[0.004693400056746271, 0.003505735446197863, ...</td>\n",
       "    </tr>\n",
       "    <tr>\n",
       "      <th>4</th>\n",
       "      <td>[-0.1640625, 0.0234375, 0.029296875, -0.1875, ...</td>\n",
       "      <td>1</td>\n",
       "      <td>[[0.00575370414230734, 0.007534620875979414, 0...</td>\n",
       "    </tr>\n",
       "    <tr>\n",
       "      <th>...</th>\n",
       "      <td>...</td>\n",
       "      <td>...</td>\n",
       "      <td>...</td>\n",
       "    </tr>\n",
       "    <tr>\n",
       "      <th>2196</th>\n",
       "      <td>[-0.09375, -0.1171875, -0.052734375, -0.105468...</td>\n",
       "      <td>1</td>\n",
       "      <td>[[0.007731850096245601, 0.0033256198913022028,...</td>\n",
       "    </tr>\n",
       "    <tr>\n",
       "      <th>2197</th>\n",
       "      <td>[-0.05859375, -0.099609375, -0.08203125, -0.07...</td>\n",
       "      <td>1</td>\n",
       "      <td>[[0.005910241371313618, 0.004638971681497294, ...</td>\n",
       "    </tr>\n",
       "    <tr>\n",
       "      <th>2198</th>\n",
       "      <td>[-0.10546875, -0.064453125, -0.03515625, -0.09...</td>\n",
       "      <td>1</td>\n",
       "      <td>[[0.006401865942190834, 0.0009896956679941885,...</td>\n",
       "    </tr>\n",
       "    <tr>\n",
       "      <th>2199</th>\n",
       "      <td>[-0.076171875, -0.09375, -0.076171875, -0.0996...</td>\n",
       "      <td>1</td>\n",
       "      <td>[[0.006377724838375217, 0.003683375175303733, ...</td>\n",
       "    </tr>\n",
       "    <tr>\n",
       "      <th>2200</th>\n",
       "      <td>[-0.052734375, -0.076171875, -0.08203125, -0.0...</td>\n",
       "      <td>1</td>\n",
       "      <td>[[0.004912908582396464, 0.0039700720124023385,...</td>\n",
       "    </tr>\n",
       "  </tbody>\n",
       "</table>\n",
       "<p>2201 rows × 3 columns</p>\n",
       "</div>"
      ],
      "text/plain": [
       "                                             waveform_y  label_imbalance  \\\n",
       "0     [-0.087890625, -0.05859375, -0.0703125, -0.064...                1   \n",
       "1     [-0.064453125, -0.08203125, -0.076171875, -0.0...                1   \n",
       "2     [-0.029296875, -0.10546875, -0.064453125, -0.0...                1   \n",
       "3     [-0.052734375, -0.0703125, -0.076171875, -0.07...                1   \n",
       "4     [-0.1640625, 0.0234375, 0.029296875, -0.1875, ...                1   \n",
       "...                                                 ...              ...   \n",
       "2196  [-0.09375, -0.1171875, -0.052734375, -0.105468...                1   \n",
       "2197  [-0.05859375, -0.099609375, -0.08203125, -0.07...                1   \n",
       "2198  [-0.10546875, -0.064453125, -0.03515625, -0.09...                1   \n",
       "2199  [-0.076171875, -0.09375, -0.076171875, -0.0996...                1   \n",
       "2200  [-0.052734375, -0.076171875, -0.08203125, -0.0...                1   \n",
       "\n",
       "                                             cwt_coeffs  \n",
       "0     [[0.005660165070963101, 0.0015715324074112322,...  \n",
       "1     [[0.005532719353985204, 0.003508863269946021, ...  \n",
       "2     [[0.004905662966923438, 0.005416642706699189, ...  \n",
       "3     [[0.004693400056746271, 0.003505735446197863, ...  \n",
       "4     [[0.00575370414230734, 0.007534620875979414, 0...  \n",
       "...                                                 ...  \n",
       "2196  [[0.007731850096245601, 0.0033256198913022028,...  \n",
       "2197  [[0.005910241371313618, 0.004638971681497294, ...  \n",
       "2198  [[0.006401865942190834, 0.0009896956679941885,...  \n",
       "2199  [[0.006377724838375217, 0.003683375175303733, ...  \n",
       "2200  [[0.004912908582396464, 0.0039700720124023385,...  \n",
       "\n",
       "[2201 rows x 3 columns]"
      ]
     },
     "execution_count": 12,
     "metadata": {},
     "output_type": "execute_result"
    }
   ],
   "source": [
    "df_wf"
   ]
  },
  {
   "cell_type": "code",
   "execution_count": 13,
   "id": "4abf8ba1-3b07-42ac-9ec6-7ed58a36a70f",
   "metadata": {},
   "outputs": [
    {
     "data": {
      "text/plain": [
       "(128, 3200)"
      ]
     },
     "execution_count": 13,
     "metadata": {},
     "output_type": "execute_result"
    }
   ],
   "source": [
    "df_wf['cwt_coeffs'][0].shape"
   ]
  },
  {
   "cell_type": "code",
   "execution_count": 14,
   "id": "5bee744d-2fbd-4365-9563-bd3db4b26337",
   "metadata": {},
   "outputs": [
    {
     "name": "stdout",
     "output_type": "stream",
     "text": [
      "Epoch 1/10\n",
      "55/55 [==============================] - 395s 7s/step - loss: 0.3737 - accuracy: 0.9142 - val_loss: 0.2178 - val_accuracy: 0.9433\n",
      "Epoch 2/10\n",
      "55/55 [==============================] - 373s 7s/step - loss: 0.2912 - accuracy: 0.9193 - val_loss: 0.2212 - val_accuracy: 0.9433\n",
      "Epoch 3/10\n",
      "55/55 [==============================] - 374s 7s/step - loss: 0.2977 - accuracy: 0.9193 - val_loss: 0.2315 - val_accuracy: 0.9433\n",
      "Epoch 4/10\n",
      "55/55 [==============================] - 369s 7s/step - loss: 0.3132 - accuracy: 0.9193 - val_loss: 0.2313 - val_accuracy: 0.9433\n",
      "Epoch 5/10\n",
      "55/55 [==============================] - 361s 7s/step - loss: 0.3072 - accuracy: 0.9193 - val_loss: 0.2197 - val_accuracy: 0.9433\n",
      "Epoch 6/10\n",
      "55/55 [==============================] - 361s 7s/step - loss: 0.2918 - accuracy: 0.9193 - val_loss: 0.2290 - val_accuracy: 0.9433\n",
      "Epoch 7/10\n",
      "55/55 [==============================] - 361s 7s/step - loss: 0.2927 - accuracy: 0.9193 - val_loss: 0.2232 - val_accuracy: 0.9433\n",
      "Epoch 8/10\n",
      "55/55 [==============================] - 360s 7s/step - loss: 0.2847 - accuracy: 0.9193 - val_loss: 0.2168 - val_accuracy: 0.9433\n",
      "Epoch 9/10\n",
      "55/55 [==============================] - 361s 7s/step - loss: 0.3000 - accuracy: 0.9193 - val_loss: 0.2284 - val_accuracy: 0.9433\n",
      "Epoch 10/10\n",
      "55/55 [==============================] - 363s 7s/step - loss: 0.2815 - accuracy: 0.9193 - val_loss: 0.2247 - val_accuracy: 0.9433\n"
     ]
    },
    {
     "data": {
      "text/plain": [
       "<keras.src.callbacks.History at 0x24c0082a250>"
      ]
     },
     "execution_count": 14,
     "metadata": {},
     "output_type": "execute_result"
    }
   ],
   "source": [
    "# 데이터 준비\n",
    "X = np.array(df_wf['cwt_coeffs'].tolist())  # cwt_coeffs를 numpy 배열로 변환\n",
    "y = np.array(df_wf['label_imbalance'])  # label (1: 정상, 0: 비정상)\n",
    "\n",
    "# 데이터의 shape (samples, height, width, channels)에 맞게 reshape\n",
    "X = X.reshape((X.shape[0], X.shape[1], X.shape[2], 1))  # 마지막 1은 채널 수 (1)\n",
    "\n",
    "# train-test split (80% 학습, 20% 테스트)\n",
    "X_train, X_test, y_train, y_test = train_test_split(X, y, test_size=0.2, random_state=42)\n",
    "\n",
    "# CNN 모델 설계\n",
    "model = Sequential()\n",
    "\n",
    "# Conv2D Layer 1\n",
    "model.add(Conv2D(filters=32, kernel_size=(3, 3), activation='relu', input_shape=(128, 3200, 1)))\n",
    "model.add(MaxPooling2D(pool_size=(2, 2)))\n",
    "\n",
    "# Conv2D Layer 2\n",
    "model.add(Conv2D(filters=64, kernel_size=(3, 3), activation='relu'))\n",
    "model.add(MaxPooling2D(pool_size=(2, 2)))\n",
    "\n",
    "# Conv2D Layer 3\n",
    "model.add(Conv2D(filters=128, kernel_size=(3, 3), activation='relu'))\n",
    "model.add(MaxPooling2D(pool_size=(2, 2)))\n",
    "\n",
    "# Fully connected layer\n",
    "model.add(Flatten())\n",
    "model.add(Dense(128, activation='relu'))\n",
    "model.add(Dropout(0.5))\n",
    "\n",
    "# Output layer\n",
    "model.add(Dense(1, activation='sigmoid'))  # 이진 분류\n",
    "\n",
    "# 모델 컴파일\n",
    "model.compile(optimizer='adam', loss='binary_crossentropy', metrics=['accuracy'])\n",
    "\n",
    "# 모델 학습\n",
    "model.fit(X_train, y_train, epochs=10, batch_size=32, validation_data=(X_test, y_test))\n"
   ]
  },
  {
   "cell_type": "code",
   "execution_count": 21,
   "id": "73b09207-493b-49f4-a466-1fd25457e304",
   "metadata": {},
   "outputs": [
    {
     "name": "stdout",
     "output_type": "stream",
     "text": [
      "14/14 [==============================] - 18s 1s/step\n",
      "              precision    recall  f1-score   support\n",
      "\n",
      "           0       0.08      0.16      0.10        25\n",
      "           1       0.95      0.88      0.91       416\n",
      "\n",
      "    accuracy                           0.84       441\n",
      "   macro avg       0.51      0.52      0.51       441\n",
      "weighted avg       0.90      0.84      0.87       441\n",
      "\n"
     ]
    }
   ],
   "source": [
    "# 모델 평가\n",
    "y_pred = (model.predict(X_test) > 0.9).astype(\"int32\")\n",
    "print(classification_report(y_test, y_pred))"
   ]
  },
  {
   "cell_type": "code",
   "execution_count": null,
   "id": "c4b04e5f-fdc5-4f12-a69b-46f5990475ce",
   "metadata": {},
   "outputs": [],
   "source": []
  },
  {
   "cell_type": "code",
   "execution_count": null,
   "id": "6ac2160f-afe4-441d-9c90-229f5f6d04d6",
   "metadata": {},
   "outputs": [],
   "source": []
  },
  {
   "cell_type": "code",
   "execution_count": null,
   "id": "04240723-b52b-4462-afb9-7aa9261c62c4",
   "metadata": {},
   "outputs": [],
   "source": []
  }
 ],
 "metadata": {
  "kernelspec": {
   "display_name": "Python 3 (ipykernel)",
   "language": "python",
   "name": "python3"
  },
  "language_info": {
   "codemirror_mode": {
    "name": "ipython",
    "version": 3
   },
   "file_extension": ".py",
   "mimetype": "text/x-python",
   "name": "python",
   "nbconvert_exporter": "python",
   "pygments_lexer": "ipython3",
   "version": "3.8.19"
  }
 },
 "nbformat": 4,
 "nbformat_minor": 5
}
