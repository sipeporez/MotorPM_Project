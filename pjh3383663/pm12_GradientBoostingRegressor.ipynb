{
 "cells": [
  {
   "cell_type": "code",
   "execution_count": 1,
   "id": "c8ebb91c-a82d-4f1a-8dcb-35029528b276",
   "metadata": {},
   "outputs": [],
   "source": [
    "import pandas as pd\n",
    "import numpy as np\n",
    "from sklearn.model_selection import train_test_split\n",
    "from sklearn.ensemble import GradientBoostingRegressor\n",
    "from sklearn.metrics import mean_squared_error, r2_score"
   ]
  },
  {
   "cell_type": "code",
   "execution_count": 2,
   "id": "c796958c-55f1-43b7-aa22-068067d5f4b3",
   "metadata": {},
   "outputs": [],
   "source": [
    "# 데이터 로드\n",
    "sigdata = pd.read_csv('data/PdM/total.csv')"
   ]
  },
  {
   "cell_type": "code",
   "execution_count": 5,
   "id": "87b369ee-439f-4972-92aa-846433664de6",
   "metadata": {},
   "outputs": [],
   "source": [
    "# 같은날짜 기준 평균내기\n",
    "data = sigdata.groupby(['asset_id', 'time'])[['rms_x', 'rms_y', 'rms_z', 'rms_xyz', 'vel_rms_x', 'vel_rms_y', 'vel_rms_z', 'vel_rms_xyz',\n",
    "                      'skewness_x', 'skewness_y', 'skewness_z', 'vel_skewness_x', 'vel_skewness_y', 'vel_skewness_z',\n",
    "                      'kurtosis_x', 'kurtosis_y', 'kurtosis_z', 'vel_kurtosis_x', 'vel_kurtosis_y', 'vel_kurtosis_z',\n",
    "                      'crest_factor_x', 'crest_factor_y', 'crest_factor_z', 'vel_crest_factor_x', 'vel_crest_factor_y', 'vel_crest_factor_z',\n",
    "                      'peak_x', 'peak_y', 'peak_z', 'vel_peak_x', 'vel_peak_y', 'vel_peak_z',\n",
    "                      'peak2peak_x', 'peak2peak_y', 'peak2peak_z', 'vel_peak2peak_x', 'vel_peak2peak_y', 'vel_peak2peak_z', 'imbalance_health']].mean().reset_index()"
   ]
  },
  {
   "cell_type": "code",
   "execution_count": 8,
   "id": "b4b5a74e-48c6-4838-aa11-20137a20d851",
   "metadata": {},
   "outputs": [],
   "source": [
    "# 입력 변수(X)와 타깃 변수(y) 분리\n",
    "X = data.drop(['asset_id', 'time', 'imbalance_health'], axis=1)\n",
    "y = data['imbalance_health']  # 예시로 asset_health를 타깃 변수로 사용\n",
    "\n",
    "# 학습용과 테스트용 데이터 분할\n",
    "X_train, X_test, y_train, y_test = train_test_split(X, y, test_size=0.2, shuffle=True, random_state=42)"
   ]
  },
  {
   "cell_type": "code",
   "execution_count": 9,
   "id": "7ee67ba2-e807-4d7f-8595-cf75409dab2f",
   "metadata": {},
   "outputs": [
    {
     "name": "stdout",
     "output_type": "stream",
     "text": [
      "평균 제곱 오차 (MSE): 0.0011973112530727001\n",
      "결정 계수 (R2 Score): 0.027975299725324976\n"
     ]
    }
   ],
   "source": [
    "# 그라디언트 부스팅 회귀 모델 생성 및 학습\n",
    "gbr = GradientBoostingRegressor(n_estimators=100, learning_rate=0.1, max_depth=3, random_state=42)\n",
    "gbr.fit(X_train, y_train)\n",
    "\n",
    "# 예측\n",
    "y_pred = gbr.predict(X_test)\n",
    "\n",
    "# 모델 평가\n",
    "mse = mean_squared_error(y_test, y_pred)\n",
    "r2 = r2_score(y_test, y_pred)\n",
    "\n",
    "print(\"평균 제곱 오차 (MSE):\", mse)\n",
    "print(\"결정 계수 (R2 Score):\", r2)\n"
   ]
  },
  {
   "cell_type": "code",
   "execution_count": null,
   "id": "e75f0c21-4d6a-41d7-96b5-987eab693165",
   "metadata": {},
   "outputs": [],
   "source": []
  },
  {
   "cell_type": "code",
   "execution_count": null,
   "id": "1e615bdc-aeaa-402c-b378-6ff1257fe8a9",
   "metadata": {},
   "outputs": [],
   "source": []
  }
 ],
 "metadata": {
  "kernelspec": {
   "display_name": "Python 3 (ipykernel)",
   "language": "python",
   "name": "python3"
  },
  "language_info": {
   "codemirror_mode": {
    "name": "ipython",
    "version": 3
   },
   "file_extension": ".py",
   "mimetype": "text/x-python",
   "name": "python",
   "nbconvert_exporter": "python",
   "pygments_lexer": "ipython3",
   "version": "3.8.19"
  }
 },
 "nbformat": 4,
 "nbformat_minor": 5
}
