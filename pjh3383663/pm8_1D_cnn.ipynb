{
 "cells": [
  {
   "cell_type": "code",
   "execution_count": 1,
   "id": "6449c2f9-aa17-4fc8-817d-006e84022d75",
   "metadata": {},
   "outputs": [],
   "source": [
    "import numpy as np\n",
    "import pandas as pd\n",
    "from sklearn.preprocessing import StandardScaler\n",
    "from sklearn.cluster import KMeans\n",
    "from tensorflow.keras.models import Sequential\n",
    "from tensorflow.keras.layers import Conv1D, MaxPooling1D, GlobalAveragePooling1D, Dense, Flatten\n",
    "from sklearn.model_selection import train_test_split"
   ]
  },
  {
   "cell_type": "code",
   "execution_count": 2,
   "id": "a5882e12-48fb-4cb7-9e2f-6fe7be66a12b",
   "metadata": {
    "scrolled": true
   },
   "outputs": [],
   "source": [
    "# 1. 데이터 로드 및 전처리\n",
    "# rms_x, rms_y, ..., vel_peak2peak_z 38개 피처\n",
    "# 타임스텝마다 데이터가 있다고 가정\n",
    "\n",
    "df = pd.read_csv('55285839-9b78-48d8-9f4e-573190ace016_data.csv') # 데이터 로드\n",
    "X = df.iloc[:, 4:42].values  # 피처만 추출\n",
    "y = df.iloc[:, 43:44].values # imbalance\n",
    "# y = np.where(np.isnan(y), 0, y) # nan을 0(비정상)으로\n",
    "y = np.where(y != 1, 0, 1) \n",
    "\n",
    "# 피처 스케일링\n",
    "scaler = StandardScaler()\n",
    "X_scaled = scaler.fit_transform(X)"
   ]
  },
  {
   "cell_type": "code",
   "execution_count": 3,
   "id": "0eb52fcb-5194-4a7d-93a1-e2822d36e9fc",
   "metadata": {},
   "outputs": [],
   "source": [
    "# 2. 훈련 및 테스트 데이터 분할\n",
    "X_train, X_test, y_train, y_test = train_test_split(X_scaled, y, test_size=0.2, random_state=42)"
   ]
  },
  {
   "cell_type": "code",
   "execution_count": 4,
   "id": "a113f0a8-2ee8-42a5-a6e8-1763fccb5548",
   "metadata": {},
   "outputs": [],
   "source": [
    "# 3. 1D-CNN 모델 구축\n",
    "model = Sequential()\n",
    "model.add(Conv1D(filters=64, kernel_size=3, activation='relu', input_shape=(X_train.shape[1], 1)))\n",
    "model.add(MaxPooling1D(pool_size=2))\n",
    "model.add(Flatten())\n",
    "model.add(Dense(32, activation='relu'))\n",
    "model.add(Dense(1, activation='sigmoid'))  # 이진 분류\n",
    "\n",
    "model.compile(optimizer='adam', loss='binary_crossentropy', metrics=['accuracy'])"
   ]
  },
  {
   "cell_type": "code",
   "execution_count": 5,
   "id": "14195a99-5491-4284-bb63-f40e1ea57ea0",
   "metadata": {
    "scrolled": true
   },
   "outputs": [
    {
     "name": "stdout",
     "output_type": "stream",
     "text": [
      "Epoch 1/10\n",
      "190/190 [==============================] - 1s 2ms/step - loss: 0.4904 - accuracy: 0.8151 - val_loss: 0.5096 - val_accuracy: 0.8063\n",
      "Epoch 2/10\n",
      "190/190 [==============================] - 0s 1ms/step - loss: 0.4666 - accuracy: 0.8160 - val_loss: 0.5143 - val_accuracy: 0.8063\n",
      "Epoch 3/10\n",
      "190/190 [==============================] - 0s 1ms/step - loss: 0.4665 - accuracy: 0.8169 - val_loss: 0.5132 - val_accuracy: 0.8063\n",
      "Epoch 4/10\n",
      "190/190 [==============================] - 0s 1ms/step - loss: 0.4606 - accuracy: 0.8160 - val_loss: 0.5097 - val_accuracy: 0.8028\n",
      "Epoch 5/10\n",
      "190/190 [==============================] - 0s 1ms/step - loss: 0.4579 - accuracy: 0.8173 - val_loss: 0.5112 - val_accuracy: 0.8063\n",
      "Epoch 6/10\n",
      "190/190 [==============================] - 0s 1ms/step - loss: 0.4548 - accuracy: 0.8160 - val_loss: 0.5031 - val_accuracy: 0.8063\n",
      "Epoch 7/10\n",
      "190/190 [==============================] - 0s 1ms/step - loss: 0.4539 - accuracy: 0.8156 - val_loss: 0.4972 - val_accuracy: 0.8063\n",
      "Epoch 8/10\n",
      "190/190 [==============================] - 0s 1ms/step - loss: 0.4498 - accuracy: 0.8173 - val_loss: 0.5207 - val_accuracy: 0.8063\n",
      "Epoch 9/10\n",
      "190/190 [==============================] - 0s 1ms/step - loss: 0.4535 - accuracy: 0.8169 - val_loss: 0.5034 - val_accuracy: 0.8028\n",
      "Epoch 10/10\n",
      "190/190 [==============================] - 0s 1ms/step - loss: 0.4506 - accuracy: 0.8182 - val_loss: 0.5069 - val_accuracy: 0.8011\n"
     ]
    },
    {
     "data": {
      "text/plain": [
       "<keras.src.callbacks.History at 0x13f092c1340>"
      ]
     },
     "execution_count": 5,
     "metadata": {},
     "output_type": "execute_result"
    }
   ],
   "source": [
    "# 모델 훈련\n",
    "model.fit(X_train, y_train, epochs=10, batch_size=12, validation_data=(X_test, y_test))"
   ]
  },
  {
   "cell_type": "code",
   "execution_count": 6,
   "id": "c2fc5f13-ab69-45e3-bed9-6a0176349185",
   "metadata": {},
   "outputs": [
    {
     "name": "stdout",
     "output_type": "stream",
     "text": [
      "\n",
      "훈련 과정의 최종 손실 및 정확도:\n",
      "18/18 [==============================] - 0s 511us/step - loss: 0.5069 - accuracy: 0.8011\n",
      "테스트 손실: 0.5069, 테스트 정확도: 0.8011\n"
     ]
    }
   ],
   "source": [
    "# 훈련 과정의 손실 및 정확도 출력\n",
    "print(\"\\n훈련 과정의 최종 손실 및 정확도:\")\n",
    "final_loss, final_accuracy = model.evaluate(X_test, y_test)\n",
    "print(f\"테스트 손실: {final_loss:.4f}, 테스트 정확도: {final_accuracy:.4f}\")"
   ]
  },
  {
   "cell_type": "code",
   "execution_count": 17,
   "id": "c513a042-c61b-4d25-94d7-4339ac06400b",
   "metadata": {},
   "outputs": [
    {
     "name": "stdout",
     "output_type": "stream",
     "text": [
      "18/18 [==============================] - 0s 965us/step\n",
      "\n",
      "분류 성능 보고서:\n",
      "              precision    recall  f1-score   support\n",
      "\n",
      "         비정상       0.29      0.35      0.31       110\n",
      "          정상       0.83      0.79      0.81       458\n",
      "\n",
      "    accuracy                           0.71       568\n",
      "   macro avg       0.56      0.57      0.56       568\n",
      "weighted avg       0.73      0.71      0.72       568\n",
      "\n"
     ]
    }
   ],
   "source": [
    "from sklearn.metrics import classification_report\n",
    "\n",
    "# 테스트 데이터에 대한 예측\n",
    "y_pred = model.predict(X_test)\n",
    "y_pred_classes = (y_pred > 0.75).astype(int)  # 0.8 이상의 확률을 정상(1)으로 변환\n",
    "\n",
    "# 정확도, 정밀도, 재현율, F1 스코어 계산 및 출력\n",
    "print(\"\\n분류 성능 보고서:\")\n",
    "print(classification_report(y_test, y_pred_classes, target_names=[\"비정상\", \"정상\"]))"
   ]
  },
  {
   "cell_type": "code",
   "execution_count": null,
   "id": "cab37feb-be60-4bd0-a3ea-74ca050b9638",
   "metadata": {},
   "outputs": [],
   "source": []
  },
  {
   "cell_type": "code",
   "execution_count": null,
   "id": "69514288-9346-49cc-a465-1a037c52c668",
   "metadata": {},
   "outputs": [],
   "source": []
  },
  {
   "cell_type": "code",
   "execution_count": null,
   "id": "2bff9fd3-c9e6-445f-b8ec-56263efed27f",
   "metadata": {},
   "outputs": [],
   "source": []
  },
  {
   "cell_type": "code",
   "execution_count": null,
   "id": "ec2c5f02-8809-492b-96ce-9bd1b75c3dc9",
   "metadata": {},
   "outputs": [],
   "source": []
  }
 ],
 "metadata": {
  "kernelspec": {
   "display_name": "Python 3 (ipykernel)",
   "language": "python",
   "name": "python3"
  },
  "language_info": {
   "codemirror_mode": {
    "name": "ipython",
    "version": 3
   },
   "file_extension": ".py",
   "mimetype": "text/x-python",
   "name": "python",
   "nbconvert_exporter": "python",
   "pygments_lexer": "ipython3",
   "version": "3.8.19"
  }
 },
 "nbformat": 4,
 "nbformat_minor": 5
}
