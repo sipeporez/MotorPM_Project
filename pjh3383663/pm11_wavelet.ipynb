{
 "cells": [
  {
   "cell_type": "code",
   "execution_count": 47,
   "id": "a8779f58-b0a3-434e-b982-5a9056a3e74d",
   "metadata": {
    "scrolled": true
   },
   "outputs": [],
   "source": [
    "import numpy as np\n",
    "import matplotlib.pyplot as plt\n",
    "import pywt\n",
    "import pandas as pd\n",
    "\n",
    "import torch\n",
    "import torch.nn as nn\n",
    "import torch.optim as optim\n",
    "from sklearn.decomposition import PCA\n",
    "import cupy as cp\n",
    "from sklearn.model_selection import train_test_split"
   ]
  },
  {
   "cell_type": "code",
   "execution_count": 2,
   "id": "704388a1-12d1-47dd-ab8f-3c5cabcd4dc6",
   "metadata": {
    "scrolled": true
   },
   "outputs": [],
   "source": [
    "df = pd.read_csv('data_5528.csv')"
   ]
  },
  {
   "cell_type": "code",
   "execution_count": 3,
   "id": "75eaccb4-864c-4db4-ac56-844689ed3e82",
   "metadata": {
    "scrolled": true
   },
   "outputs": [],
   "source": [
    "df = df.loc[:2200]"
   ]
  },
  {
   "cell_type": "code",
   "execution_count": 4,
   "id": "1ffb12f3-a63e-43e2-af86-8d6bebba752a",
   "metadata": {},
   "outputs": [],
   "source": [
    "df_label = pd.read_csv('55285839-9b78-48d8-9f4e-573190ace016_data.csv')"
   ]
  },
  {
   "cell_type": "code",
   "execution_count": 5,
   "id": "63c34f9f-8856-4dbe-bc9f-317a54af8e3b",
   "metadata": {},
   "outputs": [],
   "source": [
    "df_label = df_label.loc[:2200]"
   ]
  },
  {
   "cell_type": "code",
   "execution_count": 6,
   "id": "491b6683-af3f-499a-b9a9-8ea697c8ac8e",
   "metadata": {
    "scrolled": true
   },
   "outputs": [
    {
     "data": {
      "text/plain": [
       "0       -0.087890625,-0.05859375,-0.0703125,-0.0644531...\n",
       "1       -0.064453125,-0.08203125,-0.076171875,-0.06445...\n",
       "2       -0.029296875,-0.10546875,-0.064453125,-0.07031...\n",
       "3       -0.052734375,-0.0703125,-0.076171875,-0.070312...\n",
       "4       -0.1640625,0.0234375,0.029296875,-0.1875,-0.16...\n",
       "                              ...                        \n",
       "2196    -0.09375,-0.1171875,-0.052734375,-0.10546875,-...\n",
       "2197    -0.05859375,-0.099609375,-0.08203125,-0.070312...\n",
       "2198    -0.10546875,-0.064453125,-0.03515625,-0.099609...\n",
       "2199    -0.076171875,-0.09375,-0.076171875,-0.09960937...\n",
       "2200    -0.052734375,-0.076171875,-0.08203125,-0.08203...\n",
       "Name: waveform_y, Length: 2201, dtype: object"
      ]
     },
     "execution_count": 6,
     "metadata": {},
     "output_type": "execute_result"
    }
   ],
   "source": [
    "df['waveform_y']"
   ]
  },
  {
   "cell_type": "code",
   "execution_count": 7,
   "id": "259b13d2-e9ec-4a66-b261-18491a72ea3b",
   "metadata": {
    "scrolled": true
   },
   "outputs": [],
   "source": [
    "def convert_to_float_list(string):\n",
    "    return [float(x) for x in string.split(',')]"
   ]
  },
  {
   "cell_type": "code",
   "execution_count": 8,
   "id": "3709fcc9-9c4e-45f0-b77d-698be2dfc57e",
   "metadata": {},
   "outputs": [],
   "source": [
    "y = df_label['imbalance_health'].values\n",
    "y = np.where(np.isnan(y), 1, y)\n",
    "y = np.where(y != 1, 0, 1)"
   ]
  },
  {
   "cell_type": "code",
   "execution_count": 9,
   "id": "c170a154-48e2-4007-85db-2e69f732a391",
   "metadata": {},
   "outputs": [],
   "source": [
    "df_wf = pd.DataFrame({\n",
    "    'waveform_y': df['waveform_y'].apply(convert_to_float_list),\n",
    "    'label_imbalance': y\n",
    "})"
   ]
  },
  {
   "cell_type": "code",
   "execution_count": 10,
   "id": "569eb294-44c9-449c-99f0-3587f7905905",
   "metadata": {},
   "outputs": [
    {
     "data": {
      "text/html": [
       "<div>\n",
       "<style scoped>\n",
       "    .dataframe tbody tr th:only-of-type {\n",
       "        vertical-align: middle;\n",
       "    }\n",
       "\n",
       "    .dataframe tbody tr th {\n",
       "        vertical-align: top;\n",
       "    }\n",
       "\n",
       "    .dataframe thead th {\n",
       "        text-align: right;\n",
       "    }\n",
       "</style>\n",
       "<table border=\"1\" class=\"dataframe\">\n",
       "  <thead>\n",
       "    <tr style=\"text-align: right;\">\n",
       "      <th></th>\n",
       "      <th>waveform_y</th>\n",
       "      <th>label_imbalance</th>\n",
       "    </tr>\n",
       "  </thead>\n",
       "  <tbody>\n",
       "    <tr>\n",
       "      <th>0</th>\n",
       "      <td>[-0.087890625, -0.05859375, -0.0703125, -0.064...</td>\n",
       "      <td>1</td>\n",
       "    </tr>\n",
       "    <tr>\n",
       "      <th>1</th>\n",
       "      <td>[-0.064453125, -0.08203125, -0.076171875, -0.0...</td>\n",
       "      <td>1</td>\n",
       "    </tr>\n",
       "    <tr>\n",
       "      <th>2</th>\n",
       "      <td>[-0.029296875, -0.10546875, -0.064453125, -0.0...</td>\n",
       "      <td>1</td>\n",
       "    </tr>\n",
       "    <tr>\n",
       "      <th>3</th>\n",
       "      <td>[-0.052734375, -0.0703125, -0.076171875, -0.07...</td>\n",
       "      <td>1</td>\n",
       "    </tr>\n",
       "    <tr>\n",
       "      <th>4</th>\n",
       "      <td>[-0.1640625, 0.0234375, 0.029296875, -0.1875, ...</td>\n",
       "      <td>1</td>\n",
       "    </tr>\n",
       "    <tr>\n",
       "      <th>...</th>\n",
       "      <td>...</td>\n",
       "      <td>...</td>\n",
       "    </tr>\n",
       "    <tr>\n",
       "      <th>2196</th>\n",
       "      <td>[-0.09375, -0.1171875, -0.052734375, -0.105468...</td>\n",
       "      <td>1</td>\n",
       "    </tr>\n",
       "    <tr>\n",
       "      <th>2197</th>\n",
       "      <td>[-0.05859375, -0.099609375, -0.08203125, -0.07...</td>\n",
       "      <td>1</td>\n",
       "    </tr>\n",
       "    <tr>\n",
       "      <th>2198</th>\n",
       "      <td>[-0.10546875, -0.064453125, -0.03515625, -0.09...</td>\n",
       "      <td>1</td>\n",
       "    </tr>\n",
       "    <tr>\n",
       "      <th>2199</th>\n",
       "      <td>[-0.076171875, -0.09375, -0.076171875, -0.0996...</td>\n",
       "      <td>1</td>\n",
       "    </tr>\n",
       "    <tr>\n",
       "      <th>2200</th>\n",
       "      <td>[-0.052734375, -0.076171875, -0.08203125, -0.0...</td>\n",
       "      <td>1</td>\n",
       "    </tr>\n",
       "  </tbody>\n",
       "</table>\n",
       "<p>2034 rows × 2 columns</p>\n",
       "</div>"
      ],
      "text/plain": [
       "                                             waveform_y  label_imbalance\n",
       "0     [-0.087890625, -0.05859375, -0.0703125, -0.064...                1\n",
       "1     [-0.064453125, -0.08203125, -0.076171875, -0.0...                1\n",
       "2     [-0.029296875, -0.10546875, -0.064453125, -0.0...                1\n",
       "3     [-0.052734375, -0.0703125, -0.076171875, -0.07...                1\n",
       "4     [-0.1640625, 0.0234375, 0.029296875, -0.1875, ...                1\n",
       "...                                                 ...              ...\n",
       "2196  [-0.09375, -0.1171875, -0.052734375, -0.105468...                1\n",
       "2197  [-0.05859375, -0.099609375, -0.08203125, -0.07...                1\n",
       "2198  [-0.10546875, -0.064453125, -0.03515625, -0.09...                1\n",
       "2199  [-0.076171875, -0.09375, -0.076171875, -0.0996...                1\n",
       "2200  [-0.052734375, -0.076171875, -0.08203125, -0.0...                1\n",
       "\n",
       "[2034 rows x 2 columns]"
      ]
     },
     "execution_count": 10,
     "metadata": {},
     "output_type": "execute_result"
    }
   ],
   "source": [
    "df_wf[df_wf['label_imbalance'] == 1]"
   ]
  },
  {
   "cell_type": "code",
   "execution_count": 11,
   "id": "93812092-1428-41b9-965f-f20e4ee67ead",
   "metadata": {
    "scrolled": true
   },
   "outputs": [],
   "source": [
    "# # 샘플 진동 데이터 생성 (1초 동안 3200개의 샘플)\n",
    "# t = np.linspace(0, 1, 3200)\n",
    "# vibration_data = df_wf.loc[0]['waveform_y']\n",
    "\n",
    "# # 노이즈 추가 (정규분포를 따르는 랜덤 노이즈)\n",
    "# noise = np.random.normal(0, 0.5, t.shape)\n",
    "# noisy_vibration_data = vibration_data + noise\n",
    "\n",
    "# # 모웨이블릿 변환 파라미터 설정\n",
    "# scales = np.arange(1, 128)\n",
    "# wavelet = 'cmor1.5-1.0'\n",
    "\n",
    "# # 원래 데이터에 대해 모웨이블릿 변환\n",
    "# coefficients_original, frequencies_original = pywt.cwt(vibration_data, scales, wavelet)\n",
    "\n",
    "# # 노이즈가 추가된 데이터에 대해 모웨이블릿 변환\n",
    "# coefficients_noisy, frequencies_noisy = pywt.cwt(noisy_vibration_data, scales, wavelet)\n",
    "\n",
    "# # 시각화 (원래 데이터)\n",
    "# plt.figure(figsize=(12, 8))\n",
    "\n",
    "# plt.subplot(2, 1, 1)\n",
    "# plt.imshow(np.abs(coefficients_original), extent=[0, 1, 1, 128], cmap='jet', aspect='auto')\n",
    "# plt.colorbar(label='Magnitude')\n",
    "# plt.title('Morlet Wavelet Transform (Original Data)')\n",
    "# plt.xlabel('Time [s]')\n",
    "# plt.ylabel('Scale')\n",
    "\n",
    "# # 시각화 (노이즈가 추가된 데이터)\n",
    "# plt.subplot(2, 1, 2)\n",
    "# plt.imshow(np.abs(coefficients_noisy), extent=[0, 1, 1, 128], cmap='jet', aspect='auto')\n",
    "# plt.colorbar(label='Magnitude')\n",
    "# plt.title('Morlet Wavelet Transform (Noisy Data)')\n",
    "# plt.xlabel('Time [s]')\n",
    "# plt.ylabel('Scale')\n",
    "\n",
    "# plt.tight_layout()\n",
    "# plt.show()\n"
   ]
  },
  {
   "cell_type": "code",
   "execution_count": 40,
   "id": "62227178-5ff7-480e-b54d-92bbde12bd1d",
   "metadata": {},
   "outputs": [
    {
     "ename": "NameError",
     "evalue": "name 'torchwavelet' is not defined",
     "output_type": "error",
     "traceback": [
      "\u001b[1;31m---------------------------------------------------------------------------\u001b[0m",
      "\u001b[1;31mNameError\u001b[0m                                 Traceback (most recent call last)",
      "Cell \u001b[1;32mIn[40], line 10\u001b[0m\n\u001b[0;32m      8\u001b[0m scales \u001b[38;5;241m=\u001b[39m torch\u001b[38;5;241m.\u001b[39marange(\u001b[38;5;241m1\u001b[39m, \u001b[38;5;241m128\u001b[39m)\n\u001b[0;32m      9\u001b[0m wavelet \u001b[38;5;241m=\u001b[39m \u001b[38;5;124m'\u001b[39m\u001b[38;5;124mcmor1.5-1.0\u001b[39m\u001b[38;5;124m'\u001b[39m\n\u001b[1;32m---> 10\u001b[0m coefficients_list \u001b[38;5;241m=\u001b[39m [calculate_cwt_torch(waveform_y, scales, wavelet) \u001b[38;5;28;01mfor\u001b[39;00m waveform_y \u001b[38;5;129;01min\u001b[39;00m df_wf[\u001b[38;5;124m'\u001b[39m\u001b[38;5;124mwaveform_y\u001b[39m\u001b[38;5;124m'\u001b[39m]]\n",
      "Cell \u001b[1;32mIn[40], line 10\u001b[0m, in \u001b[0;36m<listcomp>\u001b[1;34m(.0)\u001b[0m\n\u001b[0;32m      8\u001b[0m scales \u001b[38;5;241m=\u001b[39m torch\u001b[38;5;241m.\u001b[39marange(\u001b[38;5;241m1\u001b[39m, \u001b[38;5;241m128\u001b[39m)\n\u001b[0;32m      9\u001b[0m wavelet \u001b[38;5;241m=\u001b[39m \u001b[38;5;124m'\u001b[39m\u001b[38;5;124mcmor1.5-1.0\u001b[39m\u001b[38;5;124m'\u001b[39m\n\u001b[1;32m---> 10\u001b[0m coefficients_list \u001b[38;5;241m=\u001b[39m [\u001b[43mcalculate_cwt_torch\u001b[49m\u001b[43m(\u001b[49m\u001b[43mwaveform_y\u001b[49m\u001b[43m,\u001b[49m\u001b[43m \u001b[49m\u001b[43mscales\u001b[49m\u001b[43m,\u001b[49m\u001b[43m \u001b[49m\u001b[43mwavelet\u001b[49m\u001b[43m)\u001b[49m \u001b[38;5;28;01mfor\u001b[39;00m waveform_y \u001b[38;5;129;01min\u001b[39;00m df_wf[\u001b[38;5;124m'\u001b[39m\u001b[38;5;124mwaveform_y\u001b[39m\u001b[38;5;124m'\u001b[39m]]\n",
      "Cell \u001b[1;32mIn[40], line 4\u001b[0m, in \u001b[0;36mcalculate_cwt_torch\u001b[1;34m(waveform_y, scales, wavelet)\u001b[0m\n\u001b[0;32m      2\u001b[0m \u001b[38;5;28;01mdef\u001b[39;00m \u001b[38;5;21mcalculate_cwt_torch\u001b[39m(waveform_y, scales, wavelet):\n\u001b[0;32m      3\u001b[0m     waveform_y_tensor \u001b[38;5;241m=\u001b[39m torch\u001b[38;5;241m.\u001b[39mtensor(waveform_y, dtype\u001b[38;5;241m=\u001b[39mtorch\u001b[38;5;241m.\u001b[39mfloat32)\n\u001b[1;32m----> 4\u001b[0m     coefficients_original \u001b[38;5;241m=\u001b[39m \u001b[43mtorchwavelet\u001b[49m\u001b[38;5;241m.\u001b[39mcwt(waveform_y_tensor, scales, wavelet)\n\u001b[0;32m      5\u001b[0m     \u001b[38;5;28;01mreturn\u001b[39;00m coefficients_original\u001b[38;5;241m.\u001b[39mabs()\n",
      "\u001b[1;31mNameError\u001b[0m: name 'torchwavelet' is not defined"
     ]
    }
   ],
   "source": [
    "scales = np.arange(1, 128)\n",
    "wavelet = 'cmor1.5-1.0'\n",
    "coefficients_list = []\n",
    "for i in range(len(df_wf)):\n",
    "    coefficients_original, frequencies_original = pywt.cwt(df_wf.loc[i]['waveform_y'], scales, wavelet)\n",
    "    coefficients_list.append(np.abs(coefficients_original))\n",
    "    if(i % 100 == 0):\n",
    "        print(i)"
   ]
  },
  {
   "cell_type": "code",
   "execution_count": 28,
   "id": "f5fb7457-25c5-40f5-8733-35945aa3bf5e",
   "metadata": {},
   "outputs": [],
   "source": [
    "coefficients_list = np.array(coefficients_list)"
   ]
  },
  {
   "cell_type": "code",
   "execution_count": 60,
   "id": "d707c6fa-b2b6-4242-8423-2b9c4a35034c",
   "metadata": {},
   "outputs": [
    {
     "name": "stdout",
     "output_type": "stream",
     "text": [
      "Epoch [1/10], Loss: 0.0017\n",
      "Epoch [2/10], Loss: 0.0032\n",
      "Epoch [3/10], Loss: 0.0013\n",
      "Epoch [4/10], Loss: 0.0008\n",
      "Epoch [5/10], Loss: 0.0031\n",
      "Epoch [6/10], Loss: 0.0021\n",
      "Epoch [7/10], Loss: 0.0032\n",
      "Epoch [8/10], Loss: 0.0034\n",
      "Epoch [9/10], Loss: 0.0006\n",
      "Epoch [10/10], Loss: 0.0017\n",
      "Training complete!\n",
      "Validation Loss: 0.0019\n"
     ]
    }
   ],
   "source": [
    "\n",
    "# CUDA 사용 가능 여부 확인\n",
    "device = torch.device('cpu')\n",
    "\n",
    "# 데이터셋 크기\n",
    "input_dim = 127 * 3200\n",
    "encoding_dim = 64\n",
    "\n",
    "# 오토인코더 모델 정의\n",
    "class Autoencoder(nn.Module):\n",
    "    def __init__(self, input_dim, encoding_dim):\n",
    "        super(Autoencoder, self).__init__()\n",
    "        \n",
    "        # Encoder\n",
    "        self.encoder = nn.Sequential(\n",
    "            nn.Linear(input_dim, 512),\n",
    "            nn.ReLU(),\n",
    "            nn.Linear(512, encoding_dim),\n",
    "            nn.ReLU()\n",
    "        )\n",
    "        \n",
    "        # Decoder\n",
    "        self.decoder = nn.Sequential(\n",
    "            nn.Linear(encoding_dim, 512),\n",
    "            nn.ReLU(),\n",
    "            nn.Linear(512, input_dim),\n",
    "            nn.Sigmoid()\n",
    "        )\n",
    "\n",
    "    def forward(self, x):\n",
    "        x = self.encoder(x)\n",
    "        x = self.decoder(x)\n",
    "        return x\n",
    "\n",
    "# 모델 초기화\n",
    "model = Autoencoder(input_dim=input_dim, encoding_dim=encoding_dim).to(device)\n",
    "\n",
    "# 손실 함수 및 옵티마이저 설정\n",
    "criterion = nn.MSELoss()\n",
    "optimizer = optim.Adam(model.parameters(), lr=0.001)\n",
    "\n",
    "# CWT 변환된 데이터 (모양: 2201, 127, 3200)\n",
    "X = coefficients_list  # (2201, 127, 3200)\n",
    "y = df_wf['label_imbalance'].to_numpy()  # 레이블 배열\n",
    "\n",
    "# 데이터 전처리: (127, 3200)을 (127 * 3200)으로 펼침\n",
    "X_flattened = X.reshape(X.shape[0], -1)  # (2201, 127*3200)\n",
    "\n",
    "# 데이터 결합: X와 y 결합\n",
    "combined_data = np.hstack((X_flattened, y.reshape(-1, 1)))  # (2201, 127*3200+1)\n",
    "\n",
    "# Train, Validation, Test Set 분리\n",
    "num_samples = combined_data.shape[0]\n",
    "train_size = int(num_samples * 0.7)\n",
    "val_size = int(num_samples * 0.15)\n",
    "\n",
    "# 훈련 세트와 검증 세트를 무작위로 분리\n",
    "train_data, temp_data = train_test_split(combined_data, train_size=train_size, random_state=42)\n",
    "\n",
    "# 남은 데이터를 검증 세트와 테스트 세트로 분리\n",
    "val_data, test_data = train_test_split(temp_data, test_size=0.5, random_state=42)\n",
    "\n",
    "# 데이터 로더 준비\n",
    "X_train_tensor = torch.tensor(train_data[:, :-1], dtype=torch.float32).to(device)  # 훈련 데이터\n",
    "X_val_tensor = torch.tensor(val_data[:, :-1], dtype=torch.float32).to(device)      # 검증 데이터\n",
    "\n",
    "train_loader = torch.utils.data.DataLoader(X_train_tensor, batch_size=32, shuffle=True)\n",
    "\n",
    "# 학습 루프\n",
    "epochs = 10\n",
    "for epoch in range(epochs):\n",
    "    for data in train_loader:\n",
    "        # 입력 데이터\n",
    "        inputs = data.to(device)\n",
    "        \n",
    "        # Forward 패스\n",
    "        outputs = model(inputs)\n",
    "        loss = criterion(outputs, inputs)\n",
    "        \n",
    "        # 역전파 및 옵티마이저 스텝\n",
    "        optimizer.zero_grad()\n",
    "        loss.backward()\n",
    "        optimizer.step()\n",
    "    \n",
    "    print(f'Epoch [{epoch+1}/{epochs}], Loss: {loss.item():.4f}')\n",
    "\n",
    "print(\"Training complete!\")\n",
    "\n",
    "# 검증 세트 평가\n",
    "with torch.no_grad():\n",
    "    val_outputs = model(X_val_tensor)\n",
    "    val_loss = criterion(val_outputs, X_val_tensor)\n",
    "    print(f'Validation Loss: {val_loss.item():.4f}')\n"
   ]
  },
  {
   "cell_type": "code",
   "execution_count": 63,
   "id": "fb705629-3aa9-4fe0-82a8-3204c2e25da3",
   "metadata": {},
   "outputs": [
    {
     "data": {
      "image/png": "[encoded data removed]",
      "text/plain": [
       "<Figure size 1200x600 with 1 Axes>"
      ]
     },
     "metadata": {},
     "output_type": "display_data"
    }
   ],
   "source": [
    "from torch.utils.data import DataLoader, TensorDataset\n",
    "\n",
    "# 테스트 데이터에서 X와 y 추출\n",
    "X_test_flattened = test_data[:, :-1]  # 마지막 열 제외 (레이블)\n",
    "y_test = test_data[:, -1]  # 마지막 열 (레이블)\n",
    "\n",
    "# 테스트 데이터 텐서로 변환\n",
    "X_test_tensor = torch.tensor(X_test_flattened, dtype=torch.float32).to(device)\n",
    "\n",
    "# TensorDataset 및 DataLoader 설정\n",
    "test_dataset = TensorDataset(X_test_tensor)\n",
    "test_dataloader = DataLoader(test_dataset, batch_size=16, shuffle=False)\n",
    "\n",
    "# 모델을 평가 모드로 전환\n",
    "model.eval()\n",
    "\n",
    "reconstructed_list = []\n",
    "\n",
    "# 배치 처리로 데이터 재구성\n",
    "with torch.no_grad():  # 학습이 아니므로 no_grad()로 불필요한 메모리 사용 방지\n",
    "    for batch in test_dataloader:\n",
    "        inputs = batch[0].to(device)  # GPU로 전송\n",
    "        outputs = model(inputs)       # 모델을 사용한 재구성\n",
    "        reconstructed_list.append(outputs.cpu().numpy())  # 결과를 CPU로 전송 후 리스트에 추가\n",
    "\n",
    "# 재구성 결과를 하나의 배열로 결합\n",
    "reconstructed = np.vstack(reconstructed_list)\n",
    "\n",
    "# 재구성 오차 계산\n",
    "reconstruction_error = np.mean(np.power(X_test_flattened - reconstructed, 2), axis=1)\n",
    "\n",
    "# 이상치 탐지 (재구성 오차 기준)\n",
    "threshold = np.percentile(reconstruction_error, 95)  # 상위 5%를 이상치로 간주\n",
    "anomalies = reconstruction_error > threshold\n",
    "\n",
    "# PCA 적용 (2D로 시각화)\n",
    "pca = PCA(n_components=2)\n",
    "X_test_pca = pca.fit_transform(X_test_flattened)\n",
    "\n",
    "# 결과 시각화\n",
    "plt.figure(figsize=(12, 6))\n",
    "\n",
    "# 실제 정상 데이터 포인트\n",
    "plt.scatter(X_test_pca[y_test == 1, 0], X_test_pca[y_test == 1, 1], c='blue', s=5, label='Actual Normal Data')\n",
    "\n",
    "# 실제 비정상 데이터 포인트\n",
    "plt.scatter(X_test_pca[y_test == 0, 0], X_test_pca[y_test == 0, 1], c='orange', s=5, label='Actual Anomalies')\n",
    "\n",
    "# 예측된 이상치 포인트\n",
    "plt.scatter(X_test_pca[anomalies, 0], X_test_pca[anomalies, 1], c='red', s=5, label='Predicted Anomalies')\n",
    "\n",
    "plt.title('PCA Visualization with Actual and Predicted Anomalies on Test Data')\n",
    "plt.legend()\n",
    "plt.show()"
   ]
  }
 ],
 "metadata": {
  "kernelspec": {
   "display_name": "Python 3 (ipykernel)",
   "language": "python",
   "name": "python3"
  },
  "language_info": {
   "codemirror_mode": {
    "name": "ipython",
    "version": 3
   },
   "file_extension": ".py",
   "mimetype": "text/x-python",
   "name": "python",
   "nbconvert_exporter": "python",
   "pygments_lexer": "ipython3",
   "version": "3.8.19"
  }
 },
 "nbformat": 4,
 "nbformat_minor": 5
}
