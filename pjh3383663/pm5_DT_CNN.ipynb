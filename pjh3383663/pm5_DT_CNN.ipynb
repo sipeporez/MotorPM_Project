{
 "cells": [
  {
   "cell_type": "code",
   "execution_count": 4,
   "id": "40618c29-a49b-49e2-8dc7-1096547a185e",
   "metadata": {},
   "outputs": [],
   "source": [
    "import pandas as pd\n",
    "import numpy as np\n",
    "import matplotlib.pyplot as plt\n",
    "\n",
    "\n",
    "from sklearn.model_selection import train_test_split\n",
    "from sklearn.preprocessing import StandardScaler\n",
    "from tensorflow.keras.models import Sequential\n",
    "from tensorflow.keras.layers import Conv1D, MaxPooling1D, Flatten, Dense, Dropout, BatchNormalization\n",
    "from tensorflow.keras.optimizers import Adam\n",
    "from tensorflow.keras.metrics import RootMeanSquaredError"
   ]
  },
  {
   "cell_type": "code",
   "execution_count": 6,
   "id": "fc50ac20-427f-4e17-b4cf-23fe28badded",
   "metadata": {},
   "outputs": [
    {
     "name": "stderr",
     "output_type": "stream",
     "text": [
      "C:\\Users\\user\\AppData\\Local\\Temp\\ipykernel_4352\\4133574894.py:4: FutureWarning: You are using `torch.load` with `weights_only=False` (the current default value), which uses the default pickle module implicitly. It is possible to construct malicious pickle data which will execute arbitrary code during unpickling (See https://github.com/pytorch/pytorch/blob/main/SECURITY.md#untrusted-models for more details). In a future release, the default value for `weights_only` will be flipped to `True`. This limits the functions that could be executed during unpickling. Arbitrary objects will no longer be allowed to be loaded via this mode unless they are explicitly allowlisted by the user via `torch.serialization.add_safe_globals`. We recommend you start setting `weights_only=True` for any use case where you don't have full control of the loaded file. Please open an issue on GitHub for any issues related to this experimental feature.\n",
      "  data = torch.load('sig_datasets.pt')\n"
     ]
    }
   ],
   "source": [
    "data_dir = \"data/PdM/\"\n",
    "data = pd.read_csv(data_dir + \"total.csv\")\n"
   ]
  },
  {
   "cell_type": "code",
   "execution_count": 4,
   "id": "789581f8-5f66-40a4-89a0-e16372a5d576",
   "metadata": {
    "scrolled": true
   },
   "outputs": [],
   "source": [
    "# 'created_at'을 datetime 형식으로 변환\n",
    "data['created_at_datetime'] = pd.to_datetime(data['created_at_datetime'])"
   ]
  },
  {
   "cell_type": "code",
   "execution_count": 5,
   "id": "d6334618-e320-44e3-9ca3-feea48f5e629",
   "metadata": {
    "scrolled": true
   },
   "outputs": [
    {
     "name": "stdout",
     "output_type": "stream",
     "text": [
      "<class 'pandas.core.frame.DataFrame'>\n",
      "RangeIndex: 87506 entries, 0 to 87505\n",
      "Data columns (total 48 columns):\n",
      " #   Column               Non-Null Count  Dtype         \n",
      "---  ------               --------------  -----         \n",
      " 0   asset_id             87506 non-null  object        \n",
      " 1   created_at           87506 non-null  int64         \n",
      " 2   created_at_datetime  87506 non-null  datetime64[ns]\n",
      " 3   temperature          87506 non-null  int64         \n",
      " 4   rms_x                87506 non-null  float64       \n",
      " 5   rms_y                87506 non-null  float64       \n",
      " 6   rms_z                87506 non-null  float64       \n",
      " 7   rms_xyz              87506 non-null  float64       \n",
      " 8   vel_rms_x            87506 non-null  float64       \n",
      " 9   vel_rms_y            87506 non-null  float64       \n",
      " 10  vel_rms_z            87506 non-null  float64       \n",
      " 11  vel_rms_xyz          87506 non-null  float64       \n",
      " 12  skewness_x           87506 non-null  float64       \n",
      " 13  skewness_y           87506 non-null  float64       \n",
      " 14  skewness_z           87506 non-null  float64       \n",
      " 15  vel_skewness_x       87506 non-null  float64       \n",
      " 16  vel_skewness_y       87506 non-null  float64       \n",
      " 17  vel_skewness_z       87506 non-null  float64       \n",
      " 18  kurtosis_x           87506 non-null  float64       \n",
      " 19  kurtosis_y           87506 non-null  float64       \n",
      " 20  kurtosis_z           87506 non-null  float64       \n",
      " 21  vel_kurtosis_x       87506 non-null  float64       \n",
      " 22  vel_kurtosis_y       87506 non-null  float64       \n",
      " 23  vel_kurtosis_z       87506 non-null  float64       \n",
      " 24  crest_factor_x       87506 non-null  float64       \n",
      " 25  crest_factor_y       87506 non-null  float64       \n",
      " 26  crest_factor_z       87506 non-null  float64       \n",
      " 27  vel_crest_factor_x   87506 non-null  float64       \n",
      " 28  vel_crest_factor_y   87506 non-null  float64       \n",
      " 29  vel_crest_factor_z   87506 non-null  float64       \n",
      " 30  peak_x               87506 non-null  float64       \n",
      " 31  peak_y               87506 non-null  float64       \n",
      " 32  peak_z               87506 non-null  float64       \n",
      " 33  vel_peak_x           87506 non-null  float64       \n",
      " 34  vel_peak_y           87506 non-null  float64       \n",
      " 35  vel_peak_z           87506 non-null  float64       \n",
      " 36  peak2peak_x          87506 non-null  float64       \n",
      " 37  peak2peak_y          87506 non-null  float64       \n",
      " 38  peak2peak_z          87506 non-null  float64       \n",
      " 39  vel_peak2peak_x      87506 non-null  float64       \n",
      " 40  vel_peak2peak_y      87506 non-null  float64       \n",
      " 41  vel_peak2peak_z      87506 non-null  float64       \n",
      " 42  time                 87506 non-null  object        \n",
      " 43  imbalance_health     87506 non-null  float64       \n",
      " 44  misalignment_health  87506 non-null  float64       \n",
      " 45  looseness_health     87506 non-null  float64       \n",
      " 46  bearing_health       87506 non-null  float64       \n",
      " 47  asset_health         87506 non-null  float64       \n",
      "dtypes: datetime64[ns](1), float64(43), int64(2), object(2)\n",
      "memory usage: 32.0+ MB\n"
     ]
    }
   ],
   "source": [
    "data.info()"
   ]
  },
  {
   "cell_type": "code",
   "execution_count": 6,
   "id": "b6e56237-ebb8-4b95-a11f-2e3ccc34153c",
   "metadata": {},
   "outputs": [
    {
     "name": "stdout",
     "output_type": "stream",
     "text": [
      "                               asset_id created_at_datetime    created_at  \\\n",
      "0  02dc4105-ca5e-4770-a6fc-d1fdff11fc1c 2024-01-09 00:00:00  1.704733e+09   \n",
      "1  02dc4105-ca5e-4770-a6fc-d1fdff11fc1c 2024-01-09 02:00:00  1.704740e+09   \n",
      "2  02dc4105-ca5e-4770-a6fc-d1fdff11fc1c 2024-01-09 04:00:00  1.704747e+09   \n",
      "3  02dc4105-ca5e-4770-a6fc-d1fdff11fc1c 2024-01-09 06:00:00  1.704754e+09   \n",
      "4  02dc4105-ca5e-4770-a6fc-d1fdff11fc1c 2024-01-09 08:00:00  1.704761e+09   \n",
      "\n",
      "   temperature     rms_x     rms_y     rms_z   rms_xyz  vel_rms_x  vel_rms_y  \\\n",
      "0          9.0  0.046038  0.063046  0.062820  0.100203   0.603069   0.733438   \n",
      "1          9.0  0.040017  0.044373  0.032458  0.067999   0.474454   0.589077   \n",
      "2          9.0  0.014427  0.013719  0.019351  0.027764   0.235237   0.224910   \n",
      "3          9.0  0.014610  0.013812  0.019520  0.028022   0.252305   0.207443   \n",
      "4         10.0  0.013999  0.013907  0.019003  0.027395   0.228062   0.199309   \n",
      "\n",
      "   ...  peak2peak_y  peak2peak_z  vel_peak2peak_x  vel_peak2peak_y  \\\n",
      "0  ...     0.462891     0.363281          4.29524          4.52382   \n",
      "1  ...     0.316406     0.228516          3.49497          3.60230   \n",
      "2  ...     0.117188     0.134766          1.30611          1.41796   \n",
      "3  ...     0.123047     0.134766          1.49767          1.24184   \n",
      "4  ...     0.117188     0.140625          1.26096          1.27550   \n",
      "\n",
      "   vel_peak2peak_z  imbalance_health  misalignment_health  looseness_health  \\\n",
      "0          3.36224               1.0                  1.0               1.0   \n",
      "1          2.54101               1.0                  1.0               1.0   \n",
      "2          2.28805               1.0                  1.0               1.0   \n",
      "3          1.67610               1.0                  1.0               1.0   \n",
      "4          1.99269               1.0                  1.0               1.0   \n",
      "\n",
      "   bearing_health  asset_health  \n",
      "0             1.0           1.0  \n",
      "1             1.0           1.0  \n",
      "2             1.0           1.0  \n",
      "3             1.0           1.0  \n",
      "4             1.0           1.0  \n",
      "\n",
      "[5 rows x 47 columns]\n"
     ]
    }
   ],
   "source": [
    "# 데이터 리샘플링 (2시간 단위로) 및 보간 함수 정의\n",
    "def resample_and_interpolate(group):\n",
    "    # 'created_at'을 인덱스로 설정\n",
    "    group = group.set_index('created_at_datetime')\n",
    "    # 숫자 데이터만 선택하여 리샘플링\n",
    "    numeric_data = group.select_dtypes(include=[np.number])\n",
    "    # 2시간 단위로 리샘플링 후 평균 계산\n",
    "    resampled_data = numeric_data.resample('2H').mean()\n",
    "    # 결측값 보간\n",
    "    resampled_data = resampled_data.interpolate(method='linear')\n",
    "    return resampled_data\n",
    "\n",
    "# 각 asset_id 별로 그룹화하여 리샘플링\n",
    "data_resampled = data.groupby('asset_id').apply(resample_and_interpolate).reset_index()\n",
    "print(data_resampled.head())  # 결과 확인\n"
   ]
  },
  {
   "cell_type": "code",
   "execution_count": null,
   "id": "2ab20dab-b0ef-49b6-b3ef-4dea744b4e33",
   "metadata": {},
   "outputs": [],
   "source": [
    "# 특징과 라벨 분리\n",
    "features = ['rms_x', 'rms_y', 'rms_z', 'rms_xyz', 'vel_rms_x', 'vel_rms_y', 'vel_rms_z', 'vel_rms_xyz',\n",
    "                      'skewness_x', 'skewness_y', 'skewness_z', 'vel_skewness_x', 'vel_skewness_y', 'vel_skewness_z',\n",
    "                      'kurtosis_x', 'kurtosis_y', 'kurtosis_z', 'vel_kurtosis_x', 'vel_kurtosis_y', 'vel_kurtosis_z',\n",
    "                      'crest_factor_x', 'crest_factor_y', 'crest_factor_z', 'vel_crest_factor_x', 'vel_crest_factor_y', 'vel_crest_factor_z',\n",
    "                      'peak_x', 'peak_y', 'peak_z', 'vel_peak_x', 'vel_peak_y', 'vel_peak_z',\n",
    "                      'peak2peak_x', 'peak2peak_y', 'peak2peak_z', 'vel_peak2peak_x', 'vel_peak2peak_y', 'vel_peak2peak_z']\n",
    "labels = ['imbalance_health', 'misalignment_health', 'looseness_health', 'bearing_health', 'asset_health']\n",
    "\n",
    "X = data_resampled[features]\n",
    "y = data_resampled[labels]\n",
    "\n",
    "# 데이터 스케일링\n",
    "scaler = StandardScaler()\n",
    "X_scaled = scaler.fit_transform(X)\n",
    "\n",
    "# 시퀀스 데이터\n",
    "n_timesteps = 12  # 24시간 (12개의 2시간 단위 데이터)\n",
    "n_features = len(features)\n",
    "\n",
    "# 시계열 데이터 형식으로 변환\n",
    "X_sequences = []\n",
    "y_sequences = []\n",
    "for asset_id, group in data_resampled.groupby('asset_id'):\n",
    "    for i in range(len(group) - n_timesteps):\n",
    "        X_seq = group[features].iloc[i:i + n_timesteps].values\n",
    "        y_seq = group[labels].iloc[i + n_timesteps].values\n",
    "        X_sequences.append(X_seq)\n",
    "        y_sequences.append(y_seq)\n",
    "\n",
    "X_sequences = np.array(X_sequences)\n",
    "y_sequences = np.array(y_sequences)\n"
   ]
  },
  {
   "cell_type": "code",
   "execution_count": null,
   "id": "6d447629-f1de-4a9e-a75f-90c1e9f0e491",
   "metadata": {},
   "outputs": [],
   "source": [
    "# 학습, 검증, 테스트 데이터 분할\n",
    "X_train, X_test, y_train, y_test = train_test_split(X_sequences, y_sequences, test_size=0.2, random_state=42)\n",
    "X_train, X_val, y_train, y_val = train_test_split(X_train, y_train, test_size=0.2, random_state=42)"
   ]
  },
  {
   "cell_type": "code",
   "execution_count": null,
   "id": "da9bb743-1d8a-4f24-9511-606fdc595f4f",
   "metadata": {},
   "outputs": [],
   "source": [
    "# 모델 정의\n",
    "model = Sequential([\n",
    "    Conv1D(filters=64, kernel_size=3, activation='relu', input_shape=(n_timesteps, n_features)),\n",
    "    MaxPooling1D(pool_size=2),\n",
    "    Conv1D(filters=128, kernel_size=3, activation='relu'),\n",
    "    MaxPooling1D(pool_size=2),\n",
    "    Flatten(),\n",
    "    Dense(50, activation='relu'),\n",
    "    Dense(5)  # 다중 회귀를 위한 5개의 출력 뉴런\n",
    "])\n",
    "\n",
    "# 모델 컴파일\n",
    "model.compile(optimizer=Adam(learning_rate=0.001), loss='mse', metrics=[RootMeanSquaredError(name=\"rmse\")])"
   ]
  },
  {
   "cell_type": "code",
   "execution_count": null,
   "id": "9bf1090d-1647-4de7-bca2-d7f6a7eaf297",
   "metadata": {
    "scrolled": true
   },
   "outputs": [],
   "source": [
    "# 모델 학습\n",
    "history = model.fit(X_train, y_train, epochs=50, batch_size=32, validation_data=(X_val, y_val))\n",
    "\n",
    "# 학습 과정 시각화\n",
    "plt.plot(history.history['rmse'], label='Training RMSE')\n",
    "plt.plot(history.history['val_rmse'], label='Validation RMSE')\n",
    "plt.xlabel('Epoch')\n",
    "plt.ylabel('RMSE')\n",
    "plt.legend()\n",
    "plt.show()\n"
   ]
  },
  {
   "cell_type": "code",
   "execution_count": null,
   "id": "eaacf0ee-98ff-4fc4-a811-a9b8837c04a7",
   "metadata": {},
   "outputs": [],
   "source": [
    "# 평가\n",
    "test_loss, test_rmse = model.evaluate(X_test, y_test)\n",
    "print(f\"Test RMSE: {test_rmse}\")\n"
   ]
  },
  {
   "cell_type": "code",
   "execution_count": null,
   "id": "38ac6c50-2a74-44d3-8157-f6a7dd887f62",
   "metadata": {},
   "outputs": [],
   "source": [
    "# 모델 예측\n",
    "y_pred = model.predict(X_test)\n",
    "y_pred = np.clip(y_pred, 0, 1)\n",
    "\n",
    "# 시각화\n",
    "plt.figure(figsize=(10, 20))\n",
    "\n",
    "# 각 레이블에 대해 시각화\n",
    "for i in range(5):\n",
    "    plt.subplot(5, 1, i+1)  # 5행 1열의 서브플롯 생성\n",
    "    plt.plot(y_test[:, i], label=f'True Label {i+1}', alpha=0.7)\n",
    "    plt.plot(y_pred[:, i], label=f'Predicted Label {i+1}', alpha=0.7)\n",
    "    plt.xlabel('Samples')\n",
    "    plt.ylabel('Health Metric')\n",
    "    plt.title(f'Label {i+1} Comparison')\n",
    "    plt.legend()\n",
    "\n",
    "plt.tight_layout()\n",
    "plt.show()\n"
   ]
  }
 ],
 "metadata": {
  "kernelspec": {
   "display_name": "Python 3 (ipykernel)",
   "language": "python",
   "name": "python3"
  },
  "language_info": {
   "codemirror_mode": {
    "name": "ipython",
    "version": 3
   },
   "file_extension": ".py",
   "mimetype": "text/x-python",
   "name": "python",
   "nbconvert_exporter": "python",
   "pygments_lexer": "ipython3",
   "version": "3.8.19"
  }
 },
 "nbformat": 4,
 "nbformat_minor": 5
}
