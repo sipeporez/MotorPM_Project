{
 "cells": [
  {
   "cell_type": "code",
   "execution_count": 1,
   "id": "6dc432c3-a596-4a09-8ac5-97e2c7534b74",
   "metadata": {},
   "outputs": [],
   "source": [
    "import pandas as pd\n",
    "import numpy as np\n",
    "import matplotlib.pyplot as plt\n",
    "\n",
    "from sklearn.preprocessing import StandardScaler\n",
    "from tensorflow.keras.models import Model\n",
    "from tensorflow.keras.layers import Input, Dense"
   ]
  },
  {
   "cell_type": "code",
   "execution_count": 2,
   "id": "18b3554e-a17f-4dbd-a5f3-cfbcaea67320",
   "metadata": {},
   "outputs": [],
   "source": [
    "data_dir = \"data/PdM/\"\n",
    "\n",
    "df_mst = pd.read_csv(data_dir + \"ics_asset_mst.csv\", na_values='\\\\N')\n",
    "df_sigdata = pd.read_csv(data_dir + \"ics_asset_sigdata.csv\", na_values='\\\\N')\n",
    "df_status_hist = pd.read_csv(data_dir + \"ics_asset_status_hist.csv\", na_values='\\\\N')\n",
    "\n",
    "df_sensor1 = pd.read_csv(data_dir + \"55285839-9b78-48d8-9f4e-573190ace016_data.csv\")\n",
    "\n",
    "df_mst.columns = ['ASSET_ID', 'ASSET_NAME', 'SENSOR_NUMBER']\n",
    "df_sigdata.columns = ['asset_id', 'created_at',\t'temperature', 'voltage',\n",
    "                      'rms_x', 'rms_y', 'rms_z', 'rms_xyz', 'vel_rms_x', 'vel_rms_y', 'vel_rms_z', 'vel_rms_xyz',\n",
    "                      'skewness_x', 'skewness_y', 'skewness_z', 'vel_skewness_x', 'vel_skewness_y', 'vel_skewness_z',\n",
    "                      'kurtosis_x', 'kurtosis_y', 'kurtosis_z', 'vel_kurtosis_x', 'vel_kurtosis_y', 'vel_kurtosis_z',\n",
    "                      'crest_factor_x', 'crest_factor_y', 'crest_factor_z', 'vel_crest_factor_x', 'vel_crest_factor_y', 'vel_crest_factor_z',\n",
    "                      'peak_x', 'peak_y', 'peak_z', 'vel_peak_x', 'vel_peak_y', 'vel_peak_z',\n",
    "                      'peak2peak_x', 'peak2peak_y', 'peak2peak_z', 'vel_peak2peak_x', 'vel_peak2peak_y', 'vel_peak2peak_z']\n",
    "df_status_hist.columns = ['asset_id', 'time', 'imbalance_health', 'misalignment_health', 'looseness_health', 'bearing_health', 'asset_health', 'CRT_DT']"
   ]
  },
  {
   "cell_type": "code",
   "execution_count": 3,
   "id": "8dea58de-6e3e-4099-9b4e-5d96f24d0c26",
   "metadata": {},
   "outputs": [],
   "source": [
    "# created_at을 datetime으로 변환\n",
    "df_sensor1['created_at'] = pd.to_datetime(df_sensor1['created_at'], unit='s') + pd.Timedelta(hours=9)\n",
    "# status_hist의 time을 datetime으로 변환\n",
    "df_status_hist['time'] = pd.to_datetime(df_status_hist['time'])"
   ]
  },
  {
   "cell_type": "code",
   "execution_count": 4,
   "id": "f7e12484-aa0c-4f11-a3d1-9c4a8703e37a",
   "metadata": {},
   "outputs": [],
   "source": [
    "# 1월 10일부터 7월 31일까지의 데이터만 사용\n",
    "df_sensor1 = df_sensor1[(df_sensor1['created_at'] >= '2024-01-10') & (df_sensor1['created_at'] <= '2024-07-31')].reset_index(drop=True)\n",
    "df_status_hist = df_status_hist[(df_status_hist['time'] >= '2024-01-10') & (df_status_hist['time'] <= '2024-07-31')].reset_index(drop=True).drop('CRT_DT', axis=1)"
   ]
  },
  {
   "cell_type": "code",
   "execution_count": 5,
   "id": "e40fa3f8-0cc1-4528-9e1b-efc69cfb8419",
   "metadata": {},
   "outputs": [],
   "source": [
    "df_input = df_sensor1.drop(columns=['asset_id', 'created_at', 'created_at_datetime', 'time', 'imbalance_health', 'misalignment_health', 'looseness_health', 'bearing_health', 'asset_health'])"
   ]
  },
  {
   "cell_type": "code",
   "execution_count": 8,
   "id": "c6698099-b3a5-4b67-bd87-fbe2a430cc7f",
   "metadata": {
    "scrolled": true
   },
   "outputs": [
    {
     "name": "stdout",
     "output_type": "stream",
     "text": [
      "Epoch 1/50\n",
      "56/56 [==============================] - 1s 5ms/step - loss: 1.1765 - val_loss: 0.8971\n",
      "Epoch 2/50\n",
      "56/56 [==============================] - 0s 1ms/step - loss: 0.8346 - val_loss: 0.6653\n",
      "Epoch 3/50\n",
      "56/56 [==============================] - 0s 1ms/step - loss: 0.7559 - val_loss: 0.6538\n",
      "Epoch 4/50\n",
      "56/56 [==============================] - 0s 1ms/step - loss: 0.7442 - val_loss: 0.6457\n",
      "Epoch 5/50\n",
      "56/56 [==============================] - 0s 1ms/step - loss: 0.7302 - val_loss: 0.6359\n",
      "Epoch 6/50\n",
      "56/56 [==============================] - 0s 1ms/step - loss: 0.7155 - val_loss: 0.6265\n",
      "Epoch 7/50\n",
      "56/56 [==============================] - 0s 1ms/step - loss: 0.7082 - val_loss: 0.6211\n",
      "Epoch 8/50\n",
      "56/56 [==============================] - 0s 1ms/step - loss: 0.7031 - val_loss: 0.6169\n",
      "Epoch 9/50\n",
      "56/56 [==============================] - 0s 1ms/step - loss: 0.7002 - val_loss: 0.6154\n",
      "Epoch 10/50\n",
      "56/56 [==============================] - 0s 1ms/step - loss: 0.6970 - val_loss: 0.6148\n",
      "Epoch 11/50\n",
      "56/56 [==============================] - 0s 1ms/step - loss: 0.6920 - val_loss: 0.6137\n",
      "Epoch 12/50\n",
      "56/56 [==============================] - 0s 1ms/step - loss: 0.6899 - val_loss: 0.6121\n",
      "Epoch 13/50\n",
      "56/56 [==============================] - 0s 1ms/step - loss: 0.6879 - val_loss: 0.6104\n",
      "Epoch 14/50\n",
      "56/56 [==============================] - 0s 1ms/step - loss: 0.6856 - val_loss: 0.6085\n",
      "Epoch 15/50\n",
      "56/56 [==============================] - 0s 1ms/step - loss: 0.6834 - val_loss: 0.6069\n",
      "Epoch 16/50\n",
      "56/56 [==============================] - 0s 1ms/step - loss: 0.6813 - val_loss: 0.6056\n",
      "Epoch 17/50\n",
      "56/56 [==============================] - 0s 1ms/step - loss: 0.6796 - val_loss: 0.6046\n",
      "Epoch 18/50\n",
      "56/56 [==============================] - 0s 1ms/step - loss: 0.6782 - val_loss: 0.6040\n",
      "Epoch 19/50\n",
      "56/56 [==============================] - 0s 1ms/step - loss: 0.6769 - val_loss: 0.6036\n",
      "Epoch 20/50\n",
      "56/56 [==============================] - 0s 1ms/step - loss: 0.6758 - val_loss: 0.6030\n",
      "Epoch 21/50\n",
      "56/56 [==============================] - 0s 1ms/step - loss: 0.6747 - val_loss: 0.6027\n",
      "Epoch 22/50\n",
      "56/56 [==============================] - 0s 1ms/step - loss: 0.6737 - val_loss: 0.6021\n",
      "Epoch 23/50\n",
      "56/56 [==============================] - 0s 1ms/step - loss: 0.6726 - val_loss: 0.6013\n",
      "Epoch 24/50\n",
      "56/56 [==============================] - 0s 1ms/step - loss: 0.6712 - val_loss: 0.6002\n",
      "Epoch 25/50\n",
      "56/56 [==============================] - 0s 1ms/step - loss: 0.6696 - val_loss: 0.5992\n",
      "Epoch 26/50\n",
      "56/56 [==============================] - 0s 1ms/step - loss: 0.6678 - val_loss: 0.5983\n",
      "Epoch 27/50\n",
      "56/56 [==============================] - 0s 1ms/step - loss: 0.6661 - val_loss: 0.5976\n",
      "Epoch 28/50\n",
      "56/56 [==============================] - 0s 1ms/step - loss: 0.6646 - val_loss: 0.5968\n",
      "Epoch 29/50\n",
      "56/56 [==============================] - 0s 1ms/step - loss: 0.6632 - val_loss: 0.5958\n",
      "Epoch 30/50\n",
      "56/56 [==============================] - 0s 1ms/step - loss: 0.6621 - val_loss: 0.5948\n",
      "Epoch 31/50\n",
      "56/56 [==============================] - 0s 1ms/step - loss: 0.6610 - val_loss: 0.5939\n",
      "Epoch 32/50\n",
      "56/56 [==============================] - 0s 1ms/step - loss: 0.6599 - val_loss: 0.5930\n",
      "Epoch 33/50\n",
      "56/56 [==============================] - 0s 1ms/step - loss: 0.6590 - val_loss: 0.5924\n",
      "Epoch 34/50\n",
      "56/56 [==============================] - 0s 1ms/step - loss: 0.6580 - val_loss: 0.5913\n",
      "Epoch 35/50\n",
      "56/56 [==============================] - 0s 1ms/step - loss: 0.6568 - val_loss: 0.5906\n",
      "Epoch 36/50\n",
      "56/56 [==============================] - 0s 1ms/step - loss: 0.6559 - val_loss: 0.5901\n",
      "Epoch 37/50\n",
      "56/56 [==============================] - 0s 1ms/step - loss: 0.6551 - val_loss: 0.5896\n",
      "Epoch 38/50\n",
      "56/56 [==============================] - 0s 1ms/step - loss: 0.6545 - val_loss: 0.5892\n",
      "Epoch 39/50\n",
      "56/56 [==============================] - 0s 1ms/step - loss: 0.6539 - val_loss: 0.5887\n",
      "Epoch 40/50\n",
      "56/56 [==============================] - 0s 1ms/step - loss: 0.6532 - val_loss: 0.5882\n",
      "Epoch 41/50\n",
      "56/56 [==============================] - 0s 1ms/step - loss: 0.6526 - val_loss: 0.5877\n",
      "Epoch 42/50\n",
      "56/56 [==============================] - 0s 1ms/step - loss: 0.6520 - val_loss: 0.5872\n",
      "Epoch 43/50\n",
      "56/56 [==============================] - 0s 1ms/step - loss: 0.6515 - val_loss: 0.5866\n",
      "Epoch 44/50\n",
      "56/56 [==============================] - 0s 1ms/step - loss: 0.6511 - val_loss: 0.5861\n",
      "Epoch 45/50\n",
      "56/56 [==============================] - 0s 1ms/step - loss: 0.6507 - val_loss: 0.5856\n",
      "Epoch 46/50\n",
      "56/56 [==============================] - 0s 1ms/step - loss: 0.6502 - val_loss: 0.5851\n",
      "Epoch 47/50\n",
      "56/56 [==============================] - 0s 1ms/step - loss: 0.6499 - val_loss: 0.5846\n",
      "Epoch 48/50\n",
      "56/56 [==============================] - 0s 1ms/step - loss: 0.6495 - val_loss: 0.5840\n",
      "Epoch 49/50\n",
      "56/56 [==============================] - 0s 1ms/step - loss: 0.6492 - val_loss: 0.5835\n",
      "Epoch 50/50\n",
      "56/56 [==============================] - 0s 1ms/step - loss: 0.6489 - val_loss: 0.5830\n",
      "70/70 [==============================] - 0s 564us/step\n"
     ]
    }
   ],
   "source": [
    "# 데이터 전처리\n",
    "scaler = StandardScaler()\n",
    "X_scaled = scaler.fit_transform(df_input)\n",
    "\n",
    "# AutoEncoder 모델 정의\n",
    "input_dim = X_scaled.shape[1]\n",
    "input_layer = Input(shape=(input_dim,))\n",
    "\n",
    "# Encoder\n",
    "encoded = Dense(32, activation='relu')(input_layer)\n",
    "encoded = Dense(16, activation='relu')(encoded)\n",
    "encoded = Dense(8, activation='relu')(encoded)\n",
    "\n",
    "# Decoder\n",
    "decoded = Dense(16, activation='relu')(encoded)\n",
    "decoded = Dense(32, activation='relu')(decoded)\n",
    "decoded = Dense(input_dim, activation='sigmoid')(decoded)\n",
    "\n",
    "# 모델 생성\n",
    "autoencoder = Model(inputs=input_layer, outputs=decoded)\n",
    "autoencoder.compile(optimizer='adam', loss='mean_squared_error')\n",
    "\n",
    "# 모델 학습\n",
    "history = autoencoder.fit(X_scaled, X_scaled, epochs=50, batch_size=32, shuffle=False, validation_split=0.2)\n",
    "\n",
    "# Reconstruction Loss 계산\n",
    "X_pred = autoencoder.predict(X_scaled)\n",
    "rmse = np.sqrt(np.mean(np.power(X_scaled - X_pred, 2), axis=1))\n",
    "\n",
    "# 이상 탐지 임계값 설정\n",
    "threshold = np.percentile(rmse, 90)\n",
    "anomalies = rmse > threshold"
   ]
  },
  {
   "cell_type": "code",
   "execution_count": 15,
   "id": "6b88a557-a7fd-4dd8-b54a-6f6e21ace0c6",
   "metadata": {},
   "outputs": [
    {
     "data": {
      "image/png": "[encoded data removed]",
      "text/plain": [
       "<Figure size 1000x600 with 1 Axes>"
      ]
     },
     "metadata": {},
     "output_type": "display_data"
    }
   ],
   "source": [
    "# 결과 시각화\n",
    "df_sensor1['Anomaly'] = anomalies\n",
    "plt.figure(figsize=(10,6))\n",
    "plt.plot(df_sensor1['created_at'], rmse, label='Reconstruction Loss')\n",
    "plt.axhline(y=threshold, color='r', linestyle='-', label='Threshold')\n",
    "plt.legend()\n",
    "plt.show()"
   ]
  },
  {
   "cell_type": "code",
   "execution_count": 16,
   "id": "992d9eca-1f7b-47ce-ade2-29a9568289be",
   "metadata": {},
   "outputs": [
    {
     "data": {
      "text/plain": [
       "2004"
      ]
     },
     "execution_count": 16,
     "metadata": {},
     "output_type": "execute_result"
    }
   ],
   "source": [
    "(df_sensor1['Anomaly'] == False).sum()"
   ]
  },
  {
   "cell_type": "code",
   "execution_count": 17,
   "id": "62052fb6-ca5a-423f-8432-bd0c2a3721d1",
   "metadata": {},
   "outputs": [
    {
     "data": {
      "text/plain": [
       "223"
      ]
     },
     "execution_count": 17,
     "metadata": {},
     "output_type": "execute_result"
    }
   ],
   "source": [
    "(df_sensor1['Anomaly'] == True).sum()"
   ]
  },
  {
   "cell_type": "code",
   "execution_count": 18,
   "id": "6677d94e-26d4-486e-bb7d-0439ac720463",
   "metadata": {},
   "outputs": [
    {
     "name": "stdout",
     "output_type": "stream",
     "text": [
      "Accuracy: 0.84\n",
      "Precision: 0.13\n",
      "Recall: 0.15\n",
      "F1 Score: 0.14\n"
     ]
    }
   ],
   "source": [
    "from sklearn.metrics import accuracy_score, precision_score, recall_score, f1_score\n",
    "\n",
    "y_true = df_sensor1['imbalance_health'].apply(lambda x: x != 1)\n",
    "y_pred = df_sensor1['Anomaly']\n",
    "\n",
    "# 정확도, 정밀도, 재현율, F1 스코어 계산\n",
    "accuracy = accuracy_score(y_true, y_pred)\n",
    "precision = precision_score(y_true, y_pred)\n",
    "recall = recall_score(y_true, y_pred)\n",
    "f1 = f1_score(y_true, y_pred)\n",
    "\n",
    "print(f\"Accuracy: {accuracy:.2f}\")\n",
    "print(f\"Precision: {precision:.2f}\")\n",
    "print(f\"Recall: {recall:.2f}\")\n",
    "print(f\"F1 Score: {f1:.2f}\")"
   ]
  },
  {
   "cell_type": "code",
   "execution_count": 19,
   "id": "8a18af18-1742-4e86-8dae-a06749931268",
   "metadata": {},
   "outputs": [
    {
     "data": {
      "text/plain": [
       "223"
      ]
     },
     "execution_count": 19,
     "metadata": {},
     "output_type": "execute_result"
    }
   ],
   "source": [
    "(y_pred == True).sum()"
   ]
  },
  {
   "cell_type": "code",
   "execution_count": 20,
   "id": "20005fd9-c010-4760-bf7e-1dfa2f9384b8",
   "metadata": {},
   "outputs": [
    {
     "data": {
      "text/plain": [
       "191"
      ]
     },
     "execution_count": 20,
     "metadata": {},
     "output_type": "execute_result"
    }
   ],
   "source": [
    "(y_true == True).sum()"
   ]
  },
  {
   "cell_type": "code",
   "execution_count": null,
   "id": "0162bec2-0479-4be8-aa80-080307fbb6bf",
   "metadata": {},
   "outputs": [],
   "source": [
    "df_sensor1"
   ]
  },
  {
   "cell_type": "code",
   "execution_count": null,
   "id": "c15ca511-df86-4703-b9e9-3b3cefb2e5fc",
   "metadata": {},
   "outputs": [],
   "source": []
  }
 ],
 "metadata": {
  "kernelspec": {
   "display_name": "Python 3 (ipykernel)",
   "language": "python",
   "name": "python3"
  },
  "language_info": {
   "codemirror_mode": {
    "name": "ipython",
    "version": 3
   },
   "file_extension": ".py",
   "mimetype": "text/x-python",
   "name": "python",
   "nbconvert_exporter": "python",
   "pygments_lexer": "ipython3",
   "version": "3.8.19"
  }
 },
 "nbformat": 4,
 "nbformat_minor": 5
}
