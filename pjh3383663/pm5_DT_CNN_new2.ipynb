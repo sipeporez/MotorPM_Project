{
 "cells": [
  {
   "cell_type": "code",
   "execution_count": 1,
   "id": "40618c29-a49b-49e2-8dc7-1096547a185e",
   "metadata": {},
   "outputs": [],
   "source": [
    "import pandas as pd\n",
    "import numpy as np\n",
    "import matplotlib.pyplot as plt\n",
    "\n",
    "import torch\n",
    "from sklearn.model_selection import train_test_split\n",
    "from sklearn.preprocessing import StandardScaler\n",
    "from tensorflow.keras.models import Sequential\n",
    "from tensorflow.keras.layers import Conv1D, MaxPooling1D, Flatten, Dense, Dropout, BatchNormalization\n",
    "from tensorflow.keras.optimizers import Adam\n",
    "from tensorflow.keras.metrics import RootMeanSquaredError\n",
    "\n",
    "from sklearn.tree import DecisionTreeClassifier"
   ]
  },
  {
   "cell_type": "code",
   "execution_count": 2,
   "id": "fc50ac20-427f-4e17-b4cf-23fe28badded",
   "metadata": {
    "scrolled": true
   },
   "outputs": [
    {
     "name": "stderr",
     "output_type": "stream",
     "text": [
      "C:\\Users\\user\\AppData\\Local\\Temp\\ipykernel_6440\\1509188321.py:1: FutureWarning: You are using `torch.load` with `weights_only=False` (the current default value), which uses the default pickle module implicitly. It is possible to construct malicious pickle data which will execute arbitrary code during unpickling (See https://github.com/pytorch/pytorch/blob/main/SECURITY.md#untrusted-models for more details). In a future release, the default value for `weights_only` will be flipped to `True`. This limits the functions that could be executed during unpickling. Arbitrary objects will no longer be allowed to be loaded via this mode unless they are explicitly allowlisted by the user via `torch.serialization.add_safe_globals`. We recommend you start setting `weights_only=True` for any use case where you don't have full control of the loaded file. Please open an issue on GitHub for any issues related to this experimental feature.\n",
      "  data = torch.load('spec_datasets_4.pt')\n"
     ]
    }
   ],
   "source": [
    "data = torch.load('spec_datasets_4.pt')"
   ]
  },
  {
   "cell_type": "code",
   "execution_count": 3,
   "id": "6d447629-f1de-4a9e-a75f-90c1e9f0e491",
   "metadata": {},
   "outputs": [],
   "source": [
    "# 학습, 검증, 테스트 데이터 분할\n",
    "X_train, X_test, y_train, y_test = data['X_train'], data['X_test'], data['y_train'], data['y_test']\n",
    "X_train, X_val, y_train, y_val = train_test_split(X_train, y_train, test_size=0.2, random_state=42)\n",
    "\n",
    "X_dev, y_dev = data['X_dev'], data['y_dev']"
   ]
  },
  {
   "cell_type": "code",
   "execution_count": 4,
   "id": "3965dcb4-0ad3-4de6-bf96-bad80ae7e381",
   "metadata": {},
   "outputs": [],
   "source": [
    "X_train = X_train.cpu().numpy()  # PyTorch 텐서를 NumPy 배열로 변환\n",
    "X_val = X_val.cpu().numpy()\n",
    "y_train = y_train.cpu().numpy()\n",
    "y_val = y_val.cpu().numpy()\n",
    "\n",
    "X_test = X_test.cpu().numpy()\n",
    "y_test = y_test.cpu().numpy()\n",
    "\n",
    "X_dev = X_dev.cpu().numpy()\n",
    "y_dev = y_dev.cpu().numpy()"
   ]
  },
  {
   "cell_type": "code",
   "execution_count": 5,
   "id": "bf66dd57-8c0a-4721-bc65-c8275d365be1",
   "metadata": {},
   "outputs": [],
   "source": [
    "X_train = np.squeeze(X_train, axis=1)\n",
    "X_val = np.squeeze(X_val, axis=1)\n",
    "\n",
    "X_test = np.squeeze(X_test, axis=1)\n",
    "\n",
    "X_dev = np.squeeze(X_dev, axis=1)"
   ]
  },
  {
   "cell_type": "code",
   "execution_count": 6,
   "id": "9bf1090d-1647-4de7-bca2-d7f6a7eaf297",
   "metadata": {
    "scrolled": true
   },
   "outputs": [
    {
     "name": "stdout",
     "output_type": "stream",
     "text": [
      "Epoch 1/50\n",
      "65/65 [==============================] - 2s 19ms/step - loss: 1.5898 - accuracy: 0.0077 - val_loss: 1.1867 - val_accuracy: 0.1019\n",
      "Epoch 2/50\n",
      "65/65 [==============================] - 1s 17ms/step - loss: 1.1791 - accuracy: 0.1144 - val_loss: 1.1559 - val_accuracy: 0.1288\n",
      "Epoch 3/50\n",
      "65/65 [==============================] - 1s 18ms/step - loss: 1.1366 - accuracy: 0.1274 - val_loss: 1.0989 - val_accuracy: 0.1615\n",
      "Epoch 4/50\n",
      "65/65 [==============================] - 1s 17ms/step - loss: 1.0343 - accuracy: 0.1639 - val_loss: 0.9449 - val_accuracy: 0.2000\n",
      "Epoch 5/50\n",
      "65/65 [==============================] - 1s 18ms/step - loss: 0.8461 - accuracy: 0.2192 - val_loss: 0.7506 - val_accuracy: 0.2500\n",
      "Epoch 6/50\n",
      "65/65 [==============================] - 1s 17ms/step - loss: 0.5895 - accuracy: 0.2505 - val_loss: 0.4912 - val_accuracy: 0.2346\n",
      "Epoch 7/50\n",
      "65/65 [==============================] - 1s 18ms/step - loss: 0.4178 - accuracy: 0.2529 - val_loss: 0.2746 - val_accuracy: 0.2346\n",
      "Epoch 8/50\n",
      "65/65 [==============================] - 1s 17ms/step - loss: 0.2683 - accuracy: 0.2928 - val_loss: 0.2442 - val_accuracy: 0.3135\n",
      "Epoch 9/50\n",
      "65/65 [==============================] - 1s 18ms/step - loss: 0.2352 - accuracy: 0.3697 - val_loss: 0.2235 - val_accuracy: 0.4346\n",
      "Epoch 10/50\n",
      "65/65 [==============================] - 1s 17ms/step - loss: 0.2177 - accuracy: 0.4663 - val_loss: 0.2179 - val_accuracy: 0.6212\n",
      "Epoch 11/50\n",
      "65/65 [==============================] - 1s 18ms/step - loss: 0.2118 - accuracy: 0.5548 - val_loss: 0.2136 - val_accuracy: 0.3750\n",
      "Epoch 12/50\n",
      "65/65 [==============================] - 1s 18ms/step - loss: 0.2073 - accuracy: 0.5514 - val_loss: 0.2024 - val_accuracy: 0.6288\n",
      "Epoch 13/50\n",
      "65/65 [==============================] - 1s 18ms/step - loss: 0.1977 - accuracy: 0.5692 - val_loss: 0.1965 - val_accuracy: 0.5308\n",
      "Epoch 14/50\n",
      "65/65 [==============================] - 1s 18ms/step - loss: 0.1920 - accuracy: 0.5524 - val_loss: 0.1905 - val_accuracy: 0.5885\n",
      "Epoch 15/50\n",
      "65/65 [==============================] - 1s 18ms/step - loss: 0.1899 - accuracy: 0.5644 - val_loss: 0.1937 - val_accuracy: 0.6712\n",
      "Epoch 16/50\n",
      "65/65 [==============================] - 1s 18ms/step - loss: 0.1869 - accuracy: 0.5481 - val_loss: 0.1830 - val_accuracy: 0.5635\n",
      "Epoch 17/50\n",
      "65/65 [==============================] - 1s 18ms/step - loss: 0.1834 - accuracy: 0.5750 - val_loss: 0.1822 - val_accuracy: 0.6442\n",
      "Epoch 18/50\n",
      "65/65 [==============================] - 1s 18ms/step - loss: 0.1775 - accuracy: 0.6187 - val_loss: 0.1769 - val_accuracy: 0.6308\n",
      "Epoch 19/50\n",
      "65/65 [==============================] - 1s 18ms/step - loss: 0.1757 - accuracy: 0.6481 - val_loss: 0.1851 - val_accuracy: 0.7058\n",
      "Epoch 20/50\n",
      "65/65 [==============================] - 1s 20ms/step - loss: 0.1763 - accuracy: 0.6462 - val_loss: 0.1832 - val_accuracy: 0.7288\n",
      "Epoch 21/50\n",
      "65/65 [==============================] - 1s 19ms/step - loss: 0.1733 - accuracy: 0.6654 - val_loss: 0.1738 - val_accuracy: 0.7000\n",
      "Epoch 22/50\n",
      "65/65 [==============================] - 1s 18ms/step - loss: 0.1727 - accuracy: 0.6986 - val_loss: 0.1737 - val_accuracy: 0.6173\n",
      "Epoch 23/50\n",
      "65/65 [==============================] - 1s 18ms/step - loss: 0.1776 - accuracy: 0.6755 - val_loss: 0.1727 - val_accuracy: 0.5288\n",
      "Epoch 24/50\n",
      "65/65 [==============================] - 1s 18ms/step - loss: 0.1709 - accuracy: 0.6332 - val_loss: 0.1708 - val_accuracy: 0.6481\n",
      "Epoch 25/50\n",
      "65/65 [==============================] - 1s 19ms/step - loss: 0.1710 - accuracy: 0.6284 - val_loss: 0.1750 - val_accuracy: 0.6827\n",
      "Epoch 26/50\n",
      "65/65 [==============================] - 1s 19ms/step - loss: 0.1707 - accuracy: 0.6394 - val_loss: 0.1705 - val_accuracy: 0.6442\n",
      "Epoch 27/50\n",
      "65/65 [==============================] - 1s 19ms/step - loss: 0.1701 - accuracy: 0.6322 - val_loss: 0.1701 - val_accuracy: 0.6596\n",
      "Epoch 28/50\n",
      "65/65 [==============================] - 1s 18ms/step - loss: 0.1700 - accuracy: 0.6673 - val_loss: 0.1699 - val_accuracy: 0.6327\n",
      "Epoch 29/50\n",
      "65/65 [==============================] - 1s 18ms/step - loss: 0.1699 - accuracy: 0.6639 - val_loss: 0.1700 - val_accuracy: 0.6654\n",
      "Epoch 30/50\n",
      "65/65 [==============================] - 1s 18ms/step - loss: 0.1699 - accuracy: 0.6611 - val_loss: 0.1706 - val_accuracy: 0.6731\n",
      "Epoch 31/50\n",
      "65/65 [==============================] - 1s 18ms/step - loss: 0.1699 - accuracy: 0.6654 - val_loss: 0.1701 - val_accuracy: 0.6673\n",
      "Epoch 32/50\n",
      "65/65 [==============================] - 1s 18ms/step - loss: 0.1699 - accuracy: 0.6692 - val_loss: 0.1699 - val_accuracy: 0.6654\n",
      "Epoch 33/50\n",
      "65/65 [==============================] - 1s 18ms/step - loss: 0.1699 - accuracy: 0.6702 - val_loss: 0.1703 - val_accuracy: 0.6692\n",
      "Epoch 34/50\n",
      "65/65 [==============================] - 1s 18ms/step - loss: 0.1699 - accuracy: 0.6635 - val_loss: 0.1699 - val_accuracy: 0.6673\n",
      "Epoch 35/50\n",
      "65/65 [==============================] - 1s 19ms/step - loss: 0.1699 - accuracy: 0.6716 - val_loss: 0.1698 - val_accuracy: 0.6673\n",
      "Epoch 36/50\n",
      "65/65 [==============================] - 1s 18ms/step - loss: 0.1699 - accuracy: 0.6596 - val_loss: 0.1699 - val_accuracy: 0.6731\n",
      "Epoch 37/50\n",
      "65/65 [==============================] - 1s 18ms/step - loss: 0.1699 - accuracy: 0.6745 - val_loss: 0.1704 - val_accuracy: 0.6827\n",
      "Epoch 38/50\n",
      "65/65 [==============================] - 1s 18ms/step - loss: 0.1699 - accuracy: 0.6726 - val_loss: 0.1696 - val_accuracy: 0.6346\n",
      "Epoch 39/50\n",
      "65/65 [==============================] - 1s 18ms/step - loss: 0.1698 - accuracy: 0.6721 - val_loss: 0.1704 - val_accuracy: 0.6865\n",
      "Epoch 40/50\n",
      "65/65 [==============================] - 1s 19ms/step - loss: 0.1698 - accuracy: 0.6769 - val_loss: 0.1702 - val_accuracy: 0.6731\n",
      "Epoch 41/50\n",
      "65/65 [==============================] - 1s 18ms/step - loss: 0.1698 - accuracy: 0.6769 - val_loss: 0.1701 - val_accuracy: 0.6712\n",
      "Epoch 42/50\n",
      "65/65 [==============================] - 1s 18ms/step - loss: 0.1698 - accuracy: 0.6779 - val_loss: 0.1702 - val_accuracy: 0.6769\n",
      "Epoch 43/50\n",
      "65/65 [==============================] - 1s 18ms/step - loss: 0.1698 - accuracy: 0.6788 - val_loss: 0.1701 - val_accuracy: 0.6731\n",
      "Epoch 44/50\n",
      "65/65 [==============================] - 1s 18ms/step - loss: 0.1698 - accuracy: 0.6764 - val_loss: 0.1699 - val_accuracy: 0.6712\n",
      "Epoch 45/50\n",
      "65/65 [==============================] - 1s 18ms/step - loss: 0.1698 - accuracy: 0.6774 - val_loss: 0.1702 - val_accuracy: 0.6808\n",
      "Epoch 46/50\n",
      "65/65 [==============================] - 1s 18ms/step - loss: 0.1698 - accuracy: 0.6755 - val_loss: 0.1699 - val_accuracy: 0.6692\n",
      "Epoch 47/50\n",
      "65/65 [==============================] - 1s 18ms/step - loss: 0.1698 - accuracy: 0.6774 - val_loss: 0.1700 - val_accuracy: 0.6769\n",
      "Epoch 48/50\n",
      "65/65 [==============================] - 1s 18ms/step - loss: 0.1698 - accuracy: 0.6774 - val_loss: 0.1702 - val_accuracy: 0.6788\n",
      "Epoch 49/50\n",
      "65/65 [==============================] - 1s 18ms/step - loss: 0.1698 - accuracy: 0.6784 - val_loss: 0.1700 - val_accuracy: 0.6712\n",
      "Epoch 50/50\n",
      "65/65 [==============================] - 1s 19ms/step - loss: 0.1698 - accuracy: 0.6779 - val_loss: 0.1700 - val_accuracy: 0.6750\n",
      "65/65 [==============================] - 0s 5ms/step\n"
     ]
    },
    {
     "data": {
      "text/html": [
       "<style>#sk-container-id-1 {color: black;}#sk-container-id-1 pre{padding: 0;}#sk-container-id-1 div.sk-toggleable {background-color: white;}#sk-container-id-1 label.sk-toggleable__label {cursor: pointer;display: block;width: 100%;margin-bottom: 0;padding: 0.3em;box-sizing: border-box;text-align: center;}#sk-container-id-1 label.sk-toggleable__label-arrow:before {content: \"▸\";float: left;margin-right: 0.25em;color: #696969;}#sk-container-id-1 label.sk-toggleable__label-arrow:hover:before {color: black;}#sk-container-id-1 div.sk-estimator:hover label.sk-toggleable__label-arrow:before {color: black;}#sk-container-id-1 div.sk-toggleable__content {max-height: 0;max-width: 0;overflow: hidden;text-align: left;background-color: #f0f8ff;}#sk-container-id-1 div.sk-toggleable__content pre {margin: 0.2em;color: black;border-radius: 0.25em;background-color: #f0f8ff;}#sk-container-id-1 input.sk-toggleable__control:checked~div.sk-toggleable__content {max-height: 200px;max-width: 100%;overflow: auto;}#sk-container-id-1 input.sk-toggleable__control:checked~label.sk-toggleable__label-arrow:before {content: \"▾\";}#sk-container-id-1 div.sk-estimator input.sk-toggleable__control:checked~label.sk-toggleable__label {background-color: #d4ebff;}#sk-container-id-1 div.sk-label input.sk-toggleable__control:checked~label.sk-toggleable__label {background-color: #d4ebff;}#sk-container-id-1 input.sk-hidden--visually {border: 0;clip: rect(1px 1px 1px 1px);clip: rect(1px, 1px, 1px, 1px);height: 1px;margin: -1px;overflow: hidden;padding: 0;position: absolute;width: 1px;}#sk-container-id-1 div.sk-estimator {font-family: monospace;background-color: #f0f8ff;border: 1px dotted black;border-radius: 0.25em;box-sizing: border-box;margin-bottom: 0.5em;}#sk-container-id-1 div.sk-estimator:hover {background-color: #d4ebff;}#sk-container-id-1 div.sk-parallel-item::after {content: \"\";width: 100%;border-bottom: 1px solid gray;flex-grow: 1;}#sk-container-id-1 div.sk-label:hover label.sk-toggleable__label {background-color: #d4ebff;}#sk-container-id-1 div.sk-serial::before {content: \"\";position: absolute;border-left: 1px solid gray;box-sizing: border-box;top: 0;bottom: 0;left: 50%;z-index: 0;}#sk-container-id-1 div.sk-serial {display: flex;flex-direction: column;align-items: center;background-color: white;padding-right: 0.2em;padding-left: 0.2em;position: relative;}#sk-container-id-1 div.sk-item {position: relative;z-index: 1;}#sk-container-id-1 div.sk-parallel {display: flex;align-items: stretch;justify-content: center;background-color: white;position: relative;}#sk-container-id-1 div.sk-item::before, #sk-container-id-1 div.sk-parallel-item::before {content: \"\";position: absolute;border-left: 1px solid gray;box-sizing: border-box;top: 0;bottom: 0;left: 50%;z-index: -1;}#sk-container-id-1 div.sk-parallel-item {display: flex;flex-direction: column;z-index: 1;position: relative;background-color: white;}#sk-container-id-1 div.sk-parallel-item:first-child::after {align-self: flex-end;width: 50%;}#sk-container-id-1 div.sk-parallel-item:last-child::after {align-self: flex-start;width: 50%;}#sk-container-id-1 div.sk-parallel-item:only-child::after {width: 0;}#sk-container-id-1 div.sk-dashed-wrapped {border: 1px dashed gray;margin: 0 0.4em 0.5em 0.4em;box-sizing: border-box;padding-bottom: 0.4em;background-color: white;}#sk-container-id-1 div.sk-label label {font-family: monospace;font-weight: bold;display: inline-block;line-height: 1.2em;}#sk-container-id-1 div.sk-label-container {text-align: center;}#sk-container-id-1 div.sk-container {/* jupyter's `normalize.less` sets `[hidden] { display: none; }` but bootstrap.min.css set `[hidden] { display: none !important; }` so we also need the `!important` here to be able to override the default hidden behavior on the sphinx rendered scikit-learn.org. See: https://github.com/scikit-learn/scikit-learn/issues/21755 */display: inline-block !important;position: relative;}#sk-container-id-1 div.sk-text-repr-fallback {display: none;}</style><div id=\"sk-container-id-1\" class=\"sk-top-container\"><div class=\"sk-text-repr-fallback\"><pre>DecisionTreeClassifier()</pre><b>In a Jupyter environment, please rerun this cell to show the HTML representation or trust the notebook. <br />On GitHub, the HTML representation is unable to render, please try loading this page with nbviewer.org.</b></div><div class=\"sk-container\" hidden><div class=\"sk-item\"><div class=\"sk-estimator sk-toggleable\"><input class=\"sk-toggleable__control sk-hidden--visually\" id=\"sk-estimator-id-1\" type=\"checkbox\" checked><label for=\"sk-estimator-id-1\" class=\"sk-toggleable__label sk-toggleable__label-arrow\">DecisionTreeClassifier</label><div class=\"sk-toggleable__content\"><pre>DecisionTreeClassifier()</pre></div></div></div></div></div>"
      ],
      "text/plain": [
       "DecisionTreeClassifier()"
      ]
     },
     "execution_count": 6,
     "metadata": {},
     "output_type": "execute_result"
    }
   ],
   "source": [
    "cnn_model = Sequential([\n",
    "    Conv1D(filters=64, kernel_size=3, activation='relu', input_shape=(36, 2048)),\n",
    "    MaxPooling1D(pool_size=2),\n",
    "    Conv1D(filters=128, kernel_size=3, activation='relu'),\n",
    "    MaxPooling1D(pool_size=2),\n",
    "    Flatten(),\n",
    "    Dense(50, activation='relu')\n",
    "])\n",
    "\n",
    "cnn_model.compile(optimizer=Adam(learning_rate=0.001), \n",
    "                  loss='binary_crossentropy', \n",
    "                  metrics=['accuracy'])\n",
    "\n",
    "cnn_model.fit(X_train, y_train, epochs=50, batch_size=32, validation_data=(X_val, y_val))\n",
    "\n",
    "# CNN 모델로 특징 추출\n",
    "cnn_features = cnn_model.predict(X_train)\n",
    "\n",
    "# Decision Tree 모델로 학습\n",
    "decision_tree = DecisionTreeClassifier()\n",
    "decision_tree.fit(cnn_features, y_train)\n",
    "\n"
   ]
  },
  {
   "cell_type": "code",
   "execution_count": 9,
   "id": "38ac6c50-2a74-44d3-8157-f6a7dd887f62",
   "metadata": {
    "scrolled": true
   },
   "outputs": [
    {
     "name": "stdout",
     "output_type": "stream",
     "text": [
      "1/1 [==============================] - 0s 14ms/step\n",
      "[1 1 1 1 1 1 1 1 1 1 1 1 1 1 1 1 1 1 1 1] [1 0 1 1 1 1 1 1 1 1 1 1 1 1 1 1 0 1 1 1]\n"
     ]
    }
   ],
   "source": [
    "# 모델 평가\n",
    "cnn_test_features = cnn_model.predict(X_test)\n",
    "y_pred = decision_tree.predict(cnn_test_features)\n",
    "# 모델 예측\n",
    "print(y_pred, y_test)"
   ]
  },
  {
   "cell_type": "code",
   "execution_count": 10,
   "id": "95237f8a-be9d-48bb-8c0c-a12460eced03",
   "metadata": {},
   "outputs": [
    {
     "name": "stdout",
     "output_type": "stream",
     "text": [
      "              precision    recall  f1-score   support\n",
      "\n",
      "         비정상       0.00      0.00      0.00         2\n",
      "          정상       0.90      1.00      0.95        18\n",
      "\n",
      "    accuracy                           0.90        20\n",
      "   macro avg       0.45      0.50      0.47        20\n",
      "weighted avg       0.81      0.90      0.85        20\n",
      "\n"
     ]
    },
    {
     "name": "stderr",
     "output_type": "stream",
     "text": [
      "C:\\Users\\user\\anaconda3\\envs\\pdm\\lib\\site-packages\\sklearn\\metrics\\_classification.py:1469: UndefinedMetricWarning: Precision and F-score are ill-defined and being set to 0.0 in labels with no predicted samples. Use `zero_division` parameter to control this behavior.\n",
      "  _warn_prf(average, modifier, msg_start, len(result))\n",
      "C:\\Users\\user\\anaconda3\\envs\\pdm\\lib\\site-packages\\sklearn\\metrics\\_classification.py:1469: UndefinedMetricWarning: Precision and F-score are ill-defined and being set to 0.0 in labels with no predicted samples. Use `zero_division` parameter to control this behavior.\n",
      "  _warn_prf(average, modifier, msg_start, len(result))\n",
      "C:\\Users\\user\\anaconda3\\envs\\pdm\\lib\\site-packages\\sklearn\\metrics\\_classification.py:1469: UndefinedMetricWarning: Precision and F-score are ill-defined and being set to 0.0 in labels with no predicted samples. Use `zero_division` parameter to control this behavior.\n",
      "  _warn_prf(average, modifier, msg_start, len(result))\n"
     ]
    }
   ],
   "source": [
    "from sklearn.metrics import classification_report\n",
    "\n",
    "# 테스트 데이터에 대한 예측\n",
    "# y_pred_classes = (y_pred > 0.6).astype(int)  # 0.8 이상의 확률을 정상(1)으로 변환\n",
    "\n",
    "# 정확도, 정밀도, 재현율, F1 스코어 계산 및 출력\n",
    "print(classification_report(y_test, y_pred, target_names=[\"비정상\", \"정상\"]))"
   ]
  },
  {
   "cell_type": "code",
   "execution_count": null,
   "id": "d64c141a-e9f5-44ca-869c-466b601c1767",
   "metadata": {},
   "outputs": [],
   "source": []
  }
 ],
 "metadata": {
  "kernelspec": {
   "display_name": "Python 3 (ipykernel)",
   "language": "python",
   "name": "python3"
  },
  "language_info": {
   "codemirror_mode": {
    "name": "ipython",
    "version": 3
   },
   "file_extension": ".py",
   "mimetype": "text/x-python",
   "name": "python",
   "nbconvert_exporter": "python",
   "pygments_lexer": "ipython3",
   "version": "3.8.19"
  }
 },
 "nbformat": 4,
 "nbformat_minor": 5
}
