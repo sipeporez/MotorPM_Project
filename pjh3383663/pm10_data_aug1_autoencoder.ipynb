{
 "cells": [
  {
   "cell_type": "code",
   "execution_count": 1,
   "id": "6449c2f9-aa17-4fc8-817d-006e84022d75",
   "metadata": {},
   "outputs": [],
   "source": [
    "import numpy as np\n",
    "import pandas as pd\n",
    "from sklearn.preprocessing import StandardScaler\n",
    "from sklearn.cluster import KMeans\n",
    "from tensorflow.keras.models import Sequential\n",
    "from tensorflow.keras.layers import Conv1D, MaxPooling1D, GlobalAveragePooling1D, Dense, Flatten\n",
    "from sklearn.model_selection import train_test_split\n",
    "\n",
    "from keras.models import Model\n",
    "from keras.layers import Input, Dense"
   ]
  },
  {
   "cell_type": "code",
   "execution_count": 2,
   "id": "d48c9657-575a-440a-90b7-c4a468770094",
   "metadata": {},
   "outputs": [],
   "source": [
    "# 1. 데이터 로드 및 전처리\n",
    "# rms_x, rms_y, ..., vel_peak2peak_z 38개 피처\n",
    "# 타임스텝마다 데이터가 있다고 가정\n",
    "\n",
    "df = pd.read_csv('data/PdM/55285839-9b78-48d8-9f4e-573190ace016_data.csv') # 데이터 로드"
   ]
  },
  {
   "cell_type": "code",
   "execution_count": 3,
   "id": "83c7ea01-bf85-4acf-b668-56fed036de33",
   "metadata": {},
   "outputs": [],
   "source": [
    "df = df.groupby('time')[['rms_x', 'rms_y', 'rms_z', 'rms_xyz', 'vel_rms_x', 'vel_rms_y', 'vel_rms_z', 'vel_rms_xyz',\n",
    "                      'skewness_x', 'skewness_y', 'skewness_z', 'vel_skewness_x', 'vel_skewness_y', 'vel_skewness_z',\n",
    "                      'kurtosis_x', 'kurtosis_y', 'kurtosis_z', 'vel_kurtosis_x', 'vel_kurtosis_y', 'vel_kurtosis_z',\n",
    "                      'crest_factor_x', 'crest_factor_y', 'crest_factor_z', 'vel_crest_factor_x', 'vel_crest_factor_y', 'vel_crest_factor_z',\n",
    "                      'peak_x', 'peak_y', 'peak_z', 'vel_peak_x', 'vel_peak_y', 'vel_peak_z',\n",
    "                      'peak2peak_x', 'peak2peak_y', 'peak2peak_z', 'vel_peak2peak_x', 'vel_peak2peak_y', 'vel_peak2peak_z', 'imbalance_health']].mean().reset_index()"
   ]
  },
  {
   "cell_type": "code",
   "execution_count": 4,
   "id": "a5882e12-48fb-4cb7-9e2f-6fe7be66a12b",
   "metadata": {},
   "outputs": [],
   "source": [
    "# 1. 데이터 로드 및 전처리\n",
    "# rms_x, rms_y, ..., vel_peak2peak_z 38개 피처\n",
    "# 타임스텝마다 데이터가 있다고 가정\n",
    "\n",
    "\n",
    "X = df.iloc[:, 1:39].values  # 피처만 추출\n",
    "y = df.iloc[:, 39:40].values # imbalance\n",
    "#y = np.where(np.isnan(y), 1, y) # nan을 0(비정상)으로\n",
    "y = np.where(y != 1, 0, 1) \n",
    "\n",
    "# 피처 스케일링\n",
    "scaler = StandardScaler()\n",
    "X_scaled = scaler.fit_transform(X)"
   ]
  },
  {
   "cell_type": "code",
   "execution_count": 5,
   "id": "0eb52fcb-5194-4a7d-93a1-e2822d36e9fc",
   "metadata": {},
   "outputs": [],
   "source": [
    "# 2. 훈련 및 테스트 데이터 분할\n",
    "X_train, X_test, y_train, y_test = train_test_split(X_scaled, y, test_size=0.2, random_state=42)"
   ]
  },
  {
   "cell_type": "code",
   "execution_count": 6,
   "id": "a113f0a8-2ee8-42a5-a6e8-1763fccb5548",
   "metadata": {},
   "outputs": [],
   "source": [
    "# 3. 모델 구축\n",
    "input_layer = Input(shape=(X_train.shape[1],))\n",
    "encoder = Dense(32, activation='relu')(input_layer)\n",
    "decoder = Dense(X_train.shape[1], activation='sigmoid')(encoder)\n",
    "\n",
    "autoencoder = Model(input_layer, decoder)\n",
    "autoencoder.compile(optimizer='adam', loss='mse')\n"
   ]
  },
  {
   "cell_type": "code",
   "execution_count": 7,
   "id": "b6b2f44c-a843-4754-9cb8-a133b44b915b",
   "metadata": {},
   "outputs": [
    {
     "data": {
      "text/plain": [
       "(168, 38, 1)"
      ]
     },
     "execution_count": 7,
     "metadata": {},
     "output_type": "execute_result"
    }
   ],
   "source": [
    "# 2D 데이터를 3D로 변환 (time_steps=1)\n",
    "X_train = np.expand_dims(X_train, axis=-1)  # shape: (5724, 1, 38)\n",
    "X_train.shape"
   ]
  },
  {
   "cell_type": "code",
   "execution_count": 8,
   "id": "14195a99-5491-4284-bb63-f40e1ea57ea0",
   "metadata": {},
   "outputs": [
    {
     "name": "stdout",
     "output_type": "stream",
     "text": [
      "Epoch 1/50\n",
      "1/1 [==============================] - 0s 347ms/step - loss: 1.2671\n",
      "Epoch 2/50\n",
      "1/1 [==============================] - 0s 3ms/step - loss: 1.2603\n",
      "Epoch 3/50\n",
      "1/1 [==============================] - 0s 3ms/step - loss: 1.2536\n",
      "Epoch 4/50\n",
      "1/1 [==============================] - 0s 3ms/step - loss: 1.2468\n",
      "Epoch 5/50\n",
      "1/1 [==============================] - 0s 2ms/step - loss: 1.2401\n",
      "Epoch 6/50\n",
      "1/1 [==============================] - 0s 3ms/step - loss: 1.2335\n",
      "Epoch 7/50\n",
      "1/1 [==============================] - 0s 4ms/step - loss: 1.2269\n",
      "Epoch 8/50\n",
      "1/1 [==============================] - 0s 3ms/step - loss: 1.2203\n",
      "Epoch 9/50\n",
      "1/1 [==============================] - 0s 2ms/step - loss: 1.2137\n",
      "Epoch 10/50\n",
      "1/1 [==============================] - 0s 3ms/step - loss: 1.2072\n",
      "Epoch 11/50\n",
      "1/1 [==============================] - 0s 2ms/step - loss: 1.2007\n",
      "Epoch 12/50\n",
      "1/1 [==============================] - 0s 3ms/step - loss: 1.1941\n",
      "Epoch 13/50\n",
      "1/1 [==============================] - 0s 2ms/step - loss: 1.1877\n",
      "Epoch 14/50\n",
      "1/1 [==============================] - 0s 3ms/step - loss: 1.1812\n",
      "Epoch 15/50\n",
      "1/1 [==============================] - 0s 3ms/step - loss: 1.1747\n",
      "Epoch 16/50\n",
      "1/1 [==============================] - 0s 2ms/step - loss: 1.1683\n",
      "Epoch 17/50\n",
      "1/1 [==============================] - 0s 3ms/step - loss: 1.1618\n",
      "Epoch 18/50\n",
      "1/1 [==============================] - 0s 3ms/step - loss: 1.1554\n",
      "Epoch 19/50\n",
      "1/1 [==============================] - 0s 3ms/step - loss: 1.1489\n",
      "Epoch 20/50\n",
      "1/1 [==============================] - 0s 3ms/step - loss: 1.1424\n",
      "Epoch 21/50\n",
      "1/1 [==============================] - 0s 3ms/step - loss: 1.1359\n",
      "Epoch 22/50\n",
      "1/1 [==============================] - 0s 3ms/step - loss: 1.1294\n",
      "Epoch 23/50\n",
      "1/1 [==============================] - 0s 2ms/step - loss: 1.1230\n",
      "Epoch 24/50\n",
      "1/1 [==============================] - 0s 3ms/step - loss: 1.1165\n",
      "Epoch 25/50\n",
      "1/1 [==============================] - 0s 2ms/step - loss: 1.1099\n",
      "Epoch 26/50\n",
      "1/1 [==============================] - 0s 3ms/step - loss: 1.1034\n",
      "Epoch 27/50\n",
      "1/1 [==============================] - 0s 2ms/step - loss: 1.0969\n",
      "Epoch 28/50\n",
      "1/1 [==============================] - 0s 3ms/step - loss: 1.0904\n",
      "Epoch 29/50\n",
      "1/1 [==============================] - 0s 2ms/step - loss: 1.0838\n",
      "Epoch 30/50\n",
      "1/1 [==============================] - 0s 2ms/step - loss: 1.0773\n",
      "Epoch 31/50\n",
      "1/1 [==============================] - 0s 3ms/step - loss: 1.0708\n",
      "Epoch 32/50\n",
      "1/1 [==============================] - 0s 2ms/step - loss: 1.0642\n",
      "Epoch 33/50\n",
      "1/1 [==============================] - 0s 3ms/step - loss: 1.0577\n",
      "Epoch 34/50\n",
      "1/1 [==============================] - 0s 2ms/step - loss: 1.0513\n",
      "Epoch 35/50\n",
      "1/1 [==============================] - 0s 2ms/step - loss: 1.0448\n",
      "Epoch 36/50\n",
      "1/1 [==============================] - 0s 3ms/step - loss: 1.0383\n",
      "Epoch 37/50\n",
      "1/1 [==============================] - 0s 3ms/step - loss: 1.0318\n",
      "Epoch 38/50\n",
      "1/1 [==============================] - 0s 3ms/step - loss: 1.0254\n",
      "Epoch 39/50\n",
      "1/1 [==============================] - 0s 2ms/step - loss: 1.0189\n",
      "Epoch 40/50\n",
      "1/1 [==============================] - 0s 3ms/step - loss: 1.0125\n",
      "Epoch 41/50\n",
      "1/1 [==============================] - 0s 2ms/step - loss: 1.0061\n",
      "Epoch 42/50\n",
      "1/1 [==============================] - 0s 2ms/step - loss: 0.9997\n",
      "Epoch 43/50\n",
      "1/1 [==============================] - 0s 3ms/step - loss: 0.9934\n",
      "Epoch 44/50\n",
      "1/1 [==============================] - 0s 3ms/step - loss: 0.9870\n",
      "Epoch 45/50\n",
      "1/1 [==============================] - 0s 2ms/step - loss: 0.9808\n",
      "Epoch 46/50\n",
      "1/1 [==============================] - 0s 2ms/step - loss: 0.9745\n",
      "Epoch 47/50\n",
      "1/1 [==============================] - 0s 2ms/step - loss: 0.9683\n",
      "Epoch 48/50\n",
      "1/1 [==============================] - 0s 2ms/step - loss: 0.9622\n",
      "Epoch 49/50\n",
      "1/1 [==============================] - 0s 3ms/step - loss: 0.9562\n",
      "Epoch 50/50\n",
      "1/1 [==============================] - 0s 2ms/step - loss: 0.9502\n"
     ]
    },
    {
     "data": {
      "text/plain": [
       "<keras.src.callbacks.History at 0x23ba0e47850>"
      ]
     },
     "execution_count": 8,
     "metadata": {},
     "output_type": "execute_result"
    }
   ],
   "source": [
    "# 학습\n",
    "autoencoder.fit(X_train, X_train, epochs=50, batch_size=256, shuffle=True)"
   ]
  },
  {
   "cell_type": "code",
   "execution_count": 9,
   "id": "c513a042-c61b-4d25-94d7-4339ac06400b",
   "metadata": {},
   "outputs": [
    {
     "name": "stdout",
     "output_type": "stream",
     "text": [
      "2/2 [==============================] - 0s 0s/step\n",
      "\n",
      "분류 성능 보고서:\n",
      "              precision    recall  f1-score   support\n",
      "\n",
      "         비정상       0.00      0.00      0.00         4\n",
      "          정상       0.90      0.95      0.92        38\n",
      "\n",
      "    accuracy                           0.86        42\n",
      "   macro avg       0.45      0.47      0.46        42\n",
      "weighted avg       0.81      0.86      0.84        42\n",
      "\n"
     ]
    }
   ],
   "source": [
    "from sklearn.metrics import classification_report\n",
    "\n",
    "# 테스트 데이터에 대한 예측\n",
    "y_pred = autoencoder.predict(X_test)\n",
    "\n",
    "# MSE (Mean Squared Error)로 재구성 오차 계산\n",
    "mse = np.mean(np.power(X_test - y_pred, 2), axis=1)  # 각 샘플의 MSE 계산\n",
    "\n",
    "# 임계값 설정 (예: 재구성 오차의 95번째 백분위수)\n",
    "threshold = np.percentile(mse, 97.5)\n",
    "\n",
    "# 이상치 판별\n",
    "y_pred_classes = np.where(mse > threshold, 0, 1)  # 1은 이상치, 0은 정상\n",
    "\n",
    "# y_test를 1차원으로 변환\n",
    "y_test_flat = y_test.flatten()  # (1432, 1) -> (1432,)\n",
    "\n",
    "# 분류 성능 보고서 출력\n",
    "print(\"\\n분류 성능 보고서:\")\n",
    "print(classification_report(y_test_flat, y_pred_classes, target_names=[\"비정상\", \"정상\"]))"
   ]
  }
 ],
 "metadata": {
  "kernelspec": {
   "display_name": "Python 3 (ipykernel)",
   "language": "python",
   "name": "python3"
  },
  "language_info": {
   "codemirror_mode": {
    "name": "ipython",
    "version": 3
   },
   "file_extension": ".py",
   "mimetype": "text/x-python",
   "name": "python",
   "nbconvert_exporter": "python",
   "pygments_lexer": "ipython3",
   "version": "3.8.19"
  }
 },
 "nbformat": 4,
 "nbformat_minor": 5
}
