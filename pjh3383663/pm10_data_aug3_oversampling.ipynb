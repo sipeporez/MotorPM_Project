{
 "cells": [
  {
   "cell_type": "code",
   "execution_count": 1,
   "id": "6449c2f9-aa17-4fc8-817d-006e84022d75",
   "metadata": {},
   "outputs": [],
   "source": [
    "import numpy as np\n",
    "import pandas as pd\n",
    "from sklearn.preprocessing import StandardScaler\n",
    "from sklearn.cluster import KMeans\n",
    "from tensorflow.keras.models import Sequential\n",
    "from tensorflow.keras.layers import Conv1D, MaxPooling1D, GlobalAveragePooling1D, Dense, Flatten, Dropout\n",
    "from sklearn.model_selection import train_test_split"
   ]
  },
  {
   "cell_type": "code",
   "execution_count": 2,
   "id": "d48c9657-575a-440a-90b7-c4a468770094",
   "metadata": {},
   "outputs": [],
   "source": [
    "# 1. 데이터 로드 및 전처리\n",
    "# rms_x, rms_y, ..., vel_peak2peak_z 38개 피처\n",
    "# 타임스텝마다 데이터가 있다고 가정\n",
    "\n",
    "df = pd.read_csv('55285839-9b78-48d8-9f4e-573190ace016_data.csv') # 데이터 로드"
   ]
  },
  {
   "cell_type": "code",
   "execution_count": 3,
   "id": "83c7ea01-bf85-4acf-b668-56fed036de33",
   "metadata": {},
   "outputs": [],
   "source": [
    "df = df.groupby('time')[['rms_x', 'rms_y', 'rms_z', 'rms_xyz', 'vel_rms_x', 'vel_rms_y', 'vel_rms_z', 'vel_rms_xyz',\n",
    "                      'skewness_x', 'skewness_y', 'skewness_z', 'vel_skewness_x', 'vel_skewness_y', 'vel_skewness_z',\n",
    "                      'kurtosis_x', 'kurtosis_y', 'kurtosis_z', 'vel_kurtosis_x', 'vel_kurtosis_y', 'vel_kurtosis_z',\n",
    "                      'crest_factor_x', 'crest_factor_y', 'crest_factor_z', 'vel_crest_factor_x', 'vel_crest_factor_y', 'vel_crest_factor_z',\n",
    "                      'peak_x', 'peak_y', 'peak_z', 'vel_peak_x', 'vel_peak_y', 'vel_peak_z',\n",
    "                      'peak2peak_x', 'peak2peak_y', 'peak2peak_z', 'vel_peak2peak_x', 'vel_peak2peak_y', 'vel_peak2peak_z', 'imbalance_health']].mean().reset_index()"
   ]
  },
  {
   "cell_type": "code",
   "execution_count": 4,
   "id": "a5882e12-48fb-4cb7-9e2f-6fe7be66a12b",
   "metadata": {},
   "outputs": [],
   "source": [
    "# 1. 데이터 로드 및 전처리\n",
    "# rms_x, rms_y, ..., vel_peak2peak_z 38개 피처\n",
    "# 타임스텝마다 데이터가 있다고 가정\n",
    "\n",
    "\n",
    "X = df.iloc[:, 1:39].values  # 피처만 추출\n",
    "y = df.iloc[:, 39:40].values # imbalance\n",
    "#y = np.where(np.isnan(y), 1, y) # nan을 0(비정상)으로\n",
    "y = np.where(y != 1, 0, 1) \n",
    "\n",
    "# 피처 스케일링\n",
    "scaler = StandardScaler()\n",
    "X_scaled = scaler.fit_transform(X)"
   ]
  },
  {
   "cell_type": "code",
   "execution_count": 5,
   "id": "0eb52fcb-5194-4a7d-93a1-e2822d36e9fc",
   "metadata": {},
   "outputs": [],
   "source": [
    "# 2. 훈련 및 테스트 데이터 분할\n",
    "X_train, X_test, y_train, y_test = train_test_split(X_scaled, y, test_size=0.2, random_state=42)"
   ]
  },
  {
   "cell_type": "code",
   "execution_count": 6,
   "id": "9af12efb-31ca-4605-83be-6c3c2bb1cab4",
   "metadata": {},
   "outputs": [
    {
     "name": "stdout",
     "output_type": "stream",
     "text": [
      "189 189 48 48\n"
     ]
    }
   ],
   "source": [
    "print(len(X_train), len(y_train), len(X_test), len(y_test))"
   ]
  },
  {
   "cell_type": "code",
   "execution_count": 7,
   "id": "905c8901-e287-4b88-a6f4-b5910bfca741",
   "metadata": {
    "scrolled": true
   },
   "outputs": [],
   "source": [
    "# from imblearn.over_sampling import SMOTE\n",
    "\n",
    "# smote = SMOTE()\n",
    "# X_train, y_train = smote.fit_resample(X_train, y_train)\n",
    "# X_test, y_test = smote.fit_resample(X_test, y_test)"
   ]
  },
  {
   "cell_type": "code",
   "execution_count": 8,
   "id": "ba7e9a2b-7d09-45f0-9ddd-349b039c1ccd",
   "metadata": {},
   "outputs": [
    {
     "name": "stdout",
     "output_type": "stream",
     "text": [
      "189 189 48 48\n"
     ]
    }
   ],
   "source": [
    "print(len(X_train), len(y_train), len(X_test), len(y_test))"
   ]
  },
  {
   "cell_type": "code",
   "execution_count": 9,
   "id": "a113f0a8-2ee8-42a5-a6e8-1763fccb5548",
   "metadata": {},
   "outputs": [],
   "source": [
    "# 3. 1D-CNN 모델 구축\n",
    "model = Sequential()\n",
    "model.add(Conv1D(filters=64, kernel_size=3, activation='relu', input_shape=(X_train.shape[1], 1)))\n",
    "model.add(MaxPooling1D(pool_size=2))\n",
    "model.add(Flatten())\n",
    "model.add(Dense(32, activation='relu'))\n",
    "model.add(Dense(1, activation='sigmoid'))  # 이진 분류\n",
    "\n",
    "model.compile(optimizer='adam', loss='binary_crossentropy', metrics=['accuracy'])"
   ]
  },
  {
   "cell_type": "code",
   "execution_count": 10,
   "id": "14195a99-5491-4284-bb63-f40e1ea57ea0",
   "metadata": {
    "scrolled": true
   },
   "outputs": [
    {
     "name": "stdout",
     "output_type": "stream",
     "text": [
      "Epoch 1/20\n",
      "6/6 [==============================] - 1s 31ms/step - loss: 0.5622 - accuracy: 0.7831 - val_loss: 0.5544 - val_accuracy: 0.7708\n",
      "Epoch 2/20\n",
      "6/6 [==============================] - 0s 5ms/step - loss: 0.4824 - accuracy: 0.8254 - val_loss: 0.5775 - val_accuracy: 0.7708\n",
      "Epoch 3/20\n",
      "6/6 [==============================] - 0s 5ms/step - loss: 0.4764 - accuracy: 0.8254 - val_loss: 0.5478 - val_accuracy: 0.7708\n",
      "Epoch 4/20\n",
      "6/6 [==============================] - 0s 6ms/step - loss: 0.4596 - accuracy: 0.8254 - val_loss: 0.5374 - val_accuracy: 0.7708\n",
      "Epoch 5/20\n",
      "6/6 [==============================] - 0s 5ms/step - loss: 0.4488 - accuracy: 0.8254 - val_loss: 0.5464 - val_accuracy: 0.7708\n",
      "Epoch 6/20\n",
      "6/6 [==============================] - 0s 5ms/step - loss: 0.4483 - accuracy: 0.8254 - val_loss: 0.5699 - val_accuracy: 0.7708\n",
      "Epoch 7/20\n",
      "6/6 [==============================] - 0s 5ms/step - loss: 0.4413 - accuracy: 0.8254 - val_loss: 0.5599 - val_accuracy: 0.7708\n",
      "Epoch 8/20\n",
      "6/6 [==============================] - 0s 5ms/step - loss: 0.4321 - accuracy: 0.8254 - val_loss: 0.5673 - val_accuracy: 0.7708\n",
      "Epoch 9/20\n",
      "6/6 [==============================] - 0s 5ms/step - loss: 0.4231 - accuracy: 0.8254 - val_loss: 0.5716 - val_accuracy: 0.7708\n",
      "Epoch 10/20\n",
      "6/6 [==============================] - 0s 5ms/step - loss: 0.4230 - accuracy: 0.8307 - val_loss: 0.5578 - val_accuracy: 0.7708\n",
      "Epoch 11/20\n",
      "6/6 [==============================] - 0s 5ms/step - loss: 0.4199 - accuracy: 0.8307 - val_loss: 0.5747 - val_accuracy: 0.7708\n",
      "Epoch 12/20\n",
      "6/6 [==============================] - 0s 5ms/step - loss: 0.4108 - accuracy: 0.8307 - val_loss: 0.5661 - val_accuracy: 0.7708\n",
      "Epoch 13/20\n",
      "6/6 [==============================] - 0s 5ms/step - loss: 0.4057 - accuracy: 0.8307 - val_loss: 0.5774 - val_accuracy: 0.7708\n",
      "Epoch 14/20\n",
      "6/6 [==============================] - 0s 5ms/step - loss: 0.4000 - accuracy: 0.8307 - val_loss: 0.5765 - val_accuracy: 0.7708\n",
      "Epoch 15/20\n",
      "6/6 [==============================] - 0s 5ms/step - loss: 0.3958 - accuracy: 0.8360 - val_loss: 0.5743 - val_accuracy: 0.7708\n",
      "Epoch 16/20\n",
      "6/6 [==============================] - 0s 6ms/step - loss: 0.3909 - accuracy: 0.8360 - val_loss: 0.5791 - val_accuracy: 0.7708\n",
      "Epoch 17/20\n",
      "6/6 [==============================] - 0s 5ms/step - loss: 0.3874 - accuracy: 0.8360 - val_loss: 0.5887 - val_accuracy: 0.7708\n",
      "Epoch 18/20\n",
      "6/6 [==============================] - 0s 6ms/step - loss: 0.3840 - accuracy: 0.8360 - val_loss: 0.5861 - val_accuracy: 0.7292\n",
      "Epoch 19/20\n",
      "6/6 [==============================] - 0s 6ms/step - loss: 0.3797 - accuracy: 0.8413 - val_loss: 0.5986 - val_accuracy: 0.7708\n",
      "Epoch 20/20\n",
      "6/6 [==============================] - 0s 5ms/step - loss: 0.3727 - accuracy: 0.8413 - val_loss: 0.5946 - val_accuracy: 0.7500\n"
     ]
    },
    {
     "data": {
      "text/plain": [
       "<keras.src.callbacks.History at 0x28f7183b4c0>"
      ]
     },
     "execution_count": 10,
     "metadata": {},
     "output_type": "execute_result"
    }
   ],
   "source": [
    "# 모델 훈련\n",
    "model.fit(X_train, y_train, epochs=20, batch_size=32, validation_data=(X_test, y_test))"
   ]
  },
  {
   "cell_type": "code",
   "execution_count": 11,
   "id": "c2fc5f13-ab69-45e3-bed9-6a0176349185",
   "metadata": {},
   "outputs": [
    {
     "name": "stdout",
     "output_type": "stream",
     "text": [
      "\n",
      "훈련 과정의 최종 손실 및 정확도:\n",
      "2/2 [==============================] - 0s 3ms/step - loss: 0.5946 - accuracy: 0.7500\n",
      "테스트 손실: 0.5946, 테스트 정확도: 0.7500\n"
     ]
    }
   ],
   "source": [
    "# 훈련 과정의 손실 및 정확도 출력\n",
    "print(\"\\n훈련 과정의 최종 손실 및 정확도:\")\n",
    "final_loss, final_accuracy = model.evaluate(X_test, y_test)\n",
    "print(f\"테스트 손실: {final_loss:.4f}, 테스트 정확도: {final_accuracy:.4f}\")"
   ]
  },
  {
   "cell_type": "code",
   "execution_count": 12,
   "id": "c513a042-c61b-4d25-94d7-4339ac06400b",
   "metadata": {},
   "outputs": [
    {
     "name": "stdout",
     "output_type": "stream",
     "text": [
      "2/2 [==============================] - 0s 2ms/step\n",
      "\n",
      "분류 성능 보고서:\n",
      "              precision    recall  f1-score   support\n",
      "\n",
      "         비정상       0.20      0.09      0.13        11\n",
      "          정상       0.77      0.89      0.82        37\n",
      "\n",
      "    accuracy                           0.71        48\n",
      "   macro avg       0.48      0.49      0.47        48\n",
      "weighted avg       0.64      0.71      0.66        48\n",
      "\n"
     ]
    }
   ],
   "source": [
    "from sklearn.metrics import classification_report\n",
    "\n",
    "# 테스트 데이터에 대한 예측\n",
    "y_pred = model.predict(X_test)\n",
    "y_pred_classes = (y_pred > 0.7).astype(int)  # 0.8 이상의 확률을 정상(1)으로 변환\n",
    "\n",
    "# 정확도, 정밀도, 재현율, F1 스코어 계산 및 출력\n",
    "print(\"\\n분류 성능 보고서:\")\n",
    "print(classification_report(y_test, y_pred_classes, target_names=[\"비정상\", \"정상\"]))"
   ]
  },
  {
   "cell_type": "code",
   "execution_count": null,
   "id": "69514288-9346-49cc-a465-1a037c52c668",
   "metadata": {},
   "outputs": [],
   "source": []
  }
 ],
 "metadata": {
  "kernelspec": {
   "display_name": "Python 3 (ipykernel)",
   "language": "python",
   "name": "python3"
  },
  "language_info": {
   "codemirror_mode": {
    "name": "ipython",
    "version": 3
   },
   "file_extension": ".py",
   "mimetype": "text/x-python",
   "name": "python",
   "nbconvert_exporter": "python",
   "pygments_lexer": "ipython3",
   "version": "3.8.19"
  }
 },
 "nbformat": 4,
 "nbformat_minor": 5
}
