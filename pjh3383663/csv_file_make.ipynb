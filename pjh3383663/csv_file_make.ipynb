{
 "cells": [
  {
   "cell_type": "code",
   "execution_count": 1,
   "id": "eab90dce-df62-4ae3-a7f8-ab73e19a789b",
   "metadata": {},
   "outputs": [],
   "source": [
    "import pandas as pd\n",
    "import numpy as np"
   ]
  },
  {
   "cell_type": "code",
   "execution_count": 2,
   "id": "cf6ddc3f-54f1-4e6a-b77f-7f66bed969d0",
   "metadata": {},
   "outputs": [],
   "source": [
    "data_5528 = pd.read_csv(\"data_5528.csv\")"
   ]
  },
  {
   "cell_type": "code",
   "execution_count": 3,
   "id": "df21dc24-5230-4683-b30e-8cb597a9c304",
   "metadata": {},
   "outputs": [],
   "source": [
    "# created_at, spectrum y만 뽑기\n",
    "spectrum_y = data_5528[['created_at', 'spectrum_y_freq', 'spectrum_y_amp']]"
   ]
  },
  {
   "cell_type": "code",
   "execution_count": 4,
   "id": "b90a20bd-ccfc-4b28-9ff8-b231c9fe3903",
   "metadata": {},
   "outputs": [
    {
     "name": "stderr",
     "output_type": "stream",
     "text": [
      "C:\\Users\\user\\AppData\\Local\\Temp\\ipykernel_14988\\3588949468.py:5: SettingWithCopyWarning: \n",
      "A value is trying to be set on a copy of a slice from a DataFrame.\n",
      "Try using .loc[row_indexer,col_indexer] = value instead\n",
      "\n",
      "See the caveats in the documentation: https://pandas.pydata.org/pandas-docs/stable/user_guide/indexing.html#returning-a-view-versus-a-copy\n",
      "  spectrum_y['created_at'] = spectrum_y['created_at'].dt.tz_convert('Asia/Seoul')\n"
     ]
    }
   ],
   "source": [
    "# 유닉스타임을 시간으로 변경\n",
    "spectrum_y.loc[:, 'created_at'] = pd.to_datetime(spectrum_y['created_at'], unit='s', utc=True)\n",
    "\n",
    "# 한국시간대로 변환\n",
    "spectrum_y['created_at'] = spectrum_y['created_at'].dt.tz_convert('Asia/Seoul')"
   ]
  },
  {
   "cell_type": "code",
   "execution_count": 5,
   "id": "f2758c7e-081a-4629-9260-77df7fedda75",
   "metadata": {},
   "outputs": [
    {
     "data": {
      "text/html": [
       "<div>\n",
       "<style scoped>\n",
       "    .dataframe tbody tr th:only-of-type {\n",
       "        vertical-align: middle;\n",
       "    }\n",
       "\n",
       "    .dataframe tbody tr th {\n",
       "        vertical-align: top;\n",
       "    }\n",
       "\n",
       "    .dataframe thead th {\n",
       "        text-align: right;\n",
       "    }\n",
       "</style>\n",
       "<table border=\"1\" class=\"dataframe\">\n",
       "  <thead>\n",
       "    <tr style=\"text-align: right;\">\n",
       "      <th></th>\n",
       "      <th>created_at</th>\n",
       "      <th>spectrum_y_freq</th>\n",
       "      <th>spectrum_y_amp</th>\n",
       "    </tr>\n",
       "  </thead>\n",
       "  <tbody>\n",
       "    <tr>\n",
       "      <th>0</th>\n",
       "      <td>2024-01-01 00:37:34+09:00</td>\n",
       "      <td>0,0.78125,1.5625,2.34375,3.125,3.90625,4.6875,...</td>\n",
       "      <td>0.00015813022176129024,0.00026261764994749197,...</td>\n",
       "    </tr>\n",
       "    <tr>\n",
       "      <th>1</th>\n",
       "      <td>2024-01-01 02:37:41+09:00</td>\n",
       "      <td>0,0.78125,1.5625,2.34375,3.125,3.90625,4.6875,...</td>\n",
       "      <td>0.00023089524007559786,0.0002452989878206022,0...</td>\n",
       "    </tr>\n",
       "    <tr>\n",
       "      <th>2</th>\n",
       "      <td>2024-01-01 04:37:44+09:00</td>\n",
       "      <td>0,0.78125,1.5625,2.34375,3.125,3.90625,4.6875,...</td>\n",
       "      <td>0.00008427747677054837,0.00024831479057499476,...</td>\n",
       "    </tr>\n",
       "    <tr>\n",
       "      <th>3</th>\n",
       "      <td>2024-01-01 06:37:51+09:00</td>\n",
       "      <td>0,0.78125,1.5625,2.34375,3.125,3.90625,4.6875,...</td>\n",
       "      <td>0.0000586359092457155,0.00027798757144449106,0...</td>\n",
       "    </tr>\n",
       "    <tr>\n",
       "      <th>4</th>\n",
       "      <td>2024-01-01 08:37:54+09:00</td>\n",
       "      <td>0,0.78125,1.5625,2.34375,3.125,3.90625,4.6875,...</td>\n",
       "      <td>0.0003007782108584857,0.0006374620290661493,0....</td>\n",
       "    </tr>\n",
       "    <tr>\n",
       "      <th>...</th>\n",
       "      <td>...</td>\n",
       "      <td>...</td>\n",
       "      <td>...</td>\n",
       "    </tr>\n",
       "    <tr>\n",
       "      <th>2857</th>\n",
       "      <td>2024-08-26 11:51:11+09:00</td>\n",
       "      <td>0,0.78125,1.5625,2.34375,3.125,3.90625,4.6875,...</td>\n",
       "      <td>0.00010330742283204408,0.00031948714029055264,...</td>\n",
       "    </tr>\n",
       "    <tr>\n",
       "      <th>2858</th>\n",
       "      <td>2024-08-26 13:51:20+09:00</td>\n",
       "      <td>0,0.78125,1.5625,2.34375,3.125,3.90625,4.6875,...</td>\n",
       "      <td>0.0002615483248429337,0.0006756169554322338,0....</td>\n",
       "    </tr>\n",
       "    <tr>\n",
       "      <th>2859</th>\n",
       "      <td>2024-08-26 15:51:23+09:00</td>\n",
       "      <td>0,0.78125,1.5625,2.34375,3.125,3.90625,4.6875,...</td>\n",
       "      <td>0.0008307563603063882,0.0012683961226302276,0....</td>\n",
       "    </tr>\n",
       "    <tr>\n",
       "      <th>2860</th>\n",
       "      <td>2024-08-26 17:51:31+09:00</td>\n",
       "      <td>0,0.78125,1.5625,2.34375,3.125,3.90625,4.6875,...</td>\n",
       "      <td>0.00015287401246730204,0.0002748856199664695,0...</td>\n",
       "    </tr>\n",
       "    <tr>\n",
       "      <th>2861</th>\n",
       "      <td>2024-08-26 19:51:34+09:00</td>\n",
       "      <td>0,0.78125,1.5625,2.34375,3.125,3.90625,4.6875,...</td>\n",
       "      <td>0.00028865753181303187,0.0003717984985066907,0...</td>\n",
       "    </tr>\n",
       "  </tbody>\n",
       "</table>\n",
       "<p>2862 rows × 3 columns</p>\n",
       "</div>"
      ],
      "text/plain": [
       "                    created_at  \\\n",
       "0    2024-01-01 00:37:34+09:00   \n",
       "1    2024-01-01 02:37:41+09:00   \n",
       "2    2024-01-01 04:37:44+09:00   \n",
       "3    2024-01-01 06:37:51+09:00   \n",
       "4    2024-01-01 08:37:54+09:00   \n",
       "...                        ...   \n",
       "2857 2024-08-26 11:51:11+09:00   \n",
       "2858 2024-08-26 13:51:20+09:00   \n",
       "2859 2024-08-26 15:51:23+09:00   \n",
       "2860 2024-08-26 17:51:31+09:00   \n",
       "2861 2024-08-26 19:51:34+09:00   \n",
       "\n",
       "                                        spectrum_y_freq  \\\n",
       "0     0,0.78125,1.5625,2.34375,3.125,3.90625,4.6875,...   \n",
       "1     0,0.78125,1.5625,2.34375,3.125,3.90625,4.6875,...   \n",
       "2     0,0.78125,1.5625,2.34375,3.125,3.90625,4.6875,...   \n",
       "3     0,0.78125,1.5625,2.34375,3.125,3.90625,4.6875,...   \n",
       "4     0,0.78125,1.5625,2.34375,3.125,3.90625,4.6875,...   \n",
       "...                                                 ...   \n",
       "2857  0,0.78125,1.5625,2.34375,3.125,3.90625,4.6875,...   \n",
       "2858  0,0.78125,1.5625,2.34375,3.125,3.90625,4.6875,...   \n",
       "2859  0,0.78125,1.5625,2.34375,3.125,3.90625,4.6875,...   \n",
       "2860  0,0.78125,1.5625,2.34375,3.125,3.90625,4.6875,...   \n",
       "2861  0,0.78125,1.5625,2.34375,3.125,3.90625,4.6875,...   \n",
       "\n",
       "                                         spectrum_y_amp  \n",
       "0     0.00015813022176129024,0.00026261764994749197,...  \n",
       "1     0.00023089524007559786,0.0002452989878206022,0...  \n",
       "2     0.00008427747677054837,0.00024831479057499476,...  \n",
       "3     0.0000586359092457155,0.00027798757144449106,0...  \n",
       "4     0.0003007782108584857,0.0006374620290661493,0....  \n",
       "...                                                 ...  \n",
       "2857  0.00010330742283204408,0.00031948714029055264,...  \n",
       "2858  0.0002615483248429337,0.0006756169554322338,0....  \n",
       "2859  0.0008307563603063882,0.0012683961226302276,0....  \n",
       "2860  0.00015287401246730204,0.0002748856199664695,0...  \n",
       "2861  0.00028865753181303187,0.0003717984985066907,0...  \n",
       "\n",
       "[2862 rows x 3 columns]"
      ]
     },
     "execution_count": 5,
     "metadata": {},
     "output_type": "execute_result"
    }
   ],
   "source": [
    "spectrum_y"
   ]
  },
  {
   "cell_type": "code",
   "execution_count": 6,
   "id": "eebae0fd-3f49-4dea-ae70-5ad771128d73",
   "metadata": {},
   "outputs": [
    {
     "data": {
      "text/plain": [
       "created_at                                 2024-01-01 00:37:34+09:00\n",
       "spectrum_y_freq    0,0.78125,1.5625,2.34375,3.125,3.90625,4.6875,...\n",
       "spectrum_y_amp     0.00015813022176129024,0.00026261764994749197,...\n",
       "Name: 0, dtype: object"
      ]
     },
     "execution_count": 6,
     "metadata": {},
     "output_type": "execute_result"
    }
   ],
   "source": [
    "spectrum_y.loc[0]"
   ]
  },
  {
   "cell_type": "code",
   "execution_count": 30,
   "id": "16a76005-9cd2-472e-903d-7d1419abced0",
   "metadata": {},
   "outputs": [
    {
     "name": "stdout",
     "output_type": "stream",
     "text": [
      "0 / 2861\n",
      "100 / 2861\n",
      "200 / 2861\n"
     ]
    },
    {
     "ename": "KeyboardInterrupt",
     "evalue": "",
     "output_type": "error",
     "traceback": [
      "\u001b[1;31m---------------------------------------------------------------------------\u001b[0m",
      "\u001b[1;31mKeyboardInterrupt\u001b[0m                         Traceback (most recent call last)",
      "Cell \u001b[1;32mIn[30], line 50\u001b[0m\n\u001b[0;32m      4\u001b[0m data \u001b[38;5;241m=\u001b[39m {\n\u001b[0;32m      5\u001b[0m     \u001b[38;5;124m\"\u001b[39m\u001b[38;5;124mDescription\u001b[39m\u001b[38;5;124m\"\u001b[39m: [\u001b[38;5;124m\"\u001b[39m\u001b[38;5;124mDate\u001b[39m\u001b[38;5;124m\"\u001b[39m, \u001b[38;5;124m\"\u001b[39m\u001b[38;5;124mFilename\u001b[39m\u001b[38;5;124m\"\u001b[39m, \u001b[38;5;124m\"\u001b[39m\u001b[38;5;124mData Label\u001b[39m\u001b[38;5;124m\"\u001b[39m, \u001b[38;5;124m\"\u001b[39m\u001b[38;5;124mLabel_No\u001b[39m\u001b[38;5;124m\"\u001b[39m, \u001b[38;5;124m\"\u001b[39m\u001b[38;5;124mMotor Spec\u001b[39m\u001b[38;5;124m\"\u001b[39m, \u001b[38;5;124m\"\u001b[39m\u001b[38;5;124mPeriod\u001b[39m\u001b[38;5;124m\"\u001b[39m, \u001b[38;5;124m\"\u001b[39m\u001b[38;5;124mSample Rate\u001b[39m\u001b[38;5;124m\"\u001b[39m, \u001b[38;5;124m\"\u001b[39m\u001b[38;5;124mRMS\u001b[39m\u001b[38;5;124m\"\u001b[39m, \u001b[38;5;124m\"\u001b[39m\u001b[38;5;124mData Length\u001b[39m\u001b[38;5;124m\"\u001b[39m]\n\u001b[0;32m      6\u001b[0m     \u001b[38;5;241m+\u001b[39m spectrum_y\u001b[38;5;241m.\u001b[39mloc[i][\u001b[38;5;124m'\u001b[39m\u001b[38;5;124mspectrum_y_freq\u001b[39m\u001b[38;5;124m'\u001b[39m]\u001b[38;5;241m.\u001b[39msplit(\u001b[38;5;124m'\u001b[39m\u001b[38;5;124m,\u001b[39m\u001b[38;5;124m'\u001b[39m),\n\u001b[1;32m   (...)\u001b[0m\n\u001b[0;32m     46\u001b[0m     \u001b[38;5;241m+\u001b[39m [\u001b[38;5;28;01mNone\u001b[39;00m \u001b[38;5;28;01mfor\u001b[39;00m i \u001b[38;5;129;01min\u001b[39;00m \u001b[38;5;28mrange\u001b[39m(\u001b[38;5;241m2053\u001b[39m)]\n\u001b[0;32m     47\u001b[0m }\n\u001b[0;32m     49\u001b[0m \u001b[38;5;66;03m# DataFrame 생성\u001b[39;00m\n\u001b[1;32m---> 50\u001b[0m df_metadata \u001b[38;5;241m=\u001b[39m \u001b[43mpd\u001b[49m\u001b[38;5;241;43m.\u001b[39;49m\u001b[43mDataFrame\u001b[49m\u001b[43m(\u001b[49m\u001b[43mdata\u001b[49m\u001b[43m)\u001b[49m\n\u001b[0;32m     51\u001b[0m df_metadata\u001b[38;5;241m.\u001b[39mto_csv(\u001b[38;5;124mf\u001b[39m\u001b[38;5;124m'\u001b[39m\u001b[38;5;124mtest_data/test_data_\u001b[39m\u001b[38;5;132;01m{\u001b[39;00mi\u001b[38;5;132;01m}\u001b[39;00m\u001b[38;5;124m_\u001b[39m\u001b[38;5;132;01m{\u001b[39;00mdate[:\u001b[38;5;241m10\u001b[39m]\u001b[38;5;132;01m}\u001b[39;00m\u001b[38;5;124m.csv\u001b[39m\u001b[38;5;124m'\u001b[39m, index\u001b[38;5;241m=\u001b[39m\u001b[38;5;28;01mFalse\u001b[39;00m, header\u001b[38;5;241m=\u001b[39m\u001b[38;5;28;01mFalse\u001b[39;00m)\n\u001b[0;32m     53\u001b[0m \u001b[38;5;28;01mif\u001b[39;00m(i \u001b[38;5;241m%\u001b[39m \u001b[38;5;241m100\u001b[39m \u001b[38;5;241m==\u001b[39m \u001b[38;5;241m0\u001b[39m):\n",
      "File \u001b[1;32m~\\anaconda3\\envs\\pm\\lib\\site-packages\\pandas\\core\\frame.py:709\u001b[0m, in \u001b[0;36mDataFrame.__init__\u001b[1;34m(self, data, index, columns, dtype, copy)\u001b[0m\n\u001b[0;32m    703\u001b[0m     mgr \u001b[38;5;241m=\u001b[39m \u001b[38;5;28mself\u001b[39m\u001b[38;5;241m.\u001b[39m_init_mgr(\n\u001b[0;32m    704\u001b[0m         data, axes\u001b[38;5;241m=\u001b[39m{\u001b[38;5;124m\"\u001b[39m\u001b[38;5;124mindex\u001b[39m\u001b[38;5;124m\"\u001b[39m: index, \u001b[38;5;124m\"\u001b[39m\u001b[38;5;124mcolumns\u001b[39m\u001b[38;5;124m\"\u001b[39m: columns}, dtype\u001b[38;5;241m=\u001b[39mdtype, copy\u001b[38;5;241m=\u001b[39mcopy\n\u001b[0;32m    705\u001b[0m     )\n\u001b[0;32m    707\u001b[0m \u001b[38;5;28;01melif\u001b[39;00m \u001b[38;5;28misinstance\u001b[39m(data, \u001b[38;5;28mdict\u001b[39m):\n\u001b[0;32m    708\u001b[0m     \u001b[38;5;66;03m# GH#38939 de facto copy defaults to False only in non-dict cases\u001b[39;00m\n\u001b[1;32m--> 709\u001b[0m     mgr \u001b[38;5;241m=\u001b[39m \u001b[43mdict_to_mgr\u001b[49m\u001b[43m(\u001b[49m\u001b[43mdata\u001b[49m\u001b[43m,\u001b[49m\u001b[43m \u001b[49m\u001b[43mindex\u001b[49m\u001b[43m,\u001b[49m\u001b[43m \u001b[49m\u001b[43mcolumns\u001b[49m\u001b[43m,\u001b[49m\u001b[43m \u001b[49m\u001b[43mdtype\u001b[49m\u001b[38;5;241;43m=\u001b[39;49m\u001b[43mdtype\u001b[49m\u001b[43m,\u001b[49m\u001b[43m \u001b[49m\u001b[43mcopy\u001b[49m\u001b[38;5;241;43m=\u001b[39;49m\u001b[43mcopy\u001b[49m\u001b[43m,\u001b[49m\u001b[43m \u001b[49m\u001b[43mtyp\u001b[49m\u001b[38;5;241;43m=\u001b[39;49m\u001b[43mmanager\u001b[49m\u001b[43m)\u001b[49m\n\u001b[0;32m    710\u001b[0m \u001b[38;5;28;01melif\u001b[39;00m \u001b[38;5;28misinstance\u001b[39m(data, ma\u001b[38;5;241m.\u001b[39mMaskedArray):\n\u001b[0;32m    711\u001b[0m     \u001b[38;5;28;01mfrom\u001b[39;00m \u001b[38;5;21;01mnumpy\u001b[39;00m\u001b[38;5;21;01m.\u001b[39;00m\u001b[38;5;21;01mma\u001b[39;00m \u001b[38;5;28;01mimport\u001b[39;00m mrecords\n",
      "File \u001b[1;32m~\\anaconda3\\envs\\pm\\lib\\site-packages\\pandas\\core\\internals\\construction.py:481\u001b[0m, in \u001b[0;36mdict_to_mgr\u001b[1;34m(data, index, columns, dtype, typ, copy)\u001b[0m\n\u001b[0;32m    477\u001b[0m     \u001b[38;5;28;01melse\u001b[39;00m:\n\u001b[0;32m    478\u001b[0m         \u001b[38;5;66;03m# dtype check to exclude e.g. range objects, scalars\u001b[39;00m\n\u001b[0;32m    479\u001b[0m         arrays \u001b[38;5;241m=\u001b[39m [x\u001b[38;5;241m.\u001b[39mcopy() \u001b[38;5;28;01mif\u001b[39;00m \u001b[38;5;28mhasattr\u001b[39m(x, \u001b[38;5;124m\"\u001b[39m\u001b[38;5;124mdtype\u001b[39m\u001b[38;5;124m\"\u001b[39m) \u001b[38;5;28;01melse\u001b[39;00m x \u001b[38;5;28;01mfor\u001b[39;00m x \u001b[38;5;129;01min\u001b[39;00m arrays]\n\u001b[1;32m--> 481\u001b[0m \u001b[38;5;28;01mreturn\u001b[39;00m \u001b[43marrays_to_mgr\u001b[49m\u001b[43m(\u001b[49m\u001b[43marrays\u001b[49m\u001b[43m,\u001b[49m\u001b[43m \u001b[49m\u001b[43mcolumns\u001b[49m\u001b[43m,\u001b[49m\u001b[43m \u001b[49m\u001b[43mindex\u001b[49m\u001b[43m,\u001b[49m\u001b[43m \u001b[49m\u001b[43mdtype\u001b[49m\u001b[38;5;241;43m=\u001b[39;49m\u001b[43mdtype\u001b[49m\u001b[43m,\u001b[49m\u001b[43m \u001b[49m\u001b[43mtyp\u001b[49m\u001b[38;5;241;43m=\u001b[39;49m\u001b[43mtyp\u001b[49m\u001b[43m,\u001b[49m\u001b[43m \u001b[49m\u001b[43mconsolidate\u001b[49m\u001b[38;5;241;43m=\u001b[39;49m\u001b[43mcopy\u001b[49m\u001b[43m)\u001b[49m\n",
      "File \u001b[1;32m~\\anaconda3\\envs\\pm\\lib\\site-packages\\pandas\\core\\internals\\construction.py:153\u001b[0m, in \u001b[0;36marrays_to_mgr\u001b[1;34m(arrays, columns, index, dtype, verify_integrity, typ, consolidate)\u001b[0m\n\u001b[0;32m    150\u001b[0m axes \u001b[38;5;241m=\u001b[39m [columns, index]\n\u001b[0;32m    152\u001b[0m \u001b[38;5;28;01mif\u001b[39;00m typ \u001b[38;5;241m==\u001b[39m \u001b[38;5;124m\"\u001b[39m\u001b[38;5;124mblock\u001b[39m\u001b[38;5;124m\"\u001b[39m:\n\u001b[1;32m--> 153\u001b[0m     \u001b[38;5;28;01mreturn\u001b[39;00m \u001b[43mcreate_block_manager_from_column_arrays\u001b[49m\u001b[43m(\u001b[49m\n\u001b[0;32m    154\u001b[0m \u001b[43m        \u001b[49m\u001b[43marrays\u001b[49m\u001b[43m,\u001b[49m\u001b[43m \u001b[49m\u001b[43maxes\u001b[49m\u001b[43m,\u001b[49m\u001b[43m \u001b[49m\u001b[43mconsolidate\u001b[49m\u001b[38;5;241;43m=\u001b[39;49m\u001b[43mconsolidate\u001b[49m\u001b[43m,\u001b[49m\u001b[43m \u001b[49m\u001b[43mrefs\u001b[49m\u001b[38;5;241;43m=\u001b[39;49m\u001b[43mrefs\u001b[49m\n\u001b[0;32m    155\u001b[0m \u001b[43m    \u001b[49m\u001b[43m)\u001b[49m\n\u001b[0;32m    156\u001b[0m \u001b[38;5;28;01melif\u001b[39;00m typ \u001b[38;5;241m==\u001b[39m \u001b[38;5;124m\"\u001b[39m\u001b[38;5;124marray\u001b[39m\u001b[38;5;124m\"\u001b[39m:\n\u001b[0;32m    157\u001b[0m     \u001b[38;5;28;01mreturn\u001b[39;00m ArrayManager(arrays, [index, columns])\n",
      "File \u001b[1;32m~\\anaconda3\\envs\\pm\\lib\\site-packages\\pandas\\core\\internals\\managers.py:2137\u001b[0m, in \u001b[0;36mcreate_block_manager_from_column_arrays\u001b[1;34m(arrays, axes, consolidate, refs)\u001b[0m\n\u001b[0;32m   2119\u001b[0m \u001b[38;5;28;01mdef\u001b[39;00m \u001b[38;5;21mcreate_block_manager_from_column_arrays\u001b[39m(\n\u001b[0;32m   2120\u001b[0m     arrays: \u001b[38;5;28mlist\u001b[39m[ArrayLike],\n\u001b[0;32m   2121\u001b[0m     axes: \u001b[38;5;28mlist\u001b[39m[Index],\n\u001b[1;32m   (...)\u001b[0m\n\u001b[0;32m   2133\u001b[0m     \u001b[38;5;66;03m# These last three are sufficient to allow us to safely pass\u001b[39;00m\n\u001b[0;32m   2134\u001b[0m     \u001b[38;5;66;03m#  verify_integrity=False below.\u001b[39;00m\n\u001b[0;32m   2136\u001b[0m     \u001b[38;5;28;01mtry\u001b[39;00m:\n\u001b[1;32m-> 2137\u001b[0m         blocks \u001b[38;5;241m=\u001b[39m \u001b[43m_form_blocks\u001b[49m\u001b[43m(\u001b[49m\u001b[43marrays\u001b[49m\u001b[43m,\u001b[49m\u001b[43m \u001b[49m\u001b[43mconsolidate\u001b[49m\u001b[43m,\u001b[49m\u001b[43m \u001b[49m\u001b[43mrefs\u001b[49m\u001b[43m)\u001b[49m\n\u001b[0;32m   2138\u001b[0m         mgr \u001b[38;5;241m=\u001b[39m BlockManager(blocks, axes, verify_integrity\u001b[38;5;241m=\u001b[39m\u001b[38;5;28;01mFalse\u001b[39;00m)\n\u001b[0;32m   2139\u001b[0m     \u001b[38;5;28;01mexcept\u001b[39;00m \u001b[38;5;167;01mValueError\u001b[39;00m \u001b[38;5;28;01mas\u001b[39;00m e:\n",
      "File \u001b[1;32m~\\anaconda3\\envs\\pm\\lib\\site-packages\\pandas\\core\\internals\\managers.py:2215\u001b[0m, in \u001b[0;36m_form_blocks\u001b[1;34m(arrays, consolidate, refs)\u001b[0m\n\u001b[0;32m   2212\u001b[0m \u001b[38;5;28;01mif\u001b[39;00m \u001b[38;5;28missubclass\u001b[39m(dtype\u001b[38;5;241m.\u001b[39mtype, (\u001b[38;5;28mstr\u001b[39m, \u001b[38;5;28mbytes\u001b[39m)):\n\u001b[0;32m   2213\u001b[0m     dtype \u001b[38;5;241m=\u001b[39m np\u001b[38;5;241m.\u001b[39mdtype(\u001b[38;5;28mobject\u001b[39m)\n\u001b[1;32m-> 2215\u001b[0m values, placement \u001b[38;5;241m=\u001b[39m \u001b[43m_stack_arrays\u001b[49m\u001b[43m(\u001b[49m\u001b[38;5;28;43mlist\u001b[39;49m\u001b[43m(\u001b[49m\u001b[43mtup_block\u001b[49m\u001b[43m)\u001b[49m\u001b[43m,\u001b[49m\u001b[43m \u001b[49m\u001b[43mdtype\u001b[49m\u001b[43m)\u001b[49m\n\u001b[0;32m   2216\u001b[0m \u001b[38;5;28;01mif\u001b[39;00m is_dtlike:\n\u001b[0;32m   2217\u001b[0m     values \u001b[38;5;241m=\u001b[39m ensure_wrapped_if_datetimelike(values)\n",
      "File \u001b[1;32m~\\anaconda3\\envs\\pm\\lib\\site-packages\\pandas\\core\\internals\\managers.py:2257\u001b[0m, in \u001b[0;36m_stack_arrays\u001b[1;34m(tuples, dtype)\u001b[0m\n\u001b[0;32m   2255\u001b[0m stacked \u001b[38;5;241m=\u001b[39m np\u001b[38;5;241m.\u001b[39mempty(shape, dtype\u001b[38;5;241m=\u001b[39mdtype)\n\u001b[0;32m   2256\u001b[0m \u001b[38;5;28;01mfor\u001b[39;00m i, arr \u001b[38;5;129;01min\u001b[39;00m \u001b[38;5;28menumerate\u001b[39m(arrays):\n\u001b[1;32m-> 2257\u001b[0m     \u001b[43mstacked\u001b[49m\u001b[43m[\u001b[49m\u001b[43mi\u001b[49m\u001b[43m]\u001b[49m \u001b[38;5;241m=\u001b[39m arr\n\u001b[0;32m   2259\u001b[0m \u001b[38;5;28;01mreturn\u001b[39;00m stacked, placement\n",
      "\u001b[1;31mKeyboardInterrupt\u001b[0m: "
     ]
    }
   ],
   "source": [
    "for i in range(len(spectrum_y)):\n",
    "    date = spectrum_y.loc[i].created_at.strftime('%Y-%m-%d %H:%M:%S')\n",
    "    # 데이터 구성\n",
    "    data = {\n",
    "        \"Description\": [\"Date\", \"Filename\", \"Data Label\", \"Label_No\", \"Motor Spec\", \"Period\", \"Sample Rate\", \"RMS\", \"Data Length\"]\n",
    "        + spectrum_y.loc[i]['spectrum_y_freq'].split(','),\n",
    "        \n",
    "        \"Value\": [\n",
    "            date,\n",
    "            \"data5528\" + \"-\" + date,\n",
    "            \"데이터라벨\",\n",
    "            0,\n",
    "            \"R\",\n",
    "            \"기간\",\n",
    "            3200,\n",
    "            np.sqrt(np.mean(np.square(list(map(float, spectrum_y.loc[i].spectrum_y_amp.split(',')))))),\n",
    "            2049\n",
    "        ]\n",
    "        + spectrum_y.loc[i]['spectrum_y_amp'].split(','),\n",
    "\n",
    "        \"Rpm\": [\n",
    "            None,\n",
    "            None,\n",
    "            None,\n",
    "            None,\n",
    "            1600\n",
    "        ]\n",
    "        + [None for i in range(2053)],\n",
    "\n",
    "        \"정격출력\": [\n",
    "            None,\n",
    "            None,\n",
    "            None,\n",
    "            None,\n",
    "            0.00465\n",
    "        ]\n",
    "        + [None for i in range(2053)],\n",
    "\n",
    "        \"정격전류\": [\n",
    "            None,\n",
    "            None,\n",
    "            None,\n",
    "            None,\n",
    "            1.55\n",
    "        ]\n",
    "        + [None for i in range(2053)]\n",
    "    }\n",
    "    \n",
    "    # DataFrame 생성\n",
    "    df_metadata = pd.DataFrame(data)\n",
    "    df_metadata.to_csv(f'test_data/test_data_{i}_{date[:10]}.csv', index=False, header=False)\n",
    "    \n",
    "    if(i % 100 == 0):\n",
    "        print(i , \"/\",  len(spectrum_y)-1)\n",
    "        \n",
    "print(i, \"/\", len(spectrum_y)-1)"
   ]
  }
 ],
 "metadata": {
  "kernelspec": {
   "display_name": "Python 3 (ipykernel)",
   "language": "python",
   "name": "python3"
  },
  "language_info": {
   "codemirror_mode": {
    "name": "ipython",
    "version": 3
   },
   "file_extension": ".py",
   "mimetype": "text/x-python",
   "name": "python",
   "nbconvert_exporter": "python",
   "pygments_lexer": "ipython3",
   "version": "3.8.19"
  }
 },
 "nbformat": 4,
 "nbformat_minor": 5
}
