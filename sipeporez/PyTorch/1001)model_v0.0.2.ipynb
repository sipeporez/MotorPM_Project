{
 "cells": [
  {
   "cell_type": "markdown",
   "id": "aaba1d94-9caf-406a-85ac-b291bc92c1bd",
   "metadata": {},
   "source": [
    "## Import Libraries"
   ]
  },
  {
   "cell_type": "code",
   "execution_count": 2,
   "id": "6b298e3e-98ce-4a31-a823-7f2d5f82f6ab",
   "metadata": {},
   "outputs": [],
   "source": [
    "import pandas as pd\n",
    "import numpy as np \n",
    "import matplotlib.pyplot as plt\n",
    "import seaborn as sns\n",
    "import torch\n",
    "import torch.nn as nn\n",
    "import os\n",
    "from itertools import chain\n",
    "\n",
    "import torch.optim as optim\n",
    "from torch.utils.data import DataLoader, TensorDataset\n",
    "# import transform_fns as trans\n",
    "import pdm_functions as fns\n",
    "from sklearn.metrics import precision_score, recall_score, f1_score, confusion_matrix\n",
    "from scipy.stats import gaussian_kde\n",
    "import tensor_hstack as th\n",
    "import pickle\n",
    "from tqdm.notebook import tqdm\n"
   ]
  },
  {
   "cell_type": "markdown",
   "id": "7f461993-e306-45c0-820a-a52b63a217cb",
   "metadata": {},
   "source": [
    "## Weight계산 "
   ]
  },
  {
   "cell_type": "code",
   "execution_count": 3,
   "id": "74507d43-468d-4cdf-9e22-840a988162d5",
   "metadata": {},
   "outputs": [],
   "source": [
    "df_normal= pd.read_csv('data/5528_spec_normal.csv')\n",
    "df_error= pd.read_csv('data/5528_spec_error.csv')"
   ]
  },
  {
   "cell_type": "code",
   "execution_count": 4,
   "id": "9c529064-a2a2-4134-9e3e-a4cc44f4a3bf",
   "metadata": {},
   "outputs": [],
   "source": [
    "df_normal['spectrum_x_amp']= df_normal['spectrum_x_amp'].apply(lambda x: [float(num) for num in x.split(',')][1:])\n",
    "df_normal['spectrum_y_amp']= df_normal['spectrum_y_amp'].apply(lambda x: [float(num) for num in x.split(',')][1:])\n",
    "df_normal['spectrum_z_amp']= df_normal['spectrum_z_amp'].apply(lambda x: [float(num) for num in x.split(',')][1:])"
   ]
  },
  {
   "cell_type": "code",
   "execution_count": 5,
   "id": "73057185-77f9-4579-a1ae-3bb77c8bd71f",
   "metadata": {},
   "outputs": [],
   "source": [
    "wf = fns.rpm_approx_weighted_fn(df_normal['spectrum_x_amp'], 1, 2048, 2048)"
   ]
  },
  {
   "cell_type": "markdown",
   "id": "13c6b5d5-6e2a-416a-80e9-ba2e8b25489d",
   "metadata": {},
   "source": [
    "### <span style='color:red'> 가중치 standardization </span>"
   ]
  },
  {
   "cell_type": "code",
   "execution_count": 5,
   "id": "2a65801f-3a9b-4c04-a1e4-6c3a00633379",
   "metadata": {},
   "outputs": [],
   "source": [
    "# wf = fns.min_max_standardization(wf)"
   ]
  },
  {
   "cell_type": "code",
   "execution_count": 8,
   "id": "994187cd-bcbb-4f7b-ad63-6ed8af20481b",
   "metadata": {},
   "outputs": [],
   "source": [
    "wf = wf * 36\n",
    "wf = torch.tensor(wf)"
   ]
  },
  {
   "cell_type": "markdown",
   "id": "d29c3f11-2b2e-46b3-b5fd-2b2c241415ba",
   "metadata": {},
   "source": [
    "## 데이터셋 (tensors)"
   ]
  },
  {
   "cell_type": "code",
   "execution_count": 7,
   "id": "725047c5-10d8-4d4e-a635-e964d5febbdf",
   "metadata": {},
   "outputs": [],
   "source": [
    "# df_normal = fns.csv_to_tensor_stack('data/5528_spec_normal.csv')\n",
    "# df_error = fns.csv_to_tensor_stack('data/5528_spec_error.csv')"
   ]
  },
  {
   "cell_type": "code",
   "execution_count": 9,
   "id": "0e7138f8-565f-4b76-aa8e-e4ffeb74278e",
   "metadata": {},
   "outputs": [],
   "source": [
    "df_train, df_test, df_dev = th.PostProcessing('data/5528_droped_data.csv', model_type='cls')"
   ]
  },
  {
   "cell_type": "code",
   "execution_count": 10,
   "id": "f120f36a-a423-4873-ba7c-2803f3436690",
   "metadata": {},
   "outputs": [],
   "source": [
    "df_normal = df_train[0][:-10]\n",
    "df_error = df_train[0][-10:]"
   ]
  },
  {
   "cell_type": "code",
   "execution_count": 11,
   "id": "b2b3fbe7-6b0b-42b4-9ffe-a8224019293d",
   "metadata": {},
   "outputs": [],
   "source": [
    "dev_normal = df_dev[0][:-3]"
   ]
  },
  {
   "cell_type": "code",
   "execution_count": 12,
   "id": "53faac95-70ab-4478-84ed-a30f799f6846",
   "metadata": {},
   "outputs": [],
   "source": [
    "dev_error = df_dev[0][-3:]"
   ]
  },
  {
   "cell_type": "markdown",
   "id": "c9d6b081-fb5c-45e7-b60a-987156441db7",
   "metadata": {},
   "source": [
    "## 데이터셋에 가중치 곱하기"
   ]
  },
  {
   "cell_type": "code",
   "execution_count": 13,
   "id": "8f54da7f-20d8-4988-afe5-a8863f81bd3e",
   "metadata": {},
   "outputs": [
    {
     "name": "stdout",
     "output_type": "stream",
     "text": [
      "torch.Size([111, 73728]) torch.Size([10, 73728])\n"
     ]
    }
   ],
   "source": [
    "print(df_normal.shape, df_error.shape)\n",
    "df_normal = df_normal * wf\n",
    "df_error = df_error * wf"
   ]
  },
  {
   "cell_type": "code",
   "execution_count": 14,
   "id": "3e93c86d-d2fe-4838-8f62-f791f5deb993",
   "metadata": {},
   "outputs": [],
   "source": [
    "dev_normal = dev_normal * wf\n",
    "dev_error = dev_error * wf"
   ]
  },
  {
   "cell_type": "markdown",
   "id": "5c74464b-456d-402a-b470-17b121a142fb",
   "metadata": {},
   "source": [
    "## 데이터셋 숫자 늘리기\n",
    "### <span style='color:red'> 몇 배로 데이터를 늘릴 것인가 multi_dim </span>"
   ]
  },
  {
   "cell_type": "code",
   "execution_count": 15,
   "id": "111efb19-562a-4b2b-9a3e-642f46c1a0ba",
   "metadata": {},
   "outputs": [],
   "source": [
    "df_normal_aug = fns.multi_datasets(df_normal, multi_dim=100, num_groups=12)"
   ]
  },
  {
   "cell_type": "code",
   "execution_count": 16,
   "id": "37bb7d56-ed8b-4596-835a-3e03fcf3a281",
   "metadata": {},
   "outputs": [],
   "source": [
    "df_error_aug = fns.multi_datasets(df_error, multi_dim=1100, num_groups=12)"
   ]
  },
  {
   "cell_type": "code",
   "execution_count": 17,
   "id": "7c77308f-3845-4ffa-bbc4-a182834d9380",
   "metadata": {},
   "outputs": [],
   "source": [
    "dev_normal_aug = fns.multi_datasets(dev_normal, multi_dim=10, num_groups=12)"
   ]
  },
  {
   "cell_type": "code",
   "execution_count": 18,
   "id": "4239af11-ec08-4ca1-93cb-100836286c65",
   "metadata": {},
   "outputs": [],
   "source": [
    "dev_error_aug = fns.multi_datasets(dev_error, multi_dim=100, num_groups=12)"
   ]
  },
  {
   "cell_type": "code",
   "execution_count": 19,
   "id": "7c9a60b6-d58e-4e15-82ad-f875e6af2f35",
   "metadata": {},
   "outputs": [
    {
     "name": "stdout",
     "output_type": "stream",
     "text": [
      "torch.Size([11100, 73728]) torch.Size([11000, 73728])\n",
      "torch.Size([340, 73728]) torch.Size([300, 73728])\n"
     ]
    }
   ],
   "source": [
    "print(df_normal_aug.shape, df_error_aug.shape)\n",
    "print(dev_normal_aug.shape, dev_error_aug.shape)"
   ]
  },
  {
   "cell_type": "code",
   "execution_count": 20,
   "id": "5dd15742-f370-42e7-87f8-d9ba3fdde445",
   "metadata": {},
   "outputs": [],
   "source": [
    "X_train, X_test, y_train, y_test= fns.binary_labeling(df_normal_aug, df_error_aug, test_size=.2, random_state=42 )"
   ]
  },
  {
   "cell_type": "code",
   "execution_count": 21,
   "id": "e717f184-9243-467b-9ecd-97dcb15f2d4a",
   "metadata": {},
   "outputs": [],
   "source": [
    "dev_X_train, dev_X_test, dev_y_train, dev_y_test= fns.binary_labeling(dev_normal_aug, dev_error_aug, test_size=.2, random_state=42 )"
   ]
  },
  {
   "cell_type": "markdown",
   "id": "fc5f1cdf-c7e5-4c4e-a54b-c231f364a7d9",
   "metadata": {},
   "source": [
    "## 데이터 상위 x개 추출\n",
    "### <span style='color:red'> get_sorted_top_k_values(data, k = 5000)</span>"
   ]
  },
  {
   "cell_type": "code",
   "execution_count": 22,
   "id": "3d110a37-80d5-461f-9d1d-390b05600453",
   "metadata": {},
   "outputs": [],
   "source": [
    "train_X = fns.get_sorted_top_k_values(X_train, 5000)\n",
    "dev_X_test = fns.get_sorted_top_k_values(dev_X_train, 5000)"
   ]
  },
  {
   "cell_type": "code",
   "execution_count": 23,
   "id": "f087d5c7-530a-4394-aec5-83683aaafdf9",
   "metadata": {},
   "outputs": [
    {
     "data": {
      "text/plain": [
       "(torch.Size([17680, 5000]), torch.Size([17680]), torch.Size([512, 5000]))"
      ]
     },
     "execution_count": 23,
     "metadata": {},
     "output_type": "execute_result"
    }
   ],
   "source": [
    "train_X.shape, y_train.shape, dev_X_test.shape"
   ]
  },
  {
   "cell_type": "markdown",
   "id": "606a6b5a-a789-4bde-a54a-3e862bd9e669",
   "metadata": {},
   "source": [
    "### <span style=\"color:red\"> Input값이 너무 작을 경우 곱셈으로 늘려준다 (예: * 1000)  </span>"
   ]
  },
  {
   "cell_type": "code",
   "execution_count": 24,
   "id": "30fc7c06-742b-4c01-9791-a623178f0204",
   "metadata": {},
   "outputs": [],
   "source": [
    "train_x = fns.get_sorted_top_k_values(train_X, 5000) * 10000"
   ]
  },
  {
   "cell_type": "code",
   "execution_count": 25,
   "id": "4a1443b2-1c29-4eeb-bb58-23aea985b1d1",
   "metadata": {},
   "outputs": [],
   "source": [
    "test_x = fns.get_sorted_top_k_values(X_test, 5000) * 10000"
   ]
  },
  {
   "cell_type": "code",
   "execution_count": 26,
   "id": "09d3d745-c850-4a53-b56c-12845b751373",
   "metadata": {},
   "outputs": [],
   "source": [
    "test_dev_x = fns.get_sorted_top_k_values(dev_X_test, 5000) * 10000"
   ]
  },
  {
   "cell_type": "code",
   "execution_count": 27,
   "id": "dcb377ae-a7df-4889-a75b-cd0d307c80a1",
   "metadata": {
    "scrolled": true
   },
   "outputs": [
    {
     "data": {
      "text/plain": [
       "<Axes: >"
      ]
     },
     "execution_count": 27,
     "metadata": {},
     "output_type": "execute_result"
    },
    {
     "data": {
      "image/png": "[encoded data removed]",
      "text/plain": [
       "<Figure size 640x480 with 1 Axes>"
      ]
     },
     "metadata": {},
     "output_type": "display_data"
    }
   ],
   "source": [
    "sns.lineplot(train_x[0])"
   ]
  },
  {
   "cell_type": "code",
   "execution_count": 28,
   "id": "ba766db6-a770-41db-a528-cc48334d4faa",
   "metadata": {},
   "outputs": [
    {
     "data": {
      "text/plain": [
       "<Axes: >"
      ]
     },
     "execution_count": 28,
     "metadata": {},
     "output_type": "execute_result"
    },
    {
     "data": {
      "image/png": "[encoded data removed]",
      "text/plain": [
       "<Figure size 640x480 with 1 Axes>"
      ]
     },
     "metadata": {},
     "output_type": "display_data"
    }
   ],
   "source": [
    "sns.lineplot(test_x[1])"
   ]
  },
  {
   "cell_type": "code",
   "execution_count": 28,
   "id": "dd564b80-405c-4a7a-b833-8bb99b087bde",
   "metadata": {},
   "outputs": [
    {
     "data": {
      "text/plain": [
       "<Axes: >"
      ]
     },
     "execution_count": 28,
     "metadata": {},
     "output_type": "execute_result"
    },
    {
     "data": {
      "image/png": "[encoded data removed]",
      "text/plain": [
       "<Figure size 640x480 with 1 Axes>"
      ]
     },
     "metadata": {},
     "output_type": "display_data"
    }
   ],
   "source": [
    "sns.lineplot(test_dev_x[1])"
   ]
  },
  {
   "cell_type": "code",
   "execution_count": 29,
   "id": "9341f78c-55c3-4a8f-88c5-faca8dc1e7d4",
   "metadata": {},
   "outputs": [],
   "source": [
    "train_label = y_train\n",
    "test_label = y_test\n",
    "test_dev_label = dev_y_train"
   ]
  },
  {
   "cell_type": "code",
   "execution_count": 30,
   "id": "a930483a-9037-4d68-9309-a8a8d936a1c5",
   "metadata": {},
   "outputs": [
    {
     "data": {
      "text/plain": [
       "(torch.Size([17680, 5000]), torch.Size([17680]))"
      ]
     },
     "execution_count": 30,
     "metadata": {},
     "output_type": "execute_result"
    }
   ],
   "source": [
    "train_x.shape, train_label.shape"
   ]
  },
  {
   "cell_type": "code",
   "execution_count": 31,
   "id": "a19a4325-d347-42aa-a4df-274062b89ff3",
   "metadata": {},
   "outputs": [
    {
     "data": {
      "text/plain": [
       "(torch.Size([512, 5000]), torch.Size([512]))"
      ]
     },
     "execution_count": 31,
     "metadata": {},
     "output_type": "execute_result"
    }
   ],
   "source": [
    "dev_X_test.shape, test_dev_label.shape"
   ]
  },
  {
   "cell_type": "code",
   "execution_count": 32,
   "id": "1d8f0290-ce3e-41ce-8df1-75d7c91f04ba",
   "metadata": {},
   "outputs": [],
   "source": [
    "train_dataset = TensorDataset(train_x, train_label)"
   ]
  },
  {
   "cell_type": "code",
   "execution_count": 33,
   "id": "d25c6d81-94c6-4b07-b6f2-67066108a276",
   "metadata": {},
   "outputs": [],
   "source": [
    "test_dataset = TensorDataset(test_x, test_label)"
   ]
  },
  {
   "cell_type": "code",
   "execution_count": 34,
   "id": "24d2ed33-2eaf-4cf0-beed-44c1fad354fb",
   "metadata": {},
   "outputs": [],
   "source": [
    "dev_dataset = TensorDataset(test_dev_x, test_dev_label)"
   ]
  },
  {
   "cell_type": "markdown",
   "id": "ffcb1a03-83bb-42b7-b3ec-4e60374c2c66",
   "metadata": {},
   "source": [
    "## 데이터 로더"
   ]
  },
  {
   "cell_type": "code",
   "execution_count": 35,
   "id": "6a086663-72b7-4d90-bab3-156cf3adf595",
   "metadata": {},
   "outputs": [],
   "source": [
    "dataloader = DataLoader(train_dataset, batch_size=120, shuffle=True)"
   ]
  },
  {
   "cell_type": "code",
   "execution_count": 36,
   "id": "3da1787a-4c22-4898-94e8-86ea4748f14a",
   "metadata": {},
   "outputs": [],
   "source": [
    "dataloader_test =DataLoader(test_dataset, batch_size= 120, shuffle=False)\n",
    "dataloader_dev =DataLoader(dev_dataset, batch_size= 120, shuffle=False)"
   ]
  },
  {
   "cell_type": "markdown",
   "id": "2ba5a73f-bb9f-4fb0-95a2-8a2900f34962",
   "metadata": {},
   "source": [
    "## Model Structure"
   ]
  },
  {
   "cell_type": "code",
   "execution_count": 69,
   "id": "ff3050bb-339c-40bf-9171-659572ef9cb0",
   "metadata": {},
   "outputs": [],
   "source": [
    "learning_rate = 0.001\n",
    "num_epochs = 100\n",
    " \n",
    "model = nn.Sequential(    \n",
    "    nn.Conv1d(in_channels=1, out_channels=8, kernel_size=4, stride=4, padding=0),  \n",
    "    nn.ReLU(), \n",
    "    nn.MaxPool1d(kernel_size=2),  \n",
    "    nn.Dropout(0.2),\n",
    "    nn.Conv1d(in_channels=8, out_channels=16, kernel_size=4, stride=4, padding=0),  \n",
    "    nn.ReLU(),\n",
    "    nn.MaxPool1d(kernel_size=2),\n",
    "    nn.Dropout(0.3),\n",
    "    nn.Conv1d(in_channels=16, out_channels=8, kernel_size=4, stride=4, padding=0),\n",
    "    nn.ReLU(),\n",
    "    nn.Dropout(0.4),\n",
    "    nn.Flatten(),\n",
    "    nn.Linear(152, 64),\n",
    "    nn.ReLU(), \n",
    "    nn.Dropout(0.4),\n",
    "    nn.Linear(64, 32), \n",
    "    nn.ReLU(), \n",
    "    nn.Linear(32, 16), \n",
    "    nn.ReLU(), \n",
    "    nn.Linear(16, 2),\n",
    ")\n",
    " \n",
    "criterion = nn.CrossEntropyLoss() \n",
    "optimizer = optim.Adam(model.parameters(), lr=learning_rate)"
   ]
  },
  {
   "cell_type": "code",
   "execution_count": 70,
   "id": "7011d304-245d-4493-831d-4a1572bb9548",
   "metadata": {},
   "outputs": [
    {
     "name": "stdout",
     "output_type": "stream",
     "text": [
      "Sequential(\n",
      "  (0): Conv1d(1, 8, kernel_size=(4,), stride=(4,))\n",
      "  (1): ReLU()\n",
      "  (2): MaxPool1d(kernel_size=2, stride=2, padding=0, dilation=1, ceil_mode=False)\n",
      "  (3): Dropout(p=0.2, inplace=False)\n",
      "  (4): Conv1d(8, 16, kernel_size=(4,), stride=(4,))\n",
      "  (5): ReLU()\n",
      "  (6): MaxPool1d(kernel_size=2, stride=2, padding=0, dilation=1, ceil_mode=False)\n",
      "  (7): Dropout(p=0.3, inplace=False)\n",
      "  (8): Conv1d(16, 8, kernel_size=(4,), stride=(4,))\n",
      "  (9): ReLU()\n",
      "  (10): Dropout(p=0.4, inplace=False)\n",
      "  (11): Flatten(start_dim=1, end_dim=-1)\n",
      "  (12): Linear(in_features=152, out_features=64, bias=True)\n",
      "  (13): ReLU()\n",
      "  (14): Dropout(p=0.4, inplace=False)\n",
      "  (15): Linear(in_features=64, out_features=32, bias=True)\n",
      "  (16): ReLU()\n",
      "  (17): Linear(in_features=32, out_features=16, bias=True)\n",
      "  (18): ReLU()\n",
      "  (19): Linear(in_features=16, out_features=2, bias=True)\n",
      ")\n"
     ]
    }
   ],
   "source": [
    "print(model)"
   ]
  },
  {
   "cell_type": "markdown",
   "id": "b98a82fb-2b38-4fb9-b0b9-ee80da434d38",
   "metadata": {},
   "source": [
    "### Model Training"
   ]
  },
  {
   "cell_type": "code",
   "execution_count": 71,
   "id": "e1f37db5-a10d-4be6-83d2-c455d8ab372b",
   "metadata": {},
   "outputs": [
    {
     "name": "stdout",
     "output_type": "stream",
     "text": [
      "cuda\n"
     ]
    },
    {
     "data": {
      "application/vnd.jupyter.widget-view+json": {
       "model_id": "3bc58f31920b49238fa3a799479879ed",
       "version_major": 2,
       "version_minor": 0
      },
      "text/plain": [
       "  0%|          | 0/100 [00:00<?, ?it/s]"
      ]
     },
     "metadata": {},
     "output_type": "display_data"
    },
    {
     "name": "stdout",
     "output_type": "stream",
     "text": [
      "Epoch [1/100], Loss: 0.6928\n",
      "Epoch [2/100], Loss: 0.6660\n",
      "Epoch [3/100], Loss: 0.6408\n",
      "Epoch [4/100], Loss: 0.6222\n",
      "Epoch [5/100], Loss: 0.6067\n",
      "Epoch [6/100], Loss: 0.5920\n",
      "Epoch [7/100], Loss: 0.5737\n",
      "Epoch [8/100], Loss: 0.5584\n",
      "Epoch [9/100], Loss: 0.5444\n",
      "Epoch [10/100], Loss: 0.5323\n",
      "Epoch [11/100], Loss: 0.5142\n",
      "Epoch [12/100], Loss: 0.5099\n",
      "Epoch [13/100], Loss: 0.4978\n",
      "Epoch [14/100], Loss: 0.4882\n",
      "Epoch [15/100], Loss: 0.4775\n",
      "Epoch [16/100], Loss: 0.4724\n",
      "Epoch [17/100], Loss: 0.4618\n",
      "Epoch [18/100], Loss: 0.4604\n",
      "Epoch [19/100], Loss: 0.4564\n",
      "Epoch [20/100], Loss: 0.4468\n",
      "Epoch [21/100], Loss: 0.4344\n",
      "Epoch [22/100], Loss: 0.4460\n",
      "Epoch [23/100], Loss: 0.4401\n",
      "Epoch [24/100], Loss: 0.4342\n",
      "Epoch [25/100], Loss: 0.4284\n",
      "Epoch [26/100], Loss: 0.4211\n",
      "Epoch [27/100], Loss: 0.4181\n",
      "Epoch [28/100], Loss: 0.4104\n",
      "Epoch [29/100], Loss: 0.4186\n",
      "Epoch [30/100], Loss: 0.4089\n",
      "Epoch [31/100], Loss: 0.4086\n",
      "Epoch [32/100], Loss: 0.4119\n",
      "Epoch [33/100], Loss: 0.3988\n",
      "Epoch [34/100], Loss: 0.3980\n",
      "Epoch [35/100], Loss: 0.3953\n",
      "Epoch [36/100], Loss: 0.4004\n",
      "Epoch [37/100], Loss: 0.3890\n",
      "Epoch [38/100], Loss: 0.3946\n",
      "Epoch [39/100], Loss: 0.3917\n",
      "Epoch [40/100], Loss: 0.3915\n",
      "Epoch [41/100], Loss: 0.3859\n",
      "Epoch [42/100], Loss: 0.3905\n",
      "Epoch [43/100], Loss: 0.3863\n",
      "Epoch [44/100], Loss: 0.3816\n",
      "Epoch [45/100], Loss: 0.3745\n",
      "Epoch [46/100], Loss: 0.3726\n",
      "Epoch [47/100], Loss: 0.3763\n",
      "Epoch [48/100], Loss: 0.3796\n",
      "Epoch [49/100], Loss: 0.3711\n",
      "Epoch [50/100], Loss: 0.3686\n",
      "Epoch [51/100], Loss: 0.3676\n",
      "Epoch [52/100], Loss: 0.3728\n",
      "Epoch [53/100], Loss: 0.3664\n",
      "Epoch [54/100], Loss: 0.3665\n",
      "Epoch [55/100], Loss: 0.3728\n",
      "Epoch [56/100], Loss: 0.3621\n",
      "Epoch [57/100], Loss: 0.3609\n",
      "Epoch [58/100], Loss: 0.3622\n",
      "Epoch [59/100], Loss: 0.3585\n",
      "Epoch [60/100], Loss: 0.3586\n",
      "Epoch [61/100], Loss: 0.3601\n",
      "Epoch [62/100], Loss: 0.3589\n",
      "Epoch [63/100], Loss: 0.3582\n",
      "Epoch [64/100], Loss: 0.3538\n",
      "Epoch [65/100], Loss: 0.3597\n",
      "Epoch [66/100], Loss: 0.3554\n",
      "Epoch [67/100], Loss: 0.3550\n",
      "Epoch [68/100], Loss: 0.3496\n",
      "Epoch [69/100], Loss: 0.3463\n",
      "Epoch [70/100], Loss: 0.3458\n",
      "Epoch [71/100], Loss: 0.3453\n",
      "Epoch [72/100], Loss: 0.3453\n",
      "Epoch [73/100], Loss: 0.3471\n",
      "Epoch [74/100], Loss: 0.3413\n",
      "Epoch [75/100], Loss: 0.3489\n",
      "Epoch [76/100], Loss: 0.3498\n",
      "Epoch [77/100], Loss: 0.3432\n",
      "Epoch [78/100], Loss: 0.3508\n",
      "Epoch [79/100], Loss: 0.3446\n",
      "Epoch [80/100], Loss: 0.3449\n",
      "Epoch [81/100], Loss: 0.3410\n",
      "Epoch [82/100], Loss: 0.3341\n",
      "Epoch [83/100], Loss: 0.3435\n",
      "Epoch [84/100], Loss: 0.3431\n",
      "Epoch [85/100], Loss: 0.3359\n",
      "Epoch [86/100], Loss: 0.3390\n",
      "Epoch [87/100], Loss: 0.3329\n",
      "Epoch [88/100], Loss: 0.3298\n",
      "Epoch [89/100], Loss: 0.3310\n",
      "Epoch [90/100], Loss: 0.3390\n",
      "Epoch [91/100], Loss: 0.3311\n",
      "Epoch [92/100], Loss: 0.3398\n",
      "Epoch [93/100], Loss: 0.3367\n",
      "Epoch [94/100], Loss: 0.3294\n",
      "Epoch [95/100], Loss: 0.3274\n",
      "Epoch [96/100], Loss: 0.3336\n",
      "Epoch [97/100], Loss: 0.3310\n",
      "Epoch [98/100], Loss: 0.3326\n",
      "Epoch [99/100], Loss: 0.3322\n",
      "Epoch [100/100], Loss: 0.3364\n"
     ]
    }
   ],
   "source": [
    "device = torch.device(\"cuda\" if torch.cuda.is_available() else \"cpu\")\n",
    "print(device)\n",
    "\n",
    "model.to(device)\n",
    "\n",
    "for epoch in tqdm(range(num_epochs)):\n",
    "    model.train()\n",
    "    running_loss = 0.0\n",
    "\n",
    "    for x_batch, labels in dataloader:\n",
    "        optimizer.zero_grad()\n",
    "\n",
    "        # Reshape x_batch to have one input channel\n",
    "        x_batch = x_batch.unsqueeze(1)  # Reshape: (batch_size, 1, 5000)\n",
    "        x_batch = x_batch.to(device)  # Move x_batch to device\n",
    "        labels = labels.to(device)  # Move labels to device\n",
    "        \n",
    "        outputs = model(x_batch)\n",
    "        loss = criterion(outputs, labels)\n",
    "\n",
    "        loss.backward()\n",
    "        optimizer.step()\n",
    "\n",
    "        running_loss += loss.item()\n",
    "\n",
    "    avg_loss = running_loss / len(dataloader)\n",
    "    print(f\"Epoch [{epoch + 1}/{num_epochs}], Loss: {avg_loss:.4f}\")"
   ]
  },
  {
   "cell_type": "markdown",
   "id": "34513def-f091-4540-8911-47561483eb9e",
   "metadata": {},
   "source": [
    "## Model Evaluation"
   ]
  },
  {
   "cell_type": "code",
   "execution_count": 53,
   "id": "9ed687e9-5a99-4ea9-8276-a1b71c038e4e",
   "metadata": {},
   "outputs": [
    {
     "name": "stdout",
     "output_type": "stream",
     "text": [
      "cuda\n",
      "Evaluation Loss: 0.0361\n",
      "Precision: 0.5859, Recall: 0.5859, F1 Score: 0.5859\n",
      "Predicted positives out of all negatives: 0.42570281124497994\n",
      "Predicted negatives out of all positives: 0.40304182509505704\n",
      "143 106 512\n"
     ]
    }
   ],
   "source": [
    "model.eval()\n",
    " \n",
    "device = torch.device(\"cuda\" if torch.cuda.is_available() else \"cpu\")\n",
    "print(device)\n",
    "\n",
    "model.to(device)\n",
    " \n",
    "# Initialize variables to keep track of the loss and predictions\n",
    "total_loss = 0.0\n",
    "all_labels = []\n",
    "all_predictions = []\n",
    "correct_cnt = 0\n",
    "miss_cnt = 0\n",
    "\n",
    "with torch.no_grad():\n",
    "    for x_batch, labels in dataloader_dev:  # Assuming you have a separate validation or test DataLoader\n",
    "\n",
    "        # Reshape x_batch to have one input channel\n",
    "        x_batch = x_batch.unsqueeze(1)  # Reshape: (batch_size, 1, 5000)\n",
    "        x_batch = x_batch.to(device)  # Move x_batch to device\n",
    "        labels = labels.to(device)\n",
    "\n",
    "        # labels = labels.to(device).long() \n",
    "        outputs = model(x_batch)  # Forward pass\n",
    "        loss = criterion(outputs, labels)  # Calculate loss\n",
    "        total_loss += loss.item()  # Accumulate the loss\n",
    "\n",
    "        # Get predictions\n",
    "        _, predicted = torch.max(outputs, 1)  # Get the index of the max log-probability\n",
    "        all_labels.extend(labels.cpu().numpy())  # Store true labels\n",
    "        all_predictions.extend(predicted.cpu().numpy())  # Store predicted labels\n",
    " \n",
    "# Calculate average loss\n",
    "avg_loss = total_loss / len(dataloader)\n",
    "\n",
    "# Calculate precision, recall, and F1 score\n",
    "precision = precision_score(all_labels, all_predictions, average='weighted')  # Use 'micro' or 'macro' if needed\n",
    "recall = recall_score(all_labels, all_predictions, average='weighted')\n",
    "f1 = f1_score(all_labels, all_predictions, average='weighted')\n",
    "\n",
    "cm = confusion_matrix(all_labels, all_predictions)\n",
    " \n",
    "TN = cm[0, 0]  \n",
    "FP = cm[0, 1] \n",
    "FN = cm[1, 0]  \n",
    "TP = cm[1, 1]  \n",
    "\n",
    "FPR = FP / (FP + TN) if (FP + TN) > 0 else 0  \n",
    "FNR = FN / (FN + TP) if (FN + TP) > 0 else 0  \n",
    " \n",
    "# Print results\n",
    "print(f\"Evaluation Loss: {avg_loss:.4f}\")\n",
    "print(f\"Precision: {precision:.4f}, Recall: {recall:.4f}, F1 Score: {f1:.4f}\")\n",
    "print(f'Predicted positives out of all negatives: {FPR}')\n",
    "print(f'Predicted negatives out of all positives: {FNR}')\n",
    "# print(all_labels)\n",
    "# print(all_predictions)\n",
    "\n",
    "for i in range(len(all_labels)):\n",
    "    if all_labels[i] == 0:  # all_labels의 값이 0인지 확인\n",
    "        if all_predictions[i] == 0:  # all_predictions의 값이 0인지 확인\n",
    "            correct_cnt += 1  # cnt를 증가시킴\n",
    "        else: miss_cnt += 1\n",
    "\n",
    "print(correct_cnt, miss_cnt, len(all_labels))"
   ]
  },
  {
   "cell_type": "markdown",
   "id": "a8c93d1a-b87f-4ff1-a1b3-3d9484f309f8",
   "metadata": {},
   "source": [
    "## 모델 저장"
   ]
  },
  {
   "cell_type": "code",
   "execution_count": 41,
   "id": "919c278f-c519-4ee4-8504-102f123a6166",
   "metadata": {},
   "outputs": [],
   "source": [
    "# torch.save(model, 'model_v0.0.1.pth')"
   ]
  },
  {
   "cell_type": "code",
   "execution_count": 42,
   "id": "da9e3580-3309-4e23-b2f4-989fb727a3b7",
   "metadata": {
    "collapsed": true,
    "jupyter": {
     "outputs_hidden": true,
     "source_hidden": true
    },
    "scrolled": true
   },
   "outputs": [
    {
     "name": "stderr",
     "output_type": "stream",
     "text": [
      "[I 2024-10-01 15:38:07,805] A new study created in memory with name: no-name-803d6bb6-2e46-415c-94a1-ec7babcdd572\n",
      "C:\\Users\\user\\AppData\\Local\\Temp\\ipykernel_1200\\927846824.py:53: FutureWarning: suggest_loguniform has been deprecated in v3.0.0. This feature will be removed in v6.0.0. See https://github.com/optuna/optuna/releases/tag/v3.0.0. Use suggest_float(..., log=True) instead.\n",
      "  lr = trial.suggest_loguniform('lr', 1e-5, 1e-1)\n",
      "100%|██████████████████████████████████████████████████████████████████████████████████| 3/3 [00:00<00:00, 1002.70it/s]\n",
      "100%|███████████████████████████████████████████████████████████████████████████████████| 2/2 [00:00<00:00, 662.92it/s]\n",
      "  0%|                                                                                           | 0/38 [00:00<?, ?it/s]\n",
      "[W 2024-10-01 15:38:07,830] Trial 0 failed with parameters: {'lr': 0.00039486972607855454, 'batch_size': 64, 'num_epochs': 38, 'n_conv_layers': 3, 'conv_0_out_channels': 115, 'conv_0_kernel_size': 5, 'conv_0_stride': 1, 'conv_1_out_channels': 75, 'conv_1_kernel_size': 4, 'conv_1_stride': 3, 'conv_2_out_channels': 17, 'conv_2_kernel_size': 5, 'conv_2_stride': 3, 'n_fc_layers': 2, 'fc_0_out_features': 355, 'dropout_0': 0.22139080861610752, 'fc_1_out_features': 244, 'dropout_1': 0.12007514390408676} because of the following error: RuntimeError('mat1 and mat2 shapes cannot be multiplied (120x1173 and 1156x355)').\n",
      "Traceback (most recent call last):\n",
      "  File \"C:\\Users\\user\\anaconda3\\envs\\torch-gpu\\Lib\\site-packages\\optuna\\study\\_optimize.py\", line 197, in _run_trial\n",
      "    value_or_values = func(trial)\n",
      "                      ^^^^^^^^^^^\n",
      "  File \"C:\\Users\\user\\AppData\\Local\\Temp\\ipykernel_1200\\927846824.py\", line 74, in objective\n",
      "    outputs = model(x_batch)\n",
      "              ^^^^^^^^^^^^^^\n",
      "  File \"C:\\Users\\user\\anaconda3\\envs\\torch-gpu\\Lib\\site-packages\\torch\\nn\\modules\\module.py\", line 1553, in _wrapped_call_impl\n",
      "    return self._call_impl(*args, **kwargs)\n",
      "           ^^^^^^^^^^^^^^^^^^^^^^^^^^^^^^^^\n",
      "  File \"C:\\Users\\user\\anaconda3\\envs\\torch-gpu\\Lib\\site-packages\\torch\\nn\\modules\\module.py\", line 1562, in _call_impl\n",
      "    return forward_call(*args, **kwargs)\n",
      "           ^^^^^^^^^^^^^^^^^^^^^^^^^^^^^\n",
      "  File \"C:\\Users\\user\\anaconda3\\envs\\torch-gpu\\Lib\\site-packages\\torch\\nn\\modules\\container.py\", line 219, in forward\n",
      "    input = module(input)\n",
      "            ^^^^^^^^^^^^^\n",
      "  File \"C:\\Users\\user\\anaconda3\\envs\\torch-gpu\\Lib\\site-packages\\torch\\nn\\modules\\module.py\", line 1553, in _wrapped_call_impl\n",
      "    return self._call_impl(*args, **kwargs)\n",
      "           ^^^^^^^^^^^^^^^^^^^^^^^^^^^^^^^^\n",
      "  File \"C:\\Users\\user\\anaconda3\\envs\\torch-gpu\\Lib\\site-packages\\torch\\nn\\modules\\module.py\", line 1562, in _call_impl\n",
      "    return forward_call(*args, **kwargs)\n",
      "           ^^^^^^^^^^^^^^^^^^^^^^^^^^^^^\n",
      "  File \"C:\\Users\\user\\anaconda3\\envs\\torch-gpu\\Lib\\site-packages\\torch\\nn\\modules\\linear.py\", line 117, in forward\n",
      "    return F.linear(input, self.weight, self.bias)\n",
      "           ^^^^^^^^^^^^^^^^^^^^^^^^^^^^^^^^^^^^^^^\n",
      "RuntimeError: mat1 and mat2 shapes cannot be multiplied (120x1173 and 1156x355)\n",
      "[W 2024-10-01 15:38:07,837] Trial 0 failed with value None.\n"
     ]
    },
    {
     "ename": "RuntimeError",
     "evalue": "mat1 and mat2 shapes cannot be multiplied (120x1173 and 1156x355)",
     "output_type": "error",
     "traceback": [
      "\u001b[1;31m---------------------------------------------------------------------------\u001b[0m",
      "\u001b[1;31mRuntimeError\u001b[0m                              Traceback (most recent call last)",
      "Cell \u001b[1;32mIn[42], line 106\u001b[0m\n\u001b[0;32m    103\u001b[0m study \u001b[38;5;241m=\u001b[39m optuna\u001b[38;5;241m.\u001b[39mcreate_study(direction\u001b[38;5;241m=\u001b[39m\u001b[38;5;124m'\u001b[39m\u001b[38;5;124mmaximize\u001b[39m\u001b[38;5;124m'\u001b[39m)\n\u001b[0;32m    105\u001b[0m \u001b[38;5;66;03m# Optimize the objective function\u001b[39;00m\n\u001b[1;32m--> 106\u001b[0m \u001b[43mstudy\u001b[49m\u001b[38;5;241;43m.\u001b[39;49m\u001b[43moptimize\u001b[49m\u001b[43m(\u001b[49m\u001b[43mobjective\u001b[49m\u001b[43m,\u001b[49m\u001b[43m \u001b[49m\u001b[43mn_trials\u001b[49m\u001b[38;5;241;43m=\u001b[39;49m\u001b[38;5;241;43m100\u001b[39;49m\u001b[43m)\u001b[49m  \u001b[38;5;66;03m# You can adjust the number of trials\u001b[39;00m\n\u001b[0;32m    108\u001b[0m \u001b[38;5;28mprint\u001b[39m(\u001b[38;5;124m'\u001b[39m\u001b[38;5;124mNumber of finished trials:\u001b[39m\u001b[38;5;124m'\u001b[39m, \u001b[38;5;28mlen\u001b[39m(study\u001b[38;5;241m.\u001b[39mtrials))\n\u001b[0;32m    109\u001b[0m \u001b[38;5;28mprint\u001b[39m(\u001b[38;5;124m'\u001b[39m\u001b[38;5;124mBest trial:\u001b[39m\u001b[38;5;124m'\u001b[39m)\n",
      "File \u001b[1;32m~\\anaconda3\\envs\\torch-gpu\\Lib\\site-packages\\optuna\\study\\study.py:475\u001b[0m, in \u001b[0;36mStudy.optimize\u001b[1;34m(self, func, n_trials, timeout, n_jobs, catch, callbacks, gc_after_trial, show_progress_bar)\u001b[0m\n\u001b[0;32m    373\u001b[0m \u001b[38;5;28;01mdef\u001b[39;00m \u001b[38;5;21moptimize\u001b[39m(\n\u001b[0;32m    374\u001b[0m     \u001b[38;5;28mself\u001b[39m,\n\u001b[0;32m    375\u001b[0m     func: ObjectiveFuncType,\n\u001b[1;32m   (...)\u001b[0m\n\u001b[0;32m    382\u001b[0m     show_progress_bar: \u001b[38;5;28mbool\u001b[39m \u001b[38;5;241m=\u001b[39m \u001b[38;5;28;01mFalse\u001b[39;00m,\n\u001b[0;32m    383\u001b[0m ) \u001b[38;5;241m-\u001b[39m\u001b[38;5;241m>\u001b[39m \u001b[38;5;28;01mNone\u001b[39;00m:\n\u001b[0;32m    384\u001b[0m \u001b[38;5;250m    \u001b[39m\u001b[38;5;124;03m\"\"\"Optimize an objective function.\u001b[39;00m\n\u001b[0;32m    385\u001b[0m \n\u001b[0;32m    386\u001b[0m \u001b[38;5;124;03m    Optimization is done by choosing a suitable set of hyperparameter values from a given\u001b[39;00m\n\u001b[1;32m   (...)\u001b[0m\n\u001b[0;32m    473\u001b[0m \u001b[38;5;124;03m            If nested invocation of this method occurs.\u001b[39;00m\n\u001b[0;32m    474\u001b[0m \u001b[38;5;124;03m    \"\"\"\u001b[39;00m\n\u001b[1;32m--> 475\u001b[0m     \u001b[43m_optimize\u001b[49m\u001b[43m(\u001b[49m\n\u001b[0;32m    476\u001b[0m \u001b[43m        \u001b[49m\u001b[43mstudy\u001b[49m\u001b[38;5;241;43m=\u001b[39;49m\u001b[38;5;28;43mself\u001b[39;49m\u001b[43m,\u001b[49m\n\u001b[0;32m    477\u001b[0m \u001b[43m        \u001b[49m\u001b[43mfunc\u001b[49m\u001b[38;5;241;43m=\u001b[39;49m\u001b[43mfunc\u001b[49m\u001b[43m,\u001b[49m\n\u001b[0;32m    478\u001b[0m \u001b[43m        \u001b[49m\u001b[43mn_trials\u001b[49m\u001b[38;5;241;43m=\u001b[39;49m\u001b[43mn_trials\u001b[49m\u001b[43m,\u001b[49m\n\u001b[0;32m    479\u001b[0m \u001b[43m        \u001b[49m\u001b[43mtimeout\u001b[49m\u001b[38;5;241;43m=\u001b[39;49m\u001b[43mtimeout\u001b[49m\u001b[43m,\u001b[49m\n\u001b[0;32m    480\u001b[0m \u001b[43m        \u001b[49m\u001b[43mn_jobs\u001b[49m\u001b[38;5;241;43m=\u001b[39;49m\u001b[43mn_jobs\u001b[49m\u001b[43m,\u001b[49m\n\u001b[0;32m    481\u001b[0m \u001b[43m        \u001b[49m\u001b[43mcatch\u001b[49m\u001b[38;5;241;43m=\u001b[39;49m\u001b[38;5;28;43mtuple\u001b[39;49m\u001b[43m(\u001b[49m\u001b[43mcatch\u001b[49m\u001b[43m)\u001b[49m\u001b[43m \u001b[49m\u001b[38;5;28;43;01mif\u001b[39;49;00m\u001b[43m \u001b[49m\u001b[38;5;28;43misinstance\u001b[39;49m\u001b[43m(\u001b[49m\u001b[43mcatch\u001b[49m\u001b[43m,\u001b[49m\u001b[43m \u001b[49m\u001b[43mIterable\u001b[49m\u001b[43m)\u001b[49m\u001b[43m \u001b[49m\u001b[38;5;28;43;01melse\u001b[39;49;00m\u001b[43m \u001b[49m\u001b[43m(\u001b[49m\u001b[43mcatch\u001b[49m\u001b[43m,\u001b[49m\u001b[43m)\u001b[49m\u001b[43m,\u001b[49m\n\u001b[0;32m    482\u001b[0m \u001b[43m        \u001b[49m\u001b[43mcallbacks\u001b[49m\u001b[38;5;241;43m=\u001b[39;49m\u001b[43mcallbacks\u001b[49m\u001b[43m,\u001b[49m\n\u001b[0;32m    483\u001b[0m \u001b[43m        \u001b[49m\u001b[43mgc_after_trial\u001b[49m\u001b[38;5;241;43m=\u001b[39;49m\u001b[43mgc_after_trial\u001b[49m\u001b[43m,\u001b[49m\n\u001b[0;32m    484\u001b[0m \u001b[43m        \u001b[49m\u001b[43mshow_progress_bar\u001b[49m\u001b[38;5;241;43m=\u001b[39;49m\u001b[43mshow_progress_bar\u001b[49m\u001b[43m,\u001b[49m\n\u001b[0;32m    485\u001b[0m \u001b[43m    \u001b[49m\u001b[43m)\u001b[49m\n",
      "File \u001b[1;32m~\\anaconda3\\envs\\torch-gpu\\Lib\\site-packages\\optuna\\study\\_optimize.py:63\u001b[0m, in \u001b[0;36m_optimize\u001b[1;34m(study, func, n_trials, timeout, n_jobs, catch, callbacks, gc_after_trial, show_progress_bar)\u001b[0m\n\u001b[0;32m     61\u001b[0m \u001b[38;5;28;01mtry\u001b[39;00m:\n\u001b[0;32m     62\u001b[0m     \u001b[38;5;28;01mif\u001b[39;00m n_jobs \u001b[38;5;241m==\u001b[39m \u001b[38;5;241m1\u001b[39m:\n\u001b[1;32m---> 63\u001b[0m         \u001b[43m_optimize_sequential\u001b[49m\u001b[43m(\u001b[49m\n\u001b[0;32m     64\u001b[0m \u001b[43m            \u001b[49m\u001b[43mstudy\u001b[49m\u001b[43m,\u001b[49m\n\u001b[0;32m     65\u001b[0m \u001b[43m            \u001b[49m\u001b[43mfunc\u001b[49m\u001b[43m,\u001b[49m\n\u001b[0;32m     66\u001b[0m \u001b[43m            \u001b[49m\u001b[43mn_trials\u001b[49m\u001b[43m,\u001b[49m\n\u001b[0;32m     67\u001b[0m \u001b[43m            \u001b[49m\u001b[43mtimeout\u001b[49m\u001b[43m,\u001b[49m\n\u001b[0;32m     68\u001b[0m \u001b[43m            \u001b[49m\u001b[43mcatch\u001b[49m\u001b[43m,\u001b[49m\n\u001b[0;32m     69\u001b[0m \u001b[43m            \u001b[49m\u001b[43mcallbacks\u001b[49m\u001b[43m,\u001b[49m\n\u001b[0;32m     70\u001b[0m \u001b[43m            \u001b[49m\u001b[43mgc_after_trial\u001b[49m\u001b[43m,\u001b[49m\n\u001b[0;32m     71\u001b[0m \u001b[43m            \u001b[49m\u001b[43mreseed_sampler_rng\u001b[49m\u001b[38;5;241;43m=\u001b[39;49m\u001b[38;5;28;43;01mFalse\u001b[39;49;00m\u001b[43m,\u001b[49m\n\u001b[0;32m     72\u001b[0m \u001b[43m            \u001b[49m\u001b[43mtime_start\u001b[49m\u001b[38;5;241;43m=\u001b[39;49m\u001b[38;5;28;43;01mNone\u001b[39;49;00m\u001b[43m,\u001b[49m\n\u001b[0;32m     73\u001b[0m \u001b[43m            \u001b[49m\u001b[43mprogress_bar\u001b[49m\u001b[38;5;241;43m=\u001b[39;49m\u001b[43mprogress_bar\u001b[49m\u001b[43m,\u001b[49m\n\u001b[0;32m     74\u001b[0m \u001b[43m        \u001b[49m\u001b[43m)\u001b[49m\n\u001b[0;32m     75\u001b[0m     \u001b[38;5;28;01melse\u001b[39;00m:\n\u001b[0;32m     76\u001b[0m         \u001b[38;5;28;01mif\u001b[39;00m n_jobs \u001b[38;5;241m==\u001b[39m \u001b[38;5;241m-\u001b[39m\u001b[38;5;241m1\u001b[39m:\n",
      "File \u001b[1;32m~\\anaconda3\\envs\\torch-gpu\\Lib\\site-packages\\optuna\\study\\_optimize.py:160\u001b[0m, in \u001b[0;36m_optimize_sequential\u001b[1;34m(study, func, n_trials, timeout, catch, callbacks, gc_after_trial, reseed_sampler_rng, time_start, progress_bar)\u001b[0m\n\u001b[0;32m    157\u001b[0m         \u001b[38;5;28;01mbreak\u001b[39;00m\n\u001b[0;32m    159\u001b[0m \u001b[38;5;28;01mtry\u001b[39;00m:\n\u001b[1;32m--> 160\u001b[0m     frozen_trial \u001b[38;5;241m=\u001b[39m \u001b[43m_run_trial\u001b[49m\u001b[43m(\u001b[49m\u001b[43mstudy\u001b[49m\u001b[43m,\u001b[49m\u001b[43m \u001b[49m\u001b[43mfunc\u001b[49m\u001b[43m,\u001b[49m\u001b[43m \u001b[49m\u001b[43mcatch\u001b[49m\u001b[43m)\u001b[49m\n\u001b[0;32m    161\u001b[0m \u001b[38;5;28;01mfinally\u001b[39;00m:\n\u001b[0;32m    162\u001b[0m     \u001b[38;5;66;03m# The following line mitigates memory problems that can be occurred in some\u001b[39;00m\n\u001b[0;32m    163\u001b[0m     \u001b[38;5;66;03m# environments (e.g., services that use computing containers such as GitHub Actions).\u001b[39;00m\n\u001b[0;32m    164\u001b[0m     \u001b[38;5;66;03m# Please refer to the following PR for further details:\u001b[39;00m\n\u001b[0;32m    165\u001b[0m     \u001b[38;5;66;03m# https://github.com/optuna/optuna/pull/325.\u001b[39;00m\n\u001b[0;32m    166\u001b[0m     \u001b[38;5;28;01mif\u001b[39;00m gc_after_trial:\n",
      "File \u001b[1;32m~\\anaconda3\\envs\\torch-gpu\\Lib\\site-packages\\optuna\\study\\_optimize.py:248\u001b[0m, in \u001b[0;36m_run_trial\u001b[1;34m(study, func, catch)\u001b[0m\n\u001b[0;32m    241\u001b[0m         \u001b[38;5;28;01massert\u001b[39;00m \u001b[38;5;28;01mFalse\u001b[39;00m, \u001b[38;5;124m\"\u001b[39m\u001b[38;5;124mShould not reach.\u001b[39m\u001b[38;5;124m\"\u001b[39m\n\u001b[0;32m    243\u001b[0m \u001b[38;5;28;01mif\u001b[39;00m (\n\u001b[0;32m    244\u001b[0m     frozen_trial\u001b[38;5;241m.\u001b[39mstate \u001b[38;5;241m==\u001b[39m TrialState\u001b[38;5;241m.\u001b[39mFAIL\n\u001b[0;32m    245\u001b[0m     \u001b[38;5;129;01mand\u001b[39;00m func_err \u001b[38;5;129;01mis\u001b[39;00m \u001b[38;5;129;01mnot\u001b[39;00m \u001b[38;5;28;01mNone\u001b[39;00m\n\u001b[0;32m    246\u001b[0m     \u001b[38;5;129;01mand\u001b[39;00m \u001b[38;5;129;01mnot\u001b[39;00m \u001b[38;5;28misinstance\u001b[39m(func_err, catch)\n\u001b[0;32m    247\u001b[0m ):\n\u001b[1;32m--> 248\u001b[0m     \u001b[38;5;28;01mraise\u001b[39;00m func_err\n\u001b[0;32m    249\u001b[0m \u001b[38;5;28;01mreturn\u001b[39;00m frozen_trial\n",
      "File \u001b[1;32m~\\anaconda3\\envs\\torch-gpu\\Lib\\site-packages\\optuna\\study\\_optimize.py:197\u001b[0m, in \u001b[0;36m_run_trial\u001b[1;34m(study, func, catch)\u001b[0m\n\u001b[0;32m    195\u001b[0m \u001b[38;5;28;01mwith\u001b[39;00m get_heartbeat_thread(trial\u001b[38;5;241m.\u001b[39m_trial_id, study\u001b[38;5;241m.\u001b[39m_storage):\n\u001b[0;32m    196\u001b[0m     \u001b[38;5;28;01mtry\u001b[39;00m:\n\u001b[1;32m--> 197\u001b[0m         value_or_values \u001b[38;5;241m=\u001b[39m \u001b[43mfunc\u001b[49m\u001b[43m(\u001b[49m\u001b[43mtrial\u001b[49m\u001b[43m)\u001b[49m\n\u001b[0;32m    198\u001b[0m     \u001b[38;5;28;01mexcept\u001b[39;00m exceptions\u001b[38;5;241m.\u001b[39mTrialPruned \u001b[38;5;28;01mas\u001b[39;00m e:\n\u001b[0;32m    199\u001b[0m         \u001b[38;5;66;03m# TODO(mamu): Handle multi-objective cases.\u001b[39;00m\n\u001b[0;32m    200\u001b[0m         state \u001b[38;5;241m=\u001b[39m TrialState\u001b[38;5;241m.\u001b[39mPRUNED\n",
      "Cell \u001b[1;32mIn[42], line 74\u001b[0m, in \u001b[0;36mobjective\u001b[1;34m(trial)\u001b[0m\n\u001b[0;32m     71\u001b[0m labels \u001b[38;5;241m=\u001b[39m labels\u001b[38;5;241m.\u001b[39mto(device)\n\u001b[0;32m     73\u001b[0m optimizer\u001b[38;5;241m.\u001b[39mzero_grad()\n\u001b[1;32m---> 74\u001b[0m outputs \u001b[38;5;241m=\u001b[39m \u001b[43mmodel\u001b[49m\u001b[43m(\u001b[49m\u001b[43mx_batch\u001b[49m\u001b[43m)\u001b[49m\n\u001b[0;32m     75\u001b[0m loss \u001b[38;5;241m=\u001b[39m criterion(outputs, labels)\n\u001b[0;32m     76\u001b[0m loss\u001b[38;5;241m.\u001b[39mbackward()\n",
      "File \u001b[1;32m~\\anaconda3\\envs\\torch-gpu\\Lib\\site-packages\\torch\\nn\\modules\\module.py:1553\u001b[0m, in \u001b[0;36mModule._wrapped_call_impl\u001b[1;34m(self, *args, **kwargs)\u001b[0m\n\u001b[0;32m   1551\u001b[0m     \u001b[38;5;28;01mreturn\u001b[39;00m \u001b[38;5;28mself\u001b[39m\u001b[38;5;241m.\u001b[39m_compiled_call_impl(\u001b[38;5;241m*\u001b[39margs, \u001b[38;5;241m*\u001b[39m\u001b[38;5;241m*\u001b[39mkwargs)  \u001b[38;5;66;03m# type: ignore[misc]\u001b[39;00m\n\u001b[0;32m   1552\u001b[0m \u001b[38;5;28;01melse\u001b[39;00m:\n\u001b[1;32m-> 1553\u001b[0m     \u001b[38;5;28;01mreturn\u001b[39;00m \u001b[38;5;28;43mself\u001b[39;49m\u001b[38;5;241;43m.\u001b[39;49m\u001b[43m_call_impl\u001b[49m\u001b[43m(\u001b[49m\u001b[38;5;241;43m*\u001b[39;49m\u001b[43margs\u001b[49m\u001b[43m,\u001b[49m\u001b[43m \u001b[49m\u001b[38;5;241;43m*\u001b[39;49m\u001b[38;5;241;43m*\u001b[39;49m\u001b[43mkwargs\u001b[49m\u001b[43m)\u001b[49m\n",
      "File \u001b[1;32m~\\anaconda3\\envs\\torch-gpu\\Lib\\site-packages\\torch\\nn\\modules\\module.py:1562\u001b[0m, in \u001b[0;36mModule._call_impl\u001b[1;34m(self, *args, **kwargs)\u001b[0m\n\u001b[0;32m   1557\u001b[0m \u001b[38;5;66;03m# If we don't have any hooks, we want to skip the rest of the logic in\u001b[39;00m\n\u001b[0;32m   1558\u001b[0m \u001b[38;5;66;03m# this function, and just call forward.\u001b[39;00m\n\u001b[0;32m   1559\u001b[0m \u001b[38;5;28;01mif\u001b[39;00m \u001b[38;5;129;01mnot\u001b[39;00m (\u001b[38;5;28mself\u001b[39m\u001b[38;5;241m.\u001b[39m_backward_hooks \u001b[38;5;129;01mor\u001b[39;00m \u001b[38;5;28mself\u001b[39m\u001b[38;5;241m.\u001b[39m_backward_pre_hooks \u001b[38;5;129;01mor\u001b[39;00m \u001b[38;5;28mself\u001b[39m\u001b[38;5;241m.\u001b[39m_forward_hooks \u001b[38;5;129;01mor\u001b[39;00m \u001b[38;5;28mself\u001b[39m\u001b[38;5;241m.\u001b[39m_forward_pre_hooks\n\u001b[0;32m   1560\u001b[0m         \u001b[38;5;129;01mor\u001b[39;00m _global_backward_pre_hooks \u001b[38;5;129;01mor\u001b[39;00m _global_backward_hooks\n\u001b[0;32m   1561\u001b[0m         \u001b[38;5;129;01mor\u001b[39;00m _global_forward_hooks \u001b[38;5;129;01mor\u001b[39;00m _global_forward_pre_hooks):\n\u001b[1;32m-> 1562\u001b[0m     \u001b[38;5;28;01mreturn\u001b[39;00m \u001b[43mforward_call\u001b[49m\u001b[43m(\u001b[49m\u001b[38;5;241;43m*\u001b[39;49m\u001b[43margs\u001b[49m\u001b[43m,\u001b[49m\u001b[43m \u001b[49m\u001b[38;5;241;43m*\u001b[39;49m\u001b[38;5;241;43m*\u001b[39;49m\u001b[43mkwargs\u001b[49m\u001b[43m)\u001b[49m\n\u001b[0;32m   1564\u001b[0m \u001b[38;5;28;01mtry\u001b[39;00m:\n\u001b[0;32m   1565\u001b[0m     result \u001b[38;5;241m=\u001b[39m \u001b[38;5;28;01mNone\u001b[39;00m\n",
      "File \u001b[1;32m~\\anaconda3\\envs\\torch-gpu\\Lib\\site-packages\\torch\\nn\\modules\\container.py:219\u001b[0m, in \u001b[0;36mSequential.forward\u001b[1;34m(self, input)\u001b[0m\n\u001b[0;32m    217\u001b[0m \u001b[38;5;28;01mdef\u001b[39;00m \u001b[38;5;21mforward\u001b[39m(\u001b[38;5;28mself\u001b[39m, \u001b[38;5;28minput\u001b[39m):\n\u001b[0;32m    218\u001b[0m     \u001b[38;5;28;01mfor\u001b[39;00m module \u001b[38;5;129;01min\u001b[39;00m \u001b[38;5;28mself\u001b[39m:\n\u001b[1;32m--> 219\u001b[0m         \u001b[38;5;28minput\u001b[39m \u001b[38;5;241m=\u001b[39m \u001b[43mmodule\u001b[49m\u001b[43m(\u001b[49m\u001b[38;5;28;43minput\u001b[39;49m\u001b[43m)\u001b[49m\n\u001b[0;32m    220\u001b[0m     \u001b[38;5;28;01mreturn\u001b[39;00m \u001b[38;5;28minput\u001b[39m\n",
      "File \u001b[1;32m~\\anaconda3\\envs\\torch-gpu\\Lib\\site-packages\\torch\\nn\\modules\\module.py:1553\u001b[0m, in \u001b[0;36mModule._wrapped_call_impl\u001b[1;34m(self, *args, **kwargs)\u001b[0m\n\u001b[0;32m   1551\u001b[0m     \u001b[38;5;28;01mreturn\u001b[39;00m \u001b[38;5;28mself\u001b[39m\u001b[38;5;241m.\u001b[39m_compiled_call_impl(\u001b[38;5;241m*\u001b[39margs, \u001b[38;5;241m*\u001b[39m\u001b[38;5;241m*\u001b[39mkwargs)  \u001b[38;5;66;03m# type: ignore[misc]\u001b[39;00m\n\u001b[0;32m   1552\u001b[0m \u001b[38;5;28;01melse\u001b[39;00m:\n\u001b[1;32m-> 1553\u001b[0m     \u001b[38;5;28;01mreturn\u001b[39;00m \u001b[38;5;28;43mself\u001b[39;49m\u001b[38;5;241;43m.\u001b[39;49m\u001b[43m_call_impl\u001b[49m\u001b[43m(\u001b[49m\u001b[38;5;241;43m*\u001b[39;49m\u001b[43margs\u001b[49m\u001b[43m,\u001b[49m\u001b[43m \u001b[49m\u001b[38;5;241;43m*\u001b[39;49m\u001b[38;5;241;43m*\u001b[39;49m\u001b[43mkwargs\u001b[49m\u001b[43m)\u001b[49m\n",
      "File \u001b[1;32m~\\anaconda3\\envs\\torch-gpu\\Lib\\site-packages\\torch\\nn\\modules\\module.py:1562\u001b[0m, in \u001b[0;36mModule._call_impl\u001b[1;34m(self, *args, **kwargs)\u001b[0m\n\u001b[0;32m   1557\u001b[0m \u001b[38;5;66;03m# If we don't have any hooks, we want to skip the rest of the logic in\u001b[39;00m\n\u001b[0;32m   1558\u001b[0m \u001b[38;5;66;03m# this function, and just call forward.\u001b[39;00m\n\u001b[0;32m   1559\u001b[0m \u001b[38;5;28;01mif\u001b[39;00m \u001b[38;5;129;01mnot\u001b[39;00m (\u001b[38;5;28mself\u001b[39m\u001b[38;5;241m.\u001b[39m_backward_hooks \u001b[38;5;129;01mor\u001b[39;00m \u001b[38;5;28mself\u001b[39m\u001b[38;5;241m.\u001b[39m_backward_pre_hooks \u001b[38;5;129;01mor\u001b[39;00m \u001b[38;5;28mself\u001b[39m\u001b[38;5;241m.\u001b[39m_forward_hooks \u001b[38;5;129;01mor\u001b[39;00m \u001b[38;5;28mself\u001b[39m\u001b[38;5;241m.\u001b[39m_forward_pre_hooks\n\u001b[0;32m   1560\u001b[0m         \u001b[38;5;129;01mor\u001b[39;00m _global_backward_pre_hooks \u001b[38;5;129;01mor\u001b[39;00m _global_backward_hooks\n\u001b[0;32m   1561\u001b[0m         \u001b[38;5;129;01mor\u001b[39;00m _global_forward_hooks \u001b[38;5;129;01mor\u001b[39;00m _global_forward_pre_hooks):\n\u001b[1;32m-> 1562\u001b[0m     \u001b[38;5;28;01mreturn\u001b[39;00m \u001b[43mforward_call\u001b[49m\u001b[43m(\u001b[49m\u001b[38;5;241;43m*\u001b[39;49m\u001b[43margs\u001b[49m\u001b[43m,\u001b[49m\u001b[43m \u001b[49m\u001b[38;5;241;43m*\u001b[39;49m\u001b[38;5;241;43m*\u001b[39;49m\u001b[43mkwargs\u001b[49m\u001b[43m)\u001b[49m\n\u001b[0;32m   1564\u001b[0m \u001b[38;5;28;01mtry\u001b[39;00m:\n\u001b[0;32m   1565\u001b[0m     result \u001b[38;5;241m=\u001b[39m \u001b[38;5;28;01mNone\u001b[39;00m\n",
      "File \u001b[1;32m~\\anaconda3\\envs\\torch-gpu\\Lib\\site-packages\\torch\\nn\\modules\\linear.py:117\u001b[0m, in \u001b[0;36mLinear.forward\u001b[1;34m(self, input)\u001b[0m\n\u001b[0;32m    116\u001b[0m \u001b[38;5;28;01mdef\u001b[39;00m \u001b[38;5;21mforward\u001b[39m(\u001b[38;5;28mself\u001b[39m, \u001b[38;5;28minput\u001b[39m: Tensor) \u001b[38;5;241m-\u001b[39m\u001b[38;5;241m>\u001b[39m Tensor:\n\u001b[1;32m--> 117\u001b[0m     \u001b[38;5;28;01mreturn\u001b[39;00m \u001b[43mF\u001b[49m\u001b[38;5;241;43m.\u001b[39;49m\u001b[43mlinear\u001b[49m\u001b[43m(\u001b[49m\u001b[38;5;28;43minput\u001b[39;49m\u001b[43m,\u001b[49m\u001b[43m \u001b[49m\u001b[38;5;28;43mself\u001b[39;49m\u001b[38;5;241;43m.\u001b[39;49m\u001b[43mweight\u001b[49m\u001b[43m,\u001b[49m\u001b[43m \u001b[49m\u001b[38;5;28;43mself\u001b[39;49m\u001b[38;5;241;43m.\u001b[39;49m\u001b[43mbias\u001b[49m\u001b[43m)\u001b[49m\n",
      "\u001b[1;31mRuntimeError\u001b[0m: mat1 and mat2 shapes cannot be multiplied (120x1173 and 1156x355)"
     ]
    }
   ],
   "source": [
    "import torch\n",
    "import torch.nn as nn\n",
    "import torch.optim as optim\n",
    "from torch.utils.data import DataLoader\n",
    "import optuna\n",
    "from tqdm import tqdm\n",
    "from sklearn.metrics import precision_score, recall_score, f1_score, confusion_matrix\n",
    "\n",
    "# Assume that dataloader and dataloader_dev are already defined\n",
    "\n",
    "def create_model(trial):\n",
    "    layers = []\n",
    "    in_channels = 1\n",
    "    current_size = 5000  # Initial input size\n",
    "\n",
    "    # Dynamically create convolutional layers\n",
    "    for i in tqdm(range(trial.suggest_int('n_conv_layers', 1, 5))):\n",
    "        out_channels = trial.suggest_int(f'conv_{i}_out_channels', 16, 128)\n",
    "        kernel_size = trial.suggest_int(f'conv_{i}_kernel_size', 3, 7)\n",
    "        stride = trial.suggest_int(f'conv_{i}_stride', 1, 3)\n",
    "        \n",
    "        layers.append(nn.Conv1d(in_channels, out_channels, kernel_size, stride))\n",
    "        layers.append(nn.ReLU())\n",
    "        layers.append(nn.MaxPool1d(kernel_size=2))\n",
    "        layers.append(nn.BatchNorm1d(out_channels))\n",
    "        \n",
    "        # Calculate the output size of this layer\n",
    "        current_size = (current_size - kernel_size + 1) // stride\n",
    "        current_size = current_size // 2  # Effect of MaxPool\n",
    "        \n",
    "        in_channels = out_channels\n",
    "\n",
    "    layers.append(nn.Flatten())\n",
    "\n",
    "    # Calculate the size of the flattened output\n",
    "    fc_input_size = in_channels * current_size\n",
    "\n",
    "    # Dynamically create fully connected layers\n",
    "    for i in tqdm(range(trial.suggest_int('n_fc_layers', 1, 5))):\n",
    "        out_features = trial.suggest_int(f'fc_{i}_out_features', 64, 1024)\n",
    "        layers.append(nn.Linear(fc_input_size, out_features))\n",
    "        layers.append(nn.ReLU())\n",
    "        layers.append(nn.Dropout(trial.suggest_float(f'dropout_{i}', 0.1, 0.5)))\n",
    "        fc_input_size = out_features\n",
    "\n",
    "    # Output layer\n",
    "    layers.append(nn.Linear(fc_input_size, 2))\n",
    "\n",
    "    return nn.Sequential(*layers)\n",
    "\n",
    "def objective(trial):\n",
    "    # Hyperparameters\n",
    "    lr = trial.suggest_loguniform('lr', 1e-5, 1e-1)\n",
    "    batch_size = trial.suggest_categorical('batch_size', [16, 32, 64, 128])\n",
    "    num_epochs = trial.suggest_int('num_epochs', 10, 50)\n",
    "\n",
    "    # Create model, loss function, and optimizer\n",
    "    model = create_model(trial)\n",
    "    criterion = nn.CrossEntropyLoss()\n",
    "    optimizer = optim.Adam(model.parameters(), lr=lr)\n",
    "\n",
    "    # Move model to GPU if available\n",
    "    device = torch.device(\"cuda\" if torch.cuda.is_available() else \"cpu\")\n",
    "    model.to(device)\n",
    "\n",
    "    # Training loop\n",
    "    for epoch in tqdm(range(num_epochs)):\n",
    "        model.train()\n",
    "        for x_batch, labels in dataloader:\n",
    "            x_batch = x_batch.unsqueeze(1).to(device)\n",
    "            labels = labels.to(device)\n",
    "            \n",
    "            optimizer.zero_grad()\n",
    "            outputs = model(x_batch)\n",
    "            loss = criterion(outputs, labels)\n",
    "            loss.backward()\n",
    "            optimizer.step()\n",
    "\n",
    "    # Evaluation\n",
    "    model.eval()\n",
    "    all_labels = []\n",
    "    all_predictions = []\n",
    "\n",
    "    with torch.no_grad():\n",
    "        for x_batch, labels in tqdm(dataloader_dev):\n",
    "            x_batch = x_batch.unsqueeze(1).to(device)\n",
    "            labels = labels.to(device)\n",
    "            \n",
    "            outputs = model(x_batch)\n",
    "            _, predicted = torch.max(outputs, 1)\n",
    "            \n",
    "            all_labels.extend(labels.cpu().numpy())\n",
    "            all_predictions.extend(predicted.cpu().numpy())\n",
    "\n",
    "    # Calculate metrics\n",
    "    precision = precision_score(all_labels, all_predictions, average='weighted')\n",
    "    recall = recall_score(all_labels, all_predictions, average='weighted')\n",
    "    f1 = f1_score(all_labels, all_predictions, average='weighted')\n",
    "\n",
    "    return f1  # We want to maximize F1 score\n",
    "\n",
    "# Create a study object and specify the direction is 'maximize' because we want to maximize the F1 score\n",
    "study = optuna.create_study(direction='maximize')\n",
    "\n",
    "# Optimize the objective function\n",
    "study.optimize(objective, n_trials=100)  # You can adjust the number of trials\n",
    "\n",
    "print('Number of finished trials:', len(study.trials))\n",
    "print('Best trial:')\n",
    "trial = study.best_trial\n",
    "\n",
    "print('Value: ', trial.value)\n",
    "print('Params: ')\n",
    "for key, value in trial.params.items():\n",
    "    print('    {}: {}'.format(key, value))\n",
    "\n",
    "# Train the final model with the best hyperparameters\n",
    "best_params = study.best_params\n",
    "final_model = create_model(optuna.trial.FixedTrial(best_params))\n",
    "final_optimizer = optim.Adam(final_model.parameters(), lr=best_params['lr'])\n",
    "\n",
    "# ... (여기에 최종 모델 훈련 및 평가 코드 추가)"
   ]
  },
  {
   "cell_type": "code",
   "execution_count": null,
   "id": "bd520847-bc59-4cac-abfb-ebf74b398eb9",
   "metadata": {},
   "outputs": [],
   "source": []
  }
 ],
 "metadata": {
  "kernelspec": {
   "display_name": "Python 3 (ipykernel)",
   "language": "python",
   "name": "python3"
  },
  "language_info": {
   "codemirror_mode": {
    "name": "ipython",
    "version": 3
   },
   "file_extension": ".py",
   "mimetype": "text/x-python",
   "name": "python",
   "nbconvert_exporter": "python",
   "pygments_lexer": "ipython3",
   "version": "3.12.3"
  }
 },
 "nbformat": 4,
 "nbformat_minor": 5
}
