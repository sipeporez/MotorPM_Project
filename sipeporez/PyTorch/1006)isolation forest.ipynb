{
 "cells": [
  {
   "cell_type": "code",
   "execution_count": 1,
   "id": "29bec4ef-7306-41f6-82e5-0284bd15f6c9",
   "metadata": {},
   "outputs": [],
   "source": [
    "import json\n",
    "import numpy as np\n",
    "import pandas as pd\n",
    "import matplotlib.pyplot as plt\n",
    "from sklearn.preprocessing import MinMaxScaler\n",
    "from sklearn.decomposition import PCA\n",
    "from sklearn.ensemble import IsolationForest\n",
    "\n",
    "import pandas as pd\n",
    "import numpy as np \n",
    "import matplotlib.pyplot as plt\n",
    "import seaborn as sns\n",
    "import torch\n",
    "import torch.nn as nn\n",
    "import os\n",
    "from itertools import chain\n",
    "import torch.optim as optim\n",
    "from torch.utils.data import DataLoader, TensorDataset\n",
    "# import transform_fns as trans\n",
    "import pdm_functions as fns\n",
    "import tensor_vstack as pfns\n",
    "from sklearn.metrics import precision_score, recall_score, f1_score, confusion_matrix\n",
    "from scipy.stats import gaussian_kde\n",
    "from sklearn.utils.class_weight import compute_class_weight\n",
    "\n",
    "import pickle\n",
    "from tqdm.notebook import tqdm\n"
   ]
  },
  {
   "cell_type": "code",
   "execution_count": 4,
   "id": "cce69f21-0a3a-4978-b9f6-a151fd44e5b1",
   "metadata": {},
   "outputs": [
    {
     "data": {
      "text/plain": [
       "(torch.Size([2600, 36, 2048]), torch.Size([2600]))"
      ]
     },
     "execution_count": 4,
     "metadata": {},
     "output_type": "execute_result"
    }
   ],
   "source": [
    "data_stacked = torch.load('data/spec_datasets.pt', weights_only=True)\n",
    "X_train = data_stacked['X_train'].view(2600, 36, 2048)\n",
    "y_train = data_stacked['y_train']\n",
    "X_train.shape, y_train.shape"
   ]
  },
  {
   "cell_type": "code",
   "execution_count": 6,
   "id": "7ea9cf00-80a1-47b8-83e4-a3b8f3f405f3",
   "metadata": {},
   "outputs": [
    {
     "data": {
      "text/plain": [
       "(torch.Size([370, 36, 2048]), torch.Size([370]))"
      ]
     },
     "execution_count": 6,
     "metadata": {},
     "output_type": "execute_result"
    }
   ],
   "source": [
    "X_test = data_stacked['X_test'].view(37, 36, 2048)\n",
    "y_test = data_stacked['y_test']\n",
    "X_test.shape, y_test.shape\n",
    "\n",
    "X_dev = data_stacked['X_dev'].view(370, 36, 2048)\n",
    "y_dev = data_stacked['y_dev']\n",
    "X_dev.shape, y_dev.shape"
   ]
  },
  {
   "cell_type": "code",
   "execution_count": null,
   "id": "99f1074a-f0fd-48cd-bfb9-c866619aacbf",
   "metadata": {},
   "outputs": [],
   "source": [
    "# df_expanded.drop(columns=['asset_id', 'created_at'],inplace=True)"
   ]
  },
  {
   "cell_type": "code",
   "execution_count": 9,
   "id": "b6df578c-125f-4e16-9283-0c8ef858f3a2",
   "metadata": {},
   "outputs": [],
   "source": [
    "results = []\n",
    "\n",
    "# 각 샘플에 대해 Isolation Forest 적용\n",
    "for i in range(X_train.size(0)):  # 2600개 샘플에 대해 반복\n",
    "    sample = X_train[i].view(36, 2048).numpy()  # (36, 2048) 형태로 변환\n",
    "    model = IsolationForest()\n",
    "    model.fit(sample)  # 모델 학습\n",
    "    preds = model.predict(sample)  # 이상치 예측\n",
    "    results.append(preds)  # 결과 저장"
   ]
  },
  {
   "cell_type": "code",
   "execution_count": null,
   "id": "b9da7418-5ed2-45bd-b1f6-b883e64f2b9f",
   "metadata": {},
   "outputs": [],
   "source": []
  },
  {
   "cell_type": "code",
   "execution_count": null,
   "id": "7197e644-e7e4-4e85-9a12-3c31c1454de0",
   "metadata": {},
   "outputs": [],
   "source": [
    "x_data_scaled, y_data_scaled, z_data_scaled"
   ]
  },
  {
   "cell_type": "code",
   "execution_count": null,
   "id": "50674dde-20fc-4ac8-bdc6-db55a14041b9",
   "metadata": {},
   "outputs": [],
   "source": [
    "data_stack"
   ]
  },
  {
   "cell_type": "code",
   "execution_count": 6,
   "id": "28031506-6679-4081-a47d-5ea77f1ce52e",
   "metadata": {},
   "outputs": [],
   "source": [
    "# 모델 초기화\n",
    "contamination = 0.001\n",
    "model = IsolationForest(contamination=contamination)  # contamination은 데이터에서 이상치 비율을 추정\n",
    "\n",
    "# Isolation Forest 모델 초기화 및 학습\n",
    "models = {\n",
    "    'x': IsolationForest(contamination=contamination),\n",
    "    'y': IsolationForest(contamination=contamination),\n",
    "    'z': IsolationForest(contamination=contamination),\n",
    "    'xy': IsolationForest(contamination=contamination),\n",
    "    'yz': IsolationForest(contamination=contamination),\n",
    "    'xz': IsolationForest(contamination=contamination),\n",
    "    'xyz': IsolationForest(contamination=contamination)\n",
    "}\n",
    "\n",
    "# 모델 학습\n",
    "models['x'].fit(x_data_scaled)\n",
    "models['y'].fit(y_data_scaled)\n",
    "models['z'].fit(z_data_scaled)\n",
    "models['xy'].fit(np.hstack([x_data_scaled, y_data_scaled]))\n",
    "models['yz'].fit(np.hstack([y_data_scaled, z_data_scaled]))\n",
    "models['xz'].fit(np.hstack([x_data_scaled, z_data_scaled]))\n",
    "models['xyz'].fit(np.hstack([x_data_scaled, y_data_scaled, z_data_scaled]))\n",
    "\n",
    "# 이상치 예측\n",
    "predictions = {\n",
    "    'x': models['x'].predict(x_data_scaled),\n",
    "    'y': models['y'].predict(y_data_scaled),\n",
    "    'z': models['z'].predict(z_data_scaled),\n",
    "    'xy': models['xy'].predict(np.hstack([x_data_scaled, y_data_scaled])),\n",
    "    'yz': models['yz'].predict(np.hstack([y_data_scaled, z_data_scaled])),\n",
    "    'xz': models['xz'].predict(np.hstack([x_data_scaled, z_data_scaled])),\n",
    "    'xyz': models['xyz'].predict(np.hstack([x_data_scaled, y_data_scaled, z_data_scaled]))\n",
    "}\n"
   ]
  },
  {
   "cell_type": "code",
   "execution_count": 8,
   "id": "5e957368-7282-4290-a483-a71635d3ff2a",
   "metadata": {},
   "outputs": [],
   "source": [
    "# 예측 결과 -1은 이상치, 1은 정상 데이터\n",
    "anomalies = {key: (pred == -1).astype(int) for key, pred in predictions.items()}"
   ]
  },
  {
   "cell_type": "code",
   "execution_count": null,
   "id": "16e2d46b-3240-48e5-9bdf-bd3ff34cc1d9",
   "metadata": {},
   "outputs": [
    {
     "name": "stderr",
     "output_type": "stream",
     "text": [
      "C:\\Users\\user\\AppData\\Local\\Temp\\ipykernel_10016\\3300803408.py:53: UserWarning: Creating legend with loc=\"best\" can be slow with large amounts of data.\n",
      "  plt.tight_layout()\n",
      "C:\\Users\\user\\anaconda3\\envs\\torch-gpu\\Lib\\site-packages\\IPython\\core\\pylabtools.py:170: UserWarning: Creating legend with loc=\"best\" can be slow with large amounts of data.\n",
      "  fig.canvas.print_figure(bytes_io, **kw)\n"
     ]
    }
   ],
   "source": [
    "# 플로팅 함수 정의\n",
    "def plot_1d(ax, data, anomalies, title, xlabel, ylabel):\n",
    "    ax.scatter(range(len(data)), data, c=anomalies, cmap='coolwarm', label='Anomaly', edgecolor='k')\n",
    "    ax.set_xlabel(xlabel)\n",
    "    ax.set_ylabel(ylabel)\n",
    "    ax.set_title(title)\n",
    "    ax.legend()\n",
    "\n",
    "def plot_2d(ax, x_data, y_data, anomalies, title, xlabel, ylabel):\n",
    "    scatter = ax.scatter(x_data, y_data, c=anomalies, cmap='coolwarm', label='Anomaly', edgecolor='k')\n",
    "    ax.set_xlabel(xlabel)\n",
    "    ax.set_ylabel(ylabel)\n",
    "    ax.set_title(title)\n",
    "    ax.legend()\n",
    "    plt.colorbar(scatter, ax=ax, label='Anomaly')\n",
    "\n",
    "def plot_3d(ax, x_data, y_data, z_data, anomalies):\n",
    "    scatter = ax.scatter3D(x_data, y_data, z_data, c=anomalies, cmap='coolwarm', label='Anomaly', edgecolor='k')\n",
    "    ax.set_xlabel('X Axis')\n",
    "    ax.set_ylabel('Y Axis')\n",
    "    ax.set_zlabel('Z Axis')\n",
    "    ax.set_title('XYZ Space')\n",
    "    ax.legend()\n",
    "    plt.colorbar(scatter, ax=ax, label='Anomaly')\n",
    "\n",
    "# 플롯 생성\n",
    "fig = plt.figure(figsize=(20, 15))\n",
    "\n",
    "# 1D 플롯\n",
    "ax = plt.subplot(2, 4, 1)\n",
    "plot_1d(ax, x_data_scaled, anomalies['x'], 'X Axis Data', 'Index', 'X Axis')\n",
    "\n",
    "ax = plt.subplot(2, 4, 2)\n",
    "plot_1d(ax, y_data_scaled, anomalies['y'], 'Y Axis Data', 'Index', 'Y Axis')\n",
    "\n",
    "ax = plt.subplot(2, 4, 3)\n",
    "plot_1d(ax, z_data_scaled, anomalies['z'], 'Z Axis Data', 'Index', 'Z Axis')\n",
    "\n",
    "# 2D 플롯\n",
    "ax = plt.subplot(2, 4, 4)\n",
    "plot_2d(ax, x_data_scaled, y_data_scaled, anomalies['xy'], 'XY Plane', 'X Axis', 'Y Axis')\n",
    "\n",
    "ax = plt.subplot(2, 4, 5)\n",
    "plot_2d(ax, y_data_scaled, z_data_scaled, anomalies['yz'], 'YZ Plane', 'Y Axis', 'Z Axis')\n",
    "\n",
    "ax = plt.subplot(2, 4, 6)\n",
    "plot_2d(ax, x_data_scaled, z_data_scaled, anomalies['xz'], 'XZ Plane', 'X Axis', 'Z Axis')\n",
    "\n",
    "# 3D 플롯\n",
    "ax = plt.subplot(2, 4, 7, projection='3d')\n",
    "plot_3d(ax, x_data_scaled, y_data_scaled, z_data_scaled, anomalies['xyz'])\n",
    "\n",
    "plt.tight_layout()\n",
    "plt.show()"
   ]
  },
  {
   "cell_type": "code",
   "execution_count": null,
   "id": "0caaadbe-c262-40da-ba4d-39ece2bd790f",
   "metadata": {},
   "outputs": [],
   "source": [
    "# 이상치 예측\n",
    "predictions = model.predict(data_stack)\n",
    "\n",
    "# 예측 결과 -1은 이상치, 1은 정상 데이터\n",
    "anomalies = (predictions == -1)"
   ]
  },
  {
   "cell_type": "code",
   "execution_count": null,
   "id": "7d6e32f3-2650-4c8c-a7c1-678554dc9726",
   "metadata": {},
   "outputs": [],
   "source": [
    "# 3D 플로팅\n",
    "fig = plt.figure(figsize=(10, 7))\n",
    "ax = fig.add_subplot(111, projection='3d')\n",
    "\n",
    "# 정상 데이터\n",
    "ax.scatter(x_data_scaled[~anomalies], y_data_scaled[~anomalies], z_data_scaled[~anomalies], c='blue', label='Normal')\n",
    "\n",
    "# 이상치\n",
    "ax.scatter(x_data_scaled[anomalies], y_data_scaled[anomalies], z_data_scaled[anomalies], c='red', label='Anomaly')\n",
    "\n",
    "# 레이블 및 타이틀 설정\n",
    "ax.set_xlabel('X Axis')\n",
    "ax.set_ylabel('Y Axis')\n",
    "ax.set_zlabel('Z Axis')\n",
    "ax.set_title('Isolation Forest Anomaly Detection')\n",
    "ax.legend()\n",
    "\n",
    "plt.show()"
   ]
  },
  {
   "cell_type": "code",
   "execution_count": null,
   "id": "308b37c7-1034-4b12-90da-02783455bd80",
   "metadata": {},
   "outputs": [],
   "source": []
  }
 ],
 "metadata": {
  "kernelspec": {
   "display_name": "Python 3 (ipykernel)",
   "language": "python",
   "name": "python3"
  },
  "language_info": {
   "codemirror_mode": {
    "name": "ipython",
    "version": 3
   },
   "file_extension": ".py",
   "mimetype": "text/x-python",
   "name": "python",
   "nbconvert_exporter": "python",
   "pygments_lexer": "ipython3",
   "version": "3.12.3"
  }
 },
 "nbformat": 4,
 "nbformat_minor": 5
}
