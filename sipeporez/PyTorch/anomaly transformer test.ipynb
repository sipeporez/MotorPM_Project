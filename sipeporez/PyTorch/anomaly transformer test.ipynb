{
 "cells": [
  {
   "cell_type": "code",
   "execution_count": 1,
   "id": "f8baa4d8-ad59-4edf-bb13-1a6f60cab7f2",
   "metadata": {},
   "outputs": [],
   "source": [
    "import pandas as pd\n",
    "import numpy as np\n",
    "from tqdm import tqdm \n",
    "import matplotlib.pyplot as plt\n",
    "\n",
    "from sklearn.preprocessing import MinMaxScaler\n",
    "import torch\n",
    "import torch.nn as nn\n",
    "import torch.optim as optim\n",
    "from torch.utils.data import DataLoader, TensorDataset\n",
    "from model.AnomalyTransformer import AnomalyTransformer # https://github.com/thuml/Anomaly-Transformer 모델 사용, forward 부분 수정\n",
    "\n",
    "# 1. 데이터 로드\n",
    "data = pd.read_csv('data/55285839-9b78-48d8-9f4e-573190ace016_data.csv')\n",
    "\n",
    "# 2. null값 처리\n",
    "data = data.dropna() \n",
    "\n",
    "# 데이터의 시간 정보를 사용하여 훈련 데이터와 테스트 데이터 나누기\n",
    "# created_at 유닉스 시간대 컬럼을 기준으로 시계열 정렬\n",
    "data['created_at'] = pd.to_datetime(data['created_at'], unit='s')\n",
    "data = data.sort_values(by='created_at')\n",
    "\n",
    "# 훈련 데이터와 테스트 데이터 분할\n",
    "split_index = int(len(data) * 0.8)\n",
    "train_data = data[:split_index]\n",
    "test_data = data[split_index:]"
   ]
  },
  {
   "cell_type": "code",
   "execution_count": 2,
   "id": "3fd7b755-5370-4cd6-b531-bc817fe17413",
   "metadata": {},
   "outputs": [
    {
     "data": {
      "text/plain": [
       "<bound method NDFrame.head of                                   asset_id          created_at  \\\n",
       "96    55285839-9b78-48d8-9f4e-573190ace016 2024-01-08 15:46:38   \n",
       "97    55285839-9b78-48d8-9f4e-573190ace016 2024-01-08 17:46:47   \n",
       "98    55285839-9b78-48d8-9f4e-573190ace016 2024-01-08 19:46:49   \n",
       "99    55285839-9b78-48d8-9f4e-573190ace016 2024-01-08 21:46:56   \n",
       "100   55285839-9b78-48d8-9f4e-573190ace016 2024-01-08 23:46:59   \n",
       "...                                    ...                 ...   \n",
       "2272  55285839-9b78-48d8-9f4e-573190ace016 2024-07-09 07:54:08   \n",
       "2273  55285839-9b78-48d8-9f4e-573190ace016 2024-07-09 09:54:11   \n",
       "2274  55285839-9b78-48d8-9f4e-573190ace016 2024-07-09 11:54:19   \n",
       "2275  55285839-9b78-48d8-9f4e-573190ace016 2024-07-09 13:54:22   \n",
       "2276  55285839-9b78-48d8-9f4e-573190ace016 2024-07-09 15:54:32   \n",
       "\n",
       "      created_at_datetime  temperature     rms_x     rms_y     rms_z  \\\n",
       "96    2024-01-09 00:46:38         19.0  0.016531  0.016529  0.018887   \n",
       "97    2024-01-09 02:46:47         18.0  0.163692  0.174287  0.089670   \n",
       "98    2024-01-09 04:46:49         17.0  0.012110  0.014587  0.018849   \n",
       "99    2024-01-09 06:46:56         15.0  0.011488  0.014432  0.019335   \n",
       "100   2024-01-09 08:46:59         15.0  0.180281  0.240878  0.147992   \n",
       "...                   ...          ...       ...       ...       ...   \n",
       "2272  2024-07-09 16:54:08         37.0  0.201071  0.234637  0.164133   \n",
       "2273  2024-07-09 18:54:11         36.0  0.023151  0.035859  0.020456   \n",
       "2274  2024-07-09 20:54:19         34.0  0.050298  0.061113  0.044295   \n",
       "2275  2024-07-09 22:54:22         35.0  0.041525  0.042150  0.025630   \n",
       "2276  2024-07-10 00:54:32         35.0  0.026882  0.032345  0.020220   \n",
       "\n",
       "       rms_xyz  vel_rms_x  vel_rms_y  ...  peak2peak_z  vel_peak2peak_x  \\\n",
       "96    0.030053   0.210037   0.265122  ...     0.134766          1.23124   \n",
       "97    0.255366   0.915874   0.629924  ...     0.662109          5.35879   \n",
       "98    0.026734   0.218258   0.254836  ...     0.158203          1.40382   \n",
       "99    0.026723   0.242690   0.308757  ...     0.152344          1.47314   \n",
       "100   0.335299   1.192250   1.706910  ...     1.037110          7.10324   \n",
       "...        ...        ...        ...  ...          ...              ...   \n",
       "2272  0.349891   0.733903   0.638215  ...     1.089840          4.63233   \n",
       "2273  0.047332   0.224651   0.262037  ...     0.158203          1.38202   \n",
       "2274  0.090701   0.389581   0.354292  ...     0.339844          2.41949   \n",
       "2275  0.064481   0.387944   0.352765  ...     0.181641          2.46355   \n",
       "2276  0.046666   0.279022   0.272845  ...     0.146484          1.70005   \n",
       "\n",
       "      vel_peak2peak_y  vel_peak2peak_z        time  imbalance_health  \\\n",
       "96            1.60734          1.74677  2024-01-10          0.924009   \n",
       "97            3.79517          3.78395  2024-01-10          0.924009   \n",
       "98            1.59792          1.93554  2024-01-10          0.924009   \n",
       "99            1.54721          2.01146  2024-01-10          0.924009   \n",
       "100          10.74430          3.95214  2024-01-10          0.924009   \n",
       "...               ...              ...         ...               ...   \n",
       "2272          4.38501          4.17259  2024-07-10          1.000000   \n",
       "2273          1.59270          3.18382  2024-07-10          1.000000   \n",
       "2274          2.14704          2.24764  2024-07-10          1.000000   \n",
       "2275          2.39332          2.19208  2024-07-10          1.000000   \n",
       "2276          1.64386          1.64062  2024-07-11          1.000000   \n",
       "\n",
       "      misalignment_health  looseness_health  bearing_health  asset_health  \n",
       "96                  0.975             0.975             1.0      0.738013  \n",
       "97                  0.975             0.975             1.0      0.738013  \n",
       "98                  0.975             0.975             1.0      0.738013  \n",
       "99                  0.975             0.975             1.0      0.738013  \n",
       "100                 0.975             0.975             1.0      0.738013  \n",
       "...                   ...               ...             ...           ...  \n",
       "2272                1.000             1.000             1.0      0.913607  \n",
       "2273                1.000             1.000             1.0      0.913607  \n",
       "2274                1.000             1.000             1.0      0.913607  \n",
       "2275                1.000             1.000             1.0      0.913607  \n",
       "2276                1.000             1.000             1.0      1.000000  \n",
       "\n",
       "[2012 rows x 48 columns]>"
      ]
     },
     "execution_count": 2,
     "metadata": {},
     "output_type": "execute_result"
    }
   ],
   "source": [
    "train_data.head"
   ]
  },
  {
   "cell_type": "code",
   "execution_count": 3,
   "id": "8e1e3d88-83f6-427d-8a23-4f5141dcfae7",
   "metadata": {},
   "outputs": [],
   "source": [
    "# 3. 필요한 특성 선택\n",
    "train_features = train_data.drop(columns=['asset_id', 'created_at', 'created_at_datetime', 'temperature', 'looseness_health', 'time','misalignment_health', 'asset_health', 'bearing_health', 'imbalance_health'])\n",
    "test_features = test_data.drop(columns=['asset_id', 'created_at', 'created_at_datetime', 'temperature', 'looseness_health', 'time','misalignment_health', 'asset_health', 'bearing_health', 'imbalance_health'])"
   ]
  },
  {
   "cell_type": "code",
   "execution_count": 4,
   "id": "07d3cf56-010d-4a37-bc57-a9673113c650",
   "metadata": {},
   "outputs": [
    {
     "data": {
      "text/plain": [
       "['rms_x',\n",
       " 'rms_y',\n",
       " 'rms_z',\n",
       " 'rms_xyz',\n",
       " 'vel_rms_x',\n",
       " 'vel_rms_y',\n",
       " 'vel_rms_z',\n",
       " 'vel_rms_xyz',\n",
       " 'skewness_x',\n",
       " 'skewness_y',\n",
       " 'skewness_z',\n",
       " 'vel_skewness_x',\n",
       " 'vel_skewness_y',\n",
       " 'vel_skewness_z',\n",
       " 'kurtosis_x',\n",
       " 'kurtosis_y',\n",
       " 'kurtosis_z',\n",
       " 'vel_kurtosis_x',\n",
       " 'vel_kurtosis_y',\n",
       " 'vel_kurtosis_z',\n",
       " 'crest_factor_x',\n",
       " 'crest_factor_y',\n",
       " 'crest_factor_z',\n",
       " 'vel_crest_factor_x',\n",
       " 'vel_crest_factor_y',\n",
       " 'vel_crest_factor_z',\n",
       " 'peak_x',\n",
       " 'peak_y',\n",
       " 'peak_z',\n",
       " 'vel_peak_x',\n",
       " 'vel_peak_y',\n",
       " 'vel_peak_z',\n",
       " 'peak2peak_x',\n",
       " 'peak2peak_y',\n",
       " 'peak2peak_z',\n",
       " 'vel_peak2peak_x',\n",
       " 'vel_peak2peak_y',\n",
       " 'vel_peak2peak_z']"
      ]
     },
     "execution_count": 4,
     "metadata": {},
     "output_type": "execute_result"
    }
   ],
   "source": [
    "train_features.columns.to_list()"
   ]
  },
  {
   "cell_type": "code",
   "execution_count": 5,
   "id": "8b480090-ba19-4bea-946f-01260c94e310",
   "metadata": {},
   "outputs": [
    {
     "data": {
      "text/plain": [
       "((2012, 38), (503, 38))"
      ]
     },
     "execution_count": 5,
     "metadata": {},
     "output_type": "execute_result"
    }
   ],
   "source": [
    "train_features.shape , test_features.shape"
   ]
  },
  {
   "cell_type": "code",
   "execution_count": 6,
   "id": "2f011200-2c21-4cf2-a471-1226b80e8c29",
   "metadata": {},
   "outputs": [],
   "source": [
    "# 슬라이딩 윈도우 생성 시 12칸씩 슬라이딩 하려면 사용할 것\n",
    "# train_features = train_features[:2004]\n",
    "# test_features = test_features[:492]"
   ]
  },
  {
   "cell_type": "code",
   "execution_count": 7,
   "id": "985524d9-a256-420c-8fdc-72e4e2099952",
   "metadata": {},
   "outputs": [],
   "source": [
    "# 4. 정규화\n",
    "scaler = MinMaxScaler()\n",
    "train_features_scaled = scaler.fit_transform(train_features)\n",
    "test_features_scaled = scaler.transform(test_features) # 테스트 데이터는 fit하면 안됨\n",
    "\n",
    "# 5. 슬라이딩 윈도우 생성\n",
    "window_size = 12 # 2시간 단위를 하루 단위의 status 지표에 맞추기 위해 12 사용\n",
    "def create_windows(data, window_size):\n",
    "    return [data[i:i+window_size] for i in range(len(data) - window_size + 1)] # 1칸씩 슬라이딩 (123, 234, 345 ...)\n",
    "    # return [data[i:i + window_size] for i in range(0, len(data), window_size)] # window_size 만큼 구분지어 슬라이딩 (123, 456, 789 ...)\n",
    "\n",
    "train_windows = create_windows(train_features_scaled, window_size)\n",
    "test_windows = create_windows(test_features_scaled, window_size)\n",
    "\n",
    "# 6. PyTorch 텐서로 변환\n",
    "train_windows_tensor = torch.tensor(np.array(train_windows), dtype=torch.float32)\n",
    "test_windows_tensor = torch.tensor(np.array(test_windows), dtype=torch.float32)"
   ]
  },
  {
   "cell_type": "code",
   "execution_count": 8,
   "id": "d2f92b41-6a2d-4687-bba3-0296eb158fd4",
   "metadata": {},
   "outputs": [
    {
     "name": "stderr",
     "output_type": "stream",
     "text": [
      "  0%|                                                                                           | 0/20 [00:00<?, ?it/s]C:\\Users\\user\\anaconda3\\envs\\torch-gpu\\Lib\\site-packages\\torch\\nn\\modules\\loss.py:538: UserWarning: Using a target size (torch.Size([12, 12, 38])) that is different to the input size (torch.Size([12, 12, 1])). This will likely lead to incorrect results due to broadcasting. Please ensure they have the same size.\n",
      "  return F.mse_loss(input, target, reduction=self.reduction)\n",
      "C:\\Users\\user\\anaconda3\\envs\\torch-gpu\\Lib\\site-packages\\torch\\nn\\modules\\loss.py:538: UserWarning: Using a target size (torch.Size([9, 12, 38])) that is different to the input size (torch.Size([9, 12, 1])). This will likely lead to incorrect results due to broadcasting. Please ensure they have the same size.\n",
      "  return F.mse_loss(input, target, reduction=self.reduction)\n",
      "  5%|████▏                                                                              | 1/20 [00:02<00:44,  2.35s/it]"
     ]
    },
    {
     "name": "stdout",
     "output_type": "stream",
     "text": [
      "Epoch 1/20, Loss: 0.08468193641144359\n"
     ]
    },
    {
     "name": "stderr",
     "output_type": "stream",
     "text": [
      " 10%|████████▎                                                                          | 2/20 [00:04<00:37,  2.08s/it]"
     ]
    },
    {
     "name": "stdout",
     "output_type": "stream",
     "text": [
      "Epoch 2/20, Loss: 0.0839633835914606\n"
     ]
    },
    {
     "name": "stderr",
     "output_type": "stream",
     "text": [
      " 15%|████████████▍                                                                      | 3/20 [00:06<00:34,  2.00s/it]"
     ]
    },
    {
     "name": "stdout",
     "output_type": "stream",
     "text": [
      "Epoch 3/20, Loss: 0.07167842364061379\n"
     ]
    },
    {
     "name": "stderr",
     "output_type": "stream",
     "text": [
      " 20%|████████████████▌                                                                  | 4/20 [00:08<00:31,  1.97s/it]"
     ]
    },
    {
     "name": "stdout",
     "output_type": "stream",
     "text": [
      "Epoch 4/20, Loss: 0.05121742108624852\n"
     ]
    },
    {
     "name": "stderr",
     "output_type": "stream",
     "text": [
      " 25%|████████████████████▊                                                              | 5/20 [00:09<00:29,  1.94s/it]"
     ]
    },
    {
     "name": "stdout",
     "output_type": "stream",
     "text": [
      "Epoch 5/20, Loss: 0.05127860817634417\n"
     ]
    },
    {
     "name": "stderr",
     "output_type": "stream",
     "text": [
      " 30%|████████████████████████▉                                                          | 6/20 [00:11<00:26,  1.92s/it]"
     ]
    },
    {
     "name": "stdout",
     "output_type": "stream",
     "text": [
      "Epoch 6/20, Loss: 0.05124128859735535\n"
     ]
    },
    {
     "name": "stderr",
     "output_type": "stream",
     "text": [
      " 35%|█████████████████████████████                                                      | 7/20 [00:13<00:24,  1.92s/it]"
     ]
    },
    {
     "name": "stdout",
     "output_type": "stream",
     "text": [
      "Epoch 7/20, Loss: 0.05126388060921681\n"
     ]
    },
    {
     "name": "stderr",
     "output_type": "stream",
     "text": [
      " 40%|█████████████████████████████████▏                                                 | 8/20 [00:15<00:23,  1.92s/it]"
     ]
    },
    {
     "name": "stdout",
     "output_type": "stream",
     "text": [
      "Epoch 8/20, Loss: 0.05128441019329482\n"
     ]
    },
    {
     "name": "stderr",
     "output_type": "stream",
     "text": [
      " 45%|█████████████████████████████████████▎                                             | 9/20 [00:17<00:21,  1.91s/it]"
     ]
    },
    {
     "name": "stdout",
     "output_type": "stream",
     "text": [
      "Epoch 9/20, Loss: 0.05121383925308724\n"
     ]
    },
    {
     "name": "stderr",
     "output_type": "stream",
     "text": [
      " 50%|█████████████████████████████████████████                                         | 10/20 [00:19<00:18,  1.90s/it]"
     ]
    },
    {
     "name": "stdout",
     "output_type": "stream",
     "text": [
      "Epoch 10/20, Loss: 0.05123655477951387\n"
     ]
    },
    {
     "name": "stderr",
     "output_type": "stream",
     "text": [
      " 55%|█████████████████████████████████████████████                                     | 11/20 [00:21<00:17,  1.90s/it]"
     ]
    },
    {
     "name": "stdout",
     "output_type": "stream",
     "text": [
      "Epoch 11/20, Loss: 0.05118810151240783\n"
     ]
    },
    {
     "name": "stderr",
     "output_type": "stream",
     "text": [
      " 60%|█████████████████████████████████████████████████▏                                | 12/20 [00:23<00:15,  1.90s/it]"
     ]
    },
    {
     "name": "stdout",
     "output_type": "stream",
     "text": [
      "Epoch 12/20, Loss: 0.051191954109483136\n"
     ]
    },
    {
     "name": "stderr",
     "output_type": "stream",
     "text": [
      " 65%|█████████████████████████████████████████████████████▎                            | 13/20 [00:25<00:13,  1.90s/it]"
     ]
    },
    {
     "name": "stdout",
     "output_type": "stream",
     "text": [
      "Epoch 13/20, Loss: 0.05122220895426002\n"
     ]
    },
    {
     "name": "stderr",
     "output_type": "stream",
     "text": [
      " 70%|█████████████████████████████████████████████████████████▍                        | 14/20 [00:27<00:11,  1.90s/it]"
     ]
    },
    {
     "name": "stdout",
     "output_type": "stream",
     "text": [
      "Epoch 14/20, Loss: 0.051223523401750064\n"
     ]
    },
    {
     "name": "stderr",
     "output_type": "stream",
     "text": [
      " 75%|█████████████████████████████████████████████████████████████▌                    | 15/20 [00:28<00:09,  1.89s/it]"
     ]
    },
    {
     "name": "stdout",
     "output_type": "stream",
     "text": [
      "Epoch 15/20, Loss: 0.051190175651433224\n"
     ]
    },
    {
     "name": "stderr",
     "output_type": "stream",
     "text": [
      " 80%|█████████████████████████████████████████████████████████████████▌                | 16/20 [00:30<00:07,  1.89s/it]"
     ]
    },
    {
     "name": "stdout",
     "output_type": "stream",
     "text": [
      "Epoch 16/20, Loss: 0.05122279404790815\n"
     ]
    },
    {
     "name": "stderr",
     "output_type": "stream",
     "text": [
      " 85%|█████████████████████████████████████████████████████████████████████▋            | 17/20 [00:32<00:05,  1.90s/it]"
     ]
    },
    {
     "name": "stdout",
     "output_type": "stream",
     "text": [
      "Epoch 17/20, Loss: 0.051202111481549496\n"
     ]
    },
    {
     "name": "stderr",
     "output_type": "stream",
     "text": [
      " 90%|█████████████████████████████████████████████████████████████████████████▊        | 18/20 [00:34<00:03,  1.91s/it]"
     ]
    },
    {
     "name": "stdout",
     "output_type": "stream",
     "text": [
      "Epoch 18/20, Loss: 0.05116686961072647\n"
     ]
    },
    {
     "name": "stderr",
     "output_type": "stream",
     "text": [
      " 95%|█████████████████████████████████████████████████████████████████████████████▉    | 19/20 [00:36<00:01,  1.93s/it]"
     ]
    },
    {
     "name": "stdout",
     "output_type": "stream",
     "text": [
      "Epoch 19/20, Loss: 0.05116525622542033\n"
     ]
    },
    {
     "name": "stderr",
     "output_type": "stream",
     "text": [
      "100%|██████████████████████████████████████████████████████████████████████████████████| 20/20 [00:38<00:00,  1.93s/it]"
     ]
    },
    {
     "name": "stdout",
     "output_type": "stream",
     "text": [
      "Epoch 20/20, Loss: 0.051197760431709406\n"
     ]
    },
    {
     "name": "stderr",
     "output_type": "stream",
     "text": [
      "\n"
     ]
    }
   ],
   "source": [
    "# 7. 데이터셋 및 데이터로더 생성\n",
    "train_dataset = TensorDataset(train_windows_tensor)\n",
    "test_dataset = TensorDataset(test_windows_tensor)\n",
    "\n",
    "train_dataloader = DataLoader(train_dataset, batch_size=12, shuffle=True)\n",
    "test_dataloader = DataLoader(test_dataset, batch_size=12, shuffle=False)\n",
    "\n",
    "# 8. 모델 정의\n",
    "model = AnomalyTransformer(win_size=window_size,  # 슬라이딩 윈도우 크기\n",
    "                           enc_in=train_features.shape[1],  # 입력 특성 수\n",
    "                           c_out=1,  # 출력 특성 수\n",
    "                          d_model=512)  \n",
    "# 가능한 경우 cuda 사용\n",
    "device = 'cuda' if torch.cuda.is_available() else 'cpu'\n",
    "model = model.to(device)\n",
    "\n",
    "# 9. 손실 함수 / 옵티마이저 설정\n",
    "criterion = nn.MSELoss()\n",
    "optimizer = optim.Adam(model.parameters(), lr=0.001)\n",
    "\n",
    "# 10. 모델 학습\n",
    "num_epochs = 20\n",
    "\n",
    "for epoch in tqdm(range(num_epochs)):\n",
    "    model.train()\n",
    "    epoch_loss = 0\n",
    "    for batch in train_dataloader:\n",
    "        inputs = batch[0].to(device)\n",
    "        \n",
    "        # 순전파\n",
    "        outputs = model(inputs)\n",
    "        \n",
    "        # 손실 함수 적용\n",
    "        loss = criterion(outputs, inputs)\n",
    "        \n",
    "        # 역전파\n",
    "        optimizer.zero_grad()\n",
    "        loss.backward()\n",
    "        optimizer.step()\n",
    "        \n",
    "        epoch_loss += loss.item()\n",
    "\n",
    "    print(f'Epoch {epoch + 1}/{num_epochs}, Loss: {epoch_loss / len(train_dataloader)}')"
   ]
  },
  {
   "cell_type": "code",
   "execution_count": 9,
   "id": "aaae2d1b-7399-4c84-9878-1b85f3ed6c5a",
   "metadata": {},
   "outputs": [],
   "source": [
    "# 11. 모델 평가 (스코어링)\n",
    "model.eval()\n",
    "anomaly_scores = []\n",
    "\n",
    "with torch.no_grad():\n",
    "    for batch in test_dataloader:\n",
    "        inputs = batch[0].to(device)\n",
    "        outputs = model(inputs)\n",
    "        \n",
    "        # 재구성 오차로 이상점수 계산\n",
    "        batch_scores = torch.mean((outputs - inputs) ** 2, dim=(1, 2)).cpu().numpy()\n",
    "        anomaly_scores.extend(batch_scores)"
   ]
  },
  {
   "cell_type": "code",
   "execution_count": 10,
   "id": "efbc11bc-d3fa-4656-bee0-cbca42968b2b",
   "metadata": {},
   "outputs": [
    {
     "name": "stdout",
     "output_type": "stream",
     "text": [
      "평균 스코어: 0.048816\n",
      "표준편차: 0.008605\n",
      "임계값: 0.074631\n",
      "이상 점수 인덱스: [ 30  31  32 184 185 186 187 188 189 190]\n"
     ]
    }
   ],
   "source": [
    "# 12. 임계값 계산\n",
    "mean_score = np.mean(anomaly_scores)\n",
    "std_score = np.std(anomaly_scores)\n",
    "\n",
    "print(f'평균 스코어: {mean_score:.6f}')\n",
    "print(f'표준편차: {std_score:.6f}')\n",
    "\n",
    "# 임계값 설정 (평균 + 임의값 * 표준편차)\n",
    "threshold = mean_score + 3 * std_score\n",
    "print(f'임계값: {threshold:.6f}')\n",
    "\n",
    "# 이상 점수 판별\n",
    "anomalies = anomaly_scores > threshold\n",
    "print(f'이상 점수 인덱스: {np.where(anomalies)[0]}')"
   ]
  },
  {
   "cell_type": "code",
   "execution_count": 11,
   "id": "7f07eef5-e237-4594-a325-c404a4c06193",
   "metadata": {},
   "outputs": [
    {
     "data": {
      "image/png": "[encoded data removed]",
      "text/plain": [
       "<Figure size 1000x500 with 1 Axes>"
      ]
     },
     "metadata": {},
     "output_type": "display_data"
    }
   ],
   "source": [
    "# 13. 인덱스 및 이상 점수 시각화\n",
    "anomaly_indices = np.where(anomalies)[0]\n",
    "\n",
    "plt.figure(figsize=(10, 5))\n",
    "plt.plot(anomaly_scores, label='Anomaly Scores', marker='o')\n",
    "plt.axhline(y=threshold, color='r', linestyle='--', label='Threshold')\n",
    "plt.xlabel('Index')\n",
    "plt.ylabel('Score')\n",
    "plt.title('Anomaly Scores and Threshold')\n",
    "plt.legend()\n",
    "plt.show()"
   ]
  },
  {
   "cell_type": "code",
   "execution_count": 12,
   "id": "2a08d8d0-e0a2-4599-9596-6ffe42a0a8be",
   "metadata": {},
   "outputs": [
    {
     "data": {
      "text/html": [
       "<div>\n",
       "<style scoped>\n",
       "    .dataframe tbody tr th:only-of-type {\n",
       "        vertical-align: middle;\n",
       "    }\n",
       "\n",
       "    .dataframe tbody tr th {\n",
       "        vertical-align: top;\n",
       "    }\n",
       "\n",
       "    .dataframe thead th {\n",
       "        text-align: right;\n",
       "    }\n",
       "</style>\n",
       "<table border=\"1\" class=\"dataframe\">\n",
       "  <thead>\n",
       "    <tr style=\"text-align: right;\">\n",
       "      <th></th>\n",
       "      <th>asset_id</th>\n",
       "      <th>created_at</th>\n",
       "      <th>created_at_datetime</th>\n",
       "      <th>temperature</th>\n",
       "      <th>rms_x</th>\n",
       "      <th>rms_y</th>\n",
       "      <th>rms_z</th>\n",
       "      <th>rms_xyz</th>\n",
       "      <th>vel_rms_x</th>\n",
       "      <th>vel_rms_y</th>\n",
       "      <th>...</th>\n",
       "      <th>peak2peak_z</th>\n",
       "      <th>vel_peak2peak_x</th>\n",
       "      <th>vel_peak2peak_y</th>\n",
       "      <th>vel_peak2peak_z</th>\n",
       "      <th>time</th>\n",
       "      <th>imbalance_health</th>\n",
       "      <th>misalignment_health</th>\n",
       "      <th>looseness_health</th>\n",
       "      <th>bearing_health</th>\n",
       "      <th>asset_health</th>\n",
       "    </tr>\n",
       "  </thead>\n",
       "  <tbody>\n",
       "    <tr>\n",
       "      <th>30</th>\n",
       "      <td>55285839-9b78-48d8-9f4e-573190ace016</td>\n",
       "      <td>2024-07-12 05:57:30</td>\n",
       "      <td>2024-07-12 14:57:30</td>\n",
       "      <td>37.0</td>\n",
       "      <td>0.026963</td>\n",
       "      <td>0.041459</td>\n",
       "      <td>0.023355</td>\n",
       "      <td>0.054693</td>\n",
       "      <td>0.325081</td>\n",
       "      <td>0.344445</td>\n",
       "      <td>...</td>\n",
       "      <td>0.169922</td>\n",
       "      <td>1.89939</td>\n",
       "      <td>2.23354</td>\n",
       "      <td>1.90950</td>\n",
       "      <td>2024-07-13</td>\n",
       "      <td>0.967173</td>\n",
       "      <td>0.989058</td>\n",
       "      <td>0.989058</td>\n",
       "      <td>1.0</td>\n",
       "      <td>0.827017</td>\n",
       "    </tr>\n",
       "    <tr>\n",
       "      <th>31</th>\n",
       "      <td>55285839-9b78-48d8-9f4e-573190ace016</td>\n",
       "      <td>2024-07-12 07:57:40</td>\n",
       "      <td>2024-07-12 16:57:40</td>\n",
       "      <td>39.0</td>\n",
       "      <td>0.200157</td>\n",
       "      <td>0.241790</td>\n",
       "      <td>0.134091</td>\n",
       "      <td>0.341329</td>\n",
       "      <td>0.968169</td>\n",
       "      <td>0.671372</td>\n",
       "      <td>...</td>\n",
       "      <td>0.908203</td>\n",
       "      <td>6.33588</td>\n",
       "      <td>4.56041</td>\n",
       "      <td>4.29447</td>\n",
       "      <td>2024-07-13</td>\n",
       "      <td>0.967173</td>\n",
       "      <td>0.989058</td>\n",
       "      <td>0.989058</td>\n",
       "      <td>1.0</td>\n",
       "      <td>0.827017</td>\n",
       "    </tr>\n",
       "    <tr>\n",
       "      <th>32</th>\n",
       "      <td>55285839-9b78-48d8-9f4e-573190ace016</td>\n",
       "      <td>2024-07-12 09:57:43</td>\n",
       "      <td>2024-07-12 18:57:43</td>\n",
       "      <td>37.0</td>\n",
       "      <td>0.179947</td>\n",
       "      <td>0.265126</td>\n",
       "      <td>0.153167</td>\n",
       "      <td>0.355152</td>\n",
       "      <td>1.620020</td>\n",
       "      <td>1.791370</td>\n",
       "      <td>...</td>\n",
       "      <td>1.183590</td>\n",
       "      <td>8.89566</td>\n",
       "      <td>10.83350</td>\n",
       "      <td>4.24513</td>\n",
       "      <td>2024-07-13</td>\n",
       "      <td>0.967173</td>\n",
       "      <td>0.989058</td>\n",
       "      <td>0.989058</td>\n",
       "      <td>1.0</td>\n",
       "      <td>0.827017</td>\n",
       "    </tr>\n",
       "    <tr>\n",
       "      <th>184</th>\n",
       "      <td>55285839-9b78-48d8-9f4e-573190ace016</td>\n",
       "      <td>2024-07-26 02:14:20</td>\n",
       "      <td>2024-07-26 11:14:20</td>\n",
       "      <td>33.0</td>\n",
       "      <td>0.014145</td>\n",
       "      <td>0.015989</td>\n",
       "      <td>0.019433</td>\n",
       "      <td>0.028868</td>\n",
       "      <td>0.243153</td>\n",
       "      <td>0.257689</td>\n",
       "      <td>...</td>\n",
       "      <td>0.164062</td>\n",
       "      <td>1.50152</td>\n",
       "      <td>1.37475</td>\n",
       "      <td>2.08022</td>\n",
       "      <td>2024-07-27</td>\n",
       "      <td>1.000000</td>\n",
       "      <td>1.000000</td>\n",
       "      <td>1.000000</td>\n",
       "      <td>1.0</td>\n",
       "      <td>0.912593</td>\n",
       "    </tr>\n",
       "    <tr>\n",
       "      <th>185</th>\n",
       "      <td>55285839-9b78-48d8-9f4e-573190ace016</td>\n",
       "      <td>2024-07-26 04:14:28</td>\n",
       "      <td>2024-07-26 13:14:28</td>\n",
       "      <td>34.0</td>\n",
       "      <td>0.014190</td>\n",
       "      <td>0.015333</td>\n",
       "      <td>0.019587</td>\n",
       "      <td>0.028638</td>\n",
       "      <td>0.270457</td>\n",
       "      <td>0.279363</td>\n",
       "      <td>...</td>\n",
       "      <td>0.152344</td>\n",
       "      <td>1.31708</td>\n",
       "      <td>1.51071</td>\n",
       "      <td>2.05717</td>\n",
       "      <td>2024-07-27</td>\n",
       "      <td>1.000000</td>\n",
       "      <td>1.000000</td>\n",
       "      <td>1.000000</td>\n",
       "      <td>1.0</td>\n",
       "      <td>0.912593</td>\n",
       "    </tr>\n",
       "    <tr>\n",
       "      <th>186</th>\n",
       "      <td>55285839-9b78-48d8-9f4e-573190ace016</td>\n",
       "      <td>2024-07-26 06:14:31</td>\n",
       "      <td>2024-07-26 15:14:31</td>\n",
       "      <td>34.0</td>\n",
       "      <td>0.013749</td>\n",
       "      <td>0.015737</td>\n",
       "      <td>0.019672</td>\n",
       "      <td>0.028699</td>\n",
       "      <td>0.304613</td>\n",
       "      <td>0.262920</td>\n",
       "      <td>...</td>\n",
       "      <td>0.175781</td>\n",
       "      <td>1.68065</td>\n",
       "      <td>1.57927</td>\n",
       "      <td>1.67304</td>\n",
       "      <td>2024-07-27</td>\n",
       "      <td>1.000000</td>\n",
       "      <td>1.000000</td>\n",
       "      <td>1.000000</td>\n",
       "      <td>1.0</td>\n",
       "      <td>0.912593</td>\n",
       "    </tr>\n",
       "    <tr>\n",
       "      <th>187</th>\n",
       "      <td>55285839-9b78-48d8-9f4e-573190ace016</td>\n",
       "      <td>2024-07-26 08:14:42</td>\n",
       "      <td>2024-07-26 17:14:42</td>\n",
       "      <td>35.0</td>\n",
       "      <td>0.189858</td>\n",
       "      <td>0.253096</td>\n",
       "      <td>0.152285</td>\n",
       "      <td>0.351133</td>\n",
       "      <td>0.943932</td>\n",
       "      <td>0.723808</td>\n",
       "      <td>...</td>\n",
       "      <td>1.019530</td>\n",
       "      <td>6.58369</td>\n",
       "      <td>4.68986</td>\n",
       "      <td>3.82810</td>\n",
       "      <td>2024-07-27</td>\n",
       "      <td>1.000000</td>\n",
       "      <td>1.000000</td>\n",
       "      <td>1.000000</td>\n",
       "      <td>1.0</td>\n",
       "      <td>0.912593</td>\n",
       "    </tr>\n",
       "    <tr>\n",
       "      <th>188</th>\n",
       "      <td>55285839-9b78-48d8-9f4e-573190ace016</td>\n",
       "      <td>2024-07-26 10:14:45</td>\n",
       "      <td>2024-07-26 19:14:45</td>\n",
       "      <td>38.0</td>\n",
       "      <td>0.019100</td>\n",
       "      <td>0.028458</td>\n",
       "      <td>0.020582</td>\n",
       "      <td>0.039979</td>\n",
       "      <td>0.285049</td>\n",
       "      <td>0.303973</td>\n",
       "      <td>...</td>\n",
       "      <td>0.164062</td>\n",
       "      <td>1.64764</td>\n",
       "      <td>1.59573</td>\n",
       "      <td>2.41757</td>\n",
       "      <td>2024-07-27</td>\n",
       "      <td>1.000000</td>\n",
       "      <td>1.000000</td>\n",
       "      <td>1.000000</td>\n",
       "      <td>1.0</td>\n",
       "      <td>0.912593</td>\n",
       "    </tr>\n",
       "    <tr>\n",
       "      <th>189</th>\n",
       "      <td>55285839-9b78-48d8-9f4e-573190ace016</td>\n",
       "      <td>2024-07-26 12:14:55</td>\n",
       "      <td>2024-07-26 21:14:55</td>\n",
       "      <td>36.0</td>\n",
       "      <td>0.206816</td>\n",
       "      <td>0.257266</td>\n",
       "      <td>0.149230</td>\n",
       "      <td>0.362255</td>\n",
       "      <td>2.373380</td>\n",
       "      <td>0.848335</td>\n",
       "      <td>...</td>\n",
       "      <td>0.943359</td>\n",
       "      <td>13.04120</td>\n",
       "      <td>6.20114</td>\n",
       "      <td>5.85750</td>\n",
       "      <td>2024-07-27</td>\n",
       "      <td>1.000000</td>\n",
       "      <td>1.000000</td>\n",
       "      <td>1.000000</td>\n",
       "      <td>1.0</td>\n",
       "      <td>0.912593</td>\n",
       "    </tr>\n",
       "    <tr>\n",
       "      <th>190</th>\n",
       "      <td>55285839-9b78-48d8-9f4e-573190ace016</td>\n",
       "      <td>2024-07-26 14:14:58</td>\n",
       "      <td>2024-07-26 23:14:58</td>\n",
       "      <td>36.0</td>\n",
       "      <td>0.204030</td>\n",
       "      <td>0.304754</td>\n",
       "      <td>0.164394</td>\n",
       "      <td>0.401907</td>\n",
       "      <td>3.620350</td>\n",
       "      <td>1.853990</td>\n",
       "      <td>...</td>\n",
       "      <td>1.248050</td>\n",
       "      <td>17.81370</td>\n",
       "      <td>10.12280</td>\n",
       "      <td>9.00527</td>\n",
       "      <td>2024-07-27</td>\n",
       "      <td>1.000000</td>\n",
       "      <td>1.000000</td>\n",
       "      <td>1.000000</td>\n",
       "      <td>1.0</td>\n",
       "      <td>0.912593</td>\n",
       "    </tr>\n",
       "  </tbody>\n",
       "</table>\n",
       "<p>10 rows × 48 columns</p>\n",
       "</div>"
      ],
      "text/plain": [
       "                                 asset_id          created_at  \\\n",
       "30   55285839-9b78-48d8-9f4e-573190ace016 2024-07-12 05:57:30   \n",
       "31   55285839-9b78-48d8-9f4e-573190ace016 2024-07-12 07:57:40   \n",
       "32   55285839-9b78-48d8-9f4e-573190ace016 2024-07-12 09:57:43   \n",
       "184  55285839-9b78-48d8-9f4e-573190ace016 2024-07-26 02:14:20   \n",
       "185  55285839-9b78-48d8-9f4e-573190ace016 2024-07-26 04:14:28   \n",
       "186  55285839-9b78-48d8-9f4e-573190ace016 2024-07-26 06:14:31   \n",
       "187  55285839-9b78-48d8-9f4e-573190ace016 2024-07-26 08:14:42   \n",
       "188  55285839-9b78-48d8-9f4e-573190ace016 2024-07-26 10:14:45   \n",
       "189  55285839-9b78-48d8-9f4e-573190ace016 2024-07-26 12:14:55   \n",
       "190  55285839-9b78-48d8-9f4e-573190ace016 2024-07-26 14:14:58   \n",
       "\n",
       "     created_at_datetime  temperature     rms_x     rms_y     rms_z   rms_xyz  \\\n",
       "30   2024-07-12 14:57:30         37.0  0.026963  0.041459  0.023355  0.054693   \n",
       "31   2024-07-12 16:57:40         39.0  0.200157  0.241790  0.134091  0.341329   \n",
       "32   2024-07-12 18:57:43         37.0  0.179947  0.265126  0.153167  0.355152   \n",
       "184  2024-07-26 11:14:20         33.0  0.014145  0.015989  0.019433  0.028868   \n",
       "185  2024-07-26 13:14:28         34.0  0.014190  0.015333  0.019587  0.028638   \n",
       "186  2024-07-26 15:14:31         34.0  0.013749  0.015737  0.019672  0.028699   \n",
       "187  2024-07-26 17:14:42         35.0  0.189858  0.253096  0.152285  0.351133   \n",
       "188  2024-07-26 19:14:45         38.0  0.019100  0.028458  0.020582  0.039979   \n",
       "189  2024-07-26 21:14:55         36.0  0.206816  0.257266  0.149230  0.362255   \n",
       "190  2024-07-26 23:14:58         36.0  0.204030  0.304754  0.164394  0.401907   \n",
       "\n",
       "     vel_rms_x  vel_rms_y  ...  peak2peak_z  vel_peak2peak_x  vel_peak2peak_y  \\\n",
       "30    0.325081   0.344445  ...     0.169922          1.89939          2.23354   \n",
       "31    0.968169   0.671372  ...     0.908203          6.33588          4.56041   \n",
       "32    1.620020   1.791370  ...     1.183590          8.89566         10.83350   \n",
       "184   0.243153   0.257689  ...     0.164062          1.50152          1.37475   \n",
       "185   0.270457   0.279363  ...     0.152344          1.31708          1.51071   \n",
       "186   0.304613   0.262920  ...     0.175781          1.68065          1.57927   \n",
       "187   0.943932   0.723808  ...     1.019530          6.58369          4.68986   \n",
       "188   0.285049   0.303973  ...     0.164062          1.64764          1.59573   \n",
       "189   2.373380   0.848335  ...     0.943359         13.04120          6.20114   \n",
       "190   3.620350   1.853990  ...     1.248050         17.81370         10.12280   \n",
       "\n",
       "     vel_peak2peak_z        time  imbalance_health  misalignment_health  \\\n",
       "30           1.90950  2024-07-13          0.967173             0.989058   \n",
       "31           4.29447  2024-07-13          0.967173             0.989058   \n",
       "32           4.24513  2024-07-13          0.967173             0.989058   \n",
       "184          2.08022  2024-07-27          1.000000             1.000000   \n",
       "185          2.05717  2024-07-27          1.000000             1.000000   \n",
       "186          1.67304  2024-07-27          1.000000             1.000000   \n",
       "187          3.82810  2024-07-27          1.000000             1.000000   \n",
       "188          2.41757  2024-07-27          1.000000             1.000000   \n",
       "189          5.85750  2024-07-27          1.000000             1.000000   \n",
       "190          9.00527  2024-07-27          1.000000             1.000000   \n",
       "\n",
       "     looseness_health  bearing_health  asset_health  \n",
       "30           0.989058             1.0      0.827017  \n",
       "31           0.989058             1.0      0.827017  \n",
       "32           0.989058             1.0      0.827017  \n",
       "184          1.000000             1.0      0.912593  \n",
       "185          1.000000             1.0      0.912593  \n",
       "186          1.000000             1.0      0.912593  \n",
       "187          1.000000             1.0      0.912593  \n",
       "188          1.000000             1.0      0.912593  \n",
       "189          1.000000             1.0      0.912593  \n",
       "190          1.000000             1.0      0.912593  \n",
       "\n",
       "[10 rows x 48 columns]"
      ]
     },
     "execution_count": 12,
     "metadata": {},
     "output_type": "execute_result"
    }
   ],
   "source": [
    "# 이상탐지된 인덱스 비교용\n",
    "test_data_result=test_data.reset_index(drop=True)\n",
    "indices = np.where(anomalies)[0].tolist()\n",
    "test_data_result.loc[indices]"
   ]
  },
  {
   "cell_type": "code",
   "execution_count": null,
   "id": "66a2cff9-c375-46b4-ac99-355c6f810441",
   "metadata": {},
   "outputs": [],
   "source": []
  }
 ],
 "metadata": {
  "kernelspec": {
   "display_name": "Python 3 (ipykernel)",
   "language": "python",
   "name": "python3"
  },
  "language_info": {
   "codemirror_mode": {
    "name": "ipython",
    "version": 3
   },
   "file_extension": ".py",
   "mimetype": "text/x-python",
   "name": "python",
   "nbconvert_exporter": "python",
   "pygments_lexer": "ipython3",
   "version": "3.12.3"
  }
 },
 "nbformat": 4,
 "nbformat_minor": 5
}
