{
 "cells": [
  {
   "cell_type": "code",
   "execution_count": 1,
   "id": "68f00b65-a0f2-4a06-ba80-5105522b0b17",
   "metadata": {},
   "outputs": [
    {
     "name": "stdout",
     "output_type": "stream",
     "text": [
      "    rms_xyz\n",
      "0  0.100203\n",
      "1  0.067999\n",
      "2  0.027764\n",
      "3  0.028022\n",
      "4  0.027395\n",
      "   asset_health\n",
      "0           1.0\n",
      "1           1.0\n",
      "2           1.0\n",
      "3           1.0\n",
      "4           1.0\n"
     ]
    }
   ],
   "source": [
    "import numpy as np\n",
    "import pandas as pd\n",
    "import torch\n",
    "import torch.nn as nn\n",
    "import matplotlib.pyplot as plt\n",
    "\n",
    "from sklearn.preprocessing import MinMaxScaler\n",
    "from torch.utils.data import DataLoader, TensorDataset\n",
    "import tqdm.notebook as tqdm\n",
    "\n",
    "data = pd.read_csv(\"data/All_not_null/02dc4105-ca5e-4770-a6fc-d1fdff11fc1c_data.csv\")\n",
    "data.sort_values('created_at')\n",
    "\n",
    "\n",
    "# Use only the 'rms_xyz' for univariate modeling\n",
    "target = data[['asset_health']]\n",
    "data = data[['rms_xyz']]\n",
    "\n",
    "# Show the head of the data\n",
    "print(data.head())\n",
    "print(target.head())"
   ]
  },
  {
   "cell_type": "code",
   "execution_count": 2,
   "id": "99c7be36-b938-4eae-bb5d-224c282f8270",
   "metadata": {},
   "outputs": [],
   "source": [
    "# Normalize the closing price\n",
    "scaler = MinMaxScaler(feature_range=(0, 1))\n",
    "data_scaled = scaler.fit_transform(data.values)\n",
    "target_scaled = scaler.fit_transform(target.values)\n",
    "\n",
    "# Convert to a PyTorch tensor\n",
    "data_scaled = torch.FloatTensor(data_scaled).view(-1)\n",
    "target_tensor = torch.FloatTensor(target_scaled).view(-1)"
   ]
  },
  {
   "cell_type": "code",
   "execution_count": 3,
   "id": "e3597a36-3b59-4f79-a6da-5ec51fd09bff",
   "metadata": {},
   "outputs": [
    {
     "data": {
      "text/plain": [
       "(torch.Tensor, torch.Size([2600]))"
      ]
     },
     "execution_count": 3,
     "metadata": {},
     "output_type": "execute_result"
    }
   ],
   "source": [
    "type(data_scaled), data_scaled.shape"
   ]
  },
  {
   "cell_type": "code",
   "execution_count": 4,
   "id": "5f5b8305-0e67-468a-b6c7-a465dfb7d879",
   "metadata": {},
   "outputs": [
    {
     "data": {
      "text/plain": [
       "(torch.Tensor, torch.Size([2600]))"
      ]
     },
     "execution_count": 4,
     "metadata": {},
     "output_type": "execute_result"
    }
   ],
   "source": [
    "type(target_tensor), target_tensor.shape"
   ]
  },
  {
   "cell_type": "code",
   "execution_count": 5,
   "id": "f0f4d27a-c3d1-4ad0-ae5a-83fa734b76c5",
   "metadata": {},
   "outputs": [],
   "source": [
    "# Create sequences for training\n",
    "def create_sequences(data, seq_length):\n",
    "    sequences = []\n",
    "    for i in range(len(data) - seq_length):\n",
    "        seq = data[i:i + seq_length]\n",
    "        label = target_tensor[i + seq_length]\n",
    "        sequences.append((seq, label))\n",
    "    return sequences\n",
    "\n",
    "SEQ_LENGTH = 12  # Use the past 12 sequence to predict the one day\n",
    "sequences = create_sequences(data_scaled, SEQ_LENGTH)"
   ]
  },
  {
   "cell_type": "code",
   "execution_count": 6,
   "id": "d08d492b-c2ff-424d-8bfc-77efc1924801",
   "metadata": {},
   "outputs": [
    {
     "data": {
      "text/plain": [
       "(list, list)"
      ]
     },
     "execution_count": 6,
     "metadata": {},
     "output_type": "execute_result"
    }
   ],
   "source": [
    "# Split into training and testing datasets (80% train, 20% test)\n",
    "train_size = int(len(sequences) * 0.8)\n",
    "train_sequences = sequences[:train_size]\n",
    "test_sequences = sequences[train_size:]\n",
    "\n",
    "type(train_sequences), type(test_sequences)"
   ]
  },
  {
   "cell_type": "code",
   "execution_count": 7,
   "id": "075434c9-105c-4fb8-be23-7fa36f540cc6",
   "metadata": {},
   "outputs": [],
   "source": [
    "# Unpack the sequences into separate tensors for features and labels\n",
    "train_sequences_features = [seq for seq, label in train_sequences]\n",
    "train_sequences_labels = [label for seq, label in train_sequences]\n",
    "\n",
    "test_sequences_features = [seq for seq, label in test_sequences]\n",
    "test_sequences_labels = [label for seq, label in test_sequences]\n",
    "\n",
    "# Convert lists to tensors\n",
    "train_features_tensor = torch.stack(train_sequences_features)\n",
    "train_labels_tensor = torch.stack(train_sequences_labels)\n",
    "\n",
    "test_features_tensor = torch.stack(test_sequences_features)\n",
    "test_labels_tensor = torch.stack(test_sequences_labels)"
   ]
  },
  {
   "cell_type": "code",
   "execution_count": 8,
   "id": "f888cad9-9b81-4a8d-b872-4194d1ff04a6",
   "metadata": {},
   "outputs": [],
   "source": [
    "# Create TensorDatasets for training and testing\n",
    "train_dataset = TensorDataset(train_features_tensor, train_labels_tensor)\n",
    "test_dataset = TensorDataset(test_features_tensor, test_labels_tensor)\n",
    "\n",
    "# Create DataLoaders for training and testing datasets\n",
    "train_loader = DataLoader(dataset=train_dataset, batch_size=64, shuffle=True)\n",
    "test_loader = DataLoader(dataset=test_dataset, batch_size=64, shuffle=False)"
   ]
  },
  {
   "cell_type": "code",
   "execution_count": 9,
   "id": "16f1b558-ce9a-4999-8a08-56488f070cdd",
   "metadata": {},
   "outputs": [],
   "source": [
    "# Print a sample from the training data to confirm it's working\n",
    "sample_train_data = next(iter(train_loader))\n",
    "# print(f\"Sample training data batch: {sample_train_data}\")"
   ]
  },
  {
   "cell_type": "code",
   "execution_count": 10,
   "id": "1c6006d6-9729-41e0-b758-cc4c8972ec35",
   "metadata": {},
   "outputs": [],
   "source": [
    "class LSTMModel(nn.Module):\n",
    "    def __init__(self, input_size=1, hidden_layer_size=100, output_size=1):\n",
    "        super(LSTMModel, self).__init__()\n",
    "        self.hidden_layer_size = hidden_layer_size\n",
    "        self.lstm = nn.LSTM(input_size, hidden_layer_size, batch_first=True)  # Use batch_first=True\n",
    "        self.linear = nn.Linear(hidden_layer_size, output_size)\n",
    "\n",
    "    def forward(self, input_seq):\n",
    "        lstm_out, _ = self.lstm(input_seq)  # Remove hidden_cell to allow PyTorch to manage it internally\n",
    "        predictions = self.linear(lstm_out[:, -1])  # Use only the output from the last timestep\n",
    "        return predictions"
   ]
  },
  {
   "cell_type": "code",
   "execution_count": 11,
   "id": "3b910c6b-f1f4-4e6b-a1d7-f4236d034ac3",
   "metadata": {},
   "outputs": [
    {
     "name": "stderr",
     "output_type": "stream",
     "text": [
      "C:\\Users\\user\\anaconda3\\envs\\torch-gpu\\Lib\\site-packages\\torch\\nn\\modules\\loss.py:538: UserWarning: Using a target size (torch.Size([64])) that is different to the input size (torch.Size([64, 1])). This will likely lead to incorrect results due to broadcasting. Please ensure they have the same size.\n",
      "  return F.mse_loss(input, target, reduction=self.reduction)\n",
      "C:\\Users\\user\\anaconda3\\envs\\torch-gpu\\Lib\\site-packages\\torch\\nn\\modules\\loss.py:538: UserWarning: Using a target size (torch.Size([22])) that is different to the input size (torch.Size([22, 1])). This will likely lead to incorrect results due to broadcasting. Please ensure they have the same size.\n",
      "  return F.mse_loss(input, target, reduction=self.reduction)\n"
     ]
    },
    {
     "name": "stdout",
     "output_type": "stream",
     "text": [
      "Epoch 1/30, Loss: 0.7035782933235168\n",
      "Epoch 2/30, Loss: 0.5976617336273193\n",
      "Epoch 3/30, Loss: 0.38715121150016785\n",
      "Epoch 4/30, Loss: 0.009954459965229034\n",
      "Epoch 5/30, Loss: 0.004895439837127924\n",
      "Epoch 6/30, Loss: 0.0077592055313289165\n",
      "Epoch 7/30, Loss: 0.01062785368412733\n",
      "Epoch 8/30, Loss: 0.00757637107744813\n",
      "Epoch 9/30, Loss: 0.0018161848420277238\n",
      "Epoch 10/30, Loss: 0.0007513122982345521\n",
      "Epoch 11/30, Loss: 0.008941354230046272\n",
      "Epoch 12/30, Loss: 0.004344332031905651\n",
      "Epoch 13/30, Loss: 0.0017389972927048802\n",
      "Epoch 14/30, Loss: 0.003334705252200365\n",
      "Epoch 15/30, Loss: 0.0028002788312733173\n",
      "Epoch 16/30, Loss: 0.0009301900863647461\n",
      "Epoch 17/30, Loss: 0.007243030704557896\n",
      "Epoch 18/30, Loss: 0.007580470759421587\n",
      "Epoch 19/30, Loss: 0.004324034322053194\n",
      "Epoch 20/30, Loss: 0.008368264883756638\n",
      "Epoch 21/30, Loss: 0.008910692296922207\n",
      "Epoch 22/30, Loss: 0.007093221880495548\n",
      "Epoch 23/30, Loss: 0.00857995729893446\n",
      "Epoch 24/30, Loss: 0.0036090542562305927\n",
      "Epoch 25/30, Loss: 0.0018347809091210365\n",
      "Epoch 26/30, Loss: 0.0044145043939352036\n",
      "Epoch 27/30, Loss: 0.005068619269877672\n",
      "Epoch 28/30, Loss: 0.00546364625915885\n",
      "Epoch 29/30, Loss: 0.006753306835889816\n",
      "Epoch 30/30, Loss: 0.005525134038180113\n"
     ]
    }
   ],
   "source": [
    "def train_model(model, train_loader, epochs=10, lr=0.0001):\n",
    "    loss_function = nn.MSELoss()\n",
    "    optimizer = torch.optim.Adam(model.parameters(), lr=lr)\n",
    "\n",
    "    for epoch in range(epochs):\n",
    "        model.train()\n",
    "        for seq, labels in train_loader:\n",
    "            optimizer.zero_grad()\n",
    "\n",
    "            # Ensure seq has the correct shape (batch_size, seq_len, input_size)\n",
    "            seq = seq.unsqueeze(-1)  # Adding the feature dimension\n",
    "            y_pred = model(seq)\n",
    "\n",
    "            loss = loss_function(y_pred, labels)\n",
    "            loss.backward()\n",
    "            optimizer.step()\n",
    "\n",
    "        print(f'Epoch {epoch+1}/{epochs}, Loss: {loss.item()}')\n",
    "\n",
    "# Initialize the model\n",
    "model = LSTMModel()\n",
    "\n",
    "# Train the model\n",
    "train_model(model, train_loader, epochs=30)"
   ]
  },
  {
   "cell_type": "code",
   "execution_count": 12,
   "id": "b5689e9b-b589-4f91-a397-b97abd309495",
   "metadata": {},
   "outputs": [
    {
     "name": "stdout",
     "output_type": "stream",
     "text": [
      "Using device: cuda\n"
     ]
    }
   ],
   "source": [
    "device = torch.device(\"cuda\" if torch.cuda.is_available() else \"cpu\")\n",
    "print(f'Using device: {device}')"
   ]
  },
  {
   "cell_type": "code",
   "execution_count": 13,
   "id": "4688cbff-9531-4055-a650-663a0c40960b",
   "metadata": {},
   "outputs": [],
   "source": [
    "def plot_predictions(predictions, actuals, num_plots=100):\n",
    "    plt.figure(figsize=(12,6))\n",
    "    plt.plot(actuals[:num_plots], label='Actual Value', color='blue')\n",
    "    plt.plot(predictions[:num_plots], label='Predicted Value', color='red')\n",
    "    plt.title(f'{data.columns[0]} Prediction')\n",
    "    plt.xlabel('Time')\n",
    "    plt.ylabel('Value')\n",
    "    plt.legend()\n",
    "    plt.show()"
   ]
  },
  {
   "cell_type": "code",
   "execution_count": 14,
   "id": "0d58a89b-f12a-4ecd-a46a-8ffb02024fb1",
   "metadata": {},
   "outputs": [],
   "source": [
    "def evaluate_model(model, test_loader, scaler, device='cpu'):\n",
    "    model.to(device)\n",
    "    model.eval()\n",
    "    predictions = []\n",
    "    actuals = []\n",
    "\n",
    "    with torch.no_grad():\n",
    "        for seq, labels in test_loader:\n",
    "            seq = seq.to(device)\n",
    "            labels = labels.to(device)\n",
    "            # Ensure seq has the correct shape (batch_size, seq_len, input_size)\n",
    "            seq = seq.unsqueeze(-1)  # Adding the feature dimension\n",
    "            y_pred = model(seq)\n",
    "            predictions.append(y_pred.cpu().numpy())\n",
    "            actuals.append(labels.cpu().numpy())\n",
    "\n",
    "    # Concatenate all batches\n",
    "    predictions = np.concatenate(predictions, axis=0)\n",
    "    actuals = np.concatenate(actuals, axis=0)\n",
    "\n",
    "\n",
    "     # Reshape predictions and actuals to 2D arrays if necessary\n",
    "    if predictions.ndim == 1:  # Check if the data is 1D\n",
    "        predictions = predictions.reshape(-1, 1)\n",
    "    if actuals.ndim == 1:  # Check if the data is 1D\n",
    "        actuals = actuals.reshape(-1, 1)\n",
    "        \n",
    "    # Inverse transform to original scale\n",
    "    predictions = scaler.inverse_transform(predictions)\n",
    "    actuals = scaler.inverse_transform(actuals)\n",
    "\n",
    "    return predictions, actuals"
   ]
  },
  {
   "cell_type": "code",
   "execution_count": 15,
   "id": "ba07c3be-b814-47fd-a77f-8f8f7c3ded94",
   "metadata": {},
   "outputs": [],
   "source": [
    "predictions, actuals = evaluate_model(model, test_loader, scaler, device)"
   ]
  },
  {
   "cell_type": "code",
   "execution_count": 16,
   "id": "ef6dfe34-c79c-4654-a86b-65e9d05b24df",
   "metadata": {},
   "outputs": [
    {
     "data": {
      "image/png": "[encoded data removed]",
      "text/plain": [
       "<Figure size 1200x600 with 1 Axes>"
      ]
     },
     "metadata": {},
     "output_type": "display_data"
    }
   ],
   "source": [
    "# Plot the predictions vs actualsprint(\"Plotting the results...\")\n",
    "plot_predictions(predictions, actuals, num_plots=200)  # Adjust num_plots as needed"
   ]
  },
  {
   "cell_type": "code",
   "execution_count": null,
   "id": "19b555e6-0add-4c1e-a43c-5de2a7bdee00",
   "metadata": {},
   "outputs": [],
   "source": []
  }
 ],
 "metadata": {
  "kernelspec": {
   "display_name": "Python 3 (ipykernel)",
   "language": "python",
   "name": "python3"
  },
  "language_info": {
   "codemirror_mode": {
    "name": "ipython",
    "version": 3
   },
   "file_extension": ".py",
   "mimetype": "text/x-python",
   "name": "python",
   "nbconvert_exporter": "python",
   "pygments_lexer": "ipython3",
   "version": "3.12.3"
  }
 },
 "nbformat": 4,
 "nbformat_minor": 5
}
