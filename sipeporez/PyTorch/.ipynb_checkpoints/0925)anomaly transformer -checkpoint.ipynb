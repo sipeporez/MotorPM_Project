{
 "cells": [
  {
   "cell_type": "code",
   "execution_count": 1,
   "id": "f8baa4d8-ad59-4edf-bb13-1a6f60cab7f2",
   "metadata": {},
   "outputs": [],
   "source": [
    "import pandas as pd\n",
    "import numpy as np\n",
    "from tqdm.notebook import tqdm \n",
    "import matplotlib.pyplot as plt\n",
    "\n",
    "from sklearn.preprocessing import MinMaxScaler\n",
    "import torch\n",
    "import torch.nn as nn\n",
    "import torch.optim as optim\n",
    "from torch.utils.data import DataLoader, TensorDataset\n",
    "from model.AnomalyTransformer import AnomalyTransformer # https://github.com/thuml/Anomaly-Transformer 모델 사용, forward 부분 수정\n",
    "\n",
    "# 1. 데이터 로드\n",
    "normal_data = pd.read_csv('data/5528_12count/drop/5528_drop_imbalance_normal.csv')\n",
    "error_data = pd.read_csv('data/5528_12count/drop/5528_drop_imbalance_error.csv')\n",
    "\n",
    "# 2. null값 처리\n",
    "normal_data = normal_data.dropna()\n",
    "error_data = error_data.dropna()\n",
    "\n",
    "# # rms_xyz 값이 0.03 이상인 데이터만 사용\n",
    "# data = data[data['rms_xyz'] >= 0.03]\n",
    "\n",
    "\n",
    "# 데이터의 시간 정보를 사용하여 훈련 데이터와 테스트 데이터 나누기\n",
    "# created_at 유닉스 시간대 컬럼을 기준으로 시계열 정렬\n",
    "normal_data['created_at'] = pd.to_datetime(normal_data['created_at'], unit='s')\n",
    "error_data['created_at'] = pd.to_datetime(error_data['created_at'], unit='s')\n",
    "\n",
    "normal_data = normal_data.sort_values(by='created_at')\n",
    "error_data = error_data.sort_values(by='created_at')\n",
    "\n",
    "# 훈련 데이터와 테스트 데이터 분할 -> 에러데이터+정상데이터 합치기"
   ]
  },
  {
   "cell_type": "code",
   "execution_count": 2,
   "id": "138f855e-3eb9-4966-9a3e-e15985dd66ba",
   "metadata": {},
   "outputs": [
    {
     "data": {
      "text/plain": [
       "((2220, 46), (192, 46))"
      ]
     },
     "execution_count": 2,
     "metadata": {},
     "output_type": "execute_result"
    }
   ],
   "source": [
    "normal_data.shape, error_data.shape"
   ]
  },
  {
   "cell_type": "code",
   "execution_count": 3,
   "id": "4207dce9-98f5-44ca-996d-af4fbe75515b",
   "metadata": {},
   "outputs": [],
   "source": [
    "train_data = normal_data\n",
    "test_data = error_data"
   ]
  },
  {
   "cell_type": "code",
   "execution_count": 4,
   "id": "81a7cb80-964a-4b31-add2-88d94278314e",
   "metadata": {},
   "outputs": [
    {
     "data": {
      "text/plain": [
       "((2220, 46), (192, 46))"
      ]
     },
     "execution_count": 4,
     "metadata": {},
     "output_type": "execute_result"
    }
   ],
   "source": [
    "train_data.shape, test_data.shape"
   ]
  },
  {
   "cell_type": "code",
   "execution_count": 5,
   "id": "8e1e3d88-83f6-427d-8a23-4f5141dcfae7",
   "metadata": {},
   "outputs": [],
   "source": [
    "# 3. 필요한 특성 선택\n",
    "train_features = train_data.drop(columns=['asset_id', 'created_at', 'created_at_datetime', 'looseness_health', 'time','misalignment_health', 'bearing_health', 'imbalance_health'])\n",
    "test_features = test_data.drop(columns=['asset_id', 'created_at', 'created_at_datetime', 'looseness_health', 'time','misalignment_health', 'bearing_health', 'imbalance_health'])\n",
    "\n",
    "# train_features = train_features.loc[:,['vel_crest_factor_x', 'rms_x', 'vel_kurtosis_y','vel_kurtosis_z', 'vel_peak_z','skewness_y','crest_factor_y','vel_skewness_x','vel_rms_xyz','peak_y','peak_x']]\n",
    "# test_features = test_features.loc[:,['vel_crest_factor_x', 'rms_x', 'vel_kurtosis_y','vel_kurtosis_z', 'vel_peak_z','skewness_y','crest_factor_y','vel_skewness_x','vel_rms_xyz','peak_y','peak_x']]"
   ]
  },
  {
   "cell_type": "code",
   "execution_count": 6,
   "id": "07d3cf56-010d-4a37-bc57-a9673113c650",
   "metadata": {},
   "outputs": [
    {
     "data": {
      "text/plain": [
       "['rms_x',\n",
       " 'rms_y',\n",
       " 'rms_z',\n",
       " 'rms_xyz',\n",
       " 'vel_rms_x',\n",
       " 'vel_rms_y',\n",
       " 'vel_rms_z',\n",
       " 'vel_rms_xyz',\n",
       " 'skewness_x',\n",
       " 'skewness_y',\n",
       " 'skewness_z',\n",
       " 'vel_skewness_x',\n",
       " 'vel_skewness_y',\n",
       " 'vel_skewness_z',\n",
       " 'kurtosis_x',\n",
       " 'kurtosis_y',\n",
       " 'kurtosis_z',\n",
       " 'vel_kurtosis_x',\n",
       " 'vel_kurtosis_y',\n",
       " 'vel_kurtosis_z',\n",
       " 'crest_factor_x',\n",
       " 'crest_factor_y',\n",
       " 'crest_factor_z',\n",
       " 'vel_crest_factor_x',\n",
       " 'vel_crest_factor_y',\n",
       " 'vel_crest_factor_z',\n",
       " 'peak_x',\n",
       " 'peak_y',\n",
       " 'peak_z',\n",
       " 'vel_peak_x',\n",
       " 'vel_peak_y',\n",
       " 'vel_peak_z',\n",
       " 'peak2peak_x',\n",
       " 'peak2peak_y',\n",
       " 'peak2peak_z',\n",
       " 'vel_peak2peak_x',\n",
       " 'vel_peak2peak_y',\n",
       " 'vel_peak2peak_z']"
      ]
     },
     "execution_count": 6,
     "metadata": {},
     "output_type": "execute_result"
    }
   ],
   "source": [
    "train_features.columns.to_list()"
   ]
  },
  {
   "cell_type": "code",
   "execution_count": 7,
   "id": "8b480090-ba19-4bea-946f-01260c94e310",
   "metadata": {},
   "outputs": [
    {
     "data": {
      "text/plain": [
       "((2220, 38), (192, 38))"
      ]
     },
     "execution_count": 7,
     "metadata": {},
     "output_type": "execute_result"
    }
   ],
   "source": [
    "train_features.shape , test_features.shape"
   ]
  },
  {
   "cell_type": "code",
   "execution_count": 8,
   "id": "2f011200-2c21-4cf2-a471-1226b80e8c29",
   "metadata": {},
   "outputs": [],
   "source": [
    "# # 슬라이딩 윈도우 생성 시 12칸씩 슬라이딩 하려면 사용할 것\n",
    "# train_features = train_features[:11]\n",
    "# test_features = test_features[:24]"
   ]
  },
  {
   "cell_type": "code",
   "execution_count": 9,
   "id": "985524d9-a256-420c-8fdc-72e4e2099952",
   "metadata": {},
   "outputs": [],
   "source": [
    "# 4. 정규화\n",
    "scaler = MinMaxScaler()\n",
    "train_features_scaled = scaler.fit_transform(train_features)\n",
    "test_features_scaled = scaler.transform(test_features) # 테스트 데이터는 fit하면 안됨\n",
    "\n",
    "# 5. 슬라이딩 윈도우 생성\n",
    "window_size = 12 # 2시간 단위를 하루 단위의 status 지표에 맞추기 위해 12 사용\n",
    "def create_windows(data, window_size):\n",
    "    # return [data[i:i+window_size] for i in range(len(data) - window_size + 1)] # 1칸씩 슬라이딩 (123, 234, 345 ...)\n",
    "    return [data[i:i + window_size] for i in range(0, len(data), window_size)] # window_size 만큼 구분지어 슬라이딩 (123, 456, 789 ...)\n",
    "def create_windows_for_test(data, window_size):\n",
    "    # return [data[i:i+window_size] for i in range(len(data) - window_size + 1)] # 1칸씩 슬라이딩 (123, 234, 345 ...)\n",
    "    return [data[i:i + window_size] for i in range(0, len(data), window_size)] # window_size 만큼 구분지어 슬라이딩 (123, 456, 789 ...)\n",
    "\n",
    "train_windows = create_windows(train_features_scaled, window_size)\n",
    "test_windows = create_windows_for_test(test_features_scaled, window_size)\n",
    "\n",
    "# 6. PyTorch 텐서로 변환\n",
    "train_windows_tensor = torch.tensor(np.array(train_windows), dtype=torch.float32)\n",
    "test_windows_tensor = torch.tensor(np.array(test_windows), dtype=torch.float32)"
   ]
  },
  {
   "cell_type": "code",
   "execution_count": 10,
   "id": "ee50c42b-e317-45a7-b8ee-0423ab812026",
   "metadata": {},
   "outputs": [],
   "source": [
    "# for i, window in enumerate(train_windows):\n",
    "#     print(f\"Window {i} length: {len(window)}\")\n",
    "# for i, window in enumerate(test_windows):\n",
    "#     print(f\"Window {i} length: {len(window)}\")"
   ]
  },
  {
   "cell_type": "code",
   "execution_count": 11,
   "id": "254fe2cd-f827-43da-9e41-39c2f5d23915",
   "metadata": {},
   "outputs": [],
   "source": [
    "# 7. 데이터셋 및 데이터로더 생성\n",
    "train_dataset = TensorDataset(train_windows_tensor)\n",
    "test_dataset = TensorDataset(test_windows_tensor)\n",
    "\n",
    "train_dataloader = DataLoader(train_dataset, batch_size=36, shuffle=False)\n",
    "test_dataloader = DataLoader(test_dataset, batch_size=36, shuffle=False)"
   ]
  },
  {
   "cell_type": "code",
   "execution_count": 12,
   "id": "d2f92b41-6a2d-4687-bba3-0296eb158fd4",
   "metadata": {},
   "outputs": [],
   "source": [
    "# 8. 모델 정의\n",
    "model = AnomalyTransformer(win_size=window_size,  # 슬라이딩 윈도우 크기\n",
    "                           enc_in=train_features.shape[1],  # 입력 특성 수\n",
    "                           c_out=train_features.shape[1],  # 출력 특성 수\n",
    "                          d_model=38)  \n",
    "# 가능한 경우 cuda 사용\n",
    "device = 'cuda' if torch.cuda.is_available() else 'cpu'\n",
    "model = model.to(device)\n",
    "\n",
    "# 9. 손실 함수 / 옵티마이저 설정\n",
    "criterion = nn.MSELoss()\n",
    "optimizer = optim.Adam(model.parameters(), lr=0.001)"
   ]
  },
  {
   "cell_type": "code",
   "execution_count": 13,
   "id": "21b9bbc4-48fc-4f99-829c-942957741c53",
   "metadata": {
    "scrolled": true
   },
   "outputs": [
    {
     "data": {
      "application/vnd.jupyter.widget-view+json": {
       "model_id": "7d82e4836d404c039b860bae696da6bc",
       "version_major": 2,
       "version_minor": 0
      },
      "text/plain": [
       "  0%|          | 0/100 [00:00<?, ?it/s]"
      ]
     },
     "metadata": {},
     "output_type": "display_data"
    },
    {
     "name": "stdout",
     "output_type": "stream",
     "text": [
      "Epoch 1/100, Loss: 0.8620360990365347\n",
      "Epoch 2/100, Loss: 0.7320850590864817\n",
      "Epoch 3/100, Loss: 0.70930348833402\n",
      "Epoch 4/100, Loss: 0.682047704855601\n",
      "Epoch 5/100, Loss: 0.6548694570859274\n",
      "Epoch 6/100, Loss: 0.633696178595225\n",
      "Epoch 7/100, Loss: 0.6156629423300425\n",
      "Epoch 8/100, Loss: 0.6013133426507314\n",
      "Epoch 9/100, Loss: 0.5859279533227285\n",
      "Epoch 10/100, Loss: 0.5712511738141378\n",
      "Epoch 11/100, Loss: 0.5570325255393982\n",
      "Epoch 12/100, Loss: 0.5429432590802511\n",
      "Epoch 13/100, Loss: 0.5292219420274099\n",
      "Epoch 14/100, Loss: 0.5156045854091644\n",
      "Epoch 15/100, Loss: 0.5021069993575414\n",
      "Epoch 16/100, Loss: 0.4888143539428711\n",
      "Epoch 17/100, Loss: 0.4756761888662974\n",
      "Epoch 18/100, Loss: 0.4626610279083252\n",
      "Epoch 19/100, Loss: 0.44981979330380756\n",
      "Epoch 20/100, Loss: 0.4371233681837718\n",
      "Epoch 21/100, Loss: 0.42453597486019135\n",
      "Epoch 22/100, Loss: 0.41207772493362427\n",
      "Epoch 23/100, Loss: 0.3997349292039871\n",
      "Epoch 24/100, Loss: 0.3874826828638713\n",
      "Epoch 25/100, Loss: 0.37530377010504407\n",
      "Epoch 26/100, Loss: 0.36317867040634155\n",
      "Epoch 27/100, Loss: 0.35108694434165955\n",
      "Epoch 28/100, Loss: 0.3390035927295685\n",
      "Epoch 29/100, Loss: 0.32690568765004474\n",
      "Epoch 30/100, Loss: 0.3147805829842885\n",
      "Epoch 31/100, Loss: 0.30262675881385803\n",
      "Epoch 32/100, Loss: 0.29045983652273816\n",
      "Epoch 33/100, Loss: 0.27831243971983594\n",
      "Epoch 34/100, Loss: 0.2662351628144582\n",
      "Epoch 35/100, Loss: 0.2542883704106013\n",
      "Epoch 36/100, Loss: 0.2425362393260002\n",
      "Epoch 37/100, Loss: 0.23103998601436615\n",
      "Epoch 38/100, Loss: 0.21985300381978354\n",
      "Epoch 39/100, Loss: 0.20901828507582346\n",
      "Epoch 40/100, Loss: 0.19856731841961542\n",
      "Epoch 41/100, Loss: 0.1885212187965711\n",
      "Epoch 42/100, Loss: 0.17889235417048135\n",
      "Epoch 43/100, Loss: 0.16968655089537302\n",
      "Epoch 44/100, Loss: 0.16090475271145502\n",
      "Epoch 45/100, Loss: 0.15254272520542145\n",
      "Epoch 46/100, Loss: 0.14458736777305603\n",
      "Epoch 47/100, Loss: 0.1370137706398964\n",
      "Epoch 48/100, Loss: 0.12979254871606827\n",
      "Epoch 49/100, Loss: 0.12290383999546368\n",
      "Epoch 50/100, Loss: 0.11633831386764844\n",
      "Epoch 51/100, Loss: 0.11008410900831223\n",
      "Epoch 52/100, Loss: 0.10412092506885529\n",
      "Epoch 53/100, Loss: 0.09842621038357417\n",
      "Epoch 54/100, Loss: 0.09298041462898254\n",
      "Epoch 55/100, Loss: 0.08776769787073135\n",
      "Epoch 56/100, Loss: 0.0827742653588454\n",
      "Epoch 57/100, Loss: 0.07798299193382263\n",
      "Epoch 58/100, Loss: 0.0733666643500328\n",
      "Epoch 59/100, Loss: 0.06889494508504868\n",
      "Epoch 60/100, Loss: 0.06456150362888972\n",
      "Epoch 61/100, Loss: 0.06040083430707455\n",
      "Epoch 62/100, Loss: 0.05646122992038727\n",
      "Epoch 63/100, Loss: 0.052703615898887314\n",
      "Epoch 64/100, Loss: 0.04900635158022245\n",
      "Epoch 65/100, Loss: 0.04527199827134609\n",
      "Epoch 66/100, Loss: 0.04195916590591272\n",
      "Epoch 67/100, Loss: 0.03873870645960172\n",
      "Epoch 68/100, Loss: 0.03568009721736113\n",
      "Epoch 69/100, Loss: 0.032966941905518375\n",
      "Epoch 70/100, Loss: 0.03049756245066722\n",
      "Epoch 71/100, Loss: 0.028064162159959476\n",
      "Epoch 72/100, Loss: 0.025826967631777126\n",
      "Epoch 73/100, Loss: 0.023842020891606808\n",
      "Epoch 74/100, Loss: 0.022108422592282295\n",
      "Epoch 75/100, Loss: 0.020593580789864063\n",
      "Epoch 76/100, Loss: 0.01924885716289282\n",
      "Epoch 77/100, Loss: 0.017975136172026396\n",
      "Epoch 78/100, Loss: 0.01679403878127535\n",
      "Epoch 79/100, Loss: 0.015844546258449554\n",
      "Epoch 80/100, Loss: 0.015058025252074003\n",
      "Epoch 81/100, Loss: 0.014249703225990137\n",
      "Epoch 82/100, Loss: 0.013431821173677841\n",
      "Epoch 83/100, Loss: 0.012898130963246027\n",
      "Epoch 84/100, Loss: 0.012264251553763946\n",
      "Epoch 85/100, Loss: 0.011654232473423084\n",
      "Epoch 86/100, Loss: 0.011228520112733046\n",
      "Epoch 87/100, Loss: 0.010872135404497385\n",
      "Epoch 88/100, Loss: 0.010551487871756157\n",
      "Epoch 89/100, Loss: 0.01026078313589096\n",
      "Epoch 90/100, Loss: 0.009986975540717443\n",
      "Epoch 91/100, Loss: 0.00973893484721581\n",
      "Epoch 92/100, Loss: 0.009544987619544068\n",
      "Epoch 93/100, Loss: 0.009400610423957309\n",
      "Epoch 94/100, Loss: 0.009286425697306791\n",
      "Epoch 95/100, Loss: 0.009176096568504969\n",
      "Epoch 96/100, Loss: 0.009084542747586966\n",
      "Epoch 97/100, Loss: 0.009069093425447742\n",
      "Epoch 98/100, Loss: 0.009108422013620535\n",
      "Epoch 99/100, Loss: 0.009174932880947987\n",
      "Epoch 100/100, Loss: 0.008956268041705092\n"
     ]
    }
   ],
   "source": [
    "# 10. 모델 학습\n",
    "num_epochs = 100\n",
    "\n",
    "best_loss = float('inf')  # 초기값으로 무한대 설정\n",
    "best_model_state = None    # 최적 모델의 상태 저장\n",
    "\n",
    "for epoch in tqdm(range(num_epochs)):\n",
    "    model.train()\n",
    "    epoch_loss = 0\n",
    "    for batch in train_dataloader:\n",
    "        inputs = batch[0].to(device)\n",
    "        \n",
    "        # 순전파\n",
    "        outputs, series, prior, sigmas = model(inputs)\n",
    "\n",
    "        # 손실 함수 적용\n",
    "        loss = criterion(outputs, inputs)\n",
    "        \n",
    "        # 역전파\n",
    "        optimizer.zero_grad()\n",
    "        loss.backward()\n",
    "        optimizer.step()\n",
    "        \n",
    "        epoch_loss += loss.item()\n",
    "\n",
    "    avg_loss = epoch_loss / len(train_dataloader)\n",
    "    print(f'Epoch {epoch + 1}/{num_epochs}, Loss: {avg_loss}')\n",
    "\n",
    "    # 최적 모델 업데이트\n",
    "    if avg_loss < best_loss:\n",
    "        best_loss = avg_loss\n",
    "        best_model_state = model.state_dict()  # 모델의 상태 저장\n",
    "\n",
    "# 훈련 후 최적 모델 저장\n",
    "if best_model_state is not None:\n",
    "    torch.save(best_model_state, '0925_best_model_anomaly_transformer.pth')"
   ]
  },
  {
   "cell_type": "code",
   "execution_count": 14,
   "id": "aaae2d1b-7399-4c84-9878-1b85f3ed6c5a",
   "metadata": {},
   "outputs": [
    {
     "name": "stderr",
     "output_type": "stream",
     "text": [
      "C:\\Users\\user\\AppData\\Local\\Temp\\ipykernel_6616\\920649821.py:2: FutureWarning: You are using `torch.load` with `weights_only=False` (the current default value), which uses the default pickle module implicitly. It is possible to construct malicious pickle data which will execute arbitrary code during unpickling (See https://github.com/pytorch/pytorch/blob/main/SECURITY.md#untrusted-models for more details). In a future release, the default value for `weights_only` will be flipped to `True`. This limits the functions that could be executed during unpickling. Arbitrary objects will no longer be allowed to be loaded via this mode unless they are explicitly allowlisted by the user via `torch.serialization.add_safe_globals`. We recommend you start setting `weights_only=True` for any use case where you don't have full control of the loaded file. Please open an issue on GitHub for any issues related to this experimental feature.\n",
      "  model.load_state_dict(torch.load('0925_best_model_anomaly_transformer.pth'))\n"
     ]
    }
   ],
   "source": [
    "# 11. 모델 평가 (스코어링)\n",
    "model.load_state_dict(torch.load('0925_best_model_anomaly_transformer.pth'))\n",
    "model.eval()\n",
    "\n",
    "criterion = nn.MSELoss(reduction='none')\n",
    "anomaly_scores = []\n",
    "\n",
    "with torch.no_grad():\n",
    "    for batch in test_dataloader:\n",
    "        inputs = batch[0].to(device)\n",
    "        outputs, series, prior, sigmas = model(inputs)\n",
    "        \n",
    "        # 재구성 오차로 이상점수 계산\n",
    "        batch_scores = criterion(outputs, inputs).mean(dim=(1,2))\n",
    "        anomaly_scores.extend(batch_scores)"
   ]
  },
  {
   "cell_type": "code",
   "execution_count": 15,
   "id": "8f3e6a27-131b-483f-98bd-1e698689310c",
   "metadata": {},
   "outputs": [
    {
     "data": {
      "text/plain": [
       "[0.010002756,\n",
       " 0.0071990862,\n",
       " 0.007474115,\n",
       " 0.008627924,\n",
       " 0.010156017,\n",
       " 0.0065499744,\n",
       " 0.0068018865,\n",
       " 0.006511976,\n",
       " 0.009671003,\n",
       " 0.009955692,\n",
       " 0.008885726,\n",
       " 0.00891015,\n",
       " 0.0069195693,\n",
       " 0.018980235,\n",
       " 0.016052675,\n",
       " 0.0066416473]"
      ]
     },
     "execution_count": 15,
     "metadata": {},
     "output_type": "execute_result"
    }
   ],
   "source": [
    "anomaly_scores"
   ]
  },
  {
   "cell_type": "code",
   "execution_count": 16,
   "id": "efbc11bc-d3fa-4656-bee0-cbca42968b2b",
   "metadata": {},
   "outputs": [
    {
     "name": "stdout",
     "output_type": "stream",
     "text": [
      "평균 스코어: 0.009334\n",
      "표준편차: 0.003390\n",
      "임계값: 0.011110\n",
      "이상 점수 인덱스: [13 14]\n"
     ]
    }
   ],
   "source": [
    "# 12. 임계값 계산\n",
    "mean_score = np.mean(anomaly_scores)\n",
    "std_score = np.std(anomaly_scores)\n",
    "\n",
    "print(f'평균 스코어: {mean_score:.6f}')\n",
    "print(f'표준편차: {std_score:.6f}')\n",
    "\n",
    "# 임계값 설정 (평균 + 임의값 * 표준편차)\n",
    "\n",
    "threshold = mean_score + 0.524 * std_score\n",
    "print(f'임계값: {threshold:.6f}')\n",
    "\n",
    "# 이상 점수 판별\n",
    "anomalies = anomaly_scores > threshold\n",
    "print(f'이상 점수 인덱스: {np.where(anomalies)[0]}')"
   ]
  },
  {
   "cell_type": "code",
   "execution_count": 17,
   "id": "e296ebe9-6cca-4a03-ac85-bdf1b17365e9",
   "metadata": {},
   "outputs": [],
   "source": [
    "임계값=threshold"
   ]
  },
  {
   "cell_type": "code",
   "execution_count": 18,
   "id": "7f07eef5-e237-4594-a325-c404a4c06193",
   "metadata": {},
   "outputs": [
    {
     "data": {
      "image/png": "[encoded data removed]",
      "text/plain": [
       "<Figure size 1000x500 with 1 Axes>"
      ]
     },
     "metadata": {},
     "output_type": "display_data"
    }
   ],
   "source": [
    "# 13. 인덱스 및 이상 점수 시각화\n",
    "anomaly_indices = np.where(anomalies)[0]\n",
    "\n",
    "plt.figure(figsize=(10, 5))\n",
    "plt.plot(anomaly_scores, label='Anomaly Scores', marker='o')\n",
    "# plt.axhline(y=threshold, color='r', linestyle='--', label='Threshold')\n",
    "# plt.ylim(0,0.05)\n",
    "plt.xlabel('Index')\n",
    "plt.ylabel('Score')\n",
    "# plt.title(f'tested error data (Threshold : {format(threshold, '.6f')} (30%))')\n",
    "plt.title(f'Anomaly Transformer (mean loss : {format(mean_score, '.6f')})')\n",
    "plt.legend()\n",
    "plt.show()"
   ]
  },
  {
   "cell_type": "code",
   "execution_count": 19,
   "id": "2a08d8d0-e0a2-4599-9596-6ffe42a0a8be",
   "metadata": {},
   "outputs": [
    {
     "data": {
      "text/html": [
       "<div>\n",
       "<style scoped>\n",
       "    .dataframe tbody tr th:only-of-type {\n",
       "        vertical-align: middle;\n",
       "    }\n",
       "\n",
       "    .dataframe tbody tr th {\n",
       "        vertical-align: top;\n",
       "    }\n",
       "\n",
       "    .dataframe thead th {\n",
       "        text-align: right;\n",
       "    }\n",
       "</style>\n",
       "<table border=\"1\" class=\"dataframe\">\n",
       "  <thead>\n",
       "    <tr style=\"text-align: right;\">\n",
       "      <th></th>\n",
       "      <th>asset_id</th>\n",
       "      <th>created_at</th>\n",
       "      <th>created_at_datetime</th>\n",
       "      <th>rms_x</th>\n",
       "      <th>rms_y</th>\n",
       "      <th>rms_z</th>\n",
       "      <th>rms_xyz</th>\n",
       "      <th>vel_rms_x</th>\n",
       "      <th>vel_rms_y</th>\n",
       "      <th>vel_rms_z</th>\n",
       "      <th>...</th>\n",
       "      <th>peak2peak_y</th>\n",
       "      <th>peak2peak_z</th>\n",
       "      <th>vel_peak2peak_x</th>\n",
       "      <th>vel_peak2peak_y</th>\n",
       "      <th>vel_peak2peak_z</th>\n",
       "      <th>time</th>\n",
       "      <th>imbalance_health</th>\n",
       "      <th>misalignment_health</th>\n",
       "      <th>looseness_health</th>\n",
       "      <th>bearing_health</th>\n",
       "    </tr>\n",
       "  </thead>\n",
       "  <tbody>\n",
       "    <tr>\n",
       "      <th>156</th>\n",
       "      <td>55285839-9b78-48d8-9f4e-573190ace016</td>\n",
       "      <td>2024-07-04 15:47:59</td>\n",
       "      <td>2024-07-05 0:47</td>\n",
       "      <td>0.017481</td>\n",
       "      <td>0.020843</td>\n",
       "      <td>0.019941</td>\n",
       "      <td>0.033730</td>\n",
       "      <td>0.25871</td>\n",
       "      <td>0.265254</td>\n",
       "      <td>0.354965</td>\n",
       "      <td>...</td>\n",
       "      <td>0.146484</td>\n",
       "      <td>0.158203</td>\n",
       "      <td>1.62931</td>\n",
       "      <td>1.61003</td>\n",
       "      <td>2.21316</td>\n",
       "      <td>2024-07-06 0:00</td>\n",
       "      <td>0.899079</td>\n",
       "      <td>0.980000</td>\n",
       "      <td>0.980000</td>\n",
       "      <td>1</td>\n",
       "    </tr>\n",
       "    <tr>\n",
       "      <th>168</th>\n",
       "      <td>55285839-9b78-48d8-9f4e-573190ace016</td>\n",
       "      <td>2024-07-11 15:56:52</td>\n",
       "      <td>2024-07-12 0:56</td>\n",
       "      <td>0.026773</td>\n",
       "      <td>0.030524</td>\n",
       "      <td>0.020584</td>\n",
       "      <td>0.045522</td>\n",
       "      <td>0.24572</td>\n",
       "      <td>0.254808</td>\n",
       "      <td>0.401116</td>\n",
       "      <td>...</td>\n",
       "      <td>0.181641</td>\n",
       "      <td>0.146484</td>\n",
       "      <td>1.61777</td>\n",
       "      <td>1.50482</td>\n",
       "      <td>2.11734</td>\n",
       "      <td>2024-07-13 0:00</td>\n",
       "      <td>0.967173</td>\n",
       "      <td>0.989058</td>\n",
       "      <td>0.989058</td>\n",
       "      <td>1</td>\n",
       "    </tr>\n",
       "  </tbody>\n",
       "</table>\n",
       "<p>2 rows × 46 columns</p>\n",
       "</div>"
      ],
      "text/plain": [
       "                                 asset_id          created_at  \\\n",
       "156  55285839-9b78-48d8-9f4e-573190ace016 2024-07-04 15:47:59   \n",
       "168  55285839-9b78-48d8-9f4e-573190ace016 2024-07-11 15:56:52   \n",
       "\n",
       "    created_at_datetime     rms_x     rms_y     rms_z   rms_xyz  vel_rms_x  \\\n",
       "156     2024-07-05 0:47  0.017481  0.020843  0.019941  0.033730    0.25871   \n",
       "168     2024-07-12 0:56  0.026773  0.030524  0.020584  0.045522    0.24572   \n",
       "\n",
       "     vel_rms_y  vel_rms_z  ...  peak2peak_y  peak2peak_z  vel_peak2peak_x  \\\n",
       "156   0.265254   0.354965  ...     0.146484     0.158203          1.62931   \n",
       "168   0.254808   0.401116  ...     0.181641     0.146484          1.61777   \n",
       "\n",
       "     vel_peak2peak_y  vel_peak2peak_z             time  imbalance_health  \\\n",
       "156          1.61003          2.21316  2024-07-06 0:00          0.899079   \n",
       "168          1.50482          2.11734  2024-07-13 0:00          0.967173   \n",
       "\n",
       "     misalignment_health  looseness_health  bearing_health  \n",
       "156             0.980000          0.980000               1  \n",
       "168             0.989058          0.989058               1  \n",
       "\n",
       "[2 rows x 46 columns]"
      ]
     },
     "execution_count": 19,
     "metadata": {},
     "output_type": "execute_result"
    }
   ],
   "source": [
    "# 이상탐지된 인덱스 비교용\n",
    "test_data_result=test_data.reset_index(drop=True)\n",
    "# test_data_result=test_data.reset_index(drop=True)\n",
    "indices = np.where(anomalies)[0].tolist()\n",
    "test_data_result.iloc[[x * 12 for x in indices]]\n",
    "\n",
    "# test_data_result.loc[indices].to_csv(\"anomaly_transformer_result.csv\")\n"
   ]
  },
  {
   "cell_type": "code",
   "execution_count": 20,
   "id": "cdaf59dc-82ce-4cbf-9e9d-17cabda8cf45",
   "metadata": {},
   "outputs": [],
   "source": [
    "multiples_of_12_indices = [i for i in range(len(test_data)) if i % 12 == 0]\n",
    "result = test_data.iloc[multiples_of_12_indices].imbalance_health"
   ]
  },
  {
   "cell_type": "code",
   "execution_count": 21,
   "id": "890a73ce-0b3f-4ba8-a934-b2c35222e246",
   "metadata": {},
   "outputs": [
    {
     "data": {
      "text/plain": [
       "0      0.924009\n",
       "12     0.878773\n",
       "24     0.939328\n",
       "36     0.888119\n",
       "48     0.857143\n",
       "60     0.925000\n",
       "72     0.666667\n",
       "84     0.806524\n",
       "96     0.639635\n",
       "108    0.850000\n",
       "120    0.836673\n",
       "132    0.925000\n",
       "144    0.950000\n",
       "156    0.899079\n",
       "168    0.967173\n",
       "180    0.981797\n",
       "Name: imbalance_health, dtype: float64"
      ]
     },
     "execution_count": 21,
     "metadata": {},
     "output_type": "execute_result"
    }
   ],
   "source": [
    "result"
   ]
  },
  {
   "cell_type": "code",
   "execution_count": null,
   "id": "28094640-fdb0-479e-a7b3-5b15f2622a0b",
   "metadata": {},
   "outputs": [],
   "source": []
  }
 ],
 "metadata": {
  "kernelspec": {
   "display_name": "Python 3 (ipykernel)",
   "language": "python",
   "name": "python3"
  },
  "language_info": {
   "codemirror_mode": {
    "name": "ipython",
    "version": 3
   },
   "file_extension": ".py",
   "mimetype": "text/x-python",
   "name": "python",
   "nbconvert_exporter": "python",
   "pygments_lexer": "ipython3",
   "version": "3.12.3"
  }
 },
 "nbformat": 4,
 "nbformat_minor": 5
}
