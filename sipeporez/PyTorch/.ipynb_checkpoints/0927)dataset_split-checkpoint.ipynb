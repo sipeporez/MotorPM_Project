{
 "cells": [
  {
   "cell_type": "code",
   "execution_count": 1,
   "id": "3f1a6007-04f8-4dcd-af5e-9b4ae974cfc9",
   "metadata": {},
   "outputs": [],
   "source": [
    "import time\n",
    "import torch\n",
    "from db_to_tensor import get_Lastest_Tensor\n",
    "torch.set_printoptions(precision=32, sci_mode=True) # 텐서 출력시 자릿수 표시 설정"
   ]
  },
  {
   "cell_type": "code",
   "execution_count": 2,
   "id": "a38272f2-3459-400b-910b-d6a7446eda94",
   "metadata": {},
   "outputs": [],
   "source": [
    "asset_id = '02dc4105-ca5e-4770-a6fc-d1fdff11fc1c'\n",
    "s = time.time()\n",
    "data = get_Lastest_Tensor(asset_id=asset_id)\n",
    "t = time.time() - s"
   ]
  },
  {
   "cell_type": "code",
   "execution_count": 1,
   "id": "b4ec9ed9-1bde-4052-8978-c8a248c5041f",
   "metadata": {},
   "outputs": [],
   "source": [
    "from csv_to_tensor import PostProcessing"
   ]
  },
  {
   "cell_type": "code",
   "execution_count": 31,
   "id": "cbf459f6-7244-441a-8fa4-dd65d6142ce6",
   "metadata": {},
   "outputs": [
    {
     "name": "stdout",
     "output_type": "stream",
     "text": [
      "Train data shape: torch.Size([156, 73728]), Train labels shape: torch.Size([156])\n",
      "Test data shape: torch.Size([39, 73728]), Test labels shape: torch.Size([39])\n"
     ]
    }
   ],
   "source": [
    "import torch\n",
    "\n",
    "# 정상 데이터와 비정상 데이터 텐서 생성 \n",
    "normal = PostProcessing(\"5528_spec_normal.csv\")\n",
    "error = PostProcessing(\"5528_spec_error.csv\")\n",
    "# 데이터 레이블 생성\n",
    "normal_labels = torch.zeros(normal.size(0), dtype=torch.long)  # 정상 데이터 레이블 (0)\n",
    "error_labels = torch.ones(error.size(0), dtype=torch.long)  # 비정상 데이터 레이블 (1)\n",
    "\n",
    "# 데이터 결합\n",
    "combined_data = torch.cat((normal, error), dim=0)  # shape: [195, 73728]\n",
    "combined_labels = torch.cat((normal_labels, error_labels), dim=0)  # shape: [195]\n",
    "\n",
    "# train_test_split 사용\n",
    "train_data, test_data, train_labels, test_labels = train_test_split(\n",
    "    combined_data,\n",
    "    combined_labels,\n",
    "    test_size=0.2,  # 20%를 테스트 데이터로 사용\n",
    "    random_state=42  # 랜덤 상태 설정 (재현 가능성)\n",
    ")\n",
    "\n",
    "# 필요에 따라 훈련 및 테스트 세트로 분할\n",
    "train_size = int(0.8 * shuffled_data.size(0))  # 80% 훈련 데이터\n",
    "train_data, test_data = shuffled_data[:train_size], shuffled_data[train_size:]\n",
    "train_labels, test_labels = shuffled_labels[:train_size], shuffled_labels[train_size:]\n",
    "\n",
    "# 결과 확인\n",
    "print(f'Train data shape: {train_data.shape}, Train labels shape: {train_labels.shape}')\n",
    "print(f'Test data shape: {test_data.shape}, Test labels shape: {test_labels.shape}')\n"
   ]
  },
  {
   "cell_type": "code",
   "execution_count": 1,
   "id": "f14d7f88-d2ec-41ef-991e-12457cfb49be",
   "metadata": {},
   "outputs": [],
   "source": [
    "import torch\n",
    "\n",
    "def LabelingData(normal_data, error_data):\n",
    "    ''' 텐서 타입의 정상 데이터와 비정상 데이터를 입력받고 정상데이터는 1, 비정상 데이터는 0 Label을 붙여서 반환하는 함수\n",
    "    normal_data : 정상 데이터\n",
    "    error_data : 비정상 데이터\n",
    "\n",
    "    return : 결합된 정상+비정상 데이터, 결합된 정상+비정상 데이터의 Label\n",
    "    '''    \n",
    "    # 데이터 레이블 생성\n",
    "    normal_labels = torch.ones(normal_data.size(0), dtype=torch.long)  # 정상 데이터 레이블 (1)\n",
    "    error_labels = torch.zeros(error_data.size(0), dtype=torch.long)  # 비정상 데이터 레이블 (0)\n",
    "    \n",
    "    # 데이터 결합\n",
    "    combined_data = torch.cat((normal_data, error_data), dim=0)\n",
    "    combined_labels = torch.cat((normal_labels, error_labels), dim=0)\n",
    "\n",
    "    return combined_data, combined_labels"
   ]
  },
  {
   "cell_type": "code",
   "execution_count": 2,
   "id": "f0f4e40b-feaf-4a54-b325-34bae086b5b9",
   "metadata": {},
   "outputs": [],
   "source": [
    "from csv_to_tensor import PostProcessing\n",
    "\n",
    "normal = PostProcessing(\"5528_spec_normal.csv\")\n",
    "error = PostProcessing(\"5528_spec_error.csv\")"
   ]
  },
  {
   "cell_type": "code",
   "execution_count": 3,
   "id": "8bc4b47e-4119-4422-b163-87cadb419cff",
   "metadata": {},
   "outputs": [],
   "source": [
    "cd, cl = LabelingData(normal, error)"
   ]
  },
  {
   "cell_type": "code",
   "execution_count": 4,
   "id": "39aad756-5f71-4779-8b5b-70b930395973",
   "metadata": {},
   "outputs": [],
   "source": [
    "from sklearn.model_selection import train_test_split\n",
    "\n",
    "X_train, X_test, y_train, y_test = train_test_split(\n",
    "    cd,\n",
    "    cl,\n",
    "    test_size=0.2,  # 20%를 테스트 데이터로 사용\n",
    "    random_state=42  # 랜덤 상태 설정 (재현 가능성)\n",
    ")"
   ]
  },
  {
   "cell_type": "code",
   "execution_count": 7,
   "id": "e130a416-2a0c-4cfd-b6c5-826e1e721c94",
   "metadata": {},
   "outputs": [
    {
     "data": {
      "text/plain": [
       "(tensor([[2.3672e-04, 1.8006e-04, 1.2169e-04,  ..., 1.9039e-04, 1.7605e-04,\n",
       "          1.3669e-04],\n",
       "         [2.7335e-04, 1.5367e-04, 2.2520e-04,  ..., 1.1685e-04, 3.1789e-04,\n",
       "          5.7038e-04],\n",
       "         [5.7256e-04, 6.1032e-04, 5.8076e-04,  ..., 1.6768e-04, 4.8381e-04,\n",
       "          6.5749e-04],\n",
       "         ...,\n",
       "         [2.8757e-04, 2.0347e-04, 1.6561e-04,  ..., 1.2589e-03, 1.1233e-03,\n",
       "          1.1199e-03],\n",
       "         [1.5478e-04, 1.2810e-04, 8.3613e-05,  ..., 3.9515e-04, 1.9020e-04,\n",
       "          2.5388e-05],\n",
       "         [1.2935e-04, 1.3574e-04, 3.4834e-04,  ..., 2.0385e-04, 1.0633e-04,\n",
       "          1.5889e-04]]),\n",
       " torch.Size([156, 73728]))"
      ]
     },
     "execution_count": 7,
     "metadata": {},
     "output_type": "execute_result"
    }
   ],
   "source": [
    "X_train, X_train.shape"
   ]
  },
  {
   "cell_type": "code",
   "execution_count": 8,
   "id": "5f557f77-8798-4140-b3bf-dfce1267a15e",
   "metadata": {},
   "outputs": [
    {
     "data": {
      "text/plain": [
       "(tensor([[2.8173e-04, 2.9700e-04, 1.6650e-04,  ..., 3.1163e-04, 4.8585e-05,\n",
       "          6.4074e-05],\n",
       "         [2.5778e-04, 3.0251e-04, 2.2624e-04,  ..., 3.5632e-03, 1.7525e-03,\n",
       "          5.6619e-04],\n",
       "         [2.1352e-04, 1.7895e-04, 2.7311e-04,  ..., 5.8202e-04, 3.0461e-04,\n",
       "          1.9957e-04],\n",
       "         ...,\n",
       "         [1.6700e-04, 2.3545e-04, 2.5316e-04,  ..., 1.5214e-04, 1.1630e-04,\n",
       "          2.1019e-04],\n",
       "         [1.9801e-04, 2.7208e-04, 3.1002e-04,  ..., 1.7669e-05, 4.7051e-05,\n",
       "          1.0070e-04],\n",
       "         [9.2992e-04, 2.2799e-03, 2.3202e-03,  ..., 4.1353e-04, 2.9080e-04,\n",
       "          1.1582e-04]]),\n",
       " torch.Size([39, 73728]))"
      ]
     },
     "execution_count": 8,
     "metadata": {},
     "output_type": "execute_result"
    }
   ],
   "source": [
    "X_test, X_test.shape"
   ]
  },
  {
   "cell_type": "code",
   "execution_count": 9,
   "id": "1b0c6646-bb2f-478e-840a-ffacada4db0a",
   "metadata": {},
   "outputs": [
    {
     "data": {
      "text/plain": [
       "(tensor([1, 1, 1, 1, 1, 1, 1, 1, 0, 1, 1, 1, 1, 1, 1, 1, 1, 1, 1, 1, 1, 1, 1, 1,\n",
       "         1, 1, 1, 1, 1, 1, 0, 1, 1, 1, 1, 1, 1, 1, 0, 1, 1, 1, 1, 1, 1, 1, 1, 1,\n",
       "         1, 1, 1, 1, 1, 1, 1, 1, 1, 0, 1, 1, 1, 1, 1, 1, 1, 1, 1, 1, 1, 0, 1, 0,\n",
       "         1, 1, 1, 1, 1, 1, 1, 1, 1, 1, 1, 1, 1, 0, 1, 1, 1, 1, 1, 1, 1, 1, 1, 1,\n",
       "         1, 1, 0, 1, 1, 1, 1, 1, 1, 1, 1, 1, 1, 1, 1, 1, 1, 1, 1, 1, 1, 1, 1, 1,\n",
       "         1, 1, 1, 1, 0, 1, 1, 1, 1, 1, 1, 0, 1, 1, 1, 0, 1, 1, 1, 1, 1, 1, 1, 1,\n",
       "         1, 1, 1, 0, 1, 0, 1, 1, 1, 1, 0, 1]),\n",
       " torch.Size([156]))"
      ]
     },
     "execution_count": 9,
     "metadata": {},
     "output_type": "execute_result"
    }
   ],
   "source": [
    "y_train, y_train.shape"
   ]
  },
  {
   "cell_type": "code",
   "execution_count": 10,
   "id": "21a9dfb7-81f4-46a7-81a0-e6c89a948926",
   "metadata": {},
   "outputs": [
    {
     "data": {
      "text/plain": [
       "(tensor([1, 1, 1, 1, 1, 1, 1, 1, 1, 1, 0, 1, 1, 1, 1, 1, 1, 1, 0, 1, 1, 1, 1, 1,\n",
       "         1, 1, 1, 1, 1, 1, 1, 1, 1, 1, 1, 1, 1, 1, 1]),\n",
       " torch.Size([39]))"
      ]
     },
     "execution_count": 10,
     "metadata": {},
     "output_type": "execute_result"
    }
   ],
   "source": [
    "y_test, y_test.shape"
   ]
  },
  {
   "cell_type": "code",
   "execution_count": null,
   "id": "eb0c10db-94dc-416e-9b55-dbac17789351",
   "metadata": {},
   "outputs": [],
   "source": []
  }
 ],
 "metadata": {
  "kernelspec": {
   "display_name": "Python 3 (ipykernel)",
   "language": "python",
   "name": "python3"
  },
  "language_info": {
   "codemirror_mode": {
    "name": "ipython",
    "version": 3
   },
   "file_extension": ".py",
   "mimetype": "text/x-python",
   "name": "python",
   "nbconvert_exporter": "python",
   "pygments_lexer": "ipython3",
   "version": "3.12.3"
  }
 },
 "nbformat": 4,
 "nbformat_minor": 5
}
