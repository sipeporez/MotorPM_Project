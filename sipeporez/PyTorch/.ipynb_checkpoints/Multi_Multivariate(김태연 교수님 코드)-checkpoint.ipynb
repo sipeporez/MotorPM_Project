{
 "cells": [
  {
   "cell_type": "code",
   "execution_count": 2,
   "id": "68f00b65-a0f2-4a06-ba80-5105522b0b17",
   "metadata": {},
   "outputs": [
    {
     "name": "stdout",
     "output_type": "stream",
     "text": [
      "   vel_crest_factor_x     rms_x  vel_kurtosis_y  vel_kurtosis_z  \\\n",
      "0             3.17691  0.016531        0.238311       -0.194781   \n",
      "1             3.02361  0.163692       -0.332250       -0.207113   \n",
      "2             3.48348  0.012110        0.134024        0.313288   \n",
      "3             3.15218  0.011488       -0.642477       -0.035853   \n",
      "4             3.13313  0.180281       -0.224277       -0.048955   \n",
      "\n",
      "   vel_crest_factor_y  \n",
      "0             3.07878  \n",
      "1             3.06249  \n",
      "2             3.35456  \n",
      "3             2.62286  \n",
      "4             3.47616  \n",
      "   imbalance_health\n",
      "0          0.924009\n",
      "1          0.924009\n",
      "2          0.924009\n",
      "3          0.924009\n",
      "4          0.924009\n"
     ]
    }
   ],
   "source": [
    "import numpy as np\n",
    "import pandas as pd\n",
    "import torch\n",
    "import torch.nn as nn\n",
    "import matplotlib.pyplot as plt\n",
    "\n",
    "from sklearn.preprocessing import MinMaxScaler\n",
    "from torch.utils.data import DataLoader, TensorDataset\n",
    "import tqdm.notebook as tqdm\n",
    "\n",
    "data = pd.read_csv(\"data/random_test/5528_data.csv\")\n",
    "data = data.dropna()\n",
    "data.sort_values('created_at')\n",
    "\n",
    "# Use multi features for multivariate modeling\n",
    "target = data[['imbalance_health']]\n",
    "data = data[['vel_crest_factor_x','rms_x','vel_kurtosis_y','vel_kurtosis_z','vel_crest_factor_y']]\n",
    "\n",
    "# Show the head of the data\n",
    "print(data.head())\n",
    "print(target.head())"
   ]
  },
  {
   "cell_type": "code",
   "execution_count": 3,
   "id": "99c7be36-b938-4eae-bb5d-224c282f8270",
   "metadata": {},
   "outputs": [],
   "source": [
    "# Normalize the entire dataset (all features)\n",
    "scaler = MinMaxScaler()\n",
    "data_scaled = scaler.fit_transform(data.values)\n",
    "\n",
    "# Target column (Close) for comparison\n",
    "target_scaler = MinMaxScaler()\n",
    "target_scaled = target_scaler.fit_transform(target.values)"
   ]
  },
  {
   "cell_type": "code",
   "execution_count": 4,
   "id": "e3597a36-3b59-4f79-a6da-5ec51fd09bff",
   "metadata": {},
   "outputs": [
    {
     "data": {
      "text/plain": [
       "(numpy.ndarray, (2515, 5))"
      ]
     },
     "execution_count": 4,
     "metadata": {},
     "output_type": "execute_result"
    }
   ],
   "source": [
    "type(data_scaled), data_scaled.shape"
   ]
  },
  {
   "cell_type": "code",
   "execution_count": 5,
   "id": "5f5b8305-0e67-468a-b6c7-a465dfb7d879",
   "metadata": {},
   "outputs": [
    {
     "data": {
      "text/plain": [
       "(numpy.ndarray, (2515, 1))"
      ]
     },
     "execution_count": 5,
     "metadata": {},
     "output_type": "execute_result"
    }
   ],
   "source": [
    "type(target_scaled), target_scaled.shape"
   ]
  },
  {
   "cell_type": "code",
   "execution_count": 9,
   "id": "f0f4d27a-c3d1-4ad0-ae5a-83fa734b76c5",
   "metadata": {},
   "outputs": [],
   "source": [
    "# Create sequences for training and testing\n",
    "def create_sequences_multivariate(data, target, seq_length):\n",
    "    sequences = []\n",
    "    for i in range(len(data) - seq_length):\n",
    "        seq = data[i:i + seq_length]\n",
    "        label = target[i + seq_length]\n",
    "        sequences.append((seq, label))\n",
    "    return sequences\n",
    "    \n",
    "SEQ_LENGTH = 30  # Use the past 12 sequence to predict the one day\n",
    "sequences = create_sequences_multivariate(data_scaled, target_scaled, SEQ_LENGTH)"
   ]
  },
  {
   "cell_type": "code",
   "execution_count": 10,
   "id": "d08d492b-c2ff-424d-8bfc-77efc1924801",
   "metadata": {},
   "outputs": [
    {
     "data": {
      "text/plain": [
       "(list, list)"
      ]
     },
     "execution_count": 10,
     "metadata": {},
     "output_type": "execute_result"
    }
   ],
   "source": [
    "# Split into training and testing datasets (80% train, 20% test)\n",
    "train_size = int(len(sequences) * 0.8)\n",
    "train_sequences = sequences[:train_size]\n",
    "test_sequences = sequences[train_size:]\n",
    "\n",
    "type(train_sequences), type(test_sequences)"
   ]
  },
  {
   "cell_type": "code",
   "execution_count": 11,
   "id": "075434c9-105c-4fb8-be23-7fa36f540cc6",
   "metadata": {},
   "outputs": [],
   "source": [
    "# Unpack the sequences into separate tensors for features and labels\n",
    "train_sequences_features = [seq for seq, label in train_sequences]\n",
    "train_sequences_labels = [label for seq, label in train_sequences]\n",
    "\n",
    "test_sequences_features = [seq for seq, label in test_sequences]\n",
    "test_sequences_labels = [label for seq, label in test_sequences]\n",
    "\n",
    " # Convert lists to tensors and reshape\n",
    "train_features_tensor = torch.stack([torch.Tensor(x) for x in train_sequences_features])\n",
    "train_labels_tensor = torch.stack([torch.Tensor(x) for x in train_sequences_labels])\n",
    "\n",
    "test_features_tensor = torch.stack([torch.Tensor(x) for x in test_sequences_features])\n",
    "test_labels_tensor = torch.stack([torch.Tensor(x) for x in test_sequences_labels])"
   ]
  },
  {
   "cell_type": "code",
   "execution_count": 12,
   "id": "f888cad9-9b81-4a8d-b872-4194d1ff04a6",
   "metadata": {},
   "outputs": [],
   "source": [
    "# Create TensorDatasets for training and testing\n",
    "train_dataset = TensorDataset(train_features_tensor, train_labels_tensor)\n",
    "test_dataset = TensorDataset(test_features_tensor, test_labels_tensor)\n",
    "\n",
    "# Create DataLoaders for training and testing datasets\n",
    "train_loader = DataLoader(dataset=train_dataset, batch_size=12, shuffle=True)\n",
    "test_loader = DataLoader(dataset=test_dataset, batch_size=12, shuffle=False)"
   ]
  },
  {
   "cell_type": "code",
   "execution_count": 13,
   "id": "1c6006d6-9729-41e0-b758-cc4c8972ec35",
   "metadata": {},
   "outputs": [],
   "source": [
    "# Step 3: Build the Multivariate LSTM Model\n",
    "class MultivariateLSTMModel(nn.Module):\n",
    "    def __init__(self, input_size=5, hidden_layer_size=100, output_size=1):\n",
    "        super(MultivariateLSTMModel, self).__init__()\n",
    "        self.hidden_layer_size = hidden_layer_size\n",
    "        self.lstm = nn.LSTM(input_size, hidden_layer_size, batch_first=True)\n",
    "        self.linear = nn.Linear(hidden_layer_size, output_size)\n",
    "\n",
    "    def forward(self, input_seq):\n",
    "        lstm_out, _ = self.lstm(input_seq)\n",
    "        predictions = self.linear(lstm_out[:, -1, :])  # Use the output from the last time step\n",
    "        return predictions"
   ]
  },
  {
   "cell_type": "code",
   "execution_count": 35,
   "id": "3b910c6b-f1f4-4e6b-a1d7-f4236d034ac3",
   "metadata": {},
   "outputs": [],
   "source": [
    "import torch\n",
    "import torch.nn as nn\n",
    "\n",
    "def train_model(model, train_loader, epochs=10, lr=0.001, device='cpu', save_path='best_model.pth'):\n",
    "    model.to(device)\n",
    "    loss_function = nn.MSELoss()\n",
    "    optimizer = torch.optim.Adam(model.parameters(), lr=lr)\n",
    "\n",
    "    model.train()\n",
    "    min_loss = float('inf')  # Initialize min_loss to infinity\n",
    "    for epoch in range(epochs):\n",
    "        epoch_loss = 0\n",
    "        for seq, labels in train_loader:\n",
    "            seq = seq.to(device)\n",
    "            labels = labels.to(device)\n",
    "\n",
    "            optimizer.zero_grad()\n",
    "\n",
    "            y_pred = model(seq)\n",
    "            loss = loss_function(y_pred, labels)\n",
    "            loss.backward()\n",
    "            optimizer.step()\n",
    "\n",
    "            epoch_loss += loss.item()\n",
    "\n",
    "        average_loss = epoch_loss / len(train_loader)\n",
    "        if (epoch+1) % 50 == 0 :\n",
    "            print(f'Epoch {epoch+1}/{epochs}, Loss: {average_loss:.6f}')\n",
    "\n",
    "        # Check if the current average loss is less than the minimum loss\n",
    "        if average_loss < min_loss:\n",
    "            min_loss = average_loss\n",
    "            torch.save(model.state_dict(), save_path)  # Save the model with the lowest loss\n",
    "            print(f'Saved model with lowest loss: {min_loss:.6f}')"
   ]
  },
  {
   "cell_type": "code",
   "execution_count": 36,
   "id": "b5689e9b-b589-4f91-a397-b97abd309495",
   "metadata": {},
   "outputs": [],
   "source": [
    "# Step 5: Evaluate the Model\n",
    "def evaluate_model(model, test_loader, target_scaler, model_path='best_model.pth', device='cpu'):\n",
    "    # Load the model parameters\n",
    "    model.load_state_dict(torch.load(model_path))\n",
    "    model.to(device)\n",
    "    model.eval()\n",
    "\n",
    "    predictions = []\n",
    "    actuals = []\n",
    "\n",
    "    with torch.no_grad():\n",
    "        for seq, labels in test_loader:\n",
    "            seq = seq.to(device)\n",
    "            labels = labels.to(device)\n",
    "\n",
    "            y_pred = model(seq)\n",
    "            predictions.append(y_pred.cpu().numpy())\n",
    "            actuals.append(labels.cpu().numpy())\n",
    "\n",
    "    # Concatenate all batches\n",
    "    predictions = np.concatenate(predictions, axis=0)\n",
    "    actuals = np.concatenate(actuals, axis=0)\n",
    "\n",
    "    # Inverse transform to original scale\n",
    "    predictions = target_scaler.inverse_transform(predictions)\n",
    "    actuals = target_scaler.inverse_transform(actuals)\n",
    "\n",
    "    return predictions, actuals\n"
   ]
  },
  {
   "cell_type": "code",
   "execution_count": 37,
   "id": "4688cbff-9531-4055-a650-663a0c40960b",
   "metadata": {},
   "outputs": [],
   "source": [
    "def plot_predictions(predictions, actuals, num_plots=100):\n",
    "    plt.figure(figsize=(12,6))\n",
    "    plt.plot(actuals[:num_plots], label='Actual Value', color='blue')\n",
    "    plt.plot(predictions[:num_plots], label='Predicted Value', color='red')\n",
    "    plt.title(f'{data.columns.tolist()} Prediction')\n",
    "    plt.xlabel('Time')\n",
    "    plt.ylabel('Value')\n",
    "    plt.legend()\n",
    "    plt.show()"
   ]
  },
  {
   "cell_type": "code",
   "execution_count": 38,
   "id": "4fe94f10-9f31-4a3b-bddc-54e90eaa0686",
   "metadata": {},
   "outputs": [
    {
     "name": "stdout",
     "output_type": "stream",
     "text": [
      "Using device: cuda\n",
      "Multivariate data preprocessing completed.\n",
      "Multivariate model initialized.\n"
     ]
    }
   ],
   "source": [
    "epochs = 500\n",
    "lr = 0.001\n",
    "device = torch.device(\"cuda\" if torch.cuda.is_available() else \"cpu\")\n",
    "print(f'Using device: {device}')\n",
    "\n",
    "# Preprocess Data for Multivariate Model\n",
    "scaler_multi, target_scaler_multi, train_loader_multi, test_loader_multi = scaler, target_scaler, train_loader, test_loader\n",
    "print(\"Multivariate data preprocessing completed.\")\n",
    "\n",
    "# Initialize the Multivariate Model\n",
    "multivariate_model = MultivariateLSTMModel(input_size=5)  # Input size is 5 (Open, High, Low, Close, Volume)\n",
    "print(\"Multivariate model initialized.\")"
   ]
  },
  {
   "cell_type": "code",
   "execution_count": 39,
   "id": "a9ef4d07-6672-4880-a254-6bc28b33e59b",
   "metadata": {},
   "outputs": [
    {
     "name": "stdout",
     "output_type": "stream",
     "text": [
      "Starting multivariate model training...\n",
      "Saved model with lowest loss: 0.056082\n",
      "Saved model with lowest loss: 0.015586\n",
      "Saved model with lowest loss: 0.015426\n",
      "Saved model with lowest loss: 0.015021\n",
      "Saved model with lowest loss: 0.014987\n",
      "Saved model with lowest loss: 0.014970\n",
      "Saved model with lowest loss: 0.014886\n",
      "Saved model with lowest loss: 0.014788\n",
      "Saved model with lowest loss: 0.014655\n",
      "Saved model with lowest loss: 0.014653\n",
      "Saved model with lowest loss: 0.014626\n",
      "Saved model with lowest loss: 0.014612\n",
      "Saved model with lowest loss: 0.014513\n",
      "Saved model with lowest loss: 0.014419\n",
      "Saved model with lowest loss: 0.014361\n",
      "Saved model with lowest loss: 0.014261\n",
      "Saved model with lowest loss: 0.014225\n",
      "Saved model with lowest loss: 0.014143\n",
      "Saved model with lowest loss: 0.014082\n",
      "Saved model with lowest loss: 0.013953\n",
      "Saved model with lowest loss: 0.013745\n",
      "Saved model with lowest loss: 0.013671\n",
      "Saved model with lowest loss: 0.013514\n",
      "Saved model with lowest loss: 0.013099\n",
      "Saved model with lowest loss: 0.012599\n",
      "Saved model with lowest loss: 0.011983\n",
      "Saved model with lowest loss: 0.011443\n",
      "Saved model with lowest loss: 0.011375\n",
      "Saved model with lowest loss: 0.010832\n",
      "Saved model with lowest loss: 0.010366\n",
      "Saved model with lowest loss: 0.009907\n",
      "Saved model with lowest loss: 0.009875\n",
      "Saved model with lowest loss: 0.009264\n",
      "Saved model with lowest loss: 0.008896\n",
      "Saved model with lowest loss: 0.008437\n",
      "Saved model with lowest loss: 0.008219\n",
      "Saved model with lowest loss: 0.007923\n",
      "Saved model with lowest loss: 0.007591\n",
      "Saved model with lowest loss: 0.007326\n",
      "Saved model with lowest loss: 0.006391\n",
      "Saved model with lowest loss: 0.006192\n",
      "Saved model with lowest loss: 0.005546\n",
      "Saved model with lowest loss: 0.005332\n",
      "Saved model with lowest loss: 0.005264\n",
      "Saved model with lowest loss: 0.004882\n",
      "Saved model with lowest loss: 0.004814\n",
      "Saved model with lowest loss: 0.004683\n",
      "Saved model with lowest loss: 0.004679\n",
      "Saved model with lowest loss: 0.004270\n",
      "Saved model with lowest loss: 0.003993\n",
      "Saved model with lowest loss: 0.003936\n",
      "Saved model with lowest loss: 0.003798\n",
      "Saved model with lowest loss: 0.003557\n",
      "Saved model with lowest loss: 0.003502\n",
      "Saved model with lowest loss: 0.003349\n",
      "Saved model with lowest loss: 0.003200\n",
      "Saved model with lowest loss: 0.002986\n",
      "Saved model with lowest loss: 0.002975\n",
      "Saved model with lowest loss: 0.002945\n",
      "Saved model with lowest loss: 0.002701\n",
      "Saved model with lowest loss: 0.002456\n",
      "Saved model with lowest loss: 0.002041\n",
      "Saved model with lowest loss: 0.002027\n",
      "Saved model with lowest loss: 0.001885\n",
      "Saved model with lowest loss: 0.001827\n",
      "Saved model with lowest loss: 0.001692\n",
      "Saved model with lowest loss: 0.001653\n",
      "Saved model with lowest loss: 0.001603\n",
      "Saved model with lowest loss: 0.001354\n",
      "Saved model with lowest loss: 0.001286\n",
      "Saved model with lowest loss: 0.001249\n",
      "Saved model with lowest loss: 0.001146\n",
      "Saved model with lowest loss: 0.001089\n",
      "Saved model with lowest loss: 0.001076\n",
      "Saved model with lowest loss: 0.001030\n",
      "Saved model with lowest loss: 0.000927\n",
      "Saved model with lowest loss: 0.000846\n",
      "Saved model with lowest loss: 0.000733\n",
      "Saved model with lowest loss: 0.000700\n",
      "Saved model with lowest loss: 0.000612\n",
      "Saved model with lowest loss: 0.000555\n",
      "Saved model with lowest loss: 0.000542\n",
      "Saved model with lowest loss: 0.000462\n",
      "Saved model with lowest loss: 0.000448\n",
      "Saved model with lowest loss: 0.000426\n",
      "Saved model with lowest loss: 0.000378\n",
      "Saved model with lowest loss: 0.000355\n",
      "Saved model with lowest loss: 0.000311\n",
      "Saved model with lowest loss: 0.000294\n",
      "Saved model with lowest loss: 0.000257\n",
      "Saved model with lowest loss: 0.000253\n",
      "Saved model with lowest loss: 0.000248\n",
      "Saved model with lowest loss: 0.000210\n",
      "Saved model with lowest loss: 0.000201\n",
      "Saved model with lowest loss: 0.000200\n",
      "Saved model with lowest loss: 0.000199\n",
      "Saved model with lowest loss: 0.000163\n",
      "Saved model with lowest loss: 0.000156\n",
      "Saved model with lowest loss: 0.000131\n",
      "Saved model with lowest loss: 0.000128\n",
      "Saved model with lowest loss: 0.000125\n",
      "Saved model with lowest loss: 0.000079\n",
      "Saved model with lowest loss: 0.000063\n",
      "Saved model with lowest loss: 0.000063\n",
      "Saved model with lowest loss: 0.000050\n",
      "Saved model with lowest loss: 0.000035\n",
      "Saved model with lowest loss: 0.000035\n",
      "Saved model with lowest loss: 0.000026\n",
      "Saved model with lowest loss: 0.000021\n",
      "Saved model with lowest loss: 0.000019\n",
      "Saved model with lowest loss: 0.000018\n",
      "Saved model with lowest loss: 0.000017\n",
      "Saved model with lowest loss: 0.000015\n",
      "Saved model with lowest loss: 0.000013\n",
      "Multivariate model training completed.\n"
     ]
    }
   ],
   "source": [
    "# Train the Multivariate Model\n",
    "print(\"Starting multivariate model training...\")\n",
    "train_model(multivariate_model, train_loader_multi, epochs, lr, device)\n",
    "print(\"Multivariate model training completed.\")"
   ]
  },
  {
   "cell_type": "code",
   "execution_count": 19,
   "id": "58957ee1-eb1f-4961-90a2-781cf69e4c58",
   "metadata": {},
   "outputs": [
    {
     "name": "stdout",
     "output_type": "stream",
     "text": [
      "Evaluating the multivariate model...\n",
      "Multivariate model evaluation completed.\n",
      "Plotting the results...\n"
     ]
    },
    {
     "data": {
      "image/png": "[encoded data removed]",
      "text/plain": [
       "<Figure size 1200x600 with 1 Axes>"
      ]
     },
     "metadata": {},
     "output_type": "display_data"
    }
   ],
   "source": [
    "# Evaluate the Multivariate Model\n",
    "print(\"Evaluating the multivariate model...\")\n",
    "predictions_multi, actuals_multi = evaluate_model(multivariate_model, test_loader_multi, target_scaler_multi, device)\n",
    "print(\"Multivariate model evaluation completed.\")\n",
    "print(\"Plotting the results...\")\n",
    "plot_predictions(predictions_multi, actuals_multi, num_plots=5000)"
   ]
  },
  {
   "cell_type": "code",
   "execution_count": null,
   "id": "96ca2118-4556-40d1-bdf2-30990588d983",
   "metadata": {},
   "outputs": [],
   "source": []
  },
  {
   "cell_type": "code",
   "execution_count": null,
   "id": "274d2d4c-e9e9-4177-983c-9e60d6b1fc06",
   "metadata": {},
   "outputs": [],
   "source": []
  }
 ],
 "metadata": {
  "kernelspec": {
   "display_name": "Python 3 (ipykernel)",
   "language": "python",
   "name": "python3"
  },
  "language_info": {
   "codemirror_mode": {
    "name": "ipython",
    "version": 3
   },
   "file_extension": ".py",
   "mimetype": "text/x-python",
   "name": "python",
   "nbconvert_exporter": "python",
   "pygments_lexer": "ipython3",
   "version": "3.12.3"
  }
 },
 "nbformat": 4,
 "nbformat_minor": 5
}
