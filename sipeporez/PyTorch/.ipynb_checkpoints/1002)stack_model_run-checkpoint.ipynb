{
 "cells": [
  {
   "cell_type": "code",
   "execution_count": 1,
   "id": "002798bc-da34-40c5-998d-dc737ef47b95",
   "metadata": {},
   "outputs": [],
   "source": [
    "import pandas as pd\n",
    "import numpy as np \n",
    "import matplotlib.pyplot as plt\n",
    "import seaborn as sns\n",
    "import torch\n",
    "import torch.nn as nn\n",
    "import os\n",
    "from itertools import chain\n",
    "import torch.optim as optim\n",
    "from torch.utils.data import DataLoader, TensorDataset\n",
    "# import transform_fns as trans\n",
    "import pdm_functions as fns\n",
    "import tensor_vstack as pfns\n",
    "from sklearn.metrics import precision_score, recall_score, f1_score, confusion_matrix\n",
    "from scipy.stats import gaussian_kde\n",
    "\n",
    "import pickle\n",
    "from tqdm.notebook import tqdm\n"
   ]
  },
  {
   "cell_type": "code",
   "execution_count": 2,
   "id": "bae789f6-40e0-4416-afc4-cab991c7a243",
   "metadata": {},
   "outputs": [
    {
     "name": "stderr",
     "output_type": "stream",
     "text": [
      "C:\\Users\\user\\AppData\\Local\\Temp\\ipykernel_5556\\926444196.py:1: FutureWarning: You are using `torch.load` with `weights_only=False` (the current default value), which uses the default pickle module implicitly. It is possible to construct malicious pickle data which will execute arbitrary code during unpickling (See https://github.com/pytorch/pytorch/blob/main/SECURITY.md#untrusted-models for more details). In a future release, the default value for `weights_only` will be flipped to `True`. This limits the functions that could be executed during unpickling. Arbitrary objects will no longer be allowed to be loaded via this mode unless they are explicitly allowlisted by the user via `torch.serialization.add_safe_globals`. We recommend you start setting `weights_only=True` for any use case where you don't have full control of the loaded file. Please open an issue on GitHub for any issues related to this experimental feature.\n",
      "  data_stacked = torch.load('data/train_data_stacked.pt')\n"
     ]
    }
   ],
   "source": [
    "data_stacked = torch.load('data/train_data_stacked.pt')"
   ]
  },
  {
   "cell_type": "code",
   "execution_count": 4,
   "id": "85be1ed7-22b0-4292-8f59-dbefba8429ca",
   "metadata": {},
   "outputs": [],
   "source": [
    "# import os\n",
    "# os.environ['CUDA_LAUNCH_BLOCKING'] = '1'"
   ]
  },
  {
   "cell_type": "code",
   "execution_count": 5,
   "id": "8a403d31-1bd4-4e75-9788-31c7e99faee7",
   "metadata": {},
   "outputs": [],
   "source": [
    "# data_stacked = torch.load('data/train_set_for_model_structure.pt', weights_only=True)"
   ]
  },
  {
   "cell_type": "code",
   "execution_count": 3,
   "id": "7582060f-e913-4281-8a41-e66bbc9dcff1",
   "metadata": {},
   "outputs": [],
   "source": [
    "data_stacked_test = torch.load('data/test_data_stacked.pt', weights_only=True)"
   ]
  },
  {
   "cell_type": "code",
   "execution_count": 4,
   "id": "8ee10396-3f4e-4b8f-b741-44ee6d5bf24c",
   "metadata": {},
   "outputs": [],
   "source": [
    "data_stacked_dev = torch.load('data/dev_data_stacked.pt', weights_only=True)"
   ]
  },
  {
   "cell_type": "code",
   "execution_count": 5,
   "id": "5a7650a1-b94b-4998-b58d-d47589f3ef22",
   "metadata": {},
   "outputs": [],
   "source": [
    "X_train = data_stacked['X_train_stacked'][35000:40000]\n",
    "y_train = data_stacked['y_train_stacked'][35000:40000]"
   ]
  },
  {
   "cell_type": "markdown",
   "id": "01a295e3-feaa-43d1-b0f0-3f1c7393dd85",
   "metadata": {},
   "source": [
    "## 라벨이 0인 값 제거(Autoencoder 학습용 정상 데이터만 추출)"
   ]
  },
  {
   "cell_type": "code",
   "execution_count": 9,
   "id": "b63d5ffd-0f97-45af-b277-1f736c496878",
   "metadata": {},
   "outputs": [],
   "source": [
    "# # 1이 아닌 인덱스 찾기\n",
    "# indices = torch.nonzero(y_train != 1).squeeze()\n",
    "\n",
    "# # Boolean 마스크 생성\n",
    "# mask = torch.ones(y_train.size(0), dtype=torch.bool)\n",
    "# mask[indices] = False\n",
    "\n",
    "# # 마스크를 사용하여 X_train과 y_train 필터링\n",
    "# X_train = X_train[mask]\n",
    "# y_train = y_train[mask]"
   ]
  },
  {
   "cell_type": "code",
   "execution_count": 6,
   "id": "52189634-0253-495d-b8a7-6257de211163",
   "metadata": {},
   "outputs": [
    {
     "data": {
      "text/plain": [
       "(torch.Size([5000, 1, 36, 2048]), torch.Size([5000]))"
      ]
     },
     "execution_count": 6,
     "metadata": {},
     "output_type": "execute_result"
    }
   ],
   "source": [
    "X_train = data_stacked['X_train_stacked'][35000:40000]\n",
    "y_train = data_stacked['y_train_stacked'][35000:40000]\n",
    "# X_train = data_stacked['X_train_stacked']\n",
    "# y_train = data_stacked['y_train_stacked']\n",
    "# X_train = data_stacked['X_train_for_model_structure']\n",
    "# y_train = data_stacked['y_train_for_model_structure']\n",
    "X_train.shape, y_train.shape"
   ]
  },
  {
   "cell_type": "code",
   "execution_count": 7,
   "id": "0827005e-2479-4e3d-aad3-d16eb7264e7e",
   "metadata": {},
   "outputs": [
    {
     "data": {
      "text/plain": [
       "(410, 4590)"
      ]
     },
     "execution_count": 7,
     "metadata": {},
     "output_type": "execute_result"
    }
   ],
   "source": [
    "len(y_train[y_train == 0]), len(y_train[y_train != 0])"
   ]
  },
  {
   "cell_type": "code",
   "execution_count": 8,
   "id": "13d568a0-d004-41ee-8ed1-395fe0cfbcc3",
   "metadata": {},
   "outputs": [
    {
     "data": {
      "text/plain": [
       "(torch.Size([37, 1, 36, 2048]), torch.Size([37]))"
      ]
     },
     "execution_count": 8,
     "metadata": {},
     "output_type": "execute_result"
    }
   ],
   "source": [
    "X_test = data_stacked_test['X_test_stacked']\n",
    "y_test = data_stacked_test['y_test_stacked']\n",
    "X_test.shape, y_test.shape"
   ]
  },
  {
   "cell_type": "code",
   "execution_count": 9,
   "id": "32c0909b-2451-4417-995d-588ba842a9db",
   "metadata": {},
   "outputs": [
    {
     "data": {
      "text/plain": [
       "(torch.Size([37, 1, 36, 2048]), torch.Size([37]))"
      ]
     },
     "execution_count": 9,
     "metadata": {},
     "output_type": "execute_result"
    }
   ],
   "source": [
    "X_dev = data_stacked_dev['X_dev_stacked']\n",
    "y_dev = data_stacked_dev['y_dev_stacked']\n",
    "X_dev.shape, y_dev.shape"
   ]
  },
  {
   "cell_type": "code",
   "execution_count": 14,
   "id": "c22fc987-38f2-4609-bf0d-8d501dcaa6aa",
   "metadata": {},
   "outputs": [],
   "source": [
    "# data = pfns.PostProcessing('data/5528_droped_data.csv', 'cls') "
   ]
  },
  {
   "cell_type": "code",
   "execution_count": 15,
   "id": "125cdf02-daad-43b5-a683-fb4305e89e75",
   "metadata": {},
   "outputs": [],
   "source": [
    "# X_train, y_train = data[0][0], data[0][1]\n",
    "# X_test, y_test = data[1][0], data[1][1]\n",
    "# X_dev, y_dev = data[2][0], data[2][1]\n",
    "# X_train.shape, y_train.shape"
   ]
  },
  {
   "cell_type": "code",
   "execution_count": 16,
   "id": "7b7d5b22-3f20-4813-80e0-50bda1d229e1",
   "metadata": {},
   "outputs": [],
   "source": [
    "# X_train =  data[0][0].reshape(121, 12, 3, 2048)\n",
    "# X_train2 =  data[0][0].reshape(121, 36, 2048)\n",
    "\n",
    "# X_dev =  data[2][0].reshape(37, 12, 3, 2048)\n",
    "# X_dev2 =  data[2][0].reshape(37, 36, 2048)"
   ]
  },
  {
   "cell_type": "markdown",
   "id": "10685495-ef63-4ce8-9322-4750d1bcd17b",
   "metadata": {},
   "source": [
    "## 모델 shape 바꿔서 넣어보기 (3차원, 2차원)"
   ]
  },
  {
   "cell_type": "code",
   "execution_count": 17,
   "id": "df33e401-f0bf-49bf-84ce-c82e3711510e",
   "metadata": {},
   "outputs": [],
   "source": [
    "# X_train.shape"
   ]
  },
  {
   "cell_type": "code",
   "execution_count": 18,
   "id": "d29a90fc-0f8a-42df-830a-a07bc37de887",
   "metadata": {},
   "outputs": [],
   "source": [
    "# X_train2.shape"
   ]
  },
  {
   "cell_type": "code",
   "execution_count": 19,
   "id": "ad454d66-6ff3-49f1-a2aa-ec28e433796c",
   "metadata": {},
   "outputs": [],
   "source": [
    "# X_train_stacked = X_train\n",
    "# X_train_stacked2 = X_train2\n",
    "# y_train_stacked = y_train_stacked2 = y_train\n",
    "\n",
    "# X_dev_stacked = X_dev\n",
    "# X_dev_stacked2 = X_dev2\n",
    "# y_dev_stacked = y_dev_stakced2 = y_dev\n"
   ]
  },
  {
   "cell_type": "markdown",
   "id": "b71b3cec-2d7b-48b2-9a59-a32a4b4a50fe",
   "metadata": {},
   "source": [
    "## 가중치 함수"
   ]
  },
  {
   "cell_type": "code",
   "execution_count": 10,
   "id": "a72ba081-e861-4b10-b842-2edb84059640",
   "metadata": {
    "scrolled": true
   },
   "outputs": [
    {
     "name": "stdout",
     "output_type": "stream",
     "text": [
      "torch.Size([2048]) torch.Size([2048]) torch.Size([2048]) torch.Size([3, 2048])\n"
     ]
    }
   ],
   "source": [
    "file_path='data/weight/5520_spectrum_x_weights.pkl'\n",
    "with open(file_path, 'rb') as f: \n",
    "    data = pickle.load(f)\n",
    "wf_x = torch.tensor(data)\n",
    "\n",
    "file_path='data/weight/5520_spectrum_y_weights.pkl'\n",
    "with open(file_path, 'rb') as f: \n",
    "    data = pickle.load(f)\n",
    "wf_y = torch.tensor(data)\n",
    "\n",
    "file_path='data/weight/5520_spectrum_z_weights.pkl'\n",
    "with open(file_path, 'rb') as f: \n",
    "    data = pickle.load(f)\n",
    "wf_z = torch.tensor(data)\n",
    "\n",
    "wf_xyz = torch.stack((wf_x, wf_y, wf_z))\n",
    "print(wf_x.shape, wf_y.shape, wf_z.shape, wf_xyz.shape)"
   ]
  },
  {
   "cell_type": "markdown",
   "id": "7c8836a5-82c6-4032-97f0-cda662051f31",
   "metadata": {},
   "source": [
    "## 가중치 함수 브로드 캐스팅"
   ]
  },
  {
   "cell_type": "code",
   "execution_count": 11,
   "id": "80693c59-175d-4347-aef1-9a01e136e443",
   "metadata": {},
   "outputs": [],
   "source": [
    "# X_train_stacked = X_train * wf_xyz.reshape(1, 1, 3, 2048)\n",
    "# X_dev_stacked = X_dev_stacked * wf_xyz.reshape(1, 1, 3, 2048)"
   ]
  },
  {
   "cell_type": "code",
   "execution_count": 12,
   "id": "5aad18f1-d70e-4938-861a-d653c0679e4b",
   "metadata": {},
   "outputs": [],
   "source": [
    "wf_broadcast = 100000"
   ]
  },
  {
   "cell_type": "code",
   "execution_count": 13,
   "id": "d48dd457-3de1-4aa8-ad5a-bdfa287bfa87",
   "metadata": {},
   "outputs": [],
   "source": [
    "X_train_stacked = X_train * wf_xyz.repeat(12, 1) * wf_broadcast\n",
    "X_dev_stacked = X_dev * wf_xyz.repeat(12, 1) * wf_broadcast\n",
    "X_test_stacked = X_test * wf_xyz.repeat(12, 1) * wf_broadcast\n",
    "# X_dev_stacked2 = X_dev_stacked2 * wf_xyz.repeat(12, 1)"
   ]
  },
  {
   "cell_type": "code",
   "execution_count": 14,
   "id": "796a1e49-013e-4fc0-9075-043a9d5faa4e",
   "metadata": {},
   "outputs": [
    {
     "data": {
      "text/plain": [
       "<Axes: >"
      ]
     },
     "execution_count": 14,
     "metadata": {},
     "output_type": "execute_result"
    },
    {
     "data": {
      "image/png": "[encoded data removed]",
      "text/plain": [
       "<Figure size 640x480 with 1 Axes>"
      ]
     },
     "metadata": {},
     "output_type": "display_data"
    }
   ],
   "source": [
    "sns.lineplot(X_train_stacked[0][0][0])"
   ]
  },
  {
   "cell_type": "code",
   "execution_count": 27,
   "id": "59697cae-b0a2-4b9e-b595-1b4a7b29e67e",
   "metadata": {},
   "outputs": [],
   "source": [
    "# X_train_stacked = X_train_stacked.to(torch.float32)\n",
    "# X_train_stacked2 = X_train_stacked2.to(torch.float32)\n",
    "# y_train_stacked = y_train_stacked.to(torch.float32)\n",
    "\n",
    "# X_dev_stacked = X_dev_stacked.to(torch.float32)\n",
    "# X_dev_stacked2 = X_dev_stacked2.to(torch.float32)\n",
    "# y_dev_stacked = y_dev_stacked.to(torch.float32)"
   ]
  },
  {
   "cell_type": "code",
   "execution_count": 28,
   "id": "b7aec6db-01a1-4264-835d-7fe047fc6e49",
   "metadata": {},
   "outputs": [],
   "source": [
    "# X_train_stacked.shape, X_train_stacked2.shape, y_train_stacked.shape"
   ]
  },
  {
   "cell_type": "code",
   "execution_count": 29,
   "id": "27402308-981f-4814-9876-fda781d2ab90",
   "metadata": {},
   "outputs": [],
   "source": [
    "# y_train_stacked = y_train_stacked.reshape(121, 12)\n",
    "# y_dev_stacked = y_dev_stacked.reshape(37, 12)"
   ]
  },
  {
   "cell_type": "code",
   "execution_count": 30,
   "id": "2129fa63-e8eb-4c64-a39b-023bb44afcb3",
   "metadata": {},
   "outputs": [],
   "source": [
    "# y_train_stacked = torch.tensor([y_train_stacked[i][0].item() for i in range(y_train_stacked.shape[0])])\n",
    "# y_dev_stacked = torch.tensor([y_dev_stacked[i][0].item() for i in range(y_dev_stacked.shape[0])])"
   ]
  },
  {
   "cell_type": "code",
   "execution_count": 17,
   "id": "80b50d9b-5f46-42cf-8dbb-b5a6f3db5053",
   "metadata": {},
   "outputs": [],
   "source": [
    "train_dataset = TensorDataset(X_train_stacked, y_train)\n",
    "# train_dataset2 = TensorDataset(X_train_stacked2, y_train_stacked)\n",
    "# dev_dataset = TensorDataset(X_dev_stacked, y_dev_stacked)"
   ]
  },
  {
   "cell_type": "code",
   "execution_count": 18,
   "id": "895d1b66-f2a3-4aab-ae2f-e685a52a418b",
   "metadata": {},
   "outputs": [],
   "source": [
    "test_dataset = TensorDataset(X_test_stacked, y_test)"
   ]
  },
  {
   "cell_type": "code",
   "execution_count": 19,
   "id": "3875dd20-0746-4416-b070-2984282581a3",
   "metadata": {},
   "outputs": [],
   "source": [
    "dev_dataset = TensorDataset(X_dev_stacked, y_dev)"
   ]
  },
  {
   "cell_type": "code",
   "execution_count": 20,
   "id": "3da8f56e-f95d-47b0-b655-8c13fb3736e1",
   "metadata": {},
   "outputs": [],
   "source": [
    "batch_size = 128\n",
    "\n",
    "dataloader = DataLoader(train_dataset, batch_size=batch_size , shuffle=True)\n",
    "# dataloader_train2 = DataLoader(train_dataset2, batch_size =batch_size , shuffle=True)\n",
    "# dataloader_dev = DataLoader(dev_dataset, batch_size =batch_size , shuffle=True)"
   ]
  },
  {
   "cell_type": "code",
   "execution_count": 21,
   "id": "ffad773c-7ee0-495c-bb50-0b57038693b4",
   "metadata": {},
   "outputs": [],
   "source": [
    "dataloader_test = DataLoader(test_dataset, batch_size = batch_size, shuffle=True)"
   ]
  },
  {
   "cell_type": "code",
   "execution_count": 22,
   "id": "110b2c8a-c133-43e8-bd7b-ac485394340f",
   "metadata": {},
   "outputs": [],
   "source": [
    "dataloader_dev = DataLoader(dev_dataset, batch_size=batch_size , shuffle=True)"
   ]
  },
  {
   "cell_type": "code",
   "execution_count": 23,
   "id": "ed78f125-09d7-483b-bbf8-9d2907cb15cb",
   "metadata": {},
   "outputs": [
    {
     "name": "stdout",
     "output_type": "stream",
     "text": [
      "torch.Size([37, 1, 36, 2048])\n",
      "torch.Size([37, 1, 36, 2048])\n",
      "torch.Size([128, 1, 36, 2048])\n"
     ]
    }
   ],
   "source": [
    "for x_batch, labels in dataloader_dev:\n",
    "    print(x_batch.shape)\n",
    "    break\n",
    "for x_batch, labels in dataloader_test:\n",
    "    print(x_batch.shape)\n",
    "    break\n",
    "for x_batch, labels in dataloader:\n",
    "    print(x_batch.shape)\n",
    "    break"
   ]
  },
  {
   "cell_type": "code",
   "execution_count": 38,
   "id": "40867476-bbc0-4df7-9cb0-c27a4255ce58",
   "metadata": {
    "scrolled": true
   },
   "outputs": [],
   "source": [
    "# device = torch.device(\"cuda\" if torch.cuda.is_available() else \"cpu\")\n",
    "\n",
    "# # 모델 정의\n",
    "# class BinaryClassifier(nn.Module):\n",
    "#     def __init__(self, input_size):\n",
    "#         super(BinaryClassifier, self).__init__()\n",
    "#         self.lstm = nn.LSTM(input_size=6144, hidden_size=128, num_layers=2, batch_first=True)\n",
    "#         self.fc = nn.Linear(128, 1)  # 이진 분류를 위한 출력 층\n",
    "\n",
    "#     def forward(self, x):\n",
    "#         # x: (batch_size, sequence_length, num_features, data_points)\n",
    "#         x = x.view(batch_size, 12, -1)  # (batch_size, sequence_length, num_features * data_points)\n",
    "#         lstm_out, _ = self.lstm(x)  # LSTM에 입력\n",
    "#         lstm_out = lstm_out[:, -1, :]  # 마지막 시퀀스의 출력 가져오기\n",
    "#         output = self.fc(lstm_out)  # 출력 층\n",
    "#         return torch.sigmoid(output)  # Sigmoid 활성화 함수\n",
    "\n",
    "# # 모델 인스턴스화 및 손실 함수, 옵티마이저 정의\n",
    "# model = BinaryClassifier(input_size=6144).to(device)  # input_size를 인자로 전달\n",
    "\n",
    "# criterion = nn.BCELoss()  # 이진 교차 엔트로피 손실\n",
    "# optimizer = optim.Adam(model.parameters(), lr=0.001)\n",
    "\n",
    "# # 훈련 루프 구현\n",
    "# num_epochs = 20 # 훈련 epoch 수\n",
    "\n",
    "# for epoch in range(num_epochs):\n",
    "#     for inputs, target in dataloader_train:\n",
    "#         inputs = inputs.to(device)\n",
    "#         target = target.to(device)\n",
    "        \n",
    "#         optimizer.zero_grad()  # 기울기 초기화\n",
    "#         outputs = model(inputs)  # 모델 예측\n",
    "#         loss = criterion(outputs, target.view(-1, 1))  # 손실 계산\n",
    "#         loss.backward()  # 기울기 계산\n",
    "#         optimizer.step()  # 가중치 업데이트\n",
    "\n",
    "#     print(f'Epoch [{epoch+1}/{num_epochs}], Loss: {loss.item():.4f}')\n"
   ]
  },
  {
   "cell_type": "code",
   "execution_count": 38,
   "id": "eff4d656-2b64-4508-8151-f8ce14be335f",
   "metadata": {
    "scrolled": true
   },
   "outputs": [],
   "source": [
    "# # 예측\n",
    "# model.eval()  # 모델을 평가 모드로 설정\n",
    "# predicted_labels = 0\n",
    "# # 예측 루프\n",
    "# with torch.no_grad():\n",
    "#     for inputs, _ in dataloader_dev:  # dataloader2에서 입력 데이터 가져오기\n",
    "#         inputs = inputs.to(device)  # 입력 데이터 CUDA로 이동\n",
    "        \n",
    "#         prediction = model(inputs)  # 모델 예측\n",
    "#         if (prediction > 0.5) :\n",
    "#             predicted_labels += 1 # 0.5 임계값을 기준으로 레이블 결정\n",
    "        \n",
    "#         # 예측된 레이블 출력\n",
    "#         print(f'Predicted label: {predicted_labels}')"
   ]
  },
  {
   "cell_type": "code",
   "execution_count": 39,
   "id": "e0890ded-c339-4148-9f55-b53366ad8152",
   "metadata": {},
   "outputs": [],
   "source": [
    "# learning_rate = 0.001\n",
    "# num_epochs = 20\n",
    "\n",
    "# class ReshapeAndPermute(nn.Module):\n",
    "#     def forward(self, x):\n",
    "#         # x는 (배치사이즈, 1, 36, 2048) 형태로 들어옴\n",
    "#         x = x.view(-1, 36, 2048)  # (배치사이즈, 36, 2048)로 변환\n",
    "#         print(x.shape)\n",
    "#         # x = x.permute(0, 2, 1)  # (배치사이즈, 2048, 36)로 변환\n",
    "#         print(x.shape)\n",
    "#         return x\n",
    "\n",
    "# model = nn.Sequential(\n",
    "#             ReshapeAndPermute(),\n",
    "#             nn.Conv1d(in_channels=36, out_channels=16, kernel_size=1)  ,  # First Conv Layer\n",
    "#             nn.Conv1d(in_channels=16, out_channels=32, kernel_size=1) ,  # Second Conv Layer\n",
    "#             nn.Conv1d(in_channels=32, out_channels=64, kernel_size=1) ,\n",
    "#             nn.Conv2d(32, 64, kernel_size=(1, 4), stride=(1, 4), padding=0),  # Third Conv Layer\n",
    "#             nn.Flatten(),  # Flatten layer\n",
    "#             nn.Linear(64 * 2048, 128),  # Adjusted input size for Linear layer\n",
    "#             nn.ReLU(),\n",
    "#             nn.Linear(128, 1)  # Dropout for regularization\n",
    "#         )\n",
    "\n",
    "# criterion = nn.BCEWithLogitsLoss() \n",
    "# optimizer = optim.Adam(model.parameters(), lr=learning_rate)"
   ]
  },
  {
   "cell_type": "code",
   "execution_count": 24,
   "id": "b997f847-db7e-493b-a909-985b67559801",
   "metadata": {},
   "outputs": [],
   "source": [
    "from sklearn.utils.class_weight import compute_class_weight\n",
    "\n",
    "# 레이블 준비 (0: negative, 1: positive라고 가정)\n",
    "y = np.array(dataloader_dev.dataset[0:37][1]) # 실제 레이블로 채워넣으세요\n",
    "\n",
    "# 클래스 가중치 계산\n",
    "class_weights = compute_class_weight(class_weight='balanced', classes=np.unique(y), y=y)\n",
    "\n",
    "# BCEWithLogitsLoss에 사용할 pos_weight 계산\n",
    "pos_weight = torch.tensor([class_weights[1]])"
   ]
  },
  {
   "cell_type": "code",
   "execution_count": 25,
   "id": "17947c64-59cf-463b-b3bd-1bb97b8e7b0c",
   "metadata": {},
   "outputs": [
    {
     "data": {
      "text/plain": [
       "array([6.16666667, 0.54411765])"
      ]
     },
     "execution_count": 25,
     "metadata": {},
     "output_type": "execute_result"
    }
   ],
   "source": [
    "class_weights"
   ]
  },
  {
   "cell_type": "code",
   "execution_count": 80,
   "id": "2f17a4d9-efdb-4923-b0a5-3d76fe664d15",
   "metadata": {},
   "outputs": [],
   "source": [
    "learning_rate = 0.001\n",
    "num_epochs = 10\n",
    "\n",
    "model = nn.Sequential(\n",
    "    nn.Conv2d(1, 8, kernel_size=(1, 1), stride=(1, 1)),  # First Conv Layer\n",
    "    nn.ReLU(inplace=True),\n",
    "    nn.Dropout(p=0.2), \n",
    "    \n",
    "    nn.MaxPool2d(kernel_size=(1,2)),\n",
    "    \n",
    "    nn.Conv2d(8, 16, kernel_size=(3, 1), stride=(3, 1)),  # Second Conv Layer\n",
    "    nn.ReLU(inplace=True),\n",
    "    nn.Dropout(p=0.2),  # Dropout for regularization\n",
    "    \n",
    "    nn.MaxPool2d(kernel_size=(1,2)),\n",
    "    \n",
    "    nn.Conv2d(16, 8, kernel_size=(2, 2), stride=(2, 2)),  # Third Conv Layer\n",
    "    nn.ReLU(inplace=True),\n",
    "    nn.Dropout(p=0.2),  # Dropout for regularization\n",
    "\n",
    "    nn.Conv2d(8, 1, kernel_size=(3, 1), stride=(3, 1)),  # Fourth Conv Layer\n",
    "    nn.ReLU(inplace=True),\n",
    "    \n",
    "    nn.Flatten(),\n",
    "    \n",
    "    nn.Linear(512, 256),  # Adjusted input size for Linear layer\n",
    "    nn.ReLU(inplace=True),\n",
    "               \n",
    "    nn.Linear(256, 64),  # Adjusted input size for Linear layer\n",
    "    nn.ReLU(inplace=True),\n",
    "    nn.Linear(64, 16),  # Second Linear layer\n",
    "    nn.ReLU(inplace=True),\n",
    "    nn.Linear(16, 1)  # Final output layer\n",
    "        )\n",
    "\n"
   ]
  },
  {
   "cell_type": "code",
   "execution_count": 81,
   "id": "db93b3a7-a8ef-4cd1-9ac7-9f4eee0c8f1a",
   "metadata": {
    "scrolled": true
   },
   "outputs": [],
   "source": [
    "device = torch.device(\"cuda\" if torch.cuda.is_available() else \"cpu\")\n",
    "\n",
    "criterion = nn.BCEWithLogitsLoss(pos_weight=pos_weight.to(device)) \n",
    "optimizer = optim.Adam(model.parameters(), lr=learning_rate)"
   ]
  },
  {
   "cell_type": "markdown",
   "id": "b707d368-b305-402b-90bc-2339cbba5093",
   "metadata": {},
   "source": [
    "### Conv모델 학습"
   ]
  },
  {
   "cell_type": "code",
   "execution_count": null,
   "id": "59eb1a99-dd4d-4aa5-b3ed-06ef1f32843b",
   "metadata": {},
   "outputs": [
    {
     "name": "stdout",
     "output_type": "stream",
     "text": [
      "cuda\n"
     ]
    },
    {
     "data": {
      "application/vnd.jupyter.widget-view+json": {
       "model_id": "988b1ee11bcb4302b4dedcdea8d2cf01",
       "version_major": 2,
       "version_minor": 0
      },
      "text/plain": [
       "  0%|          | 0/10 [00:00<?, ?it/s]"
      ]
     },
     "metadata": {},
     "output_type": "display_data"
    },
    {
     "name": "stdout",
     "output_type": "stream",
     "text": [
      "Epoch [1/10], Loss: 0.3940\n",
      "Epoch [2/10], Loss: 0.3782\n",
      "Epoch [3/10], Loss: 0.2887\n",
      "Epoch [4/10], Loss: 0.2334\n",
      "Epoch [5/10], Loss: 0.2331\n",
      "Epoch [6/10], Loss: 0.2382\n",
      "Epoch [7/10], Loss: 0.2383\n",
      "Epoch [8/10], Loss: 0.2385\n"
     ]
    }
   ],
   "source": [
    "print(device)\n",
    "\n",
    "model = model.to(device)\n",
    "\n",
    "for epoch in tqdm(range(num_epochs)):\n",
    "    model.train()\n",
    "    running_loss = 0.0\n",
    "\n",
    "    for x_batch, labels in dataloader:\n",
    "        optimizer.zero_grad()\n",
    "\n",
    "        x_batch = x_batch.to(device)  # Move x_batch to device\n",
    "        labels = labels.to(device).float()\n",
    "        labels = labels.unsqueeze(1)\n",
    "        \n",
    "        outputs = model(x_batch)\n",
    "        loss = criterion(outputs, labels)\n",
    "\n",
    "        loss.backward()\n",
    "        optimizer.step()\n",
    "\n",
    "        running_loss += loss.item()\n",
    "\n",
    "    avg_loss = running_loss / len(dataloader)\n",
    "    print(f\"Epoch [{epoch + 1}/{num_epochs}], Loss: {avg_loss:.4f}\")"
   ]
  },
  {
   "cell_type": "code",
   "execution_count": null,
   "id": "9de9295a-d6d2-471c-a346-212a646f0899",
   "metadata": {
    "scrolled": true
   },
   "outputs": [],
   "source": [
    "dataloader_dev.dataset[0:37][1]"
   ]
  },
  {
   "cell_type": "code",
   "execution_count": null,
   "id": "535e0390-d024-45ca-a2bf-0f5413e97474",
   "metadata": {},
   "outputs": [],
   "source": [
    "# model = torch.load('1003)stacked_model(0.68).pth')"
   ]
  },
  {
   "cell_type": "code",
   "execution_count": null,
   "id": "6c7a5ae7-5d80-468a-8f41-8429b8ca20d2",
   "metadata": {},
   "outputs": [],
   "source": [
    "dataload = dataloader_dev\n",
    "\n",
    "model.eval()\n",
    "# Initialize variables to keep track of the loss and predictions\n",
    "total_loss = 0.0\n",
    "all_labels = []\n",
    "all_predictions = []\n",
    "correct_cnt = 0\n",
    "miss_cnt = 0\n",
    "label_zero = 0\n",
    "\n",
    "with torch.no_grad():\n",
    "    for x_batch, labels in dataload:  # Assuming you have a separate validation or test DataLoader\n",
    "        x_batch = x_batch.to(device)  # Move x_batch to device\n",
    "        labels = labels.to(device).float()  # Ensure labels are float for BCEWithLogitsLoss\n",
    "\n",
    "        outputs = model(x_batch)  # Forward pass\n",
    "        outputs = outputs.reshape(-1)\n",
    "        loss = criterion(outputs, labels)  # Calculate loss\n",
    "        total_loss += loss.item()  # Accumulate the loss\n",
    "\n",
    "        # Apply sigmoid to the outputs to get probabilities\n",
    "        print (outputs)\n",
    "        print(torch.sigmoid(outputs))\n",
    "        \n",
    "        predicted = (torch.sigmoid(outputs) > 0.5).float()  # Convert probabilities to binary predictions\n",
    "        \n",
    "        all_labels.extend(labels.cpu().numpy())  # Store true labels\n",
    "        all_predictions.extend(predicted.cpu().numpy())  # Store predicted labels\n",
    "\n",
    "# Calculate average loss\n",
    "avg_loss = total_loss / len(dataload)  # Use the correct dataloader for length\n",
    "\n",
    "# Calculate precision, recall, and F1 score\n",
    "precision = precision_score(all_labels, all_predictions, average='weighted')  # Use 'micro' or 'macro' if needed\n",
    "recall = recall_score(all_labels, all_predictions, average='weighted')\n",
    "f1 = f1_score(all_labels, all_predictions, average='weighted')\n",
    "\n",
    "# Print results\n",
    "print(f\"Evaluation Loss: {avg_loss:.4f}\")\n",
    "print(f\"Precision: {precision:.4f}, Recall: {recall:.4f}, F1 Score: {f1:.4f}\")\n",
    "all_labels = [label for label in all_labels]  # Extract first element from each array\n",
    "all_predictions = [pred for pred in all_predictions]  # Extract first element from each array\n",
    "\n",
    "for i in range(len(all_labels)):\n",
    "    if all_labels[i] == 0:  # all_labels의 값이 0인지 확인\n",
    "        label_zero += 1\n",
    "        if all_predictions[i] == 0:  # all_predictions의 값이 0인지 확인\n",
    "            correct_cnt += 1  # cnt를 증가시킴\n",
    "        else: miss_cnt += 1\n",
    "pred_zero_cnt = 0\n",
    "for i in range(len(all_predictions)):\n",
    "    if all_predictions[i] == 0:\n",
    "        pred_zero_cnt += 1\n",
    "\n",
    "print(all_labels)\n",
    "print(all_predictions)\n",
    "print(f\"correct : {correct_cnt}/{label_zero}\")\n",
    "print(f\"predicted zero : {pred_zero_cnt}\")"
   ]
  },
  {
   "cell_type": "markdown",
   "id": "c338b244-c8cc-4604-b5db-ab8f70a775e4",
   "metadata": {},
   "source": [
    "### Autoencoder 학습"
   ]
  },
  {
   "cell_type": "code",
   "execution_count": 47,
   "id": "f33dfa89-2a8d-465e-8708-f446fe12c2f8",
   "metadata": {},
   "outputs": [],
   "source": [
    "# device = torch.device(\"cuda\" if torch.cuda.is_available() else \"cpu\")\n",
    "\n",
    "# class Autoencoder(nn.Module):\n",
    "#     def __init__(self, latent_dim):\n",
    "#         super(Autoencoder, self).__init__()\n",
    "#         self.latent_dim = latent_dim\n",
    "        \n",
    "#         # Encoder\n",
    "#         self.encoder = nn.Sequential(\n",
    "#             nn.Conv2d(1, 16, kernel_size=3, stride=2, padding=1),\n",
    "#             nn.ReLU(),\n",
    "#             nn.Conv2d(16, 32, kernel_size=3, stride=2, padding=1),\n",
    "#             nn.ReLU(),\n",
    "#             nn.Conv2d(32, 64, kernel_size=3, stride=2, padding=1),\n",
    "#             nn.ReLU(),\n",
    "#             nn.AdaptiveAvgPool2d((9, 256)),  # 크기를 고정\n",
    "#             nn.Flatten(),\n",
    "#             nn.Linear(64 * 9 * 256, latent_dim)\n",
    "#         )\n",
    "        \n",
    "#         # Decoder\n",
    "#         self.decoder = nn.Sequential(\n",
    "#             nn.Linear(latent_dim, 64 * 9 * 256),\n",
    "#             nn.Unflatten(1, (64, 9, 256)),\n",
    "#             nn.ConvTranspose2d(64, 32, kernel_size=3, stride=2, padding=1, output_padding=1),\n",
    "#             nn.ReLU(),\n",
    "#             nn.ConvTranspose2d(32, 16, kernel_size=3, stride=2, padding=1, output_padding=1),\n",
    "#             nn.ReLU(),\n",
    "#             nn.ConvTranspose2d(16, 1, kernel_size=3, stride=2, padding=1, output_padding=1),\n",
    "#             nn.Upsample(size=(36, 2048), mode='bilinear', align_corners=False),\n",
    "#             nn.Sigmoid()\n",
    "#         )\n",
    "    \n",
    "#     def forward(self, x):\n",
    "#         encoded = self.encoder(x)\n",
    "#         decoded = self.decoder(encoded)\n",
    "#         return decoded\n",
    "    \n",
    "#     def forward(self, x):\n",
    "#         encoded = self.encoder(x)\n",
    "#         decoded = self.decoder(encoded)\n",
    "#         return decoded\n"
   ]
  },
  {
   "cell_type": "code",
   "execution_count": 48,
   "id": "cc7b24bc-776c-4722-8123-161048f023c4",
   "metadata": {},
   "outputs": [],
   "source": [
    "# learning_rate = 0.001\n",
    "# num_epochs = 10\n",
    "\n",
    "# last_dim = 512\n",
    "# model = Autoencoder(last_dim)\n",
    "# criterion = nn.MSELoss()  # 손실 함수\n",
    "# optimizer = optim.Adam(model.parameters(), lr=learning_rate)  # Adam 옵티마이저"
   ]
  },
  {
   "cell_type": "code",
   "execution_count": 49,
   "id": "84aebadc-e901-4ab8-a6ce-044b32f8c972",
   "metadata": {
    "scrolled": true
   },
   "outputs": [],
   "source": [
    "# device = torch.device(\"cuda\" if torch.cuda.is_available() else \"cpu\")\n",
    "# print(device)\n",
    "# model = model.to(device)\n",
    "# for epoch in tqdm(range(num_epochs)):\n",
    "#     model.train()  # 학습 모드\n",
    "#     running_loss = 0.0\n",
    "#     for x_batch,labels in dataloader:\n",
    "#         x_batch = x_batch.to(device)\n",
    "        \n",
    "#         optimizer.zero_grad()  # 기울기 초기화\n",
    "        \n",
    "#         outputs = model(x_batch)  # Autoencoder 출력\n",
    "        \n",
    "        \n",
    "#         loss = criterion(outputs, x_batch)  # 손실 계산\n",
    "        \n",
    "#         loss.backward()  # 기울기 계산\n",
    "#         optimizer.step()  # 파라미터 업데이트\n",
    "        \n",
    "#         running_loss += loss.item()\n",
    "    \n",
    "#     epoch_loss = running_loss / len(dataloader_dev)\n",
    "#     print(f'Epoch [{epoch+1}/{num_epochs}], Loss: {epoch_loss:.4f}')"
   ]
  },
  {
   "cell_type": "code",
   "execution_count": 50,
   "id": "d3cf863e-eaac-407e-9006-f856487944e0",
   "metadata": {
    "jupyter": {
     "source_hidden": true
    }
   },
   "outputs": [],
   "source": [
    "# from sklearn.metrics import classification_report\n",
    "\n",
    "# model.eval()\n",
    "# all_labels = []\n",
    "# all_predictions = []\n",
    "# all_errors = []\n",
    "\n",
    "# # MSE 손실 함수 인스턴스 생성\n",
    "# criterion = nn.MSELoss(reduction='none')\n",
    "\n",
    "# with torch.no_grad():\n",
    "#     for data, labels in tqdm(dataloader_dev):\n",
    "#         data = data.to(device)\n",
    "#         labels = labels.to(device)  # 레이블도 GPU로 이동\n",
    "        \n",
    "#         # Forward pass: input to autoencoder\n",
    "#         reconstructed = model(data)\n",
    "        \n",
    "#         # Compute reconstruction error (MSE)\n",
    "#         reconstruction_error = criterion(reconstructed, data)  # 손실 계산\n",
    "#         reconstruction_error = reconstruction_error.mean(dim=[1, 2, 3])  # Averaging over all dimensions\n",
    "#                 # Store the actual labels and reconstruction errors\n",
    "#         all_labels.append(labels)\n",
    "#         all_errors.append(reconstruction_error)\n",
    "\n",
    "# # concatenate results and move to CPU\n",
    "# all_labels = torch.cat(all_labels).cpu().numpy()\n",
    "# all_errors = torch.cat(all_errors).cpu().numpy()"
   ]
  },
  {
   "cell_type": "code",
   "execution_count": 51,
   "id": "f7a94b17-48f9-4aac-9ade-71215901b86d",
   "metadata": {
    "jupyter": {
     "source_hidden": true
    }
   },
   "outputs": [],
   "source": [
    "# # Binary classification: if error > threshold -> anomaly (1), else normal (0)\n",
    "# threshold = 0.3  # 적절한 threshold 값을 설정해야 합니다\n",
    "# all_predictions = (all_errors > threshold).astype(int)\n",
    "\n",
    "# # Evaluation metrics\n",
    "# print(classification_report(all_labels, all_predictions))"
   ]
  },
  {
   "cell_type": "code",
   "execution_count": 52,
   "id": "454b051b-1a85-4c05-b029-f36ebcccaeee",
   "metadata": {},
   "outputs": [],
   "source": [
    "# torch.save(model, 'model_weights.pth')"
   ]
  },
  {
   "cell_type": "code",
   "execution_count": 53,
   "id": "34387b73-4211-419d-a647-de47842b364f",
   "metadata": {},
   "outputs": [
    {
     "name": "stderr",
     "output_type": "stream",
     "text": [
      "C:\\Users\\user\\AppData\\Local\\Temp\\ipykernel_9280\\480446460.py:1: FutureWarning: You are using `torch.load` with `weights_only=False` (the current default value), which uses the default pickle module implicitly. It is possible to construct malicious pickle data which will execute arbitrary code during unpickling (See https://github.com/pytorch/pytorch/blob/main/SECURITY.md#untrusted-models for more details). In a future release, the default value for `weights_only` will be flipped to `True`. This limits the functions that could be executed during unpickling. Arbitrary objects will no longer be allowed to be loaded via this mode unless they are explicitly allowlisted by the user via `torch.serialization.add_safe_globals`. We recommend you start setting `weights_only=True` for any use case where you don't have full control of the loaded file. Please open an issue on GitHub for any issues related to this experimental feature.\n",
      "  torch.load('1003)stacked_model(0.68).pth')\n"
     ]
    },
    {
     "data": {
      "text/plain": [
       "Sequential(\n",
       "  (0): Conv2d(1, 8, kernel_size=(1, 1), stride=(1, 1))\n",
       "  (1): ReLU(inplace=True)\n",
       "  (2): Dropout(p=0.5, inplace=False)\n",
       "  (3): Conv2d(8, 16, kernel_size=(3, 1), stride=(3, 1))\n",
       "  (4): ReLU(inplace=True)\n",
       "  (5): Dropout(p=0.5, inplace=False)\n",
       "  (6): Conv2d(16, 32, kernel_size=(2, 2), stride=(2, 2))\n",
       "  (7): ReLU(inplace=True)\n",
       "  (8): Dropout(p=0.5, inplace=False)\n",
       "  (9): Conv2d(32, 16, kernel_size=(3, 1), stride=(3, 1))\n",
       "  (10): ReLU(inplace=True)\n",
       "  (11): Conv2d(16, 8, kernel_size=(2, 1), stride=(2, 1))\n",
       "  (12): ReLU(inplace=True)\n",
       "  (13): Conv2d(8, 1, kernel_size=(1, 2), stride=(1, 2))\n",
       "  (14): ReLU(inplace=True)\n",
       "  (15): Dropout(p=0.4, inplace=False)\n",
       "  (16): Flatten(start_dim=1, end_dim=-1)\n",
       "  (17): Linear(in_features=512, out_features=256, bias=True)\n",
       "  (18): ReLU(inplace=True)\n",
       "  (19): Linear(in_features=256, out_features=64, bias=True)\n",
       "  (20): ReLU(inplace=True)\n",
       "  (21): Linear(in_features=64, out_features=16, bias=True)\n",
       "  (22): ReLU(inplace=True)\n",
       "  (23): Linear(in_features=16, out_features=1, bias=True)\n",
       ")"
      ]
     },
     "execution_count": 53,
     "metadata": {},
     "output_type": "execute_result"
    }
   ],
   "source": [
    "torch.load('1003)stacked_model(0.68).pth')"
   ]
  },
  {
   "cell_type": "code",
   "execution_count": null,
   "id": "61db3af8-cf10-4d3a-9406-836332e5b3e5",
   "metadata": {},
   "outputs": [],
   "source": []
  }
 ],
 "metadata": {
  "kernelspec": {
   "display_name": "Python 3 (ipykernel)",
   "language": "python",
   "name": "python3"
  },
  "language_info": {
   "codemirror_mode": {
    "name": "ipython",
    "version": 3
   },
   "file_extension": ".py",
   "mimetype": "text/x-python",
   "name": "python",
   "nbconvert_exporter": "python",
   "pygments_lexer": "ipython3",
   "version": "3.12.3"
  }
 },
 "nbformat": 4,
 "nbformat_minor": 5
}
