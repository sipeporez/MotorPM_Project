{
 "cells": [
  {
   "cell_type": "code",
   "execution_count": 19,
   "id": "ac40022b-0509-4b4c-9f9b-490d172d98a3",
   "metadata": {},
   "outputs": [
    {
     "name": "stdout",
     "output_type": "stream",
     "text": [
      "<class 'pandas.core.frame.DataFrame'>\n",
      "RangeIndex: 2600 entries, 0 to 2599\n",
      "Data columns (total 48 columns):\n",
      " #   Column               Non-Null Count  Dtype  \n",
      "---  ------               --------------  -----  \n",
      " 0   asset_id             2600 non-null   object \n",
      " 1   created_at           2600 non-null   int64  \n",
      " 2   created_at_datetime  2600 non-null   object \n",
      " 3   temperature          2600 non-null   float64\n",
      " 4   rms_x                2600 non-null   float64\n",
      " 5   rms_y                2600 non-null   float64\n",
      " 6   rms_z                2600 non-null   float64\n",
      " 7   rms_xyz              2600 non-null   float64\n",
      " 8   vel_rms_x            2600 non-null   float64\n",
      " 9   vel_rms_y            2600 non-null   float64\n",
      " 10  vel_rms_z            2600 non-null   float64\n",
      " 11  vel_rms_xyz          2600 non-null   float64\n",
      " 12  skewness_x           2600 non-null   float64\n",
      " 13  skewness_y           2600 non-null   float64\n",
      " 14  skewness_z           2600 non-null   float64\n",
      " 15  vel_skewness_x       2600 non-null   float64\n",
      " 16  vel_skewness_y       2600 non-null   float64\n",
      " 17  vel_skewness_z       2600 non-null   float64\n",
      " 18  kurtosis_x           2600 non-null   float64\n",
      " 19  kurtosis_y           2600 non-null   float64\n",
      " 20  kurtosis_z           2600 non-null   float64\n",
      " 21  vel_kurtosis_x       2600 non-null   float64\n",
      " 22  vel_kurtosis_y       2600 non-null   float64\n",
      " 23  vel_kurtosis_z       2600 non-null   float64\n",
      " 24  crest_factor_x       2600 non-null   float64\n",
      " 25  crest_factor_y       2600 non-null   float64\n",
      " 26  crest_factor_z       2600 non-null   float64\n",
      " 27  vel_crest_factor_x   2600 non-null   float64\n",
      " 28  vel_crest_factor_y   2600 non-null   float64\n",
      " 29  vel_crest_factor_z   2600 non-null   float64\n",
      " 30  peak_x               2600 non-null   float64\n",
      " 31  peak_y               2600 non-null   float64\n",
      " 32  peak_z               2600 non-null   float64\n",
      " 33  vel_peak_x           2600 non-null   float64\n",
      " 34  vel_peak_y           2600 non-null   float64\n",
      " 35  vel_peak_z           2600 non-null   float64\n",
      " 36  peak2peak_x          2600 non-null   float64\n",
      " 37  peak2peak_y          2600 non-null   float64\n",
      " 38  peak2peak_z          2600 non-null   float64\n",
      " 39  vel_peak2peak_x      2600 non-null   float64\n",
      " 40  vel_peak2peak_y      2600 non-null   float64\n",
      " 41  vel_peak2peak_z      2600 non-null   float64\n",
      " 42  time                 2600 non-null   object \n",
      " 43  imbalance_health     2600 non-null   float64\n",
      " 44  misalignment_health  2600 non-null   float64\n",
      " 45  looseness_health     2600 non-null   float64\n",
      " 46  bearing_health       2600 non-null   float64\n",
      " 47  asset_health         2600 non-null   float64\n",
      "dtypes: float64(44), int64(1), object(3)\n",
      "memory usage: 975.1+ KB\n"
     ]
    }
   ],
   "source": [
    "import pandas as pd\n",
    "\n",
    "\n",
    "data = pd.read_csv(\"data/All_not_null/02dc4105-ca5e-4770-a6fc-d1fdff11fc1c_data.csv\")\n",
    "\n",
    "data.info()"
   ]
  },
  {
   "cell_type": "code",
   "execution_count": 21,
   "id": "043fa4ba-c95e-4901-aaa6-a44f58b100e1",
   "metadata": {},
   "outputs": [],
   "source": [
    "# 인덱스를 이용해 12개씩 묶기\n",
    "data['day_group'] = (data.index//12)+1\n",
    "\n",
    "# 컬럼명 리스트 생성 (날짜나 그룹 컬럼은 제외)\n",
    "numeric_columns = data.select_dtypes(include='number').columns\n",
    "\n",
    "# 모든 컬럼에 대해 max를 계산\n",
    "aggregations = {col: ['max'] for col in numeric_columns}\n",
    "\n",
    "# # 그룹별 누적합 계산\n",
    "# cumsum_df = df.groupby('day_group').apply(lambda x: x.select_dtypes(include='number').cumsum())"
   ]
  },
  {
   "cell_type": "code",
   "execution_count": 16,
   "id": "65baf8f4-07dc-4029-b1b1-4d4af072b784",
   "metadata": {},
   "outputs": [],
   "source": [
    "# 그룹별 수치 계산 (mean, max, min)\n",
    "grouped_data = data.groupby('day_group').agg(aggregations)"
   ]
  },
  {
   "cell_type": "code",
   "execution_count": 18,
   "id": "640d972d-ce6f-4521-a94a-d33a2b4cf1f4",
   "metadata": {},
   "outputs": [
    {
     "name": "stdout",
     "output_type": "stream",
     "text": [
      "<class 'pandas.core.frame.DataFrame'>\n",
      "Index: 217 entries, 1 to 217\n",
      "Data columns (total 46 columns):\n",
      " #   Column                      Non-Null Count  Dtype  \n",
      "---  ------                      --------------  -----  \n",
      " 0   (created_at, max)           217 non-null    int64  \n",
      " 1   (temperature, max)          217 non-null    float64\n",
      " 2   (rms_x, max)                217 non-null    float64\n",
      " 3   (rms_y, max)                217 non-null    float64\n",
      " 4   (rms_z, max)                217 non-null    float64\n",
      " 5   (rms_xyz, max)              217 non-null    float64\n",
      " 6   (vel_rms_x, max)            217 non-null    float64\n",
      " 7   (vel_rms_y, max)            217 non-null    float64\n",
      " 8   (vel_rms_z, max)            217 non-null    float64\n",
      " 9   (vel_rms_xyz, max)          217 non-null    float64\n",
      " 10  (skewness_x, max)           217 non-null    float64\n",
      " 11  (skewness_y, max)           217 non-null    float64\n",
      " 12  (skewness_z, max)           217 non-null    float64\n",
      " 13  (vel_skewness_x, max)       217 non-null    float64\n",
      " 14  (vel_skewness_y, max)       217 non-null    float64\n",
      " 15  (vel_skewness_z, max)       217 non-null    float64\n",
      " 16  (kurtosis_x, max)           217 non-null    float64\n",
      " 17  (kurtosis_y, max)           217 non-null    float64\n",
      " 18  (kurtosis_z, max)           217 non-null    float64\n",
      " 19  (vel_kurtosis_x, max)       217 non-null    float64\n",
      " 20  (vel_kurtosis_y, max)       217 non-null    float64\n",
      " 21  (vel_kurtosis_z, max)       217 non-null    float64\n",
      " 22  (crest_factor_x, max)       217 non-null    float64\n",
      " 23  (crest_factor_y, max)       217 non-null    float64\n",
      " 24  (crest_factor_z, max)       217 non-null    float64\n",
      " 25  (vel_crest_factor_x, max)   217 non-null    float64\n",
      " 26  (vel_crest_factor_y, max)   217 non-null    float64\n",
      " 27  (vel_crest_factor_z, max)   217 non-null    float64\n",
      " 28  (peak_x, max)               217 non-null    float64\n",
      " 29  (peak_y, max)               217 non-null    float64\n",
      " 30  (peak_z, max)               217 non-null    float64\n",
      " 31  (vel_peak_x, max)           217 non-null    float64\n",
      " 32  (vel_peak_y, max)           217 non-null    float64\n",
      " 33  (vel_peak_z, max)           217 non-null    float64\n",
      " 34  (peak2peak_x, max)          217 non-null    float64\n",
      " 35  (peak2peak_y, max)          217 non-null    float64\n",
      " 36  (peak2peak_z, max)          217 non-null    float64\n",
      " 37  (vel_peak2peak_x, max)      217 non-null    float64\n",
      " 38  (vel_peak2peak_y, max)      217 non-null    float64\n",
      " 39  (vel_peak2peak_z, max)      217 non-null    float64\n",
      " 40  (imbalance_health, max)     217 non-null    float64\n",
      " 41  (misalignment_health, max)  217 non-null    float64\n",
      " 42  (looseness_health, max)     217 non-null    float64\n",
      " 43  (bearing_health, max)       217 non-null    float64\n",
      " 44  (asset_health, max)         217 non-null    float64\n",
      " 45  (day_group, max)            217 non-null    int64  \n",
      "dtypes: float64(44), int64(2)\n",
      "memory usage: 79.7 KB\n"
     ]
    }
   ],
   "source": [
    "grouped_data.info()"
   ]
  },
  {
   "cell_type": "code",
   "execution_count": null,
   "id": "6c7b6559-afa5-401b-a726-fd2919ed6b5c",
   "metadata": {},
   "outputs": [],
   "source": []
  }
 ],
 "metadata": {
  "kernelspec": {
   "display_name": "Python 3 (ipykernel)",
   "language": "python",
   "name": "python3"
  },
  "language_info": {
   "codemirror_mode": {
    "name": "ipython",
    "version": 3
   },
   "file_extension": ".py",
   "mimetype": "text/x-python",
   "name": "python",
   "nbconvert_exporter": "python",
   "pygments_lexer": "ipython3",
   "version": "3.12.3"
  }
 },
 "nbformat": 4,
 "nbformat_minor": 5
}
