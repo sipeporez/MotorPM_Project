{
 "cells": [
  {
   "cell_type": "code",
   "execution_count": 1,
   "id": "29bec4ef-7306-41f6-82e5-0284bd15f6c9",
   "metadata": {},
   "outputs": [],
   "source": [
    "import json\n",
    "import numpy as np\n",
    "import pandas as pd\n",
    "import matplotlib.pyplot as plt\n",
    "from sklearn.preprocessing import MinMaxScaler\n",
    "from sklearn.decomposition import PCA\n",
    "from sklearn.ensemble import IsolationForest\n",
    "\n",
    "# JSON 파일 읽기\n",
    "df=pd.read_json('data/spectrum.json').sort_values('created_at')\n",
    "df['created_at'] = pd.to_datetime(df['created_at'], unit='s', utc=True) + pd.DateOffset(hours=9)\n",
    "# spectrum 열을 리스트로 변환하고 각 값을 float로 변환\n",
    "df['spectrum_x_amp'] = df['spectrum_x_amp'].apply(lambda x: [float(i) for i in x.split(',')])\n",
    "df['spectrum_y_amp'] = df['spectrum_y_amp'].apply(lambda x: [float(i) for i in x.split(',')])\n",
    "df['spectrum_z_amp'] = df['spectrum_z_amp'].apply(lambda x: [float(i) for i in x.split(',')])"
   ]
  },
  {
   "cell_type": "code",
   "execution_count": 2,
   "id": "193da3ba-0e1e-493c-8fdb-dff8ae22f0ce",
   "metadata": {},
   "outputs": [
    {
     "name": "stdout",
     "output_type": "stream",
     "text": [
      "                               asset_id                created_at  \\\n",
      "0  55285839-9b78-48d8-9f4e-573190ace016 2024-01-01 00:37:34+00:00   \n",
      "1  55285839-9b78-48d8-9f4e-573190ace016 2024-01-01 00:37:34+00:00   \n",
      "2  55285839-9b78-48d8-9f4e-573190ace016 2024-01-01 00:37:34+00:00   \n",
      "3  55285839-9b78-48d8-9f4e-573190ace016 2024-01-01 00:37:34+00:00   \n",
      "4  55285839-9b78-48d8-9f4e-573190ace016 2024-01-01 00:37:34+00:00   \n",
      "\n",
      "   spectrum_x_amp  spectrum_y_amp  spectrum_z_amp  \n",
      "0        0.000136        0.000158        0.000022  \n",
      "1        0.000262        0.000263        0.000111  \n",
      "2        0.000426        0.000355        0.000135  \n",
      "3        0.000392        0.000121        0.000149  \n",
      "4        0.000238        0.000450        0.000267  \n"
     ]
    }
   ],
   "source": [
    "# 빈 리스트를 준비\n",
    "expanded_rows = []\n",
    "\n",
    "# 각 행을 처리\n",
    "for _, row in df.iterrows():\n",
    "    x_list = row['spectrum_x_amp']\n",
    "    y_list = row['spectrum_y_amp']\n",
    "    z_list = row['spectrum_z_amp']\n",
    "    \n",
    "    # 모든 리스트의 길이가 같다고 가정\n",
    "    for i in range(len(x_list)):\n",
    "        expanded_rows.append({\n",
    "            'asset_id': row['asset_id'],\n",
    "            'created_at': row['created_at'],\n",
    "            'spectrum_x_amp': x_list[i],\n",
    "            'spectrum_y_amp': y_list[i],\n",
    "            'spectrum_z_amp': z_list[i]\n",
    "        })\n",
    "\n",
    "# 데이터프레임으로 변환\n",
    "df_expanded = pd.DataFrame(expanded_rows)\n",
    "\n",
    "# 결과 확인\n",
    "print(df_expanded.head())"
   ]
  },
  {
   "cell_type": "code",
   "execution_count": null,
   "id": "99f1074a-f0fd-48cd-bfb9-c866619aacbf",
   "metadata": {},
   "outputs": [],
   "source": [
    "# df_expanded.drop(columns=['asset_id', 'created_at'],inplace=True)"
   ]
  },
  {
   "cell_type": "code",
   "execution_count": 3,
   "id": "bc489e3c-bbd0-4b36-b717-ef68a0efca30",
   "metadata": {},
   "outputs": [],
   "source": [
    "x_data = df_expanded['spectrum_x_amp'].values.reshape(-1,1)\n",
    "y_data = df_expanded['spectrum_y_amp'].values.reshape(-1,1)\n",
    "z_data = df_expanded['spectrum_z_amp'].values.reshape(-1,1)"
   ]
  },
  {
   "cell_type": "code",
   "execution_count": 4,
   "id": "b6df578c-125f-4e16-9283-0c8ef858f3a2",
   "metadata": {},
   "outputs": [],
   "source": [
    "scaler = MinMaxScaler()\n",
    "x_data_scaled = scaler.fit_transform(x_data)\n",
    "y_data_scaled = scaler.fit_transform(y_data)\n",
    "z_data_scaled = scaler.fit_transform(z_data)"
   ]
  },
  {
   "cell_type": "code",
   "execution_count": null,
   "id": "7197e644-e7e4-4e85-9a12-3c31c1454de0",
   "metadata": {},
   "outputs": [],
   "source": [
    "x_data_scaled, y_data_scaled, z_data_scaled"
   ]
  },
  {
   "cell_type": "code",
   "execution_count": 5,
   "id": "76548e1f-8174-4a04-aa55-6e8b67f94469",
   "metadata": {},
   "outputs": [],
   "source": [
    "# 데이터를 수평으로 결합\n",
    "data_stack = np.hstack([x_data_scaled, y_data_scaled, z_data_scaled])"
   ]
  },
  {
   "cell_type": "code",
   "execution_count": null,
   "id": "50674dde-20fc-4ac8-bdc6-db55a14041b9",
   "metadata": {},
   "outputs": [],
   "source": [
    "data_stack"
   ]
  },
  {
   "cell_type": "code",
   "execution_count": 6,
   "id": "28031506-6679-4081-a47d-5ea77f1ce52e",
   "metadata": {},
   "outputs": [],
   "source": [
    "# 모델 초기화\n",
    "contamination = 0.001\n",
    "model = IsolationForest(contamination=contamination)  # contamination은 데이터에서 이상치 비율을 추정\n",
    "\n",
    "# Isolation Forest 모델 초기화 및 학습\n",
    "models = {\n",
    "    'x': IsolationForest(contamination=contamination),\n",
    "    'y': IsolationForest(contamination=contamination),\n",
    "    'z': IsolationForest(contamination=contamination),\n",
    "    'xy': IsolationForest(contamination=contamination),\n",
    "    'yz': IsolationForest(contamination=contamination),\n",
    "    'xz': IsolationForest(contamination=contamination),\n",
    "    'xyz': IsolationForest(contamination=contamination)\n",
    "}\n",
    "\n",
    "# 모델 학습\n",
    "models['x'].fit(x_data_scaled)\n",
    "models['y'].fit(y_data_scaled)\n",
    "models['z'].fit(z_data_scaled)\n",
    "models['xy'].fit(np.hstack([x_data_scaled, y_data_scaled]))\n",
    "models['yz'].fit(np.hstack([y_data_scaled, z_data_scaled]))\n",
    "models['xz'].fit(np.hstack([x_data_scaled, z_data_scaled]))\n",
    "models['xyz'].fit(np.hstack([x_data_scaled, y_data_scaled, z_data_scaled]))\n",
    "\n",
    "# 이상치 예측\n",
    "predictions = {\n",
    "    'x': models['x'].predict(x_data_scaled),\n",
    "    'y': models['y'].predict(y_data_scaled),\n",
    "    'z': models['z'].predict(z_data_scaled),\n",
    "    'xy': models['xy'].predict(np.hstack([x_data_scaled, y_data_scaled])),\n",
    "    'yz': models['yz'].predict(np.hstack([y_data_scaled, z_data_scaled])),\n",
    "    'xz': models['xz'].predict(np.hstack([x_data_scaled, z_data_scaled])),\n",
    "    'xyz': models['xyz'].predict(np.hstack([x_data_scaled, y_data_scaled, z_data_scaled]))\n",
    "}\n"
   ]
  },
  {
   "cell_type": "code",
   "execution_count": 8,
   "id": "5e957368-7282-4290-a483-a71635d3ff2a",
   "metadata": {},
   "outputs": [],
   "source": [
    "# 예측 결과 -1은 이상치, 1은 정상 데이터\n",
    "anomalies = {key: (pred == -1).astype(int) for key, pred in predictions.items()}"
   ]
  },
  {
   "cell_type": "code",
   "execution_count": null,
   "id": "16e2d46b-3240-48e5-9bdf-bd3ff34cc1d9",
   "metadata": {},
   "outputs": [
    {
     "name": "stderr",
     "output_type": "stream",
     "text": [
      "C:\\Users\\user\\AppData\\Local\\Temp\\ipykernel_10016\\3300803408.py:53: UserWarning: Creating legend with loc=\"best\" can be slow with large amounts of data.\n",
      "  plt.tight_layout()\n",
      "C:\\Users\\user\\anaconda3\\envs\\torch-gpu\\Lib\\site-packages\\IPython\\core\\pylabtools.py:170: UserWarning: Creating legend with loc=\"best\" can be slow with large amounts of data.\n",
      "  fig.canvas.print_figure(bytes_io, **kw)\n"
     ]
    }
   ],
   "source": [
    "# 플로팅 함수 정의\n",
    "def plot_1d(ax, data, anomalies, title, xlabel, ylabel):\n",
    "    ax.scatter(range(len(data)), data, c=anomalies, cmap='coolwarm', label='Anomaly', edgecolor='k')\n",
    "    ax.set_xlabel(xlabel)\n",
    "    ax.set_ylabel(ylabel)\n",
    "    ax.set_title(title)\n",
    "    ax.legend()\n",
    "\n",
    "def plot_2d(ax, x_data, y_data, anomalies, title, xlabel, ylabel):\n",
    "    scatter = ax.scatter(x_data, y_data, c=anomalies, cmap='coolwarm', label='Anomaly', edgecolor='k')\n",
    "    ax.set_xlabel(xlabel)\n",
    "    ax.set_ylabel(ylabel)\n",
    "    ax.set_title(title)\n",
    "    ax.legend()\n",
    "    plt.colorbar(scatter, ax=ax, label='Anomaly')\n",
    "\n",
    "def plot_3d(ax, x_data, y_data, z_data, anomalies):\n",
    "    scatter = ax.scatter3D(x_data, y_data, z_data, c=anomalies, cmap='coolwarm', label='Anomaly', edgecolor='k')\n",
    "    ax.set_xlabel('X Axis')\n",
    "    ax.set_ylabel('Y Axis')\n",
    "    ax.set_zlabel('Z Axis')\n",
    "    ax.set_title('XYZ Space')\n",
    "    ax.legend()\n",
    "    plt.colorbar(scatter, ax=ax, label='Anomaly')\n",
    "\n",
    "# 플롯 생성\n",
    "fig = plt.figure(figsize=(20, 15))\n",
    "\n",
    "# 1D 플롯\n",
    "ax = plt.subplot(2, 4, 1)\n",
    "plot_1d(ax, x_data_scaled, anomalies['x'], 'X Axis Data', 'Index', 'X Axis')\n",
    "\n",
    "ax = plt.subplot(2, 4, 2)\n",
    "plot_1d(ax, y_data_scaled, anomalies['y'], 'Y Axis Data', 'Index', 'Y Axis')\n",
    "\n",
    "ax = plt.subplot(2, 4, 3)\n",
    "plot_1d(ax, z_data_scaled, anomalies['z'], 'Z Axis Data', 'Index', 'Z Axis')\n",
    "\n",
    "# 2D 플롯\n",
    "ax = plt.subplot(2, 4, 4)\n",
    "plot_2d(ax, x_data_scaled, y_data_scaled, anomalies['xy'], 'XY Plane', 'X Axis', 'Y Axis')\n",
    "\n",
    "ax = plt.subplot(2, 4, 5)\n",
    "plot_2d(ax, y_data_scaled, z_data_scaled, anomalies['yz'], 'YZ Plane', 'Y Axis', 'Z Axis')\n",
    "\n",
    "ax = plt.subplot(2, 4, 6)\n",
    "plot_2d(ax, x_data_scaled, z_data_scaled, anomalies['xz'], 'XZ Plane', 'X Axis', 'Z Axis')\n",
    "\n",
    "# 3D 플롯\n",
    "ax = plt.subplot(2, 4, 7, projection='3d')\n",
    "plot_3d(ax, x_data_scaled, y_data_scaled, z_data_scaled, anomalies['xyz'])\n",
    "\n",
    "plt.tight_layout()\n",
    "plt.show()"
   ]
  },
  {
   "cell_type": "code",
   "execution_count": null,
   "id": "0caaadbe-c262-40da-ba4d-39ece2bd790f",
   "metadata": {},
   "outputs": [],
   "source": [
    "# 이상치 예측\n",
    "predictions = model.predict(data_stack)\n",
    "\n",
    "# 예측 결과 -1은 이상치, 1은 정상 데이터\n",
    "anomalies = (predictions == -1)"
   ]
  },
  {
   "cell_type": "code",
   "execution_count": null,
   "id": "7d6e32f3-2650-4c8c-a7c1-678554dc9726",
   "metadata": {},
   "outputs": [],
   "source": [
    "# 3D 플로팅\n",
    "fig = plt.figure(figsize=(10, 7))\n",
    "ax = fig.add_subplot(111, projection='3d')\n",
    "\n",
    "# 정상 데이터\n",
    "ax.scatter(x_data_scaled[~anomalies], y_data_scaled[~anomalies], z_data_scaled[~anomalies], c='blue', label='Normal')\n",
    "\n",
    "# 이상치\n",
    "ax.scatter(x_data_scaled[anomalies], y_data_scaled[anomalies], z_data_scaled[anomalies], c='red', label='Anomaly')\n",
    "\n",
    "# 레이블 및 타이틀 설정\n",
    "ax.set_xlabel('X Axis')\n",
    "ax.set_ylabel('Y Axis')\n",
    "ax.set_zlabel('Z Axis')\n",
    "ax.set_title('Isolation Forest Anomaly Detection')\n",
    "ax.legend()\n",
    "\n",
    "plt.show()"
   ]
  },
  {
   "cell_type": "code",
   "execution_count": null,
   "id": "308b37c7-1034-4b12-90da-02783455bd80",
   "metadata": {},
   "outputs": [],
   "source": []
  }
 ],
 "metadata": {
  "kernelspec": {
   "display_name": "Python 3 (ipykernel)",
   "language": "python",
   "name": "python3"
  },
  "language_info": {
   "codemirror_mode": {
    "name": "ipython",
    "version": 3
   },
   "file_extension": ".py",
   "mimetype": "text/x-python",
   "name": "python",
   "nbconvert_exporter": "python",
   "pygments_lexer": "ipython3",
   "version": "3.12.3"
  }
 },
 "nbformat": 4,
 "nbformat_minor": 5
}
