{
 "cells": [
  {
   "cell_type": "code",
   "execution_count": 2,
   "id": "2a344d3f-5fc2-473c-a7e8-ed48439a9c12",
   "metadata": {},
   "outputs": [
    {
     "name": "stdout",
     "output_type": "stream",
     "text": [
      "C:\\MotorPM Project\\MotorPMData\n"
     ]
    },
    {
     "data": {
      "application/vnd.jupyter.widget-view+json": {
       "model_id": "36f44a00969849e99b50827784fca461",
       "version_major": 2,
       "version_minor": 0
      },
      "text/plain": [
       "  0%|          | 0/48 [00:00<?, ?it/s]"
      ]
     },
     "metadata": {},
     "output_type": "display_data"
    },
    {
     "name": "stdout",
     "output_type": "stream",
     "text": [
      "Fitting 5 folds for each of 6 candidates, totalling 30 fits\n",
      "Fitting 5 folds for each of 6 candidates, totalling 30 fits\n",
      "Fitting 5 folds for each of 6 candidates, totalling 30 fits\n",
      "Fitting 5 folds for each of 6 candidates, totalling 30 fits\n",
      "Fitting 5 folds for each of 6 candidates, totalling 30 fits\n",
      "Fitting 5 folds for each of 6 candidates, totalling 30 fits\n",
      "Fitting 5 folds for each of 6 candidates, totalling 30 fits\n",
      "Fitting 5 folds for each of 6 candidates, totalling 30 fits\n",
      "Fitting 5 folds for each of 6 candidates, totalling 30 fits\n",
      "Fitting 5 folds for each of 6 candidates, totalling 30 fits\n",
      "Fitting 5 folds for each of 6 candidates, totalling 30 fits\n",
      "Fitting 5 folds for each of 6 candidates, totalling 30 fits\n",
      "Fitting 5 folds for each of 6 candidates, totalling 30 fits\n",
      "Fitting 5 folds for each of 6 candidates, totalling 30 fits\n",
      "Fitting 5 folds for each of 6 candidates, totalling 30 fits\n",
      "Fitting 5 folds for each of 6 candidates, totalling 30 fits\n",
      "Fitting 5 folds for each of 6 candidates, totalling 30 fits\n",
      "Fitting 5 folds for each of 6 candidates, totalling 30 fits\n",
      "Fitting 5 folds for each of 6 candidates, totalling 30 fits\n",
      "Fitting 5 folds for each of 6 candidates, totalling 30 fits\n",
      "Fitting 5 folds for each of 6 candidates, totalling 30 fits\n",
      "Fitting 5 folds for each of 6 candidates, totalling 30 fits\n",
      "Fitting 5 folds for each of 6 candidates, totalling 30 fits\n",
      "Fitting 5 folds for each of 6 candidates, totalling 30 fits\n",
      "Fitting 5 folds for each of 6 candidates, totalling 30 fits\n",
      "Fitting 5 folds for each of 6 candidates, totalling 30 fits\n",
      "Fitting 5 folds for each of 6 candidates, totalling 30 fits\n",
      "Fitting 5 folds for each of 6 candidates, totalling 30 fits\n",
      "Fitting 5 folds for each of 6 candidates, totalling 30 fits\n",
      "Fitting 5 folds for each of 6 candidates, totalling 30 fits\n",
      "Fitting 5 folds for each of 6 candidates, totalling 30 fits\n",
      "Fitting 5 folds for each of 6 candidates, totalling 30 fits\n",
      "Fitting 5 folds for each of 6 candidates, totalling 30 fits\n",
      "Fitting 5 folds for each of 6 candidates, totalling 30 fits\n",
      "Fitting 5 folds for each of 6 candidates, totalling 30 fits\n",
      "Fitting 5 folds for each of 6 candidates, totalling 30 fits\n",
      "Fitting 5 folds for each of 6 candidates, totalling 30 fits\n",
      "Fitting 5 folds for each of 6 candidates, totalling 30 fits\n",
      "Fitting 5 folds for each of 6 candidates, totalling 30 fits\n",
      "Fitting 5 folds for each of 6 candidates, totalling 30 fits\n",
      "Fitting 5 folds for each of 6 candidates, totalling 30 fits\n",
      "Fitting 5 folds for each of 6 candidates, totalling 30 fits\n",
      "Fitting 5 folds for each of 6 candidates, totalling 30 fits\n",
      "Fitting 5 folds for each of 6 candidates, totalling 30 fits\n",
      "Fitting 5 folds for each of 6 candidates, totalling 30 fits\n",
      "Fitting 5 folds for each of 6 candidates, totalling 30 fits\n"
     ]
    }
   ],
   "source": [
    "import numpy as np\n",
    "import pandas as pd\n",
    "import matplotlib.pyplot as plt\n",
    "import os\n",
    "from tqdm.notebook import tqdm\n",
    "from sklearn.ensemble import RandomForestRegressor\n",
    "from sklearn.model_selection import GridSearchCV\n",
    "\n",
    "# 데이터가 저장된 디렉토리 경로\n",
    "print(os.getcwd())\n",
    "directory = 'data/All_not_null'\n",
    "\n",
    "# 저장할 디렉토리 경로\n",
    "output_directory = 'data/random_result'\n",
    "if not os.path.exists(output_directory):\n",
    "    os.makedirs(output_directory)\n",
    "\n",
    "# 디렉토리 내 모든 CSV 파일에 대해 처리\n",
    "for filename in tqdm(os.listdir(directory)):\n",
    "    if filename.endswith('.csv'):\n",
    "        # 파일 경로\n",
    "        file_path = os.path.join(directory, filename)\n",
    "        \n",
    "        # 데이터 읽기\n",
    "        data = pd.read_csv(file_path)\n",
    "        data = data.dropna()\n",
    "        \n",
    "        # 데이터 전처리\n",
    "        X = data.iloc[:, 4:-6]  # 특성 데이터\n",
    "        y = data.iloc[:, -2]  # 목표 변수\n",
    "        features = X.columns.to_list()\n",
    "        y = y.squeeze()\n",
    "\n",
    "        # 랜덤 포레스트 회귀 모델 학습\n",
    "        param_grid = {\n",
    "            'max_depth': [2,3,4],\n",
    "            'n_estimators':[200,300],\n",
    "            'random_state':[42]\n",
    "        }\n",
    "\n",
    "        # GridSearchCV 객체 생성\n",
    "        reg = RandomForestRegressor()\n",
    "        grid_search = GridSearchCV(estimator=reg, param_grid=param_grid, cv=5, n_jobs=-1, verbose=2)\n",
    "        grid_search.fit(X, y)\n",
    "\n",
    "        grid_imp = grid_search.best_estimator_.feature_importances_\n",
    "        \n",
    "        indices = np.argsort(grid_imp)[::-1]\n",
    "        \n",
    "        # 시각화\n",
    "        plt.figure(figsize=(15, 10))\n",
    "        plt.title(f'{filename} \\n Top 5 : {np.array(features)[indices[:5]]} \\n HP : {grid_search.best_estimator_}')\n",
    "        plt.bar(range(X.shape[1]), grid_imp[indices], align='center')\n",
    "        plt.xticks(range(X.shape[1]), np.array(features)[indices], rotation=90)\n",
    "        plt.xlim([-1, X.shape[1]])\n",
    "\n",
    "        # 파일로 저장\n",
    "        output_file = os.path.join(output_directory, f'{filename}.png')\n",
    "        plt.savefig(output_file)\n",
    "        plt.close()\n",
    "       "
   ]
  },
  {
   "cell_type": "code",
   "execution_count": null,
   "id": "0900f3ef-04cd-4acc-8141-91a7bdf17ffe",
   "metadata": {},
   "outputs": [],
   "source": []
  }
 ],
 "metadata": {
  "kernelspec": {
   "display_name": "Python 3 (ipykernel)",
   "language": "python",
   "name": "python3"
  },
  "language_info": {
   "codemirror_mode": {
    "name": "ipython",
    "version": 3
   },
   "file_extension": ".py",
   "mimetype": "text/x-python",
   "name": "python",
   "nbconvert_exporter": "python",
   "pygments_lexer": "ipython3",
   "version": "3.12.3"
  }
 },
 "nbformat": 4,
 "nbformat_minor": 5
}
