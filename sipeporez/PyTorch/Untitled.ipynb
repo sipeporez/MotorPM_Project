{
 "cells": [
  {
   "cell_type": "code",
   "execution_count": 41,
   "id": "f2d6869a-5e73-4307-8a58-90136cf7f848",
   "metadata": {},
   "outputs": [
    {
     "name": "stdout",
     "output_type": "stream",
     "text": [
      "torch.Size([1452, 3, 2048]) torch.Size([1342])\n"
     ]
    }
   ],
   "source": [
    "print(result[0][0].shape, result[0][1].shape)"
   ]
  },
  {
   "cell_type": "code",
   "execution_count": 54,
   "id": "444a72fd-e17d-4d91-82cd-eae2d0142358",
   "metadata": {},
   "outputs": [],
   "source": [
    "import pandas as pd\n",
    "from itertools import chain\n",
    "import torch\n",
    "from tqdm import tqdm\n",
    "\n",
    "#'data/5528_droped_data.csv'\n",
    "def PostProcessing(file_name, model_type):\n",
    "    if model_type not in ['reg', 'cls']:\n",
    "        raise ValueError(\"model_type must be either 'reg' or 'cls'\")\n",
    "        \n",
    "    df = pd.read_csv(file_name)\n",
    "\n",
    "    # string 리스트를 float 리스트로 변환\n",
    "    df['spectrum_x_amp'] = df['spectrum_x_amp'].apply(lambda x: [float(i) for i in x.split(',')])\n",
    "    df['spectrum_y_amp'] = df['spectrum_y_amp'].apply(lambda x: [float(i) for i in x.split(',')])\n",
    "    df['spectrum_z_amp'] = df['spectrum_z_amp'].apply(lambda x: [float(i) for i in x.split(',')])\n",
    "\n",
    "    # 12일씩 묶어서 그룹화\n",
    "    grouped_df = df.groupby(df.index // 12).apply(lambda x: x.reset_index(drop=True))\n",
    "    \n",
    "    # 노말 데이터와 에러 데이터 나누기 -> 1일때만 정상\n",
    "    normal_df = grouped_df[grouped_df['imbalance_health'] == 1]\n",
    "    error_df = grouped_df[grouped_df['imbalance_health'] != 1]\n",
    "\n",
    "    # 사용하지 않는 컬럼 처리\n",
    "    normal_df = normal_df.drop(columns=['date', 'asset_id','time','misalignment_health', 'looseness_health', 'bearing_health'])\n",
    "    error_df = error_df.drop(columns=['date','asset_id','time','misalignment_health', 'looseness_health', 'bearing_health'])\n",
    "\n",
    "    # 에셋 마다 다르므로 변경해야 함, 현재는 5528 에셋 기준\n",
    "    # train -> 나머지 | dev -> 3~4월 | test -> 7월\n",
    "    train_normal = pd.concat([normal_df.iloc[:372], normal_df.iloc[780:-408]]) # 나머지\n",
    "    dev_normal = normal_df.iloc[372:780] # 3~4월\n",
    "    test_normal = normal_df.iloc[-408:] # 7월\n",
    "\n",
    "    train_error = pd.concat([error_df.iloc[:60], error_df.iloc[96:-36]]) # 나머지\n",
    "    dev_error = error_df.iloc[60:96] # 3~4월\n",
    "    test_error = error_df.iloc[-36:] # 7월\n",
    "\n",
    "    def df_to_tensor (df, cols = ['spectrum_x_amp', 'spectrum_y_amp', 'spectrum_z_amp']):\n",
    "\n",
    "        # 각 행의 리스트를 병합, 첫번째 데이터는 버림\n",
    "        for col in tqdm(cols):\n",
    "            df.loc[:, col] = df[col].apply(lambda x: [float(j) for j in x][1:])\n",
    "        # 라벨링용 imbalance_health 처리\n",
    "        imb = df['imbalance_health']\n",
    "        imb = imb.reset_index(drop=True)\n",
    "        imb = imb.groupby(imb.index // 12).first()\n",
    "        \n",
    "        # 그룹별로 데이터를 모아서 텐서로 변환하고 스택\n",
    "        stacked = df[cols].stack().reset_index(drop=True)\n",
    "        tensor_reshaped = torch.tensor(stacked).view(-1, 3, len(torch.tensor(stacked)[0]))\n",
    "        \n",
    "        return tensor_reshaped, imb\n",
    "\n",
    "    train_normal, _ = df_to_tensor(train_normal)\n",
    "    train_error, train_im = df_to_tensor(train_error)\n",
    "    \n",
    "    test_normal, _ = df_to_tensor(test_normal)\n",
    "    test_error, test_im = df_to_tensor(test_error)\n",
    "    \n",
    "    dev_normal, _ = df_to_tensor(dev_normal)\n",
    "    dev_error, dev_im = df_to_tensor(dev_error)\n",
    "\n",
    "    def Labeling_data(normal_data, error_data, imb):\n",
    "        # 데이터 레이블 생성\n",
    "        normal_labels = torch.ones(normal_data.size(0), dtype=torch.long)  # 정상 데이터 레이블 (1)\n",
    "        if model_type == 'cls': # 이진 분류인 경우\n",
    "            error_labels = torch.zeros(error_data.size(0), dtype=torch.long)  # 비정상 데이터 레이블 (0)\n",
    "        elif model_type == 'reg': # 회귀인 경우\n",
    "            error_labels = torch.tensor(imb.values, dtype=torch.float32)  # 비정상 데이터 레이블 (imbalance 값)\n",
    "        \n",
    "        # 데이터 결합\n",
    "        combined_data = torch.cat((normal_data, error_data), dim=0)\n",
    "        combined_labels = torch.cat((normal_labels, error_labels), dim=0)\n",
    "    \n",
    "        return combined_data, combined_labels\n",
    "    \n",
    "    comb_data_train, comb_labels_train =  Labeling_data(train_normal, train_error, train_im)\n",
    "    comb_data_test, comb_labels_test =  Labeling_data(test_normal, test_error, test_im)\n",
    "    comb_data_dev, comb_labels_dev =  Labeling_data(dev_normal, dev_error, dev_im)\n",
    "\n",
    "    return [[comb_data_train, comb_labels_train],[comb_data_test, comb_labels_test],[comb_data_dev, comb_labels_dev]]"
   ]
  },
  {
   "cell_type": "code",
   "execution_count": null,
   "id": "fbabae18-e08f-48eb-a595-5f8998aad92f",
   "metadata": {},
   "outputs": [
    {
     "name": "stderr",
     "output_type": "stream",
     "text": [
      "100%|████████████████████████████████████████████████████████████████████████████████████| 3/3 [00:00<00:00,  8.96it/s]\n"
     ]
    }
   ],
   "source": [
    "sss = PostProcessing('data/5528_droped_data.csv',model_type='cls')"
   ]
  },
  {
   "cell_type": "code",
   "execution_count": null,
   "id": "e074419a-5fc9-4e48-bc56-a4d1801ea3f7",
   "metadata": {},
   "outputs": [],
   "source": []
  }
 ],
 "metadata": {
  "kernelspec": {
   "display_name": "Python 3 (ipykernel)",
   "language": "python",
   "name": "python3"
  },
  "language_info": {
   "codemirror_mode": {
    "name": "ipython",
    "version": 3
   },
   "file_extension": ".py",
   "mimetype": "text/x-python",
   "name": "python",
   "nbconvert_exporter": "python",
   "pygments_lexer": "ipython3",
   "version": "3.12.3"
  }
 },
 "nbformat": 4,
 "nbformat_minor": 5
}
