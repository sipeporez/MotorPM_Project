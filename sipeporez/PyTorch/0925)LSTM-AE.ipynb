{
 "cells": [
  {
   "cell_type": "code",
   "execution_count": 1,
   "id": "f8baa4d8-ad59-4edf-bb13-1a6f60cab7f2",
   "metadata": {},
   "outputs": [],
   "source": [
    "import pandas as pd\n",
    "import numpy as np\n",
    "from tqdm.notebook import tqdm \n",
    "import matplotlib.pyplot as plt\n",
    "\n",
    "from sklearn.preprocessing import MinMaxScaler\n",
    "import torch\n",
    "import torch.nn as nn\n",
    "import torch.optim as optim\n",
    "from torch.utils.data import DataLoader, TensorDataset\n",
    "\n",
    "\n",
    "# 1. 데이터 로드\n",
    "data = pd.read_csv('data/5528_12count/inter/5528_inter_imbalance_normal.csv')\n",
    "e_data = pd.read_csv('data/5528_12count/inter/5528_inter_imbalance_error.csv')\n",
    "\n",
    "# 2. null값 처리\n",
    "data = data.dropna()\n",
    "\n",
    "# 데이터의 시간 정보를 사용하여 훈련 데이터와 테스트 데이터 나누기\n",
    "# created_at 유닉스 시간대 컬럼을 기준으로 시계열 정렬\n",
    "data['created_at'] = pd.to_datetime(data['created_at'], unit='s')\n",
    "data = data.sort_values(by='created_at')\n",
    "\n",
    "e_data['created_at'] = pd.to_datetime(e_data['created_at'], unit='s')\n",
    "e_data = e_data.sort_values(by='created_at')\n",
    "\n",
    "# 훈련 데이터와 테스트 데이터 분할\n",
    "train_data = data\n",
    "test_data = e_data"
   ]
  },
  {
   "cell_type": "code",
   "execution_count": 2,
   "id": "3fd7b755-5370-4cd6-b531-bc817fe17413",
   "metadata": {},
   "outputs": [
    {
     "data": {
      "text/plain": [
       "<bound method NDFrame.head of                                   asset_id          created_at  \\\n",
       "0     55285839-9b78-48d8-9f4e-573190ace016 2024-01-09 15:47:44   \n",
       "1     55285839-9b78-48d8-9f4e-573190ace016 2024-01-09 17:47:53   \n",
       "2     55285839-9b78-48d8-9f4e-573190ace016 2024-01-09 19:47:56   \n",
       "3     55285839-9b78-48d8-9f4e-573190ace016 2024-01-09 21:48:05   \n",
       "4     55285839-9b78-48d8-9f4e-573190ace016 2024-01-09 23:48:07   \n",
       "...                                    ...                 ...   \n",
       "2311  55285839-9b78-48d8-9f4e-573190ace016 2024-08-25 06:50:16   \n",
       "2312  55285839-9b78-48d8-9f4e-573190ace016 2024-08-25 08:50:24   \n",
       "2313  55285839-9b78-48d8-9f4e-573190ace016 2024-08-25 10:50:26   \n",
       "2314  55285839-9b78-48d8-9f4e-573190ace016 2024-08-25 12:50:35   \n",
       "2315  55285839-9b78-48d8-9f4e-573190ace016 2024-08-25 14:50:37   \n",
       "\n",
       "     created_at_datetime     rms_x     rms_y     rms_z   rms_xyz  vel_rms_x  \\\n",
       "0        2024-01-10 0:47  0.015930  0.017679  0.019701  0.030894   0.201879   \n",
       "1        2024-01-10 2:47  0.070012  0.069566  0.049347  0.110346   0.324538   \n",
       "2        2024-01-10 4:47  0.011621  0.014387  0.018832  0.026395   0.213049   \n",
       "3        2024-01-10 6:48  0.011591  0.015056  0.019152  0.026978   0.216960   \n",
       "4        2024-01-10 8:48  0.268893  0.226623  0.127837  0.374170   1.044890   \n",
       "...                  ...       ...       ...       ...       ...        ...   \n",
       "2311    2024-08-25 15:50  0.015997  0.015462  0.020731  0.030410   0.250990   \n",
       "2312    2024-08-25 17:50  0.014252  0.015412  0.020709  0.029488   0.237465   \n",
       "2313    2024-08-25 19:50  0.014229  0.015372  0.020380  0.029226   0.265960   \n",
       "2314    2024-08-25 21:50  0.022694  0.028622  0.022097  0.042690   0.288982   \n",
       "2315    2024-08-25 23:50  0.021358  0.038658  0.021757  0.049234   0.286048   \n",
       "\n",
       "      vel_rms_y  vel_rms_z  ...  peak2peak_y  peak2peak_z  vel_peak2peak_x  \\\n",
       "0      0.303944   0.328791  ...     0.123047     0.146484          1.08180   \n",
       "1      0.358952   0.441110  ...     0.462891     0.357422          2.08901   \n",
       "2      0.229300   0.345150  ...     0.093750     0.152344          1.18234   \n",
       "3      0.292500   0.381362  ...     0.111328     0.158203          1.31495   \n",
       "4      1.030820   0.652165  ...     1.669920     0.902344          6.11164   \n",
       "...         ...        ...  ...          ...          ...              ...   \n",
       "2311   0.291288   0.542528  ...     0.099609     0.164062          1.46049   \n",
       "2312   0.281824   0.415895  ...     0.105469     0.152344          1.47539   \n",
       "2313   0.204734   0.313585  ...     0.117188     0.169922          1.36475   \n",
       "2314   0.244747   0.327448  ...     0.175781     0.169922          1.84697   \n",
       "2315   0.239870   0.328683  ...     0.216797     0.169922          1.78063   \n",
       "\n",
       "      vel_peak2peak_y  vel_peak2peak_z             time  imbalance_health  \\\n",
       "0             1.70089          1.78856  2024-01-11 0:00                 1   \n",
       "1             2.44386          2.89197  2024-01-11 0:00                 1   \n",
       "2             1.36917          1.72596  2024-01-11 0:00                 1   \n",
       "3             1.53516          2.41714  2024-01-11 0:00                 1   \n",
       "4             6.91443          4.14951  2024-01-11 0:00                 1   \n",
       "...               ...              ...              ...               ...   \n",
       "2311          1.56692          2.90621  2024-08-26 0:00                 1   \n",
       "2312          1.77482          2.47391  2024-08-26 0:00                 1   \n",
       "2313          1.27366          1.98877  2024-08-26 0:00                 1   \n",
       "2314          1.52400          1.85696  2024-08-26 0:00                 1   \n",
       "2315          1.40146          1.75376  2024-08-26 0:00                 1   \n",
       "\n",
       "      misalignment_health  looseness_health  bearing_health  \n",
       "0                       1                 1               1  \n",
       "1                       1                 1               1  \n",
       "2                       1                 1               1  \n",
       "3                       1                 1               1  \n",
       "4                       1                 1               1  \n",
       "...                   ...               ...             ...  \n",
       "2311                    1                 1               1  \n",
       "2312                    1                 1               1  \n",
       "2313                    1                 1               1  \n",
       "2314                    1                 1               1  \n",
       "2315                    1                 1               1  \n",
       "\n",
       "[2316 rows x 46 columns]>"
      ]
     },
     "execution_count": 2,
     "metadata": {},
     "output_type": "execute_result"
    }
   ],
   "source": [
    "train_data.head"
   ]
  },
  {
   "cell_type": "code",
   "execution_count": 3,
   "id": "8e1e3d88-83f6-427d-8a23-4f5141dcfae7",
   "metadata": {},
   "outputs": [],
   "source": [
    "# 3. 필요한 특성 선택\n",
    "train_features = train_data.drop(columns=['asset_id', 'created_at', 'created_at_datetime', 'looseness_health', 'time','misalignment_health', 'bearing_health', 'imbalance_health'])\n",
    "test_features = test_data.drop(columns=['asset_id', 'created_at', 'created_at_datetime', 'looseness_health', 'time','misalignment_health', 'bearing_health', 'imbalance_health'])\n",
    "\n",
    "# train_features = train_features.loc[:,['vel_crest_factor_x', 'rms_x', 'vel_kurtosis_y','vel_kurtosis_z', 'vel_peak_z','skewness_y','crest_factor_y','vel_skewness_x','vel_rms_xyz','peak_y','peak_x']]\n",
    "# test_features = test_features.loc[:,['vel_crest_factor_x', 'rms_x', 'vel_kurtosis_y','vel_kurtosis_z', 'vel_peak_z','skewness_y','crest_factor_y','vel_skewness_x','vel_rms_xyz','peak_y','peak_x']]"
   ]
  },
  {
   "cell_type": "code",
   "execution_count": 4,
   "id": "07d3cf56-010d-4a37-bc57-a9673113c650",
   "metadata": {},
   "outputs": [
    {
     "data": {
      "text/plain": [
       "['rms_x',\n",
       " 'rms_y',\n",
       " 'rms_z',\n",
       " 'rms_xyz',\n",
       " 'vel_rms_x',\n",
       " 'vel_rms_y',\n",
       " 'vel_rms_z',\n",
       " 'vel_rms_xyz',\n",
       " 'skewness_x',\n",
       " 'skewness_y',\n",
       " 'skewness_z',\n",
       " 'vel_skewness_x',\n",
       " 'vel_skewness_y',\n",
       " 'vel_skewness_z',\n",
       " 'kurtosis_x',\n",
       " 'kurtosis_y',\n",
       " 'kurtosis_z',\n",
       " 'vel_kurtosis_x',\n",
       " 'vel_kurtosis_y',\n",
       " 'vel_kurtosis_z',\n",
       " 'crest_factor_x',\n",
       " 'crest_factor_y',\n",
       " 'crest_factor_z',\n",
       " 'vel_crest_factor_x',\n",
       " 'vel_crest_factor_y',\n",
       " 'vel_crest_factor_z',\n",
       " 'peak_x',\n",
       " 'peak_y',\n",
       " 'peak_z',\n",
       " 'vel_peak_x',\n",
       " 'vel_peak_y',\n",
       " 'vel_peak_z',\n",
       " 'peak2peak_x',\n",
       " 'peak2peak_y',\n",
       " 'peak2peak_z',\n",
       " 'vel_peak2peak_x',\n",
       " 'vel_peak2peak_y',\n",
       " 'vel_peak2peak_z']"
      ]
     },
     "execution_count": 4,
     "metadata": {},
     "output_type": "execute_result"
    }
   ],
   "source": [
    "train_features.columns.to_list()"
   ]
  },
  {
   "cell_type": "code",
   "execution_count": 5,
   "id": "8b480090-ba19-4bea-946f-01260c94e310",
   "metadata": {},
   "outputs": [
    {
     "data": {
      "text/plain": [
       "((2316, 38), (192, 38))"
      ]
     },
     "execution_count": 5,
     "metadata": {},
     "output_type": "execute_result"
    }
   ],
   "source": [
    "train_features.shape , test_features.shape"
   ]
  },
  {
   "cell_type": "code",
   "execution_count": 6,
   "id": "2f39f558-2ce0-41e8-9085-86f048589afb",
   "metadata": {},
   "outputs": [],
   "source": [
    "class LSTMAutoencoder(nn.Module):\n",
    "    def __init__(self, seq_len, n_features, embedding_dim=10):\n",
    "        super(LSTMAutoencoder, self).__init__()\n",
    "        self.encoder = nn.LSTM(\n",
    "            input_size=n_features,\n",
    "            hidden_size=embedding_dim,\n",
    "            num_layers=1,\n",
    "            batch_first=True\n",
    "        )\n",
    "        self.decoder = nn.LSTM(\n",
    "            input_size=embedding_dim,\n",
    "            hidden_size=n_features,\n",
    "            num_layers=1,\n",
    "            batch_first=True\n",
    "        )\n",
    "\n",
    "    def forward(self, x):\n",
    "        # Encoder\n",
    "        _, (hidden_n, _) = self.encoder(x)\n",
    "        \n",
    "        # Decoder\n",
    "        decoder_input = hidden_n.repeat(x.size(1), 1, 1).permute(1, 0, 2)\n",
    "        decoder_output, _ = self.decoder(decoder_input)\n",
    "        \n",
    "        return decoder_output\n",
    "\n",
    "# 모델 초기화\n",
    "seq_len = 12  # 시퀀스 길이\n",
    "n_features = 38  # 특성 수\n",
    "model = LSTMAutoencoder(seq_len, n_features)"
   ]
  },
  {
   "cell_type": "code",
   "execution_count": 7,
   "id": "2f011200-2c21-4cf2-a471-1226b80e8c29",
   "metadata": {},
   "outputs": [],
   "source": [
    "# 슬라이딩 윈도우 생성 시 12칸씩 슬라이딩 하려면 사용할 것\n",
    "# train_features = train_features[:2004]\n",
    "# test_features = test_features[:492]"
   ]
  },
  {
   "cell_type": "code",
   "execution_count": 8,
   "id": "985524d9-a256-420c-8fdc-72e4e2099952",
   "metadata": {},
   "outputs": [],
   "source": [
    "# 4. 정규화\n",
    "scaler = MinMaxScaler()\n",
    "train_features_scaled = scaler.fit_transform(train_features)\n",
    "test_features_scaled = scaler.transform(test_features) # 테스트 데이터는 fit하면 안됨\n",
    "\n",
    "# 5. 슬라이딩 윈도우 생성\n",
    "window_size = seq_len # 2시간 단위를 하루 단위의 status 지표에 맞추기 위해 12 사용\n",
    "def create_windows(data, window_size):\n",
    "    # return [data[i:i+window_size] for i in range(len(data) - window_size + 1)] # 1칸씩 슬라이딩 (123, 234, 345 ...)\n",
    "    return [data[i:i + window_size] for i in range(0, len(data), window_size)] # window_size 만큼 구분지어 슬라이딩 (123, 456, 789 ...)\n",
    "\n",
    "def create_windows_for_test(data, window_size):\n",
    "    # return [data[i:i+window_size] for i in range(len(data) - window_size + 1)] # 1칸씩 슬라이딩 (123, 234, 345 ...)\n",
    "    return [data[i:i + window_size] for i in range(0, len(data), window_size)] # window_size 만큼 구분지어 슬라이딩 (123, 456, 789 ...)\n",
    "\n",
    "train_windows = create_windows(train_features_scaled, window_size)\n",
    "test_windows = create_windows_for_test(test_features_scaled, window_size)\n",
    "\n",
    "# 6. PyTorch 텐서로 변환\n",
    "train_windows_tensor = torch.tensor(np.array(train_windows), dtype=torch.float32)\n",
    "test_windows_tensor = torch.tensor(np.array(test_windows), dtype=torch.float32)"
   ]
  },
  {
   "cell_type": "code",
   "execution_count": 9,
   "id": "c70ccdb7-c749-4d21-9129-0614f712ff80",
   "metadata": {},
   "outputs": [
    {
     "data": {
      "text/plain": [
       "(torch.Size([193, 12, 38]), torch.Size([16, 12, 38]))"
      ]
     },
     "execution_count": 9,
     "metadata": {},
     "output_type": "execute_result"
    }
   ],
   "source": [
    "train_windows_tensor.shape, test_windows_tensor.shape"
   ]
  },
  {
   "cell_type": "code",
   "execution_count": 10,
   "id": "d2f92b41-6a2d-4687-bba3-0296eb158fd4",
   "metadata": {},
   "outputs": [],
   "source": [
    "# 7. 데이터셋 및 데이터로더 생성\n",
    "train_dataset = TensorDataset(train_windows_tensor)\n",
    "test_dataset = TensorDataset(test_windows_tensor)\n",
    "\n",
    "train_dataloader = DataLoader(train_dataset, batch_size=12, shuffle=True)\n",
    "test_dataloader = DataLoader(test_dataset, batch_size=12, shuffle=False)"
   ]
  },
  {
   "cell_type": "code",
   "execution_count": 11,
   "id": "97b0befb-ad3e-4d18-b9a3-7274e4c563a1",
   "metadata": {
    "scrolled": true
   },
   "outputs": [
    {
     "data": {
      "application/vnd.jupyter.widget-view+json": {
       "model_id": "216497bf7264401295febc39aa9e3dc6",
       "version_major": 2,
       "version_minor": 0
      },
      "text/plain": [
       "  0%|          | 0/100 [00:00<?, ?it/s]"
      ]
     },
     "metadata": {},
     "output_type": "display_data"
    },
    {
     "name": "stdout",
     "output_type": "stream",
     "text": [
      "Epoch 1/100, Loss: 0.0741954938892056\n",
      "Epoch 2/100, Loss: 0.05475095265051898\n",
      "Epoch 3/100, Loss: 0.04092372931978282\n",
      "Epoch 4/100, Loss: 0.03152835971730597\n",
      "Epoch 5/100, Loss: 0.025396074004033032\n",
      "Epoch 6/100, Loss: 0.022932068828274223\n",
      "Epoch 7/100, Loss: 0.022481218528221634\n",
      "Epoch 8/100, Loss: 0.020917885936796665\n",
      "Epoch 9/100, Loss: 0.02042371965944767\n",
      "Epoch 10/100, Loss: 0.020212806870832163\n",
      "Epoch 11/100, Loss: 0.020578400724950957\n",
      "Epoch 12/100, Loss: 0.019231137216967696\n",
      "Epoch 13/100, Loss: 0.018988411928362706\n",
      "Epoch 14/100, Loss: 0.01852990182883599\n",
      "Epoch 15/100, Loss: 0.01816492640029858\n",
      "Epoch 16/100, Loss: 0.018093900508521235\n",
      "Epoch 17/100, Loss: 0.018774198149056995\n",
      "Epoch 18/100, Loss: 0.018662925426136043\n",
      "Epoch 19/100, Loss: 0.018795422004426226\n",
      "Epoch 20/100, Loss: 0.01891420693958507\n",
      "Epoch 21/100, Loss: 0.018576715525020573\n",
      "Epoch 22/100, Loss: 0.018778123564141637\n",
      "Epoch 23/100, Loss: 0.01783249225905713\n",
      "Epoch 24/100, Loss: 0.017664515988572556\n",
      "Epoch 25/100, Loss: 0.01831522666137008\n",
      "Epoch 26/100, Loss: 0.018100656514220378\n",
      "Epoch 27/100, Loss: 0.018117808298591304\n",
      "Epoch 28/100, Loss: 0.01776764404905193\n",
      "Epoch 29/100, Loss: 0.017977645894622103\n",
      "Epoch 30/100, Loss: 0.018557729802149182\n",
      "Epoch 31/100, Loss: 0.017933737431817195\n",
      "Epoch 32/100, Loss: 0.017293674665886688\n",
      "Epoch 33/100, Loss: 0.01754663386108244\n",
      "Epoch 34/100, Loss: 0.018414235564277452\n",
      "Epoch 35/100, Loss: 0.018690811251016223\n",
      "Epoch 36/100, Loss: 0.018147430492236334\n",
      "Epoch 37/100, Loss: 0.017675400382893926\n",
      "Epoch 38/100, Loss: 0.01764163079068941\n",
      "Epoch 39/100, Loss: 0.017651014796951237\n",
      "Epoch 40/100, Loss: 0.01828786703374456\n",
      "Epoch 41/100, Loss: 0.017316779888728085\n",
      "Epoch 42/100, Loss: 0.018419526681742248\n",
      "Epoch 43/100, Loss: 0.018084968495018342\n",
      "Epoch 44/100, Loss: 0.017241952064282754\n",
      "Epoch 45/100, Loss: 0.017714874709353727\n",
      "Epoch 46/100, Loss: 0.017487906248253936\n",
      "Epoch 47/100, Loss: 0.017491229426334885\n",
      "Epoch 48/100, Loss: 0.017993653740952995\n",
      "Epoch 49/100, Loss: 0.0184710502405377\n",
      "Epoch 50/100, Loss: 0.018012873444925335\n",
      "Epoch 51/100, Loss: 0.017640850835425013\n",
      "Epoch 52/100, Loss: 0.01796260109061704\n",
      "Epoch 53/100, Loss: 0.017766828867880738\n",
      "Epoch 54/100, Loss: 0.017262989929055467\n",
      "Epoch 55/100, Loss: 0.016950407325673628\n",
      "Epoch 56/100, Loss: 0.017915350001524475\n",
      "Epoch 57/100, Loss: 0.018373181057326934\n",
      "Epoch 58/100, Loss: 0.01737288697896635\n",
      "Epoch 59/100, Loss: 0.017255204510601127\n",
      "Epoch 60/100, Loss: 0.017706237295094657\n",
      "Epoch 61/100, Loss: 0.017826485611936626\n",
      "Epoch 62/100, Loss: 0.018416367142516023\n",
      "Epoch 63/100, Loss: 0.01683375269503278\n",
      "Epoch 64/100, Loss: 0.01801816001534462\n",
      "Epoch 65/100, Loss: 0.017656592104364845\n",
      "Epoch 66/100, Loss: 0.016796403769951535\n",
      "Epoch 67/100, Loss: 0.01734571246539845\n",
      "Epoch 68/100, Loss: 0.018258437076035666\n",
      "Epoch 69/100, Loss: 0.016976566656547433\n",
      "Epoch 70/100, Loss: 0.017118066878003234\n",
      "Epoch 71/100, Loss: 0.017890797380138847\n",
      "Epoch 72/100, Loss: 0.017385300358428675\n",
      "Epoch 73/100, Loss: 0.017757225507760748\n",
      "Epoch 74/100, Loss: 0.016879218466141644\n",
      "Epoch 75/100, Loss: 0.01669712444794748\n",
      "Epoch 76/100, Loss: 0.018163805663147393\n",
      "Epoch 77/100, Loss: 0.01678099751691608\n",
      "Epoch 78/100, Loss: 0.017323196756050867\n",
      "Epoch 79/100, Loss: 0.018505998887121677\n",
      "Epoch 80/100, Loss: 0.01748249548323014\n",
      "Epoch 81/100, Loss: 0.017101973569130197\n",
      "Epoch 82/100, Loss: 0.017624995068592185\n",
      "Epoch 83/100, Loss: 0.01726146327222095\n",
      "Epoch 84/100, Loss: 0.016987243009840742\n",
      "Epoch 85/100, Loss: 0.017566251897198314\n",
      "Epoch 86/100, Loss: 0.01708231833489502\n",
      "Epoch 87/100, Loss: 0.017446608337409356\n",
      "Epoch 88/100, Loss: 0.01801026935743935\n",
      "Epoch 89/100, Loss: 0.017011945683728245\n",
      "Epoch 90/100, Loss: 0.017471699372810477\n",
      "Epoch 91/100, Loss: 0.01738652800593306\n",
      "Epoch 92/100, Loss: 0.017375528812408447\n",
      "Epoch 93/100, Loss: 0.016424541662940207\n",
      "Epoch 94/100, Loss: 0.018103350282591933\n",
      "Epoch 95/100, Loss: 0.018126729327966187\n",
      "Epoch 96/100, Loss: 0.016980425071190384\n",
      "Epoch 97/100, Loss: 0.01726422497235677\n",
      "Epoch 98/100, Loss: 0.01694568169905859\n",
      "Epoch 99/100, Loss: 0.01679641764391871\n",
      "Epoch 100/100, Loss: 0.01669266611775931\n"
     ]
    }
   ],
   "source": [
    "# 손실 함수와 옵티마이저 정의\n",
    "criterion = nn.MSELoss()\n",
    "optimizer = torch.optim.Adam(model.parameters())\n",
    "\n",
    "# 학습 루프\n",
    "num_epochs = 100\n",
    "best_loss = float('inf')\n",
    "best_model_state = None\n",
    "\n",
    "for epoch in tqdm(range(num_epochs)):\n",
    "    epoch_loss = 0\n",
    "    for batch in train_dataloader:\n",
    "        optimizer.zero_grad()\n",
    "        outputs = model(batch[0])\n",
    "        loss = criterion(outputs, batch[0])\n",
    "        loss.backward()\n",
    "        optimizer.step()\n",
    "\n",
    "        epoch_loss += loss.item()\n",
    "\n",
    "    avg_loss = epoch_loss / len(train_dataloader)\n",
    "    print(f'Epoch {epoch + 1}/{num_epochs}, Loss: {avg_loss}')\n",
    "\n",
    "    # 최적 모델 업데이트\n",
    "    if avg_loss < best_loss:\n",
    "        best_loss = avg_loss\n",
    "        best_model_state = model.state_dict()  # 모델의 상태 저장\n",
    "\n",
    "# 훈련 후 최적 모델 저장\n",
    "if best_model_state is not None:\n",
    "    torch.save(best_model_state, '0925_best_model_LSTM_AE.pth')\n"
   ]
  },
  {
   "cell_type": "code",
   "execution_count": 12,
   "id": "aaae2d1b-7399-4c84-9878-1b85f3ed6c5a",
   "metadata": {},
   "outputs": [
    {
     "name": "stderr",
     "output_type": "stream",
     "text": [
      "C:\\Users\\user\\AppData\\Local\\Temp\\ipykernel_2080\\2688890986.py:2: FutureWarning: You are using `torch.load` with `weights_only=False` (the current default value), which uses the default pickle module implicitly. It is possible to construct malicious pickle data which will execute arbitrary code during unpickling (See https://github.com/pytorch/pytorch/blob/main/SECURITY.md#untrusted-models for more details). In a future release, the default value for `weights_only` will be flipped to `True`. This limits the functions that could be executed during unpickling. Arbitrary objects will no longer be allowed to be loaded via this mode unless they are explicitly allowlisted by the user via `torch.serialization.add_safe_globals`. We recommend you start setting `weights_only=True` for any use case where you don't have full control of the loaded file. Please open an issue on GitHub for any issues related to this experimental feature.\n",
      "  model.load_state_dict(torch.load('0925_best_model_LSTM_AE.pth'))\n"
     ]
    }
   ],
   "source": [
    "# 11. 모델 평가 (스코어링)\n",
    "model.load_state_dict(torch.load('0925_best_model_LSTM_AE.pth'))\n",
    "model.eval()\n",
    "\n",
    "criterion = nn.MSELoss(reduction='none')\n",
    "anomaly_scores = []\n",
    "\n",
    "with torch.no_grad():\n",
    "    for batch in test_dataloader:\n",
    "        inputs = batch[0]\n",
    "        outputs = model(inputs)\n",
    "        \n",
    "        # 재구성 오차로 이상점수 계산 (MSE Loss)\n",
    "        batch_scores = criterion(outputs, inputs).mean(dim=(1,2))\n",
    "        anomaly_scores.extend(batch_scores)"
   ]
  },
  {
   "cell_type": "code",
   "execution_count": 13,
   "id": "efbc11bc-d3fa-4656-bee0-cbca42968b2b",
   "metadata": {},
   "outputs": [
    {
     "name": "stdout",
     "output_type": "stream",
     "text": [
      "평균 스코어: 0.016787\n",
      "표준편차: 0.007320\n",
      "임계값: 0.035643\n",
      "이상 점수 인덱스: [13]\n"
     ]
    }
   ],
   "source": [
    "# 12. 임계값 계산\n",
    "mean_score = np.mean(anomaly_scores)\n",
    "std_score = np.std(anomaly_scores)\n",
    "\n",
    "print(f'평균 스코어: {mean_score:.6f}')\n",
    "print(f'표준편차: {std_score:.6f}')\n",
    "\n",
    "# 임계값 설정 (평균 + 임의값 * 표준편차)\n",
    "threshold = mean_score + 2.576 * std_score\n",
    "print(f'임계값: {threshold:.6f}')\n",
    "\n",
    "# 이상 점수 판별\n",
    "anomalies = anomaly_scores > threshold\n",
    "print(f'이상 점수 인덱스: {np.where(anomalies)[0]}')"
   ]
  },
  {
   "cell_type": "code",
   "execution_count": 14,
   "id": "7f07eef5-e237-4594-a325-c404a4c06193",
   "metadata": {},
   "outputs": [
    {
     "data": {
      "image/png": "[encoded data removed]",
      "text/plain": [
       "<Figure size 1000x500 with 1 Axes>"
      ]
     },
     "metadata": {},
     "output_type": "display_data"
    }
   ],
   "source": [
    "# 13. 인덱스 및 이상 점수 시각화\n",
    "anomaly_indices = np.where(anomalies)[0]\n",
    "\n",
    "plt.figure(figsize=(10, 5))\n",
    "plt.plot(anomaly_scores, label='Anomaly Scores', marker='o')\n",
    "# plt.axhline(y=threshold, color='r', linestyle='--', label='Threshold')\n",
    "plt.xlabel('Index')\n",
    "plt.ylabel('Score')\n",
    "plt.title(f'LSTM AutoEncoder (mean loss : {format(mean_score, '.6f')})')\n",
    "plt.legend()\n",
    "plt.show()"
   ]
  },
  {
   "cell_type": "code",
   "execution_count": 15,
   "id": "2a08d8d0-e0a2-4599-9596-6ffe42a0a8be",
   "metadata": {},
   "outputs": [
    {
     "data": {
      "text/html": [
       "<div>\n",
       "<style scoped>\n",
       "    .dataframe tbody tr th:only-of-type {\n",
       "        vertical-align: middle;\n",
       "    }\n",
       "\n",
       "    .dataframe tbody tr th {\n",
       "        vertical-align: top;\n",
       "    }\n",
       "\n",
       "    .dataframe thead th {\n",
       "        text-align: right;\n",
       "    }\n",
       "</style>\n",
       "<table border=\"1\" class=\"dataframe\">\n",
       "  <thead>\n",
       "    <tr style=\"text-align: right;\">\n",
       "      <th></th>\n",
       "      <th>asset_id</th>\n",
       "      <th>created_at</th>\n",
       "      <th>created_at_datetime</th>\n",
       "      <th>rms_x</th>\n",
       "      <th>rms_y</th>\n",
       "      <th>rms_z</th>\n",
       "      <th>rms_xyz</th>\n",
       "      <th>vel_rms_x</th>\n",
       "      <th>vel_rms_y</th>\n",
       "      <th>vel_rms_z</th>\n",
       "      <th>...</th>\n",
       "      <th>peak2peak_y</th>\n",
       "      <th>peak2peak_z</th>\n",
       "      <th>vel_peak2peak_x</th>\n",
       "      <th>vel_peak2peak_y</th>\n",
       "      <th>vel_peak2peak_z</th>\n",
       "      <th>time</th>\n",
       "      <th>imbalance_health</th>\n",
       "      <th>misalignment_health</th>\n",
       "      <th>looseness_health</th>\n",
       "      <th>bearing_health</th>\n",
       "    </tr>\n",
       "  </thead>\n",
       "  <tbody>\n",
       "    <tr>\n",
       "      <th>13</th>\n",
       "      <td>55285839-9b78-48d8-9f4e-573190ace016</td>\n",
       "      <td>2024-01-12 17:55:40</td>\n",
       "      <td>2024-01-13 2:55</td>\n",
       "      <td>0.012003</td>\n",
       "      <td>0.014829</td>\n",
       "      <td>0.018606</td>\n",
       "      <td>0.026649</td>\n",
       "      <td>0.236908</td>\n",
       "      <td>0.386276</td>\n",
       "      <td>0.32377</td>\n",
       "      <td>...</td>\n",
       "      <td>0.105469</td>\n",
       "      <td>0.152344</td>\n",
       "      <td>1.73793</td>\n",
       "      <td>1.97696</td>\n",
       "      <td>1.56504</td>\n",
       "      <td>2024-01-14 0:00</td>\n",
       "      <td>0.878773</td>\n",
       "      <td>0.98</td>\n",
       "      <td>0.98</td>\n",
       "      <td>1</td>\n",
       "    </tr>\n",
       "  </tbody>\n",
       "</table>\n",
       "<p>1 rows × 46 columns</p>\n",
       "</div>"
      ],
      "text/plain": [
       "                                asset_id          created_at  \\\n",
       "13  55285839-9b78-48d8-9f4e-573190ace016 2024-01-12 17:55:40   \n",
       "\n",
       "   created_at_datetime     rms_x     rms_y     rms_z   rms_xyz  vel_rms_x  \\\n",
       "13     2024-01-13 2:55  0.012003  0.014829  0.018606  0.026649   0.236908   \n",
       "\n",
       "    vel_rms_y  vel_rms_z  ...  peak2peak_y  peak2peak_z  vel_peak2peak_x  \\\n",
       "13   0.386276    0.32377  ...     0.105469     0.152344          1.73793   \n",
       "\n",
       "    vel_peak2peak_y  vel_peak2peak_z             time  imbalance_health  \\\n",
       "13          1.97696          1.56504  2024-01-14 0:00          0.878773   \n",
       "\n",
       "    misalignment_health  looseness_health  bearing_health  \n",
       "13                 0.98              0.98               1  \n",
       "\n",
       "[1 rows x 46 columns]"
      ]
     },
     "execution_count": 15,
     "metadata": {},
     "output_type": "execute_result"
    }
   ],
   "source": [
    "# 이상탐지된 인덱스 비교용\n",
    "test_data_result=test_data.reset_index(drop=True)\n",
    "indices = np.where(anomalies)[0].tolist()\n",
    "test_data_result.loc[indices]\n",
    "\n",
    "# test_data_result.loc[indices].to_csv(\"anomaly_transformer_result.csv\")\n"
   ]
  },
  {
   "cell_type": "code",
   "execution_count": null,
   "id": "a324f225-0d66-47d4-9509-040458982a58",
   "metadata": {},
   "outputs": [],
   "source": []
  }
 ],
 "metadata": {
  "kernelspec": {
   "display_name": "Python 3 (ipykernel)",
   "language": "python",
   "name": "python3"
  },
  "language_info": {
   "codemirror_mode": {
    "name": "ipython",
    "version": 3
   },
   "file_extension": ".py",
   "mimetype": "text/x-python",
   "name": "python",
   "nbconvert_exporter": "python",
   "pygments_lexer": "ipython3",
   "version": "3.12.3"
  }
 },
 "nbformat": 4,
 "nbformat_minor": 5
}
