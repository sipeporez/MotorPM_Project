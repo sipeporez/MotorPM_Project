{
 "cells": [
  {
   "cell_type": "code",
   "execution_count": 24,
   "id": "68f00b65-a0f2-4a06-ba80-5105522b0b17",
   "metadata": {},
   "outputs": [
    {
     "name": "stdout",
     "output_type": "stream",
     "text": [
      "   vel_crest_factor_x     rms_x  vel_kurtosis_y  vel_kurtosis_z  \\\n",
      "0             3.17691  0.016531        0.238311       -0.194781   \n",
      "1             3.02361  0.163692       -0.332250       -0.207113   \n",
      "2             3.48348  0.012110        0.134024        0.313288   \n",
      "3             3.15218  0.011488       -0.642477       -0.035853   \n",
      "4             3.13313  0.180281       -0.224277       -0.048955   \n",
      "\n",
      "   vel_crest_factor_y  \n",
      "0             3.07878  \n",
      "1             3.06249  \n",
      "2             3.35456  \n",
      "3             2.62286  \n",
      "4             3.47616  \n",
      "   imbalance_health\n",
      "0          0.924009\n",
      "1          0.924009\n",
      "2          0.924009\n",
      "3          0.924009\n",
      "4          0.924009\n"
     ]
    }
   ],
   "source": [
    "import numpy as np\n",
    "import pandas as pd\n",
    "import torch\n",
    "import torch.nn as nn\n",
    "import matplotlib.pyplot as plt\n",
    "\n",
    "from sklearn.preprocessing import MinMaxScaler\n",
    "from torch.utils.data import DataLoader, TensorDataset\n",
    "import tqdm.notebook as tqdm\n",
    "\n",
    "data = pd.read_csv(\"data/random_test/5528_data.csv\")\n",
    "data = data.dropna()\n",
    "data.sort_values('created_at')\n",
    "\n",
    "# Use multi features for multivariate modeling\n",
    "target = data[['imbalance_health']]\n",
    "data = data[['vel_crest_factor_x','rms_x','vel_kurtosis_y','vel_kurtosis_z','vel_crest_factor_y']]\n",
    "\n",
    "# Show the head of the data\n",
    "print(data.head())\n",
    "print(target.head())"
   ]
  },
  {
   "cell_type": "code",
   "execution_count": 25,
   "id": "99c7be36-b938-4eae-bb5d-224c282f8270",
   "metadata": {},
   "outputs": [],
   "source": [
    "# Normalize the entire dataset (all features)\n",
    "scaler = MinMaxScaler()\n",
    "data_scaled = scaler.fit_transform(data.values)\n",
    "\n",
    "# Target column (Close) for comparison\n",
    "target_scaler = MinMaxScaler()\n",
    "target_scaled = target_scaler.fit_transform(target.values)"
   ]
  },
  {
   "cell_type": "code",
   "execution_count": 26,
   "id": "e3597a36-3b59-4f79-a6da-5ec51fd09bff",
   "metadata": {},
   "outputs": [
    {
     "data": {
      "text/plain": [
       "(numpy.ndarray, (2515, 5))"
      ]
     },
     "execution_count": 26,
     "metadata": {},
     "output_type": "execute_result"
    }
   ],
   "source": [
    "type(data_scaled), data_scaled.shape"
   ]
  },
  {
   "cell_type": "code",
   "execution_count": 27,
   "id": "5f5b8305-0e67-468a-b6c7-a465dfb7d879",
   "metadata": {},
   "outputs": [
    {
     "data": {
      "text/plain": [
       "(numpy.ndarray, (2515, 1))"
      ]
     },
     "execution_count": 27,
     "metadata": {},
     "output_type": "execute_result"
    }
   ],
   "source": [
    "type(target_scaled), target_scaled.shape"
   ]
  },
  {
   "cell_type": "code",
   "execution_count": 30,
   "id": "ef82d72d-4dd6-4f3b-bac8-6a5c79d00465",
   "metadata": {},
   "outputs": [
    {
     "data": {
      "application/vnd.jupyter.widget-view+json": {
       "model_id": "e8b958e060e74e93b4e4ff381960676e",
       "version_major": 2,
       "version_minor": 0
      },
      "text/plain": [
       "  0%|          | 0/29 [00:00<?, ?it/s]"
      ]
     },
     "metadata": {},
     "output_type": "display_data"
    },
    {
     "name": "stdout",
     "output_type": "stream",
     "text": [
      "\n",
      "Processing SEQ_LENGTH=2...\n",
      "Starting training...\n",
      "Epoch 50/500, Loss: 0.015279\n",
      "Epoch 100/500, Loss: 0.014559\n",
      "Epoch 150/500, Loss: 0.014612\n",
      "Epoch 200/500, Loss: 0.014497\n",
      "Epoch 250/500, Loss: 0.014521\n",
      "Epoch 300/500, Loss: 0.014261\n",
      "Epoch 350/500, Loss: 0.014143\n",
      "Epoch 400/500, Loss: 0.013803\n",
      "Epoch 450/500, Loss: 0.014035\n",
      "Epoch 500/500, Loss: 0.013338\n",
      "Evaluating the model...\n",
      "Saving plot as plot_seq_length_2.png...\n",
      "Completed SEQ_LENGTH=2.\n",
      "\n",
      "\n",
      "Processing SEQ_LENGTH=3...\n"
     ]
    },
    {
     "name": "stderr",
     "output_type": "stream",
     "text": [
      "C:\\Users\\user\\AppData\\Local\\Temp\\ipykernel_5896\\288807071.py:63: FutureWarning: You are using `torch.load` with `weights_only=False` (the current default value), which uses the default pickle module implicitly. It is possible to construct malicious pickle data which will execute arbitrary code during unpickling (See https://github.com/pytorch/pytorch/blob/main/SECURITY.md#untrusted-models for more details). In a future release, the default value for `weights_only` will be flipped to `True`. This limits the functions that could be executed during unpickling. Arbitrary objects will no longer be allowed to be loaded via this mode unless they are explicitly allowlisted by the user via `torch.serialization.add_safe_globals`. We recommend you start setting `weights_only=True` for any use case where you don't have full control of the loaded file. Please open an issue on GitHub for any issues related to this experimental feature.\n",
      "  model.load_state_dict(torch.load(model_path, map_location=device))\n"
     ]
    },
    {
     "name": "stdout",
     "output_type": "stream",
     "text": [
      "Starting training...\n",
      "Epoch 50/500, Loss: 0.014459\n",
      "Epoch 100/500, Loss: 0.014415\n",
      "Epoch 150/500, Loss: 0.014395\n",
      "Epoch 200/500, Loss: 0.014289\n",
      "Epoch 250/500, Loss: 0.014129\n",
      "Epoch 300/500, Loss: 0.013405\n",
      "Epoch 350/500, Loss: 0.012596\n",
      "Epoch 400/500, Loss: 0.011766\n",
      "Epoch 450/500, Loss: 0.011271\n",
      "Epoch 500/500, Loss: 0.010316\n",
      "Evaluating the model...\n",
      "Saving plot as plot_seq_length_3.png...\n"
     ]
    },
    {
     "name": "stderr",
     "output_type": "stream",
     "text": [
      "C:\\Users\\user\\AppData\\Local\\Temp\\ipykernel_5896\\288807071.py:63: FutureWarning: You are using `torch.load` with `weights_only=False` (the current default value), which uses the default pickle module implicitly. It is possible to construct malicious pickle data which will execute arbitrary code during unpickling (See https://github.com/pytorch/pytorch/blob/main/SECURITY.md#untrusted-models for more details). In a future release, the default value for `weights_only` will be flipped to `True`. This limits the functions that could be executed during unpickling. Arbitrary objects will no longer be allowed to be loaded via this mode unless they are explicitly allowlisted by the user via `torch.serialization.add_safe_globals`. We recommend you start setting `weights_only=True` for any use case where you don't have full control of the loaded file. Please open an issue on GitHub for any issues related to this experimental feature.\n",
      "  model.load_state_dict(torch.load(model_path, map_location=device))\n"
     ]
    },
    {
     "name": "stdout",
     "output_type": "stream",
     "text": [
      "Completed SEQ_LENGTH=3.\n",
      "\n",
      "\n",
      "Processing SEQ_LENGTH=4...\n",
      "Starting training...\n",
      "Epoch 50/500, Loss: 0.014769\n",
      "Epoch 100/500, Loss: 0.014558\n",
      "Epoch 150/500, Loss: 0.014340\n",
      "Epoch 200/500, Loss: 0.013985\n",
      "Epoch 250/500, Loss: 0.013137\n",
      "Epoch 300/500, Loss: 0.012444\n",
      "Epoch 350/500, Loss: 0.011622\n",
      "Epoch 400/500, Loss: 0.010826\n",
      "Epoch 450/500, Loss: 0.008995\n",
      "Epoch 500/500, Loss: 0.007893\n",
      "Evaluating the model...\n",
      "Saving plot as plot_seq_length_4.png...\n",
      "Completed SEQ_LENGTH=4.\n",
      "\n",
      "\n",
      "Processing SEQ_LENGTH=5...\n",
      "Starting training...\n"
     ]
    },
    {
     "name": "stderr",
     "output_type": "stream",
     "text": [
      "C:\\Users\\user\\AppData\\Local\\Temp\\ipykernel_5896\\288807071.py:63: FutureWarning: You are using `torch.load` with `weights_only=False` (the current default value), which uses the default pickle module implicitly. It is possible to construct malicious pickle data which will execute arbitrary code during unpickling (See https://github.com/pytorch/pytorch/blob/main/SECURITY.md#untrusted-models for more details). In a future release, the default value for `weights_only` will be flipped to `True`. This limits the functions that could be executed during unpickling. Arbitrary objects will no longer be allowed to be loaded via this mode unless they are explicitly allowlisted by the user via `torch.serialization.add_safe_globals`. We recommend you start setting `weights_only=True` for any use case where you don't have full control of the loaded file. Please open an issue on GitHub for any issues related to this experimental feature.\n",
      "  model.load_state_dict(torch.load(model_path, map_location=device))\n"
     ]
    },
    {
     "name": "stdout",
     "output_type": "stream",
     "text": [
      "Epoch 50/500, Loss: 0.014879\n",
      "Epoch 100/500, Loss: 0.014420\n",
      "Epoch 150/500, Loss: 0.014361\n",
      "Epoch 200/500, Loss: 0.013658\n",
      "Epoch 250/500, Loss: 0.012549\n",
      "Epoch 300/500, Loss: 0.012306\n",
      "Epoch 350/500, Loss: 0.010290\n",
      "Epoch 400/500, Loss: 0.008334\n",
      "Epoch 450/500, Loss: 0.005610\n",
      "Epoch 500/500, Loss: 0.003577\n",
      "Evaluating the model...\n",
      "Saving plot as plot_seq_length_5.png...\n",
      "Completed SEQ_LENGTH=5.\n",
      "\n",
      "\n",
      "Processing SEQ_LENGTH=6...\n"
     ]
    },
    {
     "name": "stderr",
     "output_type": "stream",
     "text": [
      "C:\\Users\\user\\AppData\\Local\\Temp\\ipykernel_5896\\288807071.py:63: FutureWarning: You are using `torch.load` with `weights_only=False` (the current default value), which uses the default pickle module implicitly. It is possible to construct malicious pickle data which will execute arbitrary code during unpickling (See https://github.com/pytorch/pytorch/blob/main/SECURITY.md#untrusted-models for more details). In a future release, the default value for `weights_only` will be flipped to `True`. This limits the functions that could be executed during unpickling. Arbitrary objects will no longer be allowed to be loaded via this mode unless they are explicitly allowlisted by the user via `torch.serialization.add_safe_globals`. We recommend you start setting `weights_only=True` for any use case where you don't have full control of the loaded file. Please open an issue on GitHub for any issues related to this experimental feature.\n",
      "  model.load_state_dict(torch.load(model_path, map_location=device))\n"
     ]
    },
    {
     "name": "stdout",
     "output_type": "stream",
     "text": [
      "Starting training...\n",
      "Epoch 50/500, Loss: 0.014509\n",
      "Epoch 100/500, Loss: 0.014342\n",
      "Epoch 150/500, Loss: 0.014229\n",
      "Epoch 200/500, Loss: 0.014230\n",
      "Epoch 250/500, Loss: 0.013428\n",
      "Epoch 300/500, Loss: 0.012124\n",
      "Epoch 350/500, Loss: 0.011387\n",
      "Epoch 400/500, Loss: 0.007773\n",
      "Epoch 450/500, Loss: 0.005665\n",
      "Epoch 500/500, Loss: 0.003955\n",
      "Evaluating the model...\n",
      "Saving plot as plot_seq_length_6.png...\n",
      "Completed SEQ_LENGTH=6.\n",
      "\n",
      "\n",
      "Processing SEQ_LENGTH=7...\n",
      "Starting training...\n"
     ]
    },
    {
     "name": "stderr",
     "output_type": "stream",
     "text": [
      "C:\\Users\\user\\AppData\\Local\\Temp\\ipykernel_5896\\288807071.py:63: FutureWarning: You are using `torch.load` with `weights_only=False` (the current default value), which uses the default pickle module implicitly. It is possible to construct malicious pickle data which will execute arbitrary code during unpickling (See https://github.com/pytorch/pytorch/blob/main/SECURITY.md#untrusted-models for more details). In a future release, the default value for `weights_only` will be flipped to `True`. This limits the functions that could be executed during unpickling. Arbitrary objects will no longer be allowed to be loaded via this mode unless they are explicitly allowlisted by the user via `torch.serialization.add_safe_globals`. We recommend you start setting `weights_only=True` for any use case where you don't have full control of the loaded file. Please open an issue on GitHub for any issues related to this experimental feature.\n",
      "  model.load_state_dict(torch.load(model_path, map_location=device))\n"
     ]
    },
    {
     "name": "stdout",
     "output_type": "stream",
     "text": [
      "Epoch 50/500, Loss: 0.014485\n",
      "Epoch 100/500, Loss: 0.014281\n",
      "Epoch 150/500, Loss: 0.014371\n",
      "Epoch 200/500, Loss: 0.014249\n",
      "Epoch 250/500, Loss: 0.014018\n",
      "Epoch 300/500, Loss: 0.010076\n",
      "Epoch 350/500, Loss: 0.007365\n",
      "Epoch 400/500, Loss: 0.003623\n",
      "Epoch 450/500, Loss: 0.001455\n",
      "Epoch 500/500, Loss: 0.008342\n",
      "Evaluating the model...\n",
      "Saving plot as plot_seq_length_7.png...\n",
      "Completed SEQ_LENGTH=7.\n",
      "\n",
      "\n",
      "Processing SEQ_LENGTH=8...\n"
     ]
    },
    {
     "name": "stderr",
     "output_type": "stream",
     "text": [
      "C:\\Users\\user\\AppData\\Local\\Temp\\ipykernel_5896\\288807071.py:63: FutureWarning: You are using `torch.load` with `weights_only=False` (the current default value), which uses the default pickle module implicitly. It is possible to construct malicious pickle data which will execute arbitrary code during unpickling (See https://github.com/pytorch/pytorch/blob/main/SECURITY.md#untrusted-models for more details). In a future release, the default value for `weights_only` will be flipped to `True`. This limits the functions that could be executed during unpickling. Arbitrary objects will no longer be allowed to be loaded via this mode unless they are explicitly allowlisted by the user via `torch.serialization.add_safe_globals`. We recommend you start setting `weights_only=True` for any use case where you don't have full control of the loaded file. Please open an issue on GitHub for any issues related to this experimental feature.\n",
      "  model.load_state_dict(torch.load(model_path, map_location=device))\n"
     ]
    },
    {
     "name": "stdout",
     "output_type": "stream",
     "text": [
      "Starting training...\n",
      "Epoch 50/500, Loss: 0.014527\n",
      "Epoch 100/500, Loss: 0.014425\n",
      "Epoch 150/500, Loss: 0.014214\n",
      "Epoch 200/500, Loss: 0.016680\n",
      "Epoch 250/500, Loss: 0.014095\n",
      "Epoch 300/500, Loss: 0.011142\n",
      "Epoch 350/500, Loss: 0.005557\n",
      "Epoch 400/500, Loss: 0.002335\n",
      "Epoch 450/500, Loss: 0.000947\n",
      "Epoch 500/500, Loss: 0.000463\n",
      "Evaluating the model...\n",
      "Saving plot as plot_seq_length_8.png...\n",
      "Completed SEQ_LENGTH=8.\n",
      "\n",
      "\n",
      "Processing SEQ_LENGTH=9...\n",
      "Starting training...\n"
     ]
    },
    {
     "name": "stderr",
     "output_type": "stream",
     "text": [
      "C:\\Users\\user\\AppData\\Local\\Temp\\ipykernel_5896\\288807071.py:63: FutureWarning: You are using `torch.load` with `weights_only=False` (the current default value), which uses the default pickle module implicitly. It is possible to construct malicious pickle data which will execute arbitrary code during unpickling (See https://github.com/pytorch/pytorch/blob/main/SECURITY.md#untrusted-models for more details). In a future release, the default value for `weights_only` will be flipped to `True`. This limits the functions that could be executed during unpickling. Arbitrary objects will no longer be allowed to be loaded via this mode unless they are explicitly allowlisted by the user via `torch.serialization.add_safe_globals`. We recommend you start setting `weights_only=True` for any use case where you don't have full control of the loaded file. Please open an issue on GitHub for any issues related to this experimental feature.\n",
      "  model.load_state_dict(torch.load(model_path, map_location=device))\n"
     ]
    },
    {
     "name": "stdout",
     "output_type": "stream",
     "text": [
      "Epoch 50/500, Loss: 0.014523\n",
      "Epoch 100/500, Loss: 0.014445\n",
      "Epoch 150/500, Loss: 0.014347\n",
      "Epoch 200/500, Loss: 0.014180\n",
      "Epoch 250/500, Loss: 0.012160\n",
      "Epoch 300/500, Loss: 0.006499\n",
      "Epoch 350/500, Loss: 0.002734\n",
      "Epoch 400/500, Loss: 0.000844\n",
      "Epoch 450/500, Loss: 0.000430\n",
      "Epoch 500/500, Loss: 0.001271\n",
      "Evaluating the model...\n",
      "Saving plot as plot_seq_length_9.png...\n",
      "Completed SEQ_LENGTH=9.\n",
      "\n",
      "\n",
      "Processing SEQ_LENGTH=10...\n",
      "Starting training...\n"
     ]
    },
    {
     "name": "stderr",
     "output_type": "stream",
     "text": [
      "C:\\Users\\user\\AppData\\Local\\Temp\\ipykernel_5896\\288807071.py:63: FutureWarning: You are using `torch.load` with `weights_only=False` (the current default value), which uses the default pickle module implicitly. It is possible to construct malicious pickle data which will execute arbitrary code during unpickling (See https://github.com/pytorch/pytorch/blob/main/SECURITY.md#untrusted-models for more details). In a future release, the default value for `weights_only` will be flipped to `True`. This limits the functions that could be executed during unpickling. Arbitrary objects will no longer be allowed to be loaded via this mode unless they are explicitly allowlisted by the user via `torch.serialization.add_safe_globals`. We recommend you start setting `weights_only=True` for any use case where you don't have full control of the loaded file. Please open an issue on GitHub for any issues related to this experimental feature.\n",
      "  model.load_state_dict(torch.load(model_path, map_location=device))\n"
     ]
    },
    {
     "name": "stdout",
     "output_type": "stream",
     "text": [
      "Epoch 50/500, Loss: 0.014514\n",
      "Epoch 100/500, Loss: 0.014515\n",
      "Epoch 150/500, Loss: 0.014319\n",
      "Epoch 200/500, Loss: 0.014288\n",
      "Epoch 250/500, Loss: 0.009131\n",
      "Epoch 300/500, Loss: 0.003457\n",
      "Epoch 350/500, Loss: 0.001799\n",
      "Epoch 400/500, Loss: 0.000353\n",
      "Epoch 450/500, Loss: 0.000601\n",
      "Epoch 500/500, Loss: 0.000063\n",
      "Evaluating the model...\n",
      "Saving plot as plot_seq_length_10.png...\n",
      "Completed SEQ_LENGTH=10.\n",
      "\n",
      "\n",
      "Processing SEQ_LENGTH=11...\n",
      "Starting training...\n"
     ]
    },
    {
     "name": "stderr",
     "output_type": "stream",
     "text": [
      "C:\\Users\\user\\AppData\\Local\\Temp\\ipykernel_5896\\288807071.py:63: FutureWarning: You are using `torch.load` with `weights_only=False` (the current default value), which uses the default pickle module implicitly. It is possible to construct malicious pickle data which will execute arbitrary code during unpickling (See https://github.com/pytorch/pytorch/blob/main/SECURITY.md#untrusted-models for more details). In a future release, the default value for `weights_only` will be flipped to `True`. This limits the functions that could be executed during unpickling. Arbitrary objects will no longer be allowed to be loaded via this mode unless they are explicitly allowlisted by the user via `torch.serialization.add_safe_globals`. We recommend you start setting `weights_only=True` for any use case where you don't have full control of the loaded file. Please open an issue on GitHub for any issues related to this experimental feature.\n",
      "  model.load_state_dict(torch.load(model_path, map_location=device))\n"
     ]
    },
    {
     "name": "stdout",
     "output_type": "stream",
     "text": [
      "Epoch 50/500, Loss: 0.014472\n",
      "Epoch 100/500, Loss: 0.014415\n",
      "Epoch 150/500, Loss: 0.014344\n",
      "Epoch 200/500, Loss: 0.012689\n",
      "Epoch 250/500, Loss: 0.010178\n",
      "Epoch 300/500, Loss: 0.003808\n",
      "Epoch 350/500, Loss: 0.001427\n",
      "Epoch 400/500, Loss: 0.000505\n",
      "Epoch 450/500, Loss: 0.002546\n",
      "Epoch 500/500, Loss: 0.000144\n",
      "Evaluating the model...\n",
      "Saving plot as plot_seq_length_11.png...\n",
      "Completed SEQ_LENGTH=11.\n",
      "\n",
      "\n",
      "Processing SEQ_LENGTH=12...\n"
     ]
    },
    {
     "name": "stderr",
     "output_type": "stream",
     "text": [
      "C:\\Users\\user\\AppData\\Local\\Temp\\ipykernel_5896\\288807071.py:63: FutureWarning: You are using `torch.load` with `weights_only=False` (the current default value), which uses the default pickle module implicitly. It is possible to construct malicious pickle data which will execute arbitrary code during unpickling (See https://github.com/pytorch/pytorch/blob/main/SECURITY.md#untrusted-models for more details). In a future release, the default value for `weights_only` will be flipped to `True`. This limits the functions that could be executed during unpickling. Arbitrary objects will no longer be allowed to be loaded via this mode unless they are explicitly allowlisted by the user via `torch.serialization.add_safe_globals`. We recommend you start setting `weights_only=True` for any use case where you don't have full control of the loaded file. Please open an issue on GitHub for any issues related to this experimental feature.\n",
      "  model.load_state_dict(torch.load(model_path, map_location=device))\n"
     ]
    },
    {
     "name": "stdout",
     "output_type": "stream",
     "text": [
      "Starting training...\n",
      "Epoch 50/500, Loss: 0.014578\n",
      "Epoch 100/500, Loss: 0.014416\n",
      "Epoch 150/500, Loss: 0.014326\n",
      "Epoch 200/500, Loss: 0.014296\n",
      "Epoch 250/500, Loss: 0.004792\n",
      "Epoch 300/500, Loss: 0.001981\n",
      "Epoch 350/500, Loss: 0.000725\n",
      "Epoch 400/500, Loss: 0.000257\n",
      "Epoch 450/500, Loss: 0.000240\n",
      "Epoch 500/500, Loss: 0.000765\n",
      "Evaluating the model...\n",
      "Saving plot as plot_seq_length_12.png...\n",
      "Completed SEQ_LENGTH=12.\n",
      "\n",
      "\n",
      "Processing SEQ_LENGTH=13...\n",
      "Starting training...\n"
     ]
    },
    {
     "name": "stderr",
     "output_type": "stream",
     "text": [
      "C:\\Users\\user\\AppData\\Local\\Temp\\ipykernel_5896\\288807071.py:63: FutureWarning: You are using `torch.load` with `weights_only=False` (the current default value), which uses the default pickle module implicitly. It is possible to construct malicious pickle data which will execute arbitrary code during unpickling (See https://github.com/pytorch/pytorch/blob/main/SECURITY.md#untrusted-models for more details). In a future release, the default value for `weights_only` will be flipped to `True`. This limits the functions that could be executed during unpickling. Arbitrary objects will no longer be allowed to be loaded via this mode unless they are explicitly allowlisted by the user via `torch.serialization.add_safe_globals`. We recommend you start setting `weights_only=True` for any use case where you don't have full control of the loaded file. Please open an issue on GitHub for any issues related to this experimental feature.\n",
      "  model.load_state_dict(torch.load(model_path, map_location=device))\n"
     ]
    },
    {
     "name": "stdout",
     "output_type": "stream",
     "text": [
      "Epoch 50/500, Loss: 0.014527\n",
      "Epoch 100/500, Loss: 0.014338\n",
      "Epoch 150/500, Loss: 0.014295\n",
      "Epoch 200/500, Loss: 0.012621\n",
      "Epoch 250/500, Loss: 0.007045\n",
      "Epoch 300/500, Loss: 0.002400\n",
      "Epoch 350/500, Loss: 0.000849\n",
      "Epoch 400/500, Loss: 0.000282\n",
      "Epoch 450/500, Loss: 0.000050\n",
      "Epoch 500/500, Loss: 0.000062\n",
      "Evaluating the model...\n",
      "Saving plot as plot_seq_length_13.png...\n",
      "Completed SEQ_LENGTH=13.\n",
      "\n",
      "\n",
      "Processing SEQ_LENGTH=14...\n",
      "Starting training...\n"
     ]
    },
    {
     "name": "stderr",
     "output_type": "stream",
     "text": [
      "C:\\Users\\user\\AppData\\Local\\Temp\\ipykernel_5896\\288807071.py:63: FutureWarning: You are using `torch.load` with `weights_only=False` (the current default value), which uses the default pickle module implicitly. It is possible to construct malicious pickle data which will execute arbitrary code during unpickling (See https://github.com/pytorch/pytorch/blob/main/SECURITY.md#untrusted-models for more details). In a future release, the default value for `weights_only` will be flipped to `True`. This limits the functions that could be executed during unpickling. Arbitrary objects will no longer be allowed to be loaded via this mode unless they are explicitly allowlisted by the user via `torch.serialization.add_safe_globals`. We recommend you start setting `weights_only=True` for any use case where you don't have full control of the loaded file. Please open an issue on GitHub for any issues related to this experimental feature.\n",
      "  model.load_state_dict(torch.load(model_path, map_location=device))\n"
     ]
    },
    {
     "name": "stdout",
     "output_type": "stream",
     "text": [
      "Epoch 50/500, Loss: 0.014535\n",
      "Epoch 100/500, Loss: 0.014401\n",
      "Epoch 150/500, Loss: 0.013929\n",
      "Epoch 200/500, Loss: 0.012330\n",
      "Epoch 250/500, Loss: 0.011163\n",
      "Epoch 300/500, Loss: 0.007578\n",
      "Epoch 350/500, Loss: 0.002732\n",
      "Epoch 400/500, Loss: 0.000578\n",
      "Epoch 450/500, Loss: 0.000232\n",
      "Epoch 500/500, Loss: 0.000176\n",
      "Evaluating the model...\n",
      "Saving plot as plot_seq_length_14.png...\n",
      "Completed SEQ_LENGTH=14.\n",
      "\n",
      "\n",
      "Processing SEQ_LENGTH=15...\n"
     ]
    },
    {
     "name": "stderr",
     "output_type": "stream",
     "text": [
      "C:\\Users\\user\\AppData\\Local\\Temp\\ipykernel_5896\\288807071.py:63: FutureWarning: You are using `torch.load` with `weights_only=False` (the current default value), which uses the default pickle module implicitly. It is possible to construct malicious pickle data which will execute arbitrary code during unpickling (See https://github.com/pytorch/pytorch/blob/main/SECURITY.md#untrusted-models for more details). In a future release, the default value for `weights_only` will be flipped to `True`. This limits the functions that could be executed during unpickling. Arbitrary objects will no longer be allowed to be loaded via this mode unless they are explicitly allowlisted by the user via `torch.serialization.add_safe_globals`. We recommend you start setting `weights_only=True` for any use case where you don't have full control of the loaded file. Please open an issue on GitHub for any issues related to this experimental feature.\n",
      "  model.load_state_dict(torch.load(model_path, map_location=device))\n"
     ]
    },
    {
     "name": "stdout",
     "output_type": "stream",
     "text": [
      "Starting training...\n",
      "Epoch 50/500, Loss: 0.014512\n",
      "Epoch 100/500, Loss: 0.014379\n",
      "Epoch 150/500, Loss: 0.012409\n",
      "Epoch 200/500, Loss: 0.010950\n",
      "Epoch 250/500, Loss: 0.008951\n",
      "Epoch 300/500, Loss: 0.002652\n",
      "Epoch 350/500, Loss: 0.001492\n",
      "Epoch 400/500, Loss: 0.000280\n",
      "Epoch 450/500, Loss: 0.000045\n",
      "Epoch 500/500, Loss: 0.001252\n",
      "Evaluating the model...\n",
      "Saving plot as plot_seq_length_15.png...\n",
      "Completed SEQ_LENGTH=15.\n",
      "\n",
      "\n",
      "Processing SEQ_LENGTH=16...\n"
     ]
    },
    {
     "name": "stderr",
     "output_type": "stream",
     "text": [
      "C:\\Users\\user\\AppData\\Local\\Temp\\ipykernel_5896\\288807071.py:63: FutureWarning: You are using `torch.load` with `weights_only=False` (the current default value), which uses the default pickle module implicitly. It is possible to construct malicious pickle data which will execute arbitrary code during unpickling (See https://github.com/pytorch/pytorch/blob/main/SECURITY.md#untrusted-models for more details). In a future release, the default value for `weights_only` will be flipped to `True`. This limits the functions that could be executed during unpickling. Arbitrary objects will no longer be allowed to be loaded via this mode unless they are explicitly allowlisted by the user via `torch.serialization.add_safe_globals`. We recommend you start setting `weights_only=True` for any use case where you don't have full control of the loaded file. Please open an issue on GitHub for any issues related to this experimental feature.\n",
      "  model.load_state_dict(torch.load(model_path, map_location=device))\n"
     ]
    },
    {
     "name": "stdout",
     "output_type": "stream",
     "text": [
      "Starting training...\n",
      "Epoch 50/500, Loss: 0.014562\n",
      "Epoch 100/500, Loss: 0.014336\n",
      "Epoch 150/500, Loss: 0.013501\n",
      "Epoch 200/500, Loss: 0.007050\n",
      "Epoch 250/500, Loss: 0.002329\n",
      "Epoch 300/500, Loss: 0.001009\n",
      "Epoch 350/500, Loss: 0.000458\n",
      "Epoch 400/500, Loss: 0.000163\n",
      "Epoch 450/500, Loss: 0.000062\n",
      "Epoch 500/500, Loss: 0.000024\n",
      "Evaluating the model...\n",
      "Saving plot as plot_seq_length_16.png...\n",
      "Completed SEQ_LENGTH=16.\n",
      "\n",
      "\n",
      "Processing SEQ_LENGTH=17...\n",
      "Starting training...\n"
     ]
    },
    {
     "name": "stderr",
     "output_type": "stream",
     "text": [
      "C:\\Users\\user\\AppData\\Local\\Temp\\ipykernel_5896\\288807071.py:63: FutureWarning: You are using `torch.load` with `weights_only=False` (the current default value), which uses the default pickle module implicitly. It is possible to construct malicious pickle data which will execute arbitrary code during unpickling (See https://github.com/pytorch/pytorch/blob/main/SECURITY.md#untrusted-models for more details). In a future release, the default value for `weights_only` will be flipped to `True`. This limits the functions that could be executed during unpickling. Arbitrary objects will no longer be allowed to be loaded via this mode unless they are explicitly allowlisted by the user via `torch.serialization.add_safe_globals`. We recommend you start setting `weights_only=True` for any use case where you don't have full control of the loaded file. Please open an issue on GitHub for any issues related to this experimental feature.\n",
      "  model.load_state_dict(torch.load(model_path, map_location=device))\n"
     ]
    },
    {
     "name": "stdout",
     "output_type": "stream",
     "text": [
      "Epoch 50/500, Loss: 0.014750\n",
      "Epoch 100/500, Loss: 0.014345\n",
      "Epoch 150/500, Loss: 0.013371\n",
      "Epoch 200/500, Loss: 0.010803\n",
      "Epoch 250/500, Loss: 0.003996\n",
      "Epoch 300/500, Loss: 0.001140\n",
      "Epoch 350/500, Loss: 0.000455\n",
      "Epoch 400/500, Loss: 0.000202\n",
      "Epoch 450/500, Loss: 0.000063\n",
      "Epoch 500/500, Loss: 0.000043\n",
      "Evaluating the model...\n",
      "Saving plot as plot_seq_length_17.png...\n",
      "Completed SEQ_LENGTH=17.\n",
      "\n",
      "\n",
      "Processing SEQ_LENGTH=18...\n"
     ]
    },
    {
     "name": "stderr",
     "output_type": "stream",
     "text": [
      "C:\\Users\\user\\AppData\\Local\\Temp\\ipykernel_5896\\288807071.py:63: FutureWarning: You are using `torch.load` with `weights_only=False` (the current default value), which uses the default pickle module implicitly. It is possible to construct malicious pickle data which will execute arbitrary code during unpickling (See https://github.com/pytorch/pytorch/blob/main/SECURITY.md#untrusted-models for more details). In a future release, the default value for `weights_only` will be flipped to `True`. This limits the functions that could be executed during unpickling. Arbitrary objects will no longer be allowed to be loaded via this mode unless they are explicitly allowlisted by the user via `torch.serialization.add_safe_globals`. We recommend you start setting `weights_only=True` for any use case where you don't have full control of the loaded file. Please open an issue on GitHub for any issues related to this experimental feature.\n",
      "  model.load_state_dict(torch.load(model_path, map_location=device))\n"
     ]
    },
    {
     "name": "stdout",
     "output_type": "stream",
     "text": [
      "Starting training...\n",
      "Epoch 50/500, Loss: 0.014434\n",
      "Epoch 100/500, Loss: 0.014198\n",
      "Epoch 150/500, Loss: 0.011696\n",
      "Epoch 200/500, Loss: 0.009487\n",
      "Epoch 250/500, Loss: 0.005046\n",
      "Epoch 300/500, Loss: 0.001053\n",
      "Epoch 350/500, Loss: 0.000586\n",
      "Epoch 400/500, Loss: 0.002989\n",
      "Epoch 450/500, Loss: 0.000041\n",
      "Epoch 500/500, Loss: 0.000035\n",
      "Evaluating the model...\n",
      "Saving plot as plot_seq_length_18.png...\n",
      "Completed SEQ_LENGTH=18.\n",
      "\n",
      "\n",
      "Processing SEQ_LENGTH=19...\n",
      "Starting training...\n"
     ]
    },
    {
     "name": "stderr",
     "output_type": "stream",
     "text": [
      "C:\\Users\\user\\AppData\\Local\\Temp\\ipykernel_5896\\288807071.py:63: FutureWarning: You are using `torch.load` with `weights_only=False` (the current default value), which uses the default pickle module implicitly. It is possible to construct malicious pickle data which will execute arbitrary code during unpickling (See https://github.com/pytorch/pytorch/blob/main/SECURITY.md#untrusted-models for more details). In a future release, the default value for `weights_only` will be flipped to `True`. This limits the functions that could be executed during unpickling. Arbitrary objects will no longer be allowed to be loaded via this mode unless they are explicitly allowlisted by the user via `torch.serialization.add_safe_globals`. We recommend you start setting `weights_only=True` for any use case where you don't have full control of the loaded file. Please open an issue on GitHub for any issues related to this experimental feature.\n",
      "  model.load_state_dict(torch.load(model_path, map_location=device))\n"
     ]
    },
    {
     "name": "stdout",
     "output_type": "stream",
     "text": [
      "Epoch 50/500, Loss: 0.014485\n",
      "Epoch 100/500, Loss: 0.014203\n",
      "Epoch 150/500, Loss: 0.014266\n",
      "Epoch 200/500, Loss: 0.012858\n",
      "Epoch 250/500, Loss: 0.007961\n",
      "Epoch 300/500, Loss: 0.003667\n",
      "Epoch 350/500, Loss: 0.003165\n",
      "Epoch 400/500, Loss: 0.000655\n",
      "Epoch 450/500, Loss: 0.000370\n",
      "Epoch 500/500, Loss: 0.000744\n",
      "Evaluating the model...\n",
      "Saving plot as plot_seq_length_19.png...\n",
      "Completed SEQ_LENGTH=19.\n",
      "\n",
      "\n",
      "Processing SEQ_LENGTH=20...\n",
      "Starting training...\n"
     ]
    },
    {
     "name": "stderr",
     "output_type": "stream",
     "text": [
      "C:\\Users\\user\\AppData\\Local\\Temp\\ipykernel_5896\\288807071.py:63: FutureWarning: You are using `torch.load` with `weights_only=False` (the current default value), which uses the default pickle module implicitly. It is possible to construct malicious pickle data which will execute arbitrary code during unpickling (See https://github.com/pytorch/pytorch/blob/main/SECURITY.md#untrusted-models for more details). In a future release, the default value for `weights_only` will be flipped to `True`. This limits the functions that could be executed during unpickling. Arbitrary objects will no longer be allowed to be loaded via this mode unless they are explicitly allowlisted by the user via `torch.serialization.add_safe_globals`. We recommend you start setting `weights_only=True` for any use case where you don't have full control of the loaded file. Please open an issue on GitHub for any issues related to this experimental feature.\n",
      "  model.load_state_dict(torch.load(model_path, map_location=device))\n"
     ]
    },
    {
     "name": "stdout",
     "output_type": "stream",
     "text": [
      "Epoch 50/500, Loss: 0.014428\n",
      "Epoch 100/500, Loss: 0.014184\n",
      "Epoch 150/500, Loss: 0.012080\n",
      "Epoch 200/500, Loss: 0.007091\n",
      "Epoch 250/500, Loss: 0.002217\n",
      "Epoch 300/500, Loss: 0.001066\n",
      "Epoch 350/500, Loss: 0.000596\n",
      "Epoch 400/500, Loss: 0.000143\n",
      "Epoch 450/500, Loss: 0.000137\n",
      "Epoch 500/500, Loss: 0.000068\n",
      "Evaluating the model...\n",
      "Saving plot as plot_seq_length_20.png...\n",
      "Completed SEQ_LENGTH=20.\n",
      "\n",
      "\n",
      "Processing SEQ_LENGTH=21...\n",
      "Starting training...\n"
     ]
    },
    {
     "name": "stderr",
     "output_type": "stream",
     "text": [
      "C:\\Users\\user\\AppData\\Local\\Temp\\ipykernel_5896\\288807071.py:63: FutureWarning: You are using `torch.load` with `weights_only=False` (the current default value), which uses the default pickle module implicitly. It is possible to construct malicious pickle data which will execute arbitrary code during unpickling (See https://github.com/pytorch/pytorch/blob/main/SECURITY.md#untrusted-models for more details). In a future release, the default value for `weights_only` will be flipped to `True`. This limits the functions that could be executed during unpickling. Arbitrary objects will no longer be allowed to be loaded via this mode unless they are explicitly allowlisted by the user via `torch.serialization.add_safe_globals`. We recommend you start setting `weights_only=True` for any use case where you don't have full control of the loaded file. Please open an issue on GitHub for any issues related to this experimental feature.\n",
      "  model.load_state_dict(torch.load(model_path, map_location=device))\n"
     ]
    },
    {
     "name": "stdout",
     "output_type": "stream",
     "text": [
      "Epoch 50/500, Loss: 0.015225\n",
      "Epoch 100/500, Loss: 0.013156\n",
      "Epoch 150/500, Loss: 0.012037\n",
      "Epoch 200/500, Loss: 0.005330\n",
      "Epoch 250/500, Loss: 0.001706\n",
      "Epoch 300/500, Loss: 0.000623\n",
      "Epoch 350/500, Loss: 0.000319\n",
      "Epoch 400/500, Loss: 0.000062\n",
      "Epoch 450/500, Loss: 0.000107\n",
      "Epoch 500/500, Loss: 0.000021\n",
      "Evaluating the model...\n",
      "Saving plot as plot_seq_length_21.png...\n",
      "Completed SEQ_LENGTH=21.\n",
      "\n",
      "\n",
      "Processing SEQ_LENGTH=22...\n"
     ]
    },
    {
     "name": "stderr",
     "output_type": "stream",
     "text": [
      "C:\\Users\\user\\AppData\\Local\\Temp\\ipykernel_5896\\288807071.py:63: FutureWarning: You are using `torch.load` with `weights_only=False` (the current default value), which uses the default pickle module implicitly. It is possible to construct malicious pickle data which will execute arbitrary code during unpickling (See https://github.com/pytorch/pytorch/blob/main/SECURITY.md#untrusted-models for more details). In a future release, the default value for `weights_only` will be flipped to `True`. This limits the functions that could be executed during unpickling. Arbitrary objects will no longer be allowed to be loaded via this mode unless they are explicitly allowlisted by the user via `torch.serialization.add_safe_globals`. We recommend you start setting `weights_only=True` for any use case where you don't have full control of the loaded file. Please open an issue on GitHub for any issues related to this experimental feature.\n",
      "  model.load_state_dict(torch.load(model_path, map_location=device))\n"
     ]
    },
    {
     "name": "stdout",
     "output_type": "stream",
     "text": [
      "Starting training...\n",
      "Epoch 50/500, Loss: 0.014963\n",
      "Epoch 100/500, Loss: 0.013165\n",
      "Epoch 150/500, Loss: 0.011367\n",
      "Epoch 200/500, Loss: 0.005718\n",
      "Epoch 250/500, Loss: 0.002208\n",
      "Epoch 300/500, Loss: 0.000706\n",
      "Epoch 350/500, Loss: 0.000399\n",
      "Epoch 400/500, Loss: 0.000236\n",
      "Epoch 450/500, Loss: 0.000327\n",
      "Epoch 500/500, Loss: 0.000036\n",
      "Evaluating the model...\n",
      "Saving plot as plot_seq_length_22.png...\n",
      "Completed SEQ_LENGTH=22.\n",
      "\n",
      "\n",
      "Processing SEQ_LENGTH=23...\n",
      "Starting training...\n"
     ]
    },
    {
     "name": "stderr",
     "output_type": "stream",
     "text": [
      "C:\\Users\\user\\AppData\\Local\\Temp\\ipykernel_5896\\288807071.py:63: FutureWarning: You are using `torch.load` with `weights_only=False` (the current default value), which uses the default pickle module implicitly. It is possible to construct malicious pickle data which will execute arbitrary code during unpickling (See https://github.com/pytorch/pytorch/blob/main/SECURITY.md#untrusted-models for more details). In a future release, the default value for `weights_only` will be flipped to `True`. This limits the functions that could be executed during unpickling. Arbitrary objects will no longer be allowed to be loaded via this mode unless they are explicitly allowlisted by the user via `torch.serialization.add_safe_globals`. We recommend you start setting `weights_only=True` for any use case where you don't have full control of the loaded file. Please open an issue on GitHub for any issues related to this experimental feature.\n",
      "  model.load_state_dict(torch.load(model_path, map_location=device))\n"
     ]
    },
    {
     "name": "stdout",
     "output_type": "stream",
     "text": [
      "Epoch 50/500, Loss: 0.014541\n",
      "Epoch 100/500, Loss: 0.012853\n",
      "Epoch 150/500, Loss: 0.014786\n",
      "Epoch 200/500, Loss: 0.014597\n",
      "Epoch 250/500, Loss: 0.014347\n",
      "Epoch 300/500, Loss: 0.006891\n",
      "Epoch 350/500, Loss: 0.004983\n",
      "Epoch 400/500, Loss: 0.004323\n",
      "Epoch 450/500, Loss: 0.002666\n",
      "Epoch 500/500, Loss: 0.000628\n",
      "Evaluating the model...\n",
      "Saving plot as plot_seq_length_23.png...\n",
      "Completed SEQ_LENGTH=23.\n",
      "\n",
      "\n",
      "Processing SEQ_LENGTH=24...\n",
      "Starting training...\n"
     ]
    },
    {
     "name": "stderr",
     "output_type": "stream",
     "text": [
      "C:\\Users\\user\\AppData\\Local\\Temp\\ipykernel_5896\\288807071.py:63: FutureWarning: You are using `torch.load` with `weights_only=False` (the current default value), which uses the default pickle module implicitly. It is possible to construct malicious pickle data which will execute arbitrary code during unpickling (See https://github.com/pytorch/pytorch/blob/main/SECURITY.md#untrusted-models for more details). In a future release, the default value for `weights_only` will be flipped to `True`. This limits the functions that could be executed during unpickling. Arbitrary objects will no longer be allowed to be loaded via this mode unless they are explicitly allowlisted by the user via `torch.serialization.add_safe_globals`. We recommend you start setting `weights_only=True` for any use case where you don't have full control of the loaded file. Please open an issue on GitHub for any issues related to this experimental feature.\n",
      "  model.load_state_dict(torch.load(model_path, map_location=device))\n"
     ]
    },
    {
     "name": "stdout",
     "output_type": "stream",
     "text": [
      "Epoch 50/500, Loss: 0.014521\n",
      "Epoch 100/500, Loss: 0.012646\n",
      "Epoch 150/500, Loss: 0.004235\n",
      "Epoch 200/500, Loss: 0.001956\n",
      "Epoch 250/500, Loss: 0.000592\n",
      "Epoch 300/500, Loss: 0.000141\n",
      "Epoch 350/500, Loss: 0.000185\n",
      "Epoch 400/500, Loss: 0.000074\n",
      "Epoch 450/500, Loss: 0.000178\n",
      "Epoch 500/500, Loss: 0.000041\n",
      "Evaluating the model...\n",
      "Saving plot as plot_seq_length_24.png...\n",
      "Completed SEQ_LENGTH=24.\n",
      "\n",
      "\n",
      "Processing SEQ_LENGTH=25...\n"
     ]
    },
    {
     "name": "stderr",
     "output_type": "stream",
     "text": [
      "C:\\Users\\user\\AppData\\Local\\Temp\\ipykernel_5896\\288807071.py:63: FutureWarning: You are using `torch.load` with `weights_only=False` (the current default value), which uses the default pickle module implicitly. It is possible to construct malicious pickle data which will execute arbitrary code during unpickling (See https://github.com/pytorch/pytorch/blob/main/SECURITY.md#untrusted-models for more details). In a future release, the default value for `weights_only` will be flipped to `True`. This limits the functions that could be executed during unpickling. Arbitrary objects will no longer be allowed to be loaded via this mode unless they are explicitly allowlisted by the user via `torch.serialization.add_safe_globals`. We recommend you start setting `weights_only=True` for any use case where you don't have full control of the loaded file. Please open an issue on GitHub for any issues related to this experimental feature.\n",
      "  model.load_state_dict(torch.load(model_path, map_location=device))\n"
     ]
    },
    {
     "name": "stdout",
     "output_type": "stream",
     "text": [
      "Starting training...\n",
      "Epoch 50/500, Loss: 0.014639\n",
      "Epoch 100/500, Loss: 0.013674\n",
      "Epoch 150/500, Loss: 0.005855\n",
      "Epoch 200/500, Loss: 0.002869\n",
      "Epoch 250/500, Loss: 0.000385\n",
      "Epoch 300/500, Loss: 0.000210\n",
      "Epoch 350/500, Loss: 0.000202\n",
      "Epoch 400/500, Loss: 0.000358\n",
      "Epoch 450/500, Loss: 0.000019\n",
      "Epoch 500/500, Loss: 0.000015\n",
      "Evaluating the model...\n",
      "Saving plot as plot_seq_length_25.png...\n",
      "Completed SEQ_LENGTH=25.\n",
      "\n",
      "\n",
      "Processing SEQ_LENGTH=26...\n",
      "Starting training...\n"
     ]
    },
    {
     "name": "stderr",
     "output_type": "stream",
     "text": [
      "C:\\Users\\user\\AppData\\Local\\Temp\\ipykernel_5896\\288807071.py:63: FutureWarning: You are using `torch.load` with `weights_only=False` (the current default value), which uses the default pickle module implicitly. It is possible to construct malicious pickle data which will execute arbitrary code during unpickling (See https://github.com/pytorch/pytorch/blob/main/SECURITY.md#untrusted-models for more details). In a future release, the default value for `weights_only` will be flipped to `True`. This limits the functions that could be executed during unpickling. Arbitrary objects will no longer be allowed to be loaded via this mode unless they are explicitly allowlisted by the user via `torch.serialization.add_safe_globals`. We recommend you start setting `weights_only=True` for any use case where you don't have full control of the loaded file. Please open an issue on GitHub for any issues related to this experimental feature.\n",
      "  model.load_state_dict(torch.load(model_path, map_location=device))\n"
     ]
    },
    {
     "name": "stdout",
     "output_type": "stream",
     "text": [
      "Epoch 50/500, Loss: 0.014743\n",
      "Epoch 100/500, Loss: 0.013299\n",
      "Epoch 150/500, Loss: 0.006194\n",
      "Epoch 200/500, Loss: 0.002573\n",
      "Epoch 250/500, Loss: 0.001157\n",
      "Epoch 300/500, Loss: 0.000242\n",
      "Epoch 350/500, Loss: 0.000085\n",
      "Epoch 400/500, Loss: 0.000088\n",
      "Epoch 450/500, Loss: 0.000037\n",
      "Epoch 500/500, Loss: 0.000030\n",
      "Evaluating the model...\n",
      "Saving plot as plot_seq_length_26.png...\n",
      "Completed SEQ_LENGTH=26.\n",
      "\n",
      "\n",
      "Processing SEQ_LENGTH=27...\n",
      "Starting training...\n"
     ]
    },
    {
     "name": "stderr",
     "output_type": "stream",
     "text": [
      "C:\\Users\\user\\AppData\\Local\\Temp\\ipykernel_5896\\288807071.py:63: FutureWarning: You are using `torch.load` with `weights_only=False` (the current default value), which uses the default pickle module implicitly. It is possible to construct malicious pickle data which will execute arbitrary code during unpickling (See https://github.com/pytorch/pytorch/blob/main/SECURITY.md#untrusted-models for more details). In a future release, the default value for `weights_only` will be flipped to `True`. This limits the functions that could be executed during unpickling. Arbitrary objects will no longer be allowed to be loaded via this mode unless they are explicitly allowlisted by the user via `torch.serialization.add_safe_globals`. We recommend you start setting `weights_only=True` for any use case where you don't have full control of the loaded file. Please open an issue on GitHub for any issues related to this experimental feature.\n",
      "  model.load_state_dict(torch.load(model_path, map_location=device))\n"
     ]
    },
    {
     "name": "stdout",
     "output_type": "stream",
     "text": [
      "Epoch 50/500, Loss: 0.014703\n",
      "Epoch 100/500, Loss: 0.013576\n",
      "Epoch 150/500, Loss: 0.005067\n",
      "Epoch 200/500, Loss: 0.003676\n",
      "Epoch 250/500, Loss: 0.004466\n",
      "Epoch 300/500, Loss: 0.001165\n",
      "Epoch 350/500, Loss: 0.002121\n",
      "Epoch 400/500, Loss: 0.000319\n",
      "Epoch 450/500, Loss: 0.000315\n",
      "Epoch 500/500, Loss: 0.000068\n",
      "Evaluating the model...\n",
      "Saving plot as plot_seq_length_27.png...\n",
      "Completed SEQ_LENGTH=27.\n",
      "\n",
      "\n",
      "Processing SEQ_LENGTH=28...\n"
     ]
    },
    {
     "name": "stderr",
     "output_type": "stream",
     "text": [
      "C:\\Users\\user\\AppData\\Local\\Temp\\ipykernel_5896\\288807071.py:63: FutureWarning: You are using `torch.load` with `weights_only=False` (the current default value), which uses the default pickle module implicitly. It is possible to construct malicious pickle data which will execute arbitrary code during unpickling (See https://github.com/pytorch/pytorch/blob/main/SECURITY.md#untrusted-models for more details). In a future release, the default value for `weights_only` will be flipped to `True`. This limits the functions that could be executed during unpickling. Arbitrary objects will no longer be allowed to be loaded via this mode unless they are explicitly allowlisted by the user via `torch.serialization.add_safe_globals`. We recommend you start setting `weights_only=True` for any use case where you don't have full control of the loaded file. Please open an issue on GitHub for any issues related to this experimental feature.\n",
      "  model.load_state_dict(torch.load(model_path, map_location=device))\n"
     ]
    },
    {
     "name": "stdout",
     "output_type": "stream",
     "text": [
      "Starting training...\n",
      "Epoch 50/500, Loss: 0.014569\n",
      "Epoch 100/500, Loss: 0.012472\n",
      "Epoch 150/500, Loss: 0.003798\n",
      "Epoch 200/500, Loss: 0.001857\n",
      "Epoch 250/500, Loss: 0.000552\n",
      "Epoch 300/500, Loss: 0.000253\n",
      "Epoch 350/500, Loss: 0.000301\n",
      "Epoch 400/500, Loss: 0.000152\n",
      "Epoch 450/500, Loss: 0.001071\n",
      "Epoch 500/500, Loss: 0.000158\n",
      "Evaluating the model...\n",
      "Saving plot as plot_seq_length_28.png...\n",
      "Completed SEQ_LENGTH=28.\n",
      "\n",
      "\n",
      "Processing SEQ_LENGTH=29...\n"
     ]
    },
    {
     "name": "stderr",
     "output_type": "stream",
     "text": [
      "C:\\Users\\user\\AppData\\Local\\Temp\\ipykernel_5896\\288807071.py:63: FutureWarning: You are using `torch.load` with `weights_only=False` (the current default value), which uses the default pickle module implicitly. It is possible to construct malicious pickle data which will execute arbitrary code during unpickling (See https://github.com/pytorch/pytorch/blob/main/SECURITY.md#untrusted-models for more details). In a future release, the default value for `weights_only` will be flipped to `True`. This limits the functions that could be executed during unpickling. Arbitrary objects will no longer be allowed to be loaded via this mode unless they are explicitly allowlisted by the user via `torch.serialization.add_safe_globals`. We recommend you start setting `weights_only=True` for any use case where you don't have full control of the loaded file. Please open an issue on GitHub for any issues related to this experimental feature.\n",
      "  model.load_state_dict(torch.load(model_path, map_location=device))\n"
     ]
    },
    {
     "name": "stdout",
     "output_type": "stream",
     "text": [
      "Starting training...\n",
      "Epoch 50/500, Loss: 0.014740\n",
      "Epoch 100/500, Loss: 0.010278\n",
      "Epoch 150/500, Loss: 0.003936\n",
      "Epoch 200/500, Loss: 0.002036\n",
      "Epoch 250/500, Loss: 0.000519\n",
      "Epoch 300/500, Loss: 0.000377\n",
      "Epoch 350/500, Loss: 0.000138\n",
      "Epoch 400/500, Loss: 0.000040\n",
      "Epoch 450/500, Loss: 0.002136\n",
      "Epoch 500/500, Loss: 0.000012\n",
      "Evaluating the model...\n",
      "Saving plot as plot_seq_length_29.png...\n",
      "Completed SEQ_LENGTH=29.\n",
      "\n",
      "\n",
      "Processing SEQ_LENGTH=30...\n"
     ]
    },
    {
     "name": "stderr",
     "output_type": "stream",
     "text": [
      "C:\\Users\\user\\AppData\\Local\\Temp\\ipykernel_5896\\288807071.py:63: FutureWarning: You are using `torch.load` with `weights_only=False` (the current default value), which uses the default pickle module implicitly. It is possible to construct malicious pickle data which will execute arbitrary code during unpickling (See https://github.com/pytorch/pytorch/blob/main/SECURITY.md#untrusted-models for more details). In a future release, the default value for `weights_only` will be flipped to `True`. This limits the functions that could be executed during unpickling. Arbitrary objects will no longer be allowed to be loaded via this mode unless they are explicitly allowlisted by the user via `torch.serialization.add_safe_globals`. We recommend you start setting `weights_only=True` for any use case where you don't have full control of the loaded file. Please open an issue on GitHub for any issues related to this experimental feature.\n",
      "  model.load_state_dict(torch.load(model_path, map_location=device))\n"
     ]
    },
    {
     "name": "stdout",
     "output_type": "stream",
     "text": [
      "Starting training...\n",
      "Epoch 50/500, Loss: 0.014610\n",
      "Epoch 100/500, Loss: 0.010517\n",
      "Epoch 150/500, Loss: 0.004065\n",
      "Epoch 200/500, Loss: 0.001806\n",
      "Epoch 250/500, Loss: 0.000509\n",
      "Epoch 300/500, Loss: 0.000167\n",
      "Epoch 350/500, Loss: 0.000523\n",
      "Epoch 400/500, Loss: 0.000030\n",
      "Epoch 450/500, Loss: 0.000014\n",
      "Epoch 500/500, Loss: 0.000012\n",
      "Evaluating the model...\n",
      "Saving plot as plot_seq_length_30.png...\n",
      "Completed SEQ_LENGTH=30.\n",
      "\n"
     ]
    },
    {
     "name": "stderr",
     "output_type": "stream",
     "text": [
      "C:\\Users\\user\\AppData\\Local\\Temp\\ipykernel_5896\\288807071.py:63: FutureWarning: You are using `torch.load` with `weights_only=False` (the current default value), which uses the default pickle module implicitly. It is possible to construct malicious pickle data which will execute arbitrary code during unpickling (See https://github.com/pytorch/pytorch/blob/main/SECURITY.md#untrusted-models for more details). In a future release, the default value for `weights_only` will be flipped to `True`. This limits the functions that could be executed during unpickling. Arbitrary objects will no longer be allowed to be loaded via this mode unless they are explicitly allowlisted by the user via `torch.serialization.add_safe_globals`. We recommend you start setting `weights_only=True` for any use case where you don't have full control of the loaded file. Please open an issue on GitHub for any issues related to this experimental feature.\n",
      "  model.load_state_dict(torch.load(model_path, map_location=device))\n"
     ]
    }
   ],
   "source": [
    "import numpy as np\n",
    "import matplotlib.pyplot as plt\n",
    "import torch\n",
    "import torch.nn as nn\n",
    "from torch.utils.data import DataLoader, TensorDataset\n",
    "from sklearn.preprocessing import MinMaxScaler\n",
    "from sklearn.metrics import mean_squared_error\n",
    "\n",
    "epochs = 500\n",
    "lr = 0.001\n",
    "device = torch.device(\"cuda\" if torch.cuda.is_available() else \"cpu\")\n",
    "\n",
    "# Define the function to create sequences\n",
    "def create_sequences_multivariate(data, target, seq_length):\n",
    "    sequences = []\n",
    "    for i in range(len(data) - seq_length):\n",
    "        seq = data[i:i + seq_length]\n",
    "        label = target[i + seq_length]\n",
    "        sequences.append((seq, label))\n",
    "    return sequences\n",
    "\n",
    "# Define the model\n",
    "class MultivariateLSTMModel(nn.Module):\n",
    "    def __init__(self, input_size=5, hidden_layer_size=100, output_size=1):\n",
    "        super(MultivariateLSTMModel, self).__init__()\n",
    "        self.hidden_layer_size = hidden_layer_size\n",
    "        self.lstm = nn.LSTM(input_size, hidden_layer_size, batch_first=True)\n",
    "        self.linear = nn.Linear(hidden_layer_size, output_size)\n",
    "\n",
    "    def forward(self, input_seq):\n",
    "        lstm_out, _ = self.lstm(input_seq)\n",
    "        predictions = self.linear(lstm_out[:, -1, :])\n",
    "        return predictions\n",
    "\n",
    "# Training function\n",
    "def train_model(model, train_loader, epochs=10, lr=0.001, device='cpu', save_path='best_model.pth'):\n",
    "    model.to(device)\n",
    "    loss_function = nn.MSELoss()\n",
    "    optimizer = torch.optim.Adam(model.parameters(), lr=lr)\n",
    "    model.train()\n",
    "    min_loss = float('inf')\n",
    "    for epoch in range(epochs):\n",
    "        epoch_loss = 0\n",
    "        for seq, labels in train_loader:\n",
    "            seq = seq.to(device)\n",
    "            labels = labels.to(device)\n",
    "            optimizer.zero_grad()\n",
    "            y_pred = model(seq)\n",
    "            loss = loss_function(y_pred, labels)\n",
    "            loss.backward()\n",
    "            optimizer.step()\n",
    "            epoch_loss += loss.item()\n",
    "        average_loss = epoch_loss / len(train_loader)\n",
    "        if (epoch + 1) % 50 == 0:\n",
    "            print(f'Epoch {epoch + 1}/{epochs}, Loss: {average_loss:.6f}')\n",
    "        if average_loss < min_loss:\n",
    "            min_loss = average_loss\n",
    "            torch.save(model.state_dict(), save_path)\n",
    "            # print(f'Saved model with lowest loss: {min_loss:.6f}')\n",
    "\n",
    "# Evaluation function\n",
    "def evaluate_model(model, test_loader, target_scaler, model_path='best_model.pth', device='cpu'):\n",
    "    model.load_state_dict(torch.load(model_path, map_location=device))\n",
    "    model.to(device)\n",
    "    model.eval()\n",
    "    predictions = []\n",
    "    actuals = []\n",
    "    with torch.no_grad():\n",
    "        for seq, labels in test_loader:\n",
    "            seq = seq.to(device)\n",
    "            labels = labels.to(device)\n",
    "            y_pred = model(seq)\n",
    "            predictions.append(y_pred.cpu().numpy())\n",
    "            actuals.append(labels.cpu().numpy())\n",
    "    predictions = np.concatenate(predictions, axis=0)\n",
    "    actuals = np.concatenate(actuals, axis=0)\n",
    "    predictions = target_scaler.inverse_transform(predictions)\n",
    "    actuals = target_scaler.inverse_transform(actuals)\n",
    "    return predictions, actuals\n",
    "\n",
    "# Plot function\n",
    "def plot_predictions(predictions, actuals, num_plots=100, filename='plot.png'):\n",
    "    plt.figure(figsize=(12, 6))\n",
    "    plt.plot(actuals[:num_plots], label='Actual Value', color='blue')\n",
    "    plt.plot(predictions[:num_plots], label='Predicted Value', color='red')\n",
    "    plt.title('Prediction vs Actual Values')\n",
    "    plt.xlabel('Time')\n",
    "    plt.ylabel('Value')\n",
    "    plt.legend()\n",
    "    plt.savefig(filename)\n",
    "    plt.close()\n",
    "\n",
    "# Main loop for different SEQ_LENGTH values\n",
    "seq_lengths = range(2, 31)\n",
    "for SEQ_LENGTH in tqdm.tqdm(seq_lengths):\n",
    "    print(f'\\nProcessing SEQ_LENGTH={SEQ_LENGTH}...')\n",
    "    \n",
    "    # Create sequences\n",
    "    sequences = create_sequences_multivariate(data_scaled, target_scaled, SEQ_LENGTH)\n",
    "    \n",
    "    # Split into training and testing datasets\n",
    "    train_size = int(len(sequences) * 0.8)\n",
    "    train_sequences = sequences[:train_size]\n",
    "    test_sequences = sequences[train_size:]\n",
    "    \n",
    "    # Unpack sequences into tensors\n",
    "    train_sequences_features = [seq for seq, label in train_sequences]\n",
    "    train_sequences_labels = [label for seq, label in train_sequences]\n",
    "    test_sequences_features = [seq for seq, label in test_sequences]\n",
    "    test_sequences_labels = [label for seq, label in test_sequences]\n",
    "    \n",
    "    # Convert lists to tensors\n",
    "    train_features_tensor = torch.stack([torch.Tensor(x) for x in train_sequences_features])\n",
    "    train_labels_tensor = torch.stack([torch.Tensor(x) for x in train_sequences_labels])\n",
    "    test_features_tensor = torch.stack([torch.Tensor(x) for x in test_sequences_features])\n",
    "    test_labels_tensor = torch.stack([torch.Tensor(x) for x in test_sequences_labels])\n",
    "    \n",
    "    # Create TensorDatasets and DataLoaders\n",
    "    train_dataset = TensorDataset(train_features_tensor, train_labels_tensor)\n",
    "    test_dataset = TensorDataset(test_features_tensor, test_labels_tensor)\n",
    "    train_loader = DataLoader(dataset=train_dataset, batch_size=12, shuffle=True)\n",
    "    test_loader = DataLoader(dataset=test_dataset, batch_size=12, shuffle=False)\n",
    "    \n",
    "    # Initialize and train the model\n",
    "    multivariate_model = MultivariateLSTMModel(input_size=train_features_tensor.shape[2])\n",
    "    print(\"Starting training...\")\n",
    "    train_model(multivariate_model, train_loader, epochs=500, lr=0.001, device=device)\n",
    "    \n",
    "    # Evaluate the model\n",
    "    print(\"Evaluating the model...\")\n",
    "    predictions, actuals = evaluate_model(multivariate_model, test_loader, target_scaler, device=device)\n",
    "    \n",
    "    # Plot and save results\n",
    "    filename = f'plot_seq_length_{SEQ_LENGTH}.png'\n",
    "    print(f\"Saving plot as {filename}...\")\n",
    "    plot_predictions(predictions, actuals, num_plots=5000, filename=filename)\n",
    "\n",
    "    print(f\"Completed SEQ_LENGTH={SEQ_LENGTH}.\\n\")\n"
   ]
  },
  {
   "cell_type": "code",
   "execution_count": 62,
   "id": "f0f4d27a-c3d1-4ad0-ae5a-83fa734b76c5",
   "metadata": {},
   "outputs": [],
   "source": [
    "# Create sequences for training and testing\n",
    "def create_sequences_multivariate(data, target, seq_length):\n",
    "    sequences = []\n",
    "    for i in range(len(data) - seq_length):\n",
    "        seq = data[i:i + seq_length]\n",
    "        label = target[i + seq_length]\n",
    "        sequences.append((seq, label))\n",
    "    return sequences\n",
    "    \n",
    "SEQ_LENGTH = 12  # Use the past 12 sequence to predict the one day\n",
    "sequences = create_sequences_multivariate(data_scaled, target_scaled, SEQ_LENGTH)"
   ]
  },
  {
   "cell_type": "code",
   "execution_count": 63,
   "id": "d08d492b-c2ff-424d-8bfc-77efc1924801",
   "metadata": {},
   "outputs": [
    {
     "data": {
      "text/plain": [
       "(list, list)"
      ]
     },
     "execution_count": 63,
     "metadata": {},
     "output_type": "execute_result"
    }
   ],
   "source": [
    "# Split into training and testing datasets (80% train, 20% test)\n",
    "train_size = int(len(sequences) * 0.8)\n",
    "train_sequences = sequences[:train_size]\n",
    "test_sequences = sequences[train_size:]\n",
    "\n",
    "type(train_sequences), type(test_sequences)"
   ]
  },
  {
   "cell_type": "code",
   "execution_count": 64,
   "id": "075434c9-105c-4fb8-be23-7fa36f540cc6",
   "metadata": {},
   "outputs": [],
   "source": [
    "# Unpack the sequences into separate tensors for features and labels\n",
    "train_sequences_features = [seq for seq, label in train_sequences]\n",
    "train_sequences_labels = [label for seq, label in train_sequences]\n",
    "\n",
    "test_sequences_features = [seq for seq, label in test_sequences]\n",
    "test_sequences_labels = [label for seq, label in test_sequences]\n",
    "\n",
    " # Convert lists to tensors and reshape\n",
    "train_features_tensor = torch.stack([torch.Tensor(x) for x in train_sequences_features])\n",
    "train_labels_tensor = torch.stack([torch.Tensor(x) for x in train_sequences_labels])\n",
    "\n",
    "test_features_tensor = torch.stack([torch.Tensor(x) for x in test_sequences_features])\n",
    "test_labels_tensor = torch.stack([torch.Tensor(x) for x in test_sequences_labels])"
   ]
  },
  {
   "cell_type": "code",
   "execution_count": 65,
   "id": "f888cad9-9b81-4a8d-b872-4194d1ff04a6",
   "metadata": {},
   "outputs": [],
   "source": [
    "# Create TensorDatasets for training and testing\n",
    "train_dataset = TensorDataset(train_features_tensor, train_labels_tensor)\n",
    "test_dataset = TensorDataset(test_features_tensor, test_labels_tensor)\n",
    "\n",
    "# Create DataLoaders for training and testing datasets\n",
    "train_loader = DataLoader(dataset=train_dataset, batch_size=12, shuffle=True)\n",
    "test_loader = DataLoader(dataset=test_dataset, batch_size=12, shuffle=False)"
   ]
  },
  {
   "cell_type": "code",
   "execution_count": 66,
   "id": "1c6006d6-9729-41e0-b758-cc4c8972ec35",
   "metadata": {},
   "outputs": [],
   "source": [
    "# Step 3: Build the Multivariate LSTM Model\n",
    "class MultivariateLSTMModel(nn.Module):\n",
    "    def __init__(self, input_size=5, hidden_layer_size=100, output_size=1):\n",
    "        super(MultivariateLSTMModel, self).__init__()\n",
    "        self.hidden_layer_size = hidden_layer_size\n",
    "        self.lstm = nn.LSTM(input_size, hidden_layer_size, batch_first=True)\n",
    "        self.linear = nn.Linear(hidden_layer_size, output_size)\n",
    "\n",
    "    def forward(self, input_seq):\n",
    "        lstm_out, _ = self.lstm(input_seq)\n",
    "        predictions = self.linear(lstm_out[:, -1, :])  # Use the output from the last time step\n",
    "        return predictions"
   ]
  },
  {
   "cell_type": "code",
   "execution_count": 67,
   "id": "3b910c6b-f1f4-4e6b-a1d7-f4236d034ac3",
   "metadata": {},
   "outputs": [],
   "source": [
    "def train_model(model, train_loader, epochs=10, lr=0.001, device='cpu', save_path='best_model.pth'):\n",
    "    model.to(device)\n",
    "    loss_function = nn.MSELoss()\n",
    "    optimizer = torch.optim.Adam(model.parameters(), lr=lr)\n",
    "\n",
    "    model.train()\n",
    "    min_loss = float('inf')  # Initialize min_loss to infinity\n",
    "    for epoch in range(epochs):\n",
    "        epoch_loss = 0\n",
    "        for seq, labels in train_loader:\n",
    "            seq = seq.to(device)\n",
    "            labels = labels.to(device)\n",
    "\n",
    "            optimizer.zero_grad()\n",
    "\n",
    "            y_pred = model(seq)\n",
    "            loss = loss_function(y_pred, labels)\n",
    "            loss.backward()\n",
    "            optimizer.step()\n",
    "\n",
    "            epoch_loss += loss.item()\n",
    "\n",
    "        average_loss = epoch_loss / len(train_loader)\n",
    "        if (epoch+1) % 50 == 0 :\n",
    "            print(f'Epoch {epoch+1}/{epochs}, Loss: {average_loss:.6f}')\n",
    "\n",
    "        # Check if the current average loss is less than the minimum loss\n",
    "        if average_loss < min_loss:\n",
    "            min_loss = average_loss\n",
    "            torch.save(model.state_dict(), save_path)  # Save the model with the lowest loss\n",
    "            print(f'Saved model with lowest loss: {min_loss:.6f}')"
   ]
  },
  {
   "cell_type": "code",
   "execution_count": 68,
   "id": "b5689e9b-b589-4f91-a397-b97abd309495",
   "metadata": {},
   "outputs": [],
   "source": [
    "# Step 5: Evaluate the Model\n",
    "def evaluate_model(model, test_loader, target_scaler, model_path='best_model.pth', device='cpu'):\n",
    "    # Load the model parameter\n",
    "    with open('best_model.pth', 'rb') as f:\n",
    "        model.load_state_dict(torch.load(f))\n",
    "    # model.load_state_dict(torch.load(model_path,  map_location=device))\n",
    "    model.to(device)\n",
    "    model.eval()\n",
    "\n",
    "    predictions = []\n",
    "    actuals = []\n",
    "\n",
    "    with torch.no_grad():\n",
    "        for seq, labels in test_loader:\n",
    "            seq = seq.to(device)\n",
    "            labels = labels.to(device)\n",
    "\n",
    "            y_pred = model(seq)\n",
    "            predictions.append(y_pred.cpu().numpy())\n",
    "            actuals.append(labels.cpu().numpy())\n",
    "\n",
    "    # Concatenate all batches\n",
    "    predictions = np.concatenate(predictions, axis=0)\n",
    "    actuals = np.concatenate(actuals, axis=0)\n",
    "\n",
    "    # Inverse transform to original scale\n",
    "    predictions = target_scaler.inverse_transform(predictions)\n",
    "    actuals = target_scaler.inverse_transform(actuals)\n",
    "\n",
    "    return predictions, actuals\n"
   ]
  },
  {
   "cell_type": "code",
   "execution_count": 69,
   "id": "4688cbff-9531-4055-a650-663a0c40960b",
   "metadata": {},
   "outputs": [],
   "source": [
    "def plot_predictions(predictions, actuals, num_plots=100):\n",
    "    plt.figure(figsize=(12,6))\n",
    "    plt.plot(actuals[:num_plots], label='Actual Value', color='blue')\n",
    "    plt.plot(predictions[:num_plots], label='Predicted Value', color='red')\n",
    "    plt.title(f'{data.columns.tolist()} Prediction')\n",
    "    plt.xlabel('Time')\n",
    "    plt.ylabel('Value')\n",
    "    plt.legend()\n",
    "    plt.show()"
   ]
  },
  {
   "cell_type": "code",
   "execution_count": 70,
   "id": "4fe94f10-9f31-4a3b-bddc-54e90eaa0686",
   "metadata": {},
   "outputs": [
    {
     "name": "stdout",
     "output_type": "stream",
     "text": [
      "Using device: cuda\n",
      "Multivariate data preprocessing completed.\n",
      "Multivariate model initialized.\n"
     ]
    }
   ],
   "source": [
    "epochs = 500\n",
    "lr = 0.001\n",
    "device = torch.device(\"cuda\" if torch.cuda.is_available() else \"cpu\")\n",
    "print(f'Using device: {device}')\n",
    "\n",
    "# Preprocess Data for Multivariate Model\n",
    "scaler_multi, target_scaler_multi, train_loader_multi, test_loader_multi = scaler, target_scaler, train_loader, test_loader\n",
    "print(\"Multivariate data preprocessing completed.\")\n",
    "\n",
    "# Initialize the Multivariate Model\n",
    "multivariate_model = MultivariateLSTMModel(input_size=5)  # Input size is 5 (Open, High, Low, Close, Volume)\n",
    "print(\"Multivariate model initialized.\")"
   ]
  },
  {
   "cell_type": "code",
   "execution_count": 71,
   "id": "a9ef4d07-6672-4880-a254-6bc28b33e59b",
   "metadata": {},
   "outputs": [
    {
     "name": "stdout",
     "output_type": "stream",
     "text": [
      "Starting multivariate model training...\n",
      "Saved model with lowest loss: 0.090670\n",
      "Saved model with lowest loss: 0.015335\n",
      "Saved model with lowest loss: 0.015131\n",
      "Saved model with lowest loss: 0.014845\n",
      "Saved model with lowest loss: 0.014824\n",
      "Saved model with lowest loss: 0.014680\n",
      "Saved model with lowest loss: 0.014640\n",
      "Saved model with lowest loss: 0.014614\n",
      "Saved model with lowest loss: 0.014605\n",
      "Saved model with lowest loss: 0.014495\n",
      "Saved model with lowest loss: 0.014488\n",
      "Epoch 50/500, Loss: 0.014747\n",
      "Saved model with lowest loss: 0.014439\n",
      "Saved model with lowest loss: 0.014394\n",
      "Saved model with lowest loss: 0.014385\n",
      "Saved model with lowest loss: 0.014345\n",
      "Saved model with lowest loss: 0.014319\n",
      "Saved model with lowest loss: 0.014269\n",
      "Epoch 100/500, Loss: 0.014344\n",
      "Saved model with lowest loss: 0.014249\n",
      "Saved model with lowest loss: 0.014222\n",
      "Saved model with lowest loss: 0.014202\n",
      "Saved model with lowest loss: 0.014186\n",
      "Saved model with lowest loss: 0.014097\n",
      "Saved model with lowest loss: 0.014048\n",
      "Epoch 150/500, Loss: 0.014253\n",
      "Saved model with lowest loss: 0.014019\n",
      "Saved model with lowest loss: 0.014014\n",
      "Saved model with lowest loss: 0.013877\n",
      "Saved model with lowest loss: 0.013817\n",
      "Saved model with lowest loss: 0.013719\n",
      "Saved model with lowest loss: 0.013699\n",
      "Saved model with lowest loss: 0.013529\n",
      "Saved model with lowest loss: 0.013227\n",
      "Epoch 200/500, Loss: 0.013846\n",
      "Saved model with lowest loss: 0.013045\n",
      "Saved model with lowest loss: 0.013025\n",
      "Saved model with lowest loss: 0.012984\n",
      "Saved model with lowest loss: 0.012793\n",
      "Saved model with lowest loss: 0.012771\n",
      "Saved model with lowest loss: 0.012709\n",
      "Saved model with lowest loss: 0.012539\n",
      "Saved model with lowest loss: 0.012486\n",
      "Saved model with lowest loss: 0.012482\n",
      "Saved model with lowest loss: 0.012388\n",
      "Saved model with lowest loss: 0.012316\n",
      "Epoch 250/500, Loss: 0.013011\n",
      "Saved model with lowest loss: 0.012297\n",
      "Saved model with lowest loss: 0.012199\n",
      "Saved model with lowest loss: 0.012141\n",
      "Saved model with lowest loss: 0.012121\n",
      "Saved model with lowest loss: 0.012079\n",
      "Saved model with lowest loss: 0.012016\n",
      "Saved model with lowest loss: 0.011978\n",
      "Epoch 300/500, Loss: 0.012189\n",
      "Saved model with lowest loss: 0.011946\n",
      "Saved model with lowest loss: 0.011936\n",
      "Saved model with lowest loss: 0.011900\n",
      "Saved model with lowest loss: 0.011789\n",
      "Saved model with lowest loss: 0.011697\n",
      "Saved model with lowest loss: 0.011685\n",
      "Saved model with lowest loss: 0.011571\n",
      "Saved model with lowest loss: 0.011513\n",
      "Saved model with lowest loss: 0.011462\n",
      "Saved model with lowest loss: 0.011364\n",
      "Saved model with lowest loss: 0.011113\n",
      "Epoch 350/500, Loss: 0.011054\n",
      "Saved model with lowest loss: 0.011054\n",
      "Saved model with lowest loss: 0.010764\n",
      "Saved model with lowest loss: 0.010398\n",
      "Saved model with lowest loss: 0.010329\n",
      "Saved model with lowest loss: 0.010089\n",
      "Saved model with lowest loss: 0.009984\n",
      "Saved model with lowest loss: 0.009856\n",
      "Saved model with lowest loss: 0.009676\n",
      "Saved model with lowest loss: 0.009468\n",
      "Saved model with lowest loss: 0.009460\n",
      "Saved model with lowest loss: 0.009276\n",
      "Saved model with lowest loss: 0.009119\n",
      "Saved model with lowest loss: 0.008862\n",
      "Saved model with lowest loss: 0.008673\n",
      "Saved model with lowest loss: 0.008671\n",
      "Saved model with lowest loss: 0.008397\n",
      "Epoch 400/500, Loss: 0.008823\n",
      "Saved model with lowest loss: 0.008211\n",
      "Saved model with lowest loss: 0.007801\n",
      "Saved model with lowest loss: 0.007637\n",
      "Saved model with lowest loss: 0.007611\n",
      "Saved model with lowest loss: 0.007539\n",
      "Saved model with lowest loss: 0.007445\n",
      "Saved model with lowest loss: 0.007421\n",
      "Saved model with lowest loss: 0.007271\n",
      "Saved model with lowest loss: 0.007134\n",
      "Saved model with lowest loss: 0.007039\n",
      "Saved model with lowest loss: 0.006673\n",
      "Saved model with lowest loss: 0.006557\n",
      "Saved model with lowest loss: 0.006110\n",
      "Saved model with lowest loss: 0.005873\n",
      "Saved model with lowest loss: 0.005754\n",
      "Saved model with lowest loss: 0.005621\n",
      "Saved model with lowest loss: 0.005435\n",
      "Saved model with lowest loss: 0.004998\n",
      "Saved model with lowest loss: 0.004954\n",
      "Saved model with lowest loss: 0.004741\n",
      "Saved model with lowest loss: 0.004604\n",
      "Saved model with lowest loss: 0.004294\n",
      "Saved model with lowest loss: 0.004284\n",
      "Saved model with lowest loss: 0.004189\n",
      "Saved model with lowest loss: 0.004083\n",
      "Epoch 450/500, Loss: 0.004147\n",
      "Saved model with lowest loss: 0.003722\n",
      "Saved model with lowest loss: 0.003657\n",
      "Saved model with lowest loss: 0.003631\n",
      "Saved model with lowest loss: 0.003604\n",
      "Saved model with lowest loss: 0.003461\n",
      "Saved model with lowest loss: 0.003309\n",
      "Saved model with lowest loss: 0.003198\n",
      "Saved model with lowest loss: 0.002862\n",
      "Saved model with lowest loss: 0.002628\n",
      "Saved model with lowest loss: 0.002600\n",
      "Saved model with lowest loss: 0.002325\n",
      "Saved model with lowest loss: 0.002225\n",
      "Saved model with lowest loss: 0.002084\n",
      "Saved model with lowest loss: 0.002069\n",
      "Saved model with lowest loss: 0.002060\n",
      "Saved model with lowest loss: 0.001971\n",
      "Saved model with lowest loss: 0.001877\n",
      "Saved model with lowest loss: 0.001834\n",
      "Saved model with lowest loss: 0.001697\n",
      "Saved model with lowest loss: 0.001599\n",
      "Saved model with lowest loss: 0.001531\n",
      "Epoch 500/500, Loss: 0.002025\n",
      "Multivariate model training completed.\n"
     ]
    }
   ],
   "source": [
    "# Train the Multivariate Model\n",
    "print(\"Starting multivariate model training...\")\n",
    "train_model(multivariate_model, train_loader_multi, epochs, lr, device)\n",
    "print(\"Multivariate model training completed.\")"
   ]
  },
  {
   "cell_type": "code",
   "execution_count": 72,
   "id": "58957ee1-eb1f-4961-90a2-781cf69e4c58",
   "metadata": {
    "scrolled": true
   },
   "outputs": [
    {
     "name": "stdout",
     "output_type": "stream",
     "text": [
      "Evaluating the multivariate model...\n",
      "Multivariate model evaluation completed.\n",
      "Plotting the results...\n"
     ]
    },
    {
     "name": "stderr",
     "output_type": "stream",
     "text": [
      "C:\\Users\\user\\AppData\\Local\\Temp\\ipykernel_2148\\2747113322.py:5: FutureWarning: You are using `torch.load` with `weights_only=False` (the current default value), which uses the default pickle module implicitly. It is possible to construct malicious pickle data which will execute arbitrary code during unpickling (See https://github.com/pytorch/pytorch/blob/main/SECURITY.md#untrusted-models for more details). In a future release, the default value for `weights_only` will be flipped to `True`. This limits the functions that could be executed during unpickling. Arbitrary objects will no longer be allowed to be loaded via this mode unless they are explicitly allowlisted by the user via `torch.serialization.add_safe_globals`. We recommend you start setting `weights_only=True` for any use case where you don't have full control of the loaded file. Please open an issue on GitHub for any issues related to this experimental feature.\n",
      "  model.load_state_dict(torch.load(f))\n"
     ]
    },
    {
     "data": {
      "image/png": "[encoded data removed]",
      "text/plain": [
       "<Figure size 1200x600 with 1 Axes>"
      ]
     },
     "metadata": {},
     "output_type": "display_data"
    }
   ],
   "source": [
    "# Evaluate the Multivariate Model\n",
    "print(\"Evaluating the multivariate model...\")\n",
    "predictions_multi, actuals_multi = evaluate_model(multivariate_model, test_loader_multi, target_scaler_multi, device)\n",
    "print(\"Multivariate model evaluation completed.\")\n",
    "print(\"Plotting the results...\")\n",
    "plot_predictions(predictions_multi, actuals_multi, num_plots=5000)"
   ]
  },
  {
   "cell_type": "code",
   "execution_count": null,
   "id": "274d2d4c-e9e9-4177-983c-9e60d6b1fc06",
   "metadata": {},
   "outputs": [],
   "source": []
  },
  {
   "cell_type": "code",
   "execution_count": null,
   "id": "4650e896-acbe-41ef-82a7-710a4d3c9403",
   "metadata": {},
   "outputs": [],
   "source": []
  }
 ],
 "metadata": {
  "kernelspec": {
   "display_name": "Python 3 (ipykernel)",
   "language": "python",
   "name": "python3"
  },
  "language_info": {
   "codemirror_mode": {
    "name": "ipython",
    "version": 3
   },
   "file_extension": ".py",
   "mimetype": "text/x-python",
   "name": "python",
   "nbconvert_exporter": "python",
   "pygments_lexer": "ipython3",
   "version": "3.12.3"
  }
 },
 "nbformat": 4,
 "nbformat_minor": 5
}
