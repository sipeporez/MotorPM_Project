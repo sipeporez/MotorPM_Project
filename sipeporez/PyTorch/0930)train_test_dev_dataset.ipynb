{
 "cells": [
  {
   "cell_type": "code",
   "execution_count": 24,
   "id": "987db926-5645-41d8-9917-fddd45b44ac8",
   "metadata": {},
   "outputs": [],
   "source": [
    "import pandas as pd"
   ]
  },
  {
   "cell_type": "markdown",
   "id": "ee12f6c6-7219-448f-acfb-72a6812a47a4",
   "metadata": {},
   "source": [
    "## 날짜 기준 12개씩 묶어서 처리"
   ]
  },
  {
   "cell_type": "code",
   "execution_count": 2,
   "id": "fd8e2fdc-10dd-4596-afae-a3926fa198a3",
   "metadata": {},
   "outputs": [],
   "source": [
    "# df = pd.read_csv('data/5528_spec.csv')\n",
    "# df['created_at_datetime'] = pd.to_datetime(df['created_at'], unit='s', utc=True).dt.tz_convert('Asia/Seoul')\n",
    "\n",
    "# # Extract the date part only\n",
    "# df['date'] = df['created_at_datetime'].dt.date\n",
    "\n",
    "# # Group by date and count occurrences\n",
    "# date_counts = df.groupby('date').size()\n",
    "\n",
    "# # Filter dates with fewer than 12 occurrences\n",
    "# dates_with_less_than_12 = date_counts[date_counts != 12]\n",
    "\n",
    "# print(dates_with_less_than_12)\n",
    "\n",
    "# # 날짜에서 12개 미만이거나 초과되는 데이터를 추출하여 삭제\n",
    "# dates_to_drop = dates_with_less_than_12.index\n",
    "\n",
    "# # df에서 해당 날짜들에 해당하는 행을 제거\n",
    "# df_cleaned = df[~df['created_at_datetime'].dt.date.isin(dates_to_drop)]\n",
    "\n",
    "# # 파일로 저장\n",
    "# df_cleaned.to_csv('5528_droped_data.csv', index=False)"
   ]
  },
  {
   "cell_type": "markdown",
   "id": "edc21eec-2136-4497-9e48-483f0d9da67f",
   "metadata": {},
   "source": [
    "### 12일씩 날짜로 묶인 csv 파일 로드"
   ]
  },
  {
   "cell_type": "code",
   "execution_count": 19,
   "id": "dd99974f-5238-49ce-922f-89b5ffb9c290",
   "metadata": {},
   "outputs": [],
   "source": [
    "df = pd.read_csv('data/5528_droped_data.csv')"
   ]
  },
  {
   "cell_type": "markdown",
   "id": "d02fa9e2-ebc8-49a5-83de-f40ca5f81bc8",
   "metadata": {},
   "source": [
    "### 각 열의 문자열을 쉼표로 구분하여 float list로 변환"
   ]
  },
  {
   "cell_type": "code",
   "execution_count": 5,
   "id": "83f714ec-f97b-46ce-be15-c70ae41ea1b0",
   "metadata": {},
   "outputs": [],
   "source": [
    "df['spectrum_x_amp'] = df['spectrum_x_amp'].apply(lambda x: [float(i) for i in x.split(',')])\n",
    "df['spectrum_y_amp'] = df['spectrum_y_amp'].apply(lambda x: [float(i) for i in x.split(',')])\n",
    "df['spectrum_z_amp'] = df['spectrum_z_amp'].apply(lambda x: [float(i) for i in x.split(',')])"
   ]
  },
  {
   "cell_type": "markdown",
   "id": "d7e8dd49-e66c-49f0-8799-c22c5674078e",
   "metadata": {},
   "source": [
    "### 인덱스 기준으로 12개씩 그룹화"
   ]
  },
  {
   "cell_type": "code",
   "execution_count": 6,
   "id": "7d912d53-2926-4101-911f-02b940322737",
   "metadata": {},
   "outputs": [],
   "source": [
    "grouped_df = df.groupby(df.index // 12).apply(lambda x: x.reset_index(drop=True))"
   ]
  },
  {
   "cell_type": "code",
   "execution_count": 7,
   "id": "08246f78-4501-4319-a3f6-4ae1c4f2541c",
   "metadata": {},
   "outputs": [],
   "source": [
    "normal_df = grouped_df[grouped_df['imbalance_health'] == 1]\n",
    "error_df = grouped_df[grouped_df['imbalance_health'] != 1]"
   ]
  },
  {
   "cell_type": "code",
   "execution_count": 9,
   "id": "e40da588-cf1a-4e39-8a8e-f79943bbbc93",
   "metadata": {},
   "outputs": [],
   "source": [
    "# normal_df = normal_df.drop(columns=['date', 'asset_id','time','imbalance_health', 'misalignment_health', 'looseness_health', 'bearing_health'])\n",
    "normal_df = normal_df.drop(columns=['date', 'asset_id','time','misalignment_health', 'looseness_health', 'bearing_health'])"
   ]
  },
  {
   "cell_type": "code",
   "execution_count": 10,
   "id": "2148dd04-81e7-4a0c-b8e6-5233304761fc",
   "metadata": {},
   "outputs": [],
   "source": [
    "# error_df = error_df.drop(columns=['date','asset_id','time','imbalance_health','misalignment_health', 'looseness_health', 'bearing_health'])\n",
    "error_df = error_df.drop(columns=['date','asset_id','time','misalignment_health', 'looseness_health', 'bearing_health'])"
   ]
  },
  {
   "cell_type": "code",
   "execution_count": 12,
   "id": "e1fe0639-ac20-48ad-a570-72844f02b366",
   "metadata": {},
   "outputs": [],
   "source": [
    "train_normal = pd.concat([normal_df.iloc[:372], normal_df.iloc[780:-408]]) # 나머지\n",
    "dev_normal = normal_df.iloc[372:780]\n",
    "test_normal = normal_df.iloc[-408:]"
   ]
  },
  {
   "cell_type": "code",
   "execution_count": 13,
   "id": "6517a25d-3e57-4910-b55a-67de6ecd619e",
   "metadata": {},
   "outputs": [],
   "source": [
    "train_error = pd.concat([error_df.iloc[:60], error_df.iloc[96:-36]]) # 나머지\n",
    "dev_error = error_df.iloc[60:96] # 3월~4월\n",
    "test_error = error_df.iloc[-36:] # 7월"
   ]
  },
  {
   "cell_type": "code",
   "execution_count": 302,
   "id": "419ecac0-1749-4baa-b046-95461c30161b",
   "metadata": {},
   "outputs": [],
   "source": [
    "# normal_df.to_json('normal_df.json', orient='records')"
   ]
  },
  {
   "cell_type": "code",
   "execution_count": 303,
   "id": "6b7bd8de-d86b-4aaf-b4f1-b12b250a371e",
   "metadata": {},
   "outputs": [],
   "source": [
    "# error_df.to_json('error_df.json', orient='records')"
   ]
  },
  {
   "cell_type": "markdown",
   "id": "bd9d37da-e227-4fc2-a4ae-677401a858df",
   "metadata": {},
   "source": [
    "### hist 데이터 기준 날짜 인덱스 붙이기"
   ]
  },
  {
   "cell_type": "code",
   "execution_count": 26,
   "id": "9da94fe9-3076-42df-b571-a410a0c10fb8",
   "metadata": {},
   "outputs": [],
   "source": [
    "import pandas as pd\n",
    "\n",
    "def groupping_data(df_data):\n",
    "    df_data['created_at_datetime']=pd.to_datetime(df_data['created_at_datetime'])\n",
    "    df_data['new_date'] = (df_data['created_at_datetime'] + pd.Timedelta(days=1)).dt.date\n",
    "    # df_data.loc[:, 'created_at_datetime'] = pd.to_datetime(df_data['created_at_datetime'])\n",
    "    # df_data.loc[:, 'new_date'] = (df_data['created_at_datetime'] + pd.Timedelta(days=1)).dt.date\n",
    "    df = df_data\n",
    "    \n",
    "    nv = df['new_date']\n",
    "    nv = nv.reset_index(drop=True)\n",
    "    nv = nv.groupby(nv.index // 12).first()\n",
    "    ni = pd.MultiIndex.from_product([nv, range(12)],names=['date', 'cnt'])\n",
    "\n",
    "    df.index = ni\n",
    "    df = df.drop(columns=['created_at_datetime','new_date'])\n",
    "\n",
    "    return df"
   ]
  },
  {
   "cell_type": "code",
   "execution_count": 15,
   "id": "0fe625d2-8d10-472b-b4aa-9876bf574ced",
   "metadata": {
    "scrolled": true
   },
   "outputs": [
    {
     "name": "stderr",
     "output_type": "stream",
     "text": [
      "C:\\Users\\user\\AppData\\Local\\Temp\\ipykernel_13200\\1234166630.py:2: SettingWithCopyWarning: \n",
      "A value is trying to be set on a copy of a slice from a DataFrame.\n",
      "Try using .loc[row_indexer,col_indexer] = value instead\n",
      "\n",
      "See the caveats in the documentation: https://pandas.pydata.org/pandas-docs/stable/user_guide/indexing.html#returning-a-view-versus-a-copy\n",
      "  df_data['created_at_datetime']=pd.to_datetime(df_data['created_at_datetime'])\n",
      "C:\\Users\\user\\AppData\\Local\\Temp\\ipykernel_13200\\1234166630.py:3: SettingWithCopyWarning: \n",
      "A value is trying to be set on a copy of a slice from a DataFrame.\n",
      "Try using .loc[row_indexer,col_indexer] = value instead\n",
      "\n",
      "See the caveats in the documentation: https://pandas.pydata.org/pandas-docs/stable/user_guide/indexing.html#returning-a-view-versus-a-copy\n",
      "  df_data['new_date'] = (df_data['created_at_datetime'] + pd.Timedelta(days=1)).dt.date\n",
      "C:\\Users\\user\\AppData\\Local\\Temp\\ipykernel_13200\\1234166630.py:2: SettingWithCopyWarning: \n",
      "A value is trying to be set on a copy of a slice from a DataFrame.\n",
      "Try using .loc[row_indexer,col_indexer] = value instead\n",
      "\n",
      "See the caveats in the documentation: https://pandas.pydata.org/pandas-docs/stable/user_guide/indexing.html#returning-a-view-versus-a-copy\n",
      "  df_data['created_at_datetime']=pd.to_datetime(df_data['created_at_datetime'])\n",
      "C:\\Users\\user\\AppData\\Local\\Temp\\ipykernel_13200\\1234166630.py:3: SettingWithCopyWarning: \n",
      "A value is trying to be set on a copy of a slice from a DataFrame.\n",
      "Try using .loc[row_indexer,col_indexer] = value instead\n",
      "\n",
      "See the caveats in the documentation: https://pandas.pydata.org/pandas-docs/stable/user_guide/indexing.html#returning-a-view-versus-a-copy\n",
      "  df_data['new_date'] = (df_data['created_at_datetime'] + pd.Timedelta(days=1)).dt.date\n"
     ]
    }
   ],
   "source": [
    "train_normal = groupping_data(train_normal)\n",
    "dev_normal = groupping_data(dev_normal)\n",
    "test_normal = groupping_data(test_normal)"
   ]
  },
  {
   "cell_type": "markdown",
   "id": "8b6ad650-e66e-4f4c-9d78-d7ee60df865f",
   "metadata": {},
   "source": [
    "## csv 파일로 저장 후 로드 테스트"
   ]
  },
  {
   "cell_type": "code",
   "execution_count": 37,
   "id": "c42b4c9b-37ab-46cb-9bc3-6b5eb77a9565",
   "metadata": {},
   "outputs": [],
   "source": [
    "def save_df_to_csv(dfs):\n",
    "    for df in dfs:\n",
    "        df_name = [name for name, value in globals().items() if value is df][0]\n",
    "        df.to_csv(f\"5528_spec_{df_name}.csv\", index=True)"
   ]
  },
  {
   "cell_type": "code",
   "execution_count": 38,
   "id": "640d2917-8309-450b-a1f0-d039f4704a1a",
   "metadata": {},
   "outputs": [],
   "source": [
    "save_df_to_csv([train_normal, dev_normal, test_normal, train_error, test_error, dev_error])"
   ]
  },
  {
   "cell_type": "code",
   "execution_count": 2,
   "id": "df47d1a7-1dd0-48fd-aa2c-97f896bea2a1",
   "metadata": {},
   "outputs": [],
   "source": [
    "import pandas as pd"
   ]
  },
  {
   "cell_type": "code",
   "execution_count": 3,
   "id": "18686233-e095-4c33-85bb-ce365dbb1730",
   "metadata": {},
   "outputs": [],
   "source": [
    "train_normal = pd.read_csv(\"5528_spec_train_normal.csv\", header=[0], index_col=[0,1])\n",
    "test_normal = pd.read_csv(\"5528_spec_test_normal.csv\", header=[0], index_col=[0,1])\n",
    "dev_normal = pd.read_csv(\"5528_spec_dev_normal.csv\", header=[0], index_col=[0,1])\n",
    "train_error = pd.read_csv(\"5528_spec_train_error.csv\", header=[0], index_col=[0,1])\n",
    "test_error = pd.read_csv(\"5528_spec_test_error.csv\", header=[0], index_col=[0,1])\n",
    "dev_error = pd.read_csv(\"5528_spec_dev_error.csv\", header=[0], index_col=[0,1])"
   ]
  },
  {
   "cell_type": "code",
   "execution_count": 4,
   "id": "c4a6bc81-d09a-4a1d-99b6-c3b5781b3168",
   "metadata": {},
   "outputs": [
    {
     "data": {
      "text/html": [
       "<div>\n",
       "<style scoped>\n",
       "    .dataframe tbody tr th:only-of-type {\n",
       "        vertical-align: middle;\n",
       "    }\n",
       "\n",
       "    .dataframe tbody tr th {\n",
       "        vertical-align: top;\n",
       "    }\n",
       "\n",
       "    .dataframe thead th {\n",
       "        text-align: right;\n",
       "    }\n",
       "</style>\n",
       "<table border=\"1\" class=\"dataframe\">\n",
       "  <thead>\n",
       "    <tr style=\"text-align: right;\">\n",
       "      <th></th>\n",
       "      <th></th>\n",
       "      <th>created_at</th>\n",
       "      <th>spectrum_x_amp</th>\n",
       "      <th>spectrum_y_amp</th>\n",
       "      <th>spectrum_z_amp</th>\n",
       "      <th>imbalance_health</th>\n",
       "    </tr>\n",
       "    <tr>\n",
       "      <th>date</th>\n",
       "      <th>cnt</th>\n",
       "      <th></th>\n",
       "      <th></th>\n",
       "      <th></th>\n",
       "      <th></th>\n",
       "      <th></th>\n",
       "    </tr>\n",
       "  </thead>\n",
       "  <tbody>\n",
       "    <tr>\n",
       "      <th rowspan=\"5\" valign=\"top\">2024-01-12</th>\n",
       "      <th>0</th>\n",
       "      <td>1704901985</td>\n",
       "      <td>[0.00042537287034367515, 0.0006416402772945482...</td>\n",
       "      <td>[0.00020635396946099019, 0.0003100558571815329...</td>\n",
       "      <td>[0.0002770334279662072, 0.0004462952954874889,...</td>\n",
       "      <td>1.0</td>\n",
       "    </tr>\n",
       "    <tr>\n",
       "      <th>1</th>\n",
       "      <td>1704909194</td>\n",
       "      <td>[0.0004952475768906472, 0.00046743998424794654...</td>\n",
       "      <td>[0.00016051611590231604, 0.0001113571030668683...</td>\n",
       "      <td>[0.00029144869690031743, 0.0003112218193772041...</td>\n",
       "      <td>1.0</td>\n",
       "    </tr>\n",
       "    <tr>\n",
       "      <th>2</th>\n",
       "      <td>1704916397</td>\n",
       "      <td>[0.00024951111178828035, 0.0002839992925661564...</td>\n",
       "      <td>[9.14235290461346e-05, 0.00010227322932295558,...</td>\n",
       "      <td>[0.00018883640812350743, 0.0003188173517410369...</td>\n",
       "      <td>1.0</td>\n",
       "    </tr>\n",
       "    <tr>\n",
       "      <th>3</th>\n",
       "      <td>1704923605</td>\n",
       "      <td>[1.0507872185707666e-05, 6.886010749249397e-05...</td>\n",
       "      <td>[0.00015404194614079104, 0.0002930843035366268...</td>\n",
       "      <td>[0.00039784871799657633, 0.0005350226945562514...</td>\n",
       "      <td>1.0</td>\n",
       "    </tr>\n",
       "    <tr>\n",
       "      <th>4</th>\n",
       "      <td>1704930808</td>\n",
       "      <td>[0.0004678164019078649, 0.0013137867109838262,...</td>\n",
       "      <td>[0.0012457594683349597, 0.002439545756240494, ...</td>\n",
       "      <td>[0.0007305390559110608, 0.0005454625258034126,...</td>\n",
       "      <td>1.0</td>\n",
       "    </tr>\n",
       "    <tr>\n",
       "      <th>...</th>\n",
       "      <th>...</th>\n",
       "      <td>...</td>\n",
       "      <td>...</td>\n",
       "      <td>...</td>\n",
       "      <td>...</td>\n",
       "      <td>...</td>\n",
       "    </tr>\n",
       "    <tr>\n",
       "      <th rowspan=\"5\" valign=\"top\">2024-07-17</th>\n",
       "      <th>7</th>\n",
       "      <td>1721109738</td>\n",
       "      <td>[3.794711177547792e-06, 8.360340058540437e-05,...</td>\n",
       "      <td>[5.158602416061172e-05, 0.0001335283417852297,...</td>\n",
       "      <td>[0.00015860936179732686, 0.0002492915112495947...</td>\n",
       "      <td>1.0</td>\n",
       "    </tr>\n",
       "    <tr>\n",
       "      <th>8</th>\n",
       "      <td>1721116946</td>\n",
       "      <td>[0.0017597530997779602, 0.003434518442116838, ...</td>\n",
       "      <td>[0.000855532724403828, 0.0010382324043795453, ...</td>\n",
       "      <td>[0.00010025577400239155, 0.0006600100497244673...</td>\n",
       "      <td>1.0</td>\n",
       "    </tr>\n",
       "    <tr>\n",
       "      <th>9</th>\n",
       "      <td>1721124149</td>\n",
       "      <td>[0.00015344175072115685, 0.0002784958419638431...</td>\n",
       "      <td>[0.00015782670045063344, 0.0002841484978428752...</td>\n",
       "      <td>[0.00020409381617228793, 0.0004203363820861177...</td>\n",
       "      <td>1.0</td>\n",
       "    </tr>\n",
       "    <tr>\n",
       "      <th>10</th>\n",
       "      <td>1721131358</td>\n",
       "      <td>[2.2816951087818676e-05, 0.0002381990981198192...</td>\n",
       "      <td>[6.2306003242324115e-06, 0.0001890299722825689...</td>\n",
       "      <td>[0.00020007279946498342, 0.0002049642939436726...</td>\n",
       "      <td>1.0</td>\n",
       "    </tr>\n",
       "    <tr>\n",
       "      <th>11</th>\n",
       "      <td>1721138561</td>\n",
       "      <td>[8.39292907789931e-05, 0.00013756733161201487,...</td>\n",
       "      <td>[0.00011150408848274958, 0.0001686535261631363...</td>\n",
       "      <td>[7.352716542191543e-05, 0.00027507572462698884...</td>\n",
       "      <td>1.0</td>\n",
       "    </tr>\n",
       "  </tbody>\n",
       "</table>\n",
       "<p>1332 rows × 5 columns</p>\n",
       "</div>"
      ],
      "text/plain": [
       "                created_at                                     spectrum_x_amp  \\\n",
       "date       cnt                                                                  \n",
       "2024-01-12 0    1704901985  [0.00042537287034367515, 0.0006416402772945482...   \n",
       "           1    1704909194  [0.0004952475768906472, 0.00046743998424794654...   \n",
       "           2    1704916397  [0.00024951111178828035, 0.0002839992925661564...   \n",
       "           3    1704923605  [1.0507872185707666e-05, 6.886010749249397e-05...   \n",
       "           4    1704930808  [0.0004678164019078649, 0.0013137867109838262,...   \n",
       "...                    ...                                                ...   \n",
       "2024-07-17 7    1721109738  [3.794711177547792e-06, 8.360340058540437e-05,...   \n",
       "           8    1721116946  [0.0017597530997779602, 0.003434518442116838, ...   \n",
       "           9    1721124149  [0.00015344175072115685, 0.0002784958419638431...   \n",
       "           10   1721131358  [2.2816951087818676e-05, 0.0002381990981198192...   \n",
       "           11   1721138561  [8.39292907789931e-05, 0.00013756733161201487,...   \n",
       "\n",
       "                                                   spectrum_y_amp  \\\n",
       "date       cnt                                                      \n",
       "2024-01-12 0    [0.00020635396946099019, 0.0003100558571815329...   \n",
       "           1    [0.00016051611590231604, 0.0001113571030668683...   \n",
       "           2    [9.14235290461346e-05, 0.00010227322932295558,...   \n",
       "           3    [0.00015404194614079104, 0.0002930843035366268...   \n",
       "           4    [0.0012457594683349597, 0.002439545756240494, ...   \n",
       "...                                                           ...   \n",
       "2024-07-17 7    [5.158602416061172e-05, 0.0001335283417852297,...   \n",
       "           8    [0.000855532724403828, 0.0010382324043795453, ...   \n",
       "           9    [0.00015782670045063344, 0.0002841484978428752...   \n",
       "           10   [6.2306003242324115e-06, 0.0001890299722825689...   \n",
       "           11   [0.00011150408848274958, 0.0001686535261631363...   \n",
       "\n",
       "                                                   spectrum_z_amp  \\\n",
       "date       cnt                                                      \n",
       "2024-01-12 0    [0.0002770334279662072, 0.0004462952954874889,...   \n",
       "           1    [0.00029144869690031743, 0.0003112218193772041...   \n",
       "           2    [0.00018883640812350743, 0.0003188173517410369...   \n",
       "           3    [0.00039784871799657633, 0.0005350226945562514...   \n",
       "           4    [0.0007305390559110608, 0.0005454625258034126,...   \n",
       "...                                                           ...   \n",
       "2024-07-17 7    [0.00015860936179732686, 0.0002492915112495947...   \n",
       "           8    [0.00010025577400239155, 0.0006600100497244673...   \n",
       "           9    [0.00020409381617228793, 0.0004203363820861177...   \n",
       "           10   [0.00020007279946498342, 0.0002049642939436726...   \n",
       "           11   [7.352716542191543e-05, 0.00027507572462698884...   \n",
       "\n",
       "                imbalance_health  \n",
       "date       cnt                    \n",
       "2024-01-12 0                 1.0  \n",
       "           1                 1.0  \n",
       "           2                 1.0  \n",
       "           3                 1.0  \n",
       "           4                 1.0  \n",
       "...                          ...  \n",
       "2024-07-17 7                 1.0  \n",
       "           8                 1.0  \n",
       "           9                 1.0  \n",
       "           10                1.0  \n",
       "           11                1.0  \n",
       "\n",
       "[1332 rows x 5 columns]"
      ]
     },
     "execution_count": 4,
     "metadata": {},
     "output_type": "execute_result"
    }
   ],
   "source": [
    "train_normal"
   ]
  },
  {
   "cell_type": "code",
   "execution_count": 5,
   "id": "960d181f-d36d-44fd-b257-b70f44d44151",
   "metadata": {},
   "outputs": [],
   "source": [
    "import csv_to_tensor as ct\n",
    "train_normal = ct.PostProcessing(\"5528_spec_train_normal.csv\")\n",
    "test_normal = ct.PostProcessing(\"5528_spec_test_normal.csv\")\n",
    "dev_normal = ct.PostProcessing(\"5528_spec_dev_normal.csv\")\n",
    "train_error = ct.PostProcessing(\"5528_spec_train_error.csv\")\n",
    "test_error = ct.PostProcessing(\"5528_spec_test_error.csv\")\n",
    "dev_error = ct.PostProcessing(\"5528_spec_dev_error.csv\")"
   ]
  },
  {
   "cell_type": "code",
   "execution_count": 6,
   "id": "248d2b81-65da-4103-876e-543febed92da",
   "metadata": {},
   "outputs": [],
   "source": [
    "import pandas as pd\n",
    "import torch\n",
    "from itertools import chain\n",
    "\n",
    "def PostProcessing_Reg(file_name, cols=['spectrum_x_amp', 'spectrum_y_amp', 'spectrum_z_amp']):\n",
    "    \"\"\"  Index=True 로 저장된 csv 파일을 전처리하여 stack 된 tensor 반환\n",
    "\n",
    "    file_name : 파일 경로\n",
    "    cols : 컬럼 리스트, 기본값) ['spectrum_x_amp', 'spectrum_y_amp', 'spectrum_z_amp']\n",
    "    \"\"\"\n",
    "    # csv 파일 로드\n",
    "    df = pd.read_csv(file_name, header=[0], index_col=[0, 1])\n",
    "    \n",
    "    # 각 행의 리스트를 병합, 첫번째 데이터는 버림\n",
    "    for col in cols:\n",
    "        df[col] = df[col].apply(lambda x: [float(j) for j in x.replace('[', '').replace(']', '').split(',')][1:])\n",
    "    \n",
    "    # 각 컬럼의 데이터를 병합\n",
    "    new_df = df[cols].apply(lambda x: list(chain.from_iterable(x)), axis=1)\n",
    "\n",
    "    # 라벨링용 imbalance_health 처리\n",
    "    imb = df['imbalance_health']\n",
    "    imb = imb.reset_index(drop=True)\n",
    "    imb = imb.groupby(imb.index // 12).first()\n",
    "    \n",
    "    # 그룹별로 데이터를 모아서 텐서로 변환하고 스택\n",
    "    tensors = [torch.tensor(item) for item in new_df.groupby(level=0).apply(lambda x: [item for sublist in x for item in sublist])]\n",
    "    \n",
    "    # 텐서들을 스택\n",
    "    result = torch.stack(tensors)\n",
    "\n",
    "    return result, imb\n"
   ]
  },
  {
   "cell_type": "code",
   "execution_count": 11,
   "id": "f9222d20-1175-401e-81f9-5bca302dfe68",
   "metadata": {},
   "outputs": [],
   "source": [
    "train_normal, im =PostProcessing_Reg(\"5528_spec_train_normal.csv\")\n",
    "train_error, im = PostProcessing_Reg(\"5528_spec_train_error.csv\")"
   ]
  },
  {
   "cell_type": "code",
   "execution_count": 12,
   "id": "96a96f46-2706-4429-ac61-d99159ab7c99",
   "metadata": {},
   "outputs": [
    {
     "data": {
      "text/plain": [
       "(tensor([[1.5478e-04, 1.2810e-04, 8.3613e-05,  ..., 3.9515e-04, 1.9020e-04,\n",
       "          2.5388e-05],\n",
       "         [1.1565e-04, 1.6415e-04, 1.0496e-04,  ..., 6.5325e-04, 4.9004e-04,\n",
       "          1.0035e-04],\n",
       "         [2.0032e-04, 1.5923e-04, 1.6927e-04,  ..., 5.9720e-04, 7.9742e-04,\n",
       "          8.2897e-04],\n",
       "         ...,\n",
       "         [1.1860e-04, 7.7795e-05, 1.0226e-04,  ..., 2.1402e-03, 1.8804e-03,\n",
       "          1.6231e-03],\n",
       "         [9.9313e-05, 1.4456e-04, 2.2368e-04,  ..., 5.0263e-04, 5.0777e-04,\n",
       "          5.9311e-04],\n",
       "         [3.7712e-04, 4.5022e-04, 4.5768e-04,  ..., 3.3496e-04, 3.8365e-04,\n",
       "          1.2905e-04]]),\n",
       " 0    0.924009\n",
       " 1    0.878773\n",
       " 2    0.939328\n",
       " 3    0.888119\n",
       " 4    0.857143\n",
       " 5    0.639635\n",
       " 6    0.850000\n",
       " 7    0.836673\n",
       " 8    0.925000\n",
       " 9    0.950000\n",
       " Name: imbalance_health, dtype: float64)"
      ]
     },
     "execution_count": 12,
     "metadata": {},
     "output_type": "execute_result"
    }
   ],
   "source": [
    "train_error, im"
   ]
  },
  {
   "cell_type": "code",
   "execution_count": 13,
   "id": "715f8691-0444-4356-b605-3641a7d0c8ca",
   "metadata": {},
   "outputs": [
    {
     "data": {
      "text/plain": [
       "10"
      ]
     },
     "execution_count": 13,
     "metadata": {},
     "output_type": "execute_result"
    }
   ],
   "source": [
    "len(train_error)"
   ]
  },
  {
   "cell_type": "code",
   "execution_count": 14,
   "id": "46e22293-65c4-4ce5-850e-8c5899f40e3e",
   "metadata": {},
   "outputs": [
    {
     "data": {
      "text/plain": [
       "10"
      ]
     },
     "execution_count": 14,
     "metadata": {},
     "output_type": "execute_result"
    }
   ],
   "source": [
    "len(im)"
   ]
  },
  {
   "cell_type": "markdown",
   "id": "3fd57c29-0853-46f8-8ee1-ca6229bfab87",
   "metadata": {},
   "source": [
    "## 라벨링 -> 이진분류"
   ]
  },
  {
   "cell_type": "code",
   "execution_count": 21,
   "id": "11bcbd25-aaea-4b4f-906f-ba34274577ab",
   "metadata": {},
   "outputs": [],
   "source": [
    "import torch\n",
    "def Labeling_data_cls(normal_data, error_data):\n",
    "    # 데이터 레이블 생성\n",
    "    normal_labels = torch.ones(normal_data.size(0), dtype=torch.long)  # 정상 데이터 레이블 (1)\n",
    "    error_labels = torch.zeros(error_data.size(0), dtype=torch.long)  # 비정상 데이터 레이블 (0)\n",
    "    \n",
    "    # 데이터 결합\n",
    "    combined_data = torch.cat((normal_data, error_data), dim=0)\n",
    "    combined_labels = torch.cat((normal_labels, error_labels), dim=0)\n",
    "\n",
    "    return combined_data, combined_labels"
   ]
  },
  {
   "cell_type": "markdown",
   "id": "b7a0f42e-5fc3-4fd1-b8e1-142fea309166",
   "metadata": {},
   "source": [
    "## 라벨링 -> 회귀"
   ]
  },
  {
   "cell_type": "code",
   "execution_count": 15,
   "id": "cba7660d-33d7-48ee-aa8d-c869d981903c",
   "metadata": {},
   "outputs": [],
   "source": [
    "import torch\n",
    "def Labeling_data_reg(normal_data, error_data, imb):\n",
    "    # 데이터 레이블 생성\n",
    "    normal_labels = torch.ones(normal_data.size(0), dtype=torch.long)  # 정상 데이터 레이블 (1)\n",
    "    error_labels = torch.tensor(imb.values, dtype=torch.float32)  # 비정상 데이터 레이블 (0)\n",
    "    \n",
    "    # 데이터 결합\n",
    "    combined_data = torch.cat((normal_data, error_data), dim=0)\n",
    "    combined_labels = torch.cat((normal_labels, error_labels), dim=0)\n",
    "\n",
    "    return combined_data, combined_labels"
   ]
  },
  {
   "cell_type": "code",
   "execution_count": 16,
   "id": "f102eaa9-b5ef-467c-ab18-502b03226b05",
   "metadata": {},
   "outputs": [],
   "source": [
    "combined_data, label = Labeling_data_reg(train_normal, train_error, im)"
   ]
  },
  {
   "cell_type": "code",
   "execution_count": 17,
   "id": "0facdfa7-d716-4758-b64a-784311c29921",
   "metadata": {},
   "outputs": [
    {
     "data": {
      "text/plain": [
       "tensor([[6.4164e-04, 6.9671e-04, 4.5043e-04,  ..., 3.1335e-05, 1.6753e-04,\n",
       "         2.6539e-04],\n",
       "        [5.7142e-05, 5.6895e-05, 3.8271e-05,  ..., 1.9522e-04, 3.5067e-04,\n",
       "         3.5810e-04],\n",
       "        [2.7202e-04, 4.8636e-04, 5.3246e-04,  ..., 5.2438e-03, 1.7740e-03,\n",
       "         1.1917e-03],\n",
       "        ...,\n",
       "        [1.1860e-04, 7.7795e-05, 1.0226e-04,  ..., 2.1402e-03, 1.8804e-03,\n",
       "         1.6231e-03],\n",
       "        [9.9313e-05, 1.4456e-04, 2.2368e-04,  ..., 5.0263e-04, 5.0777e-04,\n",
       "         5.9311e-04],\n",
       "        [3.7712e-04, 4.5022e-04, 4.5768e-04,  ..., 3.3496e-04, 3.8365e-04,\n",
       "         1.2905e-04]])"
      ]
     },
     "execution_count": 17,
     "metadata": {},
     "output_type": "execute_result"
    }
   ],
   "source": [
    "combined_data"
   ]
  },
  {
   "cell_type": "code",
   "execution_count": 18,
   "id": "72032be9-e99a-43ee-b143-fb92394a0718",
   "metadata": {},
   "outputs": [
    {
     "data": {
      "text/plain": [
       "tensor([1.0000, 1.0000, 1.0000, 1.0000, 1.0000, 1.0000, 1.0000, 1.0000, 1.0000,\n",
       "        1.0000, 1.0000, 1.0000, 1.0000, 1.0000, 1.0000, 1.0000, 1.0000, 1.0000,\n",
       "        1.0000, 1.0000, 1.0000, 1.0000, 1.0000, 1.0000, 1.0000, 1.0000, 1.0000,\n",
       "        1.0000, 1.0000, 1.0000, 1.0000, 1.0000, 1.0000, 1.0000, 1.0000, 1.0000,\n",
       "        1.0000, 1.0000, 1.0000, 1.0000, 1.0000, 1.0000, 1.0000, 1.0000, 1.0000,\n",
       "        1.0000, 1.0000, 1.0000, 1.0000, 1.0000, 1.0000, 1.0000, 1.0000, 1.0000,\n",
       "        1.0000, 1.0000, 1.0000, 1.0000, 1.0000, 1.0000, 1.0000, 1.0000, 1.0000,\n",
       "        1.0000, 1.0000, 1.0000, 1.0000, 1.0000, 1.0000, 1.0000, 1.0000, 1.0000,\n",
       "        1.0000, 1.0000, 1.0000, 1.0000, 1.0000, 1.0000, 1.0000, 1.0000, 1.0000,\n",
       "        1.0000, 1.0000, 1.0000, 1.0000, 1.0000, 1.0000, 1.0000, 1.0000, 1.0000,\n",
       "        1.0000, 1.0000, 1.0000, 1.0000, 1.0000, 1.0000, 1.0000, 1.0000, 1.0000,\n",
       "        1.0000, 1.0000, 1.0000, 1.0000, 1.0000, 1.0000, 1.0000, 1.0000, 1.0000,\n",
       "        1.0000, 1.0000, 1.0000, 0.9240, 0.8788, 0.9393, 0.8881, 0.8571, 0.6396,\n",
       "        0.8500, 0.8367, 0.9250, 0.9500])"
      ]
     },
     "execution_count": 18,
     "metadata": {},
     "output_type": "execute_result"
    }
   ],
   "source": [
    "label"
   ]
  },
  {
   "cell_type": "code",
   "execution_count": 23,
   "id": "c3ff91d7-ef3a-49b0-af9c-f644a5b61261",
   "metadata": {},
   "outputs": [],
   "source": [
    "train_data, train_label = Labeling_data_cls(train_normal, train_error)\n",
    "test_data, test_label = Labeling_data_cls(test_normal, test_error)\n",
    "dev_data, dev_label = Labeling_data_cls(dev_normal, dev_error)"
   ]
  },
  {
   "cell_type": "code",
   "execution_count": 18,
   "id": "eb1f753b-3260-4898-962f-a3c161446750",
   "metadata": {},
   "outputs": [
    {
     "data": {
      "text/plain": [
       "tensor([[6.4164e-04, 6.9671e-04, 4.5043e-04,  ..., 3.1335e-05, 1.6753e-04,\n",
       "         2.6539e-04],\n",
       "        [5.7142e-05, 5.6895e-05, 3.8271e-05,  ..., 1.9522e-04, 3.5067e-04,\n",
       "         3.5810e-04],\n",
       "        [2.7202e-04, 4.8636e-04, 5.3246e-04,  ..., 5.2438e-03, 1.7740e-03,\n",
       "         1.1917e-03],\n",
       "        ...,\n",
       "        [1.1860e-04, 7.7795e-05, 1.0226e-04,  ..., 2.1402e-03, 1.8804e-03,\n",
       "         1.6231e-03],\n",
       "        [9.9313e-05, 1.4456e-04, 2.2368e-04,  ..., 5.0263e-04, 5.0777e-04,\n",
       "         5.9311e-04],\n",
       "        [3.7712e-04, 4.5022e-04, 4.5768e-04,  ..., 3.3496e-04, 3.8365e-04,\n",
       "         1.2905e-04]])"
      ]
     },
     "execution_count": 18,
     "metadata": {},
     "output_type": "execute_result"
    }
   ],
   "source": [
    "train_data"
   ]
  },
  {
   "cell_type": "code",
   "execution_count": 19,
   "id": "7e643768-96bb-46e5-b877-771ddcebc4ea",
   "metadata": {},
   "outputs": [
    {
     "data": {
      "text/plain": [
       "tensor([1, 1, 1, 1, 1, 1, 1, 1, 1, 1, 1, 1, 1, 1, 1, 1, 1, 1, 1, 1, 1, 1, 1, 1,\n",
       "        1, 1, 1, 1, 1, 1, 1, 1, 1, 1, 1, 1, 1, 1, 1, 1, 1, 1, 1, 1, 1, 1, 1, 1,\n",
       "        1, 1, 1, 1, 1, 1, 1, 1, 1, 1, 1, 1, 1, 1, 1, 1, 1, 1, 1, 1, 1, 1, 1, 1,\n",
       "        1, 1, 1, 1, 1, 1, 1, 1, 1, 1, 1, 1, 1, 1, 1, 1, 1, 1, 1, 1, 1, 1, 1, 1,\n",
       "        1, 1, 1, 1, 1, 1, 1, 1, 1, 1, 1, 1, 1, 1, 1, 0, 0, 0, 0, 0, 0, 0, 0, 0,\n",
       "        0])"
      ]
     },
     "execution_count": 19,
     "metadata": {},
     "output_type": "execute_result"
    }
   ],
   "source": [
    "train_label"
   ]
  },
  {
   "cell_type": "code",
   "execution_count": 1,
   "id": "f5001ccd-dd80-4222-9e9b-e798f9efef36",
   "metadata": {},
   "outputs": [],
   "source": [
    "import ttt"
   ]
  },
  {
   "cell_type": "code",
   "execution_count": 4,
   "id": "b6af4494-88c9-4c8c-8a39-31ce7b67c565",
   "metadata": {},
   "outputs": [
    {
     "name": "stderr",
     "output_type": "stream",
     "text": [
      "C:\\MotorPM Project\\MotorPMData\\ttt.py:47: SettingWithCopyWarning: \n",
      "A value is trying to be set on a copy of a slice from a DataFrame.\n",
      "Try using .loc[row_indexer,col_indexer] = value instead\n",
      "\n",
      "See the caveats in the documentation: https://pandas.pydata.org/pandas-docs/stable/user_guide/indexing.html#returning-a-view-versus-a-copy\n",
      "  df[col] = df[col].apply(lambda x: [float(j) for j in x][1:])\n",
      "C:\\MotorPM Project\\MotorPMData\\ttt.py:47: SettingWithCopyWarning: \n",
      "A value is trying to be set on a copy of a slice from a DataFrame.\n",
      "Try using .loc[row_indexer,col_indexer] = value instead\n",
      "\n",
      "See the caveats in the documentation: https://pandas.pydata.org/pandas-docs/stable/user_guide/indexing.html#returning-a-view-versus-a-copy\n",
      "  df[col] = df[col].apply(lambda x: [float(j) for j in x][1:])\n",
      "C:\\MotorPM Project\\MotorPMData\\ttt.py:47: SettingWithCopyWarning: \n",
      "A value is trying to be set on a copy of a slice from a DataFrame.\n",
      "Try using .loc[row_indexer,col_indexer] = value instead\n",
      "\n",
      "See the caveats in the documentation: https://pandas.pydata.org/pandas-docs/stable/user_guide/indexing.html#returning-a-view-versus-a-copy\n",
      "  df[col] = df[col].apply(lambda x: [float(j) for j in x][1:])\n",
      "C:\\MotorPM Project\\MotorPMData\\ttt.py:47: SettingWithCopyWarning: \n",
      "A value is trying to be set on a copy of a slice from a DataFrame.\n",
      "Try using .loc[row_indexer,col_indexer] = value instead\n",
      "\n",
      "See the caveats in the documentation: https://pandas.pydata.org/pandas-docs/stable/user_guide/indexing.html#returning-a-view-versus-a-copy\n",
      "  df[col] = df[col].apply(lambda x: [float(j) for j in x][1:])\n"
     ]
    }
   ],
   "source": [
    "result = ttt.PostProcessing('data/5528_droped_data.csv', model_type='reg')"
   ]
  },
  {
   "cell_type": "code",
   "execution_count": 5,
   "id": "c929f723-8e21-4cd9-9d01-35d3473dc6ce",
   "metadata": {},
   "outputs": [
    {
     "data": {
      "text/plain": [
       "tensor([1.0000, 1.0000, 1.0000, 1.0000, 1.0000, 1.0000, 1.0000, 1.0000, 1.0000,\n",
       "        1.0000, 1.0000, 1.0000, 1.0000, 1.0000, 1.0000, 1.0000, 1.0000, 1.0000,\n",
       "        1.0000, 1.0000, 1.0000, 1.0000, 1.0000, 1.0000, 1.0000, 1.0000, 1.0000,\n",
       "        1.0000, 1.0000, 1.0000, 1.0000, 1.0000, 1.0000, 1.0000, 1.0000, 1.0000,\n",
       "        1.0000, 1.0000, 1.0000, 1.0000, 1.0000, 1.0000, 1.0000, 1.0000, 1.0000,\n",
       "        1.0000, 1.0000, 1.0000, 1.0000, 1.0000, 1.0000, 1.0000, 1.0000, 1.0000,\n",
       "        1.0000, 1.0000, 1.0000, 1.0000, 1.0000, 1.0000, 1.0000, 1.0000, 1.0000,\n",
       "        1.0000, 1.0000, 1.0000, 1.0000, 1.0000, 1.0000, 1.0000, 1.0000, 1.0000,\n",
       "        1.0000, 1.0000, 1.0000, 1.0000, 1.0000, 1.0000, 1.0000, 1.0000, 1.0000,\n",
       "        1.0000, 1.0000, 1.0000, 1.0000, 1.0000, 1.0000, 1.0000, 1.0000, 1.0000,\n",
       "        1.0000, 1.0000, 1.0000, 1.0000, 1.0000, 1.0000, 1.0000, 1.0000, 1.0000,\n",
       "        1.0000, 1.0000, 1.0000, 1.0000, 1.0000, 1.0000, 1.0000, 1.0000, 1.0000,\n",
       "        1.0000, 1.0000, 1.0000, 0.9240, 0.8788, 0.9393, 0.8881, 0.8571, 0.6396,\n",
       "        0.8500, 0.8367, 0.9250, 0.9500])"
      ]
     },
     "execution_count": 5,
     "metadata": {},
     "output_type": "execute_result"
    }
   ],
   "source": [
    "result[0][1]"
   ]
  },
  {
   "cell_type": "code",
   "execution_count": 6,
   "id": "186622a8-870a-43bc-b668-42780f40b038",
   "metadata": {},
   "outputs": [
    {
     "name": "stderr",
     "output_type": "stream",
     "text": [
      "C:\\MotorPM Project\\MotorPMData\\ttt.py:47: SettingWithCopyWarning: \n",
      "A value is trying to be set on a copy of a slice from a DataFrame.\n",
      "Try using .loc[row_indexer,col_indexer] = value instead\n",
      "\n",
      "See the caveats in the documentation: https://pandas.pydata.org/pandas-docs/stable/user_guide/indexing.html#returning-a-view-versus-a-copy\n",
      "  df[col] = df[col].apply(lambda x: [float(j) for j in x][1:])\n",
      "C:\\MotorPM Project\\MotorPMData\\ttt.py:47: SettingWithCopyWarning: \n",
      "A value is trying to be set on a copy of a slice from a DataFrame.\n",
      "Try using .loc[row_indexer,col_indexer] = value instead\n",
      "\n",
      "See the caveats in the documentation: https://pandas.pydata.org/pandas-docs/stable/user_guide/indexing.html#returning-a-view-versus-a-copy\n",
      "  df[col] = df[col].apply(lambda x: [float(j) for j in x][1:])\n",
      "C:\\MotorPM Project\\MotorPMData\\ttt.py:47: SettingWithCopyWarning: \n",
      "A value is trying to be set on a copy of a slice from a DataFrame.\n",
      "Try using .loc[row_indexer,col_indexer] = value instead\n",
      "\n",
      "See the caveats in the documentation: https://pandas.pydata.org/pandas-docs/stable/user_guide/indexing.html#returning-a-view-versus-a-copy\n",
      "  df[col] = df[col].apply(lambda x: [float(j) for j in x][1:])\n",
      "C:\\MotorPM Project\\MotorPMData\\ttt.py:47: SettingWithCopyWarning: \n",
      "A value is trying to be set on a copy of a slice from a DataFrame.\n",
      "Try using .loc[row_indexer,col_indexer] = value instead\n",
      "\n",
      "See the caveats in the documentation: https://pandas.pydata.org/pandas-docs/stable/user_guide/indexing.html#returning-a-view-versus-a-copy\n",
      "  df[col] = df[col].apply(lambda x: [float(j) for j in x][1:])\n"
     ]
    }
   ],
   "source": [
    "result2 = ttt.PostProcessing('data/5528_droped_data.csv', model_type='cls')"
   ]
  },
  {
   "cell_type": "code",
   "execution_count": 7,
   "id": "20428a11-2b7d-420a-bdf1-b289559d70f8",
   "metadata": {},
   "outputs": [
    {
     "data": {
      "text/plain": [
       "tensor([1, 1, 1, 1, 1, 1, 1, 1, 1, 1, 1, 1, 1, 1, 1, 1, 1, 1, 1, 1, 1, 1, 1, 1,\n",
       "        1, 1, 1, 1, 1, 1, 1, 1, 1, 1, 1, 1, 1, 1, 1, 1, 1, 1, 1, 1, 1, 1, 1, 1,\n",
       "        1, 1, 1, 1, 1, 1, 1, 1, 1, 1, 1, 1, 1, 1, 1, 1, 1, 1, 1, 1, 1, 1, 1, 1,\n",
       "        1, 1, 1, 1, 1, 1, 1, 1, 1, 1, 1, 1, 1, 1, 1, 1, 1, 1, 1, 1, 1, 1, 1, 1,\n",
       "        1, 1, 1, 1, 1, 1, 1, 1, 1, 1, 1, 1, 1, 1, 1, 0, 0, 0, 0, 0, 0, 0, 0, 0,\n",
       "        0])"
      ]
     },
     "execution_count": 7,
     "metadata": {},
     "output_type": "execute_result"
    }
   ],
   "source": [
    "result2[0][1]"
   ]
  },
  {
   "cell_type": "code",
   "execution_count": null,
   "id": "f9277421-ab71-4174-b6ec-828021aa12fe",
   "metadata": {},
   "outputs": [],
   "source": []
  }
 ],
 "metadata": {
  "kernelspec": {
   "display_name": "Python 3 (ipykernel)",
   "language": "python",
   "name": "python3"
  },
  "language_info": {
   "codemirror_mode": {
    "name": "ipython",
    "version": 3
   },
   "file_extension": ".py",
   "mimetype": "text/x-python",
   "name": "python",
   "nbconvert_exporter": "python",
   "pygments_lexer": "ipython3",
   "version": "3.12.3"
  }
 },
 "nbformat": 4,
 "nbformat_minor": 5
}
