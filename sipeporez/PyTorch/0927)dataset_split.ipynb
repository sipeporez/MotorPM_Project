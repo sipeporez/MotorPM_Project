{
 "cells": [
  {
   "cell_type": "code",
   "execution_count": 1,
   "id": "3f1a6007-04f8-4dcd-af5e-9b4ae974cfc9",
   "metadata": {},
   "outputs": [],
   "source": [
    "import time\n",
    "import torch\n",
    "from db_to_tensor import get_Lastest_Tensor\n",
    "torch.set_printoptions(precision=32, sci_mode=True) # 텐서 출력시 자릿수 표시 설정"
   ]
  },
  {
   "cell_type": "code",
   "execution_count": 2,
   "id": "a38272f2-3459-400b-910b-d6a7446eda94",
   "metadata": {},
   "outputs": [],
   "source": [
    "asset_id = '02dc4105-ca5e-4770-a6fc-d1fdff11fc1c'\n",
    "s = time.time()\n",
    "data = get_Lastest_Tensor(asset_id=asset_id)\n",
    "t = time.time() - s"
   ]
  },
  {
   "cell_type": "code",
   "execution_count": 1,
   "id": "b4ec9ed9-1bde-4052-8978-c8a248c5041f",
   "metadata": {},
   "outputs": [],
   "source": [
    "from csv_to_tensor import PostProcessing"
   ]
  },
  {
   "cell_type": "code",
   "execution_count": 31,
   "id": "cbf459f6-7244-441a-8fa4-dd65d6142ce6",
   "metadata": {},
   "outputs": [
    {
     "name": "stdout",
     "output_type": "stream",
     "text": [
      "Train data shape: torch.Size([156, 73728]), Train labels shape: torch.Size([156])\n",
      "Test data shape: torch.Size([39, 73728]), Test labels shape: torch.Size([39])\n"
     ]
    }
   ],
   "source": [
    "import torch\n",
    "\n",
    "# 정상 데이터와 비정상 데이터 텐서 생성 \n",
    "normal = PostProcessing(\"5528_spec_normal.csv\")\n",
    "error = PostProcessing(\"5528_spec_error.csv\")\n",
    "# 데이터 레이블 생성\n",
    "normal_labels = torch.zeros(normal.size(0), dtype=torch.long)  # 정상 데이터 레이블 (0)\n",
    "error_labels = torch.ones(error.size(0), dtype=torch.long)  # 비정상 데이터 레이블 (1)\n",
    "\n",
    "# 데이터 결합\n",
    "combined_data = torch.cat((normal, error), dim=0)  # shape: [195, 73728]\n",
    "combined_labels = torch.cat((normal_labels, error_labels), dim=0)  # shape: [195]\n",
    "\n",
    "# train_test_split 사용\n",
    "train_data, test_data, train_labels, test_labels = train_test_split(\n",
    "    combined_data,\n",
    "    combined_labels,\n",
    "    test_size=0.2,  # 20%를 테스트 데이터로 사용\n",
    "    random_state=42  # 랜덤 상태 설정 (재현 가능성)\n",
    ")\n",
    "\n",
    "# 필요에 따라 훈련 및 테스트 세트로 분할\n",
    "train_size = int(0.8 * shuffled_data.size(0))  # 80% 훈련 데이터\n",
    "train_data, test_data = shuffled_data[:train_size], shuffled_data[train_size:]\n",
    "train_labels, test_labels = shuffled_labels[:train_size], shuffled_labels[train_size:]\n",
    "\n",
    "# 결과 확인\n",
    "print(f'Train data shape: {train_data.shape}, Train labels shape: {train_labels.shape}')\n",
    "print(f'Test data shape: {test_data.shape}, Test labels shape: {test_labels.shape}')\n"
   ]
  },
  {
   "cell_type": "code",
   "execution_count": 1,
   "id": "f14d7f88-d2ec-41ef-991e-12457cfb49be",
   "metadata": {},
   "outputs": [],
   "source": [
    "from create_dataset import LabelingData\n",
    "from csv_to_tensor import PostProcessing"
   ]
  },
  {
   "cell_type": "code",
   "execution_count": 3,
   "id": "f0f4e40b-feaf-4a54-b325-34bae086b5b9",
   "metadata": {},
   "outputs": [],
   "source": [
    "normal = PostProcessing(\"5528_spec_normal.csv\")\n",
    "error = PostProcessing(\"5528_spec_error.csv\")"
   ]
  },
  {
   "cell_type": "code",
   "execution_count": 12,
   "id": "82c4fe0f-76c1-4cc8-99f0-5dbe744c3fa6",
   "metadata": {},
   "outputs": [],
   "source": [
    "X_train, X_test, y_train, y_test = LabelingData(normal, error, test_size=0.4,random_state=42)"
   ]
  },
  {
   "cell_type": "code",
   "execution_count": null,
   "id": "d087cf9d-1ed1-46d9-8931-7e1802582271",
   "metadata": {},
   "outputs": [],
   "source": []
  }
 ],
 "metadata": {
  "kernelspec": {
   "display_name": "Python 3 (ipykernel)",
   "language": "python",
   "name": "python3"
  },
  "language_info": {
   "codemirror_mode": {
    "name": "ipython",
    "version": 3
   },
   "file_extension": ".py",
   "mimetype": "text/x-python",
   "name": "python",
   "nbconvert_exporter": "python",
   "pygments_lexer": "ipython3",
   "version": "3.12.3"
  }
 },
 "nbformat": 4,
 "nbformat_minor": 5
}
